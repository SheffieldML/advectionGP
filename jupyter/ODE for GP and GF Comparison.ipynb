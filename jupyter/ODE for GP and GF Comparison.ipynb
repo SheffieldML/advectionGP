{
 "cells": [
  {
   "cell_type": "code",
   "execution_count": 1,
   "id": "163fa944",
   "metadata": {
    "scrolled": true
   },
   "outputs": [],
   "source": [
    "#numpy\n",
    "import numpy as np\n",
    "from numpy.random import multivariate_normal #For later example\n",
    "\n",
    "#advectionGP\n",
    "from advectionGP.models import AdjointSecondOrderODEModel as Model #Model module builds basic parts of the ODE problem, combines other classes into full model\n",
    "\n",
    "'''To use other models in the class, such as the Advection Diffusion Reaction model, \n",
    "replace \"AdjointSecondOrderODEModel\" in the line above with \"AdjointAdvectionDiffusionReaction\" model\n",
    "and adjust parameters as appropriate'''\n",
    "\n",
    "from advectionGP.sensors import FixedSensorModel #Builds sensor arrays to generate data for foward model or to generate observations for comparison\n",
    "from advectionGP.kernels import EQ #Generates exponentiated quadratic kernel approximation\n",
    "from advectionGP.test import TestKernels #Unit test model\n",
    "\n",
    "\n",
    "#Plotting tools\n",
    "import matplotlib.pyplot as plt\n",
    "import numpy.random as rd\n",
    "rd.seed(124)"
   ]
  },
  {
   "cell_type": "code",
   "execution_count": 2,
   "id": "b7b3ac6e",
   "metadata": {},
   "outputs": [],
   "source": [
    "avg=0.1 # time that an observation is taken for\n",
    "tlocL = np.linspace(0,9.9,20) # observation start times\n",
    "X= np.zeros((len(tlocL),2)) # initiate X\n",
    "# Build sensor locations\n",
    "X[:,0] = tlocL #lower time\n",
    "X[:,1] = X[:,0]+avg # upper time\n",
    "\n",
    "\n",
    "sensors = FixedSensorModel(X,0) # establish sensor model arguments are sensor locations and spatial averaging (not applicable in 1D case so set to 0)\n"
   ]
  },
  {
   "cell_type": "code",
   "execution_count": 3,
   "id": "b00b9654",
   "metadata": {},
   "outputs": [],
   "source": [
    "k_0 = -0.5 #Diffusion coefficient\n",
    "u=1\n",
    "eta=5\n",
    "noiseSD = 0.1 #Observation noise\n",
    "N_feat=2000 # number of features used to approximate ground truth GP\n",
    "boundary = ([0],[10])# edges of the grid - in units of time\n",
    "kForward = EQ(np.sqrt(0.6), 1) # generate EQ kernel arguments are lengthscale and variance\n",
    "res = [200] # grid size for time"
   ]
  },
  {
   "cell_type": "code",
   "execution_count": 4,
   "id": "22a09757",
   "metadata": {},
   "outputs": [],
   "source": [
    "m = Model(resolution=res,boundary=boundary,N_feat=N_feat,noiseSD=noiseSD,kernel=kForward,sensormodel=sensors,k_0=k_0,u=u,eta=eta) #initiate PDE model to build concentration\n",
    "\n",
    "dt,dt2,Nt = m.getGridStepSize() # useful numbers!\n",
    "\n",
    "z=np.random.normal(0,1.0,N_feat) # Generate z to compute source\n",
    "sourceGT=m.computeSourceFromPhi(z)# Compute ground truth source by approximating GP\n",
    "#sourceGT = np.ones(m.resolution)  # Example constant source\n",
    "concTrain=m.computeConcentration(sourceGT) # Compute concentration - runs ODE forward model\n",
    "yTrain= m.computeObservations(addNoise='TRUE') # Compute observations with noise uses m.sensormodel for observation locations"
   ]
  },
  {
   "cell_type": "code",
   "execution_count": 5,
   "id": "2e7af389",
   "metadata": {},
   "outputs": [
    {
     "name": "stdout",
     "output_type": "stream",
     "text": [
      "Calculating Adjoints...\n",
      "0/20 \r",
      "1/20 \r",
      "2/20 \r",
      "3/20 \r",
      "4/20 \r",
      "5/20 \r",
      "6/20 \r",
      "7/20 \r",
      "8/20 \r",
      "9/20 \r",
      "10/20 \r",
      "11/20 \r",
      "12/20 \r",
      "13/20 \r",
      "14/20 \r",
      "15/20 \r",
      "16/20 \r",
      "17/20 \r",
      "18/20 \r",
      "19/20 \r\n",
      "Calculating Phis...\n",
      "0/200 \r",
      "1/200 \r",
      "2/200 \r",
      "3/200 \r",
      "4/200 \r",
      "5/200 \r",
      "6/200 \r",
      "7/200 \r",
      "8/200 \r",
      "9/200 \r",
      "10/200 \r",
      "11/200 \r",
      "12/200 \r",
      "13/200 \r",
      "14/200 \r",
      "15/200 \r",
      "16/200 \r",
      "17/200 \r",
      "18/200 \r",
      "19/200 \r",
      "20/200 \r",
      "21/200 \r",
      "22/200 \r",
      "23/200 \r",
      "24/200 \r",
      "25/200 \r",
      "26/200 \r",
      "27/200 \r",
      "28/200 \r",
      "29/200 \r",
      "30/200 \r",
      "31/200 \r",
      "32/200 \r",
      "33/200 \r",
      "34/200 \r",
      "35/200 \r",
      "36/200 \r",
      "37/200 \r",
      "38/200 \r",
      "39/200 \r",
      "40/200 \r",
      "41/200 \r",
      "42/200 \r",
      "43/200 \r",
      "44/200 \r",
      "45/200 \r",
      "46/200 \r",
      "47/200 \r",
      "48/200 \r",
      "49/200 \r",
      "50/200 \r",
      "51/200 \r",
      "52/200 \r",
      "53/200 \r",
      "54/200 \r",
      "55/200 \r",
      "56/200 \r",
      "57/200 \r",
      "58/200 \r",
      "59/200 \r",
      "60/200 \r",
      "61/200 \r",
      "62/200 \r",
      "63/200 \r",
      "64/200 \r",
      "65/200 \r",
      "66/200 \r",
      "67/200 \r",
      "68/200 \r",
      "69/200 \r",
      "70/200 \r",
      "71/200 \r",
      "72/200 \r",
      "73/200 \r",
      "74/200 \r",
      "75/200 \r",
      "76/200 \r",
      "77/200 \r",
      "78/200 \r",
      "79/200 \r",
      "80/200 \r",
      "81/200 \r",
      "82/200 \r",
      "83/200 \r",
      "84/200 \r",
      "85/200 \r",
      "86/200 \r",
      "87/200 \r",
      "88/200 \r",
      "89/200 \r",
      "90/200 \r",
      "91/200 \r",
      "92/200 \r",
      "93/200 \r",
      "94/200 \r",
      "95/200 \r",
      "96/200 \r",
      "97/200 \r",
      "98/200 \r",
      "99/200 \r",
      "100/200 \r",
      "101/200 \r",
      "102/200 \r",
      "103/200 \r",
      "104/200 \r",
      "105/200 \r",
      "106/200 \r",
      "107/200 \r",
      "108/200 \r",
      "109/200 \r",
      "110/200 \r",
      "111/200 \r",
      "112/200 \r",
      "113/200 \r",
      "114/200 \r",
      "115/200 \r",
      "116/200 \r",
      "117/200 \r",
      "118/200 \r",
      "119/200 \r",
      "120/200 \r",
      "121/200 \r",
      "122/200 \r",
      "123/200 \r",
      "124/200 \r",
      "125/200 \r",
      "126/200 \r",
      "127/200 \r",
      "128/200 \r",
      "129/200 \r",
      "130/200 \r",
      "131/200 \r",
      "132/200 \r",
      "133/200 \r",
      "134/200 \r",
      "135/200 \r",
      "136/200 \r",
      "137/200 \r",
      "138/200 \r",
      "139/200 \r",
      "140/200 \r",
      "141/200 \r",
      "142/200 \r",
      "143/200 \r",
      "144/200 \r",
      "145/200 \r",
      "146/200 \r",
      "147/200 \r",
      "148/200 \r",
      "149/200 \r",
      "150/200 \r",
      "151/200 \r",
      "152/200 \r",
      "153/200 \r",
      "154/200 \r",
      "155/200 \r",
      "156/200 \r",
      "157/200 \r",
      "158/200 \r",
      "159/200 \r",
      "160/200 \r",
      "161/200 \r",
      "162/200 \r",
      "163/200 \r",
      "164/200 \r",
      "165/200 \r",
      "166/200 \r",
      "167/200 \r",
      "168/200 \r",
      "169/200 \r",
      "170/200 \r",
      "171/200 \r",
      "172/200 \r",
      "173/200 \r",
      "174/200 \r",
      "175/200 \r",
      "176/200 \r",
      "177/200 \r",
      "178/200 \r",
      "179/200 \r",
      "180/200 \r",
      "181/200 \r",
      "182/200 \r",
      "183/200 \r",
      "184/200 \r",
      "185/200 \r",
      "186/200 \r",
      "187/200 \r",
      "188/200 \r",
      "189/200 \r",
      "190/200 \r",
      "191/200 \r",
      "192/200 \r",
      "193/200 \r",
      "194/200 \r",
      "195/200 \r",
      "196/200 \r",
      "197/200 \r",
      "198/200 \r",
      "199/200 \r\n"
     ]
    }
   ],
   "source": [
    "N_feat =200 #Number of features used to infer the source\n",
    "kInverse = EQ(np.sqrt(0.6), 1) # Initiate kernel for inverse problem\n",
    "mInfer = Model(resolution=res,boundary=boundary,N_feat=N_feat,noiseSD=noiseSD,kernel=kInverse,sensormodel=sensors,k_0=k_0,u=u,eta=eta) #Initiate new model for inference\n",
    "mInfer.computeModelRegressors() # Compute regressor matrix \n",
    "meanZ, covZ = mInfer.computeZDistribution(yTrain) # Infers z vector mean and covariance using regressor matrix\n",
    "sourceInfer = mInfer.computeSourceFromPhi(meanZ) # Generates estimated source using mean of the inferred distribution\n",
    "concInfer=m.computeConcentration(sourceInfer) # Generates estimated concentration from inferred source"
   ]
  },
  {
   "cell_type": "code",
   "execution_count": 6,
   "id": "229fab3f",
   "metadata": {},
   "outputs": [
    {
     "data": {
      "image/png": "[encoded data removed]",
      "text/plain": [
       "<Figure size 432x288 with 1 Axes>"
      ]
     },
     "metadata": {
      "needs_background": "light"
     },
     "output_type": "display_data"
    }
   ],
   "source": [
    "source_samples = []\n",
    "conc_samples=[]    \n",
    "for z_samp in np.random.multivariate_normal(meanZ, covZ,200):\n",
    "    source_samples.append(mInfer.computeSourceFromPhi(z_samp))\n",
    "    conc_samples.append(mInfer.computeConcentration(mInfer.computeSourceFromPhi(z_samp)))\n",
    "source_samples=np.array(source_samples)\n",
    "conc_samples=np.array(conc_samples)\n",
    "\n",
    "source_lower_ci = np.percentile(source_samples,2.5,0)\n",
    "source_upper_ci = np.percentile(source_samples,97.5,0)\n",
    "source_mean = np.percentile(source_samples,50,0)\n",
    "\n",
    "conc_lower_ci = np.percentile(conc_samples,2.5,0)\n",
    "conc_upper_ci = np.percentile(conc_samples,97.5,0)\n",
    "conc_mean = np.percentile(conc_samples,50,0)\n",
    "\n",
    "xtest=np.arange(Nt)\n",
    "\n",
    "#plt.figure(figsize=(15, 10))\n",
    "\n",
    "plt.plot(xtest,sourceInfer,'b-')\n",
    "plt.plot(xtest,sourceGT,'r--')\n",
    "\n",
    "#plt.plot(xtest,source_samples.T,'g-',alpha=0.3)\n",
    "#plt.fill_between(xtest,s_z_l,s_z_upper,alpha=0.5)\n",
    "plt.fill_between(xtest,source_lower_ci,source_upper_ci,alpha=0.5)\n",
    "plt.legend(labels=[\"estimated source term\",\"True source term\"],fontsize=16)\n",
    "#plt.title(\"Source function \")\n",
    "plt.xlabel(\"Input, t\",fontsize=16)\n",
    "plt.ylabel(\"output, f(t)\",fontsize=16)\n",
    "plt.ylim((-6,6))\n",
    "#plt.ylim([-5,5])\n",
    "plt.show()"
   ]
  },
  {
   "cell_type": "code",
   "execution_count": 7,
   "id": "fbd12781",
   "metadata": {},
   "outputs": [],
   "source": [
    "sourceGTData = np.c_[m.coords,sourceGT]\n",
    "concGTData = np.c_[m.coords,concTrain]\n"
   ]
  },
  {
   "cell_type": "code",
   "execution_count": 11,
   "id": "d470ae94",
   "metadata": {},
   "outputs": [],
   "source": [
    "observations = np.c_[(X[:,1]+X[:,0])/2,concTrain[mInfer.getGridCoord((X[:,1]+X[:,0])/2)]]\n",
    "observationsNoisy = np.c_[(X[:,1]+X[:,0])/2,concTrain[mInfer.getGridCoord((X[:,1]+X[:,0])/2)]+ np.random.normal(0,noiseSD,20) ] "
   ]
  },
  {
   "cell_type": "code",
   "execution_count": 14,
   "id": "61f15700",
   "metadata": {},
   "outputs": [],
   "source": [
    "#np.savetxt(\"exactObservationsODEVar1.csv\", observations, delimiter=\",\")\n",
    "#np.savetxt(\"noisyObservationsODEVar1.csv\", observationsNoisy, delimiter=\",\")\n",
    "#np.savetxt(\"GroundTruthSourceCoordsODEVar1.csv\", sourceGTData, delimiter=\",\")\n",
    "#np.savetxt(\"GroundTruthConcCoordsODEVar1.csv\",concGTData, delimiter=\",\")"
   ]
  },
  {
   "cell_type": "code",
   "execution_count": 15,
   "id": "9062848c",
   "metadata": {
    "scrolled": true
   },
   "outputs": [
    {
     "data": {
      "text/plain": [
       "0.005565399731753398"
      ]
     },
     "execution_count": 15,
     "metadata": {},
     "output_type": "execute_result"
    }
   ],
   "source": [
    "np.mean((concInfer-concTrain)**2)"
   ]
  },
  {
   "cell_type": "code",
   "execution_count": 16,
   "id": "64893c66",
   "metadata": {},
   "outputs": [],
   "source": [
    "import GPy"
   ]
  },
  {
   "cell_type": "code",
   "execution_count": 17,
   "id": "a45bfdb0",
   "metadata": {},
   "outputs": [],
   "source": [
    "kGP = GPy.kern.RBF(1, name=\"rbf\")"
   ]
  },
  {
   "cell_type": "code",
   "execution_count": 18,
   "id": "e1efce60",
   "metadata": {},
   "outputs": [
    {
     "data": {
      "text/plain": [
       "array([[0.05      ],\n",
       "       [0.57105263],\n",
       "       [1.09210526],\n",
       "       [1.61315789],\n",
       "       [2.13421053],\n",
       "       [2.65526316],\n",
       "       [3.17631579],\n",
       "       [3.69736842],\n",
       "       [4.21842105],\n",
       "       [4.73947368],\n",
       "       [5.26052632],\n",
       "       [5.78157895],\n",
       "       [6.30263158],\n",
       "       [6.82368421],\n",
       "       [7.34473684],\n",
       "       [7.86578947],\n",
       "       [8.38684211],\n",
       "       [8.90789474],\n",
       "       [9.42894737],\n",
       "       [9.95      ]])"
      ]
     },
     "execution_count": 18,
     "metadata": {},
     "output_type": "execute_result"
    }
   ],
   "source": [
    "observationsNoisy[:,0][:,None]"
   ]
  },
  {
   "cell_type": "code",
   "execution_count": 19,
   "id": "9a930093",
   "metadata": {},
   "outputs": [
    {
     "data": {
      "text/html": [
       "<style type=\"text/css\">\n",
       ".pd{\n",
       "    font-family: \"Courier New\", Courier, monospace !important;\n",
       "    width: 100%;\n",
       "    padding: 3px;\n",
       "}\n",
       "</style>\n",
       "\n",
       "<p class=pd>\n",
       "<b>Model</b>: GP regression<br>\n",
       "<b>Objective</b>: 23.485428082178856<br>\n",
       "<b>Number of Parameters</b>: 3<br>\n",
       "<b>Number of Optimization Parameters</b>: 3<br>\n",
       "<b>Updates</b>: True<br>\n",
       "</p>\n",
       "<style type=\"text/css\">\n",
       ".tg  {font-family:\"Courier New\", Courier, monospace !important;padding:2px 3px;word-break:normal;border-collapse:collapse;border-spacing:0;border-color:#DCDCDC;margin:0px auto;width:100%;}\n",
       ".tg td{font-family:\"Courier New\", Courier, monospace !important;font-weight:bold;color:#444;background-color:#F7FDFA;border-style:solid;border-width:1px;overflow:hidden;word-break:normal;border-color:#DCDCDC;}\n",
       ".tg th{font-family:\"Courier New\", Courier, monospace !important;font-weight:normal;color:#fff;background-color:#26ADE4;border-style:solid;border-width:1px;overflow:hidden;word-break:normal;border-color:#DCDCDC;}\n",
       ".tg .tg-left{font-family:\"Courier New\", Courier, monospace !important;font-weight:normal;text-align:left;}\n",
       ".tg .tg-center{font-family:\"Courier New\", Courier, monospace !important;font-weight:normal;text-align:center;}\n",
       ".tg .tg-right{font-family:\"Courier New\", Courier, monospace !important;font-weight:normal;text-align:right;}\n",
       "</style>\n",
       "<table class=\"tg\"><tr><th><b>  GP_regression.         </b></th><th><b>value</b></th><th><b>constraints</b></th><th><b>priors</b></th></tr>\n",
       "<tr><td class=tg-left>  rbf.variance           </td><td class=tg-right>  1.0</td><td class=tg-center>    +ve    </td><td class=tg-center>      </td></tr>\n",
       "<tr><td class=tg-left>  rbf.lengthscale        </td><td class=tg-right>  1.0</td><td class=tg-center>    +ve    </td><td class=tg-center>      </td></tr>\n",
       "<tr><td class=tg-left>  Gaussian_noise.variance</td><td class=tg-right>  1.0</td><td class=tg-center>    +ve    </td><td class=tg-center>      </td></tr>\n",
       "</table>"
      ],
      "text/plain": [
       "<GPy.models.gp_regression.GPRegression at 0x292ac00db50>"
      ]
     },
     "execution_count": 19,
     "metadata": {},
     "output_type": "execute_result"
    }
   ],
   "source": [
    "mGP = GPy.models.GPRegression(observationsNoisy[:,0][:,None], observationsNoisy[:,1][:,None], kGP)\n",
    "mGP "
   ]
  },
  {
   "cell_type": "code",
   "execution_count": 20,
   "id": "03d166ab",
   "metadata": {},
   "outputs": [
    {
     "data": {
      "text/html": [
       "<style type=\"text/css\">\n",
       ".pd{\n",
       "    font-family: \"Courier New\", Courier, monospace !important;\n",
       "    width: 100%;\n",
       "    padding: 3px;\n",
       "}\n",
       "</style>\n",
       "\n",
       "<p class=pd>\n",
       "<b>Model</b>: GP regression<br>\n",
       "<b>Objective</b>: -2.910305577360715<br>\n",
       "<b>Number of Parameters</b>: 3<br>\n",
       "<b>Number of Optimization Parameters</b>: 3<br>\n",
       "<b>Updates</b>: True<br>\n",
       "</p>\n",
       "<style type=\"text/css\">\n",
       ".tg  {font-family:\"Courier New\", Courier, monospace !important;padding:2px 3px;word-break:normal;border-collapse:collapse;border-spacing:0;border-color:#DCDCDC;margin:0px auto;width:100%;}\n",
       ".tg td{font-family:\"Courier New\", Courier, monospace !important;font-weight:bold;color:#444;background-color:#F7FDFA;border-style:solid;border-width:1px;overflow:hidden;word-break:normal;border-color:#DCDCDC;}\n",
       ".tg th{font-family:\"Courier New\", Courier, monospace !important;font-weight:normal;color:#fff;background-color:#26ADE4;border-style:solid;border-width:1px;overflow:hidden;word-break:normal;border-color:#DCDCDC;}\n",
       ".tg .tg-left{font-family:\"Courier New\", Courier, monospace !important;font-weight:normal;text-align:left;}\n",
       ".tg .tg-center{font-family:\"Courier New\", Courier, monospace !important;font-weight:normal;text-align:center;}\n",
       ".tg .tg-right{font-family:\"Courier New\", Courier, monospace !important;font-weight:normal;text-align:right;}\n",
       "</style>\n",
       "<table class=\"tg\"><tr><th><b>  GP_regression.         </b></th><th><b>               value</b></th><th><b>constraints</b></th><th><b>priors</b></th></tr>\n",
       "<tr><td class=tg-left>  rbf.variance           </td><td class=tg-right> 0.06443693029332441</td><td class=tg-center>    +ve    </td><td class=tg-center>      </td></tr>\n",
       "<tr><td class=tg-left>  rbf.lengthscale        </td><td class=tg-right>  0.6652369726177714</td><td class=tg-center>    +ve    </td><td class=tg-center>      </td></tr>\n",
       "<tr><td class=tg-left>  Gaussian_noise.variance</td><td class=tg-right>0.010657701953297134</td><td class=tg-center>    +ve    </td><td class=tg-center>      </td></tr>\n",
       "</table>"
      ],
      "text/plain": [
       "<GPy.models.gp_regression.GPRegression at 0x292ac00db50>"
      ]
     },
     "execution_count": 20,
     "metadata": {},
     "output_type": "execute_result"
    }
   ],
   "source": [
    "mGP.optimize()\n",
    "mGP"
   ]
  },
  {
   "cell_type": "code",
   "execution_count": 21,
   "id": "4851d1fe",
   "metadata": {},
   "outputs": [],
   "source": [
    "meanGP, Cov = mGP.predict_noiseless(mInfer.coords, full_cov=False)"
   ]
  },
  {
   "cell_type": "code",
   "execution_count": 22,
   "id": "01258c6c",
   "metadata": {},
   "outputs": [
    {
     "data": {
      "text/plain": [
       "[<matplotlib.lines.Line2D at 0x292ad11f520>]"
      ]
     },
     "execution_count": 22,
     "metadata": {},
     "output_type": "execute_result"
    },
    {
     "data": {
      "image/png": "[encoded data removed]",
      "text/plain": [
       "<Figure size 432x288 with 1 Axes>"
      ]
     },
     "metadata": {
      "needs_background": "light"
     },
     "output_type": "display_data"
    }
   ],
   "source": [
    "plt.plot(meanGP)"
   ]
  },
  {
   "cell_type": "code",
   "execution_count": 23,
   "id": "20fd8fb5",
   "metadata": {},
   "outputs": [
    {
     "data": {
      "text/plain": [
       "[<matplotlib.lines.Line2D at 0x292ad154fa0>]"
      ]
     },
     "execution_count": 23,
     "metadata": {},
     "output_type": "execute_result"
    },
    {
     "data": {
      "image/png": "[encoded data removed]",
      "text/plain": [
       "<Figure size 432x288 with 1 Axes>"
      ]
     },
     "metadata": {
      "needs_background": "light"
     },
     "output_type": "display_data"
    }
   ],
   "source": [
    "plt.plot(concTrain)"
   ]
  },
  {
   "cell_type": "code",
   "execution_count": 24,
   "id": "92d3f265",
   "metadata": {},
   "outputs": [
    {
     "data": {
      "text/plain": [
       "0.005534518219915792"
      ]
     },
     "execution_count": 24,
     "metadata": {},
     "output_type": "execute_result"
    }
   ],
   "source": [
    "np.mean((meanGP.flatten()-concTrain)**2)"
   ]
  },
  {
   "cell_type": "code",
   "execution_count": 25,
   "id": "8c1d0d3a",
   "metadata": {},
   "outputs": [
    {
     "data": {
      "text/plain": [
       "0.005565399731753398"
      ]
     },
     "execution_count": 25,
     "metadata": {},
     "output_type": "execute_result"
    }
   ],
   "source": [
    "np.mean((concInfer-concTrain)**2)"
   ]
  },
  {
   "cell_type": "code",
   "execution_count": null,
   "id": "c9b1c1db",
   "metadata": {},
   "outputs": [],
   "source": []
  },
  {
   "cell_type": "code",
   "execution_count": null,
   "id": "12593807",
   "metadata": {},
   "outputs": [],
   "source": []
  },
  {
   "cell_type": "code",
   "execution_count": null,
   "id": "59503a41",
   "metadata": {},
   "outputs": [],
   "source": []
  }
 ],
 "metadata": {
  "kernelspec": {
   "display_name": "Python 3",
   "language": "python",
   "name": "python3"
  },
  "language_info": {
   "codemirror_mode": {
    "name": "ipython",
    "version": 3
   },
   "file_extension": ".py",
   "mimetype": "text/x-python",
   "name": "python",
   "nbconvert_exporter": "python",
   "pygments_lexer": "ipython3",
   "version": "3.8.8"
  }
 },
 "nbformat": 4,
 "nbformat_minor": 5
}
