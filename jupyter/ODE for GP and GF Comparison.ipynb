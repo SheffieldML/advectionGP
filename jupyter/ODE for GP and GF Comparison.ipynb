{
 "cells": [
  {
   "cell_type": "code",
   "execution_count": 1,
   "id": "163fa944",
   "metadata": {
    "scrolled": true
   },
   "outputs": [],
   "source": [
    "#numpy\n",
    "import numpy as np\n",
    "from numpy.random import multivariate_normal #For later example\n",
    "\n",
    "#advectionGP\n",
    "from advectionGP.models import AdjointSecondOrderODEModel as Model #Model module builds basic parts of the ODE problem, combines other classes into full model\n",
    "\n",
    "'''To use other models in the class, such as the Advection Diffusion Reaction model, \n",
    "replace \"AdjointSecondOrderODEModel\" in the line above with \"AdjointAdvectionDiffusionReaction\" model\n",
    "and adjust parameters as appropriate'''\n",
    "\n",
    "from advectionGP.sensors import FixedSensorModel #Builds sensor arrays to generate data for foward model or to generate observations for comparison\n",
    "from advectionGP.kernels import EQ #Generates exponentiated quadratic kernel approximation\n",
    "from advectionGP.test import TestKernels #Unit test model\n",
    "\n",
    "\n",
    "#Plotting tools\n",
    "import matplotlib.pyplot as plt\n",
    "import numpy.random as rd\n",
    "rd.seed(124)"
   ]
  },
  {
   "cell_type": "code",
   "execution_count": 2,
   "id": "b7b3ac6e",
   "metadata": {},
   "outputs": [],
   "source": [
    "avg=0.1 # time that an observation is taken for\n",
    "tlocL = np.linspace(0,9.9,20) # observation start times\n",
    "X= np.zeros((len(tlocL),2)) # initiate X\n",
    "# Build sensor locations\n",
    "X[:,0] = tlocL #lower time\n",
    "X[:,1] = X[:,0]+avg # upper time\n",
    "\n",
    "\n",
    "sensors = FixedSensorModel(X,0) # establish sensor model arguments are sensor locations and spatial averaging (not applicable in 1D case so set to 0)\n"
   ]
  },
  {
   "cell_type": "code",
   "execution_count": 3,
   "id": "b00b9654",
   "metadata": {},
   "outputs": [],
   "source": [
    "k_0 = -0.5 #Diffusion coefficient\n",
    "u=1\n",
    "eta=5\n",
    "noiseSD = 0.1 #Observation noise\n",
    "N_feat=2000 # number of features used to approximate ground truth GP\n",
    "boundary = ([0],[10])# edges of the grid - in units of time\n",
    "kForward = EQ(np.sqrt(0.6), 1) # generate EQ kernel arguments are lengthscale and variance\n",
    "res = [200] # grid size for time"
   ]
  },
  {
   "cell_type": "code",
   "execution_count": 4,
   "id": "22a09757",
   "metadata": {},
   "outputs": [],
   "source": [
    "m = Model(resolution=res,boundary=boundary,N_feat=N_feat,noiseSD=noiseSD,kernel=kForward,sensormodel=sensors,k_0=k_0,u=u,eta=eta) #initiate PDE model to build concentration\n",
    "\n",
    "dt,dt2,Nt = m.getGridStepSize() # useful numbers!\n",
    "\n",
    "z=np.random.normal(0,1.0,N_feat) # Generate z to compute source\n",
    "sourceGT=m.computeSourceFromPhi(z)# Compute ground truth source by approximating GP\n",
    "#sourceGT = np.ones(m.resolution)  # Example constant source\n",
    "concTrain=m.computeConcentration(sourceGT) # Compute concentration - runs ODE forward model\n",
    "yTrain= m.computeObservations(addNoise='TRUE') # Compute observations with noise uses m.sensormodel for observation locations"
   ]
  },
  {
   "cell_type": "code",
   "execution_count": 25,
   "id": "2e7af389",
   "metadata": {},
   "outputs": [
    {
     "name": "stdout",
     "output_type": "stream",
     "text": [
      "Calculating Adjoints...\n",
      "19/20 \n",
      "Calculating Phis...\n",
      "1999/2000 \n"
     ]
    }
   ],
   "source": [
    "N_feat =2000 #Number of features used to infer the source\n",
    "kInverse2 = EQ(np.sqrt(0.6), 1) # Initiate kernel for inverse problem\n",
    "mInfer = Model(resolution=res,boundary=boundary,N_feat=N_feat,noiseSD=noiseSD,kernel=kInverse2,sensormodel=sensors,k_0=k_0,u=u,eta=eta) #Initiate new model for inference\n",
    "mInfer.computeModelRegressors() # Compute regressor matrix \n",
    "meanZ, covZ = mInfer.computeZDistribution(yTrain) # Infers z vector mean and covariance using regressor matrix\n",
    "sourceInfer = mInfer.computeSourceFromPhi(meanZ) # Generates estimated source using mean of the inferred distribution\n",
    "concInfer=m.computeConcentration(sourceInfer) # Generates estimated concentration from inferred source"
   ]
  },
  {
   "cell_type": "code",
   "execution_count": 26,
   "id": "229fab3f",
   "metadata": {},
   "outputs": [
    {
     "data": {
      "image/png": "[encoded data removed]",
      "text/plain": [
       "<Figure size 432x288 with 1 Axes>"
      ]
     },
     "metadata": {
      "needs_background": "light"
     },
     "output_type": "display_data"
    }
   ],
   "source": [
    "source_samples = []\n",
    "conc_samples=[]    \n",
    "for z_samp in np.random.multivariate_normal(meanZ, covZ,200):\n",
    "    source_samples.append(mInfer.computeSourceFromPhi(z_samp))\n",
    "    conc_samples.append(mInfer.computeConcentration(mInfer.computeSourceFromPhi(z_samp)))\n",
    "source_samples=np.array(source_samples)\n",
    "conc_samples=np.array(conc_samples)\n",
    "\n",
    "source_lower_ci = np.percentile(source_samples,2.5,0)\n",
    "source_upper_ci = np.percentile(source_samples,97.5,0)\n",
    "source_mean = np.percentile(source_samples,50,0)\n",
    "\n",
    "conc_lower_ci = np.percentile(conc_samples,2.5,0)\n",
    "conc_upper_ci = np.percentile(conc_samples,97.5,0)\n",
    "conc_mean = np.percentile(conc_samples,50,0)\n",
    "\n",
    "xtest=np.arange(Nt)\n",
    "\n",
    "#plt.figure(figsize=(15, 10))\n",
    "\n",
    "plt.plot(xtest,sourceInfer,'b-')\n",
    "plt.plot(xtest,sourceGT,'r--')\n",
    "\n",
    "#plt.plot(xtest,source_samples.T,'g-',alpha=0.3)\n",
    "#plt.fill_between(xtest,s_z_l,s_z_upper,alpha=0.5)\n",
    "plt.fill_between(xtest,source_lower_ci,source_upper_ci,alpha=0.5)\n",
    "plt.legend(labels=[\"estimated source term\",\"True source term\"],fontsize=16)\n",
    "#plt.title(\"Source function \")\n",
    "plt.xlabel(\"Input, t\",fontsize=16)\n",
    "plt.ylabel(\"output, f(t)\",fontsize=16)\n",
    "plt.ylim((-6,6))\n",
    "#plt.ylim([-5,5])\n",
    "plt.show()"
   ]
  },
  {
   "cell_type": "code",
   "execution_count": 27,
   "id": "fbd12781",
   "metadata": {},
   "outputs": [],
   "source": [
    "sourceGTData = np.c_[m.coords,sourceGT]\n",
    "concGTData = np.c_[m.coords,concTrain]\n"
   ]
  },
  {
   "cell_type": "code",
   "execution_count": 28,
   "id": "d470ae94",
   "metadata": {},
   "outputs": [],
   "source": [
    "observations = np.c_[(X[:,1]+X[:,0])/2,concTrain[mInfer.getGridCoord((X[:,1]+X[:,0])/2)]]\n",
    "observationsNoisy = np.c_[(X[:,1]+X[:,0])/2,concTrain[mInfer.getGridCoord((X[:,1]+X[:,0])/2)]+ np.random.normal(0,noiseSD,20) ] "
   ]
  },
  {
   "cell_type": "code",
   "execution_count": 29,
   "id": "61f15700",
   "metadata": {},
   "outputs": [],
   "source": [
    "#np.savetxt(\"exactObservationsODEVar1.csv\", observations, delimiter=\",\")\n",
    "#np.savetxt(\"noisyObservationsODEVar1.csv\", observationsNoisy, delimiter=\",\")\n",
    "#np.savetxt(\"GroundTruthSourceCoordsODEVar1.csv\", sourceGTData, delimiter=\",\")\n",
    "#np.savetxt(\"GroundTruthConcCoordsODEVar1.csv\",concGTData, delimiter=\",\")"
   ]
  },
  {
   "cell_type": "code",
   "execution_count": 30,
   "id": "9062848c",
   "metadata": {
    "scrolled": true
   },
   "outputs": [
    {
     "data": {
      "text/plain": [
       "0.005747578593151186"
      ]
     },
     "execution_count": 30,
     "metadata": {},
     "output_type": "execute_result"
    }
   ],
   "source": [
    "np.mean((concInfer-concTrain)**2)"
   ]
  },
  {
   "cell_type": "code",
   "execution_count": 31,
   "id": "2610d4b3",
   "metadata": {},
   "outputs": [
    {
     "data": {
      "text/plain": [
       "0.08174106986416112"
      ]
     },
     "execution_count": 31,
     "metadata": {},
     "output_type": "execute_result"
    }
   ],
   "source": [
    "np.mean((sourceInfer-sourceGT)**2)"
   ]
  },
  {
   "cell_type": "code",
   "execution_count": 32,
   "id": "64893c66",
   "metadata": {},
   "outputs": [],
   "source": [
    "import GPy"
   ]
  },
  {
   "cell_type": "code",
   "execution_count": 33,
   "id": "a45bfdb0",
   "metadata": {},
   "outputs": [],
   "source": [
    "kGP = GPy.kern.RBF(1, name=\"rbf\")"
   ]
  },
  {
   "cell_type": "code",
   "execution_count": 34,
   "id": "e1efce60",
   "metadata": {},
   "outputs": [
    {
     "data": {
      "text/plain": [
       "array([[0.05      ],\n",
       "       [0.57105263],\n",
       "       [1.09210526],\n",
       "       [1.61315789],\n",
       "       [2.13421053],\n",
       "       [2.65526316],\n",
       "       [3.17631579],\n",
       "       [3.69736842],\n",
       "       [4.21842105],\n",
       "       [4.73947368],\n",
       "       [5.26052632],\n",
       "       [5.78157895],\n",
       "       [6.30263158],\n",
       "       [6.82368421],\n",
       "       [7.34473684],\n",
       "       [7.86578947],\n",
       "       [8.38684211],\n",
       "       [8.90789474],\n",
       "       [9.42894737],\n",
       "       [9.95      ]])"
      ]
     },
     "execution_count": 34,
     "metadata": {},
     "output_type": "execute_result"
    }
   ],
   "source": [
    "observationsNoisy[:,0][:,None]"
   ]
  },
  {
   "cell_type": "code",
   "execution_count": 35,
   "id": "9a930093",
   "metadata": {},
   "outputs": [
    {
     "data": {
      "text/html": [
       "<style type=\"text/css\">\n",
       ".pd{\n",
       "    font-family: \"Courier New\", Courier, monospace !important;\n",
       "    width: 100%;\n",
       "    padding: 3px;\n",
       "}\n",
       "</style>\n",
       "\n",
       "<p class=pd>\n",
       "<b>Model</b>: GP regression<br>\n",
       "<b>Objective</b>: 23.45637096072579<br>\n",
       "<b>Number of Parameters</b>: 3<br>\n",
       "<b>Number of Optimization Parameters</b>: 3<br>\n",
       "<b>Updates</b>: True<br>\n",
       "</p>\n",
       "<style type=\"text/css\">\n",
       ".tg  {font-family:\"Courier New\", Courier, monospace !important;padding:2px 3px;word-break:normal;border-collapse:collapse;border-spacing:0;border-color:#DCDCDC;margin:0px auto;width:100%;}\n",
       ".tg td{font-family:\"Courier New\", Courier, monospace !important;font-weight:bold;color:#444;background-color:#F7FDFA;border-style:solid;border-width:1px;overflow:hidden;word-break:normal;border-color:#DCDCDC;}\n",
       ".tg th{font-family:\"Courier New\", Courier, monospace !important;font-weight:normal;color:#fff;background-color:#26ADE4;border-style:solid;border-width:1px;overflow:hidden;word-break:normal;border-color:#DCDCDC;}\n",
       ".tg .tg-left{font-family:\"Courier New\", Courier, monospace !important;font-weight:normal;text-align:left;}\n",
       ".tg .tg-center{font-family:\"Courier New\", Courier, monospace !important;font-weight:normal;text-align:center;}\n",
       ".tg .tg-right{font-family:\"Courier New\", Courier, monospace !important;font-weight:normal;text-align:right;}\n",
       "</style>\n",
       "<table class=\"tg\"><tr><th><b>  GP_regression.         </b></th><th><b>value</b></th><th><b>constraints</b></th><th><b>priors</b></th></tr>\n",
       "<tr><td class=tg-left>  rbf.variance           </td><td class=tg-right>  1.0</td><td class=tg-center>    +ve    </td><td class=tg-center>      </td></tr>\n",
       "<tr><td class=tg-left>  rbf.lengthscale        </td><td class=tg-right>  1.0</td><td class=tg-center>    +ve    </td><td class=tg-center>      </td></tr>\n",
       "<tr><td class=tg-left>  Gaussian_noise.variance</td><td class=tg-right>  1.0</td><td class=tg-center>    +ve    </td><td class=tg-center>      </td></tr>\n",
       "</table>"
      ],
      "text/plain": [
       "<GPy.models.gp_regression.GPRegression at 0x18113fed0a0>"
      ]
     },
     "execution_count": 35,
     "metadata": {},
     "output_type": "execute_result"
    }
   ],
   "source": [
    "mGP = GPy.models.GPRegression(observationsNoisy[:,0][:,None], observationsNoisy[:,1][:,None], kGP)\n",
    "mGP "
   ]
  },
  {
   "cell_type": "code",
   "execution_count": 36,
   "id": "03d166ab",
   "metadata": {},
   "outputs": [
    {
     "data": {
      "text/html": [
       "<style type=\"text/css\">\n",
       ".pd{\n",
       "    font-family: \"Courier New\", Courier, monospace !important;\n",
       "    width: 100%;\n",
       "    padding: 3px;\n",
       "}\n",
       "</style>\n",
       "\n",
       "<p class=pd>\n",
       "<b>Model</b>: GP regression<br>\n",
       "<b>Objective</b>: -4.837216745544522<br>\n",
       "<b>Number of Parameters</b>: 3<br>\n",
       "<b>Number of Optimization Parameters</b>: 3<br>\n",
       "<b>Updates</b>: True<br>\n",
       "</p>\n",
       "<style type=\"text/css\">\n",
       ".tg  {font-family:\"Courier New\", Courier, monospace !important;padding:2px 3px;word-break:normal;border-collapse:collapse;border-spacing:0;border-color:#DCDCDC;margin:0px auto;width:100%;}\n",
       ".tg td{font-family:\"Courier New\", Courier, monospace !important;font-weight:bold;color:#444;background-color:#F7FDFA;border-style:solid;border-width:1px;overflow:hidden;word-break:normal;border-color:#DCDCDC;}\n",
       ".tg th{font-family:\"Courier New\", Courier, monospace !important;font-weight:normal;color:#fff;background-color:#26ADE4;border-style:solid;border-width:1px;overflow:hidden;word-break:normal;border-color:#DCDCDC;}\n",
       ".tg .tg-left{font-family:\"Courier New\", Courier, monospace !important;font-weight:normal;text-align:left;}\n",
       ".tg .tg-center{font-family:\"Courier New\", Courier, monospace !important;font-weight:normal;text-align:center;}\n",
       ".tg .tg-right{font-family:\"Courier New\", Courier, monospace !important;font-weight:normal;text-align:right;}\n",
       "</style>\n",
       "<table class=\"tg\"><tr><th><b>  GP_regression.         </b></th><th><b>               value</b></th><th><b>constraints</b></th><th><b>priors</b></th></tr>\n",
       "<tr><td class=tg-left>  rbf.variance           </td><td class=tg-right>0.057014740135080934</td><td class=tg-center>    +ve    </td><td class=tg-center>      </td></tr>\n",
       "<tr><td class=tg-left>  rbf.lengthscale        </td><td class=tg-right>  0.6385484210185487</td><td class=tg-center>    +ve    </td><td class=tg-center>      </td></tr>\n",
       "<tr><td class=tg-left>  Gaussian_noise.variance</td><td class=tg-right>0.007166089571018703</td><td class=tg-center>    +ve    </td><td class=tg-center>      </td></tr>\n",
       "</table>"
      ],
      "text/plain": [
       "<GPy.models.gp_regression.GPRegression at 0x18113fed0a0>"
      ]
     },
     "execution_count": 36,
     "metadata": {},
     "output_type": "execute_result"
    }
   ],
   "source": [
    "mGP.optimize()\n",
    "mGP"
   ]
  },
  {
   "cell_type": "code",
   "execution_count": 37,
   "id": "4851d1fe",
   "metadata": {},
   "outputs": [],
   "source": [
    "meanGP, Cov = mGP.predict_noiseless(mInfer.coords, full_cov=False)"
   ]
  },
  {
   "cell_type": "code",
   "execution_count": 38,
   "id": "01258c6c",
   "metadata": {},
   "outputs": [
    {
     "data": {
      "text/plain": [
       "[<matplotlib.lines.Line2D at 0x1810f752eb0>]"
      ]
     },
     "execution_count": 38,
     "metadata": {},
     "output_type": "execute_result"
    },
    {
     "data": {
      "image/png": "[encoded data removed]",
      "text/plain": [
       "<Figure size 432x288 with 1 Axes>"
      ]
     },
     "metadata": {
      "needs_background": "light"
     },
     "output_type": "display_data"
    }
   ],
   "source": [
    "plt.plot(meanGP)"
   ]
  },
  {
   "cell_type": "code",
   "execution_count": 39,
   "id": "20fd8fb5",
   "metadata": {},
   "outputs": [
    {
     "data": {
      "text/plain": [
       "[<matplotlib.lines.Line2D at 0x1810f7ba7c0>]"
      ]
     },
     "execution_count": 39,
     "metadata": {},
     "output_type": "execute_result"
    },
    {
     "data": {
      "image/png": "[encoded data removed]",
      "text/plain": [
       "<Figure size 432x288 with 1 Axes>"
      ]
     },
     "metadata": {
      "needs_background": "light"
     },
     "output_type": "display_data"
    }
   ],
   "source": [
    "plt.plot(concTrain)"
   ]
  },
  {
   "cell_type": "code",
   "execution_count": 40,
   "id": "92d3f265",
   "metadata": {},
   "outputs": [
    {
     "data": {
      "text/plain": [
       "0.008332152868246442"
      ]
     },
     "execution_count": 40,
     "metadata": {},
     "output_type": "execute_result"
    }
   ],
   "source": [
    "np.mean((meanGP.flatten()-concTrain)**2)"
   ]
  },
  {
   "cell_type": "code",
   "execution_count": 41,
   "id": "8c1d0d3a",
   "metadata": {},
   "outputs": [
    {
     "data": {
      "text/plain": [
       "0.005747578593151186"
      ]
     },
     "execution_count": 41,
     "metadata": {},
     "output_type": "execute_result"
    }
   ],
   "source": [
    "np.mean((concInfer-concTrain)**2)"
   ]
  },
  {
   "cell_type": "code",
   "execution_count": 42,
   "id": "c9b1c1db",
   "metadata": {},
   "outputs": [
    {
     "data": {
      "text/plain": [
       "0.08174106986416112"
      ]
     },
     "execution_count": 42,
     "metadata": {},
     "output_type": "execute_result"
    }
   ],
   "source": [
    "np.mean((sourceInfer-sourceGT)**2)"
   ]
  },
  {
   "cell_type": "code",
   "execution_count": 23,
   "id": "12593807",
   "metadata": {},
   "outputs": [
    {
     "data": {
      "text/plain": [
       "[<matplotlib.lines.Line2D at 0x18112fb8100>]"
      ]
     },
     "execution_count": 23,
     "metadata": {},
     "output_type": "execute_result"
    },
    {
     "data": {
      "image/png": "[encoded data removed]",
      "text/plain": [
       "<Figure size 432x288 with 1 Axes>"
      ]
     },
     "metadata": {
      "needs_background": "light"
     },
     "output_type": "display_data"
    }
   ],
   "source": [
    "plt.plot(sourceInfer)"
   ]
  },
  {
   "cell_type": "code",
   "execution_count": 24,
   "id": "59503a41",
   "metadata": {},
   "outputs": [
    {
     "data": {
      "text/plain": [
       "[<matplotlib.lines.Line2D at 0x18113fca4c0>]"
      ]
     },
     "execution_count": 24,
     "metadata": {},
     "output_type": "execute_result"
    },
    {
     "data": {
      "image/png": "[encoded data removed]",
      "text/plain": [
       "<Figure size 432x288 with 1 Axes>"
      ]
     },
     "metadata": {
      "needs_background": "light"
     },
     "output_type": "display_data"
    }
   ],
   "source": [
    "plt.plot(sourceGT)"
   ]
  },
  {
   "cell_type": "code",
   "execution_count": null,
   "id": "71e1986f",
   "metadata": {},
   "outputs": [],
   "source": []
  }
 ],
 "metadata": {
  "kernelspec": {
   "display_name": "Python 3 (ipykernel)",
   "language": "python",
   "name": "python3"
  },
  "language_info": {
   "codemirror_mode": {
    "name": "ipython",
    "version": 3
   },
   "file_extension": ".py",
   "mimetype": "text/x-python",
   "name": "python",
   "nbconvert_exporter": "python",
   "pygments_lexer": "ipython3",
   "version": "3.8.8"
  }
 },
 "nbformat": 4,
 "nbformat_minor": 5
}
