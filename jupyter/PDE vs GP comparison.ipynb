{
 "cells": [
  {
   "cell_type": "code",
   "execution_count": 1,
   "id": "75601b25",
   "metadata": {},
   "outputs": [
    {
     "ename": "ImportError",
     "evalue": "cannot import name 'AdjointAdvectionDiffusionReactionModel' from 'advectionGP.models' (unknown location)",
     "output_type": "error",
     "traceback": [
      "\u001b[1;31m---------------------------------------------------------------------------\u001b[0m",
      "\u001b[1;31mImportError\u001b[0m                               Traceback (most recent call last)",
      "Cell \u001b[1;32mIn[1], line 10\u001b[0m\n\u001b[0;32m      7\u001b[0m \u001b[38;5;28;01mimport\u001b[39;00m \u001b[38;5;21;01mpandas\u001b[39;00m \u001b[38;5;28;01mas\u001b[39;00m \u001b[38;5;21;01mpd\u001b[39;00m\n\u001b[0;32m      9\u001b[0m \u001b[38;5;66;03m#advectionGP\u001b[39;00m\n\u001b[1;32m---> 10\u001b[0m \u001b[38;5;28;01mfrom\u001b[39;00m \u001b[38;5;21;01madvectionGP\u001b[39;00m\u001b[38;5;21;01m.\u001b[39;00m\u001b[38;5;21;01mmodels\u001b[39;00m \u001b[38;5;28;01mimport\u001b[39;00m AdjointAdvectionDiffusionReactionModel \u001b[38;5;28;01mas\u001b[39;00m PDEModel \u001b[38;5;66;03m#Model module builds basic parts of the PDE problem, combines other classes into full model\u001b[39;00m\n\u001b[0;32m     11\u001b[0m \u001b[38;5;28;01mfrom\u001b[39;00m \u001b[38;5;21;01madvectionGP\u001b[39;00m\u001b[38;5;21;01m.\u001b[39;00m\u001b[38;5;21;01mmodels\u001b[39;00m \u001b[38;5;28;01mimport\u001b[39;00m AdjointSimpleODEModel \u001b[38;5;28;01mas\u001b[39;00m ODEModel \u001b[38;5;66;03m#Model module builds basic pa\u001b[39;00m\n\u001b[0;32m     12\u001b[0m \u001b[38;5;28;01mfrom\u001b[39;00m \u001b[38;5;21;01madvectionGP\u001b[39;00m\u001b[38;5;21;01m.\u001b[39;00m\u001b[38;5;21;01msensors\u001b[39;00m \u001b[38;5;28;01mimport\u001b[39;00m FixedSensorModel \u001b[38;5;66;03m#Builds sensor arrays to generate data for foward model or to generate observations for comparison\u001b[39;00m\n",
      "\u001b[1;31mImportError\u001b[0m: cannot import name 'AdjointAdvectionDiffusionReactionModel' from 'advectionGP.models' (unknown location)"
     ]
    }
   ],
   "source": [
    "#Import Modules\n",
    "\n",
    "#numpy\n",
    "import numpy as np\n",
    "from numpy.random import multivariate_normal #For later example\n",
    "\n",
    "import pandas as pd\n",
    "\n",
    "#advectionGP\n",
    "from advectionGP.models import AdjointAdvectionDiffusionReactionModel as PDEModel #Model module builds basic parts of the PDE problem, combines other classes into full model\n",
    "from advectionGP.models import AdjointSimpleODEModel as ODEModel #Model module builds basic pa\n",
    "from advectionGP.sensors import FixedSensorModel #Builds sensor arrays to generate data for foward model or to generate observations for comparison\n",
    "from advectionGP.kernels import EQ #Generates exponentiated quadratic kernel approximation\n",
    "from advectionGP.test import TestKernels #Unit test model\n",
    "from advectionGP.wind import WindFixU #Wind model\n",
    "\n",
    "#Plotting tools\n",
    "from mpl_toolkits.mplot3d import Axes3D \n",
    "import matplotlib.pyplot as plt\n",
    "from matplotlib import cm\n",
    "from matplotlib.ticker import LinearLocator, FormatStrFormatter\n",
    "\n",
    "# GPy: Gaussian processes library\n",
    "import GPy\n",
    "\n",
    "#GPyOpt\n",
    "import GPyOpt\n",
    "from GPyOpt.methods import BayesianOptimization"
   ]
  },
  {
   "cell_type": "code",
   "execution_count": null,
   "id": "c43baab9",
   "metadata": {},
   "outputs": [],
   "source": [
    "# generate sensor locations for training data with shape [total observations, 4], where each row has elements \n",
    "#[lower time location, upper time location, x location, y location]\n",
    "\n",
    "tlocL = np.linspace(1,8,5) # lower time\n",
    "xloc=np.linspace(2,8,5) # x locations\n",
    "yloc=np.linspace(2,8,5) # y locations\n",
    "sensN = len(xloc)*len(yloc) # total number of sensors \n",
    "obsN = len(tlocL) # total time points at which an observation is taken\n",
    "X= np.zeros((obsN*sensN,4)) # obsN*sensN is total observations over all sensors and all times\n",
    "# Build sensor locations\n",
    "X[:,0] = np.asarray(np.meshgrid(tlocL,xloc,yloc)).reshape(3,sensN*obsN)[0] #lower time\n",
    "X[:,2] = np.asarray(np.meshgrid(tlocL,xloc,yloc)).reshape(3,sensN*obsN)[1] # x location\n",
    "X[:,3] = np.asarray(np.meshgrid(tlocL,xloc,yloc)).reshape(3,sensN*obsN)[2] # ylocation\n",
    "X[:,1] = X[:,0]+1 # upper time\n",
    "\n",
    "XGP= np.zeros((sensN*obsN,3))\n",
    "XGP[:,0] = (X[:,0]+X[:,1])/2\n",
    "XGP[:,1] = X[:,2]\n",
    "XGP[:,2] = X[:,3] \n",
    "\n",
    "\n",
    "\n",
    "sensors = FixedSensorModel(X,1) # establish sensor model arguments are sensor locations and spatial averaging\n",
    "\n",
    "# generate sensor locations for test data with shape [total observations, 4], where each row has elements \n",
    "#[lower time location, upper time location, x location, y location]\n",
    "\n",
    "tlocL = np.linspace(2,9,5) # lower time\n",
    "xloc=np.linspace(1.5,8.5,4) # x locations\n",
    "yloc=np.linspace(1.5,8.5,4) # y locations\n",
    "sensN = len(xloc)*len(yloc) # total number of sensors \n",
    "obsN = len(tlocL) # total time points at which an observation is taken\n",
    "Xtest= np.zeros((obsN*sensN,4)) # obsN*sensN is total observations over all sensors and all times\n",
    "# Build sensor locations\n",
    "Xtest[:,0] = np.asarray(np.meshgrid(tlocL,xloc,yloc)).reshape(3,sensN*obsN)[0] \n",
    "Xtest[:,2] = np.asarray(np.meshgrid(tlocL,xloc,yloc)).reshape(3,sensN*obsN)[1]\n",
    "Xtest[:,3] = np.asarray(np.meshgrid(tlocL,xloc,yloc)).reshape(3,sensN*obsN)[2]\n",
    "Xtest[:,1] = Xtest[:,0]+1\n",
    "\n",
    "XGPtest= np.zeros((sensN*obsN,3))\n",
    "XGPtest[:,0] = (Xtest[:,0]+Xtest[:,1])/2\n",
    "XGPtest[:,1] = Xtest[:,2]\n",
    "XGPtest[:,2] = Xtest[:,3]\n",
    "\n",
    "sensorsTest = FixedSensorModel(Xtest,1) # establish sensor model"
   ]
  },
  {
   "cell_type": "code",
   "execution_count": 3,
   "id": "81f13c3f",
   "metadata": {},
   "outputs": [
    {
     "name": "stdout",
     "output_type": "stream",
     "text": [
      "WARNING: spatial grid size does not meet the finite difference advection diffusion stability criteria\n"
     ]
    }
   ],
   "source": [
    "k_0 = 0.01 #Diffusion\n",
    "R=0.1\n",
    "noiseSD = 0.05 #Observation noise\n",
    "N_feat=2000 # number of features used to approximate ground truth GP\n",
    "boundary = ([0,0,0],[10,10,10])# corners of the grid - in units of space\n",
    "k = EQ(5, 2.0) # generate EQ kernel arguments are lengthscale and variance\n",
    "res = [50,30,30] # grid size for time, x and y\n",
    "wind=np.cos(np.linspace(0,6*np.pi,res[1]))*0.5\n",
    "u=[]\n",
    "u.append(np.ones(res)*wind) #x direction wind\n",
    "u.append(np.ones(res)*0.0) # y direction wind\n",
    "windmodel=WindFixU(u)\n",
    "#u.append(np.ones(res)*0.1) #x direction wind\n",
    "#u.append(np.ones(res)*0.1) # y direction wind\n",
    "m = PDEModel(resolution=res,boundary=boundary,N_feat=N_feat,noiseSD=noiseSD,kernel=k,sensormodel=sensors,windmodel=windmodel,k_0=k_0,R=R) #initiate PDE model to build concentration\n",
    "\n",
    "dt,dx,dy,dx2,dy2,Nt,Nx,Ny = m.getGridStepSize() # useful numbers!\n",
    "\n",
    "z=np.random.normal(0,1.0,N_feat) # Generate z to compute source\n",
    "sourceGT=(m.computeSourceFromPhi(z))# Compute source\n",
    "\n"
   ]
  },
  {
   "cell_type": "code",
   "execution_count": 4,
   "id": "491a7440",
   "metadata": {},
   "outputs": [],
   "source": [
    "sensWindX = np.ravel_multi_index(m.getGridCoord(XGP).transpose(), np.asarray(m.u[0]).shape)\n",
    "sensWindY = np.ravel_multi_index(m.getGridCoord(XGP).transpose(), np.asarray(m.u[1]).shape)\n",
    "xwind=np.asarray(m.u).take(sensWindX)\n",
    "ywind=np.asarray(m.u).take(sensWindY)\n",
    "\n",
    "XGPwind = np.c_[XGP,xwind,ywind]\n",
    "\n",
    "sensWindX = np.ravel_multi_index(m.getGridCoord(XGPtest).transpose(), np.asarray(m.u[0]).shape)\n",
    "sensWindY = np.ravel_multi_index(m.getGridCoord(XGPtest).transpose(), np.asarray(m.u[1]).shape)\n",
    "xwind=np.asarray(m.u).take(sensWindX)\n",
    "ywind=np.asarray(m.u).take(sensWindY)\n",
    "\n",
    "XGPwindTest = np.c_[XGPtest,xwind,ywind]"
   ]
  },
  {
   "cell_type": "code",
   "execution_count": 5,
   "id": "4672d3bf",
   "metadata": {},
   "outputs": [],
   "source": [
    "concTrain=m.computeConcentration(sourceGT) # Compute concentration - runs advection diffusion forward model\n",
    "yTrain= m.computeObservations() # Compute observations with noise uses m.sensormodel for observation locations\n",
    "\n",
    "m.sensormodel=sensorsTest\n",
    "yTest= m.computeObservations()"
   ]
  },
  {
   "cell_type": "markdown",
   "id": "8590baec",
   "metadata": {},
   "source": [
    "### Inverse PDE"
   ]
  },
  {
   "cell_type": "code",
   "execution_count": 6,
   "id": "8b8c9b89",
   "metadata": {},
   "outputs": [
    {
     "name": "stdout",
     "output_type": "stream",
     "text": [
      "WARNING: spatial grid size does not meet the finite difference advection diffusion stability criteria\n",
      "Calculating Adjoints...\n",
      "124/125 \n",
      "Calculating Phis...\n",
      "9/10 \n"
     ]
    }
   ],
   "source": [
    "N_feat =10 #Number of features used to infer the source\n",
    "k1 = EQ(2, 2.0) \n",
    "k2 = EQ(2, 2.0) \n",
    "\n",
    "mPDE = PDEModel(resolution=res,boundary=boundary,N_feat=N_feat,noiseSD=noiseSD,kernel=k1,sensormodel=sensors,windmodel=windmodel,k_0=k_0,R=R) #Initiate new model for inference\n",
    "regressPDE = mPDE.computeModelRegressors() # Compute regressor matrix\n",
    "meanZPDE, covZPDE = mPDE.computeZDistribution(yTrain) # Infers z vector mean and covariance\n",
    "sourcePDE = mPDE.computeSourceFromPhi(meanZPDE) # Generates estimated source using inferred distributio"
   ]
  },
  {
   "cell_type": "markdown",
   "id": "024ae5ef",
   "metadata": {},
   "source": [
    "### Inverse GP"
   ]
  },
  {
   "cell_type": "code",
   "execution_count": 3,
   "id": "c02068c3",
   "metadata": {},
   "outputs": [],
   "source": [
    "import GPy"
   ]
  },
  {
   "cell_type": "code",
   "execution_count": 4,
   "id": "3b2700e5",
   "metadata": {},
   "outputs": [],
   "source": [
    "kGP = GPy.kern.RBF(3, name=\"rbf\")"
   ]
  },
  {
   "cell_type": "code",
   "execution_count": 2,
   "id": "57d6a4ed",
   "metadata": {
    "scrolled": true
   },
   "outputs": [
    {
     "ename": "NameError",
     "evalue": "name 'GPy' is not defined",
     "output_type": "error",
     "traceback": [
      "\u001b[1;31m---------------------------------------------------------------------------\u001b[0m",
      "\u001b[1;31mNameError\u001b[0m                                 Traceback (most recent call last)",
      "Cell \u001b[1;32mIn[2], line 1\u001b[0m\n\u001b[1;32m----> 1\u001b[0m kGP \u001b[38;5;241m=\u001b[39m \u001b[43mGPy\u001b[49m\u001b[38;5;241m.\u001b[39mkern\u001b[38;5;241m.\u001b[39mRBF(\u001b[38;5;241m3\u001b[39m, name\u001b[38;5;241m=\u001b[39m\u001b[38;5;124m\"\u001b[39m\u001b[38;5;124mrbf\u001b[39m\u001b[38;5;124m\"\u001b[39m)\n\u001b[0;32m      2\u001b[0m mGP \u001b[38;5;241m=\u001b[39m GPy\u001b[38;5;241m.\u001b[39mmodels\u001b[38;5;241m.\u001b[39mGPRegression(XGP, yTrain[:,\u001b[38;5;28;01mNone\u001b[39;00m], kGP)\n\u001b[0;32m      3\u001b[0m mGP\n",
      "\u001b[1;31mNameError\u001b[0m: name 'GPy' is not defined"
     ]
    }
   ],
   "source": [
    "kGP = GPy.kern.RBF(3, name=\"rbf\")\n",
    "mGP = GPy.models.GPRegression(XGP, yTrain[:,None], kGP)\n",
    "mGP "
   ]
  },
  {
   "cell_type": "code",
   "execution_count": 8,
   "id": "fa307318",
   "metadata": {},
   "outputs": [
    {
     "data": {
      "text/html": [
       "<style type=\"text/css\">\n",
       ".pd{\n",
       "    font-family: \"Courier New\", Courier, monospace !important;\n",
       "    width: 100%;\n",
       "    padding: 3px;\n",
       "}\n",
       "</style>\n",
       "\n",
       "<p class=pd>\n",
       "<b>Model</b>: GP regression<br>\n",
       "<b>Objective</b>: 431.6133562482946<br>\n",
       "<b>Number of Parameters</b>: 7<br>\n",
       "<b>Number of Optimization Parameters</b>: 7<br>\n",
       "<b>Updates</b>: True<br>\n",
       "</p>\n",
       "<style type=\"text/css\">\n",
       ".tg  {font-family:\"Courier New\", Courier, monospace !important;padding:2px 3px;word-break:normal;border-collapse:collapse;border-spacing:0;border-color:#DCDCDC;margin:0px auto;width:100%;}\n",
       ".tg td{font-family:\"Courier New\", Courier, monospace !important;font-weight:bold;color:#444;background-color:#F7FDFA;border-style:solid;border-width:1px;overflow:hidden;word-break:normal;border-color:#DCDCDC;}\n",
       ".tg th{font-family:\"Courier New\", Courier, monospace !important;font-weight:normal;color:#fff;background-color:#26ADE4;border-style:solid;border-width:1px;overflow:hidden;word-break:normal;border-color:#DCDCDC;}\n",
       ".tg .tg-left{font-family:\"Courier New\", Courier, monospace !important;font-weight:normal;text-align:left;}\n",
       ".tg .tg-center{font-family:\"Courier New\", Courier, monospace !important;font-weight:normal;text-align:center;}\n",
       ".tg .tg-right{font-family:\"Courier New\", Courier, monospace !important;font-weight:normal;text-align:right;}\n",
       "</style>\n",
       "<table class=\"tg\"><tr><th><b>  GP_regression.         </b></th><th><b>value</b></th><th><b>constraints</b></th><th><b>priors</b></th></tr>\n",
       "<tr><td class=tg-left>  rbf.variance           </td><td class=tg-right>  1.0</td><td class=tg-center>    +ve    </td><td class=tg-center>      </td></tr>\n",
       "<tr><td class=tg-left>  rbf.lengthscale        </td><td class=tg-right> (5,)</td><td class=tg-center>    +ve    </td><td class=tg-center>      </td></tr>\n",
       "<tr><td class=tg-left>  Gaussian_noise.variance</td><td class=tg-right>  1.0</td><td class=tg-center>    +ve    </td><td class=tg-center>      </td></tr>\n",
       "</table>"
      ],
      "text/plain": [
       "<GPy.models.gp_regression.GPRegression at 0x146dabcafa0>"
      ]
     },
     "execution_count": 8,
     "metadata": {},
     "output_type": "execute_result"
    }
   ],
   "source": [
    "#kGPwind = GPy.kern.RBF(3,active_dims=[0,1,2])*GPy.kern.RBF(2,active_dims=[3,4])\n",
    "kGPwind = GPy.kern.RBF(5,ARD='true')\n",
    "mGPwind = GPy.models.GPRegression(XGPwind, yTrain[:,None], kGPwind)\n",
    "mGPwind "
   ]
  },
  {
   "cell_type": "markdown",
   "id": "94bbf7b4",
   "metadata": {},
   "source": [
    "### Model Optimisation"
   ]
  },
  {
   "cell_type": "code",
   "execution_count": 9,
   "id": "fc375ab6",
   "metadata": {},
   "outputs": [
    {
     "data": {
      "text/html": [
       "<style type=\"text/css\">\n",
       ".pd{\n",
       "    font-family: \"Courier New\", Courier, monospace !important;\n",
       "    width: 100%;\n",
       "    padding: 3px;\n",
       "}\n",
       "</style>\n",
       "\n",
       "<p class=pd>\n",
       "<b>Model</b>: GP regression<br>\n",
       "<b>Objective</b>: 207.22064162605537<br>\n",
       "<b>Number of Parameters</b>: 3<br>\n",
       "<b>Number of Optimization Parameters</b>: 3<br>\n",
       "<b>Updates</b>: True<br>\n",
       "</p>\n",
       "<style type=\"text/css\">\n",
       ".tg  {font-family:\"Courier New\", Courier, monospace !important;padding:2px 3px;word-break:normal;border-collapse:collapse;border-spacing:0;border-color:#DCDCDC;margin:0px auto;width:100%;}\n",
       ".tg td{font-family:\"Courier New\", Courier, monospace !important;font-weight:bold;color:#444;background-color:#F7FDFA;border-style:solid;border-width:1px;overflow:hidden;word-break:normal;border-color:#DCDCDC;}\n",
       ".tg th{font-family:\"Courier New\", Courier, monospace !important;font-weight:normal;color:#fff;background-color:#26ADE4;border-style:solid;border-width:1px;overflow:hidden;word-break:normal;border-color:#DCDCDC;}\n",
       ".tg .tg-left{font-family:\"Courier New\", Courier, monospace !important;font-weight:normal;text-align:left;}\n",
       ".tg .tg-center{font-family:\"Courier New\", Courier, monospace !important;font-weight:normal;text-align:center;}\n",
       ".tg .tg-right{font-family:\"Courier New\", Courier, monospace !important;font-weight:normal;text-align:right;}\n",
       "</style>\n",
       "<table class=\"tg\"><tr><th><b>  GP_regression.         </b></th><th><b>             value</b></th><th><b>constraints</b></th><th><b>priors</b></th></tr>\n",
       "<tr><td class=tg-left>  rbf.variance           </td><td class=tg-right> 19.73627622891969</td><td class=tg-center>    +ve    </td><td class=tg-center>      </td></tr>\n",
       "<tr><td class=tg-left>  rbf.lengthscale        </td><td class=tg-right> 4.528848684461353</td><td class=tg-center>    +ve    </td><td class=tg-center>      </td></tr>\n",
       "<tr><td class=tg-left>  Gaussian_noise.variance</td><td class=tg-right>0.9319447838964885</td><td class=tg-center>    +ve    </td><td class=tg-center>      </td></tr>\n",
       "</table>"
      ],
      "text/plain": [
       "<GPy.models.gp_regression.GPRegression at 0x146e007eaf0>"
      ]
     },
     "execution_count": 9,
     "metadata": {},
     "output_type": "execute_result"
    }
   ],
   "source": [
    "mGP.optimize()\n",
    "mGP"
   ]
  },
  {
   "cell_type": "code",
   "execution_count": 10,
   "id": "b85ca618",
   "metadata": {},
   "outputs": [
    {
     "data": {
      "text/html": [
       "<style type=\"text/css\">\n",
       ".pd{\n",
       "    font-family: \"Courier New\", Courier, monospace !important;\n",
       "    width: 100%;\n",
       "    padding: 3px;\n",
       "}\n",
       "</style>\n",
       "\n",
       "<p class=pd>\n",
       "<b>Model</b>: GP regression<br>\n",
       "<b>Objective</b>: -70.20526479001376<br>\n",
       "<b>Number of Parameters</b>: 7<br>\n",
       "<b>Number of Optimization Parameters</b>: 7<br>\n",
       "<b>Updates</b>: True<br>\n",
       "</p>\n",
       "<style type=\"text/css\">\n",
       ".tg  {font-family:\"Courier New\", Courier, monospace !important;padding:2px 3px;word-break:normal;border-collapse:collapse;border-spacing:0;border-color:#DCDCDC;margin:0px auto;width:100%;}\n",
       ".tg td{font-family:\"Courier New\", Courier, monospace !important;font-weight:bold;color:#444;background-color:#F7FDFA;border-style:solid;border-width:1px;overflow:hidden;word-break:normal;border-color:#DCDCDC;}\n",
       ".tg th{font-family:\"Courier New\", Courier, monospace !important;font-weight:normal;color:#fff;background-color:#26ADE4;border-style:solid;border-width:1px;overflow:hidden;word-break:normal;border-color:#DCDCDC;}\n",
       ".tg .tg-left{font-family:\"Courier New\", Courier, monospace !important;font-weight:normal;text-align:left;}\n",
       ".tg .tg-center{font-family:\"Courier New\", Courier, monospace !important;font-weight:normal;text-align:center;}\n",
       ".tg .tg-right{font-family:\"Courier New\", Courier, monospace !important;font-weight:normal;text-align:right;}\n",
       "</style>\n",
       "<table class=\"tg\"><tr><th><b>  GP_regression.         </b></th><th><b>                 value</b></th><th><b>constraints</b></th><th><b>priors</b></th></tr>\n",
       "<tr><td class=tg-left>  rbf.variance           </td><td class=tg-right>    17.204230706907737</td><td class=tg-center>    +ve    </td><td class=tg-center>      </td></tr>\n",
       "<tr><td class=tg-left>  rbf.lengthscale        </td><td class=tg-right>                  (5,)</td><td class=tg-center>    +ve    </td><td class=tg-center>      </td></tr>\n",
       "<tr><td class=tg-left>  Gaussian_noise.variance</td><td class=tg-right>1.7886857446321723e-07</td><td class=tg-center>    +ve    </td><td class=tg-center>      </td></tr>\n",
       "</table>"
      ],
      "text/plain": [
       "<GPy.models.gp_regression.GPRegression at 0x146dabcafa0>"
      ]
     },
     "execution_count": 10,
     "metadata": {},
     "output_type": "execute_result"
    }
   ],
   "source": [
    "mGPwind.optimize()\n",
    "mGPwind"
   ]
  },
  {
   "cell_type": "code",
   "execution_count": 11,
   "id": "eb2b7ea2",
   "metadata": {},
   "outputs": [],
   "source": [
    "meanGP, covGP = mGP.predict_noiseless(XGPtest, full_cov=True)\n",
    "meanGPwind, covGPwind = mGPwind.predict_noiseless(XGPwindTest, full_cov=True)"
   ]
  },
  {
   "cell_type": "code",
   "execution_count": 12,
   "id": "8791f798",
   "metadata": {},
   "outputs": [
    {
     "name": "stdout",
     "output_type": "stream",
     "text": [
      "WARNING: spatial grid size does not meet the finite difference advection diffusion stability criteria\n"
     ]
    }
   ],
   "source": [
    "N_feat =200\n",
    "\n",
    "k_02 = np.linspace(2,5,10)\n",
    "MSE = np.zeros(len(k_02))\n",
    "sources =[]\n",
    "reps = 100\n",
    "var = np.ones(len(yTrain))*noiseSD**2\n",
    "llObs = 0\n",
    "k2 = EQ(2,2)\n",
    "mPDE = PDEModel(resolution=res,boundary=boundary,N_feat=N_feat,noiseSD=noiseSD,kernel=k2,sensormodel=sensors,windmodel=windmodel,k_0=k_0,R=R) #initiate PDE model\n",
    "def obj_funcLengthVarDiffReact(x):\n",
    "    x1 = x[:, 0]\n",
    "    x2 = x[:, 1]\n",
    "    x3 = x[:, 2]\n",
    "    x4 = x[:, 3]\n",
    "    llObs = 0\n",
    "    #mPDE.sensormodel=sensors\n",
    "    mPDE.kernel.l2=x1\n",
    "    mPDE.kernel.sigma2=x2\n",
    "    mPDE.k_0=x3\n",
    "    mPDE.R=x4\n",
    "    X1 = mPDE.computeModelRegressors() # Compute regressor matrix\n",
    "    meanZ, covZ = mPDE.computeZDistribution(yTrain) # Infers z vector mean and covariance\n",
    "    for j in range(reps):\n",
    "        #mPDE.sensormodel=sensors\n",
    "        z = np.random.multivariate_normal(meanZ,covZ)\n",
    "        source = mPDE.computeSourceFromPhi(z) # Generates estimated source using inferred distribution\n",
    "        conc=mPDE.computeConcentration(source) # Compute test concentration\n",
    "        #mPDE.sensormodel=sensorsTest\n",
    "        yInfer= mPDE.computeObservations() # Compute observations with noise\n",
    "        llObs += -0.5*np.sum((np.square(np.subtract(yTrain,yInfer))/var)+0.5*np.log(var))\n",
    "\n",
    "    llObs = llObs/reps\n",
    "    return(-llObs)"
   ]
  },
  {
   "cell_type": "code",
   "execution_count": null,
   "id": "46317087",
   "metadata": {},
   "outputs": [],
   "source": []
  },
  {
   "cell_type": "code",
   "execution_count": 13,
   "id": "d370e3b4",
   "metadata": {
    "scrolled": true
   },
   "outputs": [
    {
     "name": "stdout",
     "output_type": "stream",
     "text": [
      "Calculating Adjoints...\n",
      "124/125 \n",
      "Calculating Phis...\n",
      "199/200 \n",
      "Calculating Adjoints...\n",
      "124/125 \n",
      "Calculating Phis...\n",
      "199/200 \n",
      "Calculating Adjoints...\n",
      "124/125 \n",
      "Calculating Phis...\n",
      "199/200 \n",
      "Calculating Adjoints...\n",
      "124/125 \n",
      "Calculating Phis...\n",
      "199/200 \n",
      "Calculating Adjoints...\n",
      "124/125 \n",
      "Calculating Phis...\n",
      "199/200 \n",
      "Calculating Adjoints...\n",
      "124/125 \n",
      "Calculating Phis...\n",
      "199/200 \n",
      "Calculating Adjoints...\n",
      "124/125 \n",
      "Calculating Phis...\n",
      "199/200 \n",
      "Calculating Adjoints...\n",
      "124/125 \n",
      "Calculating Phis...\n",
      "199/200 \n",
      "Calculating Adjoints...\n",
      "124/125 \n",
      "Calculating Phis...\n",
      "199/200 \n",
      "Calculating Adjoints...\n",
      "124/125 \n",
      "Calculating Phis...\n",
      "199/200 \n",
      "Calculating Adjoints...\n",
      "124/125 \n",
      "Calculating Phis...\n",
      "199/200 \n",
      "Calculating Adjoints...\n",
      "124/125 \n",
      "Calculating Phis...\n",
      "199/200 \n",
      "Calculating Adjoints...\n",
      "124/125 \n",
      "Calculating Phis...\n",
      "199/200 \n",
      "Calculating Adjoints...\n",
      "124/125 \n",
      "Calculating Phis...\n",
      "199/200 \n",
      "Calculating Adjoints...\n",
      "124/125 \n",
      "Calculating Phis...\n",
      "199/200 \n",
      "Calculating Adjoints...\n",
      "124/125 \n",
      "Calculating Phis...\n",
      "199/200 \n",
      "Calculating Adjoints...\n",
      "124/125 \n",
      "Calculating Phis...\n",
      "199/200 \n",
      "Calculating Adjoints...\n",
      "124/125 \n",
      "Calculating Phis...\n",
      "199/200 \n",
      "Calculating Adjoints...\n",
      "124/125 \n",
      "Calculating Phis...\n",
      "199/200 \n",
      "Calculating Adjoints...\n",
      "124/125 \n",
      "Calculating Phis...\n",
      "199/200 \n",
      "Calculating Adjoints...\n",
      "124/125 \n",
      "Calculating Phis...\n",
      "199/200 \n",
      "Calculating Adjoints...\n",
      "124/125 \n",
      "Calculating Phis...\n",
      "199/200 \n",
      "Calculating Adjoints...\n",
      "124/125 \n",
      "Calculating Phis...\n",
      "199/200 \n",
      "Calculating Adjoints...\n",
      "124/125 \n",
      "Calculating Phis...\n",
      "199/200 \n",
      "Calculating Adjoints...\n",
      "124/125 \n",
      "Calculating Phis...\n",
      "199/200 \n",
      "Calculating Adjoints...\n",
      "124/125 \n",
      "Calculating Phis...\n",
      "199/200 \n",
      "Calculating Adjoints...\n",
      "124/125 \n",
      "Calculating Phis...\n",
      "199/200 \n",
      "Calculating Adjoints...\n",
      "124/125 \n",
      "Calculating Phis...\n",
      "199/200 \n",
      "Calculating Adjoints...\n",
      "124/125 \n",
      "Calculating Phis...\n",
      "199/200 \n",
      "Calculating Adjoints...\n",
      "124/125 \n",
      "Calculating Phis...\n",
      "199/200 \n",
      "Calculating Adjoints...\n",
      "124/125 \n",
      "Calculating Phis...\n",
      "199/200 \n",
      "Calculating Adjoints...\n",
      "124/125 \n",
      "Calculating Phis...\n",
      "199/200 \n",
      "Calculating Adjoints...\n",
      "124/125 \n",
      "Calculating Phis...\n",
      "199/200 \n",
      "Calculating Adjoints...\n",
      "124/125 \n",
      "Calculating Phis...\n",
      "199/200 \n",
      "Calculating Adjoints...\n",
      "124/125 \n",
      "Calculating Phis...\n",
      "34/200 \r"
     ]
    },
    {
     "ename": "KeyboardInterrupt",
     "evalue": "",
     "output_type": "error",
     "traceback": [
      "\u001b[1;31m---------------------------------------------------------------------------\u001b[0m",
      "\u001b[1;31mKeyboardInterrupt\u001b[0m                         Traceback (most recent call last)",
      "\u001b[1;32m<ipython-input-13-0ec1ca5a1050>\u001b[0m in \u001b[0;36m<module>\u001b[1;34m\u001b[0m\n\u001b[0;32m      6\u001b[0m \u001b[1;33m\u001b[0m\u001b[0m\n\u001b[0;32m      7\u001b[0m \u001b[0mmyBopt_4d\u001b[0m \u001b[1;33m=\u001b[0m \u001b[0mGPyOpt\u001b[0m\u001b[1;33m.\u001b[0m\u001b[0mmethods\u001b[0m\u001b[1;33m.\u001b[0m\u001b[0mBayesianOptimization\u001b[0m\u001b[1;33m(\u001b[0m\u001b[0mobj_funcLengthVarDiffReact\u001b[0m\u001b[1;33m,\u001b[0m \u001b[0mdomain\u001b[0m\u001b[1;33m=\u001b[0m\u001b[0mbounds4d\u001b[0m\u001b[1;33m)\u001b[0m\u001b[1;33m\u001b[0m\u001b[1;33m\u001b[0m\u001b[0m\n\u001b[1;32m----> 8\u001b[1;33m \u001b[0mmyBopt_4d\u001b[0m\u001b[1;33m.\u001b[0m\u001b[0mrun_optimization\u001b[0m\u001b[1;33m(\u001b[0m\u001b[0mmax_iter\u001b[0m \u001b[1;33m=\u001b[0m \u001b[0mmaxiter\u001b[0m\u001b[1;33m)\u001b[0m\u001b[1;33m\u001b[0m\u001b[1;33m\u001b[0m\u001b[0m\n\u001b[0m",
      "\u001b[1;32m~\\Anaconda3\\lib\\site-packages\\GPyOpt\\core\\bo.py\u001b[0m in \u001b[0;36mrun_optimization\u001b[1;34m(self, max_iter, max_time, eps, context, verbosity, save_models_parameters, report_file, evaluations_file, models_file)\u001b[0m\n\u001b[0;32m    149\u001b[0m \u001b[1;33m\u001b[0m\u001b[0m\n\u001b[0;32m    150\u001b[0m             \u001b[1;31m# --- Evaluate *f* in X, augment Y and update cost function (if needed)\u001b[0m\u001b[1;33m\u001b[0m\u001b[1;33m\u001b[0m\u001b[1;33m\u001b[0m\u001b[0m\n\u001b[1;32m--> 151\u001b[1;33m             \u001b[0mself\u001b[0m\u001b[1;33m.\u001b[0m\u001b[0mevaluate_objective\u001b[0m\u001b[1;33m(\u001b[0m\u001b[1;33m)\u001b[0m\u001b[1;33m\u001b[0m\u001b[1;33m\u001b[0m\u001b[0m\n\u001b[0m\u001b[0;32m    152\u001b[0m \u001b[1;33m\u001b[0m\u001b[0m\n\u001b[0;32m    153\u001b[0m             \u001b[1;31m# --- Update current evaluation time and function evaluations\u001b[0m\u001b[1;33m\u001b[0m\u001b[1;33m\u001b[0m\u001b[1;33m\u001b[0m\u001b[0m\n",
      "\u001b[1;32m~\\Anaconda3\\lib\\site-packages\\GPyOpt\\core\\bo.py\u001b[0m in \u001b[0;36mevaluate_objective\u001b[1;34m(self)\u001b[0m\n\u001b[0;32m    195\u001b[0m         \u001b[0mEvaluates\u001b[0m \u001b[0mthe\u001b[0m \u001b[0mobjective\u001b[0m\u001b[1;33m\u001b[0m\u001b[1;33m\u001b[0m\u001b[0m\n\u001b[0;32m    196\u001b[0m         \"\"\"\n\u001b[1;32m--> 197\u001b[1;33m         \u001b[0mself\u001b[0m\u001b[1;33m.\u001b[0m\u001b[0mY_new\u001b[0m\u001b[1;33m,\u001b[0m \u001b[0mcost_new\u001b[0m \u001b[1;33m=\u001b[0m \u001b[0mself\u001b[0m\u001b[1;33m.\u001b[0m\u001b[0mobjective\u001b[0m\u001b[1;33m.\u001b[0m\u001b[0mevaluate\u001b[0m\u001b[1;33m(\u001b[0m\u001b[0mself\u001b[0m\u001b[1;33m.\u001b[0m\u001b[0msuggested_sample\u001b[0m\u001b[1;33m)\u001b[0m\u001b[1;33m\u001b[0m\u001b[1;33m\u001b[0m\u001b[0m\n\u001b[0m\u001b[0;32m    198\u001b[0m         \u001b[0mself\u001b[0m\u001b[1;33m.\u001b[0m\u001b[0mcost\u001b[0m\u001b[1;33m.\u001b[0m\u001b[0mupdate_cost_model\u001b[0m\u001b[1;33m(\u001b[0m\u001b[0mself\u001b[0m\u001b[1;33m.\u001b[0m\u001b[0msuggested_sample\u001b[0m\u001b[1;33m,\u001b[0m \u001b[0mcost_new\u001b[0m\u001b[1;33m)\u001b[0m\u001b[1;33m\u001b[0m\u001b[1;33m\u001b[0m\u001b[0m\n\u001b[0;32m    199\u001b[0m         \u001b[0mself\u001b[0m\u001b[1;33m.\u001b[0m\u001b[0mY\u001b[0m \u001b[1;33m=\u001b[0m \u001b[0mnp\u001b[0m\u001b[1;33m.\u001b[0m\u001b[0mvstack\u001b[0m\u001b[1;33m(\u001b[0m\u001b[1;33m(\u001b[0m\u001b[0mself\u001b[0m\u001b[1;33m.\u001b[0m\u001b[0mY\u001b[0m\u001b[1;33m,\u001b[0m\u001b[0mself\u001b[0m\u001b[1;33m.\u001b[0m\u001b[0mY_new\u001b[0m\u001b[1;33m)\u001b[0m\u001b[1;33m)\u001b[0m\u001b[1;33m\u001b[0m\u001b[1;33m\u001b[0m\u001b[0m\n",
      "\u001b[1;32m~\\Anaconda3\\lib\\site-packages\\GPyOpt\\core\\task\\objective.py\u001b[0m in \u001b[0;36mevaluate\u001b[1;34m(self, x)\u001b[0m\n\u001b[0;32m     48\u001b[0m \u001b[1;33m\u001b[0m\u001b[0m\n\u001b[0;32m     49\u001b[0m         \u001b[1;32mif\u001b[0m \u001b[0mself\u001b[0m\u001b[1;33m.\u001b[0m\u001b[0mn_procs\u001b[0m \u001b[1;33m==\u001b[0m \u001b[1;36m1\u001b[0m\u001b[1;33m:\u001b[0m\u001b[1;33m\u001b[0m\u001b[1;33m\u001b[0m\u001b[0m\n\u001b[1;32m---> 50\u001b[1;33m             \u001b[0mf_evals\u001b[0m\u001b[1;33m,\u001b[0m \u001b[0mcost_evals\u001b[0m \u001b[1;33m=\u001b[0m \u001b[0mself\u001b[0m\u001b[1;33m.\u001b[0m\u001b[0m_eval_func\u001b[0m\u001b[1;33m(\u001b[0m\u001b[0mx\u001b[0m\u001b[1;33m)\u001b[0m\u001b[1;33m\u001b[0m\u001b[1;33m\u001b[0m\u001b[0m\n\u001b[0m\u001b[0;32m     51\u001b[0m         \u001b[1;32melse\u001b[0m\u001b[1;33m:\u001b[0m\u001b[1;33m\u001b[0m\u001b[1;33m\u001b[0m\u001b[0m\n\u001b[0;32m     52\u001b[0m             \u001b[1;32mtry\u001b[0m\u001b[1;33m:\u001b[0m\u001b[1;33m\u001b[0m\u001b[1;33m\u001b[0m\u001b[0m\n",
      "\u001b[1;32m~\\Anaconda3\\lib\\site-packages\\GPyOpt\\core\\task\\objective.py\u001b[0m in \u001b[0;36m_eval_func\u001b[1;34m(self, x)\u001b[0m\n\u001b[0;32m     72\u001b[0m         \u001b[1;32mfor\u001b[0m \u001b[0mi\u001b[0m \u001b[1;32min\u001b[0m \u001b[0mrange\u001b[0m\u001b[1;33m(\u001b[0m\u001b[0mx\u001b[0m\u001b[1;33m.\u001b[0m\u001b[0mshape\u001b[0m\u001b[1;33m[\u001b[0m\u001b[1;36m0\u001b[0m\u001b[1;33m]\u001b[0m\u001b[1;33m)\u001b[0m\u001b[1;33m:\u001b[0m\u001b[1;33m\u001b[0m\u001b[1;33m\u001b[0m\u001b[0m\n\u001b[0;32m     73\u001b[0m             \u001b[0mst_time\u001b[0m    \u001b[1;33m=\u001b[0m \u001b[0mtime\u001b[0m\u001b[1;33m.\u001b[0m\u001b[0mtime\u001b[0m\u001b[1;33m(\u001b[0m\u001b[1;33m)\u001b[0m\u001b[1;33m\u001b[0m\u001b[1;33m\u001b[0m\u001b[0m\n\u001b[1;32m---> 74\u001b[1;33m             \u001b[0mrlt\u001b[0m \u001b[1;33m=\u001b[0m \u001b[0mself\u001b[0m\u001b[1;33m.\u001b[0m\u001b[0mfunc\u001b[0m\u001b[1;33m(\u001b[0m\u001b[0mnp\u001b[0m\u001b[1;33m.\u001b[0m\u001b[0matleast_2d\u001b[0m\u001b[1;33m(\u001b[0m\u001b[0mx\u001b[0m\u001b[1;33m[\u001b[0m\u001b[0mi\u001b[0m\u001b[1;33m]\u001b[0m\u001b[1;33m)\u001b[0m\u001b[1;33m)\u001b[0m\u001b[1;33m\u001b[0m\u001b[1;33m\u001b[0m\u001b[0m\n\u001b[0m\u001b[0;32m     75\u001b[0m             \u001b[0mf_evals\u001b[0m     \u001b[1;33m=\u001b[0m \u001b[0mnp\u001b[0m\u001b[1;33m.\u001b[0m\u001b[0mvstack\u001b[0m\u001b[1;33m(\u001b[0m\u001b[1;33m[\u001b[0m\u001b[0mf_evals\u001b[0m\u001b[1;33m,\u001b[0m\u001b[0mrlt\u001b[0m\u001b[1;33m]\u001b[0m\u001b[1;33m)\u001b[0m\u001b[1;33m\u001b[0m\u001b[1;33m\u001b[0m\u001b[0m\n\u001b[0;32m     76\u001b[0m             \u001b[0mcost_evals\u001b[0m \u001b[1;33m+=\u001b[0m \u001b[1;33m[\u001b[0m\u001b[0mtime\u001b[0m\u001b[1;33m.\u001b[0m\u001b[0mtime\u001b[0m\u001b[1;33m(\u001b[0m\u001b[1;33m)\u001b[0m\u001b[1;33m-\u001b[0m\u001b[0mst_time\u001b[0m\u001b[1;33m]\u001b[0m\u001b[1;33m\u001b[0m\u001b[1;33m\u001b[0m\u001b[0m\n",
      "\u001b[1;32m<ipython-input-12-c512773949be>\u001b[0m in \u001b[0;36mobj_funcLengthVarDiffReact\u001b[1;34m(x)\u001b[0m\n\u001b[0;32m     20\u001b[0m     \u001b[0mmPDE\u001b[0m\u001b[1;33m.\u001b[0m\u001b[0mk_0\u001b[0m\u001b[1;33m=\u001b[0m\u001b[0mx3\u001b[0m\u001b[1;33m\u001b[0m\u001b[1;33m\u001b[0m\u001b[0m\n\u001b[0;32m     21\u001b[0m     \u001b[0mmPDE\u001b[0m\u001b[1;33m.\u001b[0m\u001b[0mR\u001b[0m\u001b[1;33m=\u001b[0m\u001b[0mx4\u001b[0m\u001b[1;33m\u001b[0m\u001b[1;33m\u001b[0m\u001b[0m\n\u001b[1;32m---> 22\u001b[1;33m     \u001b[0mX1\u001b[0m \u001b[1;33m=\u001b[0m \u001b[0mmPDE\u001b[0m\u001b[1;33m.\u001b[0m\u001b[0mcomputeModelRegressors\u001b[0m\u001b[1;33m(\u001b[0m\u001b[1;33m)\u001b[0m \u001b[1;31m# Compute regressor matrix\u001b[0m\u001b[1;33m\u001b[0m\u001b[1;33m\u001b[0m\u001b[0m\n\u001b[0m\u001b[0;32m     23\u001b[0m     \u001b[0mmeanZ\u001b[0m\u001b[1;33m,\u001b[0m \u001b[0mcovZ\u001b[0m \u001b[1;33m=\u001b[0m \u001b[0mmPDE\u001b[0m\u001b[1;33m.\u001b[0m\u001b[0mcomputeZDistribution\u001b[0m\u001b[1;33m(\u001b[0m\u001b[0myTrain\u001b[0m\u001b[1;33m)\u001b[0m \u001b[1;31m# Infers z vector mean and covariance\u001b[0m\u001b[1;33m\u001b[0m\u001b[1;33m\u001b[0m\u001b[0m\n\u001b[0;32m     24\u001b[0m     \u001b[1;32mfor\u001b[0m \u001b[0mj\u001b[0m \u001b[1;32min\u001b[0m \u001b[0mrange\u001b[0m\u001b[1;33m(\u001b[0m\u001b[0mreps\u001b[0m\u001b[1;33m)\u001b[0m\u001b[1;33m:\u001b[0m\u001b[1;33m\u001b[0m\u001b[1;33m\u001b[0m\u001b[0m\n",
      "\u001b[1;32mc:\\users\\chris\\documents\\github\\advectiongp\\advectionGP\\models.py\u001b[0m in \u001b[0;36mcomputeModelRegressors\u001b[1;34m(self)\u001b[0m\n\u001b[0;32m    230\u001b[0m \u001b[1;33m\u001b[0m\u001b[0m\n\u001b[0;32m    231\u001b[0m \u001b[1;33m\u001b[0m\u001b[0m\n\u001b[1;32m--> 232\u001b[1;33m                 \u001b[0mX\u001b[0m\u001b[1;33m[\u001b[0m\u001b[0mi\u001b[0m\u001b[1;33m,\u001b[0m\u001b[0mj\u001b[0m\u001b[1;33m]\u001b[0m \u001b[1;33m=\u001b[0m \u001b[0msum\u001b[0m\u001b[1;33m(\u001b[0m\u001b[1;33m(\u001b[0m\u001b[0mphi\u001b[0m\u001b[1;33m*\u001b[0m\u001b[0madj\u001b[0m\u001b[1;33m*\u001b[0m\u001b[0mdt\u001b[0m\u001b[1;33m*\u001b[0m\u001b[0mdx\u001b[0m\u001b[1;33m*\u001b[0m\u001b[0mdy\u001b[0m\u001b[1;33m)\u001b[0m\u001b[1;33m.\u001b[0m\u001b[0mflatten\u001b[0m\u001b[1;33m(\u001b[0m\u001b[1;33m)\u001b[0m\u001b[1;33m)\u001b[0m\u001b[1;33m\u001b[0m\u001b[1;33m\u001b[0m\u001b[0m\n\u001b[0m\u001b[0;32m    233\u001b[0m         \u001b[0mprint\u001b[0m\u001b[1;33m(\u001b[0m\u001b[1;34m\"\"\u001b[0m\u001b[1;33m)\u001b[0m\u001b[1;33m;\u001b[0m\u001b[1;33m\u001b[0m\u001b[1;33m\u001b[0m\u001b[0m\n\u001b[0;32m    234\u001b[0m         \u001b[1;31m#phi * v, --> scale\u001b[0m\u001b[1;33m\u001b[0m\u001b[1;33m\u001b[0m\u001b[1;33m\u001b[0m\u001b[0m\n",
      "\u001b[1;31mKeyboardInterrupt\u001b[0m: "
     ]
    }
   ],
   "source": [
    "bounds4d = [{'name': 'var_1', 'type': 'continuous', 'domain': (0.1,10)},\n",
    "            {'name': 'var_2', 'type': 'continuous', 'domain': (0.1,10)},\n",
    "            {'name': 'var_3', 'type': 'continuous', 'domain': (1e-5,1)},\n",
    "            {'name': 'var_4', 'type': 'continuous', 'domain': (0,5)}]\n",
    "maxiter = 50\n",
    "\n",
    "myBopt_4d = GPyOpt.methods.BayesianOptimization(obj_funcLengthVarDiffReact, domain=bounds4d)\n",
    "myBopt_4d.run_optimization(max_iter = maxiter)"
   ]
  },
  {
   "cell_type": "code",
   "execution_count": null,
   "id": "43bbf96d",
   "metadata": {},
   "outputs": [],
   "source": [
    "print(\"=\"*20)\n",
    "print(\"Value of (x,y) that minimises the objective:\"+str(myBopt_4d.x_opt))    \n",
    "print(\"Minimum value of the objective: \"+str(myBopt_4d.fx_opt))     \n",
    "print(\"=\"*20)"
   ]
  },
  {
   "cell_type": "code",
   "execution_count": null,
   "id": "083c1154",
   "metadata": {},
   "outputs": [],
   "source": [
    "mPDE.kernel.l2=myBopt_4d.x_opt[0]\n",
    "mPDE.kernel.sigma2=myBopt_4d.x_opt[1]\n",
    "mPDE.k_0=myBopt_4d.x_opt[2]\n",
    "mPDE.R=myBopt_4d.x_opt[3]\n",
    "\n",
    "mPDE.sensormodel=sensors\n",
    "regressPDE = mPDE.computeModelRegressors() # Compute regressor matrix\n",
    "meanZPDE, covZPDE = mPDE.computeZDistribution(yTrain) # Infers z vector mean and covariance\n",
    "sourcePDE = mPDE.computeSourceFromPhi(meanZPDE) # Generates estimated source using inferred distributio"
   ]
  },
  {
   "cell_type": "markdown",
   "id": "9e135379",
   "metadata": {},
   "source": [
    "### Comparison"
   ]
  },
  {
   "cell_type": "code",
   "execution_count": null,
   "id": "945e36bf",
   "metadata": {},
   "outputs": [],
   "source": [
    "reps=100\n",
    "llObsPDE=0\n",
    "llObsGP=0\n",
    "llObsGPwind=0\n",
    "MSEPDE=0\n",
    "MSEGP=0\n",
    "MSEGPwind=0\n",
    "negPercent=0\n",
    "var = np.ones(len(yTest))*noiseSD**2\n",
    "for j in range(reps):\n",
    "    #mPDE.sensormodel=sensors\n",
    "    z = np.random.multivariate_normal(meanZPDE,covZPDE)\n",
    "    source = mPDE.computeSourceFromPhi(z) # Generates estimated source using inferred distribution\n",
    "    conc=mPDE.computeConcentration(source) # Compute test concentration\n",
    "    mPDE.sensormodel=sensorsTest\n",
    "    yPDE= mPDE.computeObservations(addNoise='TRUE') # Compute observations with noise\n",
    "    llObsPDE += -0.5*np.sum((np.square(np.subtract(yTest,yPDE))/var)+0.5*np.log(var))\n",
    "    MSEPDE += (np.square(np.subtract(yTest,yPDE))).mean() \n",
    "    #mODE.sensormodel=sensors\n",
    "    yGP = np.random.multivariate_normal(meanGP.flatten(),covGP)\n",
    "    llObsGP += -0.5*np.sum((np.square(np.subtract(yTest,yGP))/var)+0.5*np.log(var))\n",
    "    MSEGP += (np.square(np.subtract(yTest,yGP))).mean() \n",
    "    yGPwind = np.random.multivariate_normal(meanGPwind.flatten(),covGPwind)\n",
    "    llObsGPwind += -0.5*np.sum((np.square(np.subtract(yTest,yGPwind))/var)+0.5*np.log(var))\n",
    "    MSEGPwind += (np.square(np.subtract(yTest,yGPwind))).mean() \n",
    "llObsPDE = llObsPDE/reps\n",
    "llObsGP = llObsGP/reps\n",
    "llObsGPwind = llObsGPwind/reps\n",
    "\n",
    "MSEPDE = MSEPDE/reps\n",
    "MSEGP = MSEGP/reps\n",
    "MSEGPwind = MSEGPwind/reps\n",
    "\n",
    "Results = pd.DataFrame([[llObsPDE,MSEPDE],[llObsGP,MSEGP],[llObsGPwind,MSEGPwind]],columns=['Log like','MSE'],index=[\"PDE\",\"GP\", \"GPwind\"])\n"
   ]
  },
  {
   "cell_type": "code",
   "execution_count": null,
   "id": "c4da7298",
   "metadata": {},
   "outputs": [],
   "source": [
    "Results"
   ]
  },
  {
   "cell_type": "code",
   "execution_count": null,
   "id": "08cc177d",
   "metadata": {},
   "outputs": [],
   "source": [
    "source = mPDE.computeSourceFromPhi(meanZPDE) # Generates estimated source using inferred distribution\n",
    "conc=mPDE.computeConcentration(source) # Compute test concentration\n",
    "mPDE.sensormodel=sensorsTest\n",
    "yPDE= mPDE.computeObservations(addNoise='TRUE')"
   ]
  },
  {
   "cell_type": "code",
   "execution_count": null,
   "id": "f8a5a5c0",
   "metadata": {},
   "outputs": [],
   "source": [
    "X1, X2, X3, yGP2,yPDE2,yTest2,yGPwind2 = zip(*sorted(zip(XGPtest[:,0],XGPtest[:,1],XGPtest[:,2],meanGP,yPDE,yTest,meanGPwind)))"
   ]
  },
  {
   "cell_type": "code",
   "execution_count": null,
   "id": "47d8f050",
   "metadata": {},
   "outputs": [],
   "source": [
    "t0=0\n",
    "t1=16\n",
    "tconc=12\n",
    "\n",
    "a=np.floor(np.min(concTrain[tconc],))\n",
    "b=np.ceil(np.max(concTrain[tconc]))\n",
    "plt.rcParams[\"figure.figsize\"] = (15,4)\n",
    "fig = plt.figure()\n",
    "\n",
    "\n",
    "plt.subplot(1,4,1)\n",
    "im1=plt.imshow(concTrain[tconc],origin='lower',extent=[0,10,0,10])\n",
    "plt.title('Ground Truth Conc', fontsize=16, fontweight='bold')\n",
    "plt.xticks(fontsize=16)\n",
    "plt.yticks(fontsize=16)\n",
    "\n",
    "\n",
    "\n",
    "ploti = 1\n",
    "for title, data in zip(['Ground Truth Obs','PDE Obs', 'GP Obs','GPwind Obs'],[yTest2,yPDE2,yGP2,yGPwind2]):\n",
    "    \n",
    "    ploti+=1\n",
    "    plt.subplot(1,5,ploti)\n",
    "    im1=plt.scatter(X2[t0:t1],X3[t0:t1], s=500,c=data[t0:t1])\n",
    "    plt.title(title, fontsize=16, fontweight='bold')\n",
    "    plt.xticks(fontsize=16)\n",
    "    plt.yticks(fontsize=16)\n",
    "    plt.xlim(0,10)\n",
    "    plt.ylim(0,10)\n",
    "    plt.clim(a,b)\n",
    "        \n",
    "        \n",
    "    tick_font_size = 16\n",
    "        #if ploti % 3 == 2: plt.title(title, fontsize=16, fontweight='bold')\n",
    "        #if ploti % 3 == 3:\n",
    "        #    plt.colorbar(im1,fraction=0.046, pad=0.04)\n",
    "\n",
    "fig.tight_layout(rect=[0.1, 0.2, 1, 0.95])\n",
    "\n",
    "fig.subplots_adjust(bottom=0.25)\n",
    "cbar_ax = fig.add_axes([0.99, 0.27, 0.02, 0.57])\n",
    "cbar=fig.colorbar(im1, cax=cbar_ax,orientation='vertical')\n",
    "#cbar = plt.colorbar(im3,fraction=0.046)\n",
    "tick_font_size = 16\n",
    "cbar.ax.tick_params(labelsize = tick_font_size)\n",
    "plt.show()"
   ]
  },
  {
   "cell_type": "code",
   "execution_count": null,
   "id": "e94de6b4",
   "metadata": {},
   "outputs": [],
   "source": [
    "cData=np.abs(np.subtract(np.asarray(data[t0:t1]).flatten(),yTest2[t0:t1]))"
   ]
  },
  {
   "cell_type": "code",
   "execution_count": null,
   "id": "ef99536c",
   "metadata": {},
   "outputs": [],
   "source": [
    "plt.plot(yTest2,label=\"Ground Truth\")\n",
    "plt.plot(yGP2,label=\"GP\")\n",
    "plt.plot(yGPwind2,label=\"GPwind\")\n",
    "plt.plot(yPDE2,label=\"PDE\")\n",
    "plt.legend()"
   ]
  },
  {
   "cell_type": "code",
   "execution_count": null,
   "id": "a32520e7",
   "metadata": {},
   "outputs": [],
   "source": [
    "plt.plot(np.abs(np.subtract(np.asarray(yGPwind2).flatten(),yTest2)),label=\"GPwind\")\n",
    "plt.plot(np.abs(np.subtract(np.asarray(yGP2).flatten(),yTest2)),label=\"GP\")\n",
    "plt.plot(np.abs(np.subtract(np.asarray(yPDE2).flatten(),yTest2)),label=\"PDE\")\n",
    "plt.legend()"
   ]
  },
  {
   "cell_type": "code",
   "execution_count": null,
   "id": "86ecbbb2",
   "metadata": {},
   "outputs": [],
   "source": [
    "np.asarray(yGPwind2[t0:t1])"
   ]
  },
  {
   "cell_type": "code",
   "execution_count": null,
   "id": "62d29efa",
   "metadata": {},
   "outputs": [],
   "source": [
    "yTest2"
   ]
  },
  {
   "cell_type": "code",
   "execution_count": null,
   "id": "812736b2",
   "metadata": {},
   "outputs": [],
   "source": []
  }
 ],
 "metadata": {
  "kernelspec": {
   "display_name": "Python 3 (ipykernel)",
   "language": "python",
   "name": "python3"
  },
  "language_info": {
   "codemirror_mode": {
    "name": "ipython",
    "version": 3
   },
   "file_extension": ".py",
   "mimetype": "text/x-python",
   "name": "python",
   "nbconvert_exporter": "python",
   "pygments_lexer": "ipython3",
   "version": "3.8.8"
  }
 },
 "nbformat": 4,
 "nbformat_minor": 5
}
