{
 "cells": [
  {
   "cell_type": "code",
   "execution_count": 1,
   "id": "75601b25",
   "metadata": {},
   "outputs": [],
   "source": [
    "#Import Modules\n",
    "\n",
    "#numpy\n",
    "import numpy as np\n",
    "from numpy.random import multivariate_normal #For later example\n",
    "\n",
    "import pandas as pd\n",
    "\n",
    "#advectionGP\n",
    "from advectionGP.models import AdjointAdvectionDiffusionReactionModel as PDEModel #Model module builds basic parts of the PDE problem, combines other classes into full model\n",
    "from advectionGP.models import AdjointSimpleODEModel as ODEModel #Model module builds basic pa\n",
    "from advectionGP.sensors import FixedSensorModel #Builds sensor arrays to generate data for foward model or to generate observations for comparison\n",
    "from advectionGP.kernels import EQ #Generates exponentiated quadratic kernel approximation\n",
    "from advectionGP.test import TestKernels #Unit test model\n",
    "\n",
    "#Plotting tools\n",
    "from mpl_toolkits.mplot3d import Axes3D \n",
    "import matplotlib.pyplot as plt\n",
    "from matplotlib import cm\n",
    "from matplotlib.ticker import LinearLocator, FormatStrFormatter\n",
    "\n",
    "# GPy: Gaussian processes library\n",
    "import GPy\n",
    "\n",
    "#GPyOpt\n",
    "import GPyOpt\n",
    "from GPyOpt.methods import BayesianOptimization"
   ]
  },
  {
   "cell_type": "code",
   "execution_count": 2,
   "id": "c43baab9",
   "metadata": {},
   "outputs": [],
   "source": [
    "# generate sensor locations for training data with shape [total observations, 4], where each row has elements \n",
    "#[lower time location, upper time location, x location, y location]\n",
    "\n",
    "tlocL = np.linspace(1,8,5) # lower time\n",
    "xloc=np.linspace(2,8,5) # x locations\n",
    "yloc=np.linspace(2,8,5) # y locations\n",
    "sensN = len(xloc)*len(yloc) # total number of sensors \n",
    "obsN = len(tlocL) # total time points at which an observation is taken\n",
    "X= np.zeros((obsN*sensN,4)) # obsN*sensN is total observations over all sensors and all times\n",
    "# Build sensor locations\n",
    "X[:,0] = np.asarray(np.meshgrid(tlocL,xloc,yloc)).reshape(3,sensN*obsN)[0] #lower time\n",
    "X[:,2] = np.asarray(np.meshgrid(tlocL,xloc,yloc)).reshape(3,sensN*obsN)[1] # x location\n",
    "X[:,3] = np.asarray(np.meshgrid(tlocL,xloc,yloc)).reshape(3,sensN*obsN)[2] # ylocation\n",
    "X[:,1] = X[:,0]+1 # upper time\n",
    "\n",
    "XGP= np.zeros((sensN*obsN,3))\n",
    "XGP[:,0] = (X[:,0]+X[:,1])/2\n",
    "XGP[:,1] = X[:,2]\n",
    "XGP[:,2] = X[:,3] \n",
    "\n",
    "\n",
    "\n",
    "sensors = FixedSensorModel(X,1) # establish sensor model arguments are sensor locations and spatial averaging\n",
    "\n",
    "# generate sensor locations for test data with shape [total observations, 4], where each row has elements \n",
    "#[lower time location, upper time location, x location, y location]\n",
    "\n",
    "tlocL = np.linspace(2,9,5) # lower time\n",
    "xloc=np.linspace(1.5,8.5,4) # x locations\n",
    "yloc=np.linspace(1.5,8.5,4) # y locations\n",
    "sensN = len(xloc)*len(yloc) # total number of sensors \n",
    "obsN = len(tlocL) # total time points at which an observation is taken\n",
    "Xtest= np.zeros((obsN*sensN,4)) # obsN*sensN is total observations over all sensors and all times\n",
    "# Build sensor locations\n",
    "Xtest[:,0] = np.asarray(np.meshgrid(tlocL,xloc,yloc)).reshape(3,sensN*obsN)[0] \n",
    "Xtest[:,2] = np.asarray(np.meshgrid(tlocL,xloc,yloc)).reshape(3,sensN*obsN)[1]\n",
    "Xtest[:,3] = np.asarray(np.meshgrid(tlocL,xloc,yloc)).reshape(3,sensN*obsN)[2]\n",
    "Xtest[:,1] = Xtest[:,0]+1\n",
    "\n",
    "XGPtest= np.zeros((sensN*obsN,3))\n",
    "XGPtest[:,0] = (Xtest[:,0]+Xtest[:,1])/2\n",
    "XGPtest[:,1] = Xtest[:,2]\n",
    "XGPtest[:,2] = Xtest[:,3]\n",
    "\n",
    "sensorsTest = FixedSensorModel(Xtest,1) # establish sensor model"
   ]
  },
  {
   "cell_type": "code",
   "execution_count": 3,
   "id": "81f13c3f",
   "metadata": {},
   "outputs": [
    {
     "name": "stdout",
     "output_type": "stream",
     "text": [
      "WARNING: spatial grid size does not meet the finite difference advection diffusion stability criteria\n"
     ]
    }
   ],
   "source": [
    "k_0 = 0.01 #Diffusion\n",
    "R=0.1\n",
    "noiseSD = 0.05 #Observation noise\n",
    "N_feat=2000 # number of features used to approximate ground truth GP\n",
    "boundary = ([0,0,0],[10,10,10])# corners of the grid - in units of space\n",
    "k = EQ(5, 2.0) # generate EQ kernel arguments are lengthscale and variance\n",
    "res = [50,30,30] # grid size for time, x and y\n",
    "wind=np.cos(np.linspace(0,6*np.pi,res[1]))*0.5\n",
    "u=[]\n",
    "u.append(np.ones(res)*wind) #x direction wind\n",
    "u.append(np.ones(res)*0.0) # y direction wind\n",
    "\n",
    "#u.append(np.ones(res)*0.1) #x direction wind\n",
    "#u.append(np.ones(res)*0.1) # y direction wind\n",
    "m = PDEModel(resolution=res,boundary=boundary,N_feat=N_feat,noiseSD=noiseSD,kernel=k,sensormodel=sensors,u=u,k_0=k_0,R=R) #initiate PDE model to build concentration\n",
    "\n",
    "dt,dx,dy,dx2,dy2,Nt,Nx,Ny = m.getGridStepSize() # useful numbers!\n",
    "\n",
    "z=np.random.normal(0,1.0,N_feat) # Generate z to compute source\n",
    "sourceGT=(m.computeSourceFromPhi(z))# Compute source\n",
    "\n"
   ]
  },
  {
   "cell_type": "code",
   "execution_count": 4,
   "id": "491a7440",
   "metadata": {},
   "outputs": [],
   "source": [
    "sensWindX = np.ravel_multi_index(m.getGridCoord(XGP).transpose(), np.asarray(m.u[0]).shape)\n",
    "sensWindY = np.ravel_multi_index(m.getGridCoord(XGP).transpose(), np.asarray(m.u[1]).shape)\n",
    "xwind=np.asarray(m.u).take(sensWindX)\n",
    "ywind=np.asarray(m.u).take(sensWindY)\n",
    "\n",
    "XGPwind = np.c_[XGP,xwind,ywind]\n",
    "\n",
    "sensWindX = np.ravel_multi_index(m.getGridCoord(XGPtest).transpose(), np.asarray(m.u[0]).shape)\n",
    "sensWindY = np.ravel_multi_index(m.getGridCoord(XGPtest).transpose(), np.asarray(m.u[1]).shape)\n",
    "xwind=np.asarray(m.u).take(sensWindX)\n",
    "ywind=np.asarray(m.u).take(sensWindY)\n",
    "\n",
    "XGPwindTest = np.c_[XGPtest,xwind,ywind]"
   ]
  },
  {
   "cell_type": "code",
   "execution_count": 5,
   "id": "4672d3bf",
   "metadata": {},
   "outputs": [],
   "source": [
    "concTrain=m.computeConcentration(sourceGT) # Compute concentration - runs advection diffusion forward model\n",
    "yTrain= m.computeObservations() # Compute observations with noise uses m.sensormodel for observation locations\n",
    "\n",
    "m.sensormodel=sensorsTest\n",
    "yTest= m.computeObservations()"
   ]
  },
  {
   "cell_type": "markdown",
   "id": "8590baec",
   "metadata": {},
   "source": [
    "### Inverse PDE"
   ]
  },
  {
   "cell_type": "code",
   "execution_count": 6,
   "id": "8b8c9b89",
   "metadata": {},
   "outputs": [
    {
     "name": "stdout",
     "output_type": "stream",
     "text": [
      "WARNING: spatial grid size does not meet the finite difference advection diffusion stability criteria\n",
      "Calculating Adjoints...\n",
      "124/125 \n",
      "Calculating Phis...\n",
      "999/1000 \n"
     ]
    }
   ],
   "source": [
    "N_feat =1000 #Number of features used to infer the source\n",
    "k1 = EQ(2, 2.0) \n",
    "k2 = EQ(2, 2.0) \n",
    "\n",
    "mPDE = PDEModel(resolution=res,boundary=boundary,N_feat=N_feat,noiseSD=noiseSD,kernel=k1,sensormodel=sensors,u=u,k_0=k_0,R=R) #Initiate new model for inference\n",
    "regressPDE = mPDE.computeModelRegressors() # Compute regressor matrix\n",
    "meanZPDE, covZPDE = mPDE.computeZDistribution(yTrain) # Infers z vector mean and covariance\n",
    "sourcePDE = mPDE.computeSourceFromPhi(meanZPDE) # Generates estimated source using inferred distributio"
   ]
  },
  {
   "cell_type": "markdown",
   "id": "024ae5ef",
   "metadata": {},
   "source": [
    "### Inverse GP"
   ]
  },
  {
   "cell_type": "code",
   "execution_count": 7,
   "id": "57d6a4ed",
   "metadata": {
    "scrolled": true
   },
   "outputs": [
    {
     "data": {
      "text/html": [
       "<style type=\"text/css\">\n",
       ".pd{\n",
       "    font-family: \"Courier New\", Courier, monospace !important;\n",
       "    width: 100%;\n",
       "    padding: 3px;\n",
       "}\n",
       "</style>\n",
       "\n",
       "<p class=pd>\n",
       "<b>Model</b>: GP regression<br>\n",
       "<b>Objective</b>: 578.7616352788572<br>\n",
       "<b>Number of Parameters</b>: 3<br>\n",
       "<b>Number of Optimization Parameters</b>: 3<br>\n",
       "<b>Updates</b>: True<br>\n",
       "</p>\n",
       "<style type=\"text/css\">\n",
       ".tg  {font-family:\"Courier New\", Courier, monospace !important;padding:2px 3px;word-break:normal;border-collapse:collapse;border-spacing:0;border-color:#DCDCDC;margin:0px auto;width:100%;}\n",
       ".tg td{font-family:\"Courier New\", Courier, monospace !important;font-weight:bold;color:#444;background-color:#F7FDFA;border-style:solid;border-width:1px;overflow:hidden;word-break:normal;border-color:#DCDCDC;}\n",
       ".tg th{font-family:\"Courier New\", Courier, monospace !important;font-weight:normal;color:#fff;background-color:#26ADE4;border-style:solid;border-width:1px;overflow:hidden;word-break:normal;border-color:#DCDCDC;}\n",
       ".tg .tg-left{font-family:\"Courier New\", Courier, monospace !important;font-weight:normal;text-align:left;}\n",
       ".tg .tg-center{font-family:\"Courier New\", Courier, monospace !important;font-weight:normal;text-align:center;}\n",
       ".tg .tg-right{font-family:\"Courier New\", Courier, monospace !important;font-weight:normal;text-align:right;}\n",
       "</style>\n",
       "<table class=\"tg\"><tr><th><b>  GP_regression.         </b></th><th><b>value</b></th><th><b>constraints</b></th><th><b>priors</b></th></tr>\n",
       "<tr><td class=tg-left>  rbf.variance           </td><td class=tg-right>  1.0</td><td class=tg-center>    +ve    </td><td class=tg-center>      </td></tr>\n",
       "<tr><td class=tg-left>  rbf.lengthscale        </td><td class=tg-right>  1.0</td><td class=tg-center>    +ve    </td><td class=tg-center>      </td></tr>\n",
       "<tr><td class=tg-left>  Gaussian_noise.variance</td><td class=tg-right>  1.0</td><td class=tg-center>    +ve    </td><td class=tg-center>      </td></tr>\n",
       "</table>"
      ],
      "text/plain": [
       "<GPy.models.gp_regression.GPRegression at 0x2eb7859a520>"
      ]
     },
     "execution_count": 7,
     "metadata": {},
     "output_type": "execute_result"
    }
   ],
   "source": [
    "kGP = GPy.kern.RBF(3, name=\"rbf\")\n",
    "mGP = GPy.models.GPRegression(XGP, yTrain[:,None], kGP)\n",
    "mGP "
   ]
  },
  {
   "cell_type": "code",
   "execution_count": 8,
   "id": "fa307318",
   "metadata": {},
   "outputs": [
    {
     "data": {
      "text/html": [
       "<style type=\"text/css\">\n",
       ".pd{\n",
       "    font-family: \"Courier New\", Courier, monospace !important;\n",
       "    width: 100%;\n",
       "    padding: 3px;\n",
       "}\n",
       "</style>\n",
       "\n",
       "<p class=pd>\n",
       "<b>Model</b>: GP regression<br>\n",
       "<b>Objective</b>: 640.2663199151066<br>\n",
       "<b>Number of Parameters</b>: 7<br>\n",
       "<b>Number of Optimization Parameters</b>: 7<br>\n",
       "<b>Updates</b>: True<br>\n",
       "</p>\n",
       "<style type=\"text/css\">\n",
       ".tg  {font-family:\"Courier New\", Courier, monospace !important;padding:2px 3px;word-break:normal;border-collapse:collapse;border-spacing:0;border-color:#DCDCDC;margin:0px auto;width:100%;}\n",
       ".tg td{font-family:\"Courier New\", Courier, monospace !important;font-weight:bold;color:#444;background-color:#F7FDFA;border-style:solid;border-width:1px;overflow:hidden;word-break:normal;border-color:#DCDCDC;}\n",
       ".tg th{font-family:\"Courier New\", Courier, monospace !important;font-weight:normal;color:#fff;background-color:#26ADE4;border-style:solid;border-width:1px;overflow:hidden;word-break:normal;border-color:#DCDCDC;}\n",
       ".tg .tg-left{font-family:\"Courier New\", Courier, monospace !important;font-weight:normal;text-align:left;}\n",
       ".tg .tg-center{font-family:\"Courier New\", Courier, monospace !important;font-weight:normal;text-align:center;}\n",
       ".tg .tg-right{font-family:\"Courier New\", Courier, monospace !important;font-weight:normal;text-align:right;}\n",
       "</style>\n",
       "<table class=\"tg\"><tr><th><b>  GP_regression.         </b></th><th><b>value</b></th><th><b>constraints</b></th><th><b>priors</b></th></tr>\n",
       "<tr><td class=tg-left>  rbf.variance           </td><td class=tg-right>  1.0</td><td class=tg-center>    +ve    </td><td class=tg-center>      </td></tr>\n",
       "<tr><td class=tg-left>  rbf.lengthscale        </td><td class=tg-right> (5,)</td><td class=tg-center>    +ve    </td><td class=tg-center>      </td></tr>\n",
       "<tr><td class=tg-left>  Gaussian_noise.variance</td><td class=tg-right>  1.0</td><td class=tg-center>    +ve    </td><td class=tg-center>      </td></tr>\n",
       "</table>"
      ],
      "text/plain": [
       "<GPy.models.gp_regression.GPRegression at 0x2eb730d6970>"
      ]
     },
     "execution_count": 8,
     "metadata": {},
     "output_type": "execute_result"
    }
   ],
   "source": [
    "#kGPwind = GPy.kern.RBF(3,active_dims=[0,1,2])*GPy.kern.RBF(2,active_dims=[3,4])\n",
    "kGPwind = GPy.kern.RBF(5,ARD='true')\n",
    "mGPwind = GPy.models.GPRegression(XGPwind, yTrain[:,None], kGPwind)\n",
    "mGPwind "
   ]
  },
  {
   "cell_type": "markdown",
   "id": "94bbf7b4",
   "metadata": {},
   "source": [
    "### Model Optimisation"
   ]
  },
  {
   "cell_type": "code",
   "execution_count": 9,
   "id": "fc375ab6",
   "metadata": {},
   "outputs": [
    {
     "data": {
      "text/html": [
       "<style type=\"text/css\">\n",
       ".pd{\n",
       "    font-family: \"Courier New\", Courier, monospace !important;\n",
       "    width: 100%;\n",
       "    padding: 3px;\n",
       "}\n",
       "</style>\n",
       "\n",
       "<p class=pd>\n",
       "<b>Model</b>: GP regression<br>\n",
       "<b>Objective</b>: 185.0333313108066<br>\n",
       "<b>Number of Parameters</b>: 3<br>\n",
       "<b>Number of Optimization Parameters</b>: 3<br>\n",
       "<b>Updates</b>: True<br>\n",
       "</p>\n",
       "<style type=\"text/css\">\n",
       ".tg  {font-family:\"Courier New\", Courier, monospace !important;padding:2px 3px;word-break:normal;border-collapse:collapse;border-spacing:0;border-color:#DCDCDC;margin:0px auto;width:100%;}\n",
       ".tg td{font-family:\"Courier New\", Courier, monospace !important;font-weight:bold;color:#444;background-color:#F7FDFA;border-style:solid;border-width:1px;overflow:hidden;word-break:normal;border-color:#DCDCDC;}\n",
       ".tg th{font-family:\"Courier New\", Courier, monospace !important;font-weight:normal;color:#fff;background-color:#26ADE4;border-style:solid;border-width:1px;overflow:hidden;word-break:normal;border-color:#DCDCDC;}\n",
       ".tg .tg-left{font-family:\"Courier New\", Courier, monospace !important;font-weight:normal;text-align:left;}\n",
       ".tg .tg-center{font-family:\"Courier New\", Courier, monospace !important;font-weight:normal;text-align:center;}\n",
       ".tg .tg-right{font-family:\"Courier New\", Courier, monospace !important;font-weight:normal;text-align:right;}\n",
       "</style>\n",
       "<table class=\"tg\"><tr><th><b>  GP_regression.         </b></th><th><b>             value</b></th><th><b>constraints</b></th><th><b>priors</b></th></tr>\n",
       "<tr><td class=tg-left>  rbf.variance           </td><td class=tg-right> 18.16433091466656</td><td class=tg-center>    +ve    </td><td class=tg-center>      </td></tr>\n",
       "<tr><td class=tg-left>  rbf.lengthscale        </td><td class=tg-right> 4.990191064453969</td><td class=tg-center>    +ve    </td><td class=tg-center>      </td></tr>\n",
       "<tr><td class=tg-left>  Gaussian_noise.variance</td><td class=tg-right>0.6639910602985112</td><td class=tg-center>    +ve    </td><td class=tg-center>      </td></tr>\n",
       "</table>"
      ],
      "text/plain": [
       "<GPy.models.gp_regression.GPRegression at 0x2eb7859a520>"
      ]
     },
     "execution_count": 9,
     "metadata": {},
     "output_type": "execute_result"
    }
   ],
   "source": [
    "mGP.optimize()\n",
    "mGP"
   ]
  },
  {
   "cell_type": "code",
   "execution_count": 10,
   "id": "b85ca618",
   "metadata": {},
   "outputs": [
    {
     "data": {
      "text/html": [
       "<style type=\"text/css\">\n",
       ".pd{\n",
       "    font-family: \"Courier New\", Courier, monospace !important;\n",
       "    width: 100%;\n",
       "    padding: 3px;\n",
       "}\n",
       "</style>\n",
       "\n",
       "<p class=pd>\n",
       "<b>Model</b>: GP regression<br>\n",
       "<b>Objective</b>: -61.33660621776165<br>\n",
       "<b>Number of Parameters</b>: 7<br>\n",
       "<b>Number of Optimization Parameters</b>: 7<br>\n",
       "<b>Updates</b>: True<br>\n",
       "</p>\n",
       "<style type=\"text/css\">\n",
       ".tg  {font-family:\"Courier New\", Courier, monospace !important;padding:2px 3px;word-break:normal;border-collapse:collapse;border-spacing:0;border-color:#DCDCDC;margin:0px auto;width:100%;}\n",
       ".tg td{font-family:\"Courier New\", Courier, monospace !important;font-weight:bold;color:#444;background-color:#F7FDFA;border-style:solid;border-width:1px;overflow:hidden;word-break:normal;border-color:#DCDCDC;}\n",
       ".tg th{font-family:\"Courier New\", Courier, monospace !important;font-weight:normal;color:#fff;background-color:#26ADE4;border-style:solid;border-width:1px;overflow:hidden;word-break:normal;border-color:#DCDCDC;}\n",
       ".tg .tg-left{font-family:\"Courier New\", Courier, monospace !important;font-weight:normal;text-align:left;}\n",
       ".tg .tg-center{font-family:\"Courier New\", Courier, monospace !important;font-weight:normal;text-align:center;}\n",
       ".tg .tg-right{font-family:\"Courier New\", Courier, monospace !important;font-weight:normal;text-align:right;}\n",
       "</style>\n",
       "<table class=\"tg\"><tr><th><b>  GP_regression.         </b></th><th><b>                value</b></th><th><b>constraints</b></th><th><b>priors</b></th></tr>\n",
       "<tr><td class=tg-left>  rbf.variance           </td><td class=tg-right>    14.28722211781592</td><td class=tg-center>    +ve    </td><td class=tg-center>      </td></tr>\n",
       "<tr><td class=tg-left>  rbf.lengthscale        </td><td class=tg-right>                 (5,)</td><td class=tg-center>    +ve    </td><td class=tg-center>      </td></tr>\n",
       "<tr><td class=tg-left>  Gaussian_noise.variance</td><td class=tg-right>5.140417781811772e-06</td><td class=tg-center>    +ve    </td><td class=tg-center>      </td></tr>\n",
       "</table>"
      ],
      "text/plain": [
       "<GPy.models.gp_regression.GPRegression at 0x2eb730d6970>"
      ]
     },
     "execution_count": 10,
     "metadata": {},
     "output_type": "execute_result"
    }
   ],
   "source": [
    "mGPwind.optimize()\n",
    "mGPwind"
   ]
  },
  {
   "cell_type": "code",
   "execution_count": 11,
   "id": "eb2b7ea2",
   "metadata": {},
   "outputs": [],
   "source": [
    "meanGP, covGP = mGP.predict_noiseless(XGPtest, full_cov=True)\n",
    "meanGPwind, covGPwind = mGPwind.predict_noiseless(XGPwindTest, full_cov=True)"
   ]
  },
  {
   "cell_type": "code",
   "execution_count": 12,
   "id": "8791f798",
   "metadata": {},
   "outputs": [
    {
     "name": "stdout",
     "output_type": "stream",
     "text": [
      "WARNING: spatial grid size does not meet the finite difference advection diffusion stability criteria\n"
     ]
    }
   ],
   "source": [
    "N_feat =200\n",
    "\n",
    "k_02 = np.linspace(2,5,10)\n",
    "MSE = np.zeros(len(k_02))\n",
    "sources =[]\n",
    "reps = 100\n",
    "var = np.ones(len(yTest))*noiseSD**2\n",
    "llObs = 0\n",
    "k2 = EQ(2,2)\n",
    "mPDE = PDEModel(resolution=res,boundary=boundary,N_feat=N_feat,noiseSD=noiseSD,kernel=k2,sensormodel=sensors,u=u,k_0=k_0,R=R) #initiate PDE model\n",
    "def obj_funcLengthVarDiffReact(x):\n",
    "    x1 = x[:, 0]\n",
    "    x2 = x[:, 1]\n",
    "    x3 = x[:, 2]\n",
    "    x4 = x[:, 3]\n",
    "    llObs = 0\n",
    "    mPDE.sensormodel=sensors\n",
    "    mPDE.kernel.l2=x1\n",
    "    mPDE.kernel.sigma2=x2\n",
    "    mPDE.k_0=x3\n",
    "    mPDE.R=x4\n",
    "    X1 = mPDE.computeModelRegressors() # Compute regressor matrix\n",
    "    meanZ, covZ = mPDE.computeZDistribution(yTrain) # Infers z vector mean and covariance\n",
    "    for j in range(reps):\n",
    "        mPDE.sensormodel=sensors\n",
    "        z = np.random.multivariate_normal(meanZ,covZ)\n",
    "        source = mPDE.computeSourceFromPhi(z) # Generates estimated source using inferred distribution\n",
    "        conc=mPDE.computeConcentration(source) # Compute test concentration\n",
    "        mPDE.sensormodel=sensorsTest\n",
    "        yInfer= mPDE.computeObservations() # Compute observations with noise\n",
    "        llObs += -0.5*np.sum((np.square(np.subtract(yTest,yInfer))/var)+0.5*np.log(var))\n",
    "\n",
    "    llObs = llObs/reps\n",
    "    return(-llObs)"
   ]
  },
  {
   "cell_type": "code",
   "execution_count": 13,
   "id": "d370e3b4",
   "metadata": {},
   "outputs": [
    {
     "name": "stdout",
     "output_type": "stream",
     "text": [
      "Calculating Adjoints...\n",
      "124/125 \n",
      "Calculating Phis...\n",
      "199/200 \n",
      "Calculating Adjoints...\n",
      "124/125 \n",
      "Calculating Phis...\n",
      "199/200 \n",
      "Calculating Adjoints...\n",
      "124/125 \n",
      "Calculating Phis...\n",
      "199/200 \n",
      "Calculating Adjoints...\n",
      "124/125 \n",
      "Calculating Phis...\n",
      "199/200 \n",
      "Calculating Adjoints...\n",
      "124/125 \n",
      "Calculating Phis...\n",
      "199/200 \n",
      "Calculating Adjoints...\n",
      "124/125 \n",
      "Calculating Phis...\n",
      "199/200 \n",
      "Calculating Adjoints...\n",
      "124/125 \n",
      "Calculating Phis...\n",
      "199/200 \n",
      "Calculating Adjoints...\n",
      "124/125 \n",
      "Calculating Phis...\n",
      "199/200 \n",
      "Calculating Adjoints...\n",
      "124/125 \n",
      "Calculating Phis...\n",
      "199/200 \n",
      "Calculating Adjoints...\n",
      "124/125 \n",
      "Calculating Phis...\n",
      "199/200 \n",
      "Calculating Adjoints...\n",
      "124/125 \n",
      "Calculating Phis...\n",
      "199/200 \n",
      "Calculating Adjoints...\n",
      "124/125 \n",
      "Calculating Phis...\n",
      "199/200 \n",
      "Calculating Adjoints...\n",
      "124/125 \n",
      "Calculating Phis...\n",
      "199/200 \n",
      "Calculating Adjoints...\n",
      "124/125 \n",
      "Calculating Phis...\n",
      "199/200 \n",
      "Calculating Adjoints...\n",
      "124/125 \n",
      "Calculating Phis...\n",
      "199/200 \n",
      "Calculating Adjoints...\n",
      "124/125 \n",
      "Calculating Phis...\n",
      "199/200 \n",
      "Calculating Adjoints...\n",
      "124/125 \n",
      "Calculating Phis...\n",
      "199/200 \n",
      "Calculating Adjoints...\n",
      "124/125 \n",
      "Calculating Phis...\n",
      "199/200 \n",
      "Calculating Adjoints...\n",
      "124/125 \n",
      "Calculating Phis...\n",
      "199/200 \n",
      "Calculating Adjoints...\n",
      "124/125 \n",
      "Calculating Phis...\n",
      "199/200 \n",
      "Calculating Adjoints...\n",
      "124/125 \n",
      "Calculating Phis...\n",
      "199/200 \n",
      "Calculating Adjoints...\n",
      "124/125 \n",
      "Calculating Phis...\n",
      "199/200 \n",
      "Calculating Adjoints...\n",
      "124/125 \n",
      "Calculating Phis...\n",
      "199/200 \n",
      "Calculating Adjoints...\n",
      "124/125 \n",
      "Calculating Phis...\n",
      "199/200 \n",
      "Calculating Adjoints...\n",
      "124/125 \n",
      "Calculating Phis...\n",
      "199/200 \n",
      "Calculating Adjoints...\n",
      "124/125 \n",
      "Calculating Phis...\n",
      "199/200 \n",
      "Calculating Adjoints...\n",
      "124/125 \n",
      "Calculating Phis...\n",
      "199/200 \n",
      "Calculating Adjoints...\n",
      "124/125 \n",
      "Calculating Phis...\n",
      "199/200 \n",
      "Calculating Adjoints...\n",
      "124/125 \n",
      "Calculating Phis...\n",
      "199/200 \n",
      "Calculating Adjoints...\n",
      "124/125 \n",
      "Calculating Phis...\n",
      "199/200 \n",
      "Calculating Adjoints...\n",
      "124/125 \n",
      "Calculating Phis...\n",
      "199/200 \n",
      "Calculating Adjoints...\n",
      "124/125 \n",
      "Calculating Phis...\n",
      "199/200 \n",
      "Calculating Adjoints...\n",
      "124/125 \n",
      "Calculating Phis...\n",
      "199/200 \n",
      "Calculating Adjoints...\n",
      "124/125 \n",
      "Calculating Phis...\n",
      "199/200 \n",
      "Calculating Adjoints...\n",
      "124/125 \n",
      "Calculating Phis...\n",
      "199/200 \n",
      "Calculating Adjoints...\n",
      "124/125 \n",
      "Calculating Phis...\n",
      "199/200 \n",
      "Calculating Adjoints...\n",
      "124/125 \n",
      "Calculating Phis...\n",
      "199/200 \n",
      "Calculating Adjoints...\n",
      "124/125 \n",
      "Calculating Phis...\n",
      "199/200 \n",
      "Calculating Adjoints...\n",
      "124/125 \n",
      "Calculating Phis...\n",
      "199/200 \n",
      "Calculating Adjoints...\n",
      "124/125 \n",
      "Calculating Phis...\n",
      "199/200 \n",
      "Calculating Adjoints...\n",
      "124/125 \n",
      "Calculating Phis...\n",
      "199/200 \n",
      "Calculating Adjoints...\n",
      "124/125 \n",
      "Calculating Phis...\n",
      "199/200 \n",
      "Calculating Adjoints...\n",
      "124/125 \n",
      "Calculating Phis...\n",
      "199/200 \n",
      "Calculating Adjoints...\n",
      "124/125 \n",
      "Calculating Phis...\n",
      "199/200 \n",
      "Calculating Adjoints...\n",
      "124/125 \n",
      "Calculating Phis...\n",
      "199/200 \n",
      "Calculating Adjoints...\n",
      "124/125 \n",
      "Calculating Phis...\n",
      "199/200 \n",
      "Calculating Adjoints...\n",
      "124/125 \n",
      "Calculating Phis...\n",
      "199/200 \n",
      "Calculating Adjoints...\n",
      "124/125 \n",
      "Calculating Phis...\n",
      "199/200 \n",
      "Calculating Adjoints...\n",
      "124/125 \n",
      "Calculating Phis...\n",
      "199/200 \n",
      "Calculating Adjoints...\n",
      "124/125 \n",
      "Calculating Phis...\n",
      "199/200 \n",
      "Calculating Adjoints...\n",
      "124/125 \n",
      "Calculating Phis...\n",
      "199/200 \n",
      "Calculating Adjoints...\n",
      "124/125 \n",
      "Calculating Phis...\n",
      "199/200 \n",
      "Calculating Adjoints...\n",
      "124/125 \n",
      "Calculating Phis...\n",
      "199/200 \n",
      "Calculating Adjoints...\n",
      "124/125 \n",
      "Calculating Phis...\n",
      "199/200 \n",
      "Calculating Adjoints...\n",
      "124/125 \n",
      "Calculating Phis...\n",
      "199/200 \n"
     ]
    }
   ],
   "source": [
    "bounds4d = [{'name': 'var_1', 'type': 'continuous', 'domain': (0.1,10)},\n",
    "            {'name': 'var_2', 'type': 'continuous', 'domain': (0.1,10)},\n",
    "            {'name': 'var_3', 'type': 'continuous', 'domain': (1e-5,1)},\n",
    "            {'name': 'var_4', 'type': 'continuous', 'domain': (0,5)}]\n",
    "maxiter = 50\n",
    "\n",
    "myBopt_4d = GPyOpt.methods.BayesianOptimization(obj_funcLengthVarDiffReact, domain=bounds4d)\n",
    "myBopt_4d.run_optimization(max_iter = maxiter)"
   ]
  },
  {
   "cell_type": "code",
   "execution_count": 14,
   "id": "43bbf96d",
   "metadata": {},
   "outputs": [
    {
     "name": "stdout",
     "output_type": "stream",
     "text": [
      "====================\n",
      "Value of (x,y) that minimises the objective:[1.00000000e+01 3.72325599e+00 1.00000000e-05 5.19070942e-01]\n",
      "Minimum value of the objective: 4758.218695378463\n",
      "====================\n"
     ]
    }
   ],
   "source": [
    "print(\"=\"*20)\n",
    "print(\"Value of (x,y) that minimises the objective:\"+str(myBopt_4d.x_opt))    \n",
    "print(\"Minimum value of the objective: \"+str(myBopt_4d.fx_opt))     \n",
    "print(\"=\"*20)"
   ]
  },
  {
   "cell_type": "code",
   "execution_count": 15,
   "id": "083c1154",
   "metadata": {},
   "outputs": [
    {
     "name": "stdout",
     "output_type": "stream",
     "text": [
      "Calculating Adjoints...\n",
      "124/125 \n",
      "Calculating Phis...\n",
      "199/200 \n"
     ]
    }
   ],
   "source": [
    "mPDE.kernel.l2=myBopt_4d.x_opt[0]\n",
    "mPDE.kernel.sigma2=myBopt_4d.x_opt[1]\n",
    "mPDE.k_0=myBopt_4d.x_opt[2]\n",
    "mPDE.R=myBopt_4d.x_opt[3]\n",
    "\n",
    "mPDE.sensormodel=sensors\n",
    "regressPDE = mPDE.computeModelRegressors() # Compute regressor matrix\n",
    "meanZPDE, covZPDE = mPDE.computeZDistribution(yTrain) # Infers z vector mean and covariance\n",
    "sourcePDE = mPDE.computeSourceFromPhi(meanZPDE) # Generates estimated source using inferred distributio"
   ]
  },
  {
   "cell_type": "markdown",
   "id": "9e135379",
   "metadata": {},
   "source": [
    "### Comparison"
   ]
  },
  {
   "cell_type": "code",
   "execution_count": 16,
   "id": "945e36bf",
   "metadata": {},
   "outputs": [],
   "source": [
    "reps=100\n",
    "llObsPDE=0\n",
    "llObsGP=0\n",
    "llObsGPwind=0\n",
    "negPercent=0\n",
    "var = np.ones(len(yTest))*noiseSD**2\n",
    "for j in range(reps):\n",
    "    #mPDE.sensormodel=sensors\n",
    "    z = np.random.multivariate_normal(meanZPDE,covZPDE)\n",
    "    source = mPDE.computeSourceFromPhi(z) # Generates estimated source using inferred distribution\n",
    "    conc=mPDE.computeConcentration(source) # Compute test concentration\n",
    "    mPDE.sensormodel=sensorsTest\n",
    "    yPDE= mPDE.computeObservations(addNoise='TRUE') # Compute observations with noise\n",
    "    llObsPDE += -0.5*np.sum((np.square(np.subtract(yTest,yPDE))/var)+0.5*np.log(var))\n",
    "    #mODE.sensormodel=sensors\n",
    "    yGP = np.random.multivariate_normal(meanGP.flatten(),covGP)\n",
    "    llObsGP += -0.5*np.sum((np.square(np.subtract(yTest,yGP))/var)+0.5*np.log(var))\n",
    "    yGPwind = np.random.multivariate_normal(meanGPwind.flatten(),covGPwind)\n",
    "    llObsGPwind += -0.5*np.sum((np.square(np.subtract(yTest,yGPwind))/var)+0.5*np.log(var))\n",
    "llObsPDE = llObsPDE/reps\n",
    "llObsGP = llObsGP/reps\n",
    "llObsGPwind = llObsGPwind/reps\n",
    "\n",
    "Results = pd.DataFrame([[llObsPDE],[llObsGP],[llObsGPwind]],columns=['Log like'],index=[\"PDE\",\"GP\", \"GPwind\"])\n"
   ]
  },
  {
   "cell_type": "code",
   "execution_count": 17,
   "id": "c4da7298",
   "metadata": {},
   "outputs": [
    {
     "data": {
      "text/html": [
       "<div>\n",
       "<style scoped>\n",
       "    .dataframe tbody tr th:only-of-type {\n",
       "        vertical-align: middle;\n",
       "    }\n",
       "\n",
       "    .dataframe tbody tr th {\n",
       "        vertical-align: top;\n",
       "    }\n",
       "\n",
       "    .dataframe thead th {\n",
       "        text-align: right;\n",
       "    }\n",
       "</style>\n",
       "<table border=\"1\" class=\"dataframe\">\n",
       "  <thead>\n",
       "    <tr style=\"text-align: right;\">\n",
       "      <th></th>\n",
       "      <th>Log like</th>\n",
       "    </tr>\n",
       "  </thead>\n",
       "  <tbody>\n",
       "    <tr>\n",
       "      <th>PDE</th>\n",
       "      <td>-4803.240030</td>\n",
       "    </tr>\n",
       "    <tr>\n",
       "      <th>GP</th>\n",
       "      <td>-10759.492175</td>\n",
       "    </tr>\n",
       "    <tr>\n",
       "      <th>GPwind</th>\n",
       "      <td>-3202.485329</td>\n",
       "    </tr>\n",
       "  </tbody>\n",
       "</table>\n",
       "</div>"
      ],
      "text/plain": [
       "            Log like\n",
       "PDE     -4803.240030\n",
       "GP     -10759.492175\n",
       "GPwind  -3202.485329"
      ]
     },
     "execution_count": 17,
     "metadata": {},
     "output_type": "execute_result"
    }
   ],
   "source": [
    "Results"
   ]
  },
  {
   "cell_type": "code",
   "execution_count": 18,
   "id": "08cc177d",
   "metadata": {},
   "outputs": [],
   "source": [
    "source = mPDE.computeSourceFromPhi(meanZPDE) # Generates estimated source using inferred distribution\n",
    "conc=mPDE.computeConcentration(source) # Compute test concentration\n",
    "mPDE.sensormodel=sensorsTest\n",
    "yPDE= mPDE.computeObservations(addNoise='TRUE')"
   ]
  },
  {
   "cell_type": "code",
   "execution_count": 19,
   "id": "f8a5a5c0",
   "metadata": {},
   "outputs": [],
   "source": [
    "X1, X2, X3, yGP2,yPDE2,yTest2,yGPwind2 = zip(*sorted(zip(XGPtest[:,0],XGPtest[:,1],XGPtest[:,2],meanGP,yPDE,yTest,meanGPwind)))"
   ]
  },
  {
   "cell_type": "code",
   "execution_count": 20,
   "id": "47d8f050",
   "metadata": {},
   "outputs": [
    {
     "data": {
      "image/png": "[encoded data removed]",
      "text/plain": [
       "<Figure size 1080x288 with 5 Axes>"
      ]
     },
     "metadata": {
      "needs_background": "light"
     },
     "output_type": "display_data"
    }
   ],
   "source": [
    "t0=0\n",
    "t1=16\n",
    "tconc=12\n",
    "\n",
    "a=np.floor(np.min(concTrain[tconc],))\n",
    "b=np.ceil(np.max(concTrain[tconc]))\n",
    "plt.rcParams[\"figure.figsize\"] = (15,4)\n",
    "fig = plt.figure()\n",
    "\n",
    "\n",
    "plt.subplot(1,4,1)\n",
    "im1=plt.imshow(concTrain[tconc],origin='lower',extent=[0,10,0,10])\n",
    "plt.title('Ground Truth Conc', fontsize=16, fontweight='bold')\n",
    "plt.xticks(fontsize=16)\n",
    "plt.yticks(fontsize=16)\n",
    "\n",
    "\n",
    "\n",
    "ploti = 1\n",
    "for title, data in zip(['Ground Truth Obs','PDE Obs', 'GP Obs','GPwind Obs'],[yTest2,yPDE2,yGP2,yGPwind2]):\n",
    "    \n",
    "    ploti+=1\n",
    "    plt.subplot(1,5,ploti)\n",
    "    im1=plt.scatter(X2[t0:t1],X3[t0:t1], s=500,c=data[t0:t1])\n",
    "    plt.title(title, fontsize=16, fontweight='bold')\n",
    "    plt.xticks(fontsize=16)\n",
    "    plt.yticks(fontsize=16)\n",
    "    plt.xlim(0,10)\n",
    "    plt.ylim(0,10)\n",
    "    plt.clim(a,b)\n",
    "        \n",
    "        \n",
    "    tick_font_size = 16\n",
    "        #if ploti % 3 == 2: plt.title(title, fontsize=16, fontweight='bold')\n",
    "        #if ploti % 3 == 3:\n",
    "        #    plt.colorbar(im1,fraction=0.046, pad=0.04)\n",
    "\n",
    "fig.tight_layout(rect=[0.1, 0.2, 1, 0.95])\n",
    "\n",
    "fig.subplots_adjust(bottom=0.25)\n",
    "cbar_ax = fig.add_axes([0.99, 0.27, 0.02, 0.57])\n",
    "cbar=fig.colorbar(im1, cax=cbar_ax,orientation='vertical')\n",
    "#cbar = plt.colorbar(im3,fraction=0.046)\n",
    "tick_font_size = 16\n",
    "cbar.ax.tick_params(labelsize = tick_font_size)\n",
    "plt.show()"
   ]
  },
  {
   "cell_type": "code",
   "execution_count": null,
   "id": "e94de6b4",
   "metadata": {},
   "outputs": [],
   "source": []
  }
 ],
 "metadata": {
  "kernelspec": {
   "display_name": "Python 3",
   "language": "python",
   "name": "python3"
  },
  "language_info": {
   "codemirror_mode": {
    "name": "ipython",
    "version": 3
   },
   "file_extension": ".py",
   "mimetype": "text/x-python",
   "name": "python",
   "nbconvert_exporter": "python",
   "pygments_lexer": "ipython3",
   "version": "3.8.8"
  }
 },
 "nbformat": 4,
 "nbformat_minor": 5
}
