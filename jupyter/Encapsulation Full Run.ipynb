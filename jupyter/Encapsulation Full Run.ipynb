{
 "cells": [
  {
   "cell_type": "code",
   "execution_count": 1,
   "id": "d002f461",
   "metadata": {},
   "outputs": [],
   "source": [
    "from advectionGP.models import AdvectionDiffusionModel\n",
    "from advectionGP.sensors import FixedSensorModel\n",
    "from advectionGP.kernels import EQ\n",
    "from advectionGP.test import TestKernels\n",
    "\n",
    "import numpy as np\n",
    "import matplotlib.pyplot as plt\n",
    "\n",
    "#X = np.array([[17,18,10,10]])\n",
    "#y = np.array([12])\n",
    "tlocL = np.linspace(1,7,5)\n",
    "tlocU = tlocL+1\n",
    "#tlocL = np.linspace(1,8,9)\n",
    "xloc=np.linspace(0.5,19,5)\n",
    "yloc=np.linspace(0.5,19,5)\n",
    "sensN = len(xloc)*len(yloc)\n",
    "obsN = len(tlocU)\n",
    "X= np.zeros((obsN*sensN,4))\n",
    "X[:,0] = np.asarray(np.meshgrid(tlocU,xloc,yloc)).reshape(3,sensN*obsN)[0]\n",
    "X[:,2] = np.asarray(np.meshgrid(tlocU,xloc,yloc)).reshape(3,sensN*obsN)[1]\n",
    "X[:,3] = np.asarray(np.meshgrid(tlocU,xloc,yloc)).reshape(3,sensN*obsN)[2]\n",
    "X[:,1] = X[:,0]+1\n",
    "\n",
    "N_feat=50\n",
    "boundary = ([0,0,0],[20,20,20])\n",
    "k = EQ(4.0, 2.0)\n",
    "sensors = FixedSensorModel(X,1)\n",
    "m = AdvectionDiffusionModel(resolution=[100,50,50],boundary=boundary,N_feat=N_feat,noiseSD=.05,kernel=k,sensormodel=sensors,u=0.001,k_0=0.05)\n",
    "\n",
    "dt,dx,dy,dx2,dy2,Nt,Nx,Ny = m.getGridStepSize()\n",
    "\n",
    "#z=np.random.normal(0,1.0,N_feat)\n",
    "#source=m.computeSourceFromPhi(z)\n",
    "#conc=m.computeConcentration(source)\n",
    "#X=m.computeModelRegressors()\n",
    "#y= m.computeObservations()\n",
    "#varZ, meanZ = m.computeZDistribution(X,y)\n",
    "#source2 = m.computeSourceFromPhi(meanZ)\n"
   ]
  },
  {
   "cell_type": "code",
   "execution_count": 2,
   "id": "4ba00e48",
   "metadata": {},
   "outputs": [
    {
     "ename": "NameError",
     "evalue": "name 'meanZ' is not defined",
     "output_type": "error",
     "traceback": [
      "\u001b[1;31m---------------------------------------------------------------------------\u001b[0m",
      "\u001b[1;31mNameError\u001b[0m                                 Traceback (most recent call last)",
      "\u001b[1;32m<ipython-input-2-d1a1c6a5ec80>\u001b[0m in \u001b[0;36m<module>\u001b[1;34m\u001b[0m\n\u001b[0;32m      1\u001b[0m \u001b[1;32mfrom\u001b[0m \u001b[0mscipy\u001b[0m\u001b[1;33m.\u001b[0m\u001b[0mstats\u001b[0m \u001b[1;32mimport\u001b[0m \u001b[0mmultivariate_normal\u001b[0m\u001b[1;33m\u001b[0m\u001b[1;33m\u001b[0m\u001b[0m\n\u001b[1;32m----> 2\u001b[1;33m \u001b[0mvar\u001b[0m \u001b[1;33m=\u001b[0m \u001b[0mmultivariate_normal\u001b[0m\u001b[1;33m(\u001b[0m\u001b[0mmean\u001b[0m\u001b[1;33m=\u001b[0m\u001b[0mmeanZ\u001b[0m\u001b[1;33m,\u001b[0m \u001b[0mcov\u001b[0m\u001b[1;33m=\u001b[0m\u001b[0mvarZ\u001b[0m\u001b[1;33m)\u001b[0m\u001b[1;33m\u001b[0m\u001b[1;33m\u001b[0m\u001b[0m\n\u001b[0m\u001b[0;32m      3\u001b[0m \u001b[0mvar\u001b[0m\u001b[1;33m.\u001b[0m\u001b[0mpdf\u001b[0m\u001b[1;33m(\u001b[0m\u001b[0mz\u001b[0m\u001b[1;33m)\u001b[0m\u001b[1;33m\u001b[0m\u001b[1;33m\u001b[0m\u001b[0m\n",
      "\u001b[1;31mNameError\u001b[0m: name 'meanZ' is not defined"
     ]
    }
   ],
   "source": [
    "from scipy.stats import multivariate_normal\n",
    "var = multivariate_normal(mean=meanZ, cov=varZ)\n",
    "var.pdf(z)"
   ]
  },
  {
   "cell_type": "code",
   "execution_count": null,
   "id": "c121a835",
   "metadata": {},
   "outputs": [],
   "source": [
    "from scipy.stats import multivariate_normal\n",
    "var = multivariate_normal(mean=np.zeros(5), cov=np.identity(5))\n",
    "var.pdf(np.zeros(5))"
   ]
  },
  {
   "cell_type": "code",
   "execution_count": null,
   "id": "fa5e1940",
   "metadata": {},
   "outputs": [],
   "source": [
    "from scipy.stats import norm\n",
    "var = multivariate_normal(mean=0)\n",
    "var.pdf(0)"
   ]
  },
  {
   "cell_type": "code",
   "execution_count": null,
   "id": "c111a3e2",
   "metadata": {},
   "outputs": [],
   "source": [
    "plt.imshow(source[10])\n",
    "plt.colorbar()"
   ]
  },
  {
   "cell_type": "code",
   "execution_count": null,
   "id": "39501004",
   "metadata": {},
   "outputs": [],
   "source": [
    "plt.imshow(source2[10])\n",
    "plt.colorbar()"
   ]
  },
  {
   "cell_type": "code",
   "execution_count": null,
   "id": "e08e8665",
   "metadata": {},
   "outputs": [],
   "source": [
    "np.sum(np.abs(source-source2))*1/(Nt*Nx*Ny)"
   ]
  },
  {
   "cell_type": "code",
   "execution_count": null,
   "id": "9cb7bbcd",
   "metadata": {},
   "outputs": [],
   "source": [
    "(m.noiseSD**2)*np.linalg.inv(varZ)@meanZ"
   ]
  },
  {
   "cell_type": "code",
   "execution_count": null,
   "id": "778a61d5",
   "metadata": {},
   "outputs": [],
   "source": [
    "y.shape"
   ]
  },
  {
   "cell_type": "code",
   "execution_count": null,
   "id": "69f4e444",
   "metadata": {},
   "outputs": [],
   "source": [
    "X.shape"
   ]
  },
  {
   "cell_type": "code",
   "execution_count": null,
   "id": "f263f32e",
   "metadata": {},
   "outputs": [],
   "source": [
    "varZ, meanZ = m.computeZDistribution(X,y)"
   ]
  },
  {
   "cell_type": "code",
   "execution_count": null,
   "id": "aa4a4af2",
   "metadata": {},
   "outputs": [],
   "source": [
    "varZ"
   ]
  },
  {
   "cell_type": "code",
   "execution_count": null,
   "id": "a3b25fad",
   "metadata": {},
   "outputs": [],
   "source": [
    "varZ, meanZ = m.computeZDistribution(X,np.ones(len(y)))\n",
    "source2 = m.computeSourceFromPhi(meanZ)\n",
    "conc2=m.computeConcentration(source2)"
   ]
  },
  {
   "cell_type": "code",
   "execution_count": null,
   "id": "1ce339ac",
   "metadata": {},
   "outputs": [],
   "source": [
    "plt.imshow(source2[30])\n",
    "plt.colorbar()"
   ]
  },
  {
   "cell_type": "code",
   "execution_count": null,
   "id": "b30d98d6",
   "metadata": {},
   "outputs": [],
   "source": [
    "from scipy.stats import multivariate_normal\n",
    "var = multivariate_normal(mean=meanZ, cov=varZ)\n",
    "var.pdf(z)"
   ]
  },
  {
   "cell_type": "code",
   "execution_count": null,
   "id": "fd004f39",
   "metadata": {},
   "outputs": [],
   "source": [
    "X2=np.identity(m.N_feat)\n",
    "y2=np.ones(m.N_feat)\n",
    "varZ1, meanZ1 = m.computeZDistribution(X2,y2)"
   ]
  },
  {
   "cell_type": "code",
   "execution_count": null,
   "id": "9437a65a",
   "metadata": {},
   "outputs": [],
   "source": [
    "np.sum(np.linalg.inv(varZ1))"
   ]
  },
  {
   "cell_type": "code",
   "execution_count": null,
   "id": "c3e2646b",
   "metadata": {},
   "outputs": [],
   "source": [
    "meanZ1"
   ]
  },
  {
   "cell_type": "code",
   "execution_count": null,
   "id": "5db9affc",
   "metadata": {},
   "outputs": [],
   "source": [
    "N_feat*(1+1/(m.noiseSD**2))"
   ]
  },
  {
   "cell_type": "code",
   "execution_count": null,
   "id": "6b3d3707",
   "metadata": {},
   "outputs": [],
   "source": [
    "sum(meanZ1)"
   ]
  },
  {
   "cell_type": "code",
   "execution_count": null,
   "id": "95718d8f",
   "metadata": {},
   "outputs": [],
   "source": [
    "N_feat*(1/m.noiseSD**2)*1/(1+1/(m.noiseSD**2))"
   ]
  },
  {
   "cell_type": "code",
   "execution_count": 7,
   "id": "6de7a126",
   "metadata": {},
   "outputs": [
    {
     "name": "stdout",
     "output_type": "stream",
     "text": [
      "getPhi!\n",
      "getPhi!\n",
      "getPhi!\n",
      "getPhi!\n"
     ]
    },
    {
     "ename": "TypeError",
     "evalue": "assertLess() missing 1 required positional argument: 'b'",
     "output_type": "error",
     "traceback": [
      "\u001b[1;31m---------------------------------------------------------------------------\u001b[0m",
      "\u001b[1;31mTypeError\u001b[0m                                 Traceback (most recent call last)",
      "\u001b[1;32m<ipython-input-7-10b363ae9c2c>\u001b[0m in \u001b[0;36m<module>\u001b[1;34m\u001b[0m\n\u001b[1;32m----> 1\u001b[1;33m \u001b[0mTestKernels\u001b[0m\u001b[1;33m.\u001b[0m\u001b[0mtestRegressor\u001b[0m\u001b[1;33m(\u001b[0m\u001b[0mTestKernels\u001b[0m\u001b[1;33m)\u001b[0m\u001b[1;33m\u001b[0m\u001b[1;33m\u001b[0m\u001b[0m\n\u001b[0m",
      "\u001b[1;32mc:\\users\\chris\\documents\\github\\advectiongp\\advectionGP\\test.py\u001b[0m in \u001b[0;36mtestRegressor\u001b[1;34m(self)\u001b[0m\n\u001b[0;32m    141\u001b[0m \u001b[1;33m\u001b[0m\u001b[0m\n\u001b[0;32m    142\u001b[0m \u001b[1;33m\u001b[0m\u001b[0m\n\u001b[1;32m--> 143\u001b[1;33m         \u001b[0mself\u001b[0m\u001b[1;33m.\u001b[0m\u001b[0massertLess\u001b[0m\u001b[1;33m(\u001b[0m\u001b[0mnp\u001b[0m\u001b[1;33m.\u001b[0m\u001b[0mmax\u001b[0m\u001b[1;33m(\u001b[0m\u001b[0mnp\u001b[0m\u001b[1;33m.\u001b[0m\u001b[0mabs\u001b[0m\u001b[1;33m(\u001b[0m\u001b[0mcalc_usingAdjoint\u001b[0m\u001b[1;33m-\u001b[0m\u001b[0mcalc_usingForwardModel\u001b[0m\u001b[1;33m)\u001b[0m\u001b[1;33m)\u001b[0m\u001b[1;33m,\u001b[0m\u001b[1;36m0.001\u001b[0m\u001b[1;33m)\u001b[0m\u001b[1;33m\u001b[0m\u001b[1;33m\u001b[0m\u001b[0m\n\u001b[0m\u001b[0;32m    144\u001b[0m         \u001b[0mself\u001b[0m\u001b[1;33m.\u001b[0m\u001b[0massertLess\u001b[0m\u001b[1;33m(\u001b[0m\u001b[0mnp\u001b[0m\u001b[1;33m.\u001b[0m\u001b[0mmax\u001b[0m\u001b[1;33m(\u001b[0m\u001b[0mnp\u001b[0m\u001b[1;33m.\u001b[0m\u001b[0mabs\u001b[0m\u001b[1;33m(\u001b[0m\u001b[0mcalc_usingAdjoint\u001b[0m\u001b[1;33m-\u001b[0m\u001b[0mcalc_usingRegressors\u001b[0m\u001b[1;33m)\u001b[0m\u001b[1;33m)\u001b[0m\u001b[1;33m,\u001b[0m\u001b[1;36m0.001\u001b[0m\u001b[1;33m)\u001b[0m\u001b[1;33m\u001b[0m\u001b[1;33m\u001b[0m\u001b[0m\n\u001b[0;32m    145\u001b[0m \u001b[1;33m\u001b[0m\u001b[0m\n",
      "\u001b[1;31mTypeError\u001b[0m: assertLess() missing 1 required positional argument: 'b'"
     ]
    }
   ],
   "source": [
    "TestKernels.testRegressor(TestKernels)"
   ]
  },
  {
   "cell_type": "code",
   "execution_count": null,
   "id": "0441c17a",
   "metadata": {},
   "outputs": [],
   "source": []
  },
  {
   "cell_type": "code",
   "execution_count": null,
   "id": "b8258598",
   "metadata": {},
   "outputs": [],
   "source": []
  }
 ],
 "metadata": {
  "kernelspec": {
   "display_name": "Python 3",
   "language": "python",
   "name": "python3"
  },
  "language_info": {
   "codemirror_mode": {
    "name": "ipython",
    "version": 3
   },
   "file_extension": ".py",
   "mimetype": "text/x-python",
   "name": "python",
   "nbconvert_exporter": "python",
   "pygments_lexer": "ipython3",
   "version": "3.8.8"
  }
 },
 "nbformat": 4,
 "nbformat_minor": 5
}
