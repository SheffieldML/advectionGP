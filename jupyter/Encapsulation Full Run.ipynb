{
 "cells": [
  {
   "cell_type": "code",
   "execution_count": 1,
   "metadata": {},
   "outputs": [],
   "source": [
    "from advectionGP.models import AdjointAdvectionDiffusionModel as Model\n",
    "from advectionGP.sensors import FixedSensorModel\n",
    "from advectionGP.kernels import EQ\n",
    "from advectionGP.test import TestKernels\n",
    "\n",
    "import numpy as np\n",
    "import matplotlib.pyplot as plt"
   ]
  },
  {
   "cell_type": "markdown",
   "metadata": {},
   "source": [
    "# Generate synthetic data"
   ]
  },
  {
   "cell_type": "code",
   "execution_count": 2,
   "metadata": {},
   "outputs": [
    {
     "name": "stdout",
     "output_type": "stream",
     "text": [
      "WARNING: spatial grid size does not meet the finite difference advection diffusion stability criteria\n"
     ]
    }
   ],
   "source": [
    "# generate sensor locations with shape [total observations, 4], where each row has elements \n",
    "#[lower time location, upper time location, x location, y location]\n",
    "\n",
    "tlocL = np.linspace(2,15,5) # lower time\n",
    "xloc=np.linspace(5,15,2) # x locations\n",
    "yloc=np.linspace(5,15,2) # y locations\n",
    "sensN = len(xloc)*len(yloc) # total number of sensors \n",
    "obsN = len(tlocL) # total time points at which an observation is taken\n",
    "X= np.zeros((obsN*sensN,4)) # obsN*sensN is total observations over all sensors and all times\n",
    "# Build sensor locations\n",
    "X[:,0] = np.asarray(np.meshgrid(tlocL,xloc,yloc)).reshape(3,sensN*obsN)[0] \n",
    "X[:,2] = np.asarray(np.meshgrid(tlocL,xloc,yloc)).reshape(3,sensN*obsN)[1]\n",
    "X[:,3] = np.asarray(np.meshgrid(tlocL,xloc,yloc)).reshape(3,sensN*obsN)[2]\n",
    "X[:,1] = X[:,0]+1\n",
    "\n",
    "u = 0.4\n",
    "k_0 = 0.1\n",
    "noiseSD = 0.05\n",
    "\n",
    "N_feat=100 # number of features used to approximate GP\n",
    "boundary = ([0,0,0],[20,20,20]) # corners of the grid\n",
    "k = EQ(4.0, 2.0) # generate EQ kernel\n",
    "sensors = FixedSensorModel(X,1) # establish sensor model\n",
    "res = [80,40,40]\n",
    "m = Model(resolution=res,boundary=boundary,N_feat=N_feat,noiseSD=noiseSD,kernel=k,sensormodel=sensors,u=u,k_0=k_0) #initiate PDE model\n",
    "\n",
    "dt,dx,dy,dx2,dy2,Nt,Nx,Ny = m.getGridStepSize() # useful numbers!\n",
    "\n",
    "z=np.random.normal(0,1.0,N_feat) # Generate z to compute test source\n",
    "source=m.computeSourceFromPhi(z) # Compute test source\n",
    "conc=m.computeConcentration(source) # Compute test concentration\n",
    "y= m.computeObservations(addNoise='TRUE') # Compute observations with noise"
   ]
  },
  {
   "cell_type": "markdown",
   "metadata": {},
   "source": [
    "The data generated is just the observations (y) at the sensors/observation times defined in X."
   ]
  },
  {
   "cell_type": "markdown",
   "metadata": {},
   "source": [
    "This is our synthetic source..."
   ]
  },
  {
   "cell_type": "code",
   "execution_count": 3,
   "metadata": {},
   "outputs": [
    {
     "data": {
      "text/plain": [
       "<matplotlib.colorbar.Colorbar at 0x7f1735230040>"
      ]
     },
     "execution_count": 3,
     "metadata": {},
     "output_type": "execute_result"
    },
    {
     "data": {
      "image/png": "[encoded data removed]",
      "text/plain": [
       "<Figure size 432x288 with 2 Axes>"
      ]
     },
     "metadata": {
      "needs_background": "light"
     },
     "output_type": "display_data"
    }
   ],
   "source": [
    "plt.imshow(source[10])\n",
    "plt.colorbar()"
   ]
  },
  {
   "cell_type": "markdown",
   "metadata": {},
   "source": [
    "And the synthetic data we will give our adjoint method, is:"
   ]
  },
  {
   "cell_type": "code",
   "execution_count": 4,
   "metadata": {},
   "outputs": [
    {
     "data": {
      "text/plain": [
       "array([  7.35081159,  -3.65697655,  17.05622121,  -5.34025145,\n",
       "        20.18756544, -11.60639939,  21.98742347, -24.65001816,\n",
       "        27.5112995 , -32.27051441,  -1.70487746,  -3.00015936,\n",
       "        -4.17214007,  -1.92080396,  -8.47665869,   3.93681431,\n",
       "       -13.3944622 ,  10.67374086, -11.52964053,  14.28664877])"
      ]
     },
     "execution_count": 4,
     "metadata": {},
     "output_type": "execute_result"
    }
   ],
   "source": [
    "y"
   ]
  },
  {
   "cell_type": "code",
   "execution_count": 5,
   "metadata": {},
   "outputs": [
    {
     "name": "stdout",
     "output_type": "stream",
     "text": [
      "20 observations\n"
     ]
    },
    {
     "data": {
      "text/plain": [
       "(0.0, 20.0)"
      ]
     },
     "execution_count": 5,
     "metadata": {},
     "output_type": "execute_result"
    },
    {
     "data": {
      "image/png": "[encoded data removed]",
      "text/plain": [
       "<Figure size 432x288 with 1 Axes>"
      ]
     },
     "metadata": {
      "needs_background": "light"
     },
     "output_type": "display_data"
    }
   ],
   "source": [
    "print(\"%d observations\" % len(X))\n",
    "plt.plot(X[:,2],X[:,3],'xk',markersize=15)\n",
    "plt.scatter(X[:,2]+X[:,0]*0.3,X[:,3],y-np.min(y))\n",
    "plt.xlim(m.boundary[0][1],m.boundary[1][1])\n",
    "plt.ylim(m.boundary[0][2],m.boundary[1][2])"
   ]
  },
  {
   "cell_type": "markdown",
   "metadata": {},
   "source": [
    "# Try to predict the source from the observations..."
   ]
  },
  {
   "cell_type": "code",
   "execution_count": null,
   "metadata": {},
   "outputs": [
    {
     "name": "stdout",
     "output_type": "stream",
     "text": [
      "WARNING: spatial grid size does not meet the finite difference advection diffusion stability criteria\n",
      "Calculating Adjoints...\n",
      "19/20 \n",
      "Calculating Phis...\n",
      "89/100 \r"
     ]
    }
   ],
   "source": [
    "k = EQ(4.0, 2.0) # generate EQ kernel\n",
    "sensors = FixedSensorModel(X,1)\n",
    "N_feat = 100\n",
    "m = Model(resolution=res,boundary=boundary,N_feat=N_feat,noiseSD=noiseSD,kernel=k,sensormodel=sensors,u=u,k_0=k_0) #initiate PDE model\n",
    "X1 = m.computeModelRegressors() # Compute regressor matrix\n",
    "meanZ, covZ = m.computeZDistribution(y) # Infers z vector mean and covariance\n",
    "source2 = m.computeSourceFromPhi(meanZ) # Generates estimated source using inferred mean"
   ]
  },
  {
   "cell_type": "code",
   "execution_count": null,
   "metadata": {
    "scrolled": false
   },
   "outputs": [],
   "source": [
    "plt.imshow(source2[10])\n",
    "plt.colorbar()"
   ]
  },
  {
   "cell_type": "code",
   "execution_count": null,
   "metadata": {},
   "outputs": [],
   "source": [
    "plt.imshow(covZ)\n",
    "plt.colorbar()"
   ]
  },
  {
   "cell_type": "code",
   "execution_count": null,
   "metadata": {},
   "outputs": [],
   "source": [
    "plt.figure(figsize=[10,10])\n",
    "for sample_i in range(9):\n",
    "    plt.subplot(3,3,sample_i+1)\n",
    "    z = np.random.multivariate_normal(meanZ,covZ)\n",
    "    source = m.computeSourceFromPhi(z) # Generates estimated source using inferred mean\n",
    "    plt.imshow(source[10])"
   ]
  },
  {
   "cell_type": "code",
   "execution_count": 122,
   "metadata": {},
   "outputs": [],
   "source": [
    "Nsamps = 30\n",
    "results = np.zeros(np.c_[res,Nsamps])\n",
    "for sample_i in range(Nsamps):\n",
    "    z = np.random.multivariate_normal(meanZ,covZ)\n",
    "    res[:,:,:,sample_i] = m.computeSourceFromPhi(z) "
   ]
  },
  {
   "cell_type": "code",
   "execution_count": null,
   "metadata": {},
   "outputs": [],
   "source": []
  },
  {
   "cell_type": "code",
   "execution_count": 128,
   "metadata": {},
   "outputs": [
    {
     "data": {
      "text/plain": [
       "<matplotlib.colorbar.Colorbar at 0x7ff0b7238ac0>"
      ]
     },
     "execution_count": 128,
     "metadata": {},
     "output_type": "execute_result"
    },
    {
     "data": {
      "image/png": "[encoded data removed]",
      "text/plain": [
       "<Figure size 432x288 with 2 Axes>"
      ]
     },
     "metadata": {
      "needs_background": "light"
     },
     "output_type": "display_data"
    }
   ],
   "source": [
    "plt.imshow(np.std(res,3)[22,:,:])\n",
    "plt.clim([0,2])\n",
    "plt.colorbar()\n"
   ]
  },
  {
   "cell_type": "code",
   "execution_count": null,
   "metadata": {},
   "outputs": [],
   "source": [
    "\n",
    "\n",
    "\n",
    "\n",
    "\n",
    "\n",
    "\n",
    "\n",
    "\n",
    "\n",
    "\n",
    "\n",
    "\n",
    "\n",
    "\n",
    "\n",
    "\n",
    "\n",
    "\n",
    "\n",
    "\n",
    "\n",
    "\n",
    "\n"
   ]
  }
 ],
 "metadata": {
  "kernelspec": {
   "display_name": "Python 3",
   "language": "python",
   "name": "python3"
  },
  "language_info": {
   "codemirror_mode": {
    "name": "ipython",
    "version": 3
   },
   "file_extension": ".py",
   "mimetype": "text/x-python",
   "name": "python",
   "nbconvert_exporter": "python",
   "pygments_lexer": "ipython3",
   "version": "3.8.3"
  }
 },
 "nbformat": 4,
 "nbformat_minor": 5
}
