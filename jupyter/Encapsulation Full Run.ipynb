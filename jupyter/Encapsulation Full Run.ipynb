{
 "cells": [
  {
   "cell_type": "code",
   "execution_count": 69,
   "id": "5074c966",
   "metadata": {},
   "outputs": [
    {
     "name": "stdout",
     "output_type": "stream",
     "text": [
      "getPhi!\n",
      "getPhi!\n",
      "getPhi!\n",
      "getPhi!\n",
      "getPhi!\n",
      "getPhi!\n",
      "getPhi!\n",
      "getPhi!\n",
      "getPhi!\n",
      "getPhi!\n",
      "getPhi!\n",
      "getPhi!\n",
      "getPhi!\n",
      "getPhi!\n",
      "getPhi!\n",
      "getPhi!\n",
      "getPhi!\n",
      "getPhi!\n",
      "getPhi!\n",
      "getPhi!\n",
      "getPhi!\n",
      "getPhi!\n",
      "getPhi!\n",
      "getPhi!\n",
      "getPhi!\n",
      "getPhi!\n",
      "getPhi!\n",
      "getPhi!\n",
      "getPhi!\n",
      "getPhi!\n",
      "getPhi!\n",
      "getPhi!\n",
      "getPhi!\n",
      "getPhi!\n",
      "getPhi!\n",
      "getPhi!\n",
      "getPhi!\n",
      "getPhi!\n",
      "getPhi!\n",
      "getPhi!\n",
      "getPhi!\n",
      "getPhi!\n",
      "getPhi!\n",
      "getPhi!\n",
      "getPhi!\n",
      "getPhi!\n",
      "getPhi!\n",
      "getPhi!\n",
      "getPhi!\n",
      "getPhi!\n",
      "getPhi!\n",
      "getPhi!\n",
      "getPhi!\n",
      "getPhi!\n",
      "getPhi!\n",
      "getPhi!\n",
      "getPhi!\n",
      "getPhi!\n",
      "getPhi!\n",
      "getPhi!\n",
      "getPhi!\n",
      "getPhi!\n",
      "getPhi!\n",
      "getPhi!\n",
      "getPhi!\n",
      "getPhi!\n",
      "getPhi!\n",
      "getPhi!\n",
      "getPhi!\n",
      "getPhi!\n",
      "getPhi!\n",
      "getPhi!\n",
      "getPhi!\n",
      "getPhi!\n",
      "getPhi!\n",
      "getPhi!\n",
      "getPhi!\n",
      "getPhi!\n",
      "getPhi!\n",
      "getPhi!\n",
      "getPhi!\n",
      "getPhi!\n",
      "getPhi!\n",
      "getPhi!\n",
      "getPhi!\n",
      "getPhi!\n",
      "getPhi!\n",
      "getPhi!\n",
      "getPhi!\n",
      "getPhi!\n",
      "getPhi!\n",
      "getPhi!\n",
      "getPhi!\n",
      "getPhi!\n",
      "getPhi!\n",
      "getPhi!\n",
      "getPhi!\n",
      "getPhi!\n",
      "getPhi!\n",
      "getPhi!\n",
      "getPhi!\n",
      "getPhi!\n",
      "getPhi!\n",
      "getPhi!\n",
      "getPhi!\n",
      "getPhi!\n",
      "getPhi!\n",
      "getPhi!\n",
      "getPhi!\n",
      "getPhi!\n",
      "getPhi!\n",
      "getPhi!\n",
      "getPhi!\n",
      "getPhi!\n",
      "getPhi!\n",
      "getPhi!\n",
      "getPhi!\n",
      "getPhi!\n",
      "getPhi!\n",
      "getPhi!\n",
      "getPhi!\n",
      "getPhi!\n",
      "getPhi!\n",
      "getPhi!\n",
      "getPhi!\n",
      "getPhi!\n",
      "getPhi!\n"
     ]
    }
   ],
   "source": [
    "from advectionGP.models import AdvectionDiffusionModel\n",
    "from advectionGP.sensors import FixedSensorModel\n",
    "from advectionGP.kernels import EQ\n",
    "\n",
    "import numpy as np\n",
    "import matplotlib.pyplot as plt\n",
    "\n",
    "#X = np.array([[17,18,10,10]])\n",
    "#y = np.array([12])\n",
    "tlocL = np.linspace(1,7,5)\n",
    "tlocU = tlocL+1\n",
    "#tlocL = np.linspace(1,8,9)\n",
    "xloc=np.linspace(0.5,19,5)\n",
    "yloc=np.linspace(0.5,19,5)\n",
    "sensN = len(xloc)*len(yloc)\n",
    "obsN = len(tlocU)\n",
    "X= np.zeros((obsN*sensN,4))\n",
    "X[:,0] = np.asarray(np.meshgrid(tlocU,xloc,yloc)).reshape(3,sensN*obsN)[0]\n",
    "X[:,2] = np.asarray(np.meshgrid(tlocU,xloc,yloc)).reshape(3,sensN*obsN)[1]\n",
    "X[:,3] = np.asarray(np.meshgrid(tlocU,xloc,yloc)).reshape(3,sensN*obsN)[2]\n",
    "X[:,1] = X[:,0]+1\n",
    "\n",
    "N_feat=15\n",
    "boundary = ([0,0,0],[20,20,20])\n",
    "k = EQ(1.0, 2.0)\n",
    "sensors = FixedSensorModel(X,1)\n",
    "m = AdvectionDiffusionModel(resolution=[100,50,50],boundary=boundary,N_feat=N_feat,noiseSD=.05,kernel=k,sensormodel=sensors,u=0.001,k_0=0.05)\n",
    "\n",
    "dt,dx,dy,dx2,dy2,Nt,Nx,Ny = m.getGridStepSize()\n",
    "\n",
    "z=np.random.normal(0,1.0,N_feat)\n",
    "source=m.computeSourceFromPhi(z)\n",
    "conc=m.computeConcentration(source)\n",
    "X=m.computeModelRegressors()\n",
    "y= m.computeObservations()\n",
    "varZ, meanZ = m.computeZDistribution(X,y)\n",
    "source2 = m.computeSourceFromPhi(meanZ)\n"
   ]
  },
  {
   "cell_type": "code",
   "execution_count": 73,
   "id": "81b27f07",
   "metadata": {},
   "outputs": [
    {
     "data": {
      "text/plain": [
       "array([2.51793547e-111, 2.01008650e-111])"
      ]
     },
     "execution_count": 73,
     "metadata": {},
     "output_type": "execute_result"
    }
   ],
   "source": [
    "from scipy.stats import multivariate_normal\n",
    "var = multivariate_normal(mean=meanZ, cov=varZ)\n",
    "var.pdf([z-np.diag(varZ),z+np.diag(varZ)])"
   ]
  },
  {
   "cell_type": "code",
   "execution_count": 42,
   "id": "46e9b54d",
   "metadata": {},
   "outputs": [
    {
     "data": {
      "text/plain": [
       "<matplotlib.colorbar.Colorbar at 0x209917bcaf0>"
      ]
     },
     "execution_count": 42,
     "metadata": {},
     "output_type": "execute_result"
    },
    {
     "data": {
      "image/png": "[encoded data removed]",
      "text/plain": [
       "<Figure size 432x288 with 2 Axes>"
      ]
     },
     "metadata": {
      "needs_background": "light"
     },
     "output_type": "display_data"
    }
   ],
   "source": [
    "plt.imshow(source[0])\n",
    "plt.colorbar()"
   ]
  },
  {
   "cell_type": "code",
   "execution_count": 43,
   "id": "867ef8e7",
   "metadata": {},
   "outputs": [
    {
     "data": {
      "text/plain": [
       "<matplotlib.colorbar.Colorbar at 0x2099181d790>"
      ]
     },
     "execution_count": 43,
     "metadata": {},
     "output_type": "execute_result"
    },
    {
     "data": {
      "image/png": "[encoded data removed]",
      "text/plain": [
       "<Figure size 432x288 with 2 Axes>"
      ]
     },
     "metadata": {
      "needs_background": "light"
     },
     "output_type": "display_data"
    }
   ],
   "source": [
    "plt.imshow(source2[0])\n",
    "plt.colorbar()"
   ]
  },
  {
   "cell_type": "code",
   "execution_count": 44,
   "id": "eefebbdd",
   "metadata": {},
   "outputs": [
    {
     "data": {
      "text/plain": [
       "(array([ 0.17063868,  0.01503892,  0.28565621,  0.59581101,  0.03647126,\n",
       "         1.18054653,  1.35023732,  0.05747896, -1.57586152,  2.50888373,\n",
       "        -0.53337751,  0.04155468, -0.84574713, -0.23687887, -0.82117546]),\n",
       " array([ 0.13695321, -0.12219261,  0.19472492,  0.66910338,  0.03348672,\n",
       "         1.18836597,  1.41375295,  0.07198461, -1.49728802,  2.3231847 ,\n",
       "        -0.40015541,  0.02927117, -0.87288997, -0.37160834, -0.84812461]))"
      ]
     },
     "execution_count": 44,
     "metadata": {},
     "output_type": "execute_result"
    }
   ],
   "source": [
    "meanZ,z"
   ]
  },
  {
   "cell_type": "code",
   "execution_count": 45,
   "id": "5c870138",
   "metadata": {},
   "outputs": [
    {
     "data": {
      "text/plain": [
       "array([ 2.82360278e-01, -2.26674904e+01, -9.46831148e+01,  1.25062757e+01,\n",
       "       -7.05098353e+01,  3.52203912e+01,  6.69170451e+01,  3.14466998e+01,\n",
       "       -4.33397190e+02,  4.88550284e+01, -1.08638702e+02, -4.03592374e+01,\n",
       "       -1.36966014e+02, -4.97551821e+01, -1.08421835e+02])"
      ]
     },
     "execution_count": 45,
     "metadata": {},
     "output_type": "execute_result"
    }
   ],
   "source": [
    "(m.noiseSD**2)*np.linalg.inv(varZ)@meanZ"
   ]
  },
  {
   "cell_type": "code",
   "execution_count": 46,
   "id": "1d850909",
   "metadata": {},
   "outputs": [
    {
     "data": {
      "text/plain": [
       "(125,)"
      ]
     },
     "execution_count": 46,
     "metadata": {},
     "output_type": "execute_result"
    }
   ],
   "source": [
    "y.shape"
   ]
  },
  {
   "cell_type": "code",
   "execution_count": 47,
   "id": "ab7dc6ee",
   "metadata": {},
   "outputs": [
    {
     "data": {
      "text/plain": [
       "(15, 125)"
      ]
     },
     "execution_count": 47,
     "metadata": {},
     "output_type": "execute_result"
    }
   ],
   "source": [
    "X.shape"
   ]
  },
  {
   "cell_type": "code",
   "execution_count": 64,
   "id": "91a3fcf0",
   "metadata": {},
   "outputs": [],
   "source": [
    "varZ, meanZ = m.computeZDistribution(X,y)"
   ]
  },
  {
   "cell_type": "code",
   "execution_count": 65,
   "id": "309dcc3f",
   "metadata": {},
   "outputs": [
    {
     "data": {
      "text/plain": [
       "array([[ 2.13935374e-04, -1.25055244e-06,  4.67191357e-06,\n",
       "        -4.51935286e-06, -1.45914605e-06,  7.85719499e-06,\n",
       "         1.51963393e-06, -1.99606458e-05,  1.23811700e-06,\n",
       "        -9.14596124e-07, -1.55120732e-06, -1.81858068e-05,\n",
       "         1.41438855e-06, -6.67022400e-06, -4.83059073e-06],\n",
       "       [-1.25055244e-06,  6.07392270e-05, -7.30036455e-06,\n",
       "         1.07585928e-06, -9.56496447e-06, -6.31178768e-06,\n",
       "         4.49816999e-06,  4.26626772e-06, -4.25603531e-07,\n",
       "        -1.41097557e-06,  7.08703580e-06, -1.94777105e-06,\n",
       "        -4.00436331e-06,  1.86587385e-06,  5.26054661e-07],\n",
       "       [ 4.67191357e-06, -7.30036455e-06,  4.10911456e-05,\n",
       "        -5.27877495e-06, -1.66823686e-06,  5.84862722e-06,\n",
       "        -4.13777508e-07, -1.15984880e-05, -3.14355539e-06,\n",
       "        -9.24847929e-06, -2.89255022e-05,  1.12446239e-06,\n",
       "        -2.04991700e-06, -2.43628750e-06, -1.50517635e-06],\n",
       "       [-4.51935286e-06,  1.07585928e-06, -5.27877495e-06,\n",
       "         2.98071281e-04, -1.45425604e-06, -5.10992541e-06,\n",
       "        -1.14370730e-05, -3.51098738e-06, -3.01851047e-07,\n",
       "        -3.02081673e-06,  9.29930668e-06,  2.27945728e-05,\n",
       "        -6.43062791e-06, -5.20650158e-06,  8.78083774e-06],\n",
       "       [-1.45914605e-06, -9.56496447e-06, -1.66823686e-06,\n",
       "        -1.45425604e-06,  9.06681905e-05,  1.39598306e-05,\n",
       "        -5.75530588e-06,  6.26910905e-06, -1.55704121e-06,\n",
       "         2.89202041e-06, -3.09115906e-05, -2.74018485e-06,\n",
       "         7.64710550e-07,  1.46165711e-06, -1.58353173e-05],\n",
       "       [ 7.85719499e-06, -6.31178768e-06,  5.84862722e-06,\n",
       "        -5.10992541e-06,  1.39598306e-05,  1.60526693e-04,\n",
       "         6.61309907e-06, -1.94316740e-06,  3.73277285e-06,\n",
       "        -2.40992316e-05, -6.27742513e-06, -1.29032604e-05,\n",
       "        -1.79001475e-06, -2.35683072e-06,  3.66359364e-06],\n",
       "       [ 1.51963393e-06,  4.49816999e-06, -4.13777508e-07,\n",
       "        -1.14370730e-05, -5.75530588e-06,  6.61309907e-06,\n",
       "         7.34210842e-05, -1.39533352e-08,  3.25983147e-06,\n",
       "        -2.25067694e-06,  3.78340585e-06, -6.21787560e-06,\n",
       "         1.03321944e-06, -1.06203609e-05,  6.22096760e-06],\n",
       "       [-1.99606458e-05,  4.26626772e-06, -1.15984880e-05,\n",
       "        -3.51098738e-06,  6.26910905e-06, -1.94316740e-06,\n",
       "        -1.39533352e-08,  3.23426344e-05,  2.09075834e-06,\n",
       "         4.78451871e-06,  3.65307844e-06,  8.93899111e-06,\n",
       "         1.71323239e-06,  1.43609627e-06, -3.89433040e-06],\n",
       "       [ 1.23811700e-06, -4.25603531e-07, -3.14355539e-06,\n",
       "        -3.01851047e-07, -1.55704121e-06,  3.73277285e-06,\n",
       "         3.25983147e-06,  2.09075834e-06,  1.05257994e-05,\n",
       "        -2.15441121e-06,  2.73427172e-06, -4.00933907e-06,\n",
       "         1.94721990e-06, -4.08924897e-06, -8.93931431e-07],\n",
       "       [-9.14596124e-07, -1.41097557e-06, -9.24847929e-06,\n",
       "        -3.02081673e-06,  2.89202041e-06, -2.40992316e-05,\n",
       "        -2.25067694e-06,  4.78451871e-06, -2.15441121e-06,\n",
       "         1.73238982e-04,  1.01394239e-06,  4.42645170e-05,\n",
       "        -1.88531564e-07,  1.20588402e-06,  9.32523242e-06],\n",
       "       [-1.55120732e-06,  7.08703580e-06, -2.89255022e-05,\n",
       "         9.29930668e-06, -3.09115906e-05, -6.27742513e-06,\n",
       "         3.78340585e-06,  3.65307844e-06,  2.73427172e-06,\n",
       "         1.01394239e-06,  4.17637239e-05, -2.72404099e-06,\n",
       "         2.18439830e-06, -5.96812648e-06,  7.27710488e-06],\n",
       "       [-1.81858068e-05, -1.94777105e-06,  1.12446239e-06,\n",
       "         2.27945728e-05, -2.74018485e-06, -1.29032604e-05,\n",
       "        -6.21787560e-06,  8.93899111e-06, -4.00933907e-06,\n",
       "         4.42645170e-05, -2.72404099e-06,  1.39240145e-04,\n",
       "        -1.62624164e-05,  8.74596165e-06,  7.95422787e-07],\n",
       "       [ 1.41438855e-06, -4.00436331e-06, -2.04991700e-06,\n",
       "        -6.43062791e-06,  7.64710550e-07, -1.79001475e-06,\n",
       "         1.03321944e-06,  1.71323239e-06,  1.94721990e-06,\n",
       "        -1.88531564e-07,  2.18439830e-06, -1.62624164e-05,\n",
       "         1.70119584e-05, -4.51843632e-06, -1.97460308e-06],\n",
       "       [-6.67022400e-06,  1.86587385e-06, -2.43628750e-06,\n",
       "        -5.20650158e-06,  1.46165711e-06, -2.35683072e-06,\n",
       "        -1.06203609e-05,  1.43609627e-06, -4.08924897e-06,\n",
       "         1.20588402e-06, -5.96812648e-06,  8.74596165e-06,\n",
       "        -4.51843632e-06,  4.62300466e-05,  2.83381629e-06],\n",
       "       [-4.83059073e-06,  5.26054661e-07, -1.50517635e-06,\n",
       "         8.78083774e-06, -1.58353173e-05,  3.66359364e-06,\n",
       "         6.22096760e-06, -3.89433040e-06, -8.93931431e-07,\n",
       "         9.32523242e-06,  7.27710488e-06,  7.95422787e-07,\n",
       "        -1.97460308e-06,  2.83381629e-06,  3.67193093e-05]])"
      ]
     },
     "execution_count": 65,
     "metadata": {},
     "output_type": "execute_result"
    }
   ],
   "source": [
    "varZ"
   ]
  },
  {
   "cell_type": "code",
   "execution_count": 66,
   "id": "6bd84a31",
   "metadata": {},
   "outputs": [
    {
     "name": "stdout",
     "output_type": "stream",
     "text": [
      "getPhi!\n"
     ]
    }
   ],
   "source": [
    "varZ, meanZ = m.computeZDistribution(X,np.ones(len(y)))\n",
    "source2 = m.computeSourceFromPhi(meanZ)\n",
    "conc2=m.computeConcentration(source2)"
   ]
  },
  {
   "cell_type": "code",
   "execution_count": 67,
   "id": "cf2f17fc",
   "metadata": {},
   "outputs": [
    {
     "data": {
      "text/plain": [
       "<matplotlib.colorbar.Colorbar at 0x2099427da00>"
      ]
     },
     "execution_count": 67,
     "metadata": {},
     "output_type": "execute_result"
    },
    {
     "data": {
      "image/png": "[encoded data removed]",
      "text/plain": [
       "<Figure size 432x288 with 2 Axes>"
      ]
     },
     "metadata": {
      "needs_background": "light"
     },
     "output_type": "display_data"
    }
   ],
   "source": [
    "plt.imshow(source2[30])\n",
    "plt.colorbar()"
   ]
  },
  {
   "cell_type": "code",
   "execution_count": 68,
   "id": "2084ebba",
   "metadata": {},
   "outputs": [
    {
     "data": {
      "text/plain": [
       "0.0"
      ]
     },
     "execution_count": 68,
     "metadata": {},
     "output_type": "execute_result"
    }
   ],
   "source": [
    "from scipy.stats import multivariate_normal\n",
    "var = multivariate_normal(mean=meanZ, cov=varZ)\n",
    "var.pdf(z)"
   ]
  },
  {
   "cell_type": "code",
   "execution_count": null,
   "id": "27777bb2",
   "metadata": {},
   "outputs": [],
   "source": []
  },
  {
   "cell_type": "code",
   "execution_count": null,
   "id": "a573e605",
   "metadata": {},
   "outputs": [],
   "source": []
  }
 ],
 "metadata": {
  "kernelspec": {
   "display_name": "Python 3",
   "language": "python",
   "name": "python3"
  },
  "language_info": {
   "codemirror_mode": {
    "name": "ipython",
    "version": 3
   },
   "file_extension": ".py",
   "mimetype": "text/x-python",
   "name": "python",
   "nbconvert_exporter": "python",
   "pygments_lexer": "ipython3",
   "version": "3.8.8"
  }
 },
 "nbformat": 4,
 "nbformat_minor": 5
}
