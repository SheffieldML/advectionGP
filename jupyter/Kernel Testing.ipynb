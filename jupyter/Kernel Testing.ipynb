{
 "cells": [
  {
   "cell_type": "code",
   "execution_count": 61,
   "metadata": {},
   "outputs": [
    {
     "name": "stdout",
     "output_type": "stream",
     "text": [
      "[[191.133  28.304]\n",
      " [ 28.304 202.608]] 26.23429086203887\n",
      "191.09499440345374 202.56772037353065 200\n"
     ]
    }
   ],
   "source": [
    "import matplotlib.pyplot as plt\n",
    "%matplotlib inline\n",
    "import numpy as np\n",
    "from advectionGP.kernels import EQ,GaussianBases, Kernel, meshgridndim\n",
    "\n",
    "            \n",
    "N_feat= 3000\n",
    "Ndim = 2 #1->2^(-(0.5*Ndim)) 2^(-(0.5*Ndim)) 2->1/sqrt(2**2), 3->1/sqrt(2**3), 4->1/16\n",
    "boundary= (np.zeros(Ndim),np.full(Ndim,10))\n",
    "ls = np.array([0.5,4])\n",
    "\n",
    "#k = EQ(ls, 200)\n",
    "k = GaussianBases(ls,200)\n",
    "k.generateFeatures(Ndim,N_feat,boundary)\n",
    "Z = np.random.randn(5000,k.N_feat)\n",
    "\n",
    "np.set_printoptions(precision=3,suppress=True)\n",
    "coords = np.c_[np.full(Ndim,4),np.full(Ndim,5)]\n",
    "Phis = np.array([phi for phi in k.getPhi(coords)])\n",
    "res = (Z@Phis)\n",
    "#plt.plot(coords[0,:],res[::100,:].T);\n",
    "dist = np.linalg.norm((coords[:,1]-coords[:,0])/ls)\n",
    "print(np.cov(res[:,0],res[:,1]),k.sigma2*np.exp(-0.5*(dist**2)))\n",
    "print(np.var(res[:,0]),np.var(res[:,1]),k.sigma2)"
   ]
  },
  {
   "cell_type": "code",
   "execution_count": 44,
   "metadata": {},
   "outputs": [
    {
     "data": {
      "text/plain": [
       "2.0155644370746373"
      ]
     },
     "execution_count": 44,
     "metadata": {},
     "output_type": "execute_result"
    }
   ],
   "source": [
    "np.linalg.norm(((coords[:,1]-coords[:,0])/ls))"
   ]
  },
  {
   "cell_type": "code",
   "execution_count": null,
   "metadata": {},
   "outputs": [],
   "source": []
  }
 ],
 "metadata": {
  "kernelspec": {
   "display_name": "Python 3",
   "language": "python",
   "name": "python3"
  },
  "language_info": {
   "codemirror_mode": {
    "name": "ipython",
    "version": 3
   },
   "file_extension": ".py",
   "mimetype": "text/x-python",
   "name": "python",
   "nbconvert_exporter": "python",
   "pygments_lexer": "ipython3",
   "version": "3.8.3"
  }
 },
 "nbformat": 4,
 "nbformat_minor": 4
}
