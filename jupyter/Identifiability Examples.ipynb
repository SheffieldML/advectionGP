{
 "cells": [
  {
   "cell_type": "code",
   "execution_count": 1,
   "id": "f9c8c54a",
   "metadata": {},
   "outputs": [],
   "source": [
    "#numpy\n",
    "import numpy as np\n",
    "from numpy.random import multivariate_normal #For later example\n",
    "\n",
    "#advectionGP\n",
    "from advectionGP.models import AdjointSecondOrderODEModel as ODEModel #Model module builds basic parts of the ODE problem, combines other classes into full model\n",
    " \n",
    "from advectionGP.models import AdjointAdvectionDiffusionModel as PDEModel\n",
    "\n",
    "from advectionGP.wind import WindSimple#Wind model\n",
    "\n",
    "from advectionGP.sensors import FixedSensorModel #Builds sensor arrays to generate data for foward model or to generate observations for comparison\n",
    "from advectionGP.kernels import EQ #Generates exponentiated quadratic kernel approximation\n",
    "from advectionGP.test import TestKernels #Unit test model\n",
    "\n",
    "\n",
    "#Plotting tools\n",
    "import matplotlib.pyplot as plt"
   ]
  },
  {
   "cell_type": "markdown",
   "id": "575aa9a5",
   "metadata": {},
   "source": [
    "# ODE Example"
   ]
  },
  {
   "cell_type": "code",
   "execution_count": 2,
   "id": "dcc2c07f",
   "metadata": {},
   "outputs": [],
   "source": [
    "avg=0.01 # time that an observation is taken for\n",
    "tlocL = np.linspace(0,9.9,20) # observation start times\n",
    "X= np.zeros((len(tlocL),2)) # initiate X\n",
    "# Build sensor locations\n",
    "X[:,0] = tlocL #lower time\n",
    "X[:,1] = X[:,0]+avg # upper time\n",
    "\n",
    "sensors = FixedSensorModel(X,0) # establish sensor model arguments are sensor locations and spatial averaging (not applicable in 1D case so set to 0)"
   ]
  },
  {
   "cell_type": "markdown",
   "id": "c03273b5",
   "metadata": {},
   "source": [
    "### Generate forward model with parameter set p1=[0.8,5,-1]"
   ]
  },
  {
   "cell_type": "code",
   "execution_count": 3,
   "id": "c1ab081f",
   "metadata": {},
   "outputs": [],
   "source": [
    "k_0 = -1 #Diffusion coefficient\n",
    "u=0.8\n",
    "eta=5\n",
    "\n",
    "p1 = [u,eta,k_0]\n",
    "\n",
    "noiseSD = 0.05 #Observation noise\n",
    "N_feat=2000 # number of features used to approximate ground truth GP\n",
    "boundary = ([0],[10])# edges of the grid - in units of time\n",
    "kForward = EQ(0.6, 4.0) # generate EQ kernel arguments are lengthscale and variance\n",
    "res = [500] # grid size for time"
   ]
  },
  {
   "cell_type": "code",
   "execution_count": 4,
   "id": "30026fb1",
   "metadata": {},
   "outputs": [],
   "source": [
    "m = ODEModel(resolution=res,boundary=boundary,N_feat=N_feat,noiseSD=noiseSD,kernel=kForward,sensormodel=sensors,k_0=k_0,u=u,eta=eta) #initiate PDE model to build concentration\n",
    "\n",
    "dt,dt2,Nt = m.getGridStepSize() # useful numbers!\n",
    "\n",
    "z=np.random.normal(0,1.0,N_feat) # Generate z to compute source\n",
    "sourceGT=m.computeSourceFromPhi(z)# Compute ground truth source by approximating GP\n",
    "#sourceGT = np.ones(m.resolution)  # Example constant source\n",
    "concTrain=m.computeConcentration(sourceGT) # Compute concentration - runs ODE forward model\n",
    "yTrain= m.computeObservations(addNoise='TRUE') # Compute observations with noise uses m.sensormodel for observation locations"
   ]
  },
  {
   "cell_type": "markdown",
   "id": "a948af3a",
   "metadata": {},
   "source": [
    "### Infer Source with parameter set p1"
   ]
  },
  {
   "cell_type": "code",
   "execution_count": 5,
   "id": "3ff6f7d3",
   "metadata": {},
   "outputs": [
    {
     "name": "stdout",
     "output_type": "stream",
     "text": [
      "Calculating Adjoints...\n",
      "0/20 \r",
      "1/20 \r",
      "2/20 \r",
      "3/20 \r",
      "4/20 \r",
      "5/20 \r",
      "6/20 \r",
      "7/20 \r",
      "8/20 \r",
      "9/20 \r",
      "10/20 \r",
      "11/20 \r",
      "12/20 \r",
      "13/20 \r",
      "14/20 \r",
      "15/20 \r",
      "16/20 \r",
      "17/20 \r",
      "18/20 \r",
      "19/20 \r\n",
      "Calculating Phis...\n",
      "0/200 \r",
      "1/200 \r",
      "2/200 \r",
      "3/200 \r",
      "4/200 \r",
      "5/200 \r",
      "6/200 \r",
      "7/200 \r",
      "8/200 \r",
      "9/200 \r",
      "10/200 \r",
      "11/200 \r",
      "12/200 \r",
      "13/200 \r",
      "14/200 \r",
      "15/200 \r",
      "16/200 \r",
      "17/200 \r",
      "18/200 \r",
      "19/200 \r",
      "20/200 \r",
      "21/200 \r",
      "22/200 \r",
      "23/200 \r",
      "24/200 \r",
      "25/200 \r",
      "26/200 \r",
      "27/200 \r",
      "28/200 \r",
      "29/200 \r",
      "30/200 \r",
      "31/200 \r",
      "32/200 \r",
      "33/200 \r",
      "34/200 \r",
      "35/200 \r",
      "36/200 \r",
      "37/200 \r",
      "38/200 \r",
      "39/200 \r",
      "40/200 \r",
      "41/200 \r",
      "42/200 \r",
      "43/200 \r",
      "44/200 \r",
      "45/200 \r",
      "46/200 \r",
      "47/200 \r",
      "48/200 \r",
      "49/200 \r",
      "50/200 \r",
      "51/200 \r",
      "52/200 \r",
      "53/200 \r",
      "54/200 \r",
      "55/200 \r",
      "56/200 \r",
      "57/200 \r",
      "58/200 \r",
      "59/200 \r",
      "60/200 \r",
      "61/200 \r",
      "62/200 \r",
      "63/200 \r",
      "64/200 \r",
      "65/200 \r",
      "66/200 \r",
      "67/200 \r",
      "68/200 \r",
      "69/200 \r",
      "70/200 \r",
      "71/200 \r",
      "72/200 \r",
      "73/200 \r",
      "74/200 \r",
      "75/200 \r",
      "76/200 \r",
      "77/200 \r",
      "78/200 \r",
      "79/200 \r",
      "80/200 \r",
      "81/200 \r",
      "82/200 \r",
      "83/200 \r",
      "84/200 \r",
      "85/200 \r",
      "86/200 \r",
      "87/200 \r",
      "88/200 \r",
      "89/200 \r",
      "90/200 \r",
      "91/200 \r",
      "92/200 \r",
      "93/200 \r",
      "94/200 \r",
      "95/200 \r",
      "96/200 \r",
      "97/200 \r",
      "98/200 \r",
      "99/200 \r",
      "100/200 \r",
      "101/200 \r",
      "102/200 \r",
      "103/200 \r",
      "104/200 \r",
      "105/200 \r",
      "106/200 \r",
      "107/200 \r",
      "108/200 \r",
      "109/200 \r",
      "110/200 \r",
      "111/200 \r",
      "112/200 \r",
      "113/200 \r",
      "114/200 \r",
      "115/200 \r",
      "116/200 \r",
      "117/200 \r",
      "118/200 \r",
      "119/200 \r",
      "120/200 \r",
      "121/200 \r",
      "122/200 \r",
      "123/200 \r",
      "124/200 \r",
      "125/200 \r",
      "126/200 \r",
      "127/200 \r",
      "128/200 \r",
      "129/200 \r",
      "130/200 \r",
      "131/200 \r",
      "132/200 \r",
      "133/200 \r",
      "134/200 \r",
      "135/200 \r",
      "136/200 \r",
      "137/200 \r",
      "138/200 \r",
      "139/200 \r",
      "140/200 \r",
      "141/200 \r",
      "142/200 \r",
      "143/200 \r",
      "144/200 \r",
      "145/200 \r",
      "146/200 \r",
      "147/200 \r",
      "148/200 \r",
      "149/200 \r",
      "150/200 \r",
      "151/200 \r",
      "152/200 \r",
      "153/200 \r",
      "154/200 \r",
      "155/200 \r",
      "156/200 \r",
      "157/200 \r",
      "158/200 \r",
      "159/200 \r",
      "160/200 \r",
      "161/200 \r",
      "162/200 \r",
      "163/200 \r",
      "164/200 \r",
      "165/200 \r",
      "166/200 \r",
      "167/200 \r",
      "168/200 \r",
      "169/200 \r",
      "170/200 \r",
      "171/200 \r",
      "172/200 \r",
      "173/200 \r",
      "174/200 \r",
      "175/200 \r",
      "176/200 \r",
      "177/200 \r",
      "178/200 \r",
      "179/200 \r",
      "180/200 \r",
      "181/200 \r",
      "182/200 \r",
      "183/200 \r",
      "184/200 \r",
      "185/200 \r",
      "186/200 \r",
      "187/200 \r",
      "188/200 \r",
      "189/200 \r",
      "190/200 \r",
      "191/200 \r",
      "192/200 \r",
      "193/200 \r",
      "194/200 \r",
      "195/200 \r",
      "196/200 \r",
      "197/200 \r",
      "198/200 \r",
      "199/200 \r\n"
     ]
    }
   ],
   "source": [
    "#%%timeit\n",
    "N_feat =200 #Number of features used to infer the source\n",
    "kInverse = EQ(0.6, 4) # Initiate kernel for inverse problem\n",
    "mInfer = ODEModel(resolution=res,boundary=boundary,N_feat=N_feat,noiseSD=noiseSD,kernel=kInverse,sensormodel=sensors,k_0=p1[2],u=p1[0],eta=p1[1]) #Initiate new model for inference\n",
    "mInfer.computeModelRegressors() # Compute regressor matrix \n",
    "meanZ, covZ = mInfer.computeZDistribution(yTrain) # Infers z vector mean and covariance using regressor matrix\n",
    "sourceInfer = mInfer.computeSourceFromPhi(meanZ) # Generates estimated source using mean of the inferred distribution\n",
    "concInfer=mInfer.computeConcentration(sourceInfer) # Generates estimated concentration from inferred source\n"
   ]
  },
  {
   "cell_type": "markdown",
   "id": "f5a48ea5",
   "metadata": {},
   "source": [
    "### Plot source and output prediction\n",
    "\n",
    "Note that both source and concentration inference are accurate."
   ]
  },
  {
   "cell_type": "code",
   "execution_count": 6,
   "id": "6e61ee89",
   "metadata": {},
   "outputs": [
    {
     "data": {
      "image/png": "[encoded data removed]",
      "text/plain": [
       "<Figure size 432x288 with 1 Axes>"
      ]
     },
     "metadata": {
      "needs_background": "light"
     },
     "output_type": "display_data"
    },
    {
     "data": {
      "image/png": "[encoded data removed]",
      "text/plain": [
       "<Figure size 432x288 with 1 Axes>"
      ]
     },
     "metadata": {
      "needs_background": "light"
     },
     "output_type": "display_data"
    }
   ],
   "source": [
    "source_samples = []\n",
    "conc_samples=[]    \n",
    "for z_samp in np.random.multivariate_normal(meanZ, covZ,200):\n",
    "    source_samples.append(mInfer.computeSourceFromPhi(z_samp))\n",
    "    conc_samples.append(mInfer.computeConcentration(mInfer.computeSourceFromPhi(z_samp)))\n",
    "source_samples=np.array(source_samples)\n",
    "conc_samples=np.array(conc_samples)\n",
    "\n",
    "source_lower_ci = np.percentile(source_samples,2.5,0)\n",
    "source_upper_ci = np.percentile(source_samples,97.5,0)\n",
    "source_mean = np.percentile(source_samples,50,0)\n",
    "\n",
    "conc_lower_ci = np.percentile(conc_samples,2.5,0)\n",
    "conc_upper_ci = np.percentile(conc_samples,97.5,0)\n",
    "conc_mean = np.percentile(conc_samples,50,0)\n",
    "\n",
    "xtest=np.arange(Nt)\n",
    "\n",
    "#plt.figure(figsize=(15, 10))\n",
    "\n",
    "plt.plot(xtest,sourceInfer,'b-')\n",
    "plt.plot(xtest,sourceGT,'r--')\n",
    "\n",
    "#plt.plot(xtest,source_samples.T,'g-',alpha=0.3)\n",
    "#plt.fill_between(xtest,s_z_l,s_z_upper,alpha=0.5)\n",
    "plt.fill_between(xtest,source_lower_ci,source_upper_ci,alpha=0.5)\n",
    "plt.legend(labels=[\"estimated source term\",\"True source term\"])\n",
    "plt.title(\"Source function \")\n",
    "plt.xlabel(\"Input, t\")\n",
    "plt.ylabel(\"output, f(t)\")\n",
    "#plt.ylim([-5,5])\n",
    "plt.savefig('NumberFeature%d.pdf' % N_feat)\n",
    "plt.show()\n",
    "\n",
    "#plt.figure(figsize=(15, 10))\n",
    "\n",
    "plt.plot(xtest,concInfer,'b-')\n",
    "plt.plot(xtest,concTrain,'r--')\n",
    "\n",
    "#plt.plot(xtest,source_samples.T,'g-',alpha=0.3)\n",
    "#plt.fill_between(xtest,s_z_l,s_z_upper,alpha=0.5)\n",
    "plt.fill_between(xtest,conc_lower_ci,conc_upper_ci,alpha=0.5)\n",
    "plt.legend(labels=[\"estimated concentration\",\"True concentration\"])\n",
    "plt.title(\"Concentration\")\n",
    "plt.xlabel(\"Input, t\")\n",
    "plt.ylabel(\"output, f(t)\")\n",
    "#plt.ylim([-5,5])\n",
    "plt.savefig('NumberFeature%d.pdf' % N_feat)\n",
    "plt.show()"
   ]
  },
  {
   "cell_type": "markdown",
   "id": "00adb511",
   "metadata": {},
   "source": [
    "### Infer source with parameter set p2=[3,1,-0.05]"
   ]
  },
  {
   "cell_type": "code",
   "execution_count": 7,
   "id": "8966059a",
   "metadata": {},
   "outputs": [
    {
     "name": "stdout",
     "output_type": "stream",
     "text": [
      "Calculating Adjoints...\n",
      "0/20 \r",
      "1/20 \r",
      "2/20 \r",
      "3/20 \r",
      "4/20 \r",
      "5/20 \r",
      "6/20 \r",
      "7/20 \r",
      "8/20 \r",
      "9/20 \r",
      "10/20 \r",
      "11/20 \r",
      "12/20 \r",
      "13/20 \r",
      "14/20 \r",
      "15/20 \r",
      "16/20 \r",
      "17/20 \r",
      "18/20 \r",
      "19/20 \r\n",
      "Calculating Phis...\n",
      "0/200 \r",
      "1/200 \r",
      "2/200 \r",
      "3/200 \r",
      "4/200 \r",
      "5/200 \r",
      "6/200 \r",
      "7/200 \r",
      "8/200 \r",
      "9/200 \r",
      "10/200 \r",
      "11/200 \r",
      "12/200 \r",
      "13/200 \r",
      "14/200 \r",
      "15/200 \r",
      "16/200 \r",
      "17/200 \r",
      "18/200 \r",
      "19/200 \r",
      "20/200 \r",
      "21/200 \r",
      "22/200 \r",
      "23/200 \r",
      "24/200 \r",
      "25/200 \r",
      "26/200 \r",
      "27/200 \r",
      "28/200 \r",
      "29/200 \r",
      "30/200 \r",
      "31/200 \r",
      "32/200 \r",
      "33/200 \r",
      "34/200 \r",
      "35/200 \r",
      "36/200 \r",
      "37/200 \r",
      "38/200 \r",
      "39/200 \r",
      "40/200 \r",
      "41/200 \r",
      "42/200 \r",
      "43/200 \r",
      "44/200 \r",
      "45/200 \r",
      "46/200 \r",
      "47/200 \r",
      "48/200 \r",
      "49/200 \r",
      "50/200 \r",
      "51/200 \r",
      "52/200 \r",
      "53/200 \r",
      "54/200 \r",
      "55/200 \r",
      "56/200 \r",
      "57/200 \r",
      "58/200 \r",
      "59/200 \r",
      "60/200 \r",
      "61/200 \r",
      "62/200 \r",
      "63/200 \r",
      "64/200 \r",
      "65/200 \r",
      "66/200 \r",
      "67/200 \r",
      "68/200 \r",
      "69/200 \r",
      "70/200 \r",
      "71/200 \r",
      "72/200 \r",
      "73/200 \r",
      "74/200 \r",
      "75/200 \r",
      "76/200 \r",
      "77/200 \r",
      "78/200 \r",
      "79/200 \r",
      "80/200 \r",
      "81/200 \r",
      "82/200 \r",
      "83/200 \r",
      "84/200 \r",
      "85/200 \r",
      "86/200 \r",
      "87/200 \r",
      "88/200 \r",
      "89/200 \r",
      "90/200 \r",
      "91/200 \r",
      "92/200 \r",
      "93/200 \r",
      "94/200 \r",
      "95/200 \r",
      "96/200 \r",
      "97/200 \r",
      "98/200 \r",
      "99/200 \r",
      "100/200 \r",
      "101/200 \r",
      "102/200 \r",
      "103/200 \r",
      "104/200 \r",
      "105/200 \r",
      "106/200 \r",
      "107/200 \r",
      "108/200 \r",
      "109/200 \r",
      "110/200 \r",
      "111/200 \r",
      "112/200 \r",
      "113/200 \r",
      "114/200 \r",
      "115/200 \r",
      "116/200 \r",
      "117/200 \r",
      "118/200 \r",
      "119/200 \r",
      "120/200 \r",
      "121/200 \r",
      "122/200 \r",
      "123/200 \r",
      "124/200 \r",
      "125/200 \r",
      "126/200 \r",
      "127/200 \r",
      "128/200 \r",
      "129/200 \r",
      "130/200 \r",
      "131/200 \r",
      "132/200 \r",
      "133/200 \r",
      "134/200 \r",
      "135/200 \r",
      "136/200 \r",
      "137/200 \r",
      "138/200 \r",
      "139/200 \r",
      "140/200 \r",
      "141/200 \r",
      "142/200 \r",
      "143/200 \r",
      "144/200 \r",
      "145/200 \r",
      "146/200 \r",
      "147/200 \r",
      "148/200 \r",
      "149/200 \r",
      "150/200 \r",
      "151/200 \r",
      "152/200 \r",
      "153/200 \r",
      "154/200 \r",
      "155/200 \r",
      "156/200 \r",
      "157/200 \r",
      "158/200 \r",
      "159/200 \r",
      "160/200 \r",
      "161/200 \r",
      "162/200 \r",
      "163/200 \r",
      "164/200 \r",
      "165/200 \r",
      "166/200 \r",
      "167/200 \r",
      "168/200 \r",
      "169/200 \r",
      "170/200 \r",
      "171/200 \r",
      "172/200 \r",
      "173/200 \r",
      "174/200 \r",
      "175/200 \r",
      "176/200 \r",
      "177/200 \r",
      "178/200 \r",
      "179/200 \r",
      "180/200 \r",
      "181/200 \r",
      "182/200 \r",
      "183/200 \r",
      "184/200 \r",
      "185/200 \r",
      "186/200 \r",
      "187/200 \r",
      "188/200 \r",
      "189/200 \r",
      "190/200 \r",
      "191/200 \r",
      "192/200 \r",
      "193/200 \r",
      "194/200 \r",
      "195/200 \r",
      "196/200 \r",
      "197/200 \r",
      "198/200 \r",
      "199/200 \r\n"
     ]
    }
   ],
   "source": [
    "#%%timeit\n",
    "p2 = [3, 1,-0.05]\n",
    "N_feat =200 #Number of features used to infer the source\n",
    "\n",
    "mInfer.k_0=p2[2]\n",
    "mInfer.u=p2[0]\n",
    "mInfer.eta=p2[1]\n",
    "\n",
    "mInfer.computeModelRegressors() # Compute regressor matrix \n",
    "meanZ2, covZ2 = mInfer.computeZDistribution(yTrain) # Infers z vector mean and covariance using regressor matrix\n",
    "sourceInfer2 = mInfer.computeSourceFromPhi(meanZ2) # Generates estimated source using mean of the inferred distribution\n",
    "concInfer2=mInfer.computeConcentration(sourceInfer2) # Generates estimated concentration from inferred source\n"
   ]
  },
  {
   "cell_type": "markdown",
   "id": "12d4c72c",
   "metadata": {},
   "source": [
    "### Plot source and output prediction\n",
    "\n",
    "Note that both source inference is inaccurate and concentration inference is accurate.\n"
   ]
  },
  {
   "cell_type": "code",
   "execution_count": 8,
   "id": "c42526ae",
   "metadata": {},
   "outputs": [
    {
     "data": {
      "image/png": "[encoded data removed]",
      "text/plain": [
       "<Figure size 432x288 with 1 Axes>"
      ]
     },
     "metadata": {
      "needs_background": "light"
     },
     "output_type": "display_data"
    },
    {
     "data": {
      "image/png": "[encoded data removed]",
      "text/plain": [
       "<Figure size 432x288 with 1 Axes>"
      ]
     },
     "metadata": {
      "needs_background": "light"
     },
     "output_type": "display_data"
    }
   ],
   "source": [
    "source_samples = []\n",
    "conc_samples=[]    \n",
    "for z_samp in np.random.multivariate_normal(meanZ2, covZ2,200):\n",
    "    source_samples.append(mInfer.computeSourceFromPhi(z_samp))\n",
    "    conc_samples.append(mInfer.computeConcentration(mInfer.computeSourceFromPhi(z_samp)))\n",
    "source_samples=np.array(source_samples)\n",
    "conc_samples=np.array(conc_samples)\n",
    "\n",
    "source_lower_ci = np.percentile(source_samples,2.5,0)\n",
    "source_upper_ci = np.percentile(source_samples,97.5,0)\n",
    "source_mean = np.percentile(source_samples,50,0)\n",
    "\n",
    "conc_lower_ci = np.percentile(conc_samples,2.5,0)\n",
    "conc_upper_ci = np.percentile(conc_samples,97.5,0)\n",
    "conc_mean = np.percentile(conc_samples,50,0)\n",
    "\n",
    "xtest=np.arange(Nt)\n",
    "\n",
    "#plt.figure(figsize=(15, 10))\n",
    "\n",
    "plt.plot(xtest,sourceInfer2,'b-')\n",
    "plt.plot(xtest,sourceGT,'r--')\n",
    "\n",
    "#plt.plot(xtest,source_samples.T,'g-',alpha=0.3)\n",
    "#plt.fill_between(xtest,s_z_l,s_z_upper,alpha=0.5)\n",
    "plt.fill_between(xtest,source_lower_ci,source_upper_ci,alpha=0.5)\n",
    "plt.legend(labels=[\"estimated source term\",\"True source term\"])\n",
    "plt.title(\"Source function \")\n",
    "plt.xlabel(\"Input, t\")\n",
    "plt.ylabel(\"output, f(t)\")\n",
    "#plt.ylim([-5,5])\n",
    "plt.savefig('NumberFeature%d.pdf' % N_feat)\n",
    "plt.show()\n",
    "\n",
    "#plt.figure(figsize=(15, 10))\n",
    "\n",
    "plt.plot(xtest,concInfer2,'b-')\n",
    "plt.plot(xtest,concTrain,'r--')\n",
    "\n",
    "#plt.plot(xtest,source_samples.T,'g-',alpha=0.3)\n",
    "#plt.fill_between(xtest,s_z_l,s_z_upper,alpha=0.5)\n",
    "plt.fill_between(xtest,conc_lower_ci,conc_upper_ci,alpha=0.5)\n",
    "plt.legend(labels=[\"estimated concentration\",\"True concentration\"])\n",
    "plt.title(\"Concentration\")\n",
    "plt.xlabel(\"Input, t\")\n",
    "plt.ylabel(\"output, f(t)\")\n",
    "#plt.ylim([-5,5])\n",
    "plt.savefig('NumberFeature%d.pdf' % N_feat)\n",
    "plt.show()"
   ]
  },
  {
   "cell_type": "markdown",
   "id": "ff940d33",
   "metadata": {},
   "source": [
    "# PDE Example"
   ]
  },
  {
   "cell_type": "code",
   "execution_count": null,
   "id": "543a48e6",
   "metadata": {},
   "outputs": [],
   "source": []
  },
  {
   "cell_type": "code",
   "execution_count": 9,
   "id": "c3bc74e1",
   "metadata": {},
   "outputs": [],
   "source": [
    "# generate sensor locations for training data with shape [total observations, 4], where each row has elements \n",
    "#[lower time location, upper time location, x location, y location]\n",
    "\n",
    "tlocL = np.linspace(1,8,3) # lower time\n",
    "xloc=np.linspace(2,8,4) # x locations\n",
    "yloc=np.linspace(2,8,4) # y locations\n",
    "sensN = len(xloc)*len(yloc) # total number of sensors \n",
    "obsN = len(tlocL) # total time points at which an observation is taken\n",
    "X= np.zeros((obsN*sensN,4)) # obsN*sensN is total observations over all sensors and all times\n",
    "# Build sensor locations\n",
    "X[:,0] = np.asarray(np.meshgrid(tlocL,xloc,yloc)).reshape(3,sensN*obsN)[0] #lower time\n",
    "X[:,2] = np.asarray(np.meshgrid(tlocL,xloc,yloc)).reshape(3,sensN*obsN)[1] # x location\n",
    "X[:,3] = np.asarray(np.meshgrid(tlocL,xloc,yloc)).reshape(3,sensN*obsN)[2] # ylocation\n",
    "X[:,1] = X[:,0]+1 # upper time\n",
    "\n",
    "sensors = FixedSensorModel(X,1) # establish sensor model arguments are sensor locations and spatial averaging"
   ]
  },
  {
   "cell_type": "code",
   "execution_count": 63,
   "id": "4fe34b1e",
   "metadata": {},
   "outputs": [
    {
     "name": "stdout",
     "output_type": "stream",
     "text": [
      "WARNING: spatial grid size does not meet the finite difference advection diffusion stability criteria\n"
     ]
    }
   ],
   "source": [
    "k_0 = 0.01 #Diffusion\n",
    "R=0.1\n",
    "noiseSD = 0.05 #Observation noise\n",
    "N_feat=2000 # number of features used to approximate ground truth GP\n",
    "boundary = ([0,0,0],[10,10,10])# corners of the grid - in units of space\n",
    "k = EQ(2, 2.0) # generate EQ kernel arguments are lengthscale and variance\n",
    "res = [50,50,50] # grid size for time, x and y\n",
    "\n",
    "\n",
    "\n",
    "windmodel=WindSimple(0.1,0.1) # establish fixed wind model\n",
    "m = PDEModel(resolution=res,boundary=boundary,N_feat=N_feat,noiseSD=noiseSD,kernel=k,sensormodel=sensors,windmodel=windmodel,k_0=k_0) #initiate PDE model to build concentration\n",
    "\n",
    "dt,dx,dy,dx2,dy2,Nt,Nx,Ny = m.getGridStepSize() # useful numbers!\n",
    "\n",
    "z=np.random.normal(0,1.0,N_feat) # Generate z to compute source\n",
    "sourceGT=(m.computeSourceFromPhi(z))# Compute source"
   ]
  },
  {
   "cell_type": "code",
   "execution_count": 64,
   "id": "8d25769c",
   "metadata": {},
   "outputs": [],
   "source": [
    "concTrain=m.computeConcentration(sourceGT) # Compute concentration - runs advection diffusion forward model\n",
    "yTrain= m.computeObservations() # Compute observations with noise uses m.sensormodel for observation locations"
   ]
  },
  {
   "cell_type": "markdown",
   "id": "b119f4fa",
   "metadata": {},
   "source": [
    "## Infer source with parameters p1=[(0.001,0.001),0.001]"
   ]
  },
  {
   "cell_type": "code",
   "execution_count": 65,
   "id": "924fef08",
   "metadata": {},
   "outputs": [
    {
     "name": "stdout",
     "output_type": "stream",
     "text": [
      "WARNING: spatial grid size does not meet the finite difference advection diffusion stability criteria\n",
      "Calculating Adjoints...\n",
      "47/48 \n",
      "Calculating Phis...\n",
      "499/500 \n"
     ]
    }
   ],
   "source": [
    "N_feat =500 #Number of features used to infer the source\n",
    "k1 = EQ(2, 2.0) \n",
    "k2 = EQ(2, 2.0) \n",
    "\n",
    "mPDE = PDEModel(resolution=res,boundary=boundary,N_feat=N_feat,noiseSD=noiseSD,kernel=k1,sensormodel=sensors,windmodel=windmodel,k_0=k_0) #Initiate new model for inference\n",
    "regressPDE = mPDE.computeModelRegressors() # Compute regressor matrix\n",
    "meanZPDE, covZPDE = mPDE.computeZDistribution(yTrain) # Infers z vector mean and covariance\n",
    "sourcePDE = mPDE.computeSourceFromPhi(meanZPDE) # Generates estimated source using inferred distributio\n",
    "concPDE = mPDE.computeConcentration(sourcePDE)\n",
    "yOut = mPDE.computeObservations()"
   ]
  },
  {
   "cell_type": "markdown",
   "id": "15c3507b",
   "metadata": {},
   "source": [
    "### MSE between ground truth source and inferred source"
   ]
  },
  {
   "cell_type": "code",
   "execution_count": 66,
   "id": "e8580396",
   "metadata": {},
   "outputs": [
    {
     "data": {
      "text/plain": [
       "0.7601675394386913"
      ]
     },
     "execution_count": 66,
     "metadata": {},
     "output_type": "execute_result"
    }
   ],
   "source": [
    "np.mean((sourceGT-sourcePDE)**2)"
   ]
  },
  {
   "cell_type": "markdown",
   "id": "779ff78e",
   "metadata": {},
   "source": [
    "### MSE between ground truth source and inferred source"
   ]
  },
  {
   "cell_type": "code",
   "execution_count": 67,
   "id": "bd75beba",
   "metadata": {
    "scrolled": true
   },
   "outputs": [
    {
     "data": {
      "text/plain": [
       "2.873136730034791"
      ]
     },
     "execution_count": 67,
     "metadata": {},
     "output_type": "execute_result"
    }
   ],
   "source": [
    "np.mean((concTrain-concPDE)**2)"
   ]
  },
  {
   "cell_type": "markdown",
   "id": "7aedac5d",
   "metadata": {},
   "source": [
    "### MSE between observations and inferred observations"
   ]
  },
  {
   "cell_type": "code",
   "execution_count": 68,
   "id": "8c38b343",
   "metadata": {},
   "outputs": [
    {
     "data": {
      "text/plain": [
       "0.0006643702784585467"
      ]
     },
     "execution_count": 68,
     "metadata": {},
     "output_type": "execute_result"
    }
   ],
   "source": [
    "np.mean((yTrain-yOut)**2)"
   ]
  },
  {
   "cell_type": "code",
   "execution_count": 69,
   "id": "5fc0120d",
   "metadata": {
    "scrolled": true
   },
   "outputs": [
    {
     "data": {
      "text/plain": [
       "<matplotlib.colorbar.Colorbar at 0x7f79ad1ca4f0>"
      ]
     },
     "execution_count": 69,
     "metadata": {},
     "output_type": "execute_result"
    },
    {
     "data": {
      "image/png": "[encoded data removed]",
      "text/plain": [
       "<Figure size 432x288 with 2 Axes>"
      ]
     },
     "metadata": {
      "needs_background": "light"
     },
     "output_type": "display_data"
    }
   ],
   "source": [
    "plt.imshow(concTrain[30])\n",
    "plt.colorbar()"
   ]
  },
  {
   "cell_type": "code",
   "execution_count": 70,
   "id": "ac6d088f",
   "metadata": {},
   "outputs": [
    {
     "data": {
      "text/plain": [
       "<matplotlib.colorbar.Colorbar at 0x7f79acf4c130>"
      ]
     },
     "execution_count": 70,
     "metadata": {},
     "output_type": "execute_result"
    },
    {
     "data": {
      "image/png": "[encoded data removed]",
      "text/plain": [
       "<Figure size 432x288 with 2 Axes>"
      ]
     },
     "metadata": {
      "needs_background": "light"
     },
     "output_type": "display_data"
    }
   ],
   "source": [
    "plt.imshow(concPDE[30])\n",
    "plt.colorbar()"
   ]
  },
  {
   "cell_type": "markdown",
   "id": "798c1db2",
   "metadata": {},
   "source": [
    "## Infer source with parameters p2 = [(0.000001,0.000001),0.0000001]"
   ]
  },
  {
   "cell_type": "code",
   "execution_count": 89,
   "id": "fe14df0e",
   "metadata": {},
   "outputs": [
    {
     "name": "stdout",
     "output_type": "stream",
     "text": [
      "Calculating Adjoints...\n",
      "47/48 \n",
      "Calculating Phis...\n",
      "499/500 \n"
     ]
    }
   ],
   "source": [
    "N_feat =500 #Number of features used to infer the source\n",
    "k1 = EQ(2, 2.0) \n",
    "k2 = EQ(2, 2.0) \n",
    "\n",
    "k_0=0.0000001\n",
    "u=[]\n",
    "\n",
    "windmodel2=WindSimple(0.000001,0.0000001) # establish fixed wind model\n",
    "\n",
    "mPDE.windmodel=windmodel2\n",
    "mPDE.u = mPDE.windmodel.getu(mPDE)\n",
    "mPDE.k_0=k_0\n",
    "\n",
    "regressPDE2 = mPDE.computeModelRegressors() # Compute regressor matrix\n",
    "meanZPDE2, covZPDE2 = mPDE.computeZDistribution(yTrain) # Infers z vector mean and covariance\n",
    "sourcePDE2 = mPDE.computeSourceFromPhi(meanZPDE2) # Generates estimated source using inferred distributio\n",
    "concPDE2 = mPDE.computeConcentration(sourcePDE2)\n",
    "yOut2 = mPDE.computeObservations()"
   ]
  },
  {
   "cell_type": "markdown",
   "id": "eeb9a238",
   "metadata": {},
   "source": [
    "### MSE between ground truth source and inferred source"
   ]
  },
  {
   "cell_type": "code",
   "execution_count": 90,
   "id": "13cfb75c",
   "metadata": {
    "scrolled": true
   },
   "outputs": [
    {
     "data": {
      "text/plain": [
       "0.8602494626175804"
      ]
     },
     "execution_count": 90,
     "metadata": {},
     "output_type": "execute_result"
    }
   ],
   "source": [
    "np.mean((sourceGT-sourcePDE2)**2)"
   ]
  },
  {
   "cell_type": "markdown",
   "id": "4d3c61b2",
   "metadata": {},
   "source": [
    "### MSE between ground truth conc and inferred conc"
   ]
  },
  {
   "cell_type": "code",
   "execution_count": 91,
   "id": "b1d1fca5",
   "metadata": {},
   "outputs": [
    {
     "data": {
      "text/plain": [
       "3.8323241333731013"
      ]
     },
     "execution_count": 91,
     "metadata": {},
     "output_type": "execute_result"
    }
   ],
   "source": [
    "np.mean((concTrain-concPDE2)**2)"
   ]
  },
  {
   "cell_type": "markdown",
   "id": "8827505f",
   "metadata": {},
   "source": [
    "### MSE between observations and inferred observations"
   ]
  },
  {
   "cell_type": "code",
   "execution_count": 92,
   "id": "d1d0a52e",
   "metadata": {},
   "outputs": [
    {
     "data": {
      "text/plain": [
       "5.717290296231882e-05"
      ]
     },
     "execution_count": 92,
     "metadata": {},
     "output_type": "execute_result"
    }
   ],
   "source": [
    "np.mean((yTrain-yOut2)**2)"
   ]
  },
  {
   "cell_type": "markdown",
   "id": "58368a8d",
   "metadata": {},
   "source": [
    "Note that source estimation and concentration estimation remain of similary quality despite different parameters."
   ]
  },
  {
   "cell_type": "code",
   "execution_count": 93,
   "id": "5164ef80",
   "metadata": {
    "scrolled": true
   },
   "outputs": [
    {
     "data": {
      "text/plain": [
       "<matplotlib.colorbar.Colorbar at 0x7f79acd57310>"
      ]
     },
     "execution_count": 93,
     "metadata": {},
     "output_type": "execute_result"
    },
    {
     "data": {
      "image/png": "[encoded data removed]",
      "text/plain": [
       "<Figure size 432x288 with 2 Axes>"
      ]
     },
     "metadata": {
      "needs_background": "light"
     },
     "output_type": "display_data"
    }
   ],
   "source": [
    "plt.imshow(concTrain[30])\n",
    "plt.colorbar()"
   ]
  },
  {
   "cell_type": "code",
   "execution_count": 94,
   "id": "6e614b3b",
   "metadata": {},
   "outputs": [
    {
     "data": {
      "text/plain": [
       "<matplotlib.colorbar.Colorbar at 0x7f79acc83c70>"
      ]
     },
     "execution_count": 94,
     "metadata": {},
     "output_type": "execute_result"
    },
    {
     "data": {
      "image/png": "[encoded data removed]",
      "text/plain": [
       "<Figure size 432x288 with 2 Axes>"
      ]
     },
     "metadata": {
      "needs_background": "light"
     },
     "output_type": "display_data"
    }
   ],
   "source": [
    "plt.imshow(concPDE2[30])\n",
    "plt.colorbar()"
   ]
  },
  {
   "cell_type": "code",
   "execution_count": null,
   "id": "ddb1eb4e",
   "metadata": {},
   "outputs": [],
   "source": []
  },
  {
   "cell_type": "code",
   "execution_count": null,
   "id": "fe40e7e0",
   "metadata": {},
   "outputs": [],
   "source": []
  }
 ],
 "metadata": {
  "kernelspec": {
   "display_name": "Python 3 (ipykernel)",
   "language": "python",
   "name": "python3"
  },
  "language_info": {
   "codemirror_mode": {
    "name": "ipython",
    "version": 3
   },
   "file_extension": ".py",
   "mimetype": "text/x-python",
   "name": "python",
   "nbconvert_exporter": "python",
   "pygments_lexer": "ipython3",
   "version": "3.9.7"
  }
 },
 "nbformat": 4,
 "nbformat_minor": 5
}
