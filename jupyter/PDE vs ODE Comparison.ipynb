{
 "cells": [
  {
   "cell_type": "code",
   "execution_count": 1,
   "id": "9402ec5f",
   "metadata": {},
   "outputs": [],
   "source": [
    "#Import Modules\n",
    "\n",
    "#numpy\n",
    "import numpy as np\n",
    "from numpy.random import multivariate_normal #For later example\n",
    "\n",
    "import pandas as pd\n",
    "\n",
    "#advectionGP\n",
    "from advectionGP.models import AdjointAdvectionDiffusionReactionModel as PDEModel #Model module builds basic parts of the PDE problem, combines other classes into full model\n",
    "from advectionGP.models import AdjointSimpleODEModel as ODEModel #Model module builds basic pa\n",
    "from advectionGP.sensors import FixedSensorModel #Builds sensor arrays to generate data for foward model or to generate observations for comparison\n",
    "from advectionGP.kernels import EQ #Generates exponentiated quadratic kernel approximation\n",
    "from advectionGP.test import TestKernels #Unit test model\n",
    "from advectionGP.wind import WindFixU #Wind model\n",
    "\n",
    "#Plotting tools\n",
    "from mpl_toolkits.mplot3d import Axes3D \n",
    "import matplotlib.pyplot as plt\n",
    "from matplotlib import cm\n",
    "from matplotlib.ticker import LinearLocator, FormatStrFormatter"
   ]
  },
  {
   "cell_type": "markdown",
   "id": "6e27bc03",
   "metadata": {},
   "source": [
    "# Generate Observations Using Physical Model"
   ]
  },
  {
   "cell_type": "markdown",
   "id": "b0636df6",
   "metadata": {},
   "source": [
    "### Generate Training and Testing Sensor Locations"
   ]
  },
  {
   "cell_type": "code",
   "execution_count": 2,
   "id": "51b11f77",
   "metadata": {},
   "outputs": [],
   "source": [
    "# generate sensor locations for training data with shape [total observations, 4], where each row has elements \n",
    "#[lower time location, upper time location, x location, y location]\n",
    "\n",
    "tlocL = np.linspace(1,8,3) # lower time\n",
    "xloc=np.linspace(2,8,4) # x locations\n",
    "yloc=np.linspace(2,8,4) # y locations\n",
    "sensN = len(xloc)*len(yloc) # total number of sensors \n",
    "obsN = len(tlocL) # total time points at which an observation is taken\n",
    "X= np.zeros((obsN*sensN,4)) # obsN*sensN is total observations over all sensors and all times\n",
    "# Build sensor locations\n",
    "X[:,0] = np.asarray(np.meshgrid(tlocL,xloc,yloc)).reshape(3,sensN*obsN)[0] #lower time\n",
    "X[:,2] = np.asarray(np.meshgrid(tlocL,xloc,yloc)).reshape(3,sensN*obsN)[1] # x location\n",
    "X[:,3] = np.asarray(np.meshgrid(tlocL,xloc,yloc)).reshape(3,sensN*obsN)[2] # ylocation\n",
    "X[:,1] = X[:,0]+1 # upper time\n",
    "\n",
    "sensors = FixedSensorModel(X,1) # establish sensor model arguments are sensor locations and spatial averaging\n",
    "\n",
    "# generate sensor locations for test data with shape [total observations, 4], where each row has elements \n",
    "#[lower time location, upper time location, x location, y location]\n",
    "\n",
    "tlocL = np.linspace(2,9,5) # lower time\n",
    "xloc=np.linspace(1.5,7.5,4) # x locations\n",
    "yloc=np.linspace(1.5,7.5,4) # y locations\n",
    "sensN = len(xloc)*len(yloc) # total number of sensors \n",
    "obsN = len(tlocL) # total time points at which an observation is taken\n",
    "Xtest= np.zeros((obsN*sensN,4)) # obsN*sensN is total observations over all sensors and all times\n",
    "# Build sensor locations\n",
    "Xtest[:,0] = np.asarray(np.meshgrid(tlocL,xloc,yloc)).reshape(3,sensN*obsN)[0] \n",
    "Xtest[:,2] = np.asarray(np.meshgrid(tlocL,xloc,yloc)).reshape(3,sensN*obsN)[1]\n",
    "Xtest[:,3] = np.asarray(np.meshgrid(tlocL,xloc,yloc)).reshape(3,sensN*obsN)[2]\n",
    "Xtest[:,1] = Xtest[:,0]+1\n",
    "\n",
    "sensorsTest = FixedSensorModel(Xtest,1) # establish sensor model"
   ]
  },
  {
   "cell_type": "markdown",
   "id": "bc7c7943",
   "metadata": {},
   "source": [
    "### Run Forward Model to Compute Concentration"
   ]
  },
  {
   "cell_type": "code",
   "execution_count": 3,
   "id": "59c496be",
   "metadata": {},
   "outputs": [
    {
     "name": "stdout",
     "output_type": "stream",
     "text": [
      "WARNING: spatial grid size does not meet the finite difference advection diffusion stability criteria\n"
     ]
    }
   ],
   "source": [
    "k_0 = 0.01 #Diffusion\n",
    "R=0.1\n",
    "noiseSD = 0.05 #Observation noise\n",
    "N_feat=2000 # number of features used to approximate ground truth GP\n",
    "boundary = ([0,0,0],[10,10,10])# corners of the grid - in units of space\n",
    "k = EQ(2, 2.0) # generate EQ kernel arguments are lengthscale and variance\n",
    "res = [50,30,30] # grid size for time, x and y\n",
    "wind=np.cos(np.linspace(0,6*np.pi,res[1]))*0.5\n",
    "u=[]\n",
    "#u.append(np.ones(res)*wind) #x direction wind\n",
    "#u.append(np.ones(res)*0.0) # y direction wind\n",
    "\n",
    "u.append(np.ones(res)*0.1) #x direction wind\n",
    "u.append(np.ones(res)*0.1) # y direction wind\n",
    "windmodel=WindFixU(u) # establish fixed wind model\n",
    "m = PDEModel(resolution=res,boundary=boundary,N_feat=N_feat,noiseSD=noiseSD,kernel=k,sensormodel=sensors,windmodel=windmodel,k_0=k_0,R=R) #initiate PDE model to build concentration\n",
    "\n",
    "dt,dx,dy,dx2,dy2,Nt,Nx,Ny = m.getGridStepSize() # useful numbers!\n",
    "\n",
    "z=np.random.normal(0,1.0,N_feat) # Generate z to compute source\n",
    "sourceGT=(m.computeSourceFromPhi(z))# Compute source\n",
    "#source[source<0]=0\n",
    "\n",
    "#source = np.zeros(m.resolution)\n",
    "##source[0,int(Nx/2)-1,int(Ny/2)-1] = 10.0\n",
    "#source[:,15:25,15:25] = 5\n",
    "#source[:,2:7,2:7] = 25\n",
    "#source[:,7:12,15:20] = 25\n",
    "#source[:,18:28,10:20] = 25"
   ]
  },
  {
   "cell_type": "markdown",
   "id": "d6455012",
   "metadata": {},
   "source": [
    "### Generate Training and Testing Data"
   ]
  },
  {
   "cell_type": "code",
   "execution_count": 4,
   "id": "0e90bf8f",
   "metadata": {},
   "outputs": [],
   "source": [
    "concTrain=m.computeConcentration(sourceGT) # Compute concentration - runs advection diffusion forward model\n",
    "yTrain= m.computeObservations() # Compute observations with noise uses m.sensormodel for observation locations\n",
    "\n",
    "m.sensormodel=sensorsTest\n",
    "yTest= m.computeObservations()"
   ]
  },
  {
   "cell_type": "markdown",
   "id": "6e06381a",
   "metadata": {},
   "source": [
    "# Inverse Problem"
   ]
  },
  {
   "cell_type": "code",
   "execution_count": 5,
   "id": "a406086e",
   "metadata": {},
   "outputs": [
    {
     "name": "stdout",
     "output_type": "stream",
     "text": [
      "WARNING: spatial grid size does not meet the finite difference advection diffusion stability criteria\n",
      "Calculating Adjoints...\n",
      "47/48 \n",
      "Calculating Phis...\n",
      "111/200 \r"
     ]
    },
    {
     "ename": "KeyboardInterrupt",
     "evalue": "",
     "output_type": "error",
     "traceback": [
      "\u001b[1;31m---------------------------------------------------------------------------\u001b[0m",
      "\u001b[1;31mKeyboardInterrupt\u001b[0m                         Traceback (most recent call last)",
      "\u001b[1;32m<ipython-input-5-ce0565dfc282>\u001b[0m in \u001b[0;36m<module>\u001b[1;34m\u001b[0m\n\u001b[0;32m      4\u001b[0m \u001b[1;33m\u001b[0m\u001b[0m\n\u001b[0;32m      5\u001b[0m \u001b[0mmPDE\u001b[0m \u001b[1;33m=\u001b[0m \u001b[0mPDEModel\u001b[0m\u001b[1;33m(\u001b[0m\u001b[0mresolution\u001b[0m\u001b[1;33m=\u001b[0m\u001b[0mres\u001b[0m\u001b[1;33m,\u001b[0m\u001b[0mboundary\u001b[0m\u001b[1;33m=\u001b[0m\u001b[0mboundary\u001b[0m\u001b[1;33m,\u001b[0m\u001b[0mN_feat\u001b[0m\u001b[1;33m=\u001b[0m\u001b[0mN_feat\u001b[0m\u001b[1;33m,\u001b[0m\u001b[0mnoiseSD\u001b[0m\u001b[1;33m=\u001b[0m\u001b[0mnoiseSD\u001b[0m\u001b[1;33m,\u001b[0m\u001b[0mkernel\u001b[0m\u001b[1;33m=\u001b[0m\u001b[0mk1\u001b[0m\u001b[1;33m,\u001b[0m\u001b[0msensormodel\u001b[0m\u001b[1;33m=\u001b[0m\u001b[0msensors\u001b[0m\u001b[1;33m,\u001b[0m\u001b[0mwindmodel\u001b[0m\u001b[1;33m=\u001b[0m\u001b[0mwindmodel\u001b[0m\u001b[1;33m,\u001b[0m\u001b[0mk_0\u001b[0m\u001b[1;33m=\u001b[0m\u001b[0mk_0\u001b[0m\u001b[1;33m,\u001b[0m\u001b[0mR\u001b[0m\u001b[1;33m=\u001b[0m\u001b[0mR\u001b[0m\u001b[1;33m)\u001b[0m \u001b[1;31m#Initiate new model for inference\u001b[0m\u001b[1;33m\u001b[0m\u001b[1;33m\u001b[0m\u001b[0m\n\u001b[1;32m----> 6\u001b[1;33m \u001b[0mregressPDE\u001b[0m \u001b[1;33m=\u001b[0m \u001b[0mmPDE\u001b[0m\u001b[1;33m.\u001b[0m\u001b[0mcomputeModelRegressors\u001b[0m\u001b[1;33m(\u001b[0m\u001b[1;33m)\u001b[0m \u001b[1;31m# Compute regressor matrix\u001b[0m\u001b[1;33m\u001b[0m\u001b[1;33m\u001b[0m\u001b[0m\n\u001b[0m\u001b[0;32m      7\u001b[0m \u001b[0mmeanZPDE\u001b[0m\u001b[1;33m,\u001b[0m \u001b[0mcovZPDE\u001b[0m \u001b[1;33m=\u001b[0m \u001b[0mmPDE\u001b[0m\u001b[1;33m.\u001b[0m\u001b[0mcomputeZDistribution\u001b[0m\u001b[1;33m(\u001b[0m\u001b[0myTrain\u001b[0m\u001b[1;33m)\u001b[0m \u001b[1;31m# Infers z vector mean and covariance\u001b[0m\u001b[1;33m\u001b[0m\u001b[1;33m\u001b[0m\u001b[0m\n\u001b[0;32m      8\u001b[0m \u001b[0msourcePDE\u001b[0m \u001b[1;33m=\u001b[0m \u001b[0mmPDE\u001b[0m\u001b[1;33m.\u001b[0m\u001b[0mcomputeSourceFromPhi\u001b[0m\u001b[1;33m(\u001b[0m\u001b[0mmeanZPDE\u001b[0m\u001b[1;33m)\u001b[0m \u001b[1;31m# Generates estimated source using inferred distributio\u001b[0m\u001b[1;33m\u001b[0m\u001b[1;33m\u001b[0m\u001b[0m\n",
      "\u001b[1;32mc:\\users\\chris\\documents\\github\\advectiongp\\advectionGP\\models.py\u001b[0m in \u001b[0;36mcomputeModelRegressors\u001b[1;34m(self)\u001b[0m\n\u001b[0;32m    230\u001b[0m \u001b[1;33m\u001b[0m\u001b[0m\n\u001b[0;32m    231\u001b[0m \u001b[1;33m\u001b[0m\u001b[0m\n\u001b[1;32m--> 232\u001b[1;33m                 \u001b[0mX\u001b[0m\u001b[1;33m[\u001b[0m\u001b[0mi\u001b[0m\u001b[1;33m,\u001b[0m\u001b[0mj\u001b[0m\u001b[1;33m]\u001b[0m \u001b[1;33m=\u001b[0m \u001b[0msum\u001b[0m\u001b[1;33m(\u001b[0m\u001b[1;33m(\u001b[0m\u001b[0mphi\u001b[0m\u001b[1;33m*\u001b[0m\u001b[0madj\u001b[0m\u001b[1;33m*\u001b[0m\u001b[0mdt\u001b[0m\u001b[1;33m*\u001b[0m\u001b[0mdx\u001b[0m\u001b[1;33m*\u001b[0m\u001b[0mdy\u001b[0m\u001b[1;33m)\u001b[0m\u001b[1;33m.\u001b[0m\u001b[0mflatten\u001b[0m\u001b[1;33m(\u001b[0m\u001b[1;33m)\u001b[0m\u001b[1;33m)\u001b[0m\u001b[1;33m\u001b[0m\u001b[1;33m\u001b[0m\u001b[0m\n\u001b[0m\u001b[0;32m    233\u001b[0m         \u001b[0mprint\u001b[0m\u001b[1;33m(\u001b[0m\u001b[1;34m\"\"\u001b[0m\u001b[1;33m)\u001b[0m\u001b[1;33m;\u001b[0m\u001b[1;33m\u001b[0m\u001b[1;33m\u001b[0m\u001b[0m\n\u001b[0;32m    234\u001b[0m         \u001b[1;31m#phi * v, --> scale\u001b[0m\u001b[1;33m\u001b[0m\u001b[1;33m\u001b[0m\u001b[1;33m\u001b[0m\u001b[0m\n",
      "\u001b[1;31mKeyboardInterrupt\u001b[0m: "
     ]
    }
   ],
   "source": [
    "N_feat =200 #Number of features used to infer the source\n",
    "k1 = EQ(2, 2.0) \n",
    "k2 = EQ(2, 2.0) \n",
    "\n",
    "mPDE = PDEModel(resolution=res,boundary=boundary,N_feat=N_feat,noiseSD=noiseSD,kernel=k1,sensormodel=sensors,windmodel=windmodel,k_0=k_0,R=R) #Initiate new model for inference\n",
    "regressPDE = mPDE.computeModelRegressors() # Compute regressor matrix\n",
    "meanZPDE, covZPDE = mPDE.computeZDistribution(yTrain) # Infers z vector mean and covariance\n",
    "sourcePDE = mPDE.computeSourceFromPhi(meanZPDE) # Generates estimated source using inferred distributio\n",
    "\n",
    "mODE = ODEModel(resolution=res,boundary=boundary,N_feat=N_feat,noiseSD=noiseSD,kernel=k2,sensormodel=sensors) #Initiate new model for inference\n",
    "regressODE = mODE.computeModelRegressors() # Compute regressor matrix\n",
    "meanZODE, covZODE = mODE.computeZDistribution(yTrain) # Infers z vector mean and covariance\n",
    "sourceODE = mODE.computeSourceFromPhi(meanZODE) # Generates estimated source using inferred distribution"
   ]
  },
  {
   "cell_type": "markdown",
   "id": "895e7a1a",
   "metadata": {},
   "source": [
    "# Plot Mean Sources for Comparison"
   ]
  },
  {
   "cell_type": "code",
   "execution_count": null,
   "id": "a8530e37",
   "metadata": {
    "scrolled": false
   },
   "outputs": [],
   "source": [
    "a=np.floor(np.min((np.min(sourceODE),np.min(sourceGT),np.min(sourcePDE))))\n",
    "b=np.ceil(np.max((np.max(sourceODE),np.max(sourceGT),np.min(sourcePDE))))\n",
    "plt.rcParams[\"figure.figsize\"] = (15,15)\n",
    "fig = plt.figure()\n",
    "\n",
    "ploti = 0\n",
    "for title, data in zip(['Ground Truth Source','Inferred PDE Source','Inferred ODE Source'],[sourceGT,sourcePDE,sourceODE]):\n",
    "    for t in [0,24,49]:\n",
    "        ploti+=1\n",
    "        plt.subplot(3,3,ploti)\n",
    "        im1=plt.imshow(data[t], extent=[0,10,0,10],origin='lower') #fix t...\n",
    "        time = t*dt\n",
    "        plt.xlabel(\"t=%d\" % time,fontsize=16)\n",
    "        plt.xticks(fontsize=16)\n",
    "        plt.yticks(fontsize=16)\n",
    "        plt.clim(a,b)\n",
    "        \n",
    "        \n",
    "        tick_font_size = 16\n",
    "        if ploti % 3 == 2: plt.title(title, fontsize=16, fontweight='bold')\n",
    "        #if ploti % 3 == 3:\n",
    "        #    plt.colorbar(im1,fraction=0.046, pad=0.04)\n",
    "\n",
    "fig.tight_layout(rect=[0.1, 0.2, 1, 0.95])\n",
    "\n",
    "fig.subplots_adjust(bottom=0.25)\n",
    "cbar_ax = fig.add_axes([0.97, 0.52, 0.02, 0.34])\n",
    "cbar=fig.colorbar(im1, cax=cbar_ax,orientation='vertical')\n",
    "#cbar = plt.colorbar(im3,fraction=0.046)\n",
    "tick_font_size = 16\n",
    "cbar.ax.tick_params(labelsize = tick_font_size)\n",
    "plt.show()"
   ]
  },
  {
   "cell_type": "code",
   "execution_count": null,
   "id": "8e42349d",
   "metadata": {},
   "outputs": [],
   "source": [
    "ODEConcentration=mODE.computeConcentration(sourceODE)\n",
    "PDEConcentration=mPDE.computeConcentration(sourcePDE)"
   ]
  },
  {
   "cell_type": "code",
   "execution_count": null,
   "id": "c5efe8c2",
   "metadata": {},
   "outputs": [],
   "source": [
    "a=np.floor(np.min((np.min(concTrain),np.min(ODEConcentration),np.min(PDEConcentration))))\n",
    "b=np.ceil(np.max((np.max(concTrain),np.max(ODEConcentration),np.min(PDEConcentration))))\n",
    "plt.rcParams[\"figure.figsize\"] = (15,15)\n",
    "fig = plt.figure()\n",
    "\n",
    "ploti = 0\n",
    "for title, data in zip(['Ground Truth Concentration','Inferred PDE Concentration','Inferred ODE Concentration'],[concTrain,PDEConcentration,ODEConcentration]):\n",
    "    for t in [0,24,49]:\n",
    "        ploti+=1\n",
    "        plt.subplot(3,3,ploti)\n",
    "        im1=plt.imshow(data[t], extent=[0,10,0,10],origin='lower') #fix t...\n",
    "        time = t*dt\n",
    "        plt.xlabel(\"t=%d\" % time,fontsize=16)\n",
    "        plt.xticks(fontsize=16)\n",
    "        plt.yticks(fontsize=16)\n",
    "        plt.clim(a,b)\n",
    "        \n",
    "        \n",
    "        \n",
    "        tick_font_size = 16\n",
    "        if ploti % 3 == 2: plt.title(title, fontsize=16, fontweight='bold')\n",
    "        #if ploti % 3 == 3:\n",
    "        #    plt.colorbar(im1,fraction=0.046, pad=0.04)\n",
    "\n",
    "fig.tight_layout(rect=[0.1, 0.2, 1, 0.95])\n",
    "\n",
    "fig.subplots_adjust(bottom=0.25)\n",
    "cbar_ax = fig.add_axes([0.97, 0.52, 0.02, 0.34])\n",
    "cbar=fig.colorbar(im1, cax=cbar_ax,orientation='vertical')\n",
    "#cbar = plt.colorbar(im3,fraction=0.046)\n",
    "tick_font_size = 16\n",
    "cbar.ax.tick_params(labelsize = tick_font_size)\n",
    "plt.show()"
   ]
  },
  {
   "cell_type": "code",
   "execution_count": null,
   "id": "6e85f73d",
   "metadata": {},
   "outputs": [],
   "source": [
    "reps=100\n",
    "llObsPDE=0\n",
    "llObsODE=0\n",
    "MSEPDE=0\n",
    "MSEODE=0\n",
    "cMSEPDE=0\n",
    "cMSEODE=0\n",
    "negPercent=0\n",
    "var = np.ones(len(yTest))*noiseSD**2\n",
    "for j in range(reps):\n",
    "    #mPDE.sensormodel=sensors\n",
    "    z = np.random.multivariate_normal(meanZPDE,covZPDE)\n",
    "    source = mPDE.computeSourceFromPhi(z) # Generates estimated source using inferred distribution\n",
    "    conc=mPDE.computeConcentration(source) # Compute test concentration\n",
    "    mPDE.sensormodel=sensorsTest\n",
    "    yPDE= mPDE.computeObservations(addNoise='TRUE') # Compute observations with noise\n",
    "    llObsPDE += -0.5*np.sum((np.square(np.subtract(yTest,yPDE))/var)+0.5*np.log(var))\n",
    "    MSEPDE += (np.square(np.subtract(yTest,yPDE))).mean() \n",
    "    cMSEPDE += (np.square(np.subtract(conc,concTrain))).mean() \n",
    "    #mODE.sensormodel=sensors\n",
    "    z = np.random.multivariate_normal(meanZODE,covZODE)\n",
    "    source = mODE.computeSourceFromPhi(z) # Generates estimated source using inferred distribution\n",
    "    conc=mODE.computeConcentration(source) # Compute test concentration\n",
    "    mODE.sensormodel=sensorsTest\n",
    "    yODE= mODE.computeObservations(addNoise='TRUE') # Compute observations with noise\n",
    "    llObsODE += -0.5*np.sum((np.square(np.subtract(yTest,yODE))/var)+0.5*np.log(var))\n",
    "    MSEODE += (np.square(np.subtract(yTest,yODE))).mean() \n",
    "    cMSEODE += (np.square(np.subtract(conc,concTrain))).mean() \n",
    "llObsODE = llObsODE/reps\n",
    "MSEODE=MSEODE/reps\n",
    "cMSEODE=cMSEODE/reps\n",
    "llObsPDE = llObsPDE/reps\n",
    "MSEPDE = MSEPDE/reps\n",
    "cMSEPDE = cMSEPDE/reps\n",
    "\n",
    "Results = pd.DataFrame([[llObsPDE,MSEPDE,cMSEPDE],[llObsODE,MSEODE,cMSEODE]],columns=['Log like','Data MSE','ConcMSE'],index=[\"PDE\",\"ODE\"])\n",
    "\n"
   ]
  },
  {
   "cell_type": "code",
   "execution_count": null,
   "id": "4769d68e",
   "metadata": {},
   "outputs": [],
   "source": [
    "Results\n"
   ]
  },
  {
   "cell_type": "code",
   "execution_count": null,
   "id": "c1caa638",
   "metadata": {},
   "outputs": [],
   "source": []
  }
 ],
 "metadata": {
  "kernelspec": {
   "display_name": "Python 3",
   "language": "python",
   "name": "python3"
  },
  "language_info": {
   "codemirror_mode": {
    "name": "ipython",
    "version": 3
   },
   "file_extension": ".py",
   "mimetype": "text/x-python",
   "name": "python",
   "nbconvert_exporter": "python",
   "pygments_lexer": "ipython3",
   "version": "3.8.8"
  }
 },
 "nbformat": 4,
 "nbformat_minor": 5
}
