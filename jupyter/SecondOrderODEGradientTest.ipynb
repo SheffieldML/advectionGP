{
 "cells": [
  {
   "cell_type": "markdown",
   "id": "817cbce2",
   "metadata": {},
   "source": [
    "The AdjointSecondOrderODEModel seeks to infer the forcing functon of a linear second order differential equation of the form:\n",
    "\n",
    "\\begin{equation}\n",
    "-K_0\\frac{d^2s}{dt^2}+u\\frac{ds}{dt}+\\eta_0 s(t)=\\zeta(t)\n",
    "\\end{equation}\n",
    "with initial conditions:\n",
    "\n",
    "\\begin{equation}\n",
    "g(s(0),p)=s(0)=0\n",
    "\\end{equation}\n",
    "and\n",
    "\\begin{equation}\n",
    "k(\\dot{s}(0),p)=\\frac{ds(0)}{dt}=0\n",
    "\\end{equation}\n",
    "\n",
    "The forcing function, $\\zeta$ is approximated using Random Fourier Features so that\n",
    "\n",
    "\\begin{equation}\n",
    "\\zeta(t)\\sim \\sum_{i=1}^{M}\\phi_i(t)z_i\n",
    "\\end{equation}\n",
    "\n",
    "$\\zeta$ is then inferred using the adjoint method as in Gahungu et al. (2022).\n",
    "\n",
    "Additionally, we seek the gradient of some cost function $F=\\int_0^Tf(s,p,t)dt$ (which measures the quality of our inference) with respect to the parameters $p={u,\\eta_0,k_0}$. To calculate this we follow the methods described in Andrew Bradley's adjoint tutorial (Bradley, 2009). \n",
    "\n",
    "First we set \n",
    "\\begin{equation}\n",
    "h(s,\\dot{s},p,t) = \\frac{u}{K_0}\\dot{s}+\\frac{\\eta_0}{K_0}-\\frac{f(t)}{K_0}\n",
    "\\end{equation}\n",
    "so that $\\ddot{s}=h(s,\\dot{s},p,t)$.\n",
    "subject to $g$ and $k$. \n",
    "\n",
    "We then establish the lagrangian:\n",
    "\n",
    "\\begin{equation}\n",
    "   L =\\int_0^T f(s,p,t)+ \\lambda^T(\\ddot{s}-h(s,\\dot{s},p,t)) dt + \\mu^Tg(s(0),p)+\\nu^Tk(\\dot{s}(0),p) \n",
    "\\end{equation}\n",
    "\n",
    "Taking the total derivative with respect to p, integrating by parts and collecting terms gives\n",
    "\n",
    "\\begin{equation}\n",
    "       d_mL=\\int_0^T\\delta_mf-\\lambda^T\\delta_mhdt \n",
    "    +(-\\dot{\\lambda}^T-\\lambda^T\\delta_{\\dot{s}}h)g_{s(0)}^{-1}\\delta_pg + \\lambda^T(0) k^{-1}_{\\dot{s}(0)}\\delta_pk \n",
    "\\end{equation}\n",
    "\n",
    "subject to \n",
    "\n",
    "\\begin{equation}\n",
    "    f_s+\\ddot{\\lambda}^T+\\dot{\\lambda}^T\\delta_{\\dot{s}}h-\\lambda^T(\\delta_sh-d_t\\delta_{\\dot{s}}h)=0,\n",
    "\\end{equation}\n",
    "which is the adjoint equation.\n",
    "\n",
    "In our case $\\delta_pg=\\delta_p k=0$, $\\delta_mf=0$, $\\delta_{\\dot{s}(0)}h=0$. Therefore the adjoint equation is given by\n",
    "\\begin{equation}\n",
    "\\delta_s f + \\ddot{\\lambda}^T +\\frac{u}{K_0}\\dot{\\lambda}^T-\\frac{\\eta_0}{K_0}\\lambda^T=0\n",
    "\\end{equation}\n",
    "and \n",
    "\\begin{equation}\n",
    "d_mL=\\int_0^T-\\lambda^T\\delta_mhdt \n",
    "\\end{equation}\n",
    "\n",
    "where \n",
    "\\begin{equation}\n",
    "\\delta_mh = \\left(\\frac{\\dot{s}}{K_0},\\frac{s}{K_0},\\frac{-u\\dot{s}-\\eta_0s+\\zeta}{K_0^2}\\right).\n",
    "\\end{equation}\n",
    "\n",
    "We choose the cost function \n",
    "\\begin{equation}\n",
    "F = \\int^T_0 f(s,p,t)dt = \\int^T_0\\frac{1}{M}\\sum_{i=0}^M (s(t)-y(t))^2\\delta(t-t_i)dt,\n",
    "\\end{equation}\n",
    "where\n",
    "\\begin{equation}\n",
    "y(t)=\\begin{cases}\n",
    "y_i \\ \\mathrm{ if } \\ t=t_i \\\\ 0 \\ \\mathrm{ o.w.}\n",
    "\\end{cases}\n",
    "\\end{equation}\n",
    "Here, $y_i$ are our observations. "
   ]
  },
  {
   "cell_type": "markdown",
   "id": "3dafafd2",
   "metadata": {},
   "source": [
    "# Import Modules"
   ]
  },
  {
   "cell_type": "code",
   "execution_count": 74,
   "id": "339426bc",
   "metadata": {},
   "outputs": [],
   "source": [
    "#numpy\n",
    "import numpy as np\n",
    "from numpy.random import multivariate_normal #For later example\n",
    "\n",
    "#advectionGP\n",
    "from advectionGP.models.old_models import AdjointSecondOrderODEModel as Model #Model module builds basic parts of the ODE problem, combines other classes into full model\n",
    "\n",
    "'''To use other models in the class, such as the Advection Diffusion Reaction model, \n",
    "replace \"AdjointSecondOrderODEModel\" in the line above with \"AdjointAdvectionDiffusionReaction\" model\n",
    "and adjust parameters as appropriate'''\n",
    "\n",
    "from advectionGP.sensors import FixedSensorModel #Builds sensor arrays to generate data for foward model or to generate observations for comparison\n",
    "from advectionGP.kernels import EQ #Generates exponentiated quadratic kernel approximation\n",
    "#from advectionGP.test import TestKernels #Unit test model\n",
    "\n",
    "\n",
    "#Plotting tools\n",
    "import matplotlib.pyplot as plt"
   ]
  },
  {
   "cell_type": "markdown",
   "id": "1b76d2dc",
   "metadata": {},
   "source": [
    "# Establish Sensor Array"
   ]
  },
  {
   "cell_type": "markdown",
   "id": "ca854a15",
   "metadata": {},
   "source": [
    "Our sensor matrix, X, is an array that has an element for each observation, which consists of the start and end times of the observation period. "
   ]
  },
  {
   "cell_type": "code",
   "execution_count": 75,
   "id": "4592c66f",
   "metadata": {},
   "outputs": [],
   "source": [
    "avg=0.01 # time that an observation is taken for\n",
    "tlocL = np.linspace(0,9.9,20) # observation start times\n",
    "X= np.zeros((len(tlocL),2)) # initiate X\n",
    "# Build sensor locations\n",
    "X[:,0] = tlocL #lower time\n",
    "X[:,1] = X[:,0]+avg # upper time"
   ]
  },
  {
   "cell_type": "code",
   "execution_count": 76,
   "id": "a3152ee4",
   "metadata": {},
   "outputs": [
    {
     "data": {
      "image/png": "[encoded data removed]",
      "text/plain": [
       "<Figure size 360x360 with 1 Axes>"
      ]
     },
     "metadata": {
      "needs_background": "light"
     },
     "output_type": "display_data"
    }
   ],
   "source": [
    "plt.rcParams[\"figure.figsize\"] = (5,5)\n",
    "\n",
    "plt.xlim(0,10)\n",
    "plt.title(\"Sensor Locations\",fontsize=24)\n",
    "plt.plot((X[:,1]-avg/2),np.zeros(len(X)),'xk',markersize=2,color='b');"
   ]
  },
  {
   "cell_type": "markdown",
   "id": "030a2f42",
   "metadata": {},
   "source": [
    "Using X with then initalise our sensor model, which is used to calculate filter functions."
   ]
  },
  {
   "cell_type": "code",
   "execution_count": 77,
   "id": "10993bc2",
   "metadata": {},
   "outputs": [],
   "source": [
    "sensors = FixedSensorModel(X,0) # establish sensor model arguments are sensor locations and spatial averaging (not applicable in 1D case so set to 0)"
   ]
  },
  {
   "cell_type": "markdown",
   "id": "dd6ac5e9",
   "metadata": {},
   "source": [
    "# Forward Model"
   ]
  },
  {
   "cell_type": "markdown",
   "id": "1f5d0737",
   "metadata": {},
   "source": [
    "Here we generate an artificial source and concentration field using the tools in advectionGP.models. The source is generated over a Nt=100 grid in time."
   ]
  },
  {
   "cell_type": "markdown",
   "id": "e3c63a13",
   "metadata": {},
   "source": [
    "### Establish forward model parameters"
   ]
  },
  {
   "cell_type": "code",
   "execution_count": 78,
   "id": "71f0f757",
   "metadata": {},
   "outputs": [],
   "source": [
    "k_0 = -1 #Diffusion coefficient\n",
    "u=0.8\n",
    "eta=5\n",
    "noiseSD = 0.05 #Observation noise\n",
    "N_feat=2000 # number of features used to approximate ground truth GP\n",
    "boundary = ([0],[10])# edges of the grid - in units of time\n",
    "kForward = EQ(0.6, 4.0) # generate EQ kernel arguments are lengthscale and variance\n",
    "res = [500] # grid size for time"
   ]
  },
  {
   "cell_type": "markdown",
   "id": "7ad73851",
   "metadata": {},
   "source": [
    "### Initialise model and calculate ground truth source, concentration and observations"
   ]
  },
  {
   "cell_type": "markdown",
   "id": "c053a954",
   "metadata": {},
   "source": [
    "Here we use a constant source at a fixed location, but include code (commented out) for a source term calculated by approximating a gaussian process with an EQ kernel. Any source of the right dimensions can be used to simulate the forward problem."
   ]
  },
  {
   "cell_type": "code",
   "execution_count": null,
   "id": "cd0f2f7d",
   "metadata": {},
   "outputs": [],
   "source": []
  },
  {
   "cell_type": "code",
   "execution_count": 79,
   "id": "4ab0f1ff",
   "metadata": {},
   "outputs": [],
   "source": [
    "m = Model(resolution=res,boundary=boundary,N_feat=N_feat,noiseSD=noiseSD,kernel=kForward,sensormodel=sensors,k_0=k_0,u=u,eta=eta) #initiate PDE model to build concentration\n",
    "\n",
    "dt,dt2,Nt = m.getGridStepSize() # useful numbers!\n",
    "\n",
    "z=np.random.normal(0,1.0,N_feat) # Generate z to compute source\n",
    "sourceGT=m.computeSourceFromPhi(z)# Compute ground truth source by approximating GP\n",
    "#sourceGT = np.ones(m.resolution)  # Example constant source\n",
    "concTrain=m.computeConcentration(sourceGT) # Compute concentration - runs ODE forward model\n",
    "yTrain= m.computeObservations(addNoise='TRUE') # Compute observations with noise uses m.sensormodel for observation locations"
   ]
  },
  {
   "cell_type": "code",
   "execution_count": null,
   "id": "f875623e",
   "metadata": {},
   "outputs": [],
   "source": []
  },
  {
   "cell_type": "markdown",
   "id": "c3ad656b",
   "metadata": {},
   "source": [
    "# Inverse Problem Example"
   ]
  },
  {
   "cell_type": "code",
   "execution_count": 80,
   "id": "a1cb3b27",
   "metadata": {},
   "outputs": [
    {
     "name": "stdout",
     "output_type": "stream",
     "text": [
      "Getting Grid Step Size\n",
      "Building X matrix\n",
      "Calculating Adjoints...\n",
      "19/20 \n",
      "Calculating Phis...\n",
      "199/200 \n",
      "Calculating SS\n",
      "Inverting SS\n",
      "Computing meanZ\n",
      "Done\n"
     ]
    }
   ],
   "source": [
    "#%%timeit\n",
    "N_feat =200 #Number of features used to infer the source\n",
    "kInverse = EQ(1, 4) # Initiate kernel for inverse problem\n",
    "x = np.array([5,1,-5])#+np.random.normal(0,0.1,3)\n",
    "x = np.array([0.8,5,-1])#+np.random.normal(0,0.1,3)\n",
    "#x=[1,1,-1]\n",
    "mInfer = Model(resolution=res,boundary=boundary,N_feat=N_feat,noiseSD=noiseSD,kernel=kInverse,sensormodel=sensors,k_0=x[2],u=x[0],eta=x[1]) #Initiate new model for inference\n",
    "mInfer.computeModelRegressors() # Compute regressor matrix \n",
    "meanZ, covZ = mInfer.computeZDistribution(yTrain) # Infers z vector mean and covariance using regressor matrix\n",
    "sourceInfer = mInfer.computeSourceFromPhi(meanZ) # Generates estimated source using mean of the inferred distribution\n",
    "concInfer=mInfer.computeConcentration(sourceInfer) # Generates estimated concentration from inferred source"
   ]
  },
  {
   "cell_type": "code",
   "execution_count": 81,
   "id": "26333ca1",
   "metadata": {
    "scrolled": false
   },
   "outputs": [
    {
     "data": {
      "image/png": "[encoded data removed]",
      "text/plain": [
       "<Figure size 360x360 with 1 Axes>"
      ]
     },
     "metadata": {
      "needs_background": "light"
     },
     "output_type": "display_data"
    },
    {
     "data": {
      "image/png": "[encoded data removed]",
      "text/plain": [
       "<Figure size 360x360 with 1 Axes>"
      ]
     },
     "metadata": {
      "needs_background": "light"
     },
     "output_type": "display_data"
    }
   ],
   "source": [
    "source_samples = []\n",
    "conc_samples=[]    \n",
    "for z_samp in np.random.multivariate_normal(meanZ, covZ,200):\n",
    "    source_samples.append(mInfer.computeSourceFromPhi(z_samp))\n",
    "    conc_samples.append(mInfer.computeConcentration(mInfer.computeSourceFromPhi(z_samp)))\n",
    "source_samples=np.array(source_samples)\n",
    "conc_samples=np.array(conc_samples)\n",
    "\n",
    "source_lower_ci = np.percentile(source_samples,2.5,0)\n",
    "source_upper_ci = np.percentile(source_samples,97.5,0)\n",
    "source_mean = np.percentile(source_samples,50,0)\n",
    "\n",
    "conc_lower_ci = np.percentile(conc_samples,2.5,0)\n",
    "conc_upper_ci = np.percentile(conc_samples,97.5,0)\n",
    "conc_mean = np.percentile(conc_samples,50,0)\n",
    "\n",
    "xtest=np.arange(Nt)\n",
    "\n",
    "#plt.figure(figsize=(15, 10))\n",
    "\n",
    "plt.plot(xtest,sourceInfer,'b-')\n",
    "plt.plot(xtest,sourceGT,'r--')\n",
    "\n",
    "#plt.plot(xtest,source_samples.T,'g-',alpha=0.3)\n",
    "#plt.fill_between(xtest,s_z_l,s_z_upper,alpha=0.5)\n",
    "plt.fill_between(xtest,source_lower_ci,source_upper_ci,alpha=0.5)\n",
    "plt.legend(labels=[\"estimated source term\",\"True source term\"])\n",
    "plt.title(\"Source function \")\n",
    "plt.xlabel(\"Input, t\")\n",
    "plt.ylabel(\"output, f(t)\")\n",
    "#plt.ylim([-5,5])\n",
    "plt.savefig('NumberFeature%d.pdf' % N_feat)\n",
    "plt.show()\n",
    "\n",
    "#plt.figure(figsize=(15, 10))\n",
    "\n",
    "plt.plot(xtest,concInfer,'b-')\n",
    "plt.plot(xtest,concTrain,'r--')\n",
    "\n",
    "#plt.plot(xtest,source_samples.T,'g-',alpha=0.3)\n",
    "#plt.fill_between(xtest,s_z_l,s_z_upper,alpha=0.5)\n",
    "plt.fill_between(xtest,conc_lower_ci,conc_upper_ci,alpha=0.5)\n",
    "plt.legend(labels=[\"estimated concentration\",\"True concentration\"])\n",
    "plt.title(\"Concentration\")\n",
    "plt.xlabel(\"Input, t\")\n",
    "plt.ylabel(\"output, f(t)\")\n",
    "#plt.ylim([-5,5])\n",
    "plt.savefig('NumberFeature%d.pdf' % N_feat)\n",
    "plt.show()"
   ]
  },
  {
   "cell_type": "markdown",
   "id": "f3b36faa",
   "metadata": {},
   "source": [
    "# Functions to calculate the cost $f$ and the cost derivate $f_s$.\n",
    "\n",
    "Below is a version that approximates the Dirac-delta using a gaussian, the next cell approximates it using a step function. "
   ]
  },
  {
   "cell_type": "code",
   "execution_count": 82,
   "id": "bcf90e3f",
   "metadata": {},
   "outputs": [],
   "source": [
    "def dcostG(obs,tloc,conc):\n",
    "    M=len(obs) #number of observations\n",
    "    eps=0.05 #Gaussian parameter\n",
    "    dc = np.sum(1/(eps*np.sqrt(np.pi))*np.exp(-(m.coords-tloc)**2/eps**2)*2*(conc[m.getGridCoord(tloc)]-obs)*(1/M),1) # cost derivative approximated with gaussian\n",
    "    return dc\n",
    "\n",
    "def costG(obs,tloc,conc):\n",
    "    M=len(obs) #number of observations\n",
    "    eps=0.05 #Gaussian parameter\n",
    "    c = np.sum(1/(eps*np.sqrt(np.pi))*np.exp(-(m.coords-tloc)**2/eps**2)*((conc[m.getGridCoord(tloc)]-obs)**2)*(1/M),1) # cost approximated with gaussian\n",
    "    return c\n",
    "\n",
    "\n"
   ]
  },
  {
   "cell_type": "code",
   "execution_count": 83,
   "id": "1d2b6efe",
   "metadata": {},
   "outputs": [],
   "source": [
    "def dcost(obs,tloc,conc,model):\n",
    "    dc=np.zeros(model.resolution) #initialise cost derivative\n",
    "    M=len(obs) # number of observations\n",
    "    dc[model.getGridCoord(tloc)] = 2*(conc[model.getGridCoord(tloc)]-obs)*(1/M) # cost derivative approximated with step functions\n",
    "    return dc\n",
    "\n",
    "def cost(obs,tloc,conc,model):\n",
    "    c=np.zeros(model.resolution) # initialise cost\n",
    "    M=len(obs) # number of observations\n",
    "    c[model.getGridCoord(tloc)] = ((conc[model.getGridCoord(tloc)]-obs)**2)*(1/M) # cost approximated with hill function\n",
    "    return c"
   ]
  },
  {
   "cell_type": "markdown",
   "id": "e428cc81",
   "metadata": {},
   "source": [
    "# Cost function averaging over samples"
   ]
  },
  {
   "cell_type": "code",
   "execution_count": 84,
   "id": "7056f4f0",
   "metadata": {},
   "outputs": [],
   "source": [
    "def dcostAv(obs,tloc,samp,model,mean,cov):\n",
    "    dc=np.zeros(model.resolution) #initialise cost derivative\n",
    "    M=len(obs) # number of observations\n",
    "    \n",
    "    for i in range(samp):\n",
    "        q=random.multivariate_normal(mean, cov)\n",
    "        s = model.computeSourceFromPhi(q)\n",
    "        conc=model.computeConcentration(s)\n",
    "        dc[model.getGridCoord(tloc)] += 2*(conc[model.getGridCoord(tloc)]-obs)*(1/M)*(1/samp) # cost derivative approximated with step functions\n",
    "    return dc\n",
    "\n",
    "def costAv(obs,tloc,samp,model,mean,cov):\n",
    "    c=np.zeros(model.resolution) # initialise cost\n",
    "    M=len(obs) # number of observations\n",
    "    for i in range(samp):\n",
    "        q=random.multivariate_normal(mean, cov)\n",
    "        s = model.computeSourceFromPhi(q)\n",
    "        conc=model.computeConcentration(s)\n",
    "        c[model.getGridCoord(tloc)] += ((conc[model.getGridCoord(tloc)]-obs)**2)*(1/M)*(1/samp) # cost approximated with hill function\n",
    "    return c"
   ]
  },
  {
   "cell_type": "markdown",
   "id": "2110c674",
   "metadata": {},
   "source": [
    "# Function to calculate the adjoint equation"
   ]
  },
  {
   "cell_type": "code",
   "execution_count": 85,
   "id": "db4ca29f",
   "metadata": {},
   "outputs": [],
   "source": [
    "def computeGradientAdjoint(dcost,model):\n",
    "    \"\"\"\n",
    "    Runs the backward second order ODE (adjoint problem)\n",
    "    Gets called for an observation instance (H).\n",
    "    (v is the result of the adjoint operation)\n",
    "    \"\"\"\n",
    "    dt,dt2,Nt = model.getGridStepSize()\n",
    "    k_0=model.k_0\n",
    "    u=model.u\n",
    "    eta=model.eta\n",
    "    v=np.zeros(((model.resolution)))\n",
    "    \n",
    "    #Boundary conditions\n",
    "    v[Nt-1] = 0\n",
    "    v[Nt-2] = (1.0/(1-(u*dt/(2*k_0))))*(-dcost[Nt-1]*(dt2)- v[Nt-1]-u*dt*v[Nt-1]/(k_0*2.0)+ 2*v[Nt-1]+(eta/k_0)*(dt2)*v[Nt-1])\n",
    "\n",
    "    # Calculation away from boundary\n",
    "    for i in reversed(range(1,Nt-1)):\n",
    "        #i=Nt-j-2\n",
    "        v[i-1]=(1.0/(1-(u*dt/(2*k_0))))*(-dcost[i]*(dt2)- v[i+1]-u*dt*v[i+1]/(k_0*2.0)+ 2*v[i]+(eta/k_0)*(dt2)*v[i])\n",
    "\n",
    "    return v"
   ]
  },
  {
   "cell_type": "markdown",
   "id": "0d3a49b5",
   "metadata": {},
   "source": [
    "# Function to calculate the Lagrangian derivative, the cost and the derivative of the cost for a given $p$"
   ]
  },
  {
   "cell_type": "code",
   "execution_count": 86,
   "id": "39bd9a46",
   "metadata": {},
   "outputs": [],
   "source": [
    "def d_mL(k_0,u,eta,model,obs,tloc,source):\n",
    "    \n",
    "    # change parameters in model object\n",
    "    model.k_0=k_0 \n",
    "    model.u=u\n",
    "    model.eta=eta\n",
    "    \n",
    "    # calculate useful valyes\n",
    "    dt,dt2,Nt = model.getGridStepSize()\n",
    "    \n",
    "    # compute concentration with new parameters\n",
    "    conc=model.computeConcentration(source)\n",
    "    \n",
    "    #compute cost derivative and cost\n",
    "    dc=dcost(obs,tloc,conc,model)\n",
    "    c=cost(obs,tloc,conc,model)\n",
    "    \n",
    "    # derivative of h operator with respect to parameters\n",
    "    dmH=np.array([np.gradient(conc,dt[0])/k_0,conc/k_0,(-u*np.gradient(conc,dt[0])-eta*conc+source)/k_0**2])\n",
    "\n",
    "    # compute and calculate Lagrangian derivative integral\n",
    "    integrand = -computeGradientAdjoint(dc,model)*dmH\n",
    "    L_m = np.trapz(integrand,dx=dt)\n",
    "    #L_m = np.sum(integrand)*dt #alternate calculation using naive numerical integration\n",
    "    return L_m, dc,c, integrand, dmH\n"
   ]
  },
  {
   "cell_type": "code",
   "execution_count": 87,
   "id": "545721bb",
   "metadata": {},
   "outputs": [],
   "source": [
    "L_m, dc,c, integrand, dmH = d_mL(k_0,u,eta,mInfer,yTrain,tlocL,sourceInfer)"
   ]
  },
  {
   "cell_type": "code",
   "execution_count": 88,
   "id": "79a7504d",
   "metadata": {},
   "outputs": [
    {
     "data": {
      "text/plain": [
       "(3, 500)"
      ]
     },
     "execution_count": 88,
     "metadata": {},
     "output_type": "execute_result"
    }
   ],
   "source": [
    "integrand.shape"
   ]
  },
  {
   "cell_type": "markdown",
   "id": "c725a6c3",
   "metadata": {},
   "source": [
    "# Naive gradient descent (output used to test gradient calculation)"
   ]
  },
  {
   "cell_type": "code",
   "execution_count": 16,
   "id": "81533b83",
   "metadata": {},
   "outputs": [
    {
     "data": {
      "text/plain": [
       "200"
      ]
     },
     "execution_count": 16,
     "metadata": {},
     "output_type": "execute_result"
    }
   ],
   "source": [
    "len(covZ)"
   ]
  },
  {
   "cell_type": "code",
   "execution_count": 17,
   "id": "d5a294e1",
   "metadata": {},
   "outputs": [
    {
     "data": {
      "text/plain": [
       "100"
      ]
     },
     "execution_count": 17,
     "metadata": {},
     "output_type": "execute_result"
    }
   ],
   "source": [
    "\n",
    "q=np.random.multivariate_normal(meanZ, covZ,100)\n",
    "len(q)"
   ]
  },
  {
   "cell_type": "code",
   "execution_count": null,
   "id": "cdcc60a6",
   "metadata": {},
   "outputs": [],
   "source": []
  },
  {
   "cell_type": "code",
   "execution_count": 25,
   "id": "42f7b2e2",
   "metadata": {},
   "outputs": [],
   "source": [
    "reps=50\n",
    "\n",
    "# initialise outputs\n",
    "p=np.zeros((3,reps)) # parameters\n",
    "d=np.zeros((3,reps-1)) # derivative\n",
    "dTest=np.zeros((3,reps-1)) # forward difference derivative approximation\n",
    "dTest2=np.zeros((3,reps-1)) # central difference derivative approximation\n",
    "Fc=np.zeros((1,reps-1)) # integrated cost function\n",
    "p[:,0]=np.array([u,eta,k_0])+np.random.normal(0,0.5,3) # first parameter value\n",
    "eps2=1e-8\n",
    "dL = 0\n",
    "for i in range(reps-1):\n",
    "    [u1,eta1,k_01] = p[:,i]\n",
    "    for j in range(len(q)):\n",
    "        source1 = mInfer.computeSourceFromPhi(q[j]) # Generates estimated source using mean of the inferred distribution\n",
    "        conc1=mInfer.computeConcentration(source1)\n",
    "        dmL,_,_,_,_=d_mL(k_01,u1,eta1,mInfer,yTrain,tlocL,source1)\n",
    "        d[:,i]+=dmL/100\n",
    "        p[:,i+1]=p[:,i]-0.001*dmL\n",
    "        #print(i,j)"
   ]
  },
  {
   "cell_type": "code",
   "execution_count": 26,
   "id": "fd1e7a25",
   "metadata": {},
   "outputs": [
    {
     "data": {
      "text/plain": [
       "array([[-0.00594584, -0.00594568, -0.00594552, -0.00594535, -0.00594519,\n",
       "        -0.00594503, -0.00594487, -0.00594471, -0.00594455, -0.00594438,\n",
       "        -0.00594422, -0.00594406, -0.0059439 , -0.00594374, -0.00594358,\n",
       "        -0.00594341, -0.00594325, -0.00594309, -0.00594293, -0.00594277,\n",
       "        -0.0059426 , -0.00594244, -0.00594228, -0.00594212, -0.00594196,\n",
       "        -0.0059418 , -0.00594163, -0.00594147, -0.00594131, -0.00594115,\n",
       "        -0.00594099, -0.00594083, -0.00594067, -0.0059405 , -0.00594034,\n",
       "        -0.00594018, -0.00594002, -0.00593986, -0.0059397 , -0.00593953,\n",
       "        -0.00593937, -0.00593921, -0.00593905, -0.00593889, -0.00593873,\n",
       "        -0.00593857, -0.0059384 , -0.00593824, -0.00593808],\n",
       "       [-0.00014765, -0.00014764, -0.00014762, -0.00014761, -0.0001476 ,\n",
       "        -0.00014759, -0.00014757, -0.00014756, -0.00014755, -0.00014754,\n",
       "        -0.00014752, -0.00014751, -0.0001475 , -0.00014748, -0.00014747,\n",
       "        -0.00014746, -0.00014745, -0.00014743, -0.00014742, -0.00014741,\n",
       "        -0.0001474 , -0.00014738, -0.00014737, -0.00014736, -0.00014734,\n",
       "        -0.00014733, -0.00014732, -0.00014731, -0.00014729, -0.00014728,\n",
       "        -0.00014727, -0.00014726, -0.00014724, -0.00014723, -0.00014722,\n",
       "        -0.0001472 , -0.00014719, -0.00014718, -0.00014717, -0.00014715,\n",
       "        -0.00014714, -0.00014713, -0.00014712, -0.0001471 , -0.00014709,\n",
       "        -0.00014708, -0.00014707, -0.00014705, -0.00014704],\n",
       "       [ 0.00084334,  0.00084335,  0.00084336,  0.00084337,  0.00084338,\n",
       "         0.00084338,  0.00084339,  0.0008434 ,  0.00084341,  0.00084342,\n",
       "         0.00084343,  0.00084344,  0.00084344,  0.00084345,  0.00084346,\n",
       "         0.00084347,  0.00084348,  0.00084349,  0.0008435 ,  0.0008435 ,\n",
       "         0.00084351,  0.00084352,  0.00084353,  0.00084354,  0.00084355,\n",
       "         0.00084355,  0.00084356,  0.00084357,  0.00084358,  0.00084359,\n",
       "         0.0008436 ,  0.0008436 ,  0.00084361,  0.00084362,  0.00084363,\n",
       "         0.00084364,  0.00084365,  0.00084366,  0.00084366,  0.00084367,\n",
       "         0.00084368,  0.00084369,  0.0008437 ,  0.00084371,  0.00084371,\n",
       "         0.00084372,  0.00084373,  0.00084374,  0.00084375]])"
      ]
     },
     "execution_count": 26,
     "metadata": {},
     "output_type": "execute_result"
    }
   ],
   "source": [
    "d"
   ]
  },
  {
   "cell_type": "code",
   "execution_count": 27,
   "id": "e20ded03",
   "metadata": {
    "scrolled": true
   },
   "outputs": [
    {
     "data": {
      "image/png": "[encoded data removed]",
      "text/plain": [
       "<Figure size 360x360 with 1 Axes>"
      ]
     },
     "metadata": {
      "needs_background": "light"
     },
     "output_type": "display_data"
    }
   ],
   "source": [
    "plt.plot(d);"
   ]
  },
  {
   "cell_type": "code",
   "execution_count": 25,
   "id": "276e3702",
   "metadata": {},
   "outputs": [
    {
     "ename": "ValueError",
     "evalue": "too many values to unpack (expected 3)",
     "output_type": "error",
     "traceback": [
      "\u001b[1;31m---------------------------------------------------------------------------\u001b[0m",
      "\u001b[1;31mValueError\u001b[0m                                Traceback (most recent call last)",
      "\u001b[1;32m<ipython-input-25-3cf77a0d4d20>\u001b[0m in \u001b[0;36m<module>\u001b[1;34m\u001b[0m\n\u001b[0;32m     12\u001b[0m     \u001b[1;33m[\u001b[0m\u001b[0mu1\u001b[0m\u001b[1;33m,\u001b[0m\u001b[0meta1\u001b[0m\u001b[1;33m,\u001b[0m\u001b[0mk_01\u001b[0m\u001b[1;33m]\u001b[0m \u001b[1;33m=\u001b[0m \u001b[0mp\u001b[0m\u001b[1;33m[\u001b[0m\u001b[1;33m:\u001b[0m\u001b[1;33m,\u001b[0m\u001b[0mi\u001b[0m\u001b[1;33m]\u001b[0m\u001b[1;33m\u001b[0m\u001b[1;33m\u001b[0m\u001b[0m\n\u001b[0;32m     13\u001b[0m \u001b[1;33m\u001b[0m\u001b[0m\n\u001b[1;32m---> 14\u001b[1;33m     \u001b[0mdmL\u001b[0m\u001b[1;33m,\u001b[0m \u001b[0mdc\u001b[0m\u001b[1;33m,\u001b[0m\u001b[0mc\u001b[0m\u001b[1;33m=\u001b[0m\u001b[0md_mL\u001b[0m\u001b[1;33m(\u001b[0m\u001b[0mk_01\u001b[0m\u001b[1;33m,\u001b[0m\u001b[0mu1\u001b[0m\u001b[1;33m,\u001b[0m\u001b[0meta1\u001b[0m\u001b[1;33m,\u001b[0m\u001b[0mmInfer\u001b[0m\u001b[1;33m,\u001b[0m\u001b[0myTrain\u001b[0m\u001b[1;33m,\u001b[0m\u001b[0mtlocL\u001b[0m\u001b[1;33m,\u001b[0m\u001b[0msourceInfer\u001b[0m\u001b[1;33m)\u001b[0m\u001b[1;33m\u001b[0m\u001b[1;33m\u001b[0m\u001b[0m\n\u001b[0m\u001b[0;32m     15\u001b[0m     \u001b[0md\u001b[0m\u001b[1;33m[\u001b[0m\u001b[1;33m:\u001b[0m\u001b[1;33m,\u001b[0m\u001b[0mi\u001b[0m\u001b[1;33m]\u001b[0m\u001b[1;33m=\u001b[0m\u001b[0mdmL\u001b[0m\u001b[1;33m\u001b[0m\u001b[1;33m\u001b[0m\u001b[0m\n\u001b[0;32m     16\u001b[0m     \u001b[0mp\u001b[0m\u001b[1;33m[\u001b[0m\u001b[1;33m:\u001b[0m\u001b[1;33m,\u001b[0m\u001b[0mi\u001b[0m\u001b[1;33m+\u001b[0m\u001b[1;36m1\u001b[0m\u001b[1;33m]\u001b[0m\u001b[1;33m=\u001b[0m\u001b[0mp\u001b[0m\u001b[1;33m[\u001b[0m\u001b[1;33m:\u001b[0m\u001b[1;33m,\u001b[0m\u001b[0mi\u001b[0m\u001b[1;33m]\u001b[0m\u001b[1;33m-\u001b[0m\u001b[1;36m0.1\u001b[0m\u001b[1;33m*\u001b[0m\u001b[0mdmL\u001b[0m\u001b[1;33m\u001b[0m\u001b[1;33m\u001b[0m\u001b[0m\n",
      "\u001b[1;31mValueError\u001b[0m: too many values to unpack (expected 3)"
     ]
    }
   ],
   "source": [
    "reps=5000\n",
    "\n",
    "# initialise outputs\n",
    "p=np.zeros((3,reps)) # parameters\n",
    "d=np.zeros((3,reps-1)) # derivative\n",
    "dTest=np.zeros((3,reps-1)) # forward difference derivative approximation\n",
    "dTest2=np.zeros((3,reps-1)) # central difference derivative approximation\n",
    "Fc=np.zeros((1,reps-1)) # integrated cost function\n",
    "p[:,0]=np.array([u,eta,k_0])+np.random.normal(0,0.5,3) # first parameter value\n",
    "eps2=1e-12\n",
    "for i in range(reps-1):\n",
    "    [u1,eta1,k_01] = p[:,i]\n",
    "    \n",
    "    dmL, dc,c=d_mL(k_01,u1,eta1,mInfer,yTrain,tlocL,sourceInfer)\n",
    "    d[:,i]=dmL\n",
    "    p[:,i+1]=p[:,i]-0.1*dmL\n",
    "    Fc[:,i] = sum(c)*dt\n",
    "    dmL2, dc2,c2=d_mL(k_01,u1+eps2,eta1,mInfer,yTrain,tlocL,sourceInfer)\n",
    "    dmL3, dc3,c3=d_mL(k_01,u1,eta1+eps2,mInfer,yTrain,tlocL,sourceInfer)\n",
    "    dmL4, dc4,c4=d_mL(k_01+eps2,u1,eta1,mInfer,yTrain,tlocL,sourceInfer)\n",
    "    # dmL5, dc5,c5=d_mL(dmH,k_01,u1-eps2,eta1,m,yTrain,tlocL,sourceInfer)\n",
    "    #dmL6, dc6,c6=d_mL(dmH,k_01,u1,eta1-eps2,m,yTrain,tlocL,sourceInfer)\n",
    "    # dmL7, dc7,c7=d_mL(dmH,k_01-eps2,u1,eta1,m,yTrain,tlocL,sourceInfer)\n",
    "    \n",
    "    #dTest[:,i:i+1] = (np.array((sum((c2))*dt-sum((c5))*dt,sum((c3))*dt-sum((c6))*dt,sum((c4))*dt-sum((c7))*dt)))/(2*eps2)\n",
    "    dTest2[:,i:i+1] = ((sum((c2))*dt,sum((c3))*dt,sum((c4))*dt)-(sum(c)*dt))/(eps2)\n",
    "    \n",
    "    "
   ]
  },
  {
   "cell_type": "markdown",
   "id": "52a5d393",
   "metadata": {},
   "source": [
    "MSE between adjoint calculated gradient and gradient test"
   ]
  },
  {
   "cell_type": "code",
   "execution_count": 16,
   "id": "b6d571cb",
   "metadata": {
    "scrolled": true
   },
   "outputs": [
    {
     "data": {
      "text/plain": [
       "array([4.72424945e+115])"
      ]
     },
     "execution_count": 16,
     "metadata": {},
     "output_type": "execute_result"
    }
   ],
   "source": [
    "np.sum((dTest2-d)**2)/m.resolution"
   ]
  },
  {
   "cell_type": "code",
   "execution_count": 17,
   "id": "5900138b",
   "metadata": {},
   "outputs": [
    {
     "data": {
      "text/plain": [
       "[<matplotlib.lines.Line2D at 0x7fcdc5e32e50>,\n",
       " <matplotlib.lines.Line2D at 0x7fcdc5e32c10>,\n",
       " <matplotlib.lines.Line2D at 0x7fcdc5e32fd0>]"
      ]
     },
     "execution_count": 17,
     "metadata": {},
     "output_type": "execute_result"
    },
    {
     "data": {
      "image/png": "[encoded data removed]",
      "text/plain": [
       "<Figure size 360x360 with 1 Axes>"
      ]
     },
     "metadata": {
      "needs_background": "light"
     },
     "output_type": "display_data"
    }
   ],
   "source": [
    "plt.plot(p.T)"
   ]
  },
  {
   "cell_type": "code",
   "execution_count": 18,
   "id": "5828544e",
   "metadata": {
    "scrolled": true
   },
   "outputs": [
    {
     "data": {
      "image/png": "[encoded data removed]",
      "text/plain": [
       "<Figure size 360x360 with 1 Axes>"
      ]
     },
     "metadata": {
      "needs_background": "light"
     },
     "output_type": "display_data"
    }
   ],
   "source": [
    "plt.plot(d.T);"
   ]
  },
  {
   "cell_type": "code",
   "execution_count": 19,
   "id": "bddc4e5d",
   "metadata": {},
   "outputs": [
    {
     "data": {
      "text/plain": [
       "array([[-9.61962828e-002, -9.33117302e-002, -9.05887447e-002, ...,\n",
       "         2.66143616e-121,  2.66143616e-121,  2.66143616e-121],\n",
       "       [-1.71883364e-002, -1.68836255e-002, -1.65924047e-002, ...,\n",
       "         8.88428578e-121,  8.88428578e-121,  8.88428578e-121],\n",
       "       [-4.66681940e-002, -4.62715564e-002, -4.58734748e-002, ...,\n",
       "        -8.98216278e-122, -8.98216278e-122, -8.98216278e-122]])"
      ]
     },
     "execution_count": 19,
     "metadata": {},
     "output_type": "execute_result"
    }
   ],
   "source": [
    "d"
   ]
  },
  {
   "cell_type": "code",
   "execution_count": 20,
   "id": "f0dace89",
   "metadata": {},
   "outputs": [
    {
     "data": {
      "image/png": "[encoded data removed]",
      "text/plain": [
       "<Figure size 360x360 with 1 Axes>"
      ]
     },
     "metadata": {
      "needs_background": "light"
     },
     "output_type": "display_data"
    }
   ],
   "source": [
    "plt.plot(dTest2.T);"
   ]
  },
  {
   "cell_type": "code",
   "execution_count": 21,
   "id": "77bc3f88",
   "metadata": {},
   "outputs": [
    {
     "data": {
      "text/plain": [
       "array([ 5.05805670e+56, -6.95048498e+55, -7.14078264e+59])"
      ]
     },
     "execution_count": 21,
     "metadata": {},
     "output_type": "execute_result"
    }
   ],
   "source": [
    "p[:,i-1]"
   ]
  },
  {
   "cell_type": "code",
   "execution_count": 35,
   "id": "be7df693",
   "metadata": {},
   "outputs": [],
   "source": [
    "from scipy.optimize import minimize"
   ]
  },
  {
   "cell_type": "markdown",
   "id": "4486f8b0",
   "metadata": {},
   "source": [
    "### Functions for cost and derivative for use with scipy optimiser"
   ]
  },
  {
   "cell_type": "code",
   "execution_count": 89,
   "id": "8f87cae1",
   "metadata": {},
   "outputs": [],
   "source": [
    "def FullCost(x,model,obs,tloc,source):\n",
    "    model.k_0=x[2]\n",
    "    model.u=x[0]\n",
    "    model.eta=x[1]\n",
    "    dt,dt2,Nt = model.getGridStepSize()\n",
    "    conc=model.computeConcentration(source)\n",
    "\n",
    "    c1=cost(obs,tloc,conc,model)\n",
    "    \n",
    "    c = np.sum(c1)*dt\n",
    "    \n",
    "    return c"
   ]
  },
  {
   "cell_type": "code",
   "execution_count": 90,
   "id": "01264921",
   "metadata": {},
   "outputs": [],
   "source": [
    "def FullDeriv(x,model,obs,tloc,source):\n",
    "    model.k_0=x[2]\n",
    "    model.u=x[0]\n",
    "    model.eta=x[1]\n",
    "    dt,dt2,Nt = model.getGridStepSize()\n",
    "    conc=model.computeConcentration(source)\n",
    "    dmH=np.array([np.gradient(conc,dt[0])/model.k_0,conc/model.k_0,(-model.u*np.gradient(conc,dt[0])-model.eta*conc+source)/model.k_0**2])\n",
    "    dc=dcost(obs,tloc,conc,model)\n",
    "    c=cost(obs,tloc,conc,model)\n",
    "    #print(np.sum((c/2)**2))\n",
    "    integrand = -computeGradientAdjoint(dc,model)*dmH\n",
    "    L_m = np.trapz(integrand,dx=dt)\n",
    "    #L_m = np.sum(integrand)*dt\n",
    "    return L_m"
   ]
  },
  {
   "cell_type": "code",
   "execution_count": 132,
   "id": "9349f8c1",
   "metadata": {},
   "outputs": [],
   "source": [
    "def FullCostSamp(x,model,obs,tloc,mean,cov,samp):\n",
    "    model.k_0=x[2]\n",
    "    model.u=x[0]\n",
    "    model.eta=x[1]\n",
    "    dt,dt2,Nt = model.getGridStepSize()\n",
    "    c=0\n",
    "    for i in range(samp):\n",
    "        q=np.random.multivariate_normal(mean, cov)\n",
    "        #print(q.shape)\n",
    "        source=model.computeSourceFromPhi(meanZ)\n",
    "        conc=model.computeConcentration(source)\n",
    "\n",
    "        c1=cost(obs,tloc,conc,model)\n",
    "    \n",
    "        c += np.sum(c1)*dt/samp\n",
    "    \n",
    "    return c"
   ]
  },
  {
   "cell_type": "code",
   "execution_count": 133,
   "id": "cbbb11bc",
   "metadata": {},
   "outputs": [],
   "source": [
    "def FullDerivSamp(x,model,obs,tloc,mean,cov,samp):\n",
    "    model.k_0=x[2]\n",
    "    model.u=x[0]\n",
    "    model.eta=x[1]\n",
    "    dt,dt2,Nt = model.getGridStepSize()\n",
    "    #conc=model.computeConcentration(source)\n",
    "    L_m=0\n",
    "    for i in range(samp):\n",
    "        q=np.random.multivariate_normal(mean, cov)\n",
    "        #print(q.shape)\n",
    "        source=model.computeSourceFromPhi(q)\n",
    "        conc=model.computeConcentration(source)\n",
    "        dmH=np.array([np.gradient(conc,dt[0])/model.k_0,conc/model.k_0,(-model.u*np.gradient(conc,dt[0])-model.eta*conc+source)/model.k_0**2])\n",
    "        dc=dcost(obs,tloc,conc,model)\n",
    "        c=cost(obs,tloc,conc,model)\n",
    "        #print(np.sum((c/2)**2))\n",
    "        integrand = -computeGradientAdjoint(dc,model)*dmH\n",
    "        L_m += np.trapz(integrand,dx=dt)\n",
    "    #L_m = np.sum(integrand)*dt\n",
    "    return L_m"
   ]
  },
  {
   "cell_type": "code",
   "execution_count": 134,
   "id": "96fb44b4",
   "metadata": {},
   "outputs": [],
   "source": [
    "x0 = x\n",
    "x0 = np.array([5,5,-5])"
   ]
  },
  {
   "cell_type": "code",
   "execution_count": 135,
   "id": "1d344ecd",
   "metadata": {},
   "outputs": [
    {
     "data": {
      "text/plain": [
       "(200,)"
      ]
     },
     "execution_count": 135,
     "metadata": {},
     "output_type": "execute_result"
    }
   ],
   "source": [
    "q=np.random.multivariate_normal(meanZ, covZ)\n",
    "q.shape"
   ]
  },
  {
   "cell_type": "markdown",
   "id": "18372cb5",
   "metadata": {},
   "source": [
    "Possible constraints to apply"
   ]
  },
  {
   "cell_type": "code",
   "execution_count": 136,
   "id": "b35cdf95",
   "metadata": {},
   "outputs": [],
   "source": [
    "from scipy.optimize import NonlinearConstraint\n",
    "con = lambda x: x[1]**2 - 4*x[0]*x[2]\n",
    "nlc = NonlinearConstraint(con, -np.inf, 0)"
   ]
  },
  {
   "cell_type": "code",
   "execution_count": 137,
   "id": "d2509ada",
   "metadata": {},
   "outputs": [],
   "source": [
    "conL = lambda x: x[0]/x[2]\n",
    "lc = NonlinearConstraint(conL,-np.inf,0)"
   ]
  },
  {
   "cell_type": "markdown",
   "id": "41a5c283",
   "metadata": {},
   "source": [
    "### scipy minimiser"
   ]
  },
  {
   "cell_type": "code",
   "execution_count": 138,
   "id": "931ba2d3",
   "metadata": {
    "scrolled": false
   },
   "outputs": [
    {
     "name": "stdout",
     "output_type": "stream",
     "text": [
      "Divide-by-zero encountered: rhok assumed large\n",
      "Warning: Desired error not necessarily achieved due to precision loss.\n",
      "         Current function value: 0.000122\n",
      "         Iterations: 50\n",
      "         Function evaluations: 136\n",
      "         Gradient evaluations: 136\n"
     ]
    }
   ],
   "source": [
    "result = minimize(FullCostSamp, x0, method='BFGS', jac=FullDerivSamp,args=(mInfer,yTrain,tlocL,meanZ,covZ,10),options={'disp': True},tol=1e-8)"
   ]
  },
  {
   "cell_type": "code",
   "execution_count": 139,
   "id": "25f48f72",
   "metadata": {},
   "outputs": [
    {
     "data": {
      "text/plain": [
       "      fun: 0.00012173249710666103\n",
       " hess_inv: array([[ 6.48174067e-04, -3.88264660e-02,  6.25566754e-03],\n",
       "       [-3.88264660e-02,  2.80688386e+00, -5.01467506e-01],\n",
       "       [ 6.25566754e-03, -5.01467506e-01,  9.37635580e-02]])\n",
       "      jac: array([ 2.56600136e-04,  7.37459982e-06, -5.59721950e-04])\n",
       "  message: 'Desired error not necessarily achieved due to precision loss.'\n",
       "     nfev: 136\n",
       "      nit: 50\n",
       "     njev: 136\n",
       "   status: 2\n",
       "  success: False\n",
       "        x: array([ 0.79563066,  4.91188041, -0.96338206])"
      ]
     },
     "execution_count": 139,
     "metadata": {},
     "output_type": "execute_result"
    }
   ],
   "source": [
    "result"
   ]
  },
  {
   "cell_type": "code",
   "execution_count": 149,
   "id": "8600cb05",
   "metadata": {},
   "outputs": [
    {
     "name": "stdout",
     "output_type": "stream",
     "text": [
      "Getting Grid Step Size\n",
      "Building X matrix\n",
      "Calculating Adjoints...\n",
      "19/20 \n",
      "Calculating Phis...\n",
      "199/200 \n",
      "Calculating SS\n",
      "Inverting SS\n",
      "Computing meanZ\n",
      "Done\n",
      "[ 0.78126668  4.97441967 -0.99197175] 2.821862327375373e-05 0.0\n",
      "Getting Grid Step Size\n",
      "Building X matrix\n",
      "Calculating Adjoints...\n",
      "19/20 \n",
      "Calculating Phis...\n",
      "199/200 \n",
      "Calculating SS\n",
      "Inverting SS\n",
      "Computing meanZ\n",
      "Done\n",
      "[ 0.76359109  4.94952786 -0.98424881] 2.7891881933951695e-05 3.267413398020359e-07\n",
      "Getting Grid Step Size\n",
      "Building X matrix\n",
      "Calculating Adjoints...\n",
      "19/20 \n",
      "Calculating Phis...\n",
      "199/200 \n",
      "Calculating SS\n",
      "Inverting SS\n",
      "Computing meanZ\n",
      "Done\n",
      "[ 0.74688149  4.92523377 -0.97679965] 2.7587381263684857e-05 3.045006702668377e-07\n",
      "Getting Grid Step Size\n",
      "Building X matrix\n",
      "Calculating Adjoints...\n",
      "19/20 \n",
      "Calculating Phis...\n",
      "199/200 \n",
      "Calculating SS\n",
      "Inverting SS\n",
      "Computing meanZ\n",
      "Done\n",
      "[ 0.73105315  4.90160243 -0.96962165] 2.730296934967549e-05 2.8441191400936734e-07\n",
      "Getting Grid Step Size\n",
      "Building X matrix\n",
      "Calculating Adjoints...\n",
      "19/20 \n",
      "Calculating Phis...\n",
      "199/200 \n",
      "Calculating SS\n",
      "Inverting SS\n",
      "Computing meanZ\n",
      "Done\n",
      "[ 0.71603392  4.87852184 -0.96268345] 2.7036413551559015e-05 2.6655579811647474e-07\n",
      "Getting Grid Step Size\n",
      "Building X matrix\n",
      "Calculating Adjoints...\n",
      "19/20 \n",
      "Calculating Phis...\n",
      "199/200 \n",
      "Calculating SS\n",
      "Inverting SS\n",
      "Computing meanZ\n",
      "Done\n",
      "[ 0.70176553  4.85593954 -0.95596512] 2.6786160152337102e-05 2.502533992219133e-07\n",
      "Getting Grid Step Size\n",
      "Building X matrix\n",
      "Calculating Adjoints...\n",
      "19/20 \n",
      "Calculating Phis...\n",
      "199/200 \n",
      "Calculating SS\n",
      "Inverting SS\n",
      "Computing meanZ\n",
      "Done\n",
      "[ 0.68818324  4.83388085 -0.9494611 ] 2.6550885498555745e-05 2.3527465378135693e-07\n",
      "Getting Grid Step Size\n",
      "Building X matrix\n",
      "Calculating Adjoints...\n",
      "19/20 \n",
      "Calculating Phis...\n",
      "199/200 \n",
      "Calculating SS\n",
      "Inverting SS\n",
      "Computing meanZ\n",
      "Done\n",
      "[ 0.67522683  4.81243039 -0.9431777 ] 2.632902491937392e-05 2.218605791818264e-07\n",
      "Getting Grid Step Size\n",
      "Building X matrix\n",
      "Calculating Adjoints...\n",
      "19/20 \n",
      "Calculating Phis...\n",
      "199/200 \n",
      "Calculating SS\n",
      "Inverting SS\n",
      "Computing meanZ\n",
      "Done\n",
      "[ 0.6628584   4.79148724 -0.93708892] 2.61190321180982e-05 2.09992801275717e-07\n",
      "Getting Grid Step Size\n",
      "Building X matrix\n",
      "Calculating Adjoints...\n",
      "19/20 \n",
      "Calculating Phis...\n",
      "199/200 \n",
      "Calculating SS\n",
      "Inverting SS\n",
      "Computing meanZ\n",
      "Done\n",
      "[ 0.65103559  4.77098906 -0.93117687] 2.5920212118198693e-05 1.9881999989950825e-07\n",
      "Getting Grid Step Size\n",
      "Building X matrix\n",
      "Calculating Adjoints...\n",
      "19/20 \n",
      "Calculating Phis...\n",
      "199/200 \n",
      "Calculating SS\n",
      "Inverting SS\n",
      "Computing meanZ\n",
      "Done\n",
      "[ 0.63972815  4.75075509 -0.9254036 ] 2.5731711617782643e-05 1.885005004160504e-07\n",
      "Getting Grid Step Size\n",
      "Building X matrix\n",
      "Calculating Adjoints...\n",
      "19/20 \n",
      "Calculating Phis...\n",
      "199/200 \n",
      "Calculating SS\n",
      "Inverting SS\n",
      "Computing meanZ\n",
      "Done\n",
      "[ 0.62888666  4.73104743 -0.91981002] 2.555314819484266e-05 1.7856342293998375e-07\n",
      "Getting Grid Step Size\n",
      "Building X matrix\n",
      "Calculating Adjoints...\n",
      "19/20 \n",
      "Calculating Phis...\n",
      "199/200 \n",
      "Calculating SS\n",
      "Inverting SS\n",
      "Computing meanZ\n",
      "Done\n",
      "[ 0.61849169  4.71170816 -0.91436067] 2.5383014336863725e-05 1.7013385797893436e-07\n",
      "Getting Grid Step Size\n",
      "Building X matrix\n",
      "Calculating Adjoints...\n",
      "19/20 \n",
      "Calculating Phis...\n",
      "199/200 \n",
      "Calculating SS\n",
      "Inverting SS\n",
      "Computing meanZ\n",
      "Done\n",
      "[ 0.60850988  4.69275352 -0.90905483] 2.5221124059559657e-05 1.6189027730406733e-07\n",
      "Getting Grid Step Size\n",
      "Building X matrix\n",
      "Calculating Adjoints...\n",
      "19/20 \n",
      "Calculating Phis...\n",
      "199/200 \n",
      "Calculating SS\n",
      "Inverting SS\n",
      "Computing meanZ\n",
      "Done\n",
      "[ 0.59891545  4.67416167 -0.90388422] 2.506673130595935e-05 1.5439275360030837e-07\n",
      "Getting Grid Step Size\n",
      "Building X matrix\n",
      "Calculating Adjoints...\n",
      "19/20 \n",
      "Calculating Phis...\n",
      "199/200 \n",
      "Calculating SS\n",
      "Inverting SS\n",
      "Computing meanZ\n",
      "Done\n",
      "[ 0.58968491  4.65591308 -0.89884139] 2.4919318316423238e-05 1.4741298953611093e-07\n",
      "Getting Grid Step Size\n",
      "Building X matrix\n",
      "Calculating Adjoints...\n",
      "19/20 \n",
      "Calculating Phis...\n",
      "199/200 \n",
      "Calculating SS\n",
      "Inverting SS\n",
      "Computing meanZ\n",
      "Done\n",
      "[ 0.58079668  4.63799    -0.89391946] 2.477841594974912e-05 1.4090236667411806e-07\n",
      "Getting Grid Step Size\n",
      "Building X matrix\n",
      "Calculating Adjoints...\n",
      "19/20 \n",
      "Calculating Phis...\n",
      "199/200 \n",
      "Calculating SS\n",
      "Inverting SS\n",
      "Computing meanZ\n",
      "Done\n",
      "[ 0.57223068  4.62038131 -0.88911293] 2.4643597694899746e-05 1.3481825484937447e-07\n",
      "Getting Grid Step Size\n",
      "Building X matrix\n",
      "Calculating Adjoints...\n",
      "19/20 \n",
      "Calculating Phis...\n",
      "199/200 \n",
      "Calculating SS\n",
      "Inverting SS\n",
      "Computing meanZ\n",
      "Done\n",
      "[ 0.56396784  4.60308965 -0.88441891] 2.4514461712937024e-05 1.291359819627217e-07\n",
      "Getting Grid Step Size\n",
      "Building X matrix\n",
      "Calculating Adjoints...\n",
      "19/20 \n",
      "Calculating Phis...\n",
      "199/200 \n",
      "Calculating SS\n",
      "Inverting SS\n",
      "Computing meanZ\n",
      "Done\n",
      "[ 0.55599614  4.58603222 -0.87982092] 2.43906068969086e-05 1.238548160284224e-07\n",
      "Getting Grid Step Size\n",
      "Building X matrix\n",
      "Calculating Adjoints...\n",
      "19/20 \n",
      "Calculating Phis...\n",
      "199/200 \n",
      "Calculating SS\n",
      "Inverting SS\n",
      "Computing meanZ\n",
      "Done\n",
      "[ 0.54829517  4.56926818 -0.87532553] 2.4271908924287552e-05 1.1869797262104972e-07\n",
      "Getting Grid Step Size\n",
      "Building X matrix\n",
      "Calculating Adjoints...\n",
      "19/20 \n",
      "Calculating Phis...\n",
      "199/200 \n",
      "Calculating SS\n",
      "Inverting SS\n",
      "Computing meanZ\n",
      "Done\n",
      "[ 0.54084322  4.55288486 -0.87094415] 2.415786772405523e-05 1.1404120023232212e-07\n",
      "Getting Grid Step Size\n",
      "Building X matrix\n",
      "Calculating Adjoints...\n",
      "19/20 \n",
      "Calculating Phis...\n",
      "199/200 \n",
      "Calculating SS\n",
      "Inverting SS\n",
      "Computing meanZ\n",
      "Done\n",
      "[ 0.53363429  4.53676491 -0.86665515] 2.404791391031971e-05 1.0995381373551838e-07\n",
      "Getting Grid Step Size\n",
      "Building X matrix\n",
      "Calculating Adjoints...\n",
      "19/20 \n",
      "Calculating Phis...\n",
      "199/200 \n",
      "Calculating SS\n",
      "Inverting SS\n",
      "Computing meanZ\n",
      "Done\n",
      "[ 0.52666324  4.52079409 -0.86243762] 2.394209878341308e-05 1.0581512690663265e-07\n",
      "Getting Grid Step Size\n",
      "Building X matrix\n",
      "Calculating Adjoints...\n",
      "19/20 \n",
      "Calculating Phis...\n",
      "199/200 \n",
      "Calculating SS\n",
      "Inverting SS\n",
      "Computing meanZ\n",
      "Done\n",
      "[ 0.519911    4.50506505 -0.8583044 ] 2.3840488791991934e-05 1.0160999142114514e-07\n",
      "Getting Grid Step Size\n",
      "Building X matrix\n",
      "Calculating Adjoints...\n",
      "19/20 \n",
      "Calculating Phis...\n",
      "199/200 \n",
      "Calculating SS\n",
      "Inverting SS\n",
      "Computing meanZ\n",
      "Done\n",
      "[ 0.51336666  4.48956932 -0.85425204] 2.3742566846757335e-05 9.79219452345983e-08\n",
      "Getting Grid Step Size\n",
      "Building X matrix\n",
      "Calculating Adjoints...\n",
      "19/20 \n",
      "Calculating Phis...\n",
      "199/200 \n",
      "Calculating SS\n",
      "Inverting SS\n",
      "Computing meanZ\n",
      "Done\n",
      "[ 0.50701437  4.47439927 -0.8502935 ] 2.364813286848633e-05 9.443397827100619e-08\n",
      "Getting Grid Step Size\n",
      "Building X matrix\n",
      "Calculating Adjoints...\n",
      "19/20 \n",
      "Calculating Phis...\n",
      "199/200 \n",
      "Calculating SS\n",
      "Inverting SS\n",
      "Computing meanZ\n",
      "Done\n",
      "[ 0.50085035  4.45945534 -0.84641101] 2.3556744771720613e-05 9.138809676571577e-08\n",
      "Getting Grid Step Size\n",
      "Building X matrix\n",
      "Calculating Adjoints...\n",
      "19/20 \n",
      "Calculating Phis...\n",
      "199/200 \n",
      "Calculating SS\n",
      "Inverting SS\n",
      "Computing meanZ\n",
      "Done\n",
      "[ 0.49486581  4.44472946 -0.84260155] 2.346847069007592e-05 8.827408164469199e-08\n",
      "Getting Grid Step Size\n",
      "Building X matrix\n",
      "Calculating Adjoints...\n",
      "19/20 \n",
      "Calculating Phis...\n",
      "199/200 \n",
      "Calculating SS\n",
      "Inverting SS\n",
      "Computing meanZ\n",
      "Done\n",
      "[ 0.48905251  4.43021333 -0.83886216] 2.3383150994207087e-05 8.531969586883455e-08\n",
      "Getting Grid Step Size\n",
      "Building X matrix\n",
      "Calculating Adjoints...\n",
      "19/20 \n",
      "Calculating Phis...\n",
      "199/200 \n",
      "Calculating SS\n",
      "Inverting SS\n",
      "Computing meanZ\n",
      "Done\n",
      "[ 0.48340266  4.41590155 -0.83519048] 2.3300638572393582e-05 8.251242181350453e-08\n",
      "Getting Grid Step Size\n",
      "Building X matrix\n",
      "Calculating Adjoints...\n",
      "19/20 \n",
      "Calculating Phis...\n",
      "199/200 \n",
      "Calculating SS\n",
      "Inverting SS\n",
      "Computing meanZ\n",
      "Done\n",
      "[ 0.47790893  4.40178932 -0.83158434] 2.3220791176338153e-05 7.984739605542904e-08\n",
      "Getting Grid Step Size\n",
      "Building X matrix\n",
      "Calculating Adjoints...\n",
      "19/20 \n",
      "Calculating Phis...\n",
      "199/200 \n",
      "Calculating SS\n",
      "Inverting SS\n",
      "Computing meanZ\n",
      "Done\n",
      "[ 0.47256454  4.38786939 -0.82804121] 2.3143475325036067e-05 7.731585130208593e-08\n",
      "Getting Grid Step Size\n",
      "Building X matrix\n",
      "Calculating Adjoints...\n",
      "19/20 \n",
      "Calculating Phis...\n",
      "199/200 \n",
      "Calculating SS\n",
      "Inverting SS\n",
      "Computing meanZ\n",
      "Done\n",
      "[ 0.46736524  4.37405697 -0.82454529] 2.3068568311980267e-05 7.490701305580067e-08\n",
      "Getting Grid Step Size\n",
      "Building X matrix\n",
      "Calculating Adjoints...\n",
      "19/20 \n",
      "Calculating Phis...\n",
      "199/200 \n",
      "Calculating SS\n",
      "Inverting SS\n",
      "Computing meanZ\n",
      "Done\n",
      "[ 0.46230659  4.36038739 -0.82110205] 2.2996113560494712e-05 7.245475148555446e-08\n",
      "Getting Grid Step Size\n",
      "Building X matrix\n",
      "Calculating Adjoints...\n"
     ]
    },
    {
     "name": "stdout",
     "output_type": "stream",
     "text": [
      "19/20 \n",
      "Calculating Phis...\n",
      "199/200 \n",
      "Calculating SS\n",
      "Inverting SS\n",
      "Computing meanZ\n",
      "Done\n",
      "[ 0.45737851  4.34690146 -0.8177169 ] 2.2925969751815692e-05 7.01438086790198e-08\n",
      "Getting Grid Step Size\n",
      "Building X matrix\n",
      "Calculating Adjoints...\n",
      "19/20 \n",
      "Calculating Phis...\n",
      "199/200 \n",
      "Calculating SS\n",
      "Inverting SS\n",
      "Computing meanZ\n",
      "Done\n",
      "[ 0.45257566  4.33359462 -0.81438802] 2.28578930918393e-05 6.807665997639136e-08\n",
      "Getting Grid Step Size\n",
      "Building X matrix\n",
      "Calculating Adjoints...\n",
      "19/20 \n",
      "Calculating Phis...\n",
      "199/200 \n",
      "Calculating SS\n",
      "Inverting SS\n",
      "Computing meanZ\n",
      "Done\n",
      "[ 0.44789347  4.32045126 -0.8111118 ] 2.2791790035511152e-05 6.61030563281492e-08\n",
      "Getting Grid Step Size\n",
      "Building X matrix\n",
      "Calculating Adjoints...\n",
      "19/20 \n",
      "Calculating Phis...\n",
      "199/200 \n",
      "Calculating SS\n",
      "Inverting SS\n",
      "Computing meanZ\n",
      "Done\n",
      "[ 0.44332722  4.30746486 -0.8078862 ] 2.272759679270757e-05 6.41932428035827e-08\n",
      "Getting Grid Step Size\n",
      "Building X matrix\n",
      "Calculating Adjoints...\n",
      "19/20 \n",
      "Calculating Phis...\n",
      "199/200 \n",
      "Calculating SS\n",
      "Inverting SS\n",
      "Computing meanZ\n",
      "Done\n",
      "[ 0.4388717   4.29464791 -0.80471261] 2.2665233317374617e-05 6.236347533295191e-08\n",
      "Getting Grid Step Size\n",
      "Building X matrix\n",
      "Calculating Adjoints...\n",
      "19/20 \n",
      "Calculating Phis...\n",
      "199/200 \n",
      "Calculating SS\n",
      "Inverting SS\n",
      "Computing meanZ\n",
      "Done\n",
      "[ 0.43452261  4.28199759 -0.8015895 ] 2.260458880480359e-05 6.064451257102853e-08\n",
      "Getting Grid Step Size\n",
      "Building X matrix\n",
      "Calculating Adjoints...\n",
      "19/20 \n",
      "Calculating Phis...\n",
      "199/200 \n",
      "Calculating SS\n",
      "Inverting SS\n",
      "Computing meanZ\n",
      "Done\n",
      "[ 0.43027562  4.2695146  -0.79851629] 2.2545586866094158e-05 5.900193870943057e-08\n",
      "Getting Grid Step Size\n",
      "Building X matrix\n",
      "Calculating Adjoints...\n",
      "19/20 \n",
      "Calculating Phis...\n",
      "199/200 \n",
      "Calculating SS\n",
      "Inverting SS\n",
      "Computing meanZ\n",
      "Done\n",
      "[ 0.42612617  4.25720559 -0.79549334] 2.2488148108594093e-05 5.7438757500064913e-08\n",
      "Getting Grid Step Size\n",
      "Building X matrix\n",
      "Calculating Adjoints...\n",
      "19/20 \n",
      "Calculating Phis...\n",
      "199/200 \n",
      "Calculating SS\n",
      "Inverting SS\n",
      "Computing meanZ\n",
      "Done\n",
      "[ 0.42207092  4.24507078 -0.79251997] 2.243218131949943e-05 5.596678909466153e-08\n",
      "Getting Grid Step Size\n",
      "Building X matrix\n",
      "Calculating Adjoints...\n",
      "19/20 \n",
      "Calculating Phis...\n",
      "199/200 \n",
      "Calculating SS\n",
      "Inverting SS\n",
      "Computing meanZ\n",
      "Done\n",
      "[ 0.41810722  4.23309631 -0.78959319] 2.2377625662098898e-05 5.455565740053377e-08\n",
      "Getting Grid Step Size\n",
      "Building X matrix\n",
      "Calculating Adjoints...\n",
      "19/20 \n",
      "Calculating Phis...\n",
      "199/200 \n",
      "Calculating SS\n",
      "Inverting SS\n",
      "Computing meanZ\n",
      "Done\n",
      "[ 0.41423209  4.22126935 -0.78671015] 2.2324451650472123e-05 5.317401162677435e-08\n",
      "Getting Grid Step Size\n",
      "Building X matrix\n",
      "Calculating Adjoints...\n",
      "19/20 \n",
      "Calculating Phis...\n",
      "199/200 \n",
      "Calculating SS\n",
      "Inverting SS\n",
      "Computing meanZ\n",
      "Done\n",
      "[ 0.41044267  4.20957288 -0.78386733] 2.2272621701401697e-05 5.182994907042675e-08\n",
      "Getting Grid Step Size\n",
      "Building X matrix\n",
      "Calculating Adjoints...\n",
      "19/20 \n",
      "Calculating Phis...\n",
      "199/200 \n",
      "Calculating SS\n",
      "Inverting SS\n",
      "Computing meanZ\n",
      "Done\n",
      "[ 0.40673588  4.19800934 -0.78106456] 2.2222107226198747e-05 5.051447520294981e-08\n",
      "Getting Grid Step Size\n",
      "Building X matrix\n",
      "Calculating Adjoints...\n",
      "19/20 \n",
      "Calculating Phis...\n",
      "199/200 \n",
      "Calculating SS\n",
      "Inverting SS\n",
      "Computing meanZ\n",
      "Done\n",
      "[ 0.40310877  4.18658137 -0.77830172] 2.2172849300145426e-05 4.925792605332046e-08\n",
      "Getting Grid Step Size\n",
      "Building X matrix\n",
      "Calculating Adjoints...\n",
      "19/20 \n",
      "Calculating Phis...\n",
      "199/200 \n",
      "Calculating SS\n",
      "Inverting SS\n",
      "Computing meanZ\n",
      "Done\n",
      "[ 0.39956637  4.17515646 -0.775556  ] 2.2124787719820277e-05 4.806158032514925e-08\n",
      "Getting Grid Step Size\n",
      "Building X matrix\n",
      "Calculating Adjoints...\n",
      "19/20 \n",
      "Calculating Phis...\n",
      "199/200 \n",
      "Calculating SS\n",
      "Inverting SS\n",
      "Computing meanZ\n",
      "Done\n",
      "[ 0.39609435  4.16388966 -0.77285413] 2.2078173308720762e-05 4.6614411099514915e-08\n",
      "Getting Grid Step Size\n",
      "Building X matrix\n",
      "Calculating Adjoints...\n",
      "19/20 \n",
      "Calculating Phis...\n",
      "199/200 \n",
      "Calculating SS\n",
      "Inverting SS\n",
      "Computing meanZ\n",
      "Done\n",
      "[ 0.39269537  4.15273348 -0.77018512] 2.2032574301859397e-05 4.5599006861365624e-08\n",
      "Getting Grid Step Size\n",
      "Building X matrix\n",
      "Calculating Adjoints...\n",
      "19/20 \n",
      "Calculating Phis...\n",
      "199/200 \n",
      "Calculating SS\n",
      "Inverting SS\n",
      "Computing meanZ\n",
      "Done\n",
      "[ 0.38936255  4.14175923 -0.76756167] 2.1988087964188007e-05 4.4486337671389704e-08\n",
      "Getting Grid Step Size\n",
      "Building X matrix\n",
      "Calculating Adjoints...\n",
      "19/20 \n",
      "Calculating Phis...\n",
      "199/200 \n",
      "Calculating SS\n",
      "Inverting SS\n",
      "Computing meanZ\n",
      "Done\n",
      "[ 0.38610253  4.13085743 -0.76496661] 2.1944501998461465e-05 4.35859657265422e-08\n",
      "Getting Grid Step Size\n",
      "Building X matrix\n",
      "Calculating Adjoints...\n",
      "19/20 \n",
      "Calculating Phis...\n",
      "199/200 \n",
      "Calculating SS\n",
      "Inverting SS\n",
      "Computing meanZ\n",
      "Done\n",
      "[ 0.38290216  4.12013287 -0.76241372] 2.1902061699305334e-05 4.244029915613059e-08\n",
      "Getting Grid Step Size\n",
      "Building X matrix\n",
      "Calculating Adjoints...\n",
      "19/20 \n",
      "Calculating Phis...\n",
      "199/200 \n",
      "Calculating SS\n",
      "Inverting SS\n",
      "Computing meanZ\n",
      "Done\n",
      "[ 0.37976489  4.10951956 -0.75989334] 2.1860426918412227e-05 4.163478089310742e-08\n",
      "Getting Grid Step Size\n",
      "Building X matrix\n",
      "Calculating Adjoints...\n",
      "19/20 \n",
      "Calculating Phis...\n",
      "199/200 \n",
      "Calculating SS\n",
      "Inverting SS\n",
      "Computing meanZ\n",
      "Done\n",
      "[ 0.37668875  4.0990153  -0.75740469] 2.1819727588869195e-05 4.069932954303186e-08\n",
      "Getting Grid Step Size\n",
      "Building X matrix\n",
      "Calculating Adjoints...\n",
      "19/20 \n",
      "Calculating Phis...\n",
      "199/200 \n",
      "Calculating SS\n",
      "Inverting SS\n",
      "Computing meanZ\n",
      "Done\n",
      "[ 0.37367186  4.08861793 -0.75494702] 2.1779931705459402e-05 3.979588340979244e-08\n",
      "Getting Grid Step Size\n",
      "Building X matrix\n",
      "Calculating Adjoints...\n",
      "19/20 \n",
      "Calculating Phis...\n",
      "199/200 \n",
      "Calculating SS\n",
      "Inverting SS\n",
      "Computing meanZ\n",
      "Done\n",
      "[ 0.3707124   4.07832538 -0.75251962] 2.1741008731343167e-05 3.892297411623523e-08\n",
      "Getting Grid Step Size\n",
      "Building X matrix\n",
      "Calculating Adjoints...\n",
      "19/20 \n",
      "Calculating Phis...\n",
      "199/200 \n",
      "Calculating SS\n",
      "Inverting SS\n",
      "Computing meanZ\n",
      "Done\n",
      "[ 0.36780864  4.06813561 -0.7501218 ] 2.1702929513808578e-05 3.80792175345896e-08\n",
      "Getting Grid Step Size\n",
      "Building X matrix\n",
      "Calculating Adjoints...\n",
      "19/20 \n",
      "Calculating Phis...\n",
      "199/200 \n",
      "Calculating SS\n",
      "Inverting SS\n",
      "Computing meanZ\n",
      "Done\n",
      "[ 0.36495891  4.05804667 -0.74775288] 2.1665666205954213e-05 3.726330785436448e-08\n",
      "Getting Grid Step Size\n",
      "Building X matrix\n",
      "Calculating Adjoints...\n",
      "19/20 \n",
      "Calculating Phis...\n",
      "199/200 \n",
      "Calculating SS\n",
      "Inverting SS\n",
      "Computing meanZ\n",
      "Done\n",
      "[ 0.36216164  4.04805666 -0.74541222] 2.1629192193567707e-05 3.6474012386505955e-08\n",
      "Getting Grid Step Size\n",
      "Building X matrix\n",
      "Calculating Adjoints...\n",
      "19/20 \n",
      "Calculating Phis...\n",
      "199/200 \n",
      "Calculating SS\n",
      "Inverting SS\n",
      "Computing meanZ\n",
      "Done\n",
      "[ 0.35941527  4.03816371 -0.74309918] 2.1593482026955868e-05 3.5710166611839175e-08\n",
      "Getting Grid Step Size\n",
      "Building X matrix\n",
      "Calculating Adjoints...\n",
      "19/20 \n",
      "Calculating Phis...\n",
      "199/200 \n",
      "Calculating SS\n",
      "Inverting SS\n",
      "Computing meanZ\n",
      "Done\n",
      "[ 0.35671835  4.02836603 -0.74081317] 2.1558511357306995e-05 3.4970669648872865e-08\n",
      "Getting Grid Step Size\n",
      "Building X matrix\n",
      "Calculating Adjoints...\n",
      "19/20 \n",
      "Calculating Phis...\n",
      "199/200 \n",
      "Calculating SS\n",
      "Inverting SS\n",
      "Computing meanZ\n",
      "Done\n",
      "[ 0.35406946  4.01866187 -0.73855359] 2.1524256877042606e-05 3.425448026438935e-08\n",
      "Getting Grid Step Size\n",
      "Building X matrix\n",
      "Calculating Adjoints...\n",
      "19/20 \n",
      "Calculating Phis...\n",
      "199/200 \n",
      "Calculating SS\n",
      "Inverting SS\n",
      "Computing meanZ\n",
      "Done\n",
      "[ 0.35146726  4.00904954 -0.73631988] 2.1490696264114912e-05 3.356061292769403e-08\n",
      "Getting Grid Step Size\n",
      "Building X matrix\n",
      "Calculating Adjoints...\n",
      "19/20 \n",
      "Calculating Phis...\n",
      "199/200 \n",
      "Calculating SS\n",
      "Inverting SS\n",
      "Computing meanZ\n",
      "Done\n",
      "[ 0.34891042  3.99952738 -0.7341115 ] 2.1457808129903346e-05 3.288813421156562e-08\n",
      "Getting Grid Step Size\n",
      "Building X matrix\n",
      "Calculating Adjoints...\n",
      "19/20 \n",
      "Calculating Phis...\n",
      "199/200 \n",
      "Calculating SS\n",
      "Inverting SS\n",
      "Computing meanZ\n",
      "Done\n",
      "[ 0.34639771  3.99009379 -0.7319279 ] 2.142557197018119e-05 3.223615972215474e-08\n",
      "Getting Grid Step Size\n",
      "Building X matrix\n",
      "Calculating Adjoints...\n",
      "19/20 \n",
      "Calculating Phis...\n",
      "199/200 \n",
      "Calculating SS\n",
      "Inverting SS\n",
      "Computing meanZ\n",
      "Done\n",
      "[ 0.3439279   3.98074721 -0.72976858] 2.13939681192706e-05 3.160385091059264e-08\n",
      "Getting Grid Step Size\n",
      "Building X matrix\n",
      "Calculating Adjoints...\n",
      "19/20 \n",
      "Calculating Phis...\n",
      "199/200 \n",
      "Calculating SS\n",
      "Inverting SS\n",
      "Computing meanZ\n",
      "Done\n",
      "[ 0.34149986  3.97148612 -0.72763304] 2.1362977689412156e-05 3.0990429858442596e-08\n",
      "Getting Grid Step Size\n",
      "Building X matrix\n",
      "Calculating Adjoints...\n",
      "19/20 \n",
      "Calculating Phis...\n",
      "199/200 \n",
      "Calculating SS\n",
      "Inverting SS\n",
      "Computing meanZ\n"
     ]
    },
    {
     "name": "stdout",
     "output_type": "stream",
     "text": [
      "Done\n",
      "[ 0.33911244  3.96230905 -0.72552079] 2.133258258441198e-05 3.039510500017458e-08\n",
      "Getting Grid Step Size\n",
      "Building X matrix\n",
      "Calculating Adjoints...\n",
      "19/20 \n",
      "Calculating Phis...\n",
      "199/200 \n",
      "Calculating SS\n",
      "Inverting SS\n",
      "Computing meanZ\n",
      "Done\n",
      "[ 0.33676459  3.95321457 -0.72343138] 2.1302765407212797e-05 2.981717719918495e-08\n",
      "Getting Grid Step Size\n",
      "Building X matrix\n",
      "Calculating Adjoints...\n",
      "19/20 \n",
      "Calculating Phis...\n",
      "199/200 \n",
      "Calculating SS\n",
      "Inverting SS\n",
      "Computing meanZ\n",
      "Done\n",
      "[ 0.33445526  3.94420128 -0.72136433] 2.127350944235223e-05 2.9255964860566637e-08\n",
      "Getting Grid Step Size\n",
      "Building X matrix\n",
      "Calculating Adjoints...\n",
      "19/20 \n",
      "Calculating Phis...\n",
      "199/200 \n",
      "Calculating SS\n",
      "Inverting SS\n",
      "Computing meanZ\n",
      "Done\n",
      "[ 0.33218345  3.93526784 -0.71931923] 2.12447986232914e-05 2.8710819060828616e-08\n",
      "Getting Grid Step Size\n",
      "Building X matrix\n",
      "Calculating Adjoints...\n",
      "19/20 \n",
      "Calculating Phis...\n",
      "199/200 \n",
      "Calculating SS\n",
      "Inverting SS\n",
      "Computing meanZ\n",
      "Done\n",
      "[ 0.32995348  3.92634168 -0.71728474] 2.121661479343318e-05 2.818382985822024e-08\n",
      "Getting Grid Step Size\n",
      "Building X matrix\n",
      "Calculating Adjoints...\n",
      "19/20 \n",
      "Calculating Phis...\n",
      "199/200 \n",
      "Calculating SS\n",
      "Inverting SS\n",
      "Computing meanZ\n",
      "Done\n",
      "[ 0.32775937  3.91748701 -0.71527037] 2.118910957118964e-05 2.7505222243542134e-08\n",
      "Getting Grid Step Size\n",
      "Building X matrix\n",
      "Calculating Adjoints...\n",
      "19/20 \n",
      "Calculating Phis...\n",
      "199/200 \n",
      "Calculating SS\n",
      "Inverting SS\n",
      "Computing meanZ\n",
      "Done\n",
      "[ 0.32560016  3.90870361 -0.71327588] 2.1162114336475964e-05 2.6995234713674584e-08\n",
      "Getting Grid Step Size\n",
      "Building X matrix\n",
      "Calculating Adjoints...\n",
      "19/20 \n",
      "Calculating Phis...\n",
      "199/200 \n",
      "Calculating SS\n",
      "Inverting SS\n",
      "Computing meanZ\n",
      "Done\n",
      "[ 0.32347491  3.89999128 -0.71130103] 2.113561298799972e-05 2.650134847624586e-08\n",
      "Getting Grid Step Size\n",
      "Building X matrix\n",
      "Calculating Adjoints...\n",
      "19/20 \n",
      "Calculating Phis...\n",
      "199/200 \n",
      "Calculating SS\n",
      "Inverting SS\n",
      "Computing meanZ\n",
      "Done\n",
      "[ 0.32138296  3.89134512 -0.70934485] 2.1109589854326743e-05 2.6023133672975512e-08\n",
      "Getting Grid Step Size\n",
      "Building X matrix\n",
      "Calculating Adjoints...\n",
      "19/20 \n",
      "Calculating Phis...\n",
      "199/200 \n",
      "Calculating SS\n",
      "Inverting SS\n",
      "Computing meanZ\n",
      "Done\n",
      "[ 0.31932355  3.88276287 -0.70740678] 2.1084039373725905e-05 2.5550480600837906e-08\n",
      "Getting Grid Step Size\n",
      "Building X matrix\n",
      "Calculating Adjoints...\n",
      "19/20 \n",
      "Calculating Phis...\n",
      "199/200 \n",
      "Calculating SS\n",
      "Inverting SS\n",
      "Computing meanZ\n",
      "Done\n",
      "[ 0.31729507  3.87425756 -0.70548913] 2.105894759444736e-05 2.5091779278544154e-08\n",
      "Getting Grid Step Size\n",
      "Building X matrix\n",
      "Calculating Adjoints...\n",
      "19/20 \n",
      "Calculating Phis...\n",
      "199/200 \n",
      "Calculating SS\n",
      "Inverting SS\n",
      "Computing meanZ\n",
      "Done\n",
      "[ 0.31529643  3.86582345 -0.70358986] 2.1034280304876e-05 2.4667289571362033e-08\n",
      "Getting Grid Step Size\n",
      "Building X matrix\n",
      "Calculating Adjoints...\n",
      "19/20 \n",
      "Calculating Phis...\n",
      "199/200 \n",
      "Calculating SS\n",
      "Inverting SS\n",
      "Computing meanZ\n",
      "Done\n",
      "[ 0.31332894  3.8574453  -0.70170709] 2.101002337181094e-05 2.4256933065059196e-08\n",
      "Getting Grid Step Size\n",
      "Building X matrix\n",
      "Calculating Adjoints...\n",
      "19/20 \n",
      "Calculating Phis...\n",
      "199/200 \n",
      "Calculating SS\n",
      "Inverting SS\n",
      "Computing meanZ\n",
      "Done\n",
      "[ 0.31138955  3.8491621  -0.69984826] 2.0986202066384718e-05 2.382130542622209e-08\n",
      "Getting Grid Step Size\n",
      "Building X matrix\n",
      "Calculating Adjoints...\n",
      "19/20 \n",
      "Calculating Phis...\n",
      "199/200 \n",
      "Calculating SS\n",
      "Inverting SS\n",
      "Computing meanZ\n",
      "Done\n",
      "[ 0.30947296  3.84101046 -0.69801595] 2.0962748697983097e-05 2.345336840162078e-08\n",
      "Getting Grid Step Size\n",
      "Building X matrix\n",
      "Calculating Adjoints...\n",
      "19/20 \n",
      "Calculating Phis...\n",
      "199/200 \n",
      "Calculating SS\n",
      "Inverting SS\n",
      "Computing meanZ\n",
      "Done\n",
      "[ 0.30758417  3.83292769 -0.69620168] 2.093952534941507e-05 2.3223348568026688e-08\n",
      "Getting Grid Step Size\n",
      "Building X matrix\n",
      "Calculating Adjoints...\n",
      "19/20 \n",
      "Calculating Phis...\n",
      "199/200 \n",
      "Calculating SS\n",
      "Inverting SS\n",
      "Computing meanZ\n",
      "Done\n",
      "[ 0.30572807  3.82484147 -0.69439385] 2.0916677903127104e-05 2.2847446287966184e-08\n",
      "Getting Grid Step Size\n",
      "Building X matrix\n",
      "Calculating Adjoints...\n",
      "19/20 \n",
      "Calculating Phis...\n",
      "199/200 \n",
      "Calculating SS\n",
      "Inverting SS\n",
      "Computing meanZ\n",
      "Done\n",
      "[ 0.30389882  3.81680593 -0.69260063] 2.0894365531046014e-05 2.2312372081090032e-08\n",
      "Getting Grid Step Size\n",
      "Building X matrix\n",
      "Calculating Adjoints...\n",
      "19/20 \n",
      "Calculating Phis...\n",
      "199/200 \n",
      "Calculating SS\n",
      "Inverting SS\n",
      "Computing meanZ\n",
      "Done\n",
      "[ 0.30209536  3.80882391 -0.69082229] 2.087243426313322e-05 2.193126791279296e-08\n",
      "Getting Grid Step Size\n",
      "Building X matrix\n",
      "Calculating Adjoints...\n",
      "19/20 \n",
      "Calculating Phis...\n",
      "199/200 \n",
      "Calculating SS\n",
      "Inverting SS\n",
      "Computing meanZ\n",
      "Done\n",
      "[ 0.30031648  3.80090479 -0.68906026] 2.085086350341585e-05 2.1570759717370256e-08\n",
      "Getting Grid Step Size\n",
      "Building X matrix\n",
      "Calculating Adjoints...\n",
      "19/20 \n",
      "Calculating Phis...\n",
      "199/200 \n",
      "Calculating SS\n",
      "Inverting SS\n",
      "Computing meanZ\n",
      "Done\n",
      "[ 0.29856031  3.79307606 -0.687319  ] 2.0829624142825432e-05 2.1239360590418762e-08\n",
      "Getting Grid Step Size\n",
      "Building X matrix\n",
      "Calculating Adjoints...\n",
      "19/20 \n",
      "Calculating Phis...\n",
      "199/200 \n",
      "Calculating SS\n",
      "Inverting SS\n",
      "Computing meanZ\n",
      "Done\n",
      "[ 0.29682674  3.7853372  -0.68559842] 2.0808657542211e-05 2.0966600614432892e-08\n",
      "Getting Grid Step Size\n",
      "Building X matrix\n",
      "Calculating Adjoints...\n",
      "19/20 \n",
      "Calculating Phis...\n",
      "199/200 \n",
      "Calculating SS\n",
      "Inverting SS\n",
      "Computing meanZ\n",
      "Done\n",
      "[ 0.29511638  3.77767124 -0.68389564] 2.0787961567884503e-05 2.069597432649613e-08\n",
      "Getting Grid Step Size\n",
      "Building X matrix\n",
      "Calculating Adjoints...\n",
      "19/20 \n",
      "Calculating Phis...\n",
      "199/200 \n",
      "Calculating SS\n",
      "Inverting SS\n",
      "Computing meanZ\n",
      "Done\n",
      "[ 0.29342934  3.77006446 -0.68220827] 2.0767563748468815e-05 2.039781941568785e-08\n",
      "Getting Grid Step Size\n",
      "Building X matrix\n",
      "Calculating Adjoints...\n",
      "19/20 \n",
      "Calculating Phis...\n",
      "199/200 \n",
      "Calculating SS\n",
      "Inverting SS\n",
      "Computing meanZ\n",
      "Done\n",
      "[ 0.29176522  3.76251285 -0.68053551] 2.0747480194551592e-05 2.0083553917223156e-08\n",
      "Getting Grid Step Size\n",
      "Building X matrix\n",
      "Calculating Adjoints...\n",
      "19/20 \n",
      "Calculating Phis...\n",
      "199/200 \n",
      "Calculating SS\n",
      "Inverting SS\n",
      "Computing meanZ\n",
      "Done\n",
      "[ 0.2901235   3.75501397 -0.67887683] 2.072770854776842e-05 1.9771646783170964e-08\n",
      "Getting Grid Step Size\n",
      "Building X matrix\n",
      "Calculating Adjoints...\n",
      "19/20 \n",
      "Calculating Phis...\n",
      "199/200 \n",
      "Calculating SS\n",
      "Inverting SS\n",
      "Computing meanZ\n",
      "Done\n",
      "[ 0.28850354  3.74757228 -0.67723287] 2.0708243328781304e-05 1.946521898711718e-08\n",
      "Getting Grid Step Size\n",
      "Building X matrix\n",
      "Calculating Adjoints...\n",
      "19/20 \n",
      "Calculating Phis...\n",
      "199/200 \n",
      "Calculating SS\n",
      "Inverting SS\n",
      "Computing meanZ\n",
      "Done\n",
      "[ 0.28690488  3.74018692 -0.67560339] 2.0689068964899253e-05 1.9174363882051013e-08\n",
      "Getting Grid Step Size\n",
      "Building X matrix\n",
      "Calculating Adjoints...\n",
      "19/20 \n",
      "Calculating Phis...\n",
      "199/200 \n",
      "Calculating SS\n",
      "Inverting SS\n",
      "Computing meanZ\n",
      "Done\n",
      "[ 0.28532707  3.73285705 -0.67398815] 2.0670178917823137e-05 1.8890047076116013e-08\n",
      "Getting Grid Step Size\n",
      "Building X matrix\n",
      "Calculating Adjoints...\n",
      "19/20 \n",
      "Calculating Phis...\n",
      "199/200 \n",
      "Calculating SS\n",
      "Inverting SS\n",
      "Computing meanZ\n",
      "Done\n",
      "[ 0.28376969  3.72558175 -0.6723869 ] 2.0651566829464723e-05 1.86120883584143e-08\n",
      "Getting Grid Step Size\n",
      "Building X matrix\n",
      "Calculating Adjoints...\n",
      "19/20 \n",
      "Calculating Phis...\n",
      "199/200 \n",
      "Calculating SS\n",
      "Inverting SS\n",
      "Computing meanZ\n",
      "Done\n",
      "[ 0.28223233  3.71835991 -0.67079937] 2.0633226661453618e-05 1.8340168011104938e-08\n",
      "Getting Grid Step Size\n",
      "Building X matrix\n",
      "Calculating Adjoints...\n",
      "19/20 \n",
      "Calculating Phis...\n",
      "199/200 \n",
      "Calculating SS\n",
      "Inverting SS\n",
      "Computing meanZ\n",
      "Done\n",
      "[ 0.28071458  3.71119077 -0.66922532] 2.0615152858756348e-05 1.80738026972694e-08\n",
      "Getting Grid Step Size\n",
      "Building X matrix\n",
      "Calculating Adjoints...\n",
      "19/20 \n",
      "Calculating Phis...\n",
      "199/200 \n",
      "Calculating SS\n",
      "Inverting SS\n",
      "Computing meanZ\n",
      "Done\n",
      "[ 0.27921604  3.70407363 -0.66766456] 2.0597339540606165e-05 1.7813318150183485e-08\n",
      "Getting Grid Step Size\n",
      "Building X matrix\n",
      "Calculating Adjoints...\n",
      "19/20 \n",
      "Calculating Phis...\n",
      "199/200 \n",
      "Calculating SS\n",
      "Inverting SS\n",
      "Computing meanZ\n",
      "Done\n",
      "[ 0.27773634  3.69700778 -0.66611687] 2.057978099145595e-05 1.7558549150216142e-08\n",
      "Getting Grid Step Size\n",
      "Building X matrix\n",
      "Calculating Adjoints...\n",
      "19/20 \n",
      "Calculating Phis...\n",
      "199/200 \n",
      "Calculating SS\n",
      "Inverting SS\n",
      "Computing meanZ\n",
      "Done\n",
      "[ 0.27627509  3.68999254 -0.66458207] 2.056247165428228e-05 1.730933717366729e-08\n",
      "Getting Grid Step Size\n",
      "Building X matrix\n",
      "Calculating Adjoints...\n",
      "19/20 \n",
      "Calculating Phis...\n",
      "199/200 \n",
      "Calculating SS\n",
      "Inverting SS\n",
      "Computing meanZ\n",
      "Done\n",
      "[ 0.27483192  3.68302724 -0.66305995] 2.0545406124203597e-05 1.7065530078684614e-08\n",
      "Getting Grid Step Size\n"
     ]
    },
    {
     "name": "stdout",
     "output_type": "stream",
     "text": [
      "Building X matrix\n",
      "Calculating Adjoints...\n",
      "19/20 \n",
      "Calculating Phis...\n",
      "199/200 \n",
      "Calculating SS\n",
      "Inverting SS\n",
      "Computing meanZ\n",
      "Done\n",
      "[ 0.27340649  3.67611126 -0.66155033] 2.0528579142139455e-05 1.6826982064141818e-08\n",
      "Getting Grid Step Size\n",
      "Building X matrix\n",
      "Calculating Adjoints...\n",
      "19/20 \n",
      "Calculating Phis...\n",
      "199/200 \n",
      "Calculating SS\n",
      "Inverting SS\n",
      "Computing meanZ\n",
      "Done\n",
      "[ 0.27199845  3.66924397 -0.66005304] 2.0511985588619446e-05 1.659355352000855e-08\n",
      "Getting Grid Step Size\n",
      "Building X matrix\n",
      "Calculating Adjoints...\n",
      "19/20 \n",
      "Calculating Phis...\n",
      "199/200 \n",
      "Calculating SS\n",
      "Inverting SS\n",
      "Computing meanZ\n",
      "Done\n",
      "[ 0.27060746  3.66242479 -0.65856788] 2.0495620477801015e-05 1.6365110818431427e-08\n",
      "Getting Grid Step Size\n",
      "Building X matrix\n",
      "Calculating Adjoints...\n",
      "19/20 \n",
      "Calculating Phis...\n",
      "199/200 \n",
      "Calculating SS\n",
      "Inverting SS\n",
      "Computing meanZ\n",
      "Done\n",
      "[ 0.26923319  3.65565313 -0.65709471] 2.04794789514068e-05 1.6141526394215712e-08\n",
      "Getting Grid Step Size\n",
      "Building X matrix\n",
      "Calculating Adjoints...\n",
      "19/20 \n",
      "Calculating Phis...\n",
      "199/200 \n",
      "Calculating SS\n",
      "Inverting SS\n",
      "Computing meanZ\n",
      "Done\n",
      "[ 0.26787532  3.64892847 -0.65563334] 2.046355627309181e-05 1.592267831498998e-08\n",
      "Getting Grid Step Size\n",
      "Building X matrix\n",
      "Calculating Adjoints...\n",
      "19/20 \n",
      "Calculating Phis...\n",
      "199/200 \n",
      "Calculating SS\n",
      "Inverting SS\n",
      "Computing meanZ\n",
      "Done\n",
      "[ 0.26653354  3.64225029 -0.65418363] 2.0447847822852707e-05 1.57084502391018e-08\n",
      "Getting Grid Step Size\n",
      "Building X matrix\n",
      "Calculating Adjoints...\n",
      "19/20 \n",
      "Calculating Phis...\n",
      "199/200 \n",
      "Calculating SS\n",
      "Inverting SS\n",
      "Computing meanZ\n",
      "Done\n",
      "[ 0.26520754  3.63561809 -0.65274542] 2.0432349092026245e-05 1.5498730826462274e-08\n",
      "Getting Grid Step Size\n",
      "Building X matrix\n",
      "Calculating Adjoints...\n",
      "19/20 \n",
      "Calculating Phis...\n",
      "199/200 \n",
      "Calculating SS\n",
      "Inverting SS\n",
      "Computing meanZ\n",
      "Done\n",
      "[ 0.26389704  3.62903141 -0.65131858] 2.0417055678976547e-05 1.5293413049698195e-08\n",
      "Getting Grid Step Size\n",
      "Building X matrix\n",
      "Calculating Adjoints...\n",
      "19/20 \n",
      "Calculating Phis...\n",
      "199/200 \n",
      "Calculating SS\n",
      "Inverting SS\n",
      "Computing meanZ\n",
      "Done\n",
      "[ 0.26260698  3.62242564 -0.64989279] 2.040196089642711e-05 1.5094782549436385e-08\n",
      "Getting Grid Step Size\n",
      "Building X matrix\n",
      "Calculating Adjoints...\n",
      "19/20 \n",
      "Calculating Phis...\n",
      "199/200 \n",
      "Calculating SS\n",
      "Inverting SS\n",
      "Computing meanZ\n",
      "Done\n",
      "[ 0.26133195  3.61585798 -0.64847698] 2.0387209169489448e-05 1.4751726937662783e-08\n",
      "Getting Grid Step Size\n",
      "Building X matrix\n",
      "Calculating Adjoints...\n",
      "19/20 \n",
      "Calculating Phis...\n",
      "199/200 \n",
      "Calculating SS\n",
      "Inverting SS\n",
      "Computing meanZ\n",
      "Done\n",
      "[ 0.26007154  3.60932938 -0.64707122] 2.0372657472029697e-05 1.4551697459750263e-08\n",
      "Getting Grid Step Size\n",
      "Building X matrix\n",
      "Calculating Adjoints...\n",
      "19/20 \n",
      "Calculating Phis...\n",
      "199/200 \n",
      "Calculating SS\n",
      "Inverting SS\n",
      "Computing meanZ\n",
      "Done\n",
      "[ 0.2588258   3.60283174 -0.64567412] 2.0358298023742912e-05 1.4359448286785544e-08\n",
      "Getting Grid Step Size\n",
      "Building X matrix\n",
      "Calculating Adjoints...\n",
      "19/20 \n",
      "Calculating Phis...\n",
      "199/200 \n",
      "Calculating SS\n",
      "Inverting SS\n",
      "Computing meanZ\n",
      "Done\n",
      "[ 0.25759332  3.59638431 -0.64428906] 2.0344136760917932e-05 1.4161262824979691e-08\n",
      "Getting Grid Step Size\n",
      "Building X matrix\n",
      "Calculating Adjoints...\n",
      "19/20 \n",
      "Calculating Phis...\n",
      "199/200 \n",
      "Calculating SS\n",
      "Inverting SS\n",
      "Computing meanZ\n",
      "Done\n",
      "[ 0.25637444  3.58997461 -0.64291327] 2.033013842334573e-05 1.3998337572202515e-08\n",
      "Getting Grid Step Size\n",
      "Building X matrix\n",
      "Calculating Adjoints...\n",
      "19/20 \n",
      "Calculating Phis...\n",
      "199/200 \n",
      "Calculating SS\n",
      "Inverting SS\n",
      "Computing meanZ\n",
      "Done\n",
      "[ 0.25516858  3.58361344 -0.64154886] 2.0316317673668936e-05 1.3820749676794113e-08\n",
      "Getting Grid Step Size\n",
      "Building X matrix\n",
      "Calculating Adjoints...\n",
      "19/20 \n",
      "Calculating Phis...\n",
      "199/200 \n",
      "Calculating SS\n",
      "Inverting SS\n",
      "Computing meanZ\n",
      "Done\n",
      "[ 0.25397563  3.57729886 -0.64019547] 2.0302655089262336e-05 1.3662584406599725e-08\n",
      "Getting Grid Step Size\n",
      "Building X matrix\n",
      "Calculating Adjoints...\n",
      "19/20 \n",
      "Calculating Phis...\n",
      "199/200 \n",
      "Calculating SS\n",
      "Inverting SS\n",
      "Computing meanZ\n",
      "Done\n",
      "[ 0.25279537  3.57103048 -0.63885298] 2.0289150934364404e-05 1.350415489793157e-08\n",
      "Getting Grid Step Size\n",
      "Building X matrix\n",
      "Calculating Adjoints...\n",
      "19/20 \n",
      "Calculating Phis...\n",
      "199/200 \n",
      "Calculating SS\n",
      "Inverting SS\n",
      "Computing meanZ\n",
      "Done\n",
      "[ 0.25162758  3.56480786 -0.63752125] 2.0275802175951324e-05 1.3348758413080596e-08\n",
      "Getting Grid Step Size\n",
      "Building X matrix\n",
      "Calculating Adjoints...\n",
      "19/20 \n",
      "Calculating Phis...\n",
      "199/200 \n",
      "Calculating SS\n",
      "Inverting SS\n",
      "Computing meanZ\n",
      "Done\n",
      "[ 0.25047208  3.55863054 -0.63620017] 2.0262605937209595e-05 1.3196238741729227e-08\n",
      "Getting Grid Step Size\n",
      "Building X matrix\n",
      "Calculating Adjoints...\n",
      "19/20 \n",
      "Calculating Phis...\n",
      "199/200 \n",
      "Calculating SS\n",
      "Inverting SS\n",
      "Computing meanZ\n",
      "Done\n",
      "[ 0.24932866  3.55249806 -0.63488962] 2.0249559504058205e-05 1.3046433151389251e-08\n",
      "Getting Grid Step Size\n",
      "Building X matrix\n",
      "Calculating Adjoints...\n",
      "19/20 \n",
      "Calculating Phis...\n",
      "199/200 \n",
      "Calculating SS\n",
      "Inverting SS\n",
      "Computing meanZ\n",
      "Done\n",
      "[ 0.24819714  3.54640989 -0.63358946] 2.0236660330629122e-05 1.2899173429082943e-08\n",
      "Getting Grid Step Size\n",
      "Building X matrix\n",
      "Calculating Adjoints...\n",
      "19/20 \n",
      "Calculating Phis...\n",
      "199/200 \n",
      "Calculating SS\n",
      "Inverting SS\n",
      "Computing meanZ\n",
      "Done\n",
      "[ 0.24707734  3.54036547 -0.63229955] 2.0223906043081798e-05 1.275428754732473e-08\n",
      "Getting Grid Step Size\n",
      "Building X matrix\n",
      "Calculating Adjoints...\n",
      "19/20 \n",
      "Calculating Phis...\n",
      "199/200 \n",
      "Calculating SS\n",
      "Inverting SS\n",
      "Computing meanZ\n",
      "Done\n",
      "[ 0.2459691   3.5343642  -0.63101975] 2.021129444062063e-05 1.2611602461166287e-08\n",
      "Getting Grid Step Size\n",
      "Building X matrix\n",
      "Calculating Adjoints...\n",
      "19/20 \n",
      "Calculating Phis...\n",
      "199/200 \n",
      "Calculating SS\n",
      "Inverting SS\n",
      "Computing meanZ\n",
      "Done\n",
      "[ 0.24487226  3.52840541 -0.62974991] 2.019882349324555e-05 1.2470947375080641e-08\n",
      "Getting Grid Step Size\n",
      "Building X matrix\n",
      "Calculating Adjoints...\n",
      "19/20 \n",
      "Calculating Phis...\n",
      "199/200 \n",
      "Calculating SS\n",
      "Inverting SS\n",
      "Computing meanZ\n",
      "Done\n",
      "[ 0.24378665  3.5224884  -0.62848987] 2.0186491335228945e-05 1.233215801660592e-08\n",
      "Getting Grid Step Size\n",
      "Building X matrix\n",
      "Calculating Adjoints...\n",
      "19/20 \n",
      "Calculating Phis...\n",
      "199/200 \n",
      "Calculating SS\n",
      "Inverting SS\n",
      "Computing meanZ\n",
      "Done\n",
      "[ 0.24271215  3.51661238 -0.62723947] 2.0174296254053567e-05 1.219508117537808e-08\n",
      "Getting Grid Step Size\n",
      "Building X matrix\n",
      "Calculating Adjoints...\n",
      "19/20 \n",
      "Calculating Phis...\n",
      "199/200 \n",
      "Calculating SS\n",
      "Inverting SS\n",
      "Computing meanZ\n",
      "Done\n",
      "[ 0.2416486   3.51077654 -0.62599853] 2.0162236674245016e-05 1.2059579808550836e-08\n",
      "Getting Grid Step Size\n",
      "Building X matrix\n",
      "Calculating Adjoints...\n",
      "19/20 \n",
      "Calculating Phis...\n",
      "199/200 \n",
      "Calculating SS\n",
      "Inverting SS\n",
      "Computing meanZ\n",
      "Done\n",
      "[ 0.24060078  3.50491771 -0.62475704] 2.015030886760199e-05 1.1927806643024331e-08\n",
      "Getting Grid Step Size\n",
      "Building X matrix\n",
      "Calculating Adjoints...\n",
      "19/20 \n",
      "Calculating Phis...\n",
      "199/200 \n",
      "Calculating SS\n",
      "Inverting SS\n",
      "Computing meanZ\n",
      "Done\n",
      "[ 0.23956443  3.49907321 -0.62352059] 2.013864744387122e-05 1.1661423730771495e-08\n",
      "Getting Grid Step Size\n",
      "Building X matrix\n",
      "Calculating Adjoints...\n",
      "19/20 \n",
      "Calculating Phis...\n",
      "199/200 \n",
      "Calculating SS\n",
      "Inverting SS\n",
      "Computing meanZ\n",
      "Done\n",
      "[ 0.23853846  3.49326499 -0.6222938 ] 2.0127142790173537e-05 1.1504653697682888e-08\n",
      "Getting Grid Step Size\n",
      "Building X matrix\n",
      "Calculating Adjoints...\n",
      "19/20 \n",
      "Calculating Phis...\n",
      "199/200 \n",
      "Calculating SS\n",
      "Inverting SS\n",
      "Computing meanZ\n",
      "Done\n",
      "[ 0.23752279  3.4874919  -0.62107531] 2.011576710796669e-05 1.1375682206847239e-08\n",
      "Getting Grid Step Size\n",
      "Building X matrix\n",
      "Calculating Adjoints...\n",
      "19/20 \n",
      "Calculating Phis...\n",
      "199/200 \n",
      "Calculating SS\n",
      "Inverting SS\n",
      "Computing meanZ\n",
      "Done\n",
      "[ 0.23651723  3.4817537  -0.61986512] 2.0104519440111383e-05 1.1247667855306982e-08\n",
      "Getting Grid Step Size\n",
      "Building X matrix\n",
      "Calculating Adjoints...\n",
      "19/20 \n",
      "Calculating Phis...\n",
      "199/200 \n",
      "Calculating SS\n",
      "Inverting SS\n",
      "Computing meanZ\n",
      "Done\n",
      "[ 0.23552162  3.47605015 -0.61866283] 2.0093400003508556e-05 1.1119436602826971e-08\n",
      "Getting Grid Step Size\n",
      "Building X matrix\n",
      "Calculating Adjoints...\n",
      "19/20 \n",
      "Calculating Phis...\n",
      "199/200 \n",
      "Calculating SS\n",
      "Inverting SS\n",
      "Computing meanZ\n",
      "Done\n",
      "[ 0.23453575  3.47038131 -0.61746865] 2.008240425288787e-05 1.099575062068586e-08\n",
      "Getting Grid Step Size\n",
      "Building X matrix\n",
      "Calculating Adjoints...\n",
      "19/20 \n",
      "Calculating Phis...\n",
      "199/200 \n",
      "Calculating SS\n",
      "Inverting SS\n",
      "Computing meanZ\n",
      "Done\n",
      "[ 0.23355945  3.46474726 -0.61628244] 2.0071530019980404e-05 1.0874232907466091e-08\n",
      "Getting Grid Step Size\n",
      "Building X matrix\n",
      "Calculating Adjoints...\n"
     ]
    },
    {
     "name": "stdout",
     "output_type": "stream",
     "text": [
      "19/20 \n",
      "Calculating Phis...\n",
      "199/200 \n",
      "Calculating SS\n",
      "Inverting SS\n",
      "Computing meanZ\n",
      "Done\n",
      "[ 0.23259249  3.45914827 -0.6151044 ] 2.0060772570874964e-05 1.0757449105439597e-08\n",
      "Getting Grid Step Size\n",
      "Building X matrix\n",
      "Calculating Adjoints...\n",
      "19/20 \n",
      "Calculating Phis...\n",
      "199/200 \n",
      "Calculating SS\n",
      "Inverting SS\n",
      "Computing meanZ\n",
      "Done\n",
      "[ 0.23163474  3.45358391 -0.61393448] 2.005012811538532e-05 1.0644455489643021e-08\n",
      "Getting Grid Step Size\n",
      "Building X matrix\n",
      "Calculating Adjoints...\n",
      "19/20 \n",
      "Calculating Phis...\n",
      "199/200 \n",
      "Calculating SS\n",
      "Inverting SS\n",
      "Computing meanZ\n",
      "Done\n",
      "[ 0.23068645  3.44804947 -0.61277191] 2.0039594897315477e-05 1.0533218069844804e-08\n",
      "Getting Grid Step Size\n",
      "Building X matrix\n",
      "Calculating Adjoints...\n",
      "19/20 \n",
      "Calculating Phis...\n",
      "199/200 \n",
      "Calculating SS\n",
      "Inverting SS\n",
      "Computing meanZ\n",
      "Done\n",
      "[ 0.22974746  3.4425447  -0.61161662] 2.0029180747502046e-05 1.0414149813430635e-08\n",
      "Getting Grid Step Size\n",
      "Building X matrix\n",
      "Calculating Adjoints...\n",
      "19/20 \n",
      "Calculating Phis...\n",
      "199/200 \n",
      "Calculating SS\n",
      "Inverting SS\n",
      "Computing meanZ\n",
      "Done\n",
      "[ 0.22881763  3.43706935 -0.61046854] 2.001888351262132e-05 1.0297234880725858e-08\n",
      "Getting Grid Step Size\n",
      "Building X matrix\n",
      "Calculating Adjoints...\n",
      "19/20 \n",
      "Calculating Phis...\n",
      "199/200 \n",
      "Calculating SS\n",
      "Inverting SS\n",
      "Computing meanZ\n",
      "Done\n",
      "[ 0.22789677  3.4316235  -0.60932793] 2.000869870582246e-05 1.0184806798860138e-08\n",
      "Getting Grid Step Size\n",
      "Building X matrix\n",
      "Calculating Adjoints...\n",
      "19/20 \n",
      "Calculating Phis...\n",
      "199/200 \n",
      "Calculating SS\n",
      "Inverting SS\n",
      "Computing meanZ\n",
      "Done\n",
      "[ 0.2269847   3.42620727 -0.60819506] 1.9998621186365015e-05 1.0077519457444797e-08\n",
      "Getting Grid Step Size\n",
      "Building X matrix\n",
      "Calculating Adjoints...\n",
      "19/20 \n",
      "Calculating Phis...\n",
      "199/200 \n",
      "Calculating SS\n",
      "Inverting SS\n",
      "Computing meanZ\n",
      "Done\n"
     ]
    }
   ],
   "source": [
    "x = np.array([0.8,5,-1])\n",
    "xs = []\n",
    "funvalue = []\n",
    "#x = np.array([u,eta,k_0])\n",
    "mInfer = Model(resolution=res,boundary=boundary,N_feat=N_feat,noiseSD=noiseSD,kernel=kInverse,sensormodel=sensors,k_0=x[2],u=x[0],eta=x[1]) #Initiate new model for inference\n",
    "for i in range(5000):\n",
    "    mInfer.k0=x[2]\n",
    "    mInfer.u=x[0]\n",
    "    mInfer.eta=x[1]\n",
    "    mInfer.computeModelRegressors() # Compute regressor matrix \n",
    "    meanZ, covZ = mInfer.computeZDistribution(yTrain) # Infers z vector mean and covariance using regressor matrix\n",
    "    sourceInfer = mInfer.computeSourceFromPhi(meanZ) # Generates estimated source using mean of the inferred distribution\n",
    "    concInfer=mInfer.computeConcentration(sourceInfer) # Generates estimated concentration from inferred source\n",
    "    dmH=np.array([np.gradient(concInfer,dt[0])/x[2],concInfer/x[2],(-x[0]*np.gradient(concInfer,dt[0])-x[1]*concInfer+sourceInfer)/(x[2]**2)])\n",
    "    result = minimize(FullCost, x, method='BFGS', jac=FullDeriv,args=(mInfer,yTrain,tlocL,sourceInfer),tol=1e-8)\n",
    "    x = result.x\n",
    "    xs.append(x)\n",
    "    funvalue.append(result.fun)\n",
    "    if i>1 and np.abs(funvalue[i]-funvalue[i-1]) < 1e-8:\n",
    "        break \n",
    "    print(x,result.fun,np.abs(funvalue[i]-funvalue[i-1]))\n",
    "    "
   ]
  },
  {
   "cell_type": "code",
   "execution_count": 150,
   "id": "60142ff3",
   "metadata": {},
   "outputs": [
    {
     "data": {
      "image/png": "[encoded data removed]",
      "text/plain": [
       "<Figure size 360x360 with 1 Axes>"
      ]
     },
     "metadata": {
      "needs_background": "light"
     },
     "output_type": "display_data"
    }
   ],
   "source": [
    "plt.plot(xs);"
   ]
  },
  {
   "cell_type": "code",
   "execution_count": 151,
   "id": "e419b0af",
   "metadata": {},
   "outputs": [
    {
     "data": {
      "image/png": "[encoded data removed]",
      "text/plain": [
       "<Figure size 360x360 with 1 Axes>"
      ]
     },
     "metadata": {
      "needs_background": "light"
     },
     "output_type": "display_data"
    }
   ],
   "source": [
    "plt.plot(funvalue);"
   ]
  },
  {
   "cell_type": "code",
   "execution_count": 153,
   "id": "567bc4b6",
   "metadata": {},
   "outputs": [
    {
     "data": {
      "image/png": "[encoded data removed]",
      "text/plain": [
       "<Figure size 360x360 with 1 Axes>"
      ]
     },
     "metadata": {
      "needs_background": "light"
     },
     "output_type": "display_data"
    },
    {
     "data": {
      "image/png": "[encoded data removed]",
      "text/plain": [
       "<Figure size 360x360 with 1 Axes>"
      ]
     },
     "metadata": {
      "needs_background": "light"
     },
     "output_type": "display_data"
    }
   ],
   "source": [
    "source_samples = []\n",
    "conc_samples=[]    \n",
    "for z_samp in np.random.multivariate_normal(meanZ, covZ,200):\n",
    "    source_samples.append(mInfer.computeSourceFromPhi(z_samp))\n",
    "    conc_samples.append(mInfer.computeConcentration(mInfer.computeSourceFromPhi(z_samp)))\n",
    "source_samples=np.array(source_samples)\n",
    "conc_samples=np.array(conc_samples)\n",
    "\n",
    "source_lower_ci = np.percentile(source_samples,2.5,0)\n",
    "source_upper_ci = np.percentile(source_samples,97.5,0)\n",
    "source_mean = np.percentile(source_samples,50,0)\n",
    "\n",
    "conc_lower_ci = np.percentile(conc_samples,2.5,0)\n",
    "conc_upper_ci = np.percentile(conc_samples,97.5,0)\n",
    "conc_mean = np.percentile(conc_samples,50,0)\n",
    "\n",
    "xtest=np.arange(Nt)\n",
    "\n",
    "#plt.figure(figsize=(15, 10))\n",
    "\n",
    "plt.plot(xtest,sourceInfer,'b-')\n",
    "plt.plot(xtest,sourceGT,'r--')\n",
    "\n",
    "#plt.plot(xtest,source_samples.T,'g-',alpha=0.3)\n",
    "#plt.fill_between(xtest,s_z_l,s_z_upper,alpha=0.5)\n",
    "plt.fill_between(xtest,source_lower_ci,source_upper_ci,alpha=0.5)\n",
    "plt.legend(labels=[\"estimated source term\",\"True source term\"])\n",
    "plt.title(\"Source function \")\n",
    "plt.xlabel(\"Input, t\")\n",
    "plt.ylabel(\"output, f(t)\")\n",
    "#plt.ylim([-5,5])\n",
    "plt.savefig('NumberFeature%d.pdf' % N_feat)\n",
    "plt.show()\n",
    "\n",
    "#plt.figure(figsize=(15, 10))\n",
    "\n",
    "plt.plot(xtest,concInfer,'b-')\n",
    "plt.plot(xtest,concTrain,'r--')\n",
    "\n",
    "#plt.plot(xtest,source_samples.T,'g-',alpha=0.3)\n",
    "#plt.fill_between(xtest,s_z_l,s_z_upper,alpha=0.5)\n",
    "plt.fill_between(xtest,conc_lower_ci,conc_upper_ci,alpha=0.5)\n",
    "plt.legend(labels=[\"estimated concentration\",\"True concentration\"])\n",
    "plt.title(\"Concentration\")\n",
    "plt.xlabel(\"Input, t\")\n",
    "plt.ylabel(\"output, f(t)\")\n",
    "#plt.ylim([-5,5])\n",
    "plt.savefig('NumberFeature%d.pdf' % N_feat)\n",
    "plt.show()"
   ]
  },
  {
   "cell_type": "code",
   "execution_count": null,
   "id": "fd8eaf4b",
   "metadata": {},
   "outputs": [],
   "source": []
  },
  {
   "cell_type": "code",
   "execution_count": null,
   "id": "7d02a8a5",
   "metadata": {
    "scrolled": true
   },
   "outputs": [],
   "source": [
    "np.sum((m.computeConcentration(sourceGT)-mInfer.computeConcentration(sourceInfer))**2)/200"
   ]
  },
  {
   "cell_type": "code",
   "execution_count": null,
   "id": "c9ff169c",
   "metadata": {},
   "outputs": [],
   "source": [
    "plt.plot(mInfer.computeConcentration(sourceInfer))"
   ]
  },
  {
   "cell_type": "code",
   "execution_count": null,
   "id": "bdf7f082",
   "metadata": {},
   "outputs": [],
   "source": [
    "mInfer.k_0"
   ]
  },
  {
   "cell_type": "code",
   "execution_count": 94,
   "id": "8755322f",
   "metadata": {},
   "outputs": [],
   "source": [
    "def getdPhiDerivative1D(model,coords):\n",
    "    \"\"\"\n",
    "    Generates a (N_feat,Nt) matrix of basis vectors using features from generateFeatures \n",
    "    Arguments:\n",
    "        coords: map of all (t) points in the grid\n",
    "    \"\"\"\n",
    "    assert model.kernel.W is not None, \"Need to call generateFeatures before computing phi.\"\n",
    "    norm = 1./np.sqrt(model.kernel.N_feat)\n",
    "\n",
    "    #We assume that we are using the e^-(1/2 * x^2/l^2) definition of the EQ kernel,\n",
    "    #(in Mauricio's definition he doesn't use the 1/2 factor - but that's less standard).\n",
    "    #c=np.sqrt(2.0)/(self.l2)\n",
    "    c=1/(model.kernel.l2)\n",
    "    for w,b in zip(model.kernel.W,model.kernel.b):\n",
    "        dphi=w*np.array(coords)*(c**2)*norm*np.sqrt(2*model.kernel.sigma2)*np.sin((c*w*np.array(coords))+b)\n",
    "        yield dphi"
   ]
  },
  {
   "cell_type": "code",
   "execution_count": 95,
   "id": "ae4a0b1f",
   "metadata": {},
   "outputs": [],
   "source": [
    "def computeSourceDerivative(model,z,coords=None):\n",
    "        \"\"\"\n",
    "        uses getPhi from the kernel and a given z vector to generate a source function     \n",
    "        set coords to a matrix: (3 x Grid Resolution), e.g. (3, 300, 80, 80)\n",
    "                e.g. coords=np.asarray(np.meshgrid(tt,xx,yy,indexing='ij'))\n",
    "        \n",
    "        \"\"\"\n",
    "        if coords is None: coords = model.coords\n",
    "        resolution = np.array(coords.shape[0:])\n",
    "        source = np.zeros(resolution) \n",
    "        \n",
    "        for i,dphi in enumerate(getdPhiDerivative1D(model,model.coords)):\n",
    "            source += dphi*z[i]\n",
    "        \n",
    "        return source"
   ]
  },
  {
   "cell_type": "code",
   "execution_count": 96,
   "id": "ca8e0e51",
   "metadata": {},
   "outputs": [],
   "source": [
    "def d_mLLambda(l,model,obs,tloc,z):\n",
    "    \n",
    "    # change parameters in model object\n",
    "    model.kernel.l2=l \n",
    "\n",
    "    \n",
    "    # calculate useful valyes\n",
    "    dt,dt2,Nt = model.getGridStepSize()\n",
    "    source=model.computeSourceFromPhi(z)\n",
    "    # compute concentration with new parameters\n",
    "    conc=model.computeConcentration(source)\n",
    "    \n",
    "    #compute cost derivative and cost\n",
    "    dc=dcost(obs,tloc,conc,model)\n",
    "    c=cost(obs,tloc,conc,model)\n",
    "    \n",
    "    # derivative of h operator with respect to parameters\n",
    "    \n",
    "    dmH=-computeSourceDerivative(model,z)/model.k_0\n",
    "\n",
    "    # compute and calculate Lagrangian derivative integral\n",
    "    integrand = -computeGradientAdjoint(dc,model)*dmH.T\n",
    "    L_m = np.trapz(integrand,dx=dt)\n",
    "    #L_m = np.sum(integrand)*dt #alternate calculation using naive numerical integration\n",
    "    return L_m, dc,c\n"
   ]
  },
  {
   "cell_type": "code",
   "execution_count": 97,
   "id": "1ca73408",
   "metadata": {},
   "outputs": [],
   "source": [
    "mInfer.kernel.l2=3\n",
    "\n",
    "\n",
    "# calculate useful valyes\n",
    "dt,dt2,Nt = mInfer.getGridStepSize()\n",
    "source=mInfer.computeSourceFromPhi(z)\n",
    "# compute concentration with new parameters\n",
    "conc=mInfer.computeConcentration(source)\n",
    "\n",
    "#compute cost derivative and cost\n",
    "dc=dcost(yTrain,tlocL,conc,mInfer)\n",
    "#c=cost(obs,tloc,conc,mInfer)\n",
    "\n",
    "# derivative of h operator with respect to parameters\n",
    "\n",
    "dmH=-computeSourceDerivative(mInfer,meanZ)/mInfer.k_0\n",
    "\n",
    "# compute and calculate Lagrangian derivative integral\n",
    "integrand = computeGradientAdjoint(dc,mInfer)*dmH.T\n",
    "L_m = np.trapz(integrand,dx=dt)"
   ]
  },
  {
   "cell_type": "code",
   "execution_count": 98,
   "id": "bb2ec89f",
   "metadata": {},
   "outputs": [
    {
     "data": {
      "text/plain": [
       "array([[ 0.        ,  0.00504725,  0.01013435,  0.01525999,  0.02042283,\n",
       "         0.0256215 ,  0.03085461,  0.03612074,  0.04141845,  0.04674628,\n",
       "         0.05210274,  0.0574863 ,  0.06289543,  0.06832857,  0.07378412,\n",
       "         0.07926048,  0.08475601,  0.09026906,  0.09579795,  0.10134099,\n",
       "         0.10689644,  0.11246257,  0.11803762,  0.1236198 ,  0.12920732,\n",
       "         0.13479835,  0.14039104,  0.14598356,  0.15157401,  0.1571605 ,\n",
       "         0.16274113,  0.16831396,  0.17387706,  0.17942847,  0.18496622,\n",
       "         0.19048831,  0.19599275,  0.20147752,  0.2069406 ,  0.21237996,\n",
       "         0.21779353,  0.22317926,  0.22853509,  0.23385892,  0.23914867,\n",
       "         0.24440225,  0.24961755,  0.25479245,  0.25992484,  0.26501259,\n",
       "         0.27005358,  0.27504567,  0.27998672,  0.2848746 ,  0.28970715,\n",
       "         0.29448224,  0.29919772,  0.30385145,  0.30844127,  0.31296505,\n",
       "         0.31742065,  0.32180592,  0.32611873,  0.33035695,  0.33451845,\n",
       "         0.33860111,  0.34260282,  0.34652147,  0.35035495,  0.35410119,\n",
       "         0.3577581 ,  0.36132361,  0.36479565,  0.36817219,  0.37145118,\n",
       "         0.37463061,  0.37770846,  0.38068275,  0.38355149,  0.38631273,\n",
       "         0.38896453,  0.39150496,  0.39393211,  0.39624409,  0.39843905,\n",
       "         0.40051513,  0.40247052,  0.40430341,  0.40601203,  0.40759462,\n",
       "         0.40904946,  0.41037484,  0.4115691 ,  0.41263058,  0.41355767,\n",
       "         0.41434878,  0.41500233,  0.41551682,  0.41589073,  0.41612259,\n",
       "         0.41621099,  0.4161545 ,  0.41595177,  0.41560145,  0.41510227,\n",
       "         0.41445294,  0.41365226,  0.41269903,  0.4115921 ,  0.41033036,\n",
       "         0.40891274,  0.40733821,  0.40560578,  0.40371451,  0.40166348,\n",
       "         0.39945183,  0.39707874,  0.39454343,  0.39184517,  0.38898327,\n",
       "         0.38595709,  0.38276603,  0.37940953,  0.37588711,  0.37219829,\n",
       "         0.36834267,  0.3643199 ,  0.36012965,  0.35577168,  0.35124575,\n",
       "         0.34655173,  0.34168948,  0.33665896,  0.33146015,  0.3260931 ,\n",
       "         0.32055789,  0.31485469,  0.30898368,  0.30294512,  0.29673931,\n",
       "         0.29036662,  0.28382745,  0.27712228,  0.27025161,  0.26321604,\n",
       "         0.25601619,  0.24865274,  0.24112644,  0.23343807,  0.22558848,\n",
       "         0.21757859,  0.20940935,  0.20108177,  0.19259693,  0.18395594,\n",
       "         0.17516   ,  0.16621034,  0.15710824,  0.14785506,  0.1384522 ,\n",
       "         0.1289011 ,  0.1192033 ,  0.10936034,  0.09937385,  0.08924551,\n",
       "         0.07897704,  0.06857024,  0.05802692,  0.04734899,  0.0365384 ,\n",
       "         0.02559712,  0.01452722,  0.0033308 , -0.00799   , -0.01943297,\n",
       "        -0.03099584, -0.04267632, -0.05447205, -0.06638062, -0.07839957,\n",
       "        -0.09052641, -0.10275858, -0.11509347, -0.12752844, -0.1400608 ,\n",
       "        -0.1526878 , -0.16540665, -0.17821453, -0.19110857, -0.20408583,\n",
       "        -0.21714337, -0.23027817, -0.24348719, -0.25676734, -0.2701155 ,\n",
       "        -0.28352851, -0.29700315, -0.31053619, -0.32412435, -0.33776431,\n",
       "        -0.35145273, -0.36518622, -0.37896137, -0.39277472, -0.4066228 ,\n",
       "        -0.42050209, -0.43440905, -0.44834011, -0.46229168, -0.47626014,\n",
       "        -0.49024182, -0.50423306, -0.51823016, -0.53222939, -0.54622703,\n",
       "        -0.56021929, -0.5742024 , -0.58817257, -0.60212596, -0.61605876,\n",
       "        -0.6299671 , -0.64384713, -0.65769497, -0.67150673, -0.68527852,\n",
       "        -0.69900643, -0.71268655, -0.72631495, -0.7398877 , -0.75340088,\n",
       "        -0.76685056, -0.78023278, -0.79354362, -0.80677914, -0.81993541,\n",
       "        -0.83300848, -0.84599444, -0.85888936, -0.87168933, -0.88439042,\n",
       "        -0.89698876, -0.90948044, -0.92186159, -0.93412834, -0.94627685,\n",
       "        -0.95830328, -0.97020382, -0.98197465, -0.99361201, -1.00511213,\n",
       "        -1.01647127, -1.02768572, -1.03875178, -1.04966579, -1.06042411,\n",
       "        -1.07102313, -1.08145926, -1.09172896, -1.10182871, -1.111755  ,\n",
       "        -1.12150441, -1.13107349, -1.14045888, -1.14965723, -1.15866523,\n",
       "        -1.16747961, -1.17609716, -1.18451469, -1.19272907, -1.20073719,\n",
       "        -1.20853601, -1.21612252, -1.22349378, -1.23064688, -1.23757895,\n",
       "        -1.24428721, -1.25076889, -1.25702129, -1.26304178, -1.26882775,\n",
       "        -1.27437668, -1.27968609, -1.28475356, -1.28957672, -1.29415329,\n",
       "        -1.29848101, -1.30255771, -1.30638127, -1.30994964, -1.31326083,\n",
       "        -1.31631291, -1.31910403, -1.3216324 , -1.32389629, -1.32589403,\n",
       "        -1.32762405, -1.32908483, -1.33027491, -1.33119291, -1.33183752,\n",
       "        -1.33220752, -1.33230172, -1.33211905, -1.33165849, -1.33091908,\n",
       "        -1.32989995, -1.32860032, -1.32701946, -1.32515672, -1.32301154,\n",
       "        -1.32058342, -1.31787195, -1.31487678, -1.31159765, -1.30803437,\n",
       "        -1.30418684, -1.30005503, -1.29563897, -1.29093881, -1.28595474,\n",
       "        -1.28068704, -1.27513607, -1.26930227, -1.26318616, -1.25678833,\n",
       "        -1.25010946, -1.24315028, -1.23591164, -1.22839444, -1.22059967,\n",
       "        -1.21252838, -1.20418171, -1.19556089, -1.18666721, -1.17750202,\n",
       "        -1.1680668 , -1.15836304, -1.14839235, -1.13815641, -1.12765696,\n",
       "        -1.11689582, -1.10587489, -1.09459613, -1.08306159, -1.07127339,\n",
       "        -1.05923369, -1.04694477, -1.03440895, -1.02162862, -1.00860626,\n",
       "        -0.99534438, -0.9818456 , -0.96811258, -0.95414806, -0.93995483,\n",
       "        -0.92553576, -0.91089377, -0.89603186, -0.88095308, -0.86566054,\n",
       "        -0.85015741, -0.83444692, -0.81853237, -0.80241709, -0.7861045 ,\n",
       "        -0.76959805, -0.75290125, -0.73601767, -0.71895091, -0.70170466,\n",
       "        -0.68428262, -0.66668856, -0.6489263 , -0.63099968, -0.61291261,\n",
       "        -0.59466903, -0.57627294, -0.55772837, -0.53903938, -0.52021008,\n",
       "        -0.50124461, -0.48214716, -0.46292194, -0.4435732 , -0.42410522,\n",
       "        -0.40452231, -0.38482882, -0.3650291 , -0.34512755, -0.3251286 ,\n",
       "        -0.30503669, -0.28485628, -0.26459186, -0.24424793, -0.22382902,\n",
       "        -0.20333966, -0.18278443, -0.16216787, -0.14149458, -0.12076914,\n",
       "        -0.09999617, -0.07918025, -0.05832603, -0.0374381 , -0.0165211 ,\n",
       "         0.00442035,  0.02538161,  0.04635807,  0.06734511,  0.08833809,\n",
       "         0.10933242,  0.13032347,  0.15130665,  0.17227738,  0.19323107,\n",
       "         0.21416315,  0.23506908,  0.25594432,  0.27678434,  0.29758464,\n",
       "         0.31834075,  0.3390482 ,  0.35970254,  0.38029937,  0.4008343 ,\n",
       "         0.42130295,  0.441701  ,  0.46202412,  0.48226806,  0.50242855,\n",
       "         0.52250139,  0.5424824 ,  0.56236743,  0.58215237,  0.60183316,\n",
       "         0.62140576,  0.64086619,  0.6602105 ,  0.67943477,  0.69853515,\n",
       "         0.71750782,  0.73634901,  0.75505498,  0.77362206,  0.79204663,\n",
       "         0.8103251 ,  0.82845395,  0.84642969,  0.86424892,  0.88190825,\n",
       "         0.89940437,  0.91673403,  0.93389402,  0.9508812 ,  0.96769247,\n",
       "         0.98432482,  1.00077526,  1.0170409 ,  1.03311888,  1.04900642,\n",
       "         1.06470079,  1.08019933,  1.09549945,  1.11059862,  1.12549435,\n",
       "         1.14018426,  1.154666  ,  1.1689373 ,  1.18299595,  1.19683982,\n",
       "         1.21046684,  1.22387501,  1.23706238,  1.25002709,  1.26276735,\n",
       "         1.27528142,  1.28756764,  1.29962442,  1.31145025,  1.32304366,\n",
       "         1.33440328,  1.34552779,  1.35641595,  1.36706658,  1.37747858,\n",
       "         1.38765091,  1.39758262,  1.4072728 ,  1.41672062,  1.42592534,\n",
       "         1.43488625,  1.44360275,  1.45207428,  1.46030035,  1.46828055,\n",
       "         1.47601454,  1.48350203,  1.4907428 ,  1.49773672,  1.50448369]])"
      ]
     },
     "execution_count": 98,
     "metadata": {},
     "output_type": "execute_result"
    }
   ],
   "source": [
    "dmH.T"
   ]
  },
  {
   "cell_type": "code",
   "execution_count": 99,
   "id": "64b0efb6",
   "metadata": {
    "scrolled": true
   },
   "outputs": [],
   "source": [
    "reps=500\n",
    "\n",
    "# initialise outputs\n",
    "p=np.zeros((1,reps)) # parameters\n",
    "p2=np.zeros((1,reps)) # parameters\n",
    "d=np.zeros((1,reps-1)) # derivative\n",
    "dTest=np.zeros((1,reps-1)) # forward difference derivative approximation\n",
    "dTest2=np.zeros((1,reps-1)) # central difference derivative approximation\n",
    "Fc=np.zeros((1,reps-1)) # integrated cost function\n",
    "p[:,0]=3 # first parameter value]\n",
    "p2[:,0]=3 # first parameter value\n",
    "eps2=1e-10\n",
    "for i in range(reps-1):\n",
    "    l = p[:,i]\n",
    "    l2 = p2[:,i]\n",
    "    dmL, dc,c=d_mLLambda(l,mInfer,yTrain,tlocL,meanZ)\n",
    "    d[:,i]=dmL\n",
    "    p[:,i+1]=p[:,i]-1*dmL\n",
    "    \n",
    "    Fc[:,i] = sum(c)*dt\n",
    "    dmL2, dc2,c2=d_mLLambda(l2+eps2,mInfer,yTrain,tlocL,meanZ)\n",
    "    dmL3, dc3,c3=d_mLLambda(l2,mInfer,yTrain,tlocL,meanZ)\n",
    "    dmL4, dc4,c4=d_mLLambda(l+eps2,mInfer,yTrain,tlocL,meanZ)\n",
    "    #dmL3, dc3,c3=d_mL(k_01,u1,eta1+eps2,mInfer,yTrain,tlocL,sourceInfer)\n",
    "    #dmL4, dc4,c4=d_mL(k_01+eps2,u1,eta1,mInfer,yTrain,tlocL,sourceInfer)\n",
    "    # dmL5, dc5,c5=d_mL(dmH,k_01,u1-eps2,eta1,m,yTrain,tlocL,sourceInfer)\n",
    "    #dmL6, dc6,c6=d_mL(dmH,k_01,u1,eta1-eps2,m,yTrain,tlocL,sourceInfer)\n",
    "    # dmL7, dc7,c7=d_mL(dmH,k_01-eps2,u1,eta1,m,yTrain,tlocL,sourceInfer)\n",
    "    \n",
    "    #dTest[:,i:i+1] = (np.array((sum((c2))*dt-sum((c5))*dt,sum((c3))*dt-sum((c6))*dt,sum((c4))*dt-sum((c7))*dt)))/(2*eps2)\n",
    "    dTest2[:,i:i+1] = ((sum(c2)*dt)-(sum(c3)*dt))/(eps2)\n",
    "    dTest[:,i:i+1] = ((sum(c4)*dt)-(sum(c)*dt))/(eps2)\n",
    "    p2[:,i+1]=p2[:,i]-1*dTest2[:,i:i+1] "
   ]
  },
  {
   "cell_type": "code",
   "execution_count": 100,
   "id": "57f771e0",
   "metadata": {},
   "outputs": [
    {
     "data": {
      "text/plain": [
       "array([0.00024432])"
      ]
     },
     "execution_count": 100,
     "metadata": {},
     "output_type": "execute_result"
    }
   ],
   "source": [
    "dmL"
   ]
  },
  {
   "cell_type": "code",
   "execution_count": 101,
   "id": "9ef74979",
   "metadata": {
    "scrolled": true
   },
   "outputs": [
    {
     "data": {
      "text/plain": [
       "[<matplotlib.lines.Line2D at 0x238c3794850>]"
      ]
     },
     "execution_count": 101,
     "metadata": {},
     "output_type": "execute_result"
    },
    {
     "data": {
      "image/png": "[encoded data removed]",
      "text/plain": [
       "<Figure size 360x360 with 1 Axes>"
      ]
     },
     "metadata": {
      "needs_background": "light"
     },
     "output_type": "display_data"
    }
   ],
   "source": [
    "plt.plot(p.T)"
   ]
  },
  {
   "cell_type": "code",
   "execution_count": 102,
   "id": "4a1557d6",
   "metadata": {},
   "outputs": [
    {
     "data": {
      "text/plain": [
       "[<matplotlib.lines.Line2D at 0x238c37e3b80>]"
      ]
     },
     "execution_count": 102,
     "metadata": {},
     "output_type": "execute_result"
    },
    {
     "data": {
      "image/png": "[encoded data removed]",
      "text/plain": [
       "<Figure size 360x360 with 1 Axes>"
      ]
     },
     "metadata": {
      "needs_background": "light"
     },
     "output_type": "display_data"
    }
   ],
   "source": [
    "plt.plot(p2.T)"
   ]
  },
  {
   "cell_type": "code",
   "execution_count": 103,
   "id": "92f8ea96",
   "metadata": {
    "scrolled": false
   },
   "outputs": [
    {
     "data": {
      "text/plain": [
       "[<matplotlib.lines.Line2D at 0x238c3835eb0>]"
      ]
     },
     "execution_count": 103,
     "metadata": {},
     "output_type": "execute_result"
    },
    {
     "data": {
      "image/png": "[encoded data removed]",
      "text/plain": [
       "<Figure size 360x360 with 1 Axes>"
      ]
     },
     "metadata": {
      "needs_background": "light"
     },
     "output_type": "display_data"
    }
   ],
   "source": [
    "plt.plot(Fc.T)"
   ]
  },
  {
   "cell_type": "code",
   "execution_count": 104,
   "id": "19442c17",
   "metadata": {
    "scrolled": true
   },
   "outputs": [
    {
     "data": {
      "text/plain": [
       "[<matplotlib.lines.Line2D at 0x238c388e940>]"
      ]
     },
     "execution_count": 104,
     "metadata": {},
     "output_type": "execute_result"
    },
    {
     "data": {
      "image/png": "[encoded data removed]",
      "text/plain": [
       "<Figure size 360x360 with 1 Axes>"
      ]
     },
     "metadata": {
      "needs_background": "light"
     },
     "output_type": "display_data"
    }
   ],
   "source": [
    "plt.plot(d.T)"
   ]
  },
  {
   "cell_type": "code",
   "execution_count": 105,
   "id": "4796d935",
   "metadata": {},
   "outputs": [
    {
     "data": {
      "text/plain": [
       "[<matplotlib.lines.Line2D at 0x238c78aa6d0>]"
      ]
     },
     "execution_count": 105,
     "metadata": {},
     "output_type": "execute_result"
    },
    {
     "data": {
      "image/png": "[encoded data removed]",
      "text/plain": [
       "<Figure size 360x360 with 1 Axes>"
      ]
     },
     "metadata": {
      "needs_background": "light"
     },
     "output_type": "display_data"
    }
   ],
   "source": [
    "plt.plot(dTest.T)"
   ]
  },
  {
   "cell_type": "code",
   "execution_count": 106,
   "id": "a3729e3b",
   "metadata": {},
   "outputs": [
    {
     "data": {
      "text/plain": [
       "[<matplotlib.lines.Line2D at 0x238c373cf70>]"
      ]
     },
     "execution_count": 106,
     "metadata": {},
     "output_type": "execute_result"
    },
    {
     "data": {
      "image/png": "[encoded data removed]",
      "text/plain": [
       "<Figure size 360x360 with 1 Axes>"
      ]
     },
     "metadata": {
      "needs_background": "light"
     },
     "output_type": "display_data"
    }
   ],
   "source": [
    "plt.plot(dTest2.T)"
   ]
  },
  {
   "cell_type": "code",
   "execution_count": 107,
   "id": "4990eafc",
   "metadata": {},
   "outputs": [
    {
     "data": {
      "text/plain": [
       "1.7415479389645816e-10"
      ]
     },
     "execution_count": 107,
     "metadata": {},
     "output_type": "execute_result"
    }
   ],
   "source": [
    "np.mean(np.sum((dTest-d)**2))"
   ]
  },
  {
   "cell_type": "code",
   "execution_count": 108,
   "id": "ed545878",
   "metadata": {},
   "outputs": [
    {
     "data": {
      "text/plain": [
       "array([0.0085051])"
      ]
     },
     "execution_count": 108,
     "metadata": {},
     "output_type": "execute_result"
    }
   ],
   "source": [
    "sum(c2)*dt"
   ]
  },
  {
   "cell_type": "code",
   "execution_count": 109,
   "id": "d2d4f115",
   "metadata": {},
   "outputs": [
    {
     "name": "stdout",
     "output_type": "stream",
     "text": [
      "[0.00198357] [-0.01786641] [0.00905829]\n"
     ]
    }
   ],
   "source": [
    "dmL, dc,c=d_mLLambda(3,mInfer,yTrain,tlocL,meanZ)\n",
    "print(dmL,sum(dc)*dt,sum(c)*dt)"
   ]
  },
  {
   "cell_type": "code",
   "execution_count": 110,
   "id": "c5ed7bf6",
   "metadata": {},
   "outputs": [
    {
     "name": "stdout",
     "output_type": "stream",
     "text": [
      "[0.00198592] [-0.01786746] [0.00906027]\n"
     ]
    }
   ],
   "source": [
    "dmL2, dc2,c2=d_mLLambda(3+0.001,mInfer,yTrain,tlocL,meanZ)\n",
    "print(dmL2,sum(dc2)*dt,sum(c2)*dt)"
   ]
  },
  {
   "cell_type": "code",
   "execution_count": 111,
   "id": "6887eb6e",
   "metadata": {},
   "outputs": [
    {
     "data": {
      "text/plain": [
       "array([0.00198474])"
      ]
     },
     "execution_count": 111,
     "metadata": {},
     "output_type": "execute_result"
    }
   ],
   "source": [
    "(sum(c2)*dt-sum(c)*dt)/0.001"
   ]
  },
  {
   "cell_type": "code",
   "execution_count": 112,
   "id": "51926bb3",
   "metadata": {},
   "outputs": [
    {
     "data": {
      "text/plain": [
       "-1.0"
      ]
     },
     "execution_count": 112,
     "metadata": {},
     "output_type": "execute_result"
    }
   ],
   "source": [
    "mInfer.k_0"
   ]
  },
  {
   "cell_type": "code",
   "execution_count": 113,
   "id": "6011291f",
   "metadata": {},
   "outputs": [],
   "source": [
    "def FullCost(x,model,obs,tloc,z):\n",
    "    model.kernel.l2=x\n",
    "    dt,dt2,Nt = model.getGridStepSize()\n",
    "    source=model.computeSourceFromPhi(z)\n",
    "    # compute concentration with new parameters\n",
    "    conc=model.computeConcentration(source)\n",
    "    \n",
    "    #compute cost derivative and cost\n",
    "    dc=dcost(obs,tloc,conc,model)\n",
    "    c1=cost(obs,tloc,conc,model)\n",
    "    \n",
    "    c = np.sum(c1)*dt\n",
    "    \n",
    "    return c"
   ]
  },
  {
   "cell_type": "code",
   "execution_count": 115,
   "id": "a2ec2cde",
   "metadata": {},
   "outputs": [],
   "source": [
    "c = FullCost(2,mInfer,yTrain,tlocL,meanZ)"
   ]
  },
  {
   "cell_type": "code",
   "execution_count": 116,
   "id": "c5ec2151",
   "metadata": {},
   "outputs": [
    {
     "data": {
      "text/plain": [
       "array([0.00901379])"
      ]
     },
     "execution_count": 116,
     "metadata": {},
     "output_type": "execute_result"
    }
   ],
   "source": [
    "c"
   ]
  },
  {
   "cell_type": "code",
   "execution_count": 117,
   "id": "cf2ac068",
   "metadata": {},
   "outputs": [],
   "source": [
    "def FullDeriv(x,model,obs,tloc,source):\n",
    "    model.kernel.l2=x \n",
    "\n",
    "    \n",
    "    # calculate useful valyes\n",
    "    dt,dt2,Nt = model.getGridStepSize()\n",
    "    source=model.computeSourceFromPhi(z)\n",
    "    # compute concentration with new parameters\n",
    "    conc=model.computeConcentration(source)\n",
    "    \n",
    "    #compute cost derivative and cost\n",
    "    dc=dcost(obs,tloc,conc,model)\n",
    "    c=cost(obs,tloc,conc,model)\n",
    "    \n",
    "    # derivative of h operator with respect to parameters\n",
    "    \n",
    "    dmH=-computeSourceDerivative(model,z)/model.k_0\n",
    "\n",
    "    # compute and calculate Lagrangian derivative integral\n",
    "    integrand = -computeGradientAdjoint(dc,model)*dmH.T\n",
    "    L_m = np.trapz(integrand,dx=dt)\n",
    "    #L_m = np.sum(integrand)*dt\n",
    "    return L_m"
   ]
  },
  {
   "cell_type": "code",
   "execution_count": 118,
   "id": "5fa01a0b",
   "metadata": {
    "scrolled": true
   },
   "outputs": [
    {
     "data": {
      "text/plain": [
       "array([0.00189831])"
      ]
     },
     "execution_count": 118,
     "metadata": {},
     "output_type": "execute_result"
    }
   ],
   "source": [
    "FullDeriv(3,mInfer,yTrain,tlocL,meanZ)"
   ]
  },
  {
   "cell_type": "code",
   "execution_count": 119,
   "id": "8b95714e",
   "metadata": {},
   "outputs": [],
   "source": [
    "from scipy.optimize import minimize"
   ]
  },
  {
   "cell_type": "code",
   "execution_count": 139,
   "id": "c1c45abf",
   "metadata": {},
   "outputs": [],
   "source": [
    "#x0 = [u+0.001,eta+0.001,k_0+0.001,2+0.001]\n",
    "x0=0.6"
   ]
  },
  {
   "cell_type": "code",
   "execution_count": 140,
   "id": "dfbbe833",
   "metadata": {},
   "outputs": [
    {
     "name": "stdout",
     "output_type": "stream",
     "text": [
      "Warning: Desired error not necessarily achieved due to precision loss.\n",
      "         Current function value: 0.000008\n",
      "         Iterations: 0\n",
      "         Function evaluations: 60\n",
      "         Gradient evaluations: 48\n"
     ]
    }
   ],
   "source": [
    "result = minimize(FullCost,x0, method='BFGS', jac=FullDeriv,args=(mInfer,yTrain,tlocL,meanZ),options={'disp': True})#,tol=1e-8)"
   ]
  },
  {
   "cell_type": "code",
   "execution_count": 141,
   "id": "319fc1f8",
   "metadata": {
    "scrolled": true
   },
   "outputs": [
    {
     "data": {
      "text/plain": [
       "      fun: 8.07373714063919e-06\n",
       " hess_inv: array([[1]])\n",
       "      jac: array([-0.0308957])\n",
       "  message: 'Desired error not necessarily achieved due to precision loss.'\n",
       "     nfev: 60\n",
       "      nit: 0\n",
       "     njev: 48\n",
       "   status: 2\n",
       "  success: False\n",
       "        x: array([0.6])"
      ]
     },
     "execution_count": 141,
     "metadata": {},
     "output_type": "execute_result"
    }
   ],
   "source": [
    "result"
   ]
  },
  {
   "cell_type": "code",
   "execution_count": null,
   "id": "d80044ad",
   "metadata": {},
   "outputs": [],
   "source": []
  },
  {
   "cell_type": "code",
   "execution_count": 142,
   "id": "8ec353fe",
   "metadata": {},
   "outputs": [],
   "source": [
    "fc = np.zeros(1000)\n",
    "dc = np.zeros(1000)\n",
    "x=np.linspace(0.1,5,1000)\n",
    "for i in range(1000):\n",
    "    fc[i] = FullCost(x[i],mInfer,yTrain,tlocL,meanZ)\n",
    "    dc[i] = FullDeriv(x[i],mInfer,yTrain,tlocL,meanZ)"
   ]
  },
  {
   "cell_type": "code",
   "execution_count": 143,
   "id": "7ff44546",
   "metadata": {
    "scrolled": true
   },
   "outputs": [
    {
     "data": {
      "text/plain": [
       "[<matplotlib.lines.Line2D at 0x238c3a9a790>]"
      ]
     },
     "execution_count": 143,
     "metadata": {},
     "output_type": "execute_result"
    },
    {
     "data": {
      "image/png": "[encoded data removed]",
      "text/plain": [
       "<Figure size 360x360 with 1 Axes>"
      ]
     },
     "metadata": {
      "needs_background": "light"
     },
     "output_type": "display_data"
    }
   ],
   "source": [
    "plt.plot(x,fc)"
   ]
  },
  {
   "cell_type": "code",
   "execution_count": 144,
   "id": "c4be70ee",
   "metadata": {},
   "outputs": [
    {
     "data": {
      "text/plain": [
       "[<matplotlib.lines.Line2D at 0x238c5814520>]"
      ]
     },
     "execution_count": 144,
     "metadata": {},
     "output_type": "execute_result"
    },
    {
     "data": {
      "image/png": "[encoded data removed]",
      "text/plain": [
       "<Figure size 360x360 with 1 Axes>"
      ]
     },
     "metadata": {
      "needs_background": "light"
     },
     "output_type": "display_data"
    }
   ],
   "source": [
    "plt.plot(x,dc)"
   ]
  },
  {
   "cell_type": "code",
   "execution_count": 145,
   "id": "9cba8141",
   "metadata": {},
   "outputs": [],
   "source": [
    "def FullDeriv(x,model,obs,tloc,z):\n",
    "    model.k_0=x[2]\n",
    "    model.u=x[0]\n",
    "    model.eta=x[1]\n",
    "    model.kernel.l2=x[3]\n",
    "\n",
    "    \n",
    "    # calculate useful valyes\n",
    "    dt,dt2,Nt = model.getGridStepSize()\n",
    "    source=model.computeSourceFromPhi(z)\n",
    "    # compute concentration with new parameters\n",
    "    conc=model.computeConcentration(source)\n",
    "    \n",
    "    #compute cost derivative and cost\n",
    "    dc=dcost(obs,tloc,conc,model)\n",
    "    c=cost(obs,tloc,conc,model)\n",
    "    \n",
    "    # derivative of h operator with respect to parameters\n",
    "    dmH=np.array([np.gradient(conc,dt[0])/model.k_0,conc/model.k_0,(-model.u*np.gradient(conc,dt[0])-model.eta*conc+source)/model.k_0**2],-computeSourceDerivative(model,z)/model.k_0)\n",
    "\n",
    "    # compute and calculate Lagrangian derivative integral\n",
    "    integrand = -computeGradientAdjoint(dc,model)*dmH\n",
    "    L_m = np.trapz(integrand,dx=dt)\n",
    "    #\n",
    "    L_m = np.sum(integrand)*dt\n",
    "    return L_m"
   ]
  },
  {
   "cell_type": "code",
   "execution_count": 146,
   "id": "35aa9f64",
   "metadata": {},
   "outputs": [],
   "source": [
    "def FullCost(x,model,obs,tloc,z):\n",
    "    model.k_0=x[2]\n",
    "    model.u=x[0]\n",
    "    model.eta=x[1]\n",
    "    model.kernel.l2=x[3]\n",
    "    dt,dt2,Nt = model.getGridStepSize()\n",
    "    source=model.computeSourceFromPhi(z)\n",
    "    # compute concentration with new parameters\n",
    "    conc=model.computeConcentration(source)\n",
    "    \n",
    "    #compute cost derivative and cost\n",
    "    dc=dcost(obs,tloc,conc,model)\n",
    "    c1=cost(obs,tloc,conc,model)\n",
    "    \n",
    "    c = np.sum(c1)*dt\n",
    "    \n",
    "    return c"
   ]
  },
  {
   "cell_type": "code",
   "execution_count": null,
   "id": "11e7f76f",
   "metadata": {},
   "outputs": [],
   "source": []
  }
 ],
 "metadata": {
  "kernelspec": {
   "display_name": "Python 3",
   "language": "python",
   "name": "python3"
  },
  "language_info": {
   "codemirror_mode": {
    "name": "ipython",
    "version": 3
   },
   "file_extension": ".py",
   "mimetype": "text/x-python",
   "name": "python",
   "nbconvert_exporter": "python",
   "pygments_lexer": "ipython3",
   "version": "3.8.8"
  }
 },
 "nbformat": 4,
 "nbformat_minor": 5
}
