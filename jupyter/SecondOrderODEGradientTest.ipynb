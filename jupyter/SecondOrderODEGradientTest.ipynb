{
 "cells": [
  {
   "cell_type": "markdown",
   "id": "817cbce2",
   "metadata": {},
   "source": [
    "The AdjointSecondOrderODEModel seeks to infer the forcing functon of a linear second order differential equation of the form:\n",
    "\n",
    "\\begin{equation}\n",
    "-K_0\\frac{d^2s}{dt^2}+u\\frac{ds}{dt}+\\eta_0 s(t)=\\zeta(t)\n",
    "\\end{equation}\n",
    "with initial conditions:\n",
    "\n",
    "\\begin{equation}\n",
    "g(s(0),p)=s(0)=0\n",
    "\\end{equation}\n",
    "and\n",
    "\\begin{equation}\n",
    "k(\\dot{s}(0),p)=\\frac{ds(0)}{dt}=0\n",
    "\\end{equation}\n",
    "\n",
    "The forcing function, $\\zeta$ is approximated using Random Fourier Features so that\n",
    "\n",
    "\\begin{equation}\n",
    "\\zeta(t)\\sim \\sum_{i=1}^{M}\\phi_i(t)z_i\n",
    "\\end{equation}\n",
    "\n",
    "$\\zeta$ is then inferred using the adjoint method as in Gahungu et al. (2022).\n",
    "\n",
    "Additionally, we seek the gradient of some cost function $F=\\int_0^Tf(s,p,t)dt$ (which measures the quality of our inference) with respect to the parameters $p={u,\\eta_0,k_0}$. To calculate this we follow the methods described in Andrew Bradley's adjoint tutorial (Bradley, 2009). \n",
    "\n",
    "First we set \n",
    "\\begin{equation}\n",
    "h(s,\\dot{s},p,t) = \\frac{u}{K_0}\\dot{s}+\\frac{\\eta_0}{K_0}-\\frac{f(t)}{K_0}\n",
    "\\end{equation}\n",
    "so that $\\ddot{s}=h(s,\\dot{s},p,t)$.\n",
    "subject to $g$ and $k$. \n",
    "\n",
    "We then establish the lagrangian:\n",
    "\n",
    "\\begin{equation}\n",
    "   L =\\int_0^T f(s,p,t)+ \\lambda^T(\\ddot{s}-h(s,\\dot{s},p,t)) dt + \\mu^Tg(s(0),p)+\\nu^Tk(\\dot{s}(0),p) \n",
    "\\end{equation}\n",
    "\n",
    "Taking the total derivative with respect to p, integrating by parts and collecting terms gives\n",
    "\n",
    "\\begin{equation}\n",
    "       d_mL=\\int_0^T\\delta_mf-\\lambda^T\\delta_mhdt \n",
    "    +(-\\dot{\\lambda}^T-\\lambda^T\\delta_{\\dot{s}}h)g_{s(0)}^{-1}\\delta_pg + \\lambda^T(0) k^{-1}_{\\dot{s}(0)}\\delta_pk \n",
    "\\end{equation}\n",
    "\n",
    "subject to \n",
    "\n",
    "\\begin{equation}\n",
    "    f_s+\\ddot{\\lambda}^T+\\dot{\\lambda}^T\\delta_{\\dot{s}}h-\\lambda^T(\\delta_sh-d_t\\delta_{\\dot{s}}h)=0,\n",
    "\\end{equation}\n",
    "which is the adjoint equation.\n",
    "\n",
    "In our case $\\delta_pg=\\delta_p k=0$, $\\delta_mf=0$, $\\delta_{\\dot{s}(0)}h=0$. Therefore the adjoint equation is given by\n",
    "\\begin{equation}\n",
    "\\delta_s f + \\ddot{\\lambda}^T +\\frac{u}{K_0}\\dot{\\lambda}^T-\\frac{\\eta_0}{K_0}\\lambda^T=0\n",
    "\\end{equation}\n",
    "and \n",
    "\\begin{equation}\n",
    "d_mL=\\int_0^T-\\lambda^T\\delta_mhdt \n",
    "\\end{equation}\n",
    "\n",
    "where \n",
    "\\begin{equation}\n",
    "\\delta_mh = \\left(\\frac{\\dot{s}}{K_0},\\frac{s}{K_0},\\frac{-u\\dot{s}-\\eta_0s+\\zeta}{K_0^2}\\right).\n",
    "\\end{equation}\n",
    "\n",
    "We choose the cost function \n",
    "\\begin{equation}\n",
    "F = \\int^T_0 f(s,p,t)dt = \\int^T_0\\frac{1}{M}\\sum_{i=0}^M (s(t)-y(t))^2\\delta(t-t_i)dt,\n",
    "\\end{equation}\n",
    "where\n",
    "\\begin{equation}\n",
    "y(t)=\\begin{cases}\n",
    "y_i \\ \\mathrm{ if } \\ t=t_i \\\\ 0 \\ \\mathrm{ o.w.}\n",
    "\\end{cases}\n",
    "\\end{equation}\n",
    "Here, $y_i$ are our observations. "
   ]
  },
  {
   "cell_type": "markdown",
   "id": "3dafafd2",
   "metadata": {},
   "source": [
    "# Import Modules"
   ]
  },
  {
   "cell_type": "code",
   "execution_count": 1,
   "id": "339426bc",
   "metadata": {},
   "outputs": [],
   "source": [
    "#numpy\n",
    "import numpy as np\n",
    "from numpy.random import multivariate_normal #For later example\n",
    "\n",
    "#advectionGP\n",
    "from advectionGP.models import AdjointSecondOrderODEModel as Model #Model module builds basic parts of the ODE problem, combines other classes into full model\n",
    "\n",
    "'''To use other models in the class, such as the Advection Diffusion Reaction model, \n",
    "replace \"AdjointSecondOrderODEModel\" in the line above with \"AdjointAdvectionDiffusionReaction\" model\n",
    "and adjust parameters as appropriate'''\n",
    "\n",
    "from advectionGP.sensors import FixedSensorModel #Builds sensor arrays to generate data for foward model or to generate observations for comparison\n",
    "from advectionGP.kernels import EQ #Generates exponentiated quadratic kernel approximation\n",
    "from advectionGP.test import TestKernels #Unit test model\n",
    "\n",
    "\n",
    "#Plotting tools\n",
    "import matplotlib.pyplot as plt"
   ]
  },
  {
   "cell_type": "markdown",
   "id": "1b76d2dc",
   "metadata": {},
   "source": [
    "# Establish Sensor Array"
   ]
  },
  {
   "cell_type": "markdown",
   "id": "ca854a15",
   "metadata": {},
   "source": [
    "Our sensor matrix, X, is an array that has an element for each observation, which consists of the start and end times of the observation period. "
   ]
  },
  {
   "cell_type": "code",
   "execution_count": 2,
   "id": "4592c66f",
   "metadata": {},
   "outputs": [],
   "source": [
    "avg=0.01 # time that an observation is taken for\n",
    "tlocL = np.linspace(0,9.9,20) # observation start times\n",
    "X= np.zeros((len(tlocL),2)) # initiate X\n",
    "# Build sensor locations\n",
    "X[:,0] = tlocL #lower time\n",
    "X[:,1] = X[:,0]+avg # upper time"
   ]
  },
  {
   "cell_type": "code",
   "execution_count": 3,
   "id": "a3152ee4",
   "metadata": {},
   "outputs": [
    {
     "name": "stderr",
     "output_type": "stream",
     "text": [
      "/tmp/ipykernel_70633/1345232015.py:5: UserWarning: color is redundantly defined by the 'color' keyword argument and the fmt string \"xk\" (-> color='k'). The keyword argument will take precedence.\n",
      "  plt.plot((X[:,1]-avg/2),np.zeros(len(X)),'xk',markersize=2,color='b');\n"
     ]
    },
    {
     "data": {
      "image/png": "[encoded data removed]",
      "text/plain": [
       "<Figure size 360x360 with 1 Axes>"
      ]
     },
     "metadata": {
      "needs_background": "light"
     },
     "output_type": "display_data"
    }
   ],
   "source": [
    "plt.rcParams[\"figure.figsize\"] = (5,5)\n",
    "\n",
    "plt.xlim(0,10)\n",
    "plt.title(\"Sensor Locations\",fontsize=24)\n",
    "plt.plot((X[:,1]-avg/2),np.zeros(len(X)),'xk',markersize=2,color='b');"
   ]
  },
  {
   "cell_type": "markdown",
   "id": "030a2f42",
   "metadata": {},
   "source": [
    "Using X with then initalise our sensor model, which is used to calculate filter functions."
   ]
  },
  {
   "cell_type": "code",
   "execution_count": 4,
   "id": "10993bc2",
   "metadata": {},
   "outputs": [],
   "source": [
    "sensors = FixedSensorModel(X,0) # establish sensor model arguments are sensor locations and spatial averaging (not applicable in 1D case so set to 0)"
   ]
  },
  {
   "cell_type": "markdown",
   "id": "dd6ac5e9",
   "metadata": {},
   "source": [
    "# Forward Model"
   ]
  },
  {
   "cell_type": "markdown",
   "id": "1f5d0737",
   "metadata": {},
   "source": [
    "Here we generate an artificial source and concentration field using the tools in advectionGP.models. The source is generated over a Nt=100 grid in time."
   ]
  },
  {
   "cell_type": "markdown",
   "id": "e3c63a13",
   "metadata": {},
   "source": [
    "### Establish forward model parameters"
   ]
  },
  {
   "cell_type": "code",
   "execution_count": 5,
   "id": "71f0f757",
   "metadata": {},
   "outputs": [],
   "source": [
    "k_0 = -1 #Diffusion coefficient\n",
    "u=0.8\n",
    "eta=5\n",
    "noiseSD = 0.05 #Observation noise\n",
    "N_feat=2000 # number of features used to approximate ground truth GP\n",
    "boundary = ([0],[10])# edges of the grid - in units of time\n",
    "kForward = EQ(0.6, 4.0) # generate EQ kernel arguments are lengthscale and variance\n",
    "res = [500] # grid size for time"
   ]
  },
  {
   "cell_type": "markdown",
   "id": "7ad73851",
   "metadata": {},
   "source": [
    "### Initialise model and calculate ground truth source, concentration and observations"
   ]
  },
  {
   "cell_type": "markdown",
   "id": "c053a954",
   "metadata": {},
   "source": [
    "Here we use a constant source at a fixed location, but include code (commented out) for a source term calculated by approximating a gaussian process with an EQ kernel. Any source of the right dimensions can be used to simulate the forward problem."
   ]
  },
  {
   "cell_type": "code",
   "execution_count": null,
   "id": "cd0f2f7d",
   "metadata": {},
   "outputs": [],
   "source": []
  },
  {
   "cell_type": "code",
   "execution_count": 6,
   "id": "4ab0f1ff",
   "metadata": {},
   "outputs": [],
   "source": [
    "m = Model(resolution=res,boundary=boundary,N_feat=N_feat,noiseSD=noiseSD,kernel=kForward,sensormodel=sensors,k_0=k_0,u=u,eta=eta) #initiate PDE model to build concentration\n",
    "\n",
    "dt,dt2,Nt = m.getGridStepSize() # useful numbers!\n",
    "\n",
    "z=np.random.normal(0,1.0,N_feat) # Generate z to compute source\n",
    "sourceGT=m.computeSourceFromPhi(z)# Compute ground truth source by approximating GP\n",
    "#sourceGT = np.ones(m.resolution)  # Example constant source\n",
    "concTrain=m.computeConcentration(sourceGT) # Compute concentration - runs ODE forward model\n",
    "yTrain= m.computeObservations(addNoise='TRUE') # Compute observations with noise uses m.sensormodel for observation locations"
   ]
  },
  {
   "cell_type": "code",
   "execution_count": null,
   "id": "f875623e",
   "metadata": {},
   "outputs": [],
   "source": []
  },
  {
   "cell_type": "markdown",
   "id": "c3ad656b",
   "metadata": {},
   "source": [
    "# Inverse Problem Example"
   ]
  },
  {
   "cell_type": "code",
   "execution_count": 48,
   "id": "a1cb3b27",
   "metadata": {},
   "outputs": [
    {
     "name": "stdout",
     "output_type": "stream",
     "text": [
      "Calculating Adjoints...\n",
      "19/20 \n",
      "Calculating Phis...\n",
      "199/200 \n"
     ]
    }
   ],
   "source": [
    "#%%timeit\n",
    "N_feat =200 #Number of features used to infer the source\n",
    "kInverse = EQ(1, 4) # Initiate kernel for inverse problem\n",
    "x = np.array([5,1,-5])#+np.random.normal(0,0.1,3)\n",
    "#x=[1,1,-1]\n",
    "mInfer = Model(resolution=res,boundary=boundary,N_feat=N_feat,noiseSD=noiseSD,kernel=kInverse,sensormodel=sensors,k_0=x[2],u=x[0],eta=x[1]) #Initiate new model for inference\n",
    "mInfer.computeModelRegressors() # Compute regressor matrix \n",
    "meanZ, covZ = mInfer.computeZDistribution(yTrain) # Infers z vector mean and covariance using regressor matrix\n",
    "sourceInfer = mInfer.computeSourceFromPhi(meanZ) # Generates estimated source using mean of the inferred distribution\n",
    "concInfer=mInfer.computeConcentration(sourceInfer) # Generates estimated concentration from inferred source"
   ]
  },
  {
   "cell_type": "code",
   "execution_count": 49,
   "id": "26333ca1",
   "metadata": {
    "scrolled": false
   },
   "outputs": [
    {
     "data": {
      "image/png": "[encoded data removed]",
      "text/plain": [
       "<Figure size 360x360 with 1 Axes>"
      ]
     },
     "metadata": {
      "needs_background": "light"
     },
     "output_type": "display_data"
    },
    {
     "data": {
      "image/png": "[encoded data removed]",
      "text/plain": [
       "<Figure size 360x360 with 1 Axes>"
      ]
     },
     "metadata": {
      "needs_background": "light"
     },
     "output_type": "display_data"
    }
   ],
   "source": [
    "source_samples = []\n",
    "conc_samples=[]    \n",
    "for z_samp in np.random.multivariate_normal(meanZ, covZ,200):\n",
    "    source_samples.append(mInfer.computeSourceFromPhi(z_samp))\n",
    "    conc_samples.append(mInfer.computeConcentration(mInfer.computeSourceFromPhi(z_samp)))\n",
    "source_samples=np.array(source_samples)\n",
    "conc_samples=np.array(conc_samples)\n",
    "\n",
    "source_lower_ci = np.percentile(source_samples,2.5,0)\n",
    "source_upper_ci = np.percentile(source_samples,97.5,0)\n",
    "source_mean = np.percentile(source_samples,50,0)\n",
    "\n",
    "conc_lower_ci = np.percentile(conc_samples,2.5,0)\n",
    "conc_upper_ci = np.percentile(conc_samples,97.5,0)\n",
    "conc_mean = np.percentile(conc_samples,50,0)\n",
    "\n",
    "xtest=np.arange(Nt)\n",
    "\n",
    "#plt.figure(figsize=(15, 10))\n",
    "\n",
    "plt.plot(xtest,sourceInfer,'b-')\n",
    "plt.plot(xtest,sourceGT,'r--')\n",
    "\n",
    "#plt.plot(xtest,source_samples.T,'g-',alpha=0.3)\n",
    "#plt.fill_between(xtest,s_z_l,s_z_upper,alpha=0.5)\n",
    "plt.fill_between(xtest,source_lower_ci,source_upper_ci,alpha=0.5)\n",
    "plt.legend(labels=[\"estimated source term\",\"True source term\"])\n",
    "plt.title(\"Source function \")\n",
    "plt.xlabel(\"Input, t\")\n",
    "plt.ylabel(\"output, f(t)\")\n",
    "#plt.ylim([-5,5])\n",
    "plt.savefig('NumberFeature%d.pdf' % N_feat)\n",
    "plt.show()\n",
    "\n",
    "#plt.figure(figsize=(15, 10))\n",
    "\n",
    "plt.plot(xtest,concInfer,'b-')\n",
    "plt.plot(xtest,concTrain,'r--')\n",
    "\n",
    "#plt.plot(xtest,source_samples.T,'g-',alpha=0.3)\n",
    "#plt.fill_between(xtest,s_z_l,s_z_upper,alpha=0.5)\n",
    "plt.fill_between(xtest,conc_lower_ci,conc_upper_ci,alpha=0.5)\n",
    "plt.legend(labels=[\"estimated concentration\",\"True concentration\"])\n",
    "plt.title(\"Concentration\")\n",
    "plt.xlabel(\"Input, t\")\n",
    "plt.ylabel(\"output, f(t)\")\n",
    "#plt.ylim([-5,5])\n",
    "plt.savefig('NumberFeature%d.pdf' % N_feat)\n",
    "plt.show()"
   ]
  },
  {
   "cell_type": "markdown",
   "id": "f3b36faa",
   "metadata": {},
   "source": [
    "# Functions to calculate the cost $f$ and the cost derivate $f_s$.\n",
    "\n",
    "Below is a version that approximates the Dirac-delta using a gaussian, the next cell approximates it using a step function. "
   ]
  },
  {
   "cell_type": "code",
   "execution_count": 50,
   "id": "bcf90e3f",
   "metadata": {},
   "outputs": [],
   "source": [
    "def dcostG(obs,tloc,conc):\n",
    "    M=len(obs) #number of observations\n",
    "    eps=0.05 #Gaussian parameter\n",
    "    dc = np.sum(1/(eps*np.sqrt(np.pi))*np.exp(-(m.coords-tloc)**2/eps**2)*2*(conc[m.getGridCoord(tloc)]-obs)*(1/M),1) # cost derivative approximated with gaussian\n",
    "    return dc\n",
    "\n",
    "def costG(obs,tloc,conc):\n",
    "    M=len(obs) #number of observations\n",
    "    eps=0.05 #Gaussian parameter\n",
    "    c = np.sum(1/(eps*np.sqrt(np.pi))*np.exp(-(m.coords-tloc)**2/eps**2)*((conc[m.getGridCoord(tloc)]-obs)**2)*(1/M),1) # cost approximated with gaussian\n",
    "    return c\n",
    "\n",
    "\n"
   ]
  },
  {
   "cell_type": "code",
   "execution_count": 51,
   "id": "1d2b6efe",
   "metadata": {},
   "outputs": [],
   "source": [
    "def dcost(obs,tloc,conc,model):\n",
    "    dc=np.zeros(model.resolution) #initialise cost derivative\n",
    "    M=len(obs) # number of observations\n",
    "    dc[model.getGridCoord(tloc)] = 2*(conc[model.getGridCoord(tloc)]-obs)*(1/M) # cost derivative approximated with step functions\n",
    "    return dc\n",
    "\n",
    "def cost(obs,tloc,conc,model):\n",
    "    c=np.zeros(model.resolution) # initialise cost\n",
    "    M=len(obs) # number of observations\n",
    "    c[model.getGridCoord(tloc)] = ((conc[model.getGridCoord(tloc)]-obs)**2)*(1/M) # cost approximated with hill function\n",
    "    return c"
   ]
  },
  {
   "cell_type": "markdown",
   "id": "2110c674",
   "metadata": {},
   "source": [
    "# Function to calculate the adjoint equation"
   ]
  },
  {
   "cell_type": "code",
   "execution_count": 52,
   "id": "db4ca29f",
   "metadata": {},
   "outputs": [],
   "source": [
    "def computeGradientAdjoint(dcost,model):\n",
    "    \"\"\"\n",
    "    Runs the backward second order ODE (adjoint problem)\n",
    "    Gets called for an observation instance (H).\n",
    "    (v is the result of the adjoint operation)\n",
    "    \"\"\"\n",
    "    dt,dt2,Nt = model.getGridStepSize()\n",
    "    k_0=model.k_0\n",
    "    u=model.u\n",
    "    eta=model.eta\n",
    "    v=np.zeros(((model.resolution)))\n",
    "    \n",
    "    #Boundary conditions\n",
    "    v[Nt-1] = 0\n",
    "    v[Nt-2] = (1.0/(1-(u*dt/(2*k_0))))*(-dcost[Nt-1]*(dt2)- v[Nt-1]-u*dt*v[Nt-1]/(k_0*2.0)+ 2*v[Nt-1]+(eta/k_0)*(dt2)*v[Nt-1])\n",
    "\n",
    "    # Calculation away from boundary\n",
    "    for i in reversed(range(1,Nt-1)):\n",
    "        #i=Nt-j-2\n",
    "        v[i-1]=(1.0/(1-(u*dt/(2*k_0))))*(-dcost[i]*(dt2)- v[i+1]-u*dt*v[i+1]/(k_0*2.0)+ 2*v[i]+(eta/k_0)*(dt2)*v[i])\n",
    "\n",
    "    return v"
   ]
  },
  {
   "cell_type": "markdown",
   "id": "0d3a49b5",
   "metadata": {},
   "source": [
    "# Function to calculate the Lagrangian derivative, the cost and the derivative of the cost for a given $p$"
   ]
  },
  {
   "cell_type": "code",
   "execution_count": 53,
   "id": "39bd9a46",
   "metadata": {},
   "outputs": [],
   "source": [
    "def d_mL(k_0,u,eta,model,obs,tloc,source):\n",
    "    \n",
    "    # change parameters in model object\n",
    "    model.k_0=k_0 \n",
    "    model.u=u\n",
    "    model.eta=eta\n",
    "    \n",
    "    # calculate useful valyes\n",
    "    dt,dt2,Nt = model.getGridStepSize()\n",
    "    \n",
    "    # compute concentration with new parameters\n",
    "    conc=model.computeConcentration(source)\n",
    "    \n",
    "    #compute cost derivative and cost\n",
    "    dc=dcost(obs,tloc,conc,model)\n",
    "    c=cost(obs,tloc,conc,model)\n",
    "    \n",
    "    # derivative of h operator with respect to parameters\n",
    "    dmH=np.array([np.gradient(conc,dt[0])/k_0,conc/k_0,(-u*np.gradient(conc,dt[0])-eta*conc+source)/k_0**2])\n",
    "\n",
    "    # compute and calculate Lagrangian derivative integral\n",
    "    integrand = -computeGradientAdjoint(dc,model)*dmH\n",
    "    L_m = np.trapz(integrand,dx=dt)\n",
    "    #L_m = np.sum(integrand)*dt #alternate calculation using naive numerical integration\n",
    "    return L_m, dc,c#, integrand, dmH\n"
   ]
  },
  {
   "cell_type": "code",
   "execution_count": 13,
   "id": "545721bb",
   "metadata": {},
   "outputs": [
    {
     "ename": "ValueError",
     "evalue": "not enough values to unpack (expected 5, got 3)",
     "output_type": "error",
     "traceback": [
      "\u001b[0;31m---------------------------------------------------------------------------\u001b[0m",
      "\u001b[0;31mValueError\u001b[0m                                Traceback (most recent call last)",
      "\u001b[0;32m/tmp/ipykernel_70633/3505114624.py\u001b[0m in \u001b[0;36m<module>\u001b[0;34m\u001b[0m\n\u001b[0;32m----> 1\u001b[0;31m \u001b[0mL_m\u001b[0m\u001b[0;34m,\u001b[0m \u001b[0mdc\u001b[0m\u001b[0;34m,\u001b[0m\u001b[0mc\u001b[0m\u001b[0;34m,\u001b[0m \u001b[0mintegrand\u001b[0m\u001b[0;34m,\u001b[0m \u001b[0mdmH\u001b[0m \u001b[0;34m=\u001b[0m \u001b[0md_mL\u001b[0m\u001b[0;34m(\u001b[0m\u001b[0mk_0\u001b[0m\u001b[0;34m,\u001b[0m\u001b[0mu\u001b[0m\u001b[0;34m,\u001b[0m\u001b[0meta\u001b[0m\u001b[0;34m,\u001b[0m\u001b[0mmInfer\u001b[0m\u001b[0;34m,\u001b[0m\u001b[0myTrain\u001b[0m\u001b[0;34m,\u001b[0m\u001b[0mtlocL\u001b[0m\u001b[0;34m,\u001b[0m\u001b[0msourceInfer\u001b[0m\u001b[0;34m)\u001b[0m\u001b[0;34m\u001b[0m\u001b[0;34m\u001b[0m\u001b[0m\n\u001b[0m",
      "\u001b[0;31mValueError\u001b[0m: not enough values to unpack (expected 5, got 3)"
     ]
    }
   ],
   "source": [
    "L_m, dc,c, integrand, dmH = d_mL(k_0,u,eta,mInfer,yTrain,tlocL,sourceInfer)"
   ]
  },
  {
   "cell_type": "code",
   "execution_count": 14,
   "id": "79a7504d",
   "metadata": {},
   "outputs": [
    {
     "ename": "NameError",
     "evalue": "name 'integrand' is not defined",
     "output_type": "error",
     "traceback": [
      "\u001b[0;31m---------------------------------------------------------------------------\u001b[0m",
      "\u001b[0;31mNameError\u001b[0m                                 Traceback (most recent call last)",
      "\u001b[0;32m/tmp/ipykernel_70633/3843494615.py\u001b[0m in \u001b[0;36m<module>\u001b[0;34m\u001b[0m\n\u001b[0;32m----> 1\u001b[0;31m \u001b[0mintegrand\u001b[0m\u001b[0;34m.\u001b[0m\u001b[0mshape\u001b[0m\u001b[0;34m\u001b[0m\u001b[0;34m\u001b[0m\u001b[0m\n\u001b[0m",
      "\u001b[0;31mNameError\u001b[0m: name 'integrand' is not defined"
     ]
    }
   ],
   "source": [
    "integrand.shape"
   ]
  },
  {
   "cell_type": "markdown",
   "id": "c725a6c3",
   "metadata": {},
   "source": [
    "# Naive gradient descent (output used to test gradient calculation)"
   ]
  },
  {
   "cell_type": "code",
   "execution_count": 15,
   "id": "276e3702",
   "metadata": {},
   "outputs": [],
   "source": [
    "reps=5000\n",
    "\n",
    "# initialise outputs\n",
    "p=np.zeros((3,reps)) # parameters\n",
    "d=np.zeros((3,reps-1)) # derivative\n",
    "dTest=np.zeros((3,reps-1)) # forward difference derivative approximation\n",
    "dTest2=np.zeros((3,reps-1)) # central difference derivative approximation\n",
    "Fc=np.zeros((1,reps-1)) # integrated cost function\n",
    "p[:,0]=np.array([u,eta,k_0])+np.random.normal(0,0.5,3) # first parameter value\n",
    "eps2=1e-12\n",
    "for i in range(reps-1):\n",
    "    [u1,eta1,k_01] = p[:,i]\n",
    "    \n",
    "    dmL, dc,c=d_mL(k_01,u1,eta1,mInfer,yTrain,tlocL,sourceInfer)\n",
    "    d[:,i]=dmL\n",
    "    p[:,i+1]=p[:,i]-0.1*dmL\n",
    "    Fc[:,i] = sum(c)*dt\n",
    "    dmL2, dc2,c2=d_mL(k_01,u1+eps2,eta1,mInfer,yTrain,tlocL,sourceInfer)\n",
    "    dmL3, dc3,c3=d_mL(k_01,u1,eta1+eps2,mInfer,yTrain,tlocL,sourceInfer)\n",
    "    dmL4, dc4,c4=d_mL(k_01+eps2,u1,eta1,mInfer,yTrain,tlocL,sourceInfer)\n",
    "    # dmL5, dc5,c5=d_mL(dmH,k_01,u1-eps2,eta1,m,yTrain,tlocL,sourceInfer)\n",
    "    #dmL6, dc6,c6=d_mL(dmH,k_01,u1,eta1-eps2,m,yTrain,tlocL,sourceInfer)\n",
    "    # dmL7, dc7,c7=d_mL(dmH,k_01-eps2,u1,eta1,m,yTrain,tlocL,sourceInfer)\n",
    "    \n",
    "    #dTest[:,i:i+1] = (np.array((sum((c2))*dt-sum((c5))*dt,sum((c3))*dt-sum((c6))*dt,sum((c4))*dt-sum((c7))*dt)))/(2*eps2)\n",
    "    dTest2[:,i:i+1] = ((sum((c2))*dt,sum((c3))*dt,sum((c4))*dt)-(sum(c)*dt))/(eps2)\n",
    "    \n",
    "    "
   ]
  },
  {
   "cell_type": "markdown",
   "id": "52a5d393",
   "metadata": {},
   "source": [
    "MSE between adjoint calculated gradient and gradient test"
   ]
  },
  {
   "cell_type": "code",
   "execution_count": 16,
   "id": "b6d571cb",
   "metadata": {
    "scrolled": true
   },
   "outputs": [
    {
     "data": {
      "text/plain": [
       "array([4.72424945e+115])"
      ]
     },
     "execution_count": 16,
     "metadata": {},
     "output_type": "execute_result"
    }
   ],
   "source": [
    "np.sum((dTest2-d)**2)/m.resolution"
   ]
  },
  {
   "cell_type": "code",
   "execution_count": 17,
   "id": "5900138b",
   "metadata": {},
   "outputs": [
    {
     "data": {
      "text/plain": [
       "[<matplotlib.lines.Line2D at 0x7fcdc5e32e50>,\n",
       " <matplotlib.lines.Line2D at 0x7fcdc5e32c10>,\n",
       " <matplotlib.lines.Line2D at 0x7fcdc5e32fd0>]"
      ]
     },
     "execution_count": 17,
     "metadata": {},
     "output_type": "execute_result"
    },
    {
     "data": {
      "image/png": "[encoded data removed]",
      "text/plain": [
       "<Figure size 360x360 with 1 Axes>"
      ]
     },
     "metadata": {
      "needs_background": "light"
     },
     "output_type": "display_data"
    }
   ],
   "source": [
    "plt.plot(p.T)"
   ]
  },
  {
   "cell_type": "code",
   "execution_count": 18,
   "id": "5828544e",
   "metadata": {
    "scrolled": true
   },
   "outputs": [
    {
     "data": {
      "image/png": "[encoded data removed]",
      "text/plain": [
       "<Figure size 360x360 with 1 Axes>"
      ]
     },
     "metadata": {
      "needs_background": "light"
     },
     "output_type": "display_data"
    }
   ],
   "source": [
    "plt.plot(d.T);"
   ]
  },
  {
   "cell_type": "code",
   "execution_count": 19,
   "id": "bddc4e5d",
   "metadata": {},
   "outputs": [
    {
     "data": {
      "text/plain": [
       "array([[-9.61962828e-002, -9.33117302e-002, -9.05887447e-002, ...,\n",
       "         2.66143616e-121,  2.66143616e-121,  2.66143616e-121],\n",
       "       [-1.71883364e-002, -1.68836255e-002, -1.65924047e-002, ...,\n",
       "         8.88428578e-121,  8.88428578e-121,  8.88428578e-121],\n",
       "       [-4.66681940e-002, -4.62715564e-002, -4.58734748e-002, ...,\n",
       "        -8.98216278e-122, -8.98216278e-122, -8.98216278e-122]])"
      ]
     },
     "execution_count": 19,
     "metadata": {},
     "output_type": "execute_result"
    }
   ],
   "source": [
    "d"
   ]
  },
  {
   "cell_type": "code",
   "execution_count": 20,
   "id": "f0dace89",
   "metadata": {},
   "outputs": [
    {
     "data": {
      "image/png": "[encoded data removed]",
      "text/plain": [
       "<Figure size 360x360 with 1 Axes>"
      ]
     },
     "metadata": {
      "needs_background": "light"
     },
     "output_type": "display_data"
    }
   ],
   "source": [
    "plt.plot(dTest2.T);"
   ]
  },
  {
   "cell_type": "code",
   "execution_count": 21,
   "id": "77bc3f88",
   "metadata": {},
   "outputs": [
    {
     "data": {
      "text/plain": [
       "array([ 5.05805670e+56, -6.95048498e+55, -7.14078264e+59])"
      ]
     },
     "execution_count": 21,
     "metadata": {},
     "output_type": "execute_result"
    }
   ],
   "source": [
    "p[:,i-1]"
   ]
  },
  {
   "cell_type": "code",
   "execution_count": 22,
   "id": "be7df693",
   "metadata": {},
   "outputs": [],
   "source": [
    "from scipy.optimize import minimize"
   ]
  },
  {
   "cell_type": "markdown",
   "id": "4486f8b0",
   "metadata": {},
   "source": [
    "### Functions for cost and derivative for use with scipy optimiser"
   ]
  },
  {
   "cell_type": "code",
   "execution_count": 54,
   "id": "8f87cae1",
   "metadata": {},
   "outputs": [],
   "source": [
    "def FullCost(x,model,obs,tloc,source):\n",
    "    model.k_0=x[2]\n",
    "    model.u=x[0]\n",
    "    model.eta=x[1]\n",
    "    dt,dt2,Nt = model.getGridStepSize()\n",
    "    conc=model.computeConcentration(source)\n",
    "\n",
    "    c1=cost(obs,tloc,conc,model)\n",
    "    \n",
    "    c = np.sum(c1)*dt\n",
    "    \n",
    "    return c"
   ]
  },
  {
   "cell_type": "code",
   "execution_count": 55,
   "id": "01264921",
   "metadata": {},
   "outputs": [],
   "source": [
    "def FullDeriv(x,model,obs,tloc,source):\n",
    "    model.k_0=x[2]\n",
    "    model.u=x[0]\n",
    "    model.eta=x[1]\n",
    "    dt,dt2,Nt = model.getGridStepSize()\n",
    "    conc=model.computeConcentration(source)\n",
    "    dmH=np.array([np.gradient(conc,dt[0])/model.k_0,conc/model.k_0,(-model.u*np.gradient(conc,dt[0])-model.eta*conc+source)/model.k_0**2])\n",
    "    dc=dcost(obs,tloc,conc,model)\n",
    "    c=cost(obs,tloc,conc,model)\n",
    "    #print(np.sum((c/2)**2))\n",
    "    integrand = -computeGradientAdjoint(dc,model)*dmH\n",
    "    L_m = np.trapz(integrand,dx=dt)\n",
    "    #L_m = np.sum(integrand)*dt\n",
    "    return L_m"
   ]
  },
  {
   "cell_type": "code",
   "execution_count": 56,
   "id": "96fb44b4",
   "metadata": {},
   "outputs": [],
   "source": [
    "x0 = x\n",
    "x0 = np.array([5,5,-5])"
   ]
  },
  {
   "cell_type": "markdown",
   "id": "18372cb5",
   "metadata": {},
   "source": [
    "Possible constraints to apply"
   ]
  },
  {
   "cell_type": "code",
   "execution_count": 57,
   "id": "b35cdf95",
   "metadata": {},
   "outputs": [],
   "source": [
    "from scipy.optimize import NonlinearConstraint\n",
    "con = lambda x: x[1]**2 - 4*x[0]*x[2]\n",
    "nlc = NonlinearConstraint(con, -np.inf, 0)"
   ]
  },
  {
   "cell_type": "code",
   "execution_count": 58,
   "id": "d2509ada",
   "metadata": {},
   "outputs": [],
   "source": [
    "conL = lambda x: x[0]/x[2]\n",
    "lc = NonlinearConstraint(conL,-np.inf,0)"
   ]
  },
  {
   "cell_type": "markdown",
   "id": "41a5c283",
   "metadata": {},
   "source": [
    "### scipy minimiser"
   ]
  },
  {
   "cell_type": "code",
   "execution_count": 59,
   "id": "931ba2d3",
   "metadata": {
    "scrolled": false
   },
   "outputs": [
    {
     "name": "stdout",
     "output_type": "stream",
     "text": [
      "Warning: Desired error not necessarily achieved due to precision loss.\n",
      "         Current function value: 0.000454\n",
      "         Iterations: 24\n",
      "         Function evaluations: 80\n",
      "         Gradient evaluations: 69\n"
     ]
    }
   ],
   "source": [
    "result = minimize(FullCost, x0, method='BFGS', jac=FullDeriv,args=(m,yTrain,tlocL,sourceInfer),options={'disp': True},tol=1e-8)"
   ]
  },
  {
   "cell_type": "code",
   "execution_count": 60,
   "id": "25f48f72",
   "metadata": {},
   "outputs": [
    {
     "data": {
      "text/plain": [
       "      fun: 0.00045369873317655554\n",
       " hess_inv: array([[  258.41552851,  -182.4142213 , -1209.39965182],\n",
       "       [ -182.4142213 ,  5552.72857728, -1382.48746365],\n",
       "       [-1209.39965182, -1382.48746365,  6608.00466173]])\n",
       "      jac: array([6.62210198e-06, 4.42833693e-07, 1.45478270e-06])\n",
       "  message: 'Desired error not necessarily achieved due to precision loss.'\n",
       "     nfev: 80\n",
       "      nit: 24\n",
       "     njev: 69\n",
       "   status: 2\n",
       "  success: False\n",
       "        x: array([ 5.00785539,  0.9811683 , -3.38843976])"
      ]
     },
     "execution_count": 60,
     "metadata": {},
     "output_type": "execute_result"
    }
   ],
   "source": [
    "result"
   ]
  },
  {
   "cell_type": "code",
   "execution_count": 62,
   "id": "8600cb05",
   "metadata": {},
   "outputs": [
    {
     "name": "stdout",
     "output_type": "stream",
     "text": [
      "Calculating Adjoints...\n",
      "19/20 \n",
      "Calculating Phis...\n",
      "199/200 \n",
      "[ 4.81638994  1.44859087 -3.15905666] 0.0004769422767735461 0.0\n",
      "Calculating Adjoints...\n",
      "19/20 \n",
      "Calculating Phis...\n",
      "199/200 \n",
      "[ 4.37530521  1.4859339  -2.38726321] 0.0004192336762423568 5.7708600531189294e-05\n",
      "Calculating Adjoints...\n",
      "19/20 \n",
      "Calculating Phis...\n",
      "199/200 \n",
      "[ 4.05940407  1.49040299 -1.95767316] 0.0004052381785075378 1.3995497734819009e-05\n",
      "Calculating Adjoints...\n",
      "19/20 \n",
      "Calculating Phis...\n",
      "199/200 \n",
      "[ 3.8083777   1.49235581 -1.67481743] 0.00039627759741249366 8.960581095044122e-06\n",
      "Calculating Adjoints...\n",
      "19/20 \n",
      "Calculating Phis...\n",
      "199/200 \n",
      "[ 3.60118869  1.49209994 -1.46710917] 0.00038818424260919925 8.093354803294416e-06\n",
      "Calculating Adjoints...\n",
      "19/20 \n",
      "Calculating Phis...\n",
      "199/200 \n",
      "[ 3.42527883  1.48926768 -1.30239294] 0.0003800633833567605 8.120859252438756e-06\n",
      "Calculating Adjoints...\n",
      "19/20 \n",
      "Calculating Phis...\n",
      "199/200 \n",
      "[ 3.27186696  1.4833131  -1.16412234] 0.00037155570591759004 8.507677439170453e-06\n",
      "Calculating Adjoints...\n",
      "19/20 \n",
      "Calculating Phis...\n",
      "199/200 \n",
      "[ 3.13784311  1.4747646  -1.04215306] 0.0003624075848980629 9.148121019527137e-06\n",
      "Calculating Adjoints...\n",
      "19/20 \n",
      "Calculating Phis...\n",
      "199/200 \n",
      "[ 3.01665507  1.46365457 -0.93038302] 0.00035230491399644874 1.0102670901614163e-05\n",
      "Calculating Adjoints...\n",
      "19/20 \n",
      "Calculating Phis...\n",
      "199/200 \n",
      "[ 2.90524953  1.44982719 -0.82501285] 0.0003408913871215462 1.1413526874902533e-05\n",
      "Calculating Adjoints...\n",
      "19/20 \n",
      "Calculating Phis...\n",
      "199/200 \n",
      "[ 2.80051645  1.43358692 -0.72356912] 0.00032780288449336156 1.3088502628184645e-05\n",
      "Calculating Adjoints...\n",
      "19/20 \n",
      "Calculating Phis...\n",
      "199/200 \n",
      "[ 2.69949658  1.41550674 -0.62490213] 0.0003126685040798416 1.5134380413519947e-05\n",
      "Calculating Adjoints...\n",
      "19/20 \n",
      "Calculating Phis...\n",
      "199/200 \n",
      "[ 2.60338821  1.38532378 -0.52620433] 0.0002952409820415324 1.742752203830921e-05\n",
      "Calculating Adjoints...\n",
      "19/20 \n",
      "Calculating Phis...\n",
      "199/200 \n",
      "[ 2.50454639  1.35763053 -0.43277107] 0.000275371059527356 1.9869922514176427e-05\n",
      "Calculating Adjoints...\n",
      "19/20 \n",
      "Calculating Phis...\n",
      "199/200 \n",
      "[ 2.40090333  1.33533868 -0.34770686] 0.00025411642092819343 2.1254638599162547e-05\n",
      "Calculating Adjoints...\n",
      "19/20 \n",
      "Calculating Phis...\n",
      "199/200 \n",
      "[ 2.29170828  1.32202124 -0.27430336] 0.0002328271305754535 2.1289290352739917e-05\n",
      "Calculating Adjoints...\n",
      "19/20 \n",
      "Calculating Phis...\n",
      "199/200 \n",
      "[ 2.1799684   1.31194061 -0.21292528] 0.00021291769994678661 1.9909430628666896e-05\n",
      "Calculating Adjoints...\n",
      "19/20 \n",
      "Calculating Phis...\n",
      "199/200 \n",
      "[ 2.06589075  1.31466218 -0.16556591] 0.00019522203234081673 1.769566760596988e-05\n",
      "Calculating Adjoints...\n",
      "19/20 \n",
      "Calculating Phis...\n",
      "199/200 \n",
      "[ 1.95569699  1.31009392 -0.12705524] 0.00018003523720575335 1.5186795135063382e-05\n",
      "Calculating Adjoints...\n",
      "19/20 \n",
      "Calculating Phis...\n",
      "199/200 \n",
      "[ 1.84903343  1.32296788 -0.10011262] 0.0001669936232873698 1.3041613918383563e-05\n",
      "Calculating Adjoints...\n",
      "19/20 \n",
      "Calculating Phis...\n",
      "199/200 \n",
      "[ 1.74821619  1.33856589 -0.07948628] 0.00015589231508869342 1.1101308198676365e-05\n",
      "Calculating Adjoints...\n",
      "19/20 \n",
      "Calculating Phis...\n",
      "199/200 \n",
      "[ 1.65274326  1.3560931  -0.06476909] 0.00014616382641287622 9.728488675817204e-06\n",
      "Calculating Adjoints...\n",
      "19/20 \n",
      "Calculating Phis...\n",
      "199/200 \n",
      "[ 1.62115956  1.35973665 -0.03754366] 0.00014017924352508073 5.984582887795487e-06\n",
      "Calculating Adjoints...\n",
      "19/20 \n",
      "Calculating Phis...\n",
      "199/200 \n",
      "[ 1.57380605  1.36312529 -0.01605372] 0.00013266613995203112 7.513103573049613e-06\n",
      "Calculating Adjoints...\n",
      "19/20 \n",
      "Calculating Phis...\n",
      "199/200 \n",
      "[ 1.48339693  1.36655591 -0.01817593] 0.0001249493395907543 7.716800361276825e-06\n",
      "Calculating Adjoints...\n",
      "19/20 \n",
      "Calculating Phis...\n",
      "199/200 \n",
      "[ 1.40308814  1.36999556 -0.01176749] 0.00011984784119896917 5.101498391785122e-06\n",
      "Calculating Adjoints...\n",
      "19/20 \n",
      "Calculating Phis...\n",
      "199/200 \n",
      "[ 1.32542477  1.37522553 -0.0162023 ] 0.00011420105136455451 5.646789834414662e-06\n",
      "Calculating Adjoints...\n",
      "19/20 \n",
      "Calculating Phis...\n",
      "199/200 \n",
      "[ 1.2577101   1.37764745 -0.01336984] 0.0001100272413655427 4.173809999011809e-06\n",
      "Calculating Adjoints...\n",
      "19/20 \n",
      "Calculating Phis...\n",
      "199/200 \n",
      "[ 1.19211432  1.38367126 -0.01534914] 0.00010553736614875787 4.489875216784833e-06\n",
      "Calculating Adjoints...\n",
      "19/20 \n",
      "Calculating Phis...\n",
      "199/200 \n",
      "[ 1.13273084  1.38499718 -0.01577655] 0.00010178722358398843 3.7501425647694343e-06\n",
      "Calculating Adjoints...\n",
      "19/20 \n",
      "Calculating Phis...\n",
      "199/200 \n",
      "[ 1.07783901  1.38584225 -0.01666762] 9.826314917658727e-05 3.5240744074011682e-06\n",
      "Calculating Adjoints...\n",
      "19/20 \n",
      "Calculating Phis...\n",
      "199/200 \n",
      "[ 1.02713593  1.38624683 -0.01788851] 9.507560452786385e-05 3.187544648723415e-06\n",
      "Calculating Adjoints...\n",
      "19/20 \n",
      "Calculating Phis...\n",
      "199/200 \n",
      "[ 0.97909449  1.40305478 -0.0213561 ] 9.214003526588376e-05 2.9355692619800956e-06\n",
      "Calculating Adjoints...\n",
      "19/20 \n",
      "Calculating Phis...\n",
      "199/200 \n",
      "[ 0.93554082  1.40374735 -0.02258648] 8.949090855741131e-05 2.649126708472444e-06\n",
      "Calculating Adjoints...\n",
      "19/20 \n",
      "Calculating Phis...\n",
      "199/200 \n",
      "[ 0.89589664  1.40392592 -0.024016  ] 8.706796576547428e-05 2.4229427919370336e-06\n",
      "Calculating Adjoints...\n",
      "19/20 \n",
      "Calculating Phis...\n",
      "199/200 \n",
      "[ 0.85865005  1.414558   -0.02751443] 8.489879140662639e-05 2.1691743588478883e-06\n",
      "Calculating Adjoints...\n",
      "19/20 \n",
      "Calculating Phis...\n",
      "199/200 \n",
      "[ 0.82410787  1.41430949 -0.02924746] 8.303621361902641e-05 1.8625777875999811e-06\n",
      "Calculating Adjoints...\n",
      "19/20 \n",
      "Calculating Phis...\n",
      "199/200 \n",
      "[ 0.7921228   1.41393464 -0.03115559] 8.126864120814717e-05 1.7675724108792332e-06\n",
      "Calculating Adjoints...\n",
      "19/20 \n",
      "Calculating Phis...\n",
      "199/200 \n",
      "[ 0.76219407  1.42083212 -0.03469447] 7.966527561448493e-05 1.6033655936622415e-06\n",
      "Calculating Adjoints...\n",
      "19/20 \n",
      "Calculating Phis...\n",
      "199/200 \n",
      "[ 0.73450829  1.42676647 -0.03825222] 7.827721180962872e-05 1.3880638048562087e-06\n",
      "Calculating Adjoints...\n",
      "19/20 \n",
      "Calculating Phis...\n",
      "199/200 \n",
      "[ 0.70883949  1.43230792 -0.04200623] 7.70119657027327e-05 1.2652461068960206e-06\n",
      "Calculating Adjoints...\n",
      "19/20 \n",
      "Calculating Phis...\n",
      "199/200 \n",
      "[ 0.6850423   1.43787866 -0.04599253] 7.584163080588925e-05 1.170334896843456e-06\n",
      "Calculating Adjoints...\n",
      "19/20 \n",
      "Calculating Phis...\n",
      "199/200 \n",
      "[ 0.66275457  1.44419969 -0.05048589] 7.47298770654274e-05 1.1117537404618468e-06\n",
      "Calculating Adjoints...\n",
      "19/20 \n",
      "Calculating Phis...\n",
      "199/200 \n",
      "[ 0.64171868  1.45258072 -0.05579974] 7.362278416514552e-05 1.1070929002818833e-06\n",
      "Calculating Adjoints...\n",
      "19/20 \n",
      "Calculating Phis...\n",
      "199/200 \n",
      "[ 0.62128237  1.46448483 -0.0622127 ] 7.245137313783288e-05 1.1714110273126422e-06\n",
      "Calculating Adjoints...\n",
      "19/20 \n",
      "Calculating Phis...\n",
      "199/200 \n",
      "[ 0.60118214  1.48140776 -0.07030208] 7.11064525080398e-05 1.3449206297930818e-06\n",
      "Calculating Adjoints...\n",
      "19/20 \n",
      "Calculating Phis...\n",
      "199/200 \n",
      "[ 0.58029426  1.50367172 -0.07942417] 6.94937852461124e-05 1.6126672619273905e-06\n",
      "Calculating Adjoints...\n",
      "19/20 \n",
      "Calculating Phis...\n",
      "199/200 \n",
      "[ 0.55865863  1.52959155 -0.08884653] 6.757376338414393e-05 1.9200218619684753e-06\n",
      "Calculating Adjoints...\n",
      "19/20 \n",
      "Calculating Phis...\n",
      "199/200 \n",
      "[ 0.53623291  1.55646036 -0.09763818] 6.54412090501563e-05 2.1325543339876336e-06\n",
      "Calculating Adjoints...\n",
      "19/20 \n",
      "Calculating Phis...\n",
      "199/200 \n",
      "[ 0.51356749  1.58219694 -0.10522589] 6.318133545169812e-05 2.259873598458174e-06\n",
      "Calculating Adjoints...\n",
      "19/20 \n",
      "Calculating Phis...\n",
      "199/200 \n",
      "[ 0.49108674  1.60635027 -0.11171085] 6.08767971129421e-05 2.304538338756023e-06\n",
      "Calculating Adjoints...\n",
      "19/20 \n",
      "Calculating Phis...\n",
      "199/200 \n",
      "[ 0.46912981  1.62929338 -0.11736615] 5.8574850315384705e-05 2.301946797557392e-06\n",
      "Calculating Adjoints...\n",
      "19/20 \n",
      "Calculating Phis...\n",
      "199/200 \n",
      "[ 0.44782507  1.6502307  -0.12223629] 5.632070092126689e-05 2.2541493941178134e-06\n",
      "Calculating Adjoints...\n",
      "19/20 \n",
      "Calculating Phis...\n",
      "199/200 \n",
      "[ 0.42741068  1.6696585  -0.12654427] 5.415281046779153e-05 2.167890453475361e-06\n",
      "Calculating Adjoints...\n",
      "19/20 \n",
      "Calculating Phis...\n",
      "199/200 \n",
      "[ 0.40799766  1.68746284 -0.13038367] 5.211462757914848e-05 2.0381828886430488e-06\n",
      "Calculating Adjoints...\n",
      "19/20 \n",
      "Calculating Phis...\n",
      "199/200 \n",
      "[ 0.38969359  1.70383645 -0.13385697] 5.0238315443222306e-05 1.8763121359261761e-06\n",
      "Calculating Adjoints...\n",
      "19/20 \n",
      "Calculating Phis...\n",
      "199/200 \n",
      "[ 0.37256418  1.71838833 -0.13695926] 4.854926664739043e-05 1.689048795831874e-06\n",
      "Calculating Adjoints...\n",
      "19/20 \n",
      "Calculating Phis...\n",
      "199/200 \n",
      "[ 0.35667259  1.73133175 -0.1397609 ] 4.706366009858655e-05 1.4856065488038828e-06\n",
      "Calculating Adjoints...\n",
      "19/20 \n",
      "Calculating Phis...\n",
      "199/200 \n"
     ]
    },
    {
     "name": "stdout",
     "output_type": "stream",
     "text": [
      "[ 0.34202414  1.74251046 -0.14226021] 4.5788514408768683e-05 1.2751456898178661e-06\n",
      "Calculating Adjoints...\n",
      "19/20 \n",
      "Calculating Phis...\n",
      "199/200 \n",
      "[ 0.32862873  1.7519203  -0.14448087] 4.4719406025069174e-05 1.0691083836995095e-06\n",
      "Calculating Adjoints...\n",
      "19/20 \n",
      "Calculating Phis...\n",
      "199/200 \n",
      "[ 0.31643786  1.75962772 -0.14643813] 4.384594260198088e-05 8.734634230882915e-07\n",
      "Calculating Adjoints...\n",
      "19/20 \n",
      "Calculating Phis...\n",
      "199/200 \n",
      "[ 0.30541632  1.76572653 -0.14815752] 4.314900164757829e-05 6.969409544025924e-07\n",
      "Calculating Adjoints...\n",
      "19/20 \n",
      "Calculating Phis...\n",
      "199/200 \n",
      "[ 0.29547739  1.77022215 -0.14963912] 4.260779082638652e-05 5.412108211917693e-07\n",
      "Calculating Adjoints...\n",
      "19/20 \n",
      "Calculating Phis...\n",
      "199/200 \n",
      "[ 0.28653851  1.77316768 -0.15089293] 4.2197410644815626e-05 4.103801815708946e-07\n",
      "Calculating Adjoints...\n",
      "19/20 \n",
      "Calculating Phis...\n",
      "199/200 \n",
      "[ 0.27852523  1.77476757 -0.15194902] 4.1894076391147256e-05 3.033342536683706e-07\n",
      "Calculating Adjoints...\n",
      "19/20 \n",
      "Calculating Phis...\n",
      "199/200 \n",
      "[ 0.27134448  1.77512415 -0.15282346] 4.167666832757855e-05 2.1740806356870888e-07\n",
      "Calculating Adjoints...\n",
      "19/20 \n",
      "Calculating Phis...\n",
      "199/200 \n",
      "[ 0.26490266  1.77433941 -0.15352489] 4.152547118204979e-05 1.511971455287557e-07\n",
      "Calculating Adjoints...\n",
      "19/20 \n",
      "Calculating Phis...\n",
      "199/200 \n",
      "[ 0.25912112  1.77255814 -0.154073  ] 4.1423827513852275e-05 1.0164366819751582e-07\n",
      "Calculating Adjoints...\n",
      "19/20 \n",
      "Calculating Phis...\n",
      "199/200 \n"
     ]
    }
   ],
   "source": [
    "x = np.array([5,1,-5])\n",
    "xs = []\n",
    "funvalue = []\n",
    "#x = np.array([u,eta,k_0])\n",
    "mInfer = Model(resolution=res,boundary=boundary,N_feat=N_feat,noiseSD=noiseSD,kernel=kInverse,sensormodel=sensors,k_0=x[2],u=x[0],eta=x[1]) #Initiate new model for inference\n",
    "for i in range(5000):\n",
    "    mInfer.k0=x[2]\n",
    "    mInfer.u=x[0]\n",
    "    mInfer.eta=x[1]\n",
    "    mInfer.computeModelRegressors() # Compute regressor matrix \n",
    "    meanZ, covZ = mInfer.computeZDistribution(yTrain) # Infers z vector mean and covariance using regressor matrix\n",
    "    sourceInfer = mInfer.computeSourceFromPhi(meanZ) # Generates estimated source using mean of the inferred distribution\n",
    "    concInfer=mInfer.computeConcentration(sourceInfer) # Generates estimated concentration from inferred source\n",
    "    dmH=np.array([np.gradient(concInfer,dt[0])/x[2],concInfer/x[2],(-x[0]*np.gradient(concInfer,dt[0])-x[1]*concInfer+sourceInfer)/(x[2]**2)])\n",
    "    result = minimize(FullCost, x, method='BFGS', jac=FullDeriv,args=(mInfer,yTrain,tlocL,sourceInfer),tol=1e-8)\n",
    "    x = result.x\n",
    "    xs.append(x)\n",
    "    funvalue.append(result.fun)\n",
    "    if i>1 and np.abs(funvalue[i]-funvalue[i-1]) < 1e-7:\n",
    "        break \n",
    "    print(x,result.fun,np.abs(funvalue[i]-funvalue[i-1]))\n",
    "    "
   ]
  },
  {
   "cell_type": "code",
   "execution_count": 66,
   "id": "60142ff3",
   "metadata": {},
   "outputs": [
    {
     "data": {
      "image/png": "[encoded data removed]",
      "text/plain": [
       "<Figure size 360x360 with 1 Axes>"
      ]
     },
     "metadata": {
      "needs_background": "light"
     },
     "output_type": "display_data"
    }
   ],
   "source": [
    "plt.plot(xs);"
   ]
  },
  {
   "cell_type": "code",
   "execution_count": 67,
   "id": "e419b0af",
   "metadata": {},
   "outputs": [
    {
     "data": {
      "image/png": "[encoded data removed]",
      "text/plain": [
       "<Figure size 360x360 with 1 Axes>"
      ]
     },
     "metadata": {
      "needs_background": "light"
     },
     "output_type": "display_data"
    }
   ],
   "source": [
    "plt.plot(funvalue);"
   ]
  },
  {
   "cell_type": "code",
   "execution_count": 68,
   "id": "567bc4b6",
   "metadata": {},
   "outputs": [
    {
     "data": {
      "image/png": "[encoded data removed]",
      "text/plain": [
       "<Figure size 360x360 with 1 Axes>"
      ]
     },
     "metadata": {
      "needs_background": "light"
     },
     "output_type": "display_data"
    },
    {
     "data": {
      "image/png": "[encoded data removed]",
      "text/plain": [
       "<Figure size 360x360 with 1 Axes>"
      ]
     },
     "metadata": {
      "needs_background": "light"
     },
     "output_type": "display_data"
    }
   ],
   "source": [
    "source_samples = []\n",
    "conc_samples=[]    \n",
    "for z_samp in np.random.multivariate_normal(meanZ, covZ,200):\n",
    "    source_samples.append(mInfer.computeSourceFromPhi(z_samp))\n",
    "    conc_samples.append(mInfer.computeConcentration(mInfer.computeSourceFromPhi(z_samp)))\n",
    "source_samples=np.array(source_samples)\n",
    "conc_samples=np.array(conc_samples)\n",
    "\n",
    "source_lower_ci = np.percentile(source_samples,2.5,0)\n",
    "source_upper_ci = np.percentile(source_samples,97.5,0)\n",
    "source_mean = np.percentile(source_samples,50,0)\n",
    "\n",
    "conc_lower_ci = np.percentile(conc_samples,2.5,0)\n",
    "conc_upper_ci = np.percentile(conc_samples,97.5,0)\n",
    "conc_mean = np.percentile(conc_samples,50,0)\n",
    "\n",
    "xtest=np.arange(Nt)\n",
    "\n",
    "#plt.figure(figsize=(15, 10))\n",
    "\n",
    "plt.plot(xtest,sourceInfer,'b-')\n",
    "plt.plot(xtest,sourceGT,'r--')\n",
    "\n",
    "#plt.plot(xtest,source_samples.T,'g-',alpha=0.3)\n",
    "#plt.fill_between(xtest,s_z_l,s_z_upper,alpha=0.5)\n",
    "plt.fill_between(xtest,source_lower_ci,source_upper_ci,alpha=0.5)\n",
    "plt.legend(labels=[\"estimated source term\",\"True source term\"])\n",
    "plt.title(\"Source function \")\n",
    "plt.xlabel(\"Input, t\")\n",
    "plt.ylabel(\"output, f(t)\")\n",
    "#plt.ylim([-5,5])\n",
    "plt.savefig('NumberFeature%d.pdf' % N_feat)\n",
    "plt.show()\n",
    "\n",
    "#plt.figure(figsize=(15, 10))\n",
    "\n",
    "plt.plot(xtest,concInfer,'b-')\n",
    "plt.plot(xtest,concTrain,'r--')\n",
    "\n",
    "#plt.plot(xtest,source_samples.T,'g-',alpha=0.3)\n",
    "#plt.fill_between(xtest,s_z_l,s_z_upper,alpha=0.5)\n",
    "plt.fill_between(xtest,conc_lower_ci,conc_upper_ci,alpha=0.5)\n",
    "plt.legend(labels=[\"estimated concentration\",\"True concentration\"])\n",
    "plt.title(\"Concentration\")\n",
    "plt.xlabel(\"Input, t\")\n",
    "plt.ylabel(\"output, f(t)\")\n",
    "#plt.ylim([-5,5])\n",
    "plt.savefig('NumberFeature%d.pdf' % N_feat)\n",
    "plt.show()"
   ]
  },
  {
   "cell_type": "code",
   "execution_count": null,
   "id": "fd8eaf4b",
   "metadata": {},
   "outputs": [],
   "source": []
  },
  {
   "cell_type": "code",
   "execution_count": null,
   "id": "7d02a8a5",
   "metadata": {
    "scrolled": true
   },
   "outputs": [],
   "source": [
    "np.sum((m.computeConcentration(sourceGT)-mInfer.computeConcentration(sourceInfer))**2)/200"
   ]
  },
  {
   "cell_type": "code",
   "execution_count": null,
   "id": "c9ff169c",
   "metadata": {},
   "outputs": [],
   "source": [
    "plt.plot(mInfer.computeConcentration(sourceInfer))"
   ]
  },
  {
   "cell_type": "code",
   "execution_count": null,
   "id": "bdf7f082",
   "metadata": {},
   "outputs": [],
   "source": [
    "mInfer.k_0"
   ]
  },
  {
   "cell_type": "code",
   "execution_count": 94,
   "id": "8755322f",
   "metadata": {},
   "outputs": [],
   "source": [
    "def getdPhiDerivative1D(model,coords):\n",
    "    \"\"\"\n",
    "    Generates a (N_feat,Nt) matrix of basis vectors using features from generateFeatures \n",
    "    Arguments:\n",
    "        coords: map of all (t) points in the grid\n",
    "    \"\"\"\n",
    "    assert model.kernel.W is not None, \"Need to call generateFeatures before computing phi.\"\n",
    "    norm = 1./np.sqrt(model.kernel.N_feat)\n",
    "\n",
    "    #We assume that we are using the e^-(1/2 * x^2/l^2) definition of the EQ kernel,\n",
    "    #(in Mauricio's definition he doesn't use the 1/2 factor - but that's less standard).\n",
    "    #c=np.sqrt(2.0)/(self.l2)\n",
    "    c=1/(model.kernel.l2)\n",
    "    for w,b in zip(model.kernel.W,model.kernel.b):\n",
    "        dphi=w*np.array(coords)*(c**2)*norm*np.sqrt(2*model.kernel.sigma2)*np.sin((c*w*np.array(coords))+b)\n",
    "        yield dphi"
   ]
  },
  {
   "cell_type": "code",
   "execution_count": 95,
   "id": "ae4a0b1f",
   "metadata": {},
   "outputs": [],
   "source": [
    "def computeSourceDerivative(model,z,coords=None):\n",
    "        \"\"\"\n",
    "        uses getPhi from the kernel and a given z vector to generate a source function     \n",
    "        set coords to a matrix: (3 x Grid Resolution), e.g. (3, 300, 80, 80)\n",
    "                e.g. coords=np.asarray(np.meshgrid(tt,xx,yy,indexing='ij'))\n",
    "        \n",
    "        \"\"\"\n",
    "        if coords is None: coords = model.coords\n",
    "        resolution = np.array(coords.shape[0:])\n",
    "        source = np.zeros(resolution) \n",
    "        \n",
    "        for i,dphi in enumerate(getdPhiDerivative1D(model,model.coords)):\n",
    "            source += dphi*z[i]\n",
    "        \n",
    "        return source"
   ]
  },
  {
   "cell_type": "code",
   "execution_count": 96,
   "id": "ca8e0e51",
   "metadata": {},
   "outputs": [],
   "source": [
    "def d_mLLambda(l,model,obs,tloc,z):\n",
    "    \n",
    "    # change parameters in model object\n",
    "    model.kernel.l2=l \n",
    "\n",
    "    \n",
    "    # calculate useful valyes\n",
    "    dt,dt2,Nt = model.getGridStepSize()\n",
    "    source=model.computeSourceFromPhi(z)\n",
    "    # compute concentration with new parameters\n",
    "    conc=model.computeConcentration(source)\n",
    "    \n",
    "    #compute cost derivative and cost\n",
    "    dc=dcost(obs,tloc,conc,model)\n",
    "    c=cost(obs,tloc,conc,model)\n",
    "    \n",
    "    # derivative of h operator with respect to parameters\n",
    "    \n",
    "    dmH=-computeSourceDerivative(model,z)/model.k_0\n",
    "\n",
    "    # compute and calculate Lagrangian derivative integral\n",
    "    integrand = -computeGradientAdjoint(dc,model)*dmH.T\n",
    "    L_m = np.trapz(integrand,dx=dt)\n",
    "    #L_m = np.sum(integrand)*dt #alternate calculation using naive numerical integration\n",
    "    return L_m, dc,c\n"
   ]
  },
  {
   "cell_type": "code",
   "execution_count": 97,
   "id": "1ca73408",
   "metadata": {},
   "outputs": [],
   "source": [
    "mInfer.kernel.l2=3\n",
    "\n",
    "\n",
    "# calculate useful valyes\n",
    "dt,dt2,Nt = mInfer.getGridStepSize()\n",
    "source=mInfer.computeSourceFromPhi(z)\n",
    "# compute concentration with new parameters\n",
    "conc=mInfer.computeConcentration(source)\n",
    "\n",
    "#compute cost derivative and cost\n",
    "dc=dcost(yTrain,tlocL,conc,mInfer)\n",
    "#c=cost(obs,tloc,conc,mInfer)\n",
    "\n",
    "# derivative of h operator with respect to parameters\n",
    "\n",
    "dmH=-computeSourceDerivative(mInfer,meanZ)/mInfer.k_0\n",
    "\n",
    "# compute and calculate Lagrangian derivative integral\n",
    "integrand = computeGradientAdjoint(dc,mInfer)*dmH.T\n",
    "L_m = np.trapz(integrand,dx=dt)"
   ]
  },
  {
   "cell_type": "code",
   "execution_count": 98,
   "id": "bb2ec89f",
   "metadata": {},
   "outputs": [
    {
     "data": {
      "text/plain": [
       "array([[ 0.        ,  0.00504725,  0.01013435,  0.01525999,  0.02042283,\n",
       "         0.0256215 ,  0.03085461,  0.03612074,  0.04141845,  0.04674628,\n",
       "         0.05210274,  0.0574863 ,  0.06289543,  0.06832857,  0.07378412,\n",
       "         0.07926048,  0.08475601,  0.09026906,  0.09579795,  0.10134099,\n",
       "         0.10689644,  0.11246257,  0.11803762,  0.1236198 ,  0.12920732,\n",
       "         0.13479835,  0.14039104,  0.14598356,  0.15157401,  0.1571605 ,\n",
       "         0.16274113,  0.16831396,  0.17387706,  0.17942847,  0.18496622,\n",
       "         0.19048831,  0.19599275,  0.20147752,  0.2069406 ,  0.21237996,\n",
       "         0.21779353,  0.22317926,  0.22853509,  0.23385892,  0.23914867,\n",
       "         0.24440225,  0.24961755,  0.25479245,  0.25992484,  0.26501259,\n",
       "         0.27005358,  0.27504567,  0.27998672,  0.2848746 ,  0.28970715,\n",
       "         0.29448224,  0.29919772,  0.30385145,  0.30844127,  0.31296505,\n",
       "         0.31742065,  0.32180592,  0.32611873,  0.33035695,  0.33451845,\n",
       "         0.33860111,  0.34260282,  0.34652147,  0.35035495,  0.35410119,\n",
       "         0.3577581 ,  0.36132361,  0.36479565,  0.36817219,  0.37145118,\n",
       "         0.37463061,  0.37770846,  0.38068275,  0.38355149,  0.38631273,\n",
       "         0.38896453,  0.39150496,  0.39393211,  0.39624409,  0.39843905,\n",
       "         0.40051513,  0.40247052,  0.40430341,  0.40601203,  0.40759462,\n",
       "         0.40904946,  0.41037484,  0.4115691 ,  0.41263058,  0.41355767,\n",
       "         0.41434878,  0.41500233,  0.41551682,  0.41589073,  0.41612259,\n",
       "         0.41621099,  0.4161545 ,  0.41595177,  0.41560145,  0.41510227,\n",
       "         0.41445294,  0.41365226,  0.41269903,  0.4115921 ,  0.41033036,\n",
       "         0.40891274,  0.40733821,  0.40560578,  0.40371451,  0.40166348,\n",
       "         0.39945183,  0.39707874,  0.39454343,  0.39184517,  0.38898327,\n",
       "         0.38595709,  0.38276603,  0.37940953,  0.37588711,  0.37219829,\n",
       "         0.36834267,  0.3643199 ,  0.36012965,  0.35577168,  0.35124575,\n",
       "         0.34655173,  0.34168948,  0.33665896,  0.33146015,  0.3260931 ,\n",
       "         0.32055789,  0.31485469,  0.30898368,  0.30294512,  0.29673931,\n",
       "         0.29036662,  0.28382745,  0.27712228,  0.27025161,  0.26321604,\n",
       "         0.25601619,  0.24865274,  0.24112644,  0.23343807,  0.22558848,\n",
       "         0.21757859,  0.20940935,  0.20108177,  0.19259693,  0.18395594,\n",
       "         0.17516   ,  0.16621034,  0.15710824,  0.14785506,  0.1384522 ,\n",
       "         0.1289011 ,  0.1192033 ,  0.10936034,  0.09937385,  0.08924551,\n",
       "         0.07897704,  0.06857024,  0.05802692,  0.04734899,  0.0365384 ,\n",
       "         0.02559712,  0.01452722,  0.0033308 , -0.00799   , -0.01943297,\n",
       "        -0.03099584, -0.04267632, -0.05447205, -0.06638062, -0.07839957,\n",
       "        -0.09052641, -0.10275858, -0.11509347, -0.12752844, -0.1400608 ,\n",
       "        -0.1526878 , -0.16540665, -0.17821453, -0.19110857, -0.20408583,\n",
       "        -0.21714337, -0.23027817, -0.24348719, -0.25676734, -0.2701155 ,\n",
       "        -0.28352851, -0.29700315, -0.31053619, -0.32412435, -0.33776431,\n",
       "        -0.35145273, -0.36518622, -0.37896137, -0.39277472, -0.4066228 ,\n",
       "        -0.42050209, -0.43440905, -0.44834011, -0.46229168, -0.47626014,\n",
       "        -0.49024182, -0.50423306, -0.51823016, -0.53222939, -0.54622703,\n",
       "        -0.56021929, -0.5742024 , -0.58817257, -0.60212596, -0.61605876,\n",
       "        -0.6299671 , -0.64384713, -0.65769497, -0.67150673, -0.68527852,\n",
       "        -0.69900643, -0.71268655, -0.72631495, -0.7398877 , -0.75340088,\n",
       "        -0.76685056, -0.78023278, -0.79354362, -0.80677914, -0.81993541,\n",
       "        -0.83300848, -0.84599444, -0.85888936, -0.87168933, -0.88439042,\n",
       "        -0.89698876, -0.90948044, -0.92186159, -0.93412834, -0.94627685,\n",
       "        -0.95830328, -0.97020382, -0.98197465, -0.99361201, -1.00511213,\n",
       "        -1.01647127, -1.02768572, -1.03875178, -1.04966579, -1.06042411,\n",
       "        -1.07102313, -1.08145926, -1.09172896, -1.10182871, -1.111755  ,\n",
       "        -1.12150441, -1.13107349, -1.14045888, -1.14965723, -1.15866523,\n",
       "        -1.16747961, -1.17609716, -1.18451469, -1.19272907, -1.20073719,\n",
       "        -1.20853601, -1.21612252, -1.22349378, -1.23064688, -1.23757895,\n",
       "        -1.24428721, -1.25076889, -1.25702129, -1.26304178, -1.26882775,\n",
       "        -1.27437668, -1.27968609, -1.28475356, -1.28957672, -1.29415329,\n",
       "        -1.29848101, -1.30255771, -1.30638127, -1.30994964, -1.31326083,\n",
       "        -1.31631291, -1.31910403, -1.3216324 , -1.32389629, -1.32589403,\n",
       "        -1.32762405, -1.32908483, -1.33027491, -1.33119291, -1.33183752,\n",
       "        -1.33220752, -1.33230172, -1.33211905, -1.33165849, -1.33091908,\n",
       "        -1.32989995, -1.32860032, -1.32701946, -1.32515672, -1.32301154,\n",
       "        -1.32058342, -1.31787195, -1.31487678, -1.31159765, -1.30803437,\n",
       "        -1.30418684, -1.30005503, -1.29563897, -1.29093881, -1.28595474,\n",
       "        -1.28068704, -1.27513607, -1.26930227, -1.26318616, -1.25678833,\n",
       "        -1.25010946, -1.24315028, -1.23591164, -1.22839444, -1.22059967,\n",
       "        -1.21252838, -1.20418171, -1.19556089, -1.18666721, -1.17750202,\n",
       "        -1.1680668 , -1.15836304, -1.14839235, -1.13815641, -1.12765696,\n",
       "        -1.11689582, -1.10587489, -1.09459613, -1.08306159, -1.07127339,\n",
       "        -1.05923369, -1.04694477, -1.03440895, -1.02162862, -1.00860626,\n",
       "        -0.99534438, -0.9818456 , -0.96811258, -0.95414806, -0.93995483,\n",
       "        -0.92553576, -0.91089377, -0.89603186, -0.88095308, -0.86566054,\n",
       "        -0.85015741, -0.83444692, -0.81853237, -0.80241709, -0.7861045 ,\n",
       "        -0.76959805, -0.75290125, -0.73601767, -0.71895091, -0.70170466,\n",
       "        -0.68428262, -0.66668856, -0.6489263 , -0.63099968, -0.61291261,\n",
       "        -0.59466903, -0.57627294, -0.55772837, -0.53903938, -0.52021008,\n",
       "        -0.50124461, -0.48214716, -0.46292194, -0.4435732 , -0.42410522,\n",
       "        -0.40452231, -0.38482882, -0.3650291 , -0.34512755, -0.3251286 ,\n",
       "        -0.30503669, -0.28485628, -0.26459186, -0.24424793, -0.22382902,\n",
       "        -0.20333966, -0.18278443, -0.16216787, -0.14149458, -0.12076914,\n",
       "        -0.09999617, -0.07918025, -0.05832603, -0.0374381 , -0.0165211 ,\n",
       "         0.00442035,  0.02538161,  0.04635807,  0.06734511,  0.08833809,\n",
       "         0.10933242,  0.13032347,  0.15130665,  0.17227738,  0.19323107,\n",
       "         0.21416315,  0.23506908,  0.25594432,  0.27678434,  0.29758464,\n",
       "         0.31834075,  0.3390482 ,  0.35970254,  0.38029937,  0.4008343 ,\n",
       "         0.42130295,  0.441701  ,  0.46202412,  0.48226806,  0.50242855,\n",
       "         0.52250139,  0.5424824 ,  0.56236743,  0.58215237,  0.60183316,\n",
       "         0.62140576,  0.64086619,  0.6602105 ,  0.67943477,  0.69853515,\n",
       "         0.71750782,  0.73634901,  0.75505498,  0.77362206,  0.79204663,\n",
       "         0.8103251 ,  0.82845395,  0.84642969,  0.86424892,  0.88190825,\n",
       "         0.89940437,  0.91673403,  0.93389402,  0.9508812 ,  0.96769247,\n",
       "         0.98432482,  1.00077526,  1.0170409 ,  1.03311888,  1.04900642,\n",
       "         1.06470079,  1.08019933,  1.09549945,  1.11059862,  1.12549435,\n",
       "         1.14018426,  1.154666  ,  1.1689373 ,  1.18299595,  1.19683982,\n",
       "         1.21046684,  1.22387501,  1.23706238,  1.25002709,  1.26276735,\n",
       "         1.27528142,  1.28756764,  1.29962442,  1.31145025,  1.32304366,\n",
       "         1.33440328,  1.34552779,  1.35641595,  1.36706658,  1.37747858,\n",
       "         1.38765091,  1.39758262,  1.4072728 ,  1.41672062,  1.42592534,\n",
       "         1.43488625,  1.44360275,  1.45207428,  1.46030035,  1.46828055,\n",
       "         1.47601454,  1.48350203,  1.4907428 ,  1.49773672,  1.50448369]])"
      ]
     },
     "execution_count": 98,
     "metadata": {},
     "output_type": "execute_result"
    }
   ],
   "source": [
    "dmH.T"
   ]
  },
  {
   "cell_type": "code",
   "execution_count": 99,
   "id": "64b0efb6",
   "metadata": {
    "scrolled": true
   },
   "outputs": [],
   "source": [
    "reps=500\n",
    "\n",
    "# initialise outputs\n",
    "p=np.zeros((1,reps)) # parameters\n",
    "p2=np.zeros((1,reps)) # parameters\n",
    "d=np.zeros((1,reps-1)) # derivative\n",
    "dTest=np.zeros((1,reps-1)) # forward difference derivative approximation\n",
    "dTest2=np.zeros((1,reps-1)) # central difference derivative approximation\n",
    "Fc=np.zeros((1,reps-1)) # integrated cost function\n",
    "p[:,0]=3 # first parameter value]\n",
    "p2[:,0]=3 # first parameter value\n",
    "eps2=1e-10\n",
    "for i in range(reps-1):\n",
    "    l = p[:,i]\n",
    "    l2 = p2[:,i]\n",
    "    dmL, dc,c=d_mLLambda(l,mInfer,yTrain,tlocL,meanZ)\n",
    "    d[:,i]=dmL\n",
    "    p[:,i+1]=p[:,i]-1*dmL\n",
    "    \n",
    "    Fc[:,i] = sum(c)*dt\n",
    "    dmL2, dc2,c2=d_mLLambda(l2+eps2,mInfer,yTrain,tlocL,meanZ)\n",
    "    dmL3, dc3,c3=d_mLLambda(l2,mInfer,yTrain,tlocL,meanZ)\n",
    "    dmL4, dc4,c4=d_mLLambda(l+eps2,mInfer,yTrain,tlocL,meanZ)\n",
    "    #dmL3, dc3,c3=d_mL(k_01,u1,eta1+eps2,mInfer,yTrain,tlocL,sourceInfer)\n",
    "    #dmL4, dc4,c4=d_mL(k_01+eps2,u1,eta1,mInfer,yTrain,tlocL,sourceInfer)\n",
    "    # dmL5, dc5,c5=d_mL(dmH,k_01,u1-eps2,eta1,m,yTrain,tlocL,sourceInfer)\n",
    "    #dmL6, dc6,c6=d_mL(dmH,k_01,u1,eta1-eps2,m,yTrain,tlocL,sourceInfer)\n",
    "    # dmL7, dc7,c7=d_mL(dmH,k_01-eps2,u1,eta1,m,yTrain,tlocL,sourceInfer)\n",
    "    \n",
    "    #dTest[:,i:i+1] = (np.array((sum((c2))*dt-sum((c5))*dt,sum((c3))*dt-sum((c6))*dt,sum((c4))*dt-sum((c7))*dt)))/(2*eps2)\n",
    "    dTest2[:,i:i+1] = ((sum(c2)*dt)-(sum(c3)*dt))/(eps2)\n",
    "    dTest[:,i:i+1] = ((sum(c4)*dt)-(sum(c)*dt))/(eps2)\n",
    "    p2[:,i+1]=p2[:,i]-1*dTest2[:,i:i+1] "
   ]
  },
  {
   "cell_type": "code",
   "execution_count": 100,
   "id": "57f771e0",
   "metadata": {},
   "outputs": [
    {
     "data": {
      "text/plain": [
       "array([0.00024432])"
      ]
     },
     "execution_count": 100,
     "metadata": {},
     "output_type": "execute_result"
    }
   ],
   "source": [
    "dmL"
   ]
  },
  {
   "cell_type": "code",
   "execution_count": 101,
   "id": "9ef74979",
   "metadata": {
    "scrolled": true
   },
   "outputs": [
    {
     "data": {
      "text/plain": [
       "[<matplotlib.lines.Line2D at 0x238c3794850>]"
      ]
     },
     "execution_count": 101,
     "metadata": {},
     "output_type": "execute_result"
    },
    {
     "data": {
      "image/png": "[encoded data removed]",
      "text/plain": [
       "<Figure size 360x360 with 1 Axes>"
      ]
     },
     "metadata": {
      "needs_background": "light"
     },
     "output_type": "display_data"
    }
   ],
   "source": [
    "plt.plot(p.T)"
   ]
  },
  {
   "cell_type": "code",
   "execution_count": 102,
   "id": "4a1557d6",
   "metadata": {},
   "outputs": [
    {
     "data": {
      "text/plain": [
       "[<matplotlib.lines.Line2D at 0x238c37e3b80>]"
      ]
     },
     "execution_count": 102,
     "metadata": {},
     "output_type": "execute_result"
    },
    {
     "data": {
      "image/png": "[encoded data removed]",
      "text/plain": [
       "<Figure size 360x360 with 1 Axes>"
      ]
     },
     "metadata": {
      "needs_background": "light"
     },
     "output_type": "display_data"
    }
   ],
   "source": [
    "plt.plot(p2.T)"
   ]
  },
  {
   "cell_type": "code",
   "execution_count": 103,
   "id": "92f8ea96",
   "metadata": {
    "scrolled": false
   },
   "outputs": [
    {
     "data": {
      "text/plain": [
       "[<matplotlib.lines.Line2D at 0x238c3835eb0>]"
      ]
     },
     "execution_count": 103,
     "metadata": {},
     "output_type": "execute_result"
    },
    {
     "data": {
      "image/png": "[encoded data removed]",
      "text/plain": [
       "<Figure size 360x360 with 1 Axes>"
      ]
     },
     "metadata": {
      "needs_background": "light"
     },
     "output_type": "display_data"
    }
   ],
   "source": [
    "plt.plot(Fc.T)"
   ]
  },
  {
   "cell_type": "code",
   "execution_count": 104,
   "id": "19442c17",
   "metadata": {
    "scrolled": true
   },
   "outputs": [
    {
     "data": {
      "text/plain": [
       "[<matplotlib.lines.Line2D at 0x238c388e940>]"
      ]
     },
     "execution_count": 104,
     "metadata": {},
     "output_type": "execute_result"
    },
    {
     "data": {
      "image/png": "[encoded data removed]",
      "text/plain": [
       "<Figure size 360x360 with 1 Axes>"
      ]
     },
     "metadata": {
      "needs_background": "light"
     },
     "output_type": "display_data"
    }
   ],
   "source": [
    "plt.plot(d.T)"
   ]
  },
  {
   "cell_type": "code",
   "execution_count": 105,
   "id": "4796d935",
   "metadata": {},
   "outputs": [
    {
     "data": {
      "text/plain": [
       "[<matplotlib.lines.Line2D at 0x238c78aa6d0>]"
      ]
     },
     "execution_count": 105,
     "metadata": {},
     "output_type": "execute_result"
    },
    {
     "data": {
      "image/png": "[encoded data removed]",
      "text/plain": [
       "<Figure size 360x360 with 1 Axes>"
      ]
     },
     "metadata": {
      "needs_background": "light"
     },
     "output_type": "display_data"
    }
   ],
   "source": [
    "plt.plot(dTest.T)"
   ]
  },
  {
   "cell_type": "code",
   "execution_count": 106,
   "id": "a3729e3b",
   "metadata": {},
   "outputs": [
    {
     "data": {
      "text/plain": [
       "[<matplotlib.lines.Line2D at 0x238c373cf70>]"
      ]
     },
     "execution_count": 106,
     "metadata": {},
     "output_type": "execute_result"
    },
    {
     "data": {
      "image/png": "[encoded data removed]",
      "text/plain": [
       "<Figure size 360x360 with 1 Axes>"
      ]
     },
     "metadata": {
      "needs_background": "light"
     },
     "output_type": "display_data"
    }
   ],
   "source": [
    "plt.plot(dTest2.T)"
   ]
  },
  {
   "cell_type": "code",
   "execution_count": 107,
   "id": "4990eafc",
   "metadata": {},
   "outputs": [
    {
     "data": {
      "text/plain": [
       "1.7415479389645816e-10"
      ]
     },
     "execution_count": 107,
     "metadata": {},
     "output_type": "execute_result"
    }
   ],
   "source": [
    "np.mean(np.sum((dTest-d)**2))"
   ]
  },
  {
   "cell_type": "code",
   "execution_count": 108,
   "id": "ed545878",
   "metadata": {},
   "outputs": [
    {
     "data": {
      "text/plain": [
       "array([0.0085051])"
      ]
     },
     "execution_count": 108,
     "metadata": {},
     "output_type": "execute_result"
    }
   ],
   "source": [
    "sum(c2)*dt"
   ]
  },
  {
   "cell_type": "code",
   "execution_count": 109,
   "id": "d2d4f115",
   "metadata": {},
   "outputs": [
    {
     "name": "stdout",
     "output_type": "stream",
     "text": [
      "[0.00198357] [-0.01786641] [0.00905829]\n"
     ]
    }
   ],
   "source": [
    "dmL, dc,c=d_mLLambda(3,mInfer,yTrain,tlocL,meanZ)\n",
    "print(dmL,sum(dc)*dt,sum(c)*dt)"
   ]
  },
  {
   "cell_type": "code",
   "execution_count": 110,
   "id": "c5ed7bf6",
   "metadata": {},
   "outputs": [
    {
     "name": "stdout",
     "output_type": "stream",
     "text": [
      "[0.00198592] [-0.01786746] [0.00906027]\n"
     ]
    }
   ],
   "source": [
    "dmL2, dc2,c2=d_mLLambda(3+0.001,mInfer,yTrain,tlocL,meanZ)\n",
    "print(dmL2,sum(dc2)*dt,sum(c2)*dt)"
   ]
  },
  {
   "cell_type": "code",
   "execution_count": 111,
   "id": "6887eb6e",
   "metadata": {},
   "outputs": [
    {
     "data": {
      "text/plain": [
       "array([0.00198474])"
      ]
     },
     "execution_count": 111,
     "metadata": {},
     "output_type": "execute_result"
    }
   ],
   "source": [
    "(sum(c2)*dt-sum(c)*dt)/0.001"
   ]
  },
  {
   "cell_type": "code",
   "execution_count": 112,
   "id": "51926bb3",
   "metadata": {},
   "outputs": [
    {
     "data": {
      "text/plain": [
       "-1.0"
      ]
     },
     "execution_count": 112,
     "metadata": {},
     "output_type": "execute_result"
    }
   ],
   "source": [
    "mInfer.k_0"
   ]
  },
  {
   "cell_type": "code",
   "execution_count": 113,
   "id": "6011291f",
   "metadata": {},
   "outputs": [],
   "source": [
    "def FullCost(x,model,obs,tloc,z):\n",
    "    model.kernel.l2=x\n",
    "    dt,dt2,Nt = model.getGridStepSize()\n",
    "    source=model.computeSourceFromPhi(z)\n",
    "    # compute concentration with new parameters\n",
    "    conc=model.computeConcentration(source)\n",
    "    \n",
    "    #compute cost derivative and cost\n",
    "    dc=dcost(obs,tloc,conc,model)\n",
    "    c1=cost(obs,tloc,conc,model)\n",
    "    \n",
    "    c = np.sum(c1)*dt\n",
    "    \n",
    "    return c"
   ]
  },
  {
   "cell_type": "code",
   "execution_count": 115,
   "id": "a2ec2cde",
   "metadata": {},
   "outputs": [],
   "source": [
    "c = FullCost(2,mInfer,yTrain,tlocL,meanZ)"
   ]
  },
  {
   "cell_type": "code",
   "execution_count": 116,
   "id": "c5ec2151",
   "metadata": {},
   "outputs": [
    {
     "data": {
      "text/plain": [
       "array([0.00901379])"
      ]
     },
     "execution_count": 116,
     "metadata": {},
     "output_type": "execute_result"
    }
   ],
   "source": [
    "c"
   ]
  },
  {
   "cell_type": "code",
   "execution_count": 117,
   "id": "cf2ac068",
   "metadata": {},
   "outputs": [],
   "source": [
    "def FullDeriv(x,model,obs,tloc,source):\n",
    "    model.kernel.l2=x \n",
    "\n",
    "    \n",
    "    # calculate useful valyes\n",
    "    dt,dt2,Nt = model.getGridStepSize()\n",
    "    source=model.computeSourceFromPhi(z)\n",
    "    # compute concentration with new parameters\n",
    "    conc=model.computeConcentration(source)\n",
    "    \n",
    "    #compute cost derivative and cost\n",
    "    dc=dcost(obs,tloc,conc,model)\n",
    "    c=cost(obs,tloc,conc,model)\n",
    "    \n",
    "    # derivative of h operator with respect to parameters\n",
    "    \n",
    "    dmH=-computeSourceDerivative(model,z)/model.k_0\n",
    "\n",
    "    # compute and calculate Lagrangian derivative integral\n",
    "    integrand = -computeGradientAdjoint(dc,model)*dmH.T\n",
    "    L_m = np.trapz(integrand,dx=dt)\n",
    "    #L_m = np.sum(integrand)*dt\n",
    "    return L_m"
   ]
  },
  {
   "cell_type": "code",
   "execution_count": 118,
   "id": "5fa01a0b",
   "metadata": {
    "scrolled": true
   },
   "outputs": [
    {
     "data": {
      "text/plain": [
       "array([0.00189831])"
      ]
     },
     "execution_count": 118,
     "metadata": {},
     "output_type": "execute_result"
    }
   ],
   "source": [
    "FullDeriv(3,mInfer,yTrain,tlocL,meanZ)"
   ]
  },
  {
   "cell_type": "code",
   "execution_count": 119,
   "id": "8b95714e",
   "metadata": {},
   "outputs": [],
   "source": [
    "from scipy.optimize import minimize"
   ]
  },
  {
   "cell_type": "code",
   "execution_count": 139,
   "id": "c1c45abf",
   "metadata": {},
   "outputs": [],
   "source": [
    "#x0 = [u+0.001,eta+0.001,k_0+0.001,2+0.001]\n",
    "x0=0.6"
   ]
  },
  {
   "cell_type": "code",
   "execution_count": 140,
   "id": "dfbbe833",
   "metadata": {},
   "outputs": [
    {
     "name": "stdout",
     "output_type": "stream",
     "text": [
      "Warning: Desired error not necessarily achieved due to precision loss.\n",
      "         Current function value: 0.000008\n",
      "         Iterations: 0\n",
      "         Function evaluations: 60\n",
      "         Gradient evaluations: 48\n"
     ]
    }
   ],
   "source": [
    "result = minimize(FullCost,x0, method='BFGS', jac=FullDeriv,args=(mInfer,yTrain,tlocL,meanZ),options={'disp': True})#,tol=1e-8)"
   ]
  },
  {
   "cell_type": "code",
   "execution_count": 141,
   "id": "319fc1f8",
   "metadata": {
    "scrolled": true
   },
   "outputs": [
    {
     "data": {
      "text/plain": [
       "      fun: 8.07373714063919e-06\n",
       " hess_inv: array([[1]])\n",
       "      jac: array([-0.0308957])\n",
       "  message: 'Desired error not necessarily achieved due to precision loss.'\n",
       "     nfev: 60\n",
       "      nit: 0\n",
       "     njev: 48\n",
       "   status: 2\n",
       "  success: False\n",
       "        x: array([0.6])"
      ]
     },
     "execution_count": 141,
     "metadata": {},
     "output_type": "execute_result"
    }
   ],
   "source": [
    "result"
   ]
  },
  {
   "cell_type": "code",
   "execution_count": null,
   "id": "d80044ad",
   "metadata": {},
   "outputs": [],
   "source": []
  },
  {
   "cell_type": "code",
   "execution_count": 142,
   "id": "8ec353fe",
   "metadata": {},
   "outputs": [],
   "source": [
    "fc = np.zeros(1000)\n",
    "dc = np.zeros(1000)\n",
    "x=np.linspace(0.1,5,1000)\n",
    "for i in range(1000):\n",
    "    fc[i] = FullCost(x[i],mInfer,yTrain,tlocL,meanZ)\n",
    "    dc[i] = FullDeriv(x[i],mInfer,yTrain,tlocL,meanZ)"
   ]
  },
  {
   "cell_type": "code",
   "execution_count": 143,
   "id": "7ff44546",
   "metadata": {
    "scrolled": true
   },
   "outputs": [
    {
     "data": {
      "text/plain": [
       "[<matplotlib.lines.Line2D at 0x238c3a9a790>]"
      ]
     },
     "execution_count": 143,
     "metadata": {},
     "output_type": "execute_result"
    },
    {
     "data": {
      "image/png": "[encoded data removed]",
      "text/plain": [
       "<Figure size 360x360 with 1 Axes>"
      ]
     },
     "metadata": {
      "needs_background": "light"
     },
     "output_type": "display_data"
    }
   ],
   "source": [
    "plt.plot(x,fc)"
   ]
  },
  {
   "cell_type": "code",
   "execution_count": 144,
   "id": "c4be70ee",
   "metadata": {},
   "outputs": [
    {
     "data": {
      "text/plain": [
       "[<matplotlib.lines.Line2D at 0x238c5814520>]"
      ]
     },
     "execution_count": 144,
     "metadata": {},
     "output_type": "execute_result"
    },
    {
     "data": {
      "image/png": "[encoded data removed]",
      "text/plain": [
       "<Figure size 360x360 with 1 Axes>"
      ]
     },
     "metadata": {
      "needs_background": "light"
     },
     "output_type": "display_data"
    }
   ],
   "source": [
    "plt.plot(x,dc)"
   ]
  },
  {
   "cell_type": "code",
   "execution_count": 145,
   "id": "9cba8141",
   "metadata": {},
   "outputs": [],
   "source": [
    "def FullDeriv(x,model,obs,tloc,z):\n",
    "    model.k_0=x[2]\n",
    "    model.u=x[0]\n",
    "    model.eta=x[1]\n",
    "    model.kernel.l2=x[3]\n",
    "\n",
    "    \n",
    "    # calculate useful valyes\n",
    "    dt,dt2,Nt = model.getGridStepSize()\n",
    "    source=model.computeSourceFromPhi(z)\n",
    "    # compute concentration with new parameters\n",
    "    conc=model.computeConcentration(source)\n",
    "    \n",
    "    #compute cost derivative and cost\n",
    "    dc=dcost(obs,tloc,conc,model)\n",
    "    c=cost(obs,tloc,conc,model)\n",
    "    \n",
    "    # derivative of h operator with respect to parameters\n",
    "    dmH=np.array([np.gradient(conc,dt[0])/model.k_0,conc/model.k_0,(-model.u*np.gradient(conc,dt[0])-model.eta*conc+source)/model.k_0**2],-computeSourceDerivative(model,z)/model.k_0)\n",
    "\n",
    "    # compute and calculate Lagrangian derivative integral\n",
    "    integrand = -computeGradientAdjoint(dc,model)*dmH\n",
    "    L_m = np.trapz(integrand,dx=dt)\n",
    "    #\n",
    "    L_m = np.sum(integrand)*dt\n",
    "    return L_m"
   ]
  },
  {
   "cell_type": "code",
   "execution_count": 146,
   "id": "35aa9f64",
   "metadata": {},
   "outputs": [],
   "source": [
    "def FullCost(x,model,obs,tloc,z):\n",
    "    model.k_0=x[2]\n",
    "    model.u=x[0]\n",
    "    model.eta=x[1]\n",
    "    model.kernel.l2=x[3]\n",
    "    dt,dt2,Nt = model.getGridStepSize()\n",
    "    source=model.computeSourceFromPhi(z)\n",
    "    # compute concentration with new parameters\n",
    "    conc=model.computeConcentration(source)\n",
    "    \n",
    "    #compute cost derivative and cost\n",
    "    dc=dcost(obs,tloc,conc,model)\n",
    "    c1=cost(obs,tloc,conc,model)\n",
    "    \n",
    "    c = np.sum(c1)*dt\n",
    "    \n",
    "    return c"
   ]
  },
  {
   "cell_type": "code",
   "execution_count": null,
   "id": "11e7f76f",
   "metadata": {},
   "outputs": [],
   "source": []
  }
 ],
 "metadata": {
  "kernelspec": {
   "display_name": "Python 3 (ipykernel)",
   "language": "python",
   "name": "python3"
  },
  "language_info": {
   "codemirror_mode": {
    "name": "ipython",
    "version": 3
   },
   "file_extension": ".py",
   "mimetype": "text/x-python",
   "name": "python",
   "nbconvert_exporter": "python",
   "pygments_lexer": "ipython3",
   "version": "3.9.7"
  }
 },
 "nbformat": 4,
 "nbformat_minor": 5
}
