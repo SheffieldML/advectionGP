{
 "cells": [
  {
   "cell_type": "code",
   "execution_count": 1,
   "metadata": {},
   "outputs": [],
   "source": [
    "from advectionGP import Model, EQ\n",
    "import numpy as np\n",
    "\n",
    "X = np.array([[0,2,3,4],[0,2,6,7],[0,1,3,7],[0,1,6,4],[2,4,3,4],[2,4,6,7],[2,3,3,7],[2,3,6,4]])\n",
    "y = np.array([12,13,15,16,13,14,10,9])\n",
    "boundary = ([0,0,0],[10,10,10])\n",
    "\n",
    "k = EQ(1.0, 2.0)\n",
    "m = Model(X,y,resolution=[2,2,2],boundary=boundary,N_feat=15,noise_std=5.0,kernel=k)"
   ]
  },
  {
   "cell_type": "code",
   "execution_count": 2,
   "metadata": {},
   "outputs": [],
   "source": [
    "tloc = np.linspace(boundary[0][2],boundary[1][2],16)\n",
    "xloc=np.linspace(0.5,7.5,5)\n",
    "yloc=np.linspace(0.5,7.5,5)\n",
    "sensN = len(xloc)*len(yloc)\n",
    "obsN = len(tloc)\n",
    "coords = np.asarray(np.meshgrid(xloc,yloc)).reshape(2,sensN)"
   ]
  },
  {
   "cell_type": "code",
   "execution_count": 3,
   "metadata": {},
   "outputs": [
    {
     "data": {
      "text/plain": [
       "(2, 25)"
      ]
     },
     "execution_count": 3,
     "metadata": {},
     "output_type": "execute_result"
    }
   ],
   "source": [
    "coords.shape"
   ]
  },
  {
   "cell_type": "code",
   "execution_count": null,
   "metadata": {},
   "outputs": [],
   "source": []
  }
 ],
 "metadata": {
  "kernelspec": {
   "display_name": "Python 3",
   "language": "python",
   "name": "python3"
  },
  "language_info": {
   "codemirror_mode": {
    "name": "ipython",
    "version": 3
   },
   "file_extension": ".py",
   "mimetype": "text/x-python",
   "name": "python",
   "nbconvert_exporter": "python",
   "pygments_lexer": "ipython3",
   "version": "3.8.3"
  }
 },
 "nbformat": 4,
 "nbformat_minor": 4
}
