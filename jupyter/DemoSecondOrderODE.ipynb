{
 "cells": [
  {
   "cell_type": "markdown",
   "id": "817cbce2",
   "metadata": {},
   "source": [
    "The AdjointSecondOrderODEModel seeks to infer the forcing functon of a linear second order differential equation of the form:\n",
    "\n",
    "\\begin{equation}\n",
    "-K_0\\frac{d^2x}{dt^2}+u\\frac{dx}{dt}+\\eta_0 x(t)=f(t)\n",
    "\\end{equation}\n",
    "with initial conditions:\n",
    "\n",
    "\\begin{equation}\n",
    "x(0)=0\n",
    "\\end{equation}\n",
    "and\n",
    "\\begin{equation}\n",
    "\\frac{dx(0)}{dt}=0\n",
    "\\end{equation}\n",
    "\n",
    "The forcing function, $f$ is approximated using Random Fourier Features so that\n",
    "\n",
    "\\begin{equation}\n",
    "f(t)\\sim \\sum_{i=1}^{M}\\phi_i(t)z_i\n",
    "\\end{equation}\n",
    "\n",
    "$f$ is then inferred using the adjoint method as in Gahungu et al. (2022)."
   ]
  },
  {
   "cell_type": "markdown",
   "id": "3dafafd2",
   "metadata": {},
   "source": [
    "# Import Modules"
   ]
  },
  {
   "cell_type": "code",
   "execution_count": 10,
   "id": "339426bc",
   "metadata": {},
   "outputs": [],
   "source": [
    "#numpy\n",
    "import numpy as np\n",
    "from numpy.random import multivariate_normal #For later example\n",
    "\n",
    "#advectionGP\n",
    "from advectionGP.models import AdjointSecondOrderODEModel as Model #Model module builds basic parts of the ODE problem, combines other classes into full model\n",
    "\n",
    "'''To use other models in the class, such as the Advection Diffusion Reaction model, \n",
    "replace \"AdjointSecondOrderODEModel\" in the line above with \"AdjointAdvectionDiffusionReaction\" model\n",
    "and adjust parameters as appropriate'''\n",
    "\n",
    "from advectionGP.sensors import FixedSensorModel #Builds sensor arrays to generate data for foward model or to generate observations for comparison\n",
    "from advectionGP.kernels import EQ #Generates exponentiated quadratic kernel approximation\n",
    "from advectionGP.test import TestKernels #Unit test model\n",
    "\n",
    "\n",
    "#Plotting tools\n",
    "import matplotlib.pyplot as plt"
   ]
  },
  {
   "cell_type": "markdown",
   "id": "1b76d2dc",
   "metadata": {},
   "source": [
    "# Establish Sensor Array"
   ]
  },
  {
   "cell_type": "markdown",
   "id": "ca854a15",
   "metadata": {},
   "source": [
    "Our sensor matrix, X, is an array that has an element for each observation, which consists of the start and end times of the observation period. "
   ]
  },
  {
   "cell_type": "code",
   "execution_count": 22,
   "id": "4592c66f",
   "metadata": {},
   "outputs": [],
   "source": [
    "avg=0.01 # time that an observation is taken for\n",
    "tlocL = np.linspace(0,9.9,100) # observation start times\n",
    "X= np.zeros((len(tlocL),2)) # initiate X\n",
    "# Build sensor locations\n",
    "X[:,0] = tlocL #lower time\n",
    "X[:,1] = X[:,0]+avg # upper time"
   ]
  },
  {
   "cell_type": "code",
   "execution_count": 23,
   "id": "a3152ee4",
   "metadata": {},
   "outputs": [
    {
     "data": {
      "image/png": "[encoded data removed]",
      "text/plain": [
       "<Figure size 360x360 with 1 Axes>"
      ]
     },
     "metadata": {
      "needs_background": "light"
     },
     "output_type": "display_data"
    }
   ],
   "source": [
    "plt.rcParams[\"figure.figsize\"] = (5,5)\n",
    "\n",
    "plt.xlim(0,10)\n",
    "plt.title(\"Sensor Locations\",fontsize=24)\n",
    "plt.plot((X[:,1]-avg/2),np.zeros(len(X)),'xk',markersize=2,color='b');"
   ]
  },
  {
   "cell_type": "markdown",
   "id": "030a2f42",
   "metadata": {},
   "source": [
    "Using X with then initalise our sensor model, which is used to calculate filter functions."
   ]
  },
  {
   "cell_type": "code",
   "execution_count": 24,
   "id": "10993bc2",
   "metadata": {},
   "outputs": [],
   "source": [
    "sensors = FixedSensorModel(X,0) # establish sensor model arguments are sensor locations and spatial averaging (not applicable in 1D case so set to 0)"
   ]
  },
  {
   "cell_type": "markdown",
   "id": "dd6ac5e9",
   "metadata": {},
   "source": [
    "# Forward Model Example"
   ]
  },
  {
   "cell_type": "markdown",
   "id": "1f5d0737",
   "metadata": {},
   "source": [
    "Here we generate an artificial source and concentration field using the tools in advectionGP.models. The source is generated over a Nt=100 grid in time."
   ]
  },
  {
   "cell_type": "markdown",
   "id": "e3c63a13",
   "metadata": {},
   "source": [
    "### Establish forward model parameters"
   ]
  },
  {
   "cell_type": "code",
   "execution_count": 25,
   "id": "71f0f757",
   "metadata": {},
   "outputs": [],
   "source": [
    "k_0 = -0.5 #Diffusion coefficient\n",
    "u=1\n",
    "eta=5\n",
    "noiseSD = 0.05 #Observation noise\n",
    "N_feat=2000 # number of features used to approximate ground truth GP\n",
    "boundary = ([0],[10])# edges of the grid - in units of time\n",
    "kForward = EQ(0.6, 4.0) # generate EQ kernel arguments are lengthscale and variance\n",
    "res = [200] # grid size for time"
   ]
  },
  {
   "cell_type": "markdown",
   "id": "7ad73851",
   "metadata": {},
   "source": [
    "### Initialise model and calculate ground truth source, concentration and observations"
   ]
  },
  {
   "cell_type": "markdown",
   "id": "c053a954",
   "metadata": {},
   "source": [
    "Here we use a constant source at a fixed location, but include code (commented out) for a source term calculated by approximating a gaussian process with an EQ kernel. Any source of the right dimensions can be used to simulate the forward problem."
   ]
  },
  {
   "cell_type": "code",
   "execution_count": null,
   "id": "cd0f2f7d",
   "metadata": {},
   "outputs": [],
   "source": []
  },
  {
   "cell_type": "code",
   "execution_count": 26,
   "id": "4ab0f1ff",
   "metadata": {},
   "outputs": [],
   "source": [
    "m = Model(resolution=res,boundary=boundary,N_feat=N_feat,noiseSD=noiseSD,kernel=kForward,sensormodel=sensors,k_0=k_0,u=u,eta=eta) #initiate PDE model to build concentration\n",
    "\n",
    "dt,dt2,Nt = m.getGridStepSize() # useful numbers!\n",
    "\n",
    "z=np.random.normal(0,1.0,N_feat) # Generate z to compute source\n",
    "sourceGT=m.computeSourceFromPhi(z)# Compute ground truth source by approximating GP\n",
    "#sourceGT = np.ones(m.resolution)  # Example constant source\n",
    "concTrain=m.computeConcentration(sourceGT) # Compute concentration - runs ODE forward model\n",
    "yTrain= m.computeObservations(addNoise='TRUE') # Compute observations with noise uses m.sensormodel for observation locations"
   ]
  },
  {
   "cell_type": "code",
   "execution_count": null,
   "id": "f875623e",
   "metadata": {},
   "outputs": [],
   "source": []
  },
  {
   "cell_type": "markdown",
   "id": "c3ad656b",
   "metadata": {},
   "source": [
    "# Inverse Problem Example"
   ]
  },
  {
   "cell_type": "code",
   "execution_count": 27,
   "id": "4d059abb",
   "metadata": {
    "scrolled": true
   },
   "outputs": [
    {
     "name": "stdout",
     "output_type": "stream",
     "text": [
      "Calculating Adjoints...\n",
      "99/100 \n",
      "Calculating Phis...\n",
      "499/500 \n"
     ]
    }
   ],
   "source": [
    "#%%timeit\n",
    "N_feat =500 #Number of features used to infer the source\n",
    "kInverse = EQ(0.6, 4) # Initiate kernel for inverse problem\n",
    "mInfer = Model(resolution=res,boundary=boundary,N_feat=N_feat,noiseSD=noiseSD,kernel=kInverse,sensormodel=sensors,k_0=k_0,u=u,eta=eta) #Initiate new model for inference\n",
    "mInfer.computeModelRegressors() # Compute regressor matrix \n",
    "meanZ, covZ = mInfer.computeZDistribution(yTrain) # Infers z vector mean and covariance using regressor matrix\n",
    "sourceInfer = mInfer.computeSourceFromPhi(meanZ) # Generates estimated source using mean of the inferred distribution\n",
    "concInfer=m.computeConcentration(sourceInfer) # Generates estimated concentration from inferred source\n"
   ]
  },
  {
   "cell_type": "code",
   "execution_count": 28,
   "id": "f6985cde",
   "metadata": {
    "scrolled": false
   },
   "outputs": [
    {
     "data": {
      "image/png": "[encoded data removed]",
      "text/plain": [
       "<Figure size 360x360 with 1 Axes>"
      ]
     },
     "metadata": {
      "needs_background": "light"
     },
     "output_type": "display_data"
    },
    {
     "data": {
      "image/png": "[encoded data removed]",
      "text/plain": [
       "<Figure size 360x360 with 1 Axes>"
      ]
     },
     "metadata": {
      "needs_background": "light"
     },
     "output_type": "display_data"
    }
   ],
   "source": [
    "source_samples = []\n",
    "conc_samples=[]    \n",
    "for z_samp in np.random.multivariate_normal(meanZ, covZ,200):\n",
    "    source_samples.append(mInfer.computeSourceFromPhi(z_samp))\n",
    "    conc_samples.append(mInfer.computeConcentration(mInfer.computeSourceFromPhi(z_samp)))\n",
    "source_samples=np.array(source_samples)\n",
    "conc_samples=np.array(conc_samples)\n",
    "\n",
    "source_lower_ci = np.percentile(source_samples,2.5,0)\n",
    "source_upper_ci = np.percentile(source_samples,97.5,0)\n",
    "source_mean = np.percentile(source_samples,50,0)\n",
    "\n",
    "conc_lower_ci = np.percentile(conc_samples,2.5,0)\n",
    "conc_upper_ci = np.percentile(conc_samples,97.5,0)\n",
    "conc_mean = np.percentile(conc_samples,50,0)\n",
    "\n",
    "xtest=np.arange(Nt)\n",
    "\n",
    "#plt.figure(figsize=(15, 10))\n",
    "\n",
    "plt.plot(xtest,sourceInfer,'b-')\n",
    "plt.plot(xtest,sourceGT,'r--')\n",
    "\n",
    "#plt.plot(xtest,source_samples.T,'g-',alpha=0.3)\n",
    "#plt.fill_between(xtest,s_z_l,s_z_upper,alpha=0.5)\n",
    "plt.fill_between(xtest,source_lower_ci,source_upper_ci,alpha=0.5)\n",
    "plt.legend(labels=[\"estimated source term\",\"True source term\"])\n",
    "plt.title(\"Source function \")\n",
    "plt.xlabel(\"Input, t\")\n",
    "plt.ylabel(\"output, f(t)\")\n",
    "#plt.ylim([-5,5])\n",
    "plt.savefig('NumberFeature%d.pdf' % N_feat)\n",
    "plt.show()\n",
    "\n",
    "#plt.figure(figsize=(15, 10))\n",
    "\n",
    "plt.plot(xtest,concInfer,'b-')\n",
    "plt.plot(xtest,concTrain,'r--')\n",
    "\n",
    "#plt.plot(xtest,source_samples.T,'g-',alpha=0.3)\n",
    "#plt.fill_between(xtest,s_z_l,s_z_upper,alpha=0.5)\n",
    "plt.fill_between(xtest,conc_lower_ci,conc_upper_ci,alpha=0.5)\n",
    "plt.legend(labels=[\"estimated concentration\",\"True concentration\"])\n",
    "plt.title(\"Concentration\")\n",
    "plt.xlabel(\"Input, t\")\n",
    "plt.ylabel(\"output, f(t)\")\n",
    "#plt.ylim([-5,5])\n",
    "plt.savefig('NumberFeature%d.pdf' % N_feat)\n",
    "plt.show()"
   ]
  },
  {
   "cell_type": "code",
   "execution_count": 29,
   "id": "140a1e8f",
   "metadata": {},
   "outputs": [
    {
     "name": "stdout",
     "output_type": "stream",
     "text": [
      "[1.]\n",
      "[1.]\n",
      "[1.]\n",
      "[1.]\n",
      "[1.]\n",
      "[1.]\n",
      "[1.]\n",
      "[1.]\n",
      "[1.]\n",
      "[1.]\n",
      "[1.]\n",
      "[1.]\n",
      "[1.]\n",
      "[1.]\n",
      "[1.]\n",
      "[1.]\n",
      "[1.]\n",
      "[1.]\n",
      "[1.]\n",
      "[1.]\n",
      "[1.]\n",
      "[1.]\n",
      "[1.]\n",
      "[1.]\n",
      "[1.]\n",
      "[1.]\n",
      "[1.]\n",
      "[1.]\n",
      "[1.]\n",
      "[1.]\n",
      "[1.]\n",
      "[1.]\n",
      "[1.]\n",
      "[1.]\n",
      "[1.]\n",
      "[1.]\n",
      "[1.]\n",
      "[1.]\n",
      "[1.]\n",
      "[1.]\n",
      "[1.]\n",
      "[1.]\n",
      "[1.]\n",
      "[1.]\n",
      "[1.]\n",
      "[1.]\n",
      "[1.]\n",
      "[1.]\n",
      "[1.]\n",
      "[1.]\n",
      "[1.]\n",
      "[1.]\n",
      "[1.]\n",
      "[1.]\n",
      "[1.]\n",
      "[1.]\n",
      "[1.]\n",
      "[1.]\n",
      "[1.]\n",
      "[1.]\n",
      "[1.]\n",
      "[1.]\n",
      "[1.]\n",
      "[1.]\n",
      "[1.]\n",
      "[1.]\n",
      "[1.]\n",
      "[1.]\n",
      "[1.]\n",
      "[1.]\n",
      "[1.]\n",
      "[1.]\n",
      "[1.]\n",
      "[1.]\n",
      "[1.]\n",
      "[1.]\n",
      "[1.]\n",
      "[1.]\n",
      "[1.]\n",
      "[1.]\n",
      "[1.]\n",
      "[1.]\n",
      "[1.]\n",
      "[1.]\n",
      "[1.]\n",
      "[1.]\n",
      "[1.]\n",
      "[1.]\n",
      "[1.]\n",
      "[1.]\n",
      "[1.]\n",
      "[1.]\n",
      "[1.]\n",
      "[1.]\n",
      "[1.]\n",
      "[1.]\n",
      "[1.]\n",
      "[1.]\n",
      "[1.]\n",
      "[1.]\n"
     ]
    }
   ],
   "source": [
    "for h in m.sensormodel.getHs1D(m):\n",
    "    print(np.sum(h)*dt)"
   ]
  },
  {
   "cell_type": "code",
   "execution_count": 9,
   "id": "51d7f5d6",
   "metadata": {},
   "outputs": [
    {
     "data": {
      "text/plain": [
       "4"
      ]
     },
     "execution_count": 9,
     "metadata": {},
     "output_type": "execute_result"
    }
   ],
   "source": [
    "ls = np.linspace(0.1,1,10)\n",
    "sigma2s = np.linspace(1,10,9)\n",
    "mInfer.kernel.sigma2"
   ]
  },
  {
   "cell_type": "code",
   "execution_count": 10,
   "id": "efebb3c7",
   "metadata": {},
   "outputs": [
    {
     "name": "stdout",
     "output_type": "stream",
     "text": [
      "Calculating Adjoints...\n",
      "99/100 \n",
      "Calculating Phis...\n",
      "99/100 \n",
      "Calculating Adjoints...\n",
      "99/100 \n",
      "Calculating Phis...\n",
      "99/100 \n",
      "Calculating Adjoints...\n",
      "99/100 \n",
      "Calculating Phis...\n",
      "99/100 \n",
      "Calculating Adjoints...\n",
      "99/100 \n",
      "Calculating Phis...\n",
      "99/100 \n",
      "Calculating Adjoints...\n",
      "99/100 \n",
      "Calculating Phis...\n",
      "99/100 \n",
      "Calculating Adjoints...\n",
      "99/100 \n",
      "Calculating Phis...\n",
      "99/100 \n",
      "Calculating Adjoints...\n",
      "99/100 \n",
      "Calculating Phis...\n",
      "99/100 \n",
      "Calculating Adjoints...\n",
      "99/100 \n",
      "Calculating Phis...\n",
      "99/100 \n",
      "Calculating Adjoints...\n",
      "99/100 \n",
      "Calculating Phis...\n",
      "99/100 \n",
      "Calculating Adjoints...\n",
      "99/100 \n",
      "Calculating Phis...\n",
      "99/100 \n",
      "Calculating Adjoints...\n",
      "99/100 \n",
      "Calculating Phis...\n",
      "99/100 \n",
      "Calculating Adjoints...\n",
      "99/100 \n",
      "Calculating Phis...\n",
      "99/100 \n",
      "Calculating Adjoints...\n",
      "27/100 \r"
     ]
    },
    {
     "ename": "KeyboardInterrupt",
     "evalue": "",
     "output_type": "error",
     "traceback": [
      "\u001b[1;31m---------------------------------------------------------------------------\u001b[0m",
      "\u001b[1;31mKeyboardInterrupt\u001b[0m                         Traceback (most recent call last)",
      "\u001b[1;32m<ipython-input-10-ae982496a2be>\u001b[0m in \u001b[0;36m<module>\u001b[1;34m\u001b[0m\n\u001b[0;32m     11\u001b[0m             \u001b[0mmInfer\u001b[0m\u001b[1;33m.\u001b[0m\u001b[0mkernel\u001b[0m\u001b[1;33m.\u001b[0m\u001b[0ml2\u001b[0m\u001b[1;33m=\u001b[0m\u001b[0mlength\u001b[0m\u001b[1;33m\u001b[0m\u001b[1;33m\u001b[0m\u001b[0m\n\u001b[0;32m     12\u001b[0m             \u001b[0mmInfer\u001b[0m\u001b[1;33m.\u001b[0m\u001b[0mkernel\u001b[0m\u001b[1;33m.\u001b[0m\u001b[0msigma2\u001b[0m\u001b[1;33m=\u001b[0m\u001b[0mvar\u001b[0m\u001b[1;33m\u001b[0m\u001b[1;33m\u001b[0m\u001b[0m\n\u001b[1;32m---> 13\u001b[1;33m             \u001b[0mmInfer\u001b[0m\u001b[1;33m.\u001b[0m\u001b[0mcomputeModelRegressors\u001b[0m\u001b[1;33m(\u001b[0m\u001b[1;33m)\u001b[0m \u001b[1;31m# Compute regressor matrix\u001b[0m\u001b[1;33m\u001b[0m\u001b[1;33m\u001b[0m\u001b[0m\n\u001b[0m\u001b[0;32m     14\u001b[0m             \u001b[0mmeanZ\u001b[0m\u001b[1;33m,\u001b[0m \u001b[0mcovZ\u001b[0m \u001b[1;33m=\u001b[0m \u001b[0mmInfer\u001b[0m\u001b[1;33m.\u001b[0m\u001b[0mcomputeZDistribution\u001b[0m\u001b[1;33m(\u001b[0m\u001b[0myTrain\u001b[0m\u001b[1;33m)\u001b[0m \u001b[1;31m# Infers z vector mean and covariance using regressor matrix\u001b[0m\u001b[1;33m\u001b[0m\u001b[1;33m\u001b[0m\u001b[0m\n\u001b[0;32m     15\u001b[0m             \u001b[1;32mfor\u001b[0m \u001b[0mk\u001b[0m \u001b[1;32min\u001b[0m \u001b[0mrange\u001b[0m\u001b[1;33m(\u001b[0m\u001b[0mreps\u001b[0m\u001b[1;33m)\u001b[0m\u001b[1;33m:\u001b[0m\u001b[1;33m\u001b[0m\u001b[1;33m\u001b[0m\u001b[0m\n",
      "\u001b[1;32mc:\\users\\chris\\documents\\github\\advectiongp\\advectionGP\\models.py\u001b[0m in \u001b[0;36mcomputeModelRegressors\u001b[1;34m(self)\u001b[0m\n\u001b[0;32m    626\u001b[0m         \u001b[1;32mfor\u001b[0m \u001b[0mj\u001b[0m\u001b[1;33m,\u001b[0m\u001b[0mH\u001b[0m \u001b[1;32min\u001b[0m \u001b[0menumerate\u001b[0m\u001b[1;33m(\u001b[0m\u001b[0mself\u001b[0m\u001b[1;33m.\u001b[0m\u001b[0msensormodel\u001b[0m\u001b[1;33m.\u001b[0m\u001b[0mgetHs1D\u001b[0m\u001b[1;33m(\u001b[0m\u001b[0mself\u001b[0m\u001b[1;33m)\u001b[0m\u001b[1;33m)\u001b[0m\u001b[1;33m:\u001b[0m\u001b[1;33m\u001b[0m\u001b[1;33m\u001b[0m\u001b[0m\n\u001b[0;32m    627\u001b[0m             \u001b[0mprint\u001b[0m\u001b[1;33m(\u001b[0m\u001b[1;34m\"%d/%d \\r\"\u001b[0m \u001b[1;33m%\u001b[0m \u001b[1;33m(\u001b[0m\u001b[0mj\u001b[0m\u001b[1;33m,\u001b[0m\u001b[0mlen\u001b[0m\u001b[1;33m(\u001b[0m\u001b[0mself\u001b[0m\u001b[1;33m.\u001b[0m\u001b[0msensormodel\u001b[0m\u001b[1;33m.\u001b[0m\u001b[0mobsLocs\u001b[0m\u001b[1;33m)\u001b[0m\u001b[1;33m)\u001b[0m\u001b[1;33m,\u001b[0m\u001b[0mend\u001b[0m\u001b[1;33m=\u001b[0m\u001b[1;34m\"\"\u001b[0m\u001b[1;33m)\u001b[0m\u001b[1;33m\u001b[0m\u001b[1;33m\u001b[0m\u001b[0m\n\u001b[1;32m--> 628\u001b[1;33m             \u001b[0madjs\u001b[0m\u001b[1;33m.\u001b[0m\u001b[0mappend\u001b[0m\u001b[1;33m(\u001b[0m\u001b[0mself\u001b[0m\u001b[1;33m.\u001b[0m\u001b[0mcomputeAdjoint\u001b[0m\u001b[1;33m(\u001b[0m\u001b[0mH\u001b[0m\u001b[1;33m)\u001b[0m\u001b[1;33m)\u001b[0m\u001b[1;33m\u001b[0m\u001b[1;33m\u001b[0m\u001b[0m\n\u001b[0m\u001b[0;32m    629\u001b[0m         \u001b[0mprint\u001b[0m\u001b[1;33m(\u001b[0m\u001b[1;34m\"\"\u001b[0m\u001b[1;33m)\u001b[0m\u001b[1;33m;\u001b[0m\u001b[1;33m\u001b[0m\u001b[1;33m\u001b[0m\u001b[0m\n\u001b[0;32m    630\u001b[0m         \u001b[1;31m#this will run out of memory...\u001b[0m\u001b[1;33m\u001b[0m\u001b[1;33m\u001b[0m\u001b[1;33m\u001b[0m\u001b[0m\n",
      "\u001b[1;32mc:\\users\\chris\\documents\\github\\advectiongp\\advectionGP\\models.py\u001b[0m in \u001b[0;36mcomputeAdjoint\u001b[1;34m(self, H)\u001b[0m\n\u001b[0;32m    602\u001b[0m         \u001b[0mu\u001b[0m\u001b[1;33m=\u001b[0m\u001b[0mself\u001b[0m\u001b[1;33m.\u001b[0m\u001b[0mu\u001b[0m\u001b[1;33m\u001b[0m\u001b[1;33m\u001b[0m\u001b[0m\n\u001b[0;32m    603\u001b[0m         \u001b[0meta\u001b[0m\u001b[1;33m=\u001b[0m\u001b[0mself\u001b[0m\u001b[1;33m.\u001b[0m\u001b[0meta\u001b[0m\u001b[1;33m\u001b[0m\u001b[1;33m\u001b[0m\u001b[0m\n\u001b[1;32m--> 604\u001b[1;33m         \u001b[0mv\u001b[0m\u001b[1;33m=\u001b[0m\u001b[0mnp\u001b[0m\u001b[1;33m.\u001b[0m\u001b[0mzeros\u001b[0m\u001b[1;33m(\u001b[0m\u001b[1;33m(\u001b[0m\u001b[1;33m(\u001b[0m\u001b[0mself\u001b[0m\u001b[1;33m.\u001b[0m\u001b[0mresolution\u001b[0m\u001b[1;33m)\u001b[0m\u001b[1;33m)\u001b[0m\u001b[1;33m)\u001b[0m\u001b[1;33m\u001b[0m\u001b[1;33m\u001b[0m\u001b[0m\n\u001b[0m\u001b[0;32m    605\u001b[0m         \u001b[0mv\u001b[0m\u001b[1;33m[\u001b[0m\u001b[0mNt\u001b[0m\u001b[1;33m-\u001b[0m\u001b[1;36m1\u001b[0m\u001b[1;33m]\u001b[0m \u001b[1;33m=\u001b[0m \u001b[1;36m0\u001b[0m\u001b[1;33m\u001b[0m\u001b[1;33m\u001b[0m\u001b[0m\n\u001b[0;32m    606\u001b[0m         \u001b[1;31m#v[Nt-2]=0\u001b[0m\u001b[1;33m\u001b[0m\u001b[1;33m\u001b[0m\u001b[1;33m\u001b[0m\u001b[0m\n",
      "\u001b[1;31mKeyboardInterrupt\u001b[0m: "
     ]
    }
   ],
   "source": [
    "minArray = np.zeros((10,2))\n",
    "\n",
    "for l in range(10):\n",
    "\n",
    "    mInfer = Model(resolution=res,boundary=boundary,N_feat=N_feat,noiseSD=noiseSD,kernel=kInverse,sensormodel=sensors,k_0=k_0,u=u,eta=eta) #Initiate new model for inference\n",
    "    MSEsource = np.zeros((len(ls),len(sigma2s)))\n",
    "    reps=100\n",
    "\n",
    "    for i,length in enumerate(ls):\n",
    "        for j, var in enumerate(sigma2s):\n",
    "            mInfer.kernel.l2=length\n",
    "            mInfer.kernel.sigma2=var\n",
    "            mInfer.computeModelRegressors() # Compute regressor matrix \n",
    "            meanZ, covZ = mInfer.computeZDistribution(yTrain) # Infers z vector mean and covariance using regressor matrix\n",
    "            for k in range(reps):\n",
    "                z = np.random.multivariate_normal(meanZ,covZ)\n",
    "                sourceInfer = mInfer.computeSourceFromPhi(z) # Generates estimated source using inferred distribution\n",
    "                MSEsource[i,j]=MSEsource[i,j]+(np.square(np.subtract(sourceGT,sourceInfer))).mean()\n",
    "    MSEsource = MSEsource/reps\n",
    "    minIndex=np.where(MSEsource==np.min(MSEsource))\n",
    "    minArray[l,:] = np.array((ls[minIndex[0]],sigma2s[minIndex[1]])).flatten()\n",
    "    "
   ]
  },
  {
   "cell_type": "code",
   "execution_count": null,
   "id": "88561f67",
   "metadata": {},
   "outputs": [],
   "source": [
    "plt.imshow(MSEsource[1::,:])\n",
    "plt.colorbar()"
   ]
  },
  {
   "cell_type": "code",
   "execution_count": null,
   "id": "b43c7210",
   "metadata": {
    "scrolled": true
   },
   "outputs": [],
   "source": [
    "minArray[l,:] = np.array((ls[minIndex[0]],sigma2s[minIndex[1]])).flatten()\n",
    "np.percentile(minArray,50,0)"
   ]
  },
  {
   "cell_type": "code",
   "execution_count": null,
   "id": "a6bd2258",
   "metadata": {},
   "outputs": [],
   "source": [
    "np.mean(minArray,0)"
   ]
  },
  {
   "cell_type": "code",
   "execution_count": null,
   "id": "fe06b574",
   "metadata": {},
   "outputs": [],
   "source": [
    "ls"
   ]
  },
  {
   "cell_type": "code",
   "execution_count": null,
   "id": "0ff5fa23",
   "metadata": {},
   "outputs": [],
   "source": [
    "minIndex=np.where(MSEsource==np.min(MSEsource))"
   ]
  },
  {
   "cell_type": "code",
   "execution_count": null,
   "id": "a1fb6e87",
   "metadata": {},
   "outputs": [],
   "source": [
    "print(ls[minIndex[0]],sigma2s[minIndex[1]])"
   ]
  },
  {
   "cell_type": "code",
   "execution_count": null,
   "id": "682bba7f",
   "metadata": {},
   "outputs": [],
   "source": [
    "np.linspace(1,5,9)"
   ]
  },
  {
   "cell_type": "code",
   "execution_count": null,
   "id": "fdc90b08",
   "metadata": {},
   "outputs": [],
   "source": [
    "k_0s = -np.linspace(0.1,1,10)\n",
    "etas = np.linspace(1,10,10)\n",
    "us = np.linspace(0.1,5,10)\n"
   ]
  },
  {
   "cell_type": "code",
   "execution_count": null,
   "id": "f5a742e5",
   "metadata": {},
   "outputs": [],
   "source": [
    "minArray = np.zeros((10,3))\n",
    "\n",
    "for l in range(10):\n",
    "\n",
    "   \n",
    "    MSEsource = np.zeros((len(k_0s),len(us),len(etas)))\n",
    "    reps=100\n",
    "    for k, k_0 in enumerate(k_0s):\n",
    "        for i,u in enumerate(us):\n",
    "            for j, eta in enumerate(etas):\n",
    "                mInfer = Model(resolution=res,boundary=boundary,N_feat=N_feat,noiseSD=noiseSD,kernel=kInverse,sensormodel=sensors,k_0=k_0,u=u,eta=eta) #Initiate new model for inference\n",
    "                mInfer.computeModelRegressors() # Compute regressor matrix \n",
    "                meanZ, covZ = mInfer.computeZDistribution(yTrain) # Infers z vector mean and covariance using regressor matrix\n",
    "                for m in range(reps):\n",
    "                    z = np.random.multivariate_normal(meanZ,covZ)\n",
    "                    sourceInfer = mInfer.computeSourceFromPhi(z) # Generates estimated source using inferred distribution\n",
    "                    MSEsource[k,i,j]=MSEsource[k,i,j]+(np.square(np.subtract(sourceGT,sourceInfer))).mean()\n",
    "                print(k,i,j)\n",
    "    MSEsource = MSEsource/reps\n",
    "    minIndex=np.where(MSEsource==np.min(MSEsource))\n",
    "    minArray[l,:] = np.array((k_0s[minIndex[0]],us[minIndex[1]],etas[minIndex[2]])).flatten()"
   ]
  },
  {
   "cell_type": "code",
   "execution_count": null,
   "id": "098332b8",
   "metadata": {},
   "outputs": [],
   "source": [
    "k_0s"
   ]
  },
  {
   "cell_type": "code",
   "execution_count": null,
   "id": "bfaa299e",
   "metadata": {},
   "outputs": [],
   "source": [
    "minIndex"
   ]
  },
  {
   "cell_type": "code",
   "execution_count": null,
   "id": "04fdc9f0",
   "metadata": {},
   "outputs": [],
   "source": [
    "MSEsource"
   ]
  },
  {
   "cell_type": "code",
   "execution_count": null,
   "id": "fa055679",
   "metadata": {},
   "outputs": [],
   "source": [
    "minArray"
   ]
  },
  {
   "cell_type": "code",
   "execution_count": null,
   "id": "900a03be",
   "metadata": {},
   "outputs": [],
   "source": [
    "np.mean(minArray,0)"
   ]
  },
  {
   "cell_type": "code",
   "execution_count": null,
   "id": "6a4054d6",
   "metadata": {},
   "outputs": [],
   "source": [
    "import GPyOpt\n",
    "from GPyOpt.methods import BayesianOptimization\n",
    "reps=100\n",
    "var=noiseSD**2\n",
    "m1 = Model(resolution=res,boundary=boundary,N_feat=N_feat,noiseSD=noiseSD,kernel=kInverse,sensormodel=sensors,k_0=k_0,u=u,eta=eta) #Initiate new model for inference\n",
    "def obj_funcAllParams(x):\n",
    "    x1 = x[:, 0]\n",
    "    x2 = x[:, 1]\n",
    "    x3 = x[:, 2]\n",
    "    x4 = x[:, 3]\n",
    "    x5 = x[:, 4]\n",
    "    llObs = 0\n",
    "    m1.kernel.l2=x1\n",
    "    m1.kernel.sigma2=x2\n",
    "    m1.k_0=-x3\n",
    "    m1.u=x4\n",
    "    m1.eta=x5\n",
    "    X1 = m1.computeModelRegressors() # Compute regressor matrix\n",
    "    meanZ, covZ = m1.computeZDistribution(yTrain) # Infers z vector mean and covariance\n",
    "    for j in range(reps):\n",
    "        z = np.random.multivariate_normal(meanZ,covZ)\n",
    "        source = m1.computeSourceFromPhi(z) # Generates estimated source using inferred distribution\n",
    "        conc=m1.computeConcentration(source) # Compute test concentration\n",
    "        yInfer= m1.computeObservations() # Compute observations with noise\n",
    "        llObs += -0.5*np.sum((np.square(np.subtract(yTrain,yInfer))/var)+0.5*np.log(var))\n",
    "\n",
    "    llObs = llObs/reps\n",
    "    return(-llObs)\n",
    "\n",
    "def obj_funcKeyParams(x):\n",
    "    x3 = x[:, 0]\n",
    "    x4 = x[:, 1]\n",
    "    x5 = x[:, 2]\n",
    "    llObs = 0\n",
    "    m1.k_0=-x3\n",
    "    m1.u=x4\n",
    "    m1.eta=x5\n",
    "    X1 = m1.computeModelRegressors() # Compute regressor matrix\n",
    "    meanZ, covZ = m1.computeZDistribution(yTrain) # Infers z vector mean and covariance\n",
    "    for j in range(reps):\n",
    "        z = np.random.multivariate_normal(meanZ,covZ)\n",
    "        source = m1.computeSourceFromPhi(z) # Generates estimated source using inferred distribution\n",
    "        conc=m1.computeConcentration(source) # Compute test concentration\n",
    "        yInfer= m1.computeObservations() # Compute observations with noise\n",
    "        llObs += -0.5*np.sum((np.square(np.subtract(yTrain,yInfer))/var)+0.5*np.log(var))\n",
    "\n",
    "    llObs = llObs/reps\n",
    "    return(-llObs)\n",
    "\n",
    "def obj_funcKernelParams(x):\n",
    "    x1 = x[:, 0]\n",
    "    x2 = x[:, 1]\n",
    "    llObs = 0\n",
    "    m1.kernel.l2=x1\n",
    "    m1.kernel.sigma2=x2\n",
    "    X1 = m1.computeModelRegressors() # Compute regressor matrix\n",
    "    meanZ, covZ = m1.computeZDistribution(yTrain) # Infers z vector mean and covariance\n",
    "    for j in range(reps):\n",
    "        z = np.random.multivariate_normal(meanZ,covZ)\n",
    "        source = m1.computeSourceFromPhi(z) # Generates estimated source using inferred distribution\n",
    "        conc=m1.computeConcentration(source) # Compute test concentration\n",
    "        yInfer= m1.computeObservations() # Compute observations with noise\n",
    "        llObs += -0.5*np.sum((np.square(np.subtract(yTrain,yInfer))/var)+0.5*np.log(var))\n",
    "\n",
    "    llObs = llObs/reps\n",
    "    return(-llObs)\n"
   ]
  },
  {
   "cell_type": "code",
   "execution_count": null,
   "id": "1ef393d9",
   "metadata": {},
   "outputs": [],
   "source": [
    "boundsAll = [{'name': 'var_1', 'type': 'continuous', 'domain': (0.1,1)},\n",
    "            {'name': 'var_2', 'type': 'continuous', 'domain': (0.1,10)},\n",
    "            {'name': 'var_3', 'type': 'continuous', 'domain': (0.1,10)},\n",
    "            {'name': 'var_4', 'type': 'continuous', 'domain': (0.1,10)},\n",
    "            {'name': 'var_5', 'type': 'continuous', 'domain': (0.1,10)}]\n",
    "\n",
    "boundsKey = [{'name': 'var_3', 'type': 'continuous', 'domain': (0.1,10)},\n",
    "            {'name': 'var_4', 'type': 'continuous', 'domain': (0.1,10)},\n",
    "            {'name': 'var_5', 'type': 'continuous', 'domain': (0.1,10)}]\n",
    "\n",
    "boundsKernel = [{'name': 'var_1', 'type': 'continuous', 'domain': (0.1,1)},\n",
    "            {'name': 'var_2', 'type': 'continuous', 'domain': (0.1,1)},]\n",
    "\n",
    "\n",
    "constraintsAll = [{'name': 'constr_1', 'constraint': '(x[:,3]**2)-4*x[:,2]*x[:,4]'}]\n",
    "constraintsKey = [{'name': 'constr_1', 'constraint': '(x[:,1]**2)-4*x[:,0]*x[:,2]'}]\n",
    "maxiter = 100\n",
    "\n",
    "\n",
    "\n",
    "\n"
   ]
  },
  {
   "cell_type": "code",
   "execution_count": null,
   "id": "adf59dc1",
   "metadata": {},
   "outputs": [],
   "source": [
    "#Determine the subset where we are allowed to sample\n",
    "feasible_region = GPyOpt.Design_space(space = boundsAll, constraints = constraintsAll) \n",
    "initial_design = GPyOpt.experiment_design.initial_design('random', feasible_region, 10)\n",
    "\n",
    "#CHOOSE the objective\n",
    "objective = GPyOpt.core.task.SingleObjective(obj_funcAllParams)\n",
    "\n",
    "# CHOOSE the model type\n",
    "model = GPyOpt.models.GPModel(exact_feval=True,optimize_restarts=10,verbose=False)\n",
    "\n",
    "#CHOOSE the acquisition optimizer\n",
    "aquisition_optimizer = GPyOpt.optimization.AcquisitionOptimizer(feasible_region)\n",
    "\n",
    "#CHOOSE the type of acquisition\n",
    "acquisition = GPyOpt.acquisitions.AcquisitionEI(model, feasible_region, optimizer=aquisition_optimizer)\n",
    "\n",
    "#CHOOSE a collection method\n",
    "evaluator = GPyOpt.core.evaluators.Sequential(acquisition)"
   ]
  },
  {
   "cell_type": "code",
   "execution_count": null,
   "id": "50ff8fb6",
   "metadata": {},
   "outputs": [],
   "source": [
    "# Now create BO object\n",
    "bo = GPyOpt.methods.ModularBayesianOptimization(model, feasible_region, objective, acquisition, evaluator, initial_design)"
   ]
  },
  {
   "cell_type": "code",
   "execution_count": null,
   "id": "40e91bd8",
   "metadata": {},
   "outputs": [],
   "source": [
    "# --- Stop conditions\n",
    "max_time  = None \n",
    "max_iter  = 300\n",
    "tolerance = 1e-8     # distance between two consecutive observations \n",
    "                     # if we're sampling a region in such fine detail then it is likely that we've found the true min.\n",
    "\n",
    "# Run the optimization                                                  \n",
    "bo.run_optimization(max_iter = max_iter, max_time = max_time, eps = tolerance, verbosity=False) \n",
    "bo.plot_convergence()"
   ]
  },
  {
   "cell_type": "code",
   "execution_count": null,
   "id": "85476ca0",
   "metadata": {},
   "outputs": [],
   "source": [
    "print(bo.x_opt)\n",
    "print(bo.fx_opt)"
   ]
  },
  {
   "cell_type": "code",
   "execution_count": null,
   "id": "ff407d42",
   "metadata": {},
   "outputs": [],
   "source": [
    "m1 = Model(resolution=res,boundary=boundary,N_feat=N_feat,noiseSD=noiseSD,kernel=kInverse,sensormodel=sensors,k_0=k_0,u=u,eta=eta) #Initiate new model for inference\n",
    "\n",
    "#Determine the subset where we are allowed to sample\n",
    "feasible_region = GPyOpt.Design_space(space = boundsKey, constraints = constraintsKey) \n",
    "initial_design = GPyOpt.experiment_design.initial_design('random', feasible_region, 10)\n",
    "\n",
    "#CHOOSE the objective\n",
    "objective = GPyOpt.core.task.SingleObjective(obj_funcKeyParams)\n",
    "\n",
    "# CHOOSE the model type\n",
    "model = GPyOpt.models.GPModel(exact_feval=True,optimize_restarts=10,verbose=False)\n",
    "\n",
    "#CHOOSE the acquisition optimizer\n",
    "aquisition_optimizer = GPyOpt.optimization.AcquisitionOptimizer(feasible_region)\n",
    "\n",
    "#CHOOSE the type of acquisition\n",
    "acquisition = GPyOpt.acquisitions.AcquisitionEI(model, feasible_region, optimizer=aquisition_optimizer)\n",
    "\n",
    "#CHOOSE a collection method\n",
    "evaluator = GPyOpt.core.evaluators.Sequential(acquisition)\n",
    "\n",
    "bo = GPyOpt.methods.ModularBayesianOptimization(model, feasible_region, objective, acquisition, evaluator, initial_design)"
   ]
  },
  {
   "cell_type": "code",
   "execution_count": null,
   "id": "13a939ae",
   "metadata": {
    "scrolled": true
   },
   "outputs": [],
   "source": [
    "# --- Stop conditions\n",
    "max_time  = None \n",
    "max_iter  = 100\n",
    "tolerance = 1e-8     # distance between two consecutive observations \n",
    "                     # if we're sampling a region in such fine detail then it is likely that we've found the true min.\n",
    "\n",
    "# Run the optimization                                                  \n",
    "bo.run_optimization(max_iter = max_iter, max_time = max_time, eps = tolerance, verbosity=False) \n",
    "bo.plot_convergence()"
   ]
  },
  {
   "cell_type": "code",
   "execution_count": 17,
   "id": "bc7078b8",
   "metadata": {},
   "outputs": [
    {
     "ename": "NameError",
     "evalue": "name 'bo' is not defined",
     "output_type": "error",
     "traceback": [
      "\u001b[1;31m---------------------------------------------------------------------------\u001b[0m",
      "\u001b[1;31mNameError\u001b[0m                                 Traceback (most recent call last)",
      "\u001b[1;32m<ipython-input-17-3f65ca0e8208>\u001b[0m in \u001b[0;36m<module>\u001b[1;34m\u001b[0m\n\u001b[1;32m----> 1\u001b[1;33m \u001b[0mprint\u001b[0m\u001b[1;33m(\u001b[0m\u001b[0mbo\u001b[0m\u001b[1;33m.\u001b[0m\u001b[0mx_opt\u001b[0m\u001b[1;33m)\u001b[0m\u001b[1;33m\u001b[0m\u001b[1;33m\u001b[0m\u001b[0m\n\u001b[0m\u001b[0;32m      2\u001b[0m \u001b[0mprint\u001b[0m\u001b[1;33m(\u001b[0m\u001b[0mbo\u001b[0m\u001b[1;33m.\u001b[0m\u001b[0mfx_opt\u001b[0m\u001b[1;33m)\u001b[0m\u001b[1;33m\u001b[0m\u001b[1;33m\u001b[0m\u001b[0m\n",
      "\u001b[1;31mNameError\u001b[0m: name 'bo' is not defined"
     ]
    }
   ],
   "source": [
    "print(bo.x_opt)\n",
    "print(bo.fx_opt)"
   ]
  },
  {
   "cell_type": "code",
   "execution_count": 18,
   "id": "bf256abf",
   "metadata": {},
   "outputs": [
    {
     "ename": "NameError",
     "evalue": "name 'kInverse' is not defined",
     "output_type": "error",
     "traceback": [
      "\u001b[1;31m---------------------------------------------------------------------------\u001b[0m",
      "\u001b[1;31mNameError\u001b[0m                                 Traceback (most recent call last)",
      "\u001b[1;32m<ipython-input-18-f401fccda526>\u001b[0m in \u001b[0;36m<module>\u001b[1;34m\u001b[0m\n\u001b[1;32m----> 1\u001b[1;33m \u001b[0mm1\u001b[0m \u001b[1;33m=\u001b[0m \u001b[0mModel\u001b[0m\u001b[1;33m(\u001b[0m\u001b[0mresolution\u001b[0m\u001b[1;33m=\u001b[0m\u001b[0mres\u001b[0m\u001b[1;33m,\u001b[0m\u001b[0mboundary\u001b[0m\u001b[1;33m=\u001b[0m\u001b[0mboundary\u001b[0m\u001b[1;33m,\u001b[0m\u001b[0mN_feat\u001b[0m\u001b[1;33m=\u001b[0m\u001b[0mN_feat\u001b[0m\u001b[1;33m,\u001b[0m\u001b[0mnoiseSD\u001b[0m\u001b[1;33m=\u001b[0m\u001b[0mnoiseSD\u001b[0m\u001b[1;33m,\u001b[0m\u001b[0mkernel\u001b[0m\u001b[1;33m=\u001b[0m\u001b[0mkInverse\u001b[0m\u001b[1;33m,\u001b[0m\u001b[0msensormodel\u001b[0m\u001b[1;33m=\u001b[0m\u001b[0msensors\u001b[0m\u001b[1;33m,\u001b[0m\u001b[0mk_0\u001b[0m\u001b[1;33m=\u001b[0m\u001b[0mk_0\u001b[0m\u001b[1;33m,\u001b[0m\u001b[0mu\u001b[0m\u001b[1;33m=\u001b[0m\u001b[0mu\u001b[0m\u001b[1;33m,\u001b[0m\u001b[0meta\u001b[0m\u001b[1;33m=\u001b[0m\u001b[0meta\u001b[0m\u001b[1;33m)\u001b[0m \u001b[1;31m#Initiate new model for inference\u001b[0m\u001b[1;33m\u001b[0m\u001b[1;33m\u001b[0m\u001b[0m\n\u001b[0m\u001b[0;32m      2\u001b[0m \u001b[1;33m\u001b[0m\u001b[0m\n\u001b[0;32m      3\u001b[0m \u001b[1;31m#Determine the subset where we are allowed to sample\u001b[0m\u001b[1;33m\u001b[0m\u001b[1;33m\u001b[0m\u001b[1;33m\u001b[0m\u001b[0m\n\u001b[0;32m      4\u001b[0m \u001b[0mfeasible_region\u001b[0m \u001b[1;33m=\u001b[0m \u001b[0mGPyOpt\u001b[0m\u001b[1;33m.\u001b[0m\u001b[0mDesign_space\u001b[0m\u001b[1;33m(\u001b[0m\u001b[0mspace\u001b[0m \u001b[1;33m=\u001b[0m \u001b[0mboundsKernel\u001b[0m\u001b[1;33m)\u001b[0m\u001b[1;33m\u001b[0m\u001b[1;33m\u001b[0m\u001b[0m\n\u001b[0;32m      5\u001b[0m \u001b[0minitial_design\u001b[0m \u001b[1;33m=\u001b[0m \u001b[0mGPyOpt\u001b[0m\u001b[1;33m.\u001b[0m\u001b[0mexperiment_design\u001b[0m\u001b[1;33m.\u001b[0m\u001b[0minitial_design\u001b[0m\u001b[1;33m(\u001b[0m\u001b[1;34m'random'\u001b[0m\u001b[1;33m,\u001b[0m \u001b[0mfeasible_region\u001b[0m\u001b[1;33m,\u001b[0m \u001b[1;36m10\u001b[0m\u001b[1;33m)\u001b[0m\u001b[1;33m\u001b[0m\u001b[1;33m\u001b[0m\u001b[0m\n",
      "\u001b[1;31mNameError\u001b[0m: name 'kInverse' is not defined"
     ]
    }
   ],
   "source": [
    "m1 = Model(resolution=res,boundary=boundary,N_feat=N_feat,noiseSD=noiseSD,kernel=kInverse,sensormodel=sensors,k_0=k_0,u=u,eta=eta) #Initiate new model for inference\n",
    "\n",
    "#Determine the subset where we are allowed to sample\n",
    "feasible_region = GPyOpt.Design_space(space = boundsKernel) \n",
    "initial_design = GPyOpt.experiment_design.initial_design('random', feasible_region, 10)\n",
    "\n",
    "#CHOOSE the objective\n",
    "objective = GPyOpt.core.task.SingleObjective(obj_funcKernelParams)\n",
    "\n",
    "# CHOOSE the model type\n",
    "model = GPyOpt.models.GPModel(exact_feval=True,optimize_restarts=10,verbose=False)\n",
    "\n",
    "#CHOOSE the acquisition optimizer\n",
    "aquisition_optimizer = GPyOpt.optimization.AcquisitionOptimizer(feasible_region)\n",
    "\n",
    "#CHOOSE the type of acquisition\n",
    "acquisition = GPyOpt.acquisitions.AcquisitionEI(model, feasible_region, optimizer=aquisition_optimizer)\n",
    "\n",
    "#CHOOSE a collection method\n",
    "evaluator = GPyOpt.core.evaluators.Sequential(acquisition)\n",
    "\n",
    "# --- Stop conditions\n",
    "max_time  = None \n",
    "max_iter  = 100\n",
    "tolerance = 1e-8     # distance between two consecutive observations \n",
    "                     # if we're sampling a region in such fine detail then it is likely that we've found the true min.\n",
    "bo = GPyOpt.methods.ModularBayesianOptimization(model, feasible_region, objective, acquisition, evaluator, initial_design)\n",
    "# Run the optimization                                                  \n",
    "bo.run_optimization(max_iter = max_iter, max_time = max_time, eps = tolerance, verbosity=False) \n",
    "bo.plot_convergence()"
   ]
  },
  {
   "cell_type": "code",
   "execution_count": null,
   "id": "67fee355",
   "metadata": {},
   "outputs": [],
   "source": [
    "print(bo.x_opt)\n",
    "print(bo.fx_opt)"
   ]
  },
  {
   "cell_type": "code",
   "execution_count": null,
   "id": "db4ca29f",
   "metadata": {},
   "outputs": [],
   "source": []
  }
 ],
 "metadata": {
  "kernelspec": {
   "display_name": "Python 3",
   "language": "python",
   "name": "python3"
  },
  "language_info": {
   "codemirror_mode": {
    "name": "ipython",
    "version": 3
   },
   "file_extension": ".py",
   "mimetype": "text/x-python",
   "name": "python",
   "nbconvert_exporter": "python",
   "pygments_lexer": "ipython3",
   "version": "3.8.8"
  }
 },
 "nbformat": 4,
 "nbformat_minor": 5
}
