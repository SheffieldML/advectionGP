{
 "cells": [
  {
   "cell_type": "code",
   "execution_count": 1,
   "id": "44b9db82",
   "metadata": {},
   "outputs": [],
   "source": [
    "#Import Modules\n",
    "\n",
    "#numpy\n",
    "import numpy as np\n",
    "from numpy.random import multivariate_normal #For later example\n",
    "\n",
    "import pandas as pd\n",
    "\n",
    "#advectionGP\n",
    "from advectionGP.models import AdjointAdvectionDiffusionReactionModel as PDEModel #Model module builds basic parts of the PDE problem, combines other classes into full model\n",
    "from advectionGP.models import AdjointSimpleODEModel as ODEModel #Model module builds basic pa\n",
    "from advectionGP.sensors import FixedSensorModel #Builds sensor arrays to generate data for foward model or to generate observations for comparison\n",
    "from advectionGP.kernels import EQ #Generates exponentiated quadratic kernel approximation\n",
    "from advectionGP.test import TestKernels #Unit test model\n",
    "from advectionGP.wind import WindFixU #Wind model\n",
    "\n",
    "#Plotting tools\n",
    "from mpl_toolkits.mplot3d import Axes3D \n",
    "import matplotlib.pyplot as plt\n",
    "from matplotlib import cm\n",
    "from matplotlib.ticker import LinearLocator, FormatStrFormatter\n",
    "\n",
    "# GPy: Gaussian processes library\n",
    "import GPy\n",
    "\n",
    "import scipy\n",
    "\n",
    "#GPyOpt\n",
    "import GPyOpt\n",
    "from GPyOpt.methods import BayesianOptimization"
   ]
  },
  {
   "cell_type": "code",
   "execution_count": 2,
   "id": "888ba114",
   "metadata": {},
   "outputs": [],
   "source": [
    "# generate sensor locations for training data with shape [total observations, 4], where each row has elements \n",
    "#[lower time location, upper time location, x location, y location]\n",
    "\n",
    "tlocL = np.linspace(1,8,3) # lower time\n",
    "xloc=np.linspace(2,8,5) # x locations\n",
    "yloc=np.linspace(2,8,5) # y locations\n",
    "sensN = len(xloc)*len(yloc) # total number of sensors \n",
    "obsN = len(tlocL) # total time points at which an observation is taken\n",
    "X= np.zeros((obsN*sensN,4)) # obsN*sensN is total observations over all sensors and all times\n",
    "# Build sensor locations\n",
    "X[:,0] = np.asarray(np.meshgrid(tlocL,xloc,yloc)).reshape(3,sensN*obsN)[0] #lower time\n",
    "X[:,2] = np.asarray(np.meshgrid(tlocL,xloc,yloc)).reshape(3,sensN*obsN)[1] # x location\n",
    "X[:,3] = np.asarray(np.meshgrid(tlocL,xloc,yloc)).reshape(3,sensN*obsN)[2] # ylocation\n",
    "X[:,1] = X[:,0]+1 # upper time\n",
    "\n",
    "XGP= np.zeros((sensN*obsN,3))\n",
    "XGP[:,0] = (X[:,0]+X[:,1])/2\n",
    "XGP[:,1] = X[:,2]\n",
    "XGP[:,2] = X[:,3] \n",
    "\n",
    "\n",
    "\n",
    "sensors = FixedSensorModel(X,1) # establish sensor model arguments are sensor locations and spatial averaging\n",
    "\n",
    "# generate sensor locations for test data with shape [total observations, 4], where each row has elements \n",
    "#[lower time location, upper time location, x location, y location]\n",
    "\n",
    "tlocL = np.linspace(2,9,5) # lower time\n",
    "xloc=np.linspace(1.5,8.5,4) # x locations\n",
    "yloc=np.linspace(1.5,8.5,4) # y locations\n",
    "sensN = len(xloc)*len(yloc) # total number of sensors \n",
    "obsN = len(tlocL) # total time points at which an observation is taken\n",
    "Xtest= np.zeros((obsN*sensN,4)) # obsN*sensN is total observations over all sensors and all times\n",
    "# Build sensor locations\n",
    "Xtest[:,0] = np.asarray(np.meshgrid(tlocL,xloc,yloc)).reshape(3,sensN*obsN)[0] \n",
    "Xtest[:,2] = np.asarray(np.meshgrid(tlocL,xloc,yloc)).reshape(3,sensN*obsN)[1]\n",
    "Xtest[:,3] = np.asarray(np.meshgrid(tlocL,xloc,yloc)).reshape(3,sensN*obsN)[2]\n",
    "Xtest[:,1] = Xtest[:,0]+1\n",
    "\n",
    "XGPtest= np.zeros((sensN*obsN,3))\n",
    "XGPtest[:,0] = (Xtest[:,0]+Xtest[:,1])/2\n",
    "XGPtest[:,1] = Xtest[:,2]\n",
    "XGPtest[:,2] = Xtest[:,3]\n",
    "\n",
    "sensorsTest = FixedSensorModel(Xtest,1) # establish sensor model"
   ]
  },
  {
   "cell_type": "code",
   "execution_count": 3,
   "id": "2f924234",
   "metadata": {},
   "outputs": [],
   "source": [
    "k_0 = 0.01 #Diffusion\n",
    "R=0.1\n",
    "noiseSD = 0.05 #Observation noise\n",
    "N_feat=2000 # number of features used to approximate ground truth GP\n",
    "boundary = ([0,0,0],[10,10,10])# corners of the grid - in units of space\n",
    "k = EQ(2, 2.0) # generate EQ kernel arguments are lengthscale and variance\n",
    "res = [50,30,30] # grid size for time, x and y\n",
    "wind=np.cos(np.linspace(0,6*np.pi,res[1]))*0.5\n",
    "u=[]\n",
    "u.append(np.ones(res)*0.01) #x direction wind\n",
    "u.append(np.ones(res)*0.01) # y direction wind\n",
    "windmodel=WindFixU(u)\n",
    "#u.append(np.ones(res)*0.1) #x direction wind\n",
    "#u.append(np.ones(res)*0.1) # y direction wind\n",
    "m = PDEModel(resolution=res,boundary=boundary,N_feat=N_feat,noiseSD=noiseSD,kernel=k,sensormodel=sensors,windmodel=windmodel,k_0=k_0,R=R) #initiate PDE model to build concentration\n",
    "\n",
    "dt,dx,dy,dx2,dy2,Nt,Nx,Ny = m.getGridStepSize() # useful numbers!\n",
    "\n",
    "z=np.random.normal(0,1.0,N_feat) # Generate z to compute source\n",
    "sourceGT=(m.computeSourceFromPhi(z))# Compute source"
   ]
  },
  {
   "cell_type": "code",
   "execution_count": 4,
   "id": "e93473ff",
   "metadata": {},
   "outputs": [],
   "source": [
    "concTrain=m.computeConcentration(sourceGT) # Compute concentration - runs advection diffusion forward model\n",
    "yTrain= m.computeObservations() # Compute observations with noise uses m.sensormodel for observation locations\n",
    "\n",
    "m.sensormodel=sensorsTest\n",
    "yTest= m.computeObservations() "
   ]
  },
  {
   "cell_type": "code",
   "execution_count": 5,
   "id": "f846a759",
   "metadata": {},
   "outputs": [
    {
     "ename": "NameError",
     "evalue": "name 'ObsN' is not defined",
     "output_type": "error",
     "traceback": [
      "\u001b[1;31m---------------------------------------------------------------------------\u001b[0m",
      "\u001b[1;31mNameError\u001b[0m                                 Traceback (most recent call last)",
      "\u001b[1;32m<ipython-input-5-e08863218c0c>\u001b[0m in \u001b[0;36m<module>\u001b[1;34m\u001b[0m\n\u001b[0;32m     11\u001b[0m \u001b[0mconc\u001b[0m\u001b[1;33m=\u001b[0m\u001b[0mmMCMC\u001b[0m\u001b[1;33m.\u001b[0m\u001b[0mcomputeConcentration\u001b[0m\u001b[1;33m(\u001b[0m\u001b[0msource\u001b[0m\u001b[1;33m)\u001b[0m \u001b[1;31m# Compute test concentration\u001b[0m\u001b[1;33m\u001b[0m\u001b[1;33m\u001b[0m\u001b[0m\n\u001b[0;32m     12\u001b[0m \u001b[0myMCMC\u001b[0m\u001b[1;33m=\u001b[0m \u001b[0mmMCMC\u001b[0m\u001b[1;33m.\u001b[0m\u001b[0mcomputeObservations\u001b[0m\u001b[1;33m(\u001b[0m\u001b[0maddNoise\u001b[0m\u001b[1;33m=\u001b[0m\u001b[1;34m'TRUE'\u001b[0m\u001b[1;33m)\u001b[0m \u001b[1;31m# Compute observations with noise\u001b[0m\u001b[1;33m\u001b[0m\u001b[1;33m\u001b[0m\u001b[0m\n\u001b[1;32m---> 13\u001b[1;33m \u001b[0mllObsCur\u001b[0m \u001b[1;33m=\u001b[0m \u001b[1;33m-\u001b[0m\u001b[1;36m0.5\u001b[0m\u001b[1;33m*\u001b[0m\u001b[0mnp\u001b[0m\u001b[1;33m.\u001b[0m\u001b[0msum\u001b[0m\u001b[1;33m(\u001b[0m\u001b[1;33m(\u001b[0m\u001b[0mnp\u001b[0m\u001b[1;33m.\u001b[0m\u001b[0msquare\u001b[0m\u001b[1;33m(\u001b[0m\u001b[0mnp\u001b[0m\u001b[1;33m.\u001b[0m\u001b[0msubtract\u001b[0m\u001b[1;33m(\u001b[0m\u001b[0myTrain\u001b[0m\u001b[1;33m,\u001b[0m\u001b[0myMCMC\u001b[0m\u001b[1;33m)\u001b[0m\u001b[1;33m)\u001b[0m\u001b[1;33m/\u001b[0m\u001b[0mvar\u001b[0m\u001b[1;33m)\u001b[0m\u001b[1;33m+\u001b[0m\u001b[0mObsN\u001b[0m\u001b[1;33m*\u001b[0m\u001b[0mnp\u001b[0m\u001b[1;33m.\u001b[0m\u001b[0mlog\u001b[0m\u001b[1;33m(\u001b[0m\u001b[0mvar\u001b[0m\u001b[1;33m)\u001b[0m\u001b[1;33m+\u001b[0m\u001b[0mObsN\u001b[0m\u001b[1;33m*\u001b[0m\u001b[0mnp\u001b[0m\u001b[1;33m.\u001b[0m\u001b[0mlog\u001b[0m\u001b[1;33m(\u001b[0m\u001b[1;36m2\u001b[0m\u001b[1;33m*\u001b[0m\u001b[0mnp\u001b[0m\u001b[1;33m.\u001b[0m\u001b[0mpi\u001b[0m\u001b[1;33m)\u001b[0m\u001b[1;33m)\u001b[0m\u001b[1;33m\u001b[0m\u001b[1;33m\u001b[0m\u001b[0m\n\u001b[0m\u001b[0;32m     14\u001b[0m \u001b[0mlogPriorCur\u001b[0m \u001b[1;33m=\u001b[0m \u001b[1;36m0\u001b[0m\u001b[1;33m\u001b[0m\u001b[1;33m\u001b[0m\u001b[0m\n\u001b[0;32m     15\u001b[0m \u001b[0miterations\u001b[0m\u001b[1;33m=\u001b[0m\u001b[1;36m100000\u001b[0m\u001b[1;33m\u001b[0m\u001b[1;33m\u001b[0m\u001b[0m\n",
      "\u001b[1;31mNameError\u001b[0m: name 'ObsN' is not defined"
     ]
    }
   ],
   "source": [
    "N_feat = 200\n",
    "k2 = EQ(2, 2.0)\n",
    "sigmaMCMC=0.5\n",
    "out = []\n",
    "var = np.ones(len(yTrain))*noiseSD**2\n",
    "accept = 0 \n",
    "mMCMC = PDEModel(resolution=res,boundary=boundary,N_feat=N_feat,noiseSD=noiseSD,kernel=k2,sensormodel=sensors,windmodel=windmodel,k_0=k_0,R=R) #initiate PDE model to build concentration\n",
    "#zCur=np.random.normal(0,1.0,N_feat) # Generate z to compute source\n",
    "zCur=np.ones(N_feat)\n",
    "source = mMCMC.computeSourceFromPhi(zCur) # Generates estimated source using inferred distribution\n",
    "conc=mMCMC.computeConcentration(source) # Compute test concentration\n",
    "yMCMC= mMCMC.computeObservations(addNoise='TRUE') # Compute observations with noise\n",
    "llObsCur = -0.5*np.sum((np.square(np.subtract(yTrain,yMCMC))/var)+ObsN*np.log(var)+ObsN*np.log(2*np.pi))\n",
    "logPriorCur = 0\n",
    "iterations=100000\n",
    "out.append(zCur)\n",
    "for j in zCur:\n",
    "    logPriorCur += np.log(scipy.stats.norm(0, 1).pdf(j))\n",
    "for i in range(iterations):\n",
    "    zCan = zCur + np.random.normal(0,sigmaMCMC,N_feat)\n",
    "    source = mMCMC.computeSourceFromPhi(zCan) # Generates estimated source using inferred distribution\n",
    "    concCan=mMCMC.computeConcentration(source) # Compute test concentration\n",
    "    yCan= mMCMC.computeObservations(addNoise='TRUE') # Compute observations with noise\n",
    "    llObsCan = -0.5*np.sum((np.square(np.subtract(yTrain,yCan))/var)+0.5*np.log(var))\n",
    "    logPriorCan = 0\n",
    "    for j in zCan:\n",
    "        logPriorCan += np.log(scipy.stats.norm(0, 1).pdf(j))\n",
    "        \n",
    "    logPiCan = llObsCan + logPriorCan\n",
    "    logPiCur = llObsCur + logPriorCur\n",
    "    u = np.random.uniform(0,1)\n",
    "    \n",
    "    if np.log(u) < logPiCan - logPiCur:\n",
    "        zCur = zCan\n",
    "        logPriorCur = logPriorCan\n",
    "        accept += 1\n",
    "    out.append(zCur)\n",
    "        \n",
    "\n",
    "\n"
   ]
  },
  {
   "cell_type": "code",
   "execution_count": null,
   "id": "8a005529",
   "metadata": {
    "scrolled": true
   },
   "outputs": [],
   "source": [
    "plt.plot(np.transpose(out)[56])"
   ]
  },
  {
   "cell_type": "code",
   "execution_count": null,
   "id": "4f251c8b",
   "metadata": {},
   "outputs": [],
   "source": [
    "accept/iterations"
   ]
  },
  {
   "cell_type": "code",
   "execution_count": null,
   "id": "4f9c7c9f",
   "metadata": {},
   "outputs": [],
   "source": [
    "plt.plot(out)"
   ]
  },
  {
   "cell_type": "code",
   "execution_count": null,
   "id": "94dfc560",
   "metadata": {},
   "outputs": [],
   "source": [
    "logPriorCan"
   ]
  },
  {
   "cell_type": "code",
   "execution_count": null,
   "id": "410b9712",
   "metadata": {},
   "outputs": [],
   "source": [
    "logPiCan - logPiCur"
   ]
  },
  {
   "cell_type": "code",
   "execution_count": null,
   "id": "7fb4aa04",
   "metadata": {},
   "outputs": [],
   "source": []
  },
  {
   "cell_type": "code",
   "execution_count": 7,
   "id": "561cba64",
   "metadata": {},
   "outputs": [
    {
     "name": "stdout",
     "output_type": "stream",
     "text": [
      "200599999999999996\n"
     ]
    }
   ],
   "source": [
    "#%%timeit -r 4 -n 10\n",
    "N_feat = 50\n",
    "k2 = EQ(2, 2.0)\n",
    "sigmaMCMC=0.005\n",
    "out2 = []\n",
    "var = np.ones(len(yTrain))*noiseSD**2\n",
    "accept = 0 \n",
    "#start_time2 = time.time()\n",
    "#t_end = time.time() +54.8\n",
    "iters = 0\n",
    "ObsN=75\n",
    "\n",
    "mMCMC = PDEModel(resolution=res,boundary=boundary,N_feat=N_feat,noiseSD=noiseSD,kernel=k2,sensormodel=sensors,windmodel=windmodel,k_0=k_0,R=R) #initiate PDE model to build concentration\n",
    "#zCur=np.random.normal(0,1.0,N_feat) # Generate z to compute source\n",
    "zCur=np.ones(N_feat)\n",
    "source = mMCMC.computeSourceFromPhi(zCur) # Generates estimated source using inferred distribution\n",
    "conc=mMCMC.computeConcentration(source) # Compute test concentration\n",
    "yMCMC= mMCMC.computeObservations() # Compute observations with noise\n",
    "#llObsCur = -0.5*np.sum((np.square(np.subtract(yTrain,yMCMC))/(noiseSD**2)))-0.5*ObsN*np.log(noiseSD**2)-0.5*ObsN*np.log(2*np.pi)\n",
    "logPiCur = -np.inf\n",
    "llObsCur = 0\n",
    "iterations=200\n",
    "#out2.append(zCur)\n",
    "#for zi in zCur:\n",
    "#    logPriorCur += np.log(scipy.stats.norm(0, 1).pdf(zi))\n",
    "\n",
    "for i in range(iterations):\n",
    "    print((i/iterations)*100, sep=' ', end='\\r', flush=True)\n",
    "    zCan = zCur + np.random.normal(0,sigmaMCMC,N_feat)\n",
    "    source = mMCMC.computeSourceFromPhi(zCan) # Generates estimated source using inferred distribution\n",
    "    concCan=mMCMC.computeConcentration(source) # Compute test concentration\n",
    "    yCan= mMCMC.computeObservations() # Compute observations with noise\n",
    "    llObsCan = -0.5*np.sum((np.square(np.subtract(yTrain,yCan))/(noiseSD**2)))-0.5*ObsN*np.log(noiseSD**2)-0.5*ObsN*np.log(2*np.pi)\n",
    "    logPriorCan = 0\n",
    "    for j in zCan:\n",
    "        logPriorCan += np.log(scipy.stats.norm(0, 1).pdf(j))\n",
    "\n",
    "    logPiCan = llObsCan + logPriorCan\n",
    "    #logPiCur = llObsCur + logPriorCur\n",
    "    #print(logPiCan,logPiCur)\n",
    "    u = np.random.uniform(0,1)\n",
    "\n",
    "    if np.log(u) < logPiCan - logPiCur:\n",
    "        zCur = zCan\n",
    "        #logPriorCur = logPriorCan\n",
    "        logPiCur = logPiCan\n",
    "        accept += 1\n",
    "    out2.append(zCur)\n",
    "    iters +=1\n",
    "    #if time.time() > t_end:\n",
    "        #break \n",
    "        \n",
    "print(iters)"
   ]
  },
  {
   "cell_type": "code",
   "execution_count": 93,
   "id": "88d11616",
   "metadata": {},
   "outputs": [
    {
     "data": {
      "image/png": "[encoded data removed]",
      "text/plain": [
       "<Figure size 432x288 with 1 Axes>"
      ]
     },
     "metadata": {
      "needs_background": "light"
     },
     "output_type": "display_data"
    }
   ],
   "source": [
    "plt.plot(np.array(out2));\n",
    "plt.xlabel(\"Iterations\",fontsize=16)\n",
    "plt.ylabel(\"$q$ value\",fontsize=16)\n",
    "#plt.ylabel(\"y\",fontsize=16)\n",
    "plt.xticks(fontsize=10)\n",
    "plt.yticks(fontsize=10)\n",
    "tick_font_size =24\n",
    "plt.legend(('q1','q2','q3','q4','q5','q6','q7','q8','q9','q10'),loc='center left', bbox_to_anchor=(1, 0.5))\n",
    "plt.savefig('MCMC10.pdf',bbox_inches='tight') \n"
   ]
  },
  {
   "cell_type": "code",
   "execution_count": 9,
   "id": "ee1f5393",
   "metadata": {},
   "outputs": [],
   "source": [
    "from scipy.stats import norm"
   ]
  },
  {
   "cell_type": "code",
   "execution_count": 10,
   "id": "4ec43dec",
   "metadata": {},
   "outputs": [
    {
     "data": {
      "image/png": "[encoded data removed]",
      "text/plain": [
       "<Figure size 432x288 with 1 Axes>"
      ]
     },
     "metadata": {
      "needs_background": "light"
     },
     "output_type": "display_data"
    }
   ],
   "source": [
    "plt.hist(np.transpose(out2)[0][7000:],bins=25, density=True, alpha=0.6, color='b');\n",
    "xmin, xmax = plt.xlim()\n",
    "x = np.linspace(xmin, xmax, 100)\n",
    "p = norm.pdf(x, -3.62, np.sqrt(4.26e-4))\n",
    "  \n",
    "plt.plot(x, p, 'k', linewidth=2)\n",
    "title = \"$q_1$\"\n",
    "plt.title(title)\n",
    "plt.savefig('MCMCq1.pdf',bbox_inches='tight') "
   ]
  },
  {
   "cell_type": "code",
   "execution_count": 11,
   "id": "13036f9c",
   "metadata": {},
   "outputs": [
    {
     "data": {
      "text/plain": [
       "0.1816"
      ]
     },
     "execution_count": 11,
     "metadata": {},
     "output_type": "execute_result"
    }
   ],
   "source": [
    "accept/iterations"
   ]
  },
  {
   "cell_type": "code",
   "execution_count": 12,
   "id": "63709446",
   "metadata": {},
   "outputs": [
    {
     "name": "stdout",
     "output_type": "stream",
     "text": [
      "Calculating Adjoints...\n",
      "74/75 \n",
      "Calculating Phis...\n",
      "9/10 \n"
     ]
    }
   ],
   "source": [
    "regressPDE = mMCMC.computeModelRegressors() # Compute regressor matrix\n",
    "meanZMCMC, covZMCMC = mMCMC.computeZDistribution(yTrain) # Infers z vector mean and covariance"
   ]
  },
  {
   "cell_type": "code",
   "execution_count": 13,
   "id": "74aebea2",
   "metadata": {},
   "outputs": [
    {
     "data": {
      "text/plain": [
       "array([ 1.03362793, -2.14219921,  1.20151413,  0.1950627 , -0.14445207,\n",
       "        4.6432965 ,  0.61346849,  4.65152679,  0.5790239 , -1.52634804])"
      ]
     },
     "execution_count": 13,
     "metadata": {},
     "output_type": "execute_result"
    }
   ],
   "source": [
    "meanZMCMC"
   ]
  },
  {
   "cell_type": "code",
   "execution_count": 14,
   "id": "eb08f306",
   "metadata": {},
   "outputs": [
    {
     "data": {
      "text/plain": [
       "array([2.98832230e-05, 1.27454110e-04, 4.71442386e-05, 2.89617864e-05,\n",
       "       1.73534423e-05, 2.09108267e-04, 1.99374061e-05, 2.28506069e-04,\n",
       "       2.63635122e-05, 8.73008605e-05])"
      ]
     },
     "execution_count": 14,
     "metadata": {},
     "output_type": "execute_result"
    }
   ],
   "source": [
    "np.diag(covZMCMC)"
   ]
  },
  {
   "cell_type": "code",
   "execution_count": 15,
   "id": "e2449b7f",
   "metadata": {},
   "outputs": [
    {
     "data": {
      "text/plain": [
       "array([ 1.03318128, -2.14088862,  1.20321515,  0.1950411 , -0.14415255,\n",
       "        4.6450887 ,  0.61347401,  4.65340361,  0.57876731, -1.52464363])"
      ]
     },
     "execution_count": 15,
     "metadata": {},
     "output_type": "execute_result"
    }
   ],
   "source": [
    "np.mean(np.asarray(out2)[10000:,:],0)"
   ]
  },
  {
   "cell_type": "code",
   "execution_count": 16,
   "id": "f7f0a3aa",
   "metadata": {
    "scrolled": true
   },
   "outputs": [
    {
     "data": {
      "text/plain": [
       "array([2.96056954e-05, 1.10319646e-04, 3.72166096e-05, 2.58767101e-05,\n",
       "       1.74992654e-05, 1.45278586e-04, 1.83776670e-05, 1.60444702e-04,\n",
       "       2.19035155e-05, 6.95252959e-05])"
      ]
     },
     "execution_count": 16,
     "metadata": {},
     "output_type": "execute_result"
    }
   ],
   "source": [
    "np.diag(np.cov(np.asarray(out2)[10000::10,:].T))"
   ]
  },
  {
   "cell_type": "code",
   "execution_count": 17,
   "id": "170166ac",
   "metadata": {},
   "outputs": [],
   "source": [
    "meanZ = np.mean(np.asarray(out2)[10000:,:],0)\n",
    "covZ = np.cov(np.asarray(out2)[10000::10,:].T)\n",
    "MSEsource = 0\n",
    "\n",
    "for j in range(100):\n",
    "    z = np.random.multivariate_normal(meanZ,covZ)\n",
    "    sourceInfer = mMCMC.computeSourceFromPhi(z) # Generates estimated source using inferred distribution\n",
    "    MSEsource+=(np.square(np.subtract(sourceGT,sourceInfer))).mean()\n",
    "    #RMSEsource[i,l]+=np.sqrt((np.square(np.subtract(source,sourceInfer))).mean())"
   ]
  },
  {
   "cell_type": "code",
   "execution_count": 18,
   "id": "fef08d1e",
   "metadata": {},
   "outputs": [
    {
     "data": {
      "text/plain": [
       "3.307483895135882"
      ]
     },
     "execution_count": 18,
     "metadata": {},
     "output_type": "execute_result"
    }
   ],
   "source": [
    "MSEsource/100"
   ]
  },
  {
   "cell_type": "code",
   "execution_count": 19,
   "id": "4143b896",
   "metadata": {},
   "outputs": [
    {
     "name": "stdout",
     "output_type": "stream",
     "text": [
      "2. Solving the backward pde--- 0.0010178089141845703 seconds ---\n"
     ]
    }
   ],
   "source": [
    "\n",
    "\n",
    "import time\n",
    "N_feat=100\n",
    "k2 = EQ(2, 2.0) \n",
    "start_time1 = time.time()\n",
    "\n",
    "\n",
    "\n",
    "\n",
    "print(\"2. Solving the backward pde--- %s seconds ---\" % (time.time() - start_time1))"
   ]
  },
  {
   "cell_type": "code",
   "execution_count": 20,
   "id": "e6cc5e47",
   "metadata": {},
   "outputs": [
    {
     "name": "stdout",
     "output_type": "stream",
     "text": [
      "Calculating Adjoints...\n",
      "74/75 \n",
      "Calculating Phis...\n",
      "99/100 \n",
      "Calculating Adjoints...\n",
      "74/75 \n",
      "Calculating Phis...\n",
      "99/100 \n",
      "Calculating Adjoints...\n",
      "74/75 \n",
      "Calculating Phis...\n",
      "99/100 \n",
      "Calculating Adjoints...\n",
      "74/75 \n",
      "Calculating Phis...\n",
      "99/100 \n",
      "Calculating Adjoints...\n",
      "74/75 \n",
      "Calculating Phis...\n",
      "99/100 \n",
      "Calculating Adjoints...\n",
      "74/75 \n",
      "Calculating Phis...\n",
      "99/100 \n",
      "Calculating Adjoints...\n",
      "74/75 \n",
      "Calculating Phis...\n",
      "99/100 \n",
      "Calculating Adjoints...\n",
      "74/75 \n",
      "Calculating Phis...\n",
      "99/100 \n",
      "Calculating Adjoints...\n",
      "74/75 \n",
      "Calculating Phis...\n",
      "99/100 \n",
      "Calculating Adjoints...\n",
      "74/75 \n",
      "Calculating Phis...\n",
      "99/100 \n",
      "Calculating Adjoints...\n",
      "74/75 \n",
      "Calculating Phis...\n",
      "99/100 \n",
      "Calculating Adjoints...\n",
      "74/75 \n",
      "Calculating Phis...\n",
      "99/100 \n",
      "Calculating Adjoints...\n",
      "74/75 \n",
      "Calculating Phis...\n",
      "99/100 \n",
      "Calculating Adjoints...\n",
      "74/75 \n",
      "Calculating Phis...\n",
      "99/100 \n",
      "Calculating Adjoints...\n",
      "74/75 \n",
      "Calculating Phis...\n",
      "99/100 \n",
      "Calculating Adjoints...\n",
      "74/75 \n",
      "Calculating Phis...\n",
      "99/100 \n",
      "Calculating Adjoints...\n",
      "74/75 \n",
      "Calculating Phis...\n",
      "99/100 \n",
      "Calculating Adjoints...\n",
      "74/75 \n",
      "Calculating Phis...\n",
      "99/100 \n",
      "Calculating Adjoints...\n",
      "74/75 \n",
      "Calculating Phis...\n",
      "99/100 \n",
      "Calculating Adjoints...\n",
      "74/75 \n",
      "Calculating Phis...\n",
      "99/100 \n",
      "Calculating Adjoints...\n",
      "74/75 \n",
      "Calculating Phis...\n",
      "99/100 \n",
      "Calculating Adjoints...\n",
      "74/75 \n",
      "Calculating Phis...\n",
      "99/100 \n",
      "Calculating Adjoints...\n",
      "74/75 \n",
      "Calculating Phis...\n",
      "99/100 \n",
      "Calculating Adjoints...\n",
      "74/75 \n",
      "Calculating Phis...\n",
      "99/100 \n",
      "Calculating Adjoints...\n",
      "74/75 \n",
      "Calculating Phis...\n",
      "99/100 \n",
      "Calculating Adjoints...\n",
      "74/75 \n",
      "Calculating Phis...\n",
      "99/100 \n",
      "Calculating Adjoints...\n",
      "74/75 \n",
      "Calculating Phis...\n",
      "99/100 \n",
      "Calculating Adjoints...\n",
      "74/75 \n",
      "Calculating Phis...\n",
      "99/100 \n",
      "Calculating Adjoints...\n",
      "74/75 \n",
      "Calculating Phis...\n",
      "99/100 \n",
      "Calculating Adjoints...\n",
      "74/75 \n",
      "Calculating Phis...\n",
      "99/100 \n",
      "Calculating Adjoints...\n",
      "74/75 \n",
      "Calculating Phis...\n",
      "99/100 \n",
      "Calculating Adjoints...\n",
      "74/75 \n",
      "Calculating Phis...\n",
      "99/100 \n",
      "Calculating Adjoints...\n",
      "74/75 \n",
      "Calculating Phis...\n",
      "99/100 \n",
      "Calculating Adjoints...\n",
      "74/75 \n",
      "Calculating Phis...\n",
      "99/100 \n",
      "Calculating Adjoints...\n",
      "74/75 \n",
      "Calculating Phis...\n",
      "99/100 \n",
      "Calculating Adjoints...\n",
      "74/75 \n",
      "Calculating Phis...\n",
      "99/100 \n",
      "Calculating Adjoints...\n",
      "74/75 \n",
      "Calculating Phis...\n",
      "99/100 \n",
      "Calculating Adjoints...\n",
      "74/75 \n",
      "Calculating Phis...\n",
      "99/100 \n",
      "Calculating Adjoints...\n",
      "74/75 \n",
      "Calculating Phis...\n",
      "99/100 \n",
      "Calculating Adjoints...\n",
      "74/75 \n",
      "Calculating Phis...\n",
      "99/100 \n",
      "26.3 s ± 782 ms per loop (mean ± std. dev. of 4 runs, 10 loops each)\n"
     ]
    }
   ],
   "source": [
    "%%timeit -r 4 -n 10\n",
    "mPDE = PDEModel(resolution=res,boundary=boundary,N_feat=N_feat,noiseSD=noiseSD,kernel=k2,sensormodel=sensors,windmodel=windmodel,k_0=k_0,R=R) #Initiate new model for inference\n",
    "regressPDE = mPDE.computeModelRegressors() # Compute regressor matrix\n",
    "meanZPDE, covZPDE = mPDE.computeZDistribution(yTrain) # Infers z vector mean and covariance\n",
    "sourcePDE = mPDE.computeSourceFromPhi(meanZPDE) # Generates estimated source using inferred distributio"
   ]
  },
  {
   "cell_type": "code",
   "execution_count": 21,
   "id": "25d3f694",
   "metadata": {},
   "outputs": [
    {
     "data": {
      "text/plain": [
       "200"
      ]
     },
     "execution_count": 21,
     "metadata": {},
     "output_type": "execute_result"
    }
   ],
   "source": [
    "193\n",
    "195\n",
    "144\n",
    "171\n",
    "200\n",
    "200\n",
    "192\n",
    "194\n",
    "150\n",
    "158\n",
    "197\n",
    "188\n",
    "200\n",
    "185\n",
    "185\n",
    "180\n",
    "192\n",
    "184\n",
    "177\n",
    "168\n",
    "200\n",
    "200\n",
    "200\n",
    "200\n",
    "200"
   ]
  },
  {
   "cell_type": "code",
   "execution_count": 7,
   "id": "ddb694fe",
   "metadata": {},
   "outputs": [
    {
     "ename": "KeyboardInterrupt",
     "evalue": "",
     "output_type": "error",
     "traceback": [
      "\u001b[1;31m---------------------------------------------------------------------------\u001b[0m",
      "\u001b[1;31mKeyboardInterrupt\u001b[0m                         Traceback (most recent call last)",
      "\u001b[1;32m<ipython-input-7-7f9ad97c1ce0>\u001b[0m in \u001b[0;36m<module>\u001b[1;34m\u001b[0m\n\u001b[0;32m     32\u001b[0m         \u001b[0mzCan\u001b[0m\u001b[1;33m[\u001b[0m\u001b[0mc\u001b[0m\u001b[1;33m]\u001b[0m \u001b[1;33m+=\u001b[0m \u001b[0mnp\u001b[0m\u001b[1;33m.\u001b[0m\u001b[0mrandom\u001b[0m\u001b[1;33m.\u001b[0m\u001b[0mnormal\u001b[0m\u001b[1;33m(\u001b[0m\u001b[1;36m0\u001b[0m\u001b[1;33m,\u001b[0m\u001b[0msigmaMCMC\u001b[0m\u001b[1;33m,\u001b[0m\u001b[1;36m1\u001b[0m\u001b[1;33m)\u001b[0m\u001b[1;33m\u001b[0m\u001b[1;33m\u001b[0m\u001b[0m\n\u001b[0;32m     33\u001b[0m         \u001b[1;31m#print(zCur,zCan)\u001b[0m\u001b[1;33m\u001b[0m\u001b[1;33m\u001b[0m\u001b[1;33m\u001b[0m\u001b[0m\n\u001b[1;32m---> 34\u001b[1;33m         \u001b[0msource\u001b[0m \u001b[1;33m=\u001b[0m \u001b[0mmMCMC\u001b[0m\u001b[1;33m.\u001b[0m\u001b[0mcomputeSourceFromPhi\u001b[0m\u001b[1;33m(\u001b[0m\u001b[0mzCan\u001b[0m\u001b[1;33m)\u001b[0m \u001b[1;31m# Generates estimated source using inferred distribution\u001b[0m\u001b[1;33m\u001b[0m\u001b[1;33m\u001b[0m\u001b[0m\n\u001b[0m\u001b[0;32m     35\u001b[0m         \u001b[0mconcCan\u001b[0m\u001b[1;33m=\u001b[0m\u001b[0mmMCMC\u001b[0m\u001b[1;33m.\u001b[0m\u001b[0mcomputeConcentration\u001b[0m\u001b[1;33m(\u001b[0m\u001b[0msource\u001b[0m\u001b[1;33m)\u001b[0m \u001b[1;31m# Compute test concentration\u001b[0m\u001b[1;33m\u001b[0m\u001b[1;33m\u001b[0m\u001b[0m\n\u001b[0;32m     36\u001b[0m         \u001b[0myCan\u001b[0m\u001b[1;33m=\u001b[0m \u001b[0mmMCMC\u001b[0m\u001b[1;33m.\u001b[0m\u001b[0mcomputeObservations\u001b[0m\u001b[1;33m(\u001b[0m\u001b[1;33m)\u001b[0m \u001b[1;31m# Compute observations with noise\u001b[0m\u001b[1;33m\u001b[0m\u001b[1;33m\u001b[0m\u001b[0m\n",
      "\u001b[1;32mc:\\users\\chris\\documents\\github\\advectiongp\\advectionGP\\models.py\u001b[0m in \u001b[0;36mcomputeSourceFromPhi\u001b[1;34m(self, z)\u001b[0m\n\u001b[0;32m    168\u001b[0m         \"\"\"\n\u001b[0;32m    169\u001b[0m         \u001b[0mself\u001b[0m\u001b[1;33m.\u001b[0m\u001b[0msource\u001b[0m \u001b[1;33m=\u001b[0m \u001b[0mnp\u001b[0m\u001b[1;33m.\u001b[0m\u001b[0mzeros\u001b[0m\u001b[1;33m(\u001b[0m\u001b[0mself\u001b[0m\u001b[1;33m.\u001b[0m\u001b[0mresolution\u001b[0m\u001b[1;33m)\u001b[0m\u001b[1;33m\u001b[0m\u001b[1;33m\u001b[0m\u001b[0m\n\u001b[1;32m--> 170\u001b[1;33m         \u001b[1;32mfor\u001b[0m \u001b[0mi\u001b[0m\u001b[1;33m,\u001b[0m\u001b[0mphi\u001b[0m \u001b[1;32min\u001b[0m \u001b[0menumerate\u001b[0m\u001b[1;33m(\u001b[0m\u001b[0mself\u001b[0m\u001b[1;33m.\u001b[0m\u001b[0mkernel\u001b[0m\u001b[1;33m.\u001b[0m\u001b[0mgetPhi\u001b[0m\u001b[1;33m(\u001b[0m\u001b[0mself\u001b[0m\u001b[1;33m.\u001b[0m\u001b[0mcoords\u001b[0m\u001b[1;33m)\u001b[0m\u001b[1;33m)\u001b[0m\u001b[1;33m:\u001b[0m\u001b[1;33m\u001b[0m\u001b[1;33m\u001b[0m\u001b[0m\n\u001b[0m\u001b[0;32m    171\u001b[0m             \u001b[0mself\u001b[0m\u001b[1;33m.\u001b[0m\u001b[0msource\u001b[0m \u001b[1;33m+=\u001b[0m \u001b[0mphi\u001b[0m\u001b[1;33m*\u001b[0m\u001b[0mz\u001b[0m\u001b[1;33m[\u001b[0m\u001b[0mi\u001b[0m\u001b[1;33m]\u001b[0m\u001b[1;33m\u001b[0m\u001b[1;33m\u001b[0m\u001b[0m\n\u001b[0;32m    172\u001b[0m \u001b[1;33m\u001b[0m\u001b[0m\n",
      "\u001b[1;32mc:\\users\\chris\\documents\\github\\advectiongp\\advectionGP\\kernels.py\u001b[0m in \u001b[0;36mgetPhi\u001b[1;34m(self, coords)\u001b[0m\n\u001b[0;32m     52\u001b[0m         \u001b[0mc\u001b[0m\u001b[1;33m=\u001b[0m\u001b[1;36m1\u001b[0m\u001b[1;33m/\u001b[0m\u001b[1;33m(\u001b[0m\u001b[0mself\u001b[0m\u001b[1;33m.\u001b[0m\u001b[0ml2\u001b[0m\u001b[1;33m)\u001b[0m\u001b[1;33m\u001b[0m\u001b[1;33m\u001b[0m\u001b[0m\n\u001b[0;32m     53\u001b[0m         \u001b[1;32mfor\u001b[0m \u001b[0mw\u001b[0m\u001b[1;33m,\u001b[0m\u001b[0mb\u001b[0m \u001b[1;32min\u001b[0m \u001b[0mzip\u001b[0m\u001b[1;33m(\u001b[0m\u001b[0mself\u001b[0m\u001b[1;33m.\u001b[0m\u001b[0mW\u001b[0m\u001b[1;33m,\u001b[0m\u001b[0mself\u001b[0m\u001b[1;33m.\u001b[0m\u001b[0mb\u001b[0m\u001b[1;33m)\u001b[0m\u001b[1;33m:\u001b[0m\u001b[1;33m\u001b[0m\u001b[1;33m\u001b[0m\u001b[0m\n\u001b[1;32m---> 54\u001b[1;33m             \u001b[0mphi\u001b[0m\u001b[1;33m=\u001b[0m\u001b[0mnorm\u001b[0m\u001b[1;33m*\u001b[0m\u001b[0mnp\u001b[0m\u001b[1;33m.\u001b[0m\u001b[0msqrt\u001b[0m\u001b[1;33m(\u001b[0m\u001b[1;36m2\u001b[0m\u001b[1;33m*\u001b[0m\u001b[0mself\u001b[0m\u001b[1;33m.\u001b[0m\u001b[0msigma2\u001b[0m\u001b[1;33m)\u001b[0m\u001b[1;33m*\u001b[0m\u001b[0mnp\u001b[0m\u001b[1;33m.\u001b[0m\u001b[0mcos\u001b[0m\u001b[1;33m(\u001b[0m\u001b[0mc\u001b[0m\u001b[1;33m*\u001b[0m\u001b[0mnp\u001b[0m\u001b[1;33m.\u001b[0m\u001b[0meinsum\u001b[0m\u001b[1;33m(\u001b[0m\u001b[1;34m'i,ijkl->jkl'\u001b[0m\u001b[1;33m,\u001b[0m\u001b[0mw\u001b[0m\u001b[1;33m,\u001b[0m\u001b[0mcoords\u001b[0m\u001b[1;33m)\u001b[0m\u001b[1;33m+\u001b[0m \u001b[0mb\u001b[0m\u001b[1;33m)\u001b[0m\u001b[1;33m\u001b[0m\u001b[1;33m\u001b[0m\u001b[0m\n\u001b[0m\u001b[0;32m     55\u001b[0m             \u001b[1;32myield\u001b[0m \u001b[0mphi\u001b[0m\u001b[1;33m\u001b[0m\u001b[1;33m\u001b[0m\u001b[0m\n\u001b[0;32m     56\u001b[0m \u001b[1;33m\u001b[0m\u001b[0m\n",
      "\u001b[1;31mKeyboardInterrupt\u001b[0m: "
     ]
    }
   ],
   "source": [
    "#%%timeit -r 4 -n 10\n",
    "N_feat = 10\n",
    "k2 = EQ(2, 2.0)\n",
    "sigmaMCMC=0.05\n",
    "out3 = []\n",
    "var = np.ones(len(yTrain))*noiseSD**2\n",
    "accept = 0 \n",
    "#start_time2 = time.time()\n",
    "#t_end = time.time() +54.8\n",
    "iters = 0\n",
    "ObsN=75\n",
    "\n",
    "mMCMC = PDEModel(resolution=res,boundary=boundary,N_feat=N_feat,noiseSD=noiseSD,kernel=k2,sensormodel=sensors,windmodel=windmodel,k_0=k_0,R=R) #initiate PDE model to build concentration\n",
    "#zCur=np.random.normal(0,1.0,N_feat) # Generate z to compute source\n",
    "zCur=np.ones(N_feat)\n",
    "source = mMCMC.computeSourceFromPhi(zCur) # Generates estimated source using inferred distribution\n",
    "conc=mMCMC.computeConcentration(source) # Compute test concentration\n",
    "yMCMC= mMCMC.computeObservations() # Compute observations with noise\n",
    "#llObsCur = -0.5*np.sum((np.square(np.subtract(yTrain,yMCMC))/(noiseSD**2)))-0.5*ObsN*np.log(noiseSD**2)-0.5*ObsN*np.log(2*np.pi)\n",
    "logPiCur = -np.inf\n",
    "llObsCur = 0\n",
    "iterations=20\n",
    "out3.append(zCur)\n",
    "#for zi in zCur:\n",
    "#    logPriorCur += np.log(scipy.stats.norm(0, 1).pdf(zi))\n",
    "zCan = zCur\n",
    "\n",
    "out4=[]\n",
    "for i in range(iterations): \n",
    "    for c in range(N_feat): \n",
    "        zCan = np.array(zCur)\n",
    "        zCan[c] += np.random.normal(0,sigmaMCMC,1)\n",
    "        #print(zCur,zCan)\n",
    "        source = mMCMC.computeSourceFromPhi(zCan) # Generates estimated source using inferred distribution\n",
    "        concCan=mMCMC.computeConcentration(source) # Compute test concentration\n",
    "        yCan= mMCMC.computeObservations() # Compute observations with noise\n",
    "        llObsCan = -0.5*np.sum((np.square(np.subtract(yTrain,yCan))/(noiseSD**2)))-0.5*ObsN*np.log(noiseSD**2)-0.5*ObsN*np.log(2*np.pi)\n",
    "        logPriorCan=0\n",
    "        for j in zCan:\n",
    "            logPriorCan += np.log(scipy.stats.norm(0, 1).pdf(j))\n",
    "\n",
    "        logPiCan = llObsCan + logPriorCan\n",
    "        #print(logPiCan,logPiCur)\n",
    "        #logPiCur = llObsCur + logPriorCur\n",
    "        u = np.random.uniform(0,1)\n",
    "        if np.log(u) < logPiCan - logPiCur:\n",
    "            zCur[c] = zCan[c]\n",
    "            \n",
    "            #print(\"yes\")\n",
    "            #logPriorCur = logPriorCan\n",
    "            logPiCur = logPiCan\n",
    "            accept += 1\n",
    "            #print(\"yes\")\n",
    "        \n",
    "        \n",
    "        out3.append(np.array(zCur))"
   ]
  },
  {
   "cell_type": "code",
   "execution_count": null,
   "id": "4e476c44",
   "metadata": {},
   "outputs": [],
   "source": []
  },
  {
   "cell_type": "code",
   "execution_count": 88,
   "id": "fe87215d",
   "metadata": {},
   "outputs": [
    {
     "data": {
      "text/plain": [
       "0.235"
      ]
     },
     "execution_count": 88,
     "metadata": {},
     "output_type": "execute_result"
    }
   ],
   "source": [
    "accept/(iterations*N_feat)"
   ]
  },
  {
   "cell_type": "code",
   "execution_count": 89,
   "id": "f61160c8",
   "metadata": {},
   "outputs": [
    {
     "data": {
      "text/plain": [
       "<matplotlib.legend.Legend at 0x1f6d6243b80>"
      ]
     },
     "execution_count": 89,
     "metadata": {},
     "output_type": "execute_result"
    },
    {
     "data": {
      "image/png": "[encoded data removed]",
      "text/plain": [
       "<Figure size 432x288 with 1 Axes>"
      ]
     },
     "metadata": {
      "needs_background": "light"
     },
     "output_type": "display_data"
    }
   ],
   "source": [
    "plt.plot(out3)\n",
    "plt.legend(('q1','q2','q3','q4','q5','q6','q7','q8','q9','q10'),loc='center left', bbox_to_anchor=(1, 0.5))"
   ]
  },
  {
   "cell_type": "code",
   "execution_count": 90,
   "id": "1033ef2a",
   "metadata": {},
   "outputs": [
    {
     "data": {
      "text/plain": [
       "[<matplotlib.lines.Line2D at 0x1f6e4cdccd0>]"
      ]
     },
     "execution_count": 90,
     "metadata": {},
     "output_type": "execute_result"
    },
    {
     "data": {
      "image/png": "[encoded data removed]",
      "text/plain": [
       "<Figure size 432x288 with 1 Axes>"
      ]
     },
     "metadata": {
      "needs_background": "light"
     },
     "output_type": "display_data"
    }
   ],
   "source": [
    "plt.plot(out4)"
   ]
  },
  {
   "cell_type": "code",
   "execution_count": 91,
   "id": "8651fa26",
   "metadata": {},
   "outputs": [
    {
     "data": {
      "image/png": "[encoded data removed]",
      "text/plain": [
       "<Figure size 432x288 with 1 Axes>"
      ]
     },
     "metadata": {
      "needs_background": "light"
     },
     "output_type": "display_data"
    }
   ],
   "source": [
    "plt.plot(np.transpose(out3)[4]);"
   ]
  },
  {
   "cell_type": "code",
   "execution_count": 81,
   "id": "fe1a8570",
   "metadata": {},
   "outputs": [
    {
     "data": {
      "text/plain": [
       "(5001, 10)"
      ]
     },
     "execution_count": 81,
     "metadata": {},
     "output_type": "execute_result"
    }
   ],
   "source": [
    "np.array(out3).shape"
   ]
  },
  {
   "cell_type": "code",
   "execution_count": null,
   "id": "97fa01b9",
   "metadata": {},
   "outputs": [],
   "source": []
  }
 ],
 "metadata": {
  "kernelspec": {
   "display_name": "Python 3",
   "language": "python",
   "name": "python3"
  },
  "language_info": {
   "codemirror_mode": {
    "name": "ipython",
    "version": 3
   },
   "file_extension": ".py",
   "mimetype": "text/x-python",
   "name": "python",
   "nbconvert_exporter": "python",
   "pygments_lexer": "ipython3",
   "version": "3.8.8"
  }
 },
 "nbformat": 4,
 "nbformat_minor": 5
}
