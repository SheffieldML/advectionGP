{
 "cells": [
  {
   "cell_type": "code",
   "execution_count": 1,
   "id": "82faefaa",
   "metadata": {},
   "outputs": [],
   "source": [
    "#Import Modules\n",
    "\n",
    "#numpy\n",
    "import numpy as np\n",
    "from numpy.random import multivariate_normal #For later example\n",
    "\n",
    "import pandas as pd\n",
    "\n",
    "#advectionGP\n",
    "from advectionGP.models import AdjointAdvectionDiffusionReactionModel as Model #Model module builds basic parts of the PDE problem, combines other classes into full model\n",
    "from advectionGP.sensors import FixedSensorModel #Builds sensor arrays to generate data for foward model or to generate observations for comparison\n",
    "from advectionGP.kernels import EQ #Generates exponentiated quadratic kernel approximation\n",
    "from advectionGP.test import TestKernels #Unit test model\n",
    "\n",
    "#Plotting tools\n",
    "from mpl_toolkits.mplot3d import Axes3D \n",
    "import matplotlib.pyplot as plt\n",
    "from matplotlib import cm\n",
    "from matplotlib.ticker import LinearLocator, FormatStrFormatter\n",
    "\n",
    "# GPy: Gaussian processes library\n",
    "import GPy"
   ]
  },
  {
   "cell_type": "code",
   "execution_count": 2,
   "id": "00c07096",
   "metadata": {},
   "outputs": [],
   "source": [
    "X = np.asarray([[2,3,3,3],[2,3,3,7],[2,3,7,3],[2,3,7,7], #[t_lower,t_upper,x_location,y_location]\n",
    "               [8,9,3,3],[8,9,3,7],[8,9,7,3],[8,9,7,7]])"
   ]
  },
  {
   "cell_type": "code",
   "execution_count": 3,
   "id": "fa7daa55",
   "metadata": {},
   "outputs": [],
   "source": [
    "sensors = FixedSensorModel(X,1) # establish sensor model arguments are sensor locations and spatial averaging (second argument)"
   ]
  },
  {
   "cell_type": "code",
   "execution_count": 4,
   "id": "922edd1d",
   "metadata": {},
   "outputs": [],
   "source": [
    "k_0 = 0.01 #Diffusion coefficient\n",
    "noiseSD = 0.05 #Observation noise\n",
    "N_feat=2000 # number of features used to approximate ground truth GP\n",
    "boundary = ([0,0,0],[10,10,10])# corners of the grid - in units of space\n",
    "kForward = EQ(2, 2.0) # generate EQ kernel arguments are lengthscale and variance\n",
    "res = [50,30,30] # grid size for time, x and y\n",
    "u=[]\n",
    "u.append(np.ones(res)*0.01) #x direction wind\n",
    "u.append(np.ones(res)*0.01) # y direction wind"
   ]
  },
  {
   "cell_type": "code",
   "execution_count": 5,
   "id": "b65b6de0",
   "metadata": {},
   "outputs": [],
   "source": [
    "m = Model(resolution=res,boundary=boundary,N_feat=N_feat,noiseSD=noiseSD,kernel=kForward,sensormodel=sensors,u=u,k_0=k_0) #initiate PDE model to build concentration\n",
    "\n",
    "dt,dx,dy,dx2,dy2,Nt,Nx,Ny = m.getGridStepSize() # useful numbers!\n",
    "\n",
    "z=np.random.normal(0,1.0,N_feat) # Generate z to compute source\n",
    "sourceGT=m.computeSourceFromPhi(z)# Compute ground truth source by approximating GP\n",
    "sourceGT = np.zeros(m.resolution)\n",
    "sourceGT[:,7:11,7:11] = 10.0 # Example constant source\n",
    "concTrain=m.computeConcentration(sourceGT) # Compute concentration - runs advection diffusion forward model\n",
    "yTrain= m.computeObservations() # Compute observations with noise uses m.sensormodel for observation locations"
   ]
  },
  {
   "cell_type": "code",
   "execution_count": 6,
   "id": "0bdfdc7f",
   "metadata": {},
   "outputs": [
    {
     "data": {
      "image/png": "[encoded data removed]",
      "text/plain": [
       "<Figure size 1080x1080 with 4 Axes>"
      ]
     },
     "metadata": {
      "needs_background": "light"
     },
     "output_type": "display_data"
    }
   ],
   "source": [
    "a=np.floor(np.min((np.min(sourceGT[[0,28,49]]))))\n",
    "b=np.ceil(np.max((np.max(sourceGT[[0,28,49]]))))\n",
    "plt.rcParams[\"figure.figsize\"] = (15,15)\n",
    "fig = plt.figure()\n",
    "\n",
    "ploti = 0\n",
    "for title, data in zip(['Ground Truth Source'],[sourceGT]):\n",
    "    for t in [0,25,49]:\n",
    "        ploti+=1\n",
    "        plt.subplot(1,3,ploti)\n",
    "        im1=plt.imshow(data[t], extent=[0,10,0,10],origin='lower') #fix t...\n",
    "        time = np.linspace(0,10,50)[t]\n",
    "        plt.xlabel(\"t=%d\" % time,fontsize=16)\n",
    "        plt.xticks(fontsize=16)\n",
    "        plt.yticks(fontsize=16)\n",
    "        plt.clim(a,b)\n",
    "        \n",
    "        \n",
    "        tick_font_size = 16\n",
    "        if ploti % 3 == 2: plt.title(title, fontsize=16, fontweight='bold')\n",
    "        #if ploti % 3 == 3:\n",
    "        #    plt.colorbar(im1,fraction=0.046, pad=0.04)\n",
    "\n",
    "fig.tight_layout(rect=[0.1, 0.2, 1, 1])\n",
    "\n",
    "cbar_ax = fig.add_axes([1, 0.475, 0.02, 0.25])\n",
    "cbar=fig.colorbar(im1, cax=cbar_ax,orientation='vertical')\n",
    "#cbar = plt.colorbar(im3,fraction=0.046)\n",
    "tick_font_size = 16\n",
    "cbar.ax.tick_params(labelsize = tick_font_size)\n",
    "plt.show()"
   ]
  },
  {
   "cell_type": "code",
   "execution_count": 7,
   "id": "8f803a19",
   "metadata": {},
   "outputs": [
    {
     "data": {
      "image/png": "[encoded data removed]",
      "text/plain": [
       "<Figure size 1080x1080 with 4 Axes>"
      ]
     },
     "metadata": {
      "needs_background": "light"
     },
     "output_type": "display_data"
    }
   ],
   "source": [
    "a=np.floor(np.min((np.min(concTrain[[0,28,49]]))))\n",
    "b=np.ceil(np.max((np.max(concTrain[[0,28,49]]))))\n",
    "plt.rcParams[\"figure.figsize\"] = (15,15)\n",
    "fig = plt.figure()\n",
    "\n",
    "ploti = 0\n",
    "for title, data in zip(['Ground Truth Concentration'],[concTrain]):\n",
    "    for t in [0,24,49]:\n",
    "        ploti+=1\n",
    "        plt.subplot(1,3,ploti)\n",
    "        im1=plt.imshow(data[t], extent=[0,10,0,10],origin='lower') #fix t...\n",
    "        time = t*dt\n",
    "        plt.xlabel(\"t=%d\" % time,fontsize=16)\n",
    "        plt.xticks(fontsize=16)\n",
    "        plt.yticks(fontsize=16)\n",
    "        plt.clim(a,b)\n",
    "        \n",
    "        \n",
    "        tick_font_size = 16\n",
    "        if ploti % 3 == 2: plt.title(title, fontsize=16, fontweight='bold')\n",
    "        #if ploti % 3 == 3:\n",
    "        #    plt.colorbar(im1,fraction=0.046, pad=0.04)\n",
    "\n",
    "fig.tight_layout(rect=[0.1, 0.2, 1, 1])\n",
    "\n",
    "cbar_ax = fig.add_axes([1, 0.475, 0.02, 0.25])\n",
    "cbar=fig.colorbar(im1, cax=cbar_ax,orientation='vertical')\n",
    "#cbar = plt.colorbar(im3,fraction=0.046)\n",
    "tick_font_size = 16\n",
    "cbar.ax.tick_params(labelsize = tick_font_size)\n",
    "plt.show()"
   ]
  },
  {
   "cell_type": "markdown",
   "id": "8735249c",
   "metadata": {},
   "source": [
    "# GP Inverse problem"
   ]
  },
  {
   "cell_type": "code",
   "execution_count": 8,
   "id": "6bfbdb70",
   "metadata": {},
   "outputs": [],
   "source": [
    "kGP = GPy.kern.RBF(3, name=\"rbf\")"
   ]
  },
  {
   "cell_type": "code",
   "execution_count": 9,
   "id": "28714096",
   "metadata": {},
   "outputs": [],
   "source": [
    "XGP= np.zeros((8,3))"
   ]
  },
  {
   "cell_type": "code",
   "execution_count": 10,
   "id": "b422f1bc",
   "metadata": {},
   "outputs": [],
   "source": [
    "XGP[:,0] = (X[:,0]+X[:,1])/2\n",
    "XGP[:,1] = X[:,2]\n",
    "XGP[:,2] = X[:,3]"
   ]
  },
  {
   "cell_type": "code",
   "execution_count": 11,
   "id": "a6271211",
   "metadata": {},
   "outputs": [
    {
     "data": {
      "text/html": [
       "<style type=\"text/css\">\n",
       ".pd{\n",
       "    font-family: \"Courier New\", Courier, monospace !important;\n",
       "    width: 100%;\n",
       "    padding: 3px;\n",
       "}\n",
       "</style>\n",
       "\n",
       "<p class=pd>\n",
       "<b>Model</b>: GP regression<br>\n",
       "<b>Objective</b>: 1209.4545447588962<br>\n",
       "<b>Number of Parameters</b>: 3<br>\n",
       "<b>Number of Optimization Parameters</b>: 3<br>\n",
       "<b>Updates</b>: True<br>\n",
       "</p>\n",
       "<style type=\"text/css\">\n",
       ".tg  {font-family:\"Courier New\", Courier, monospace !important;padding:2px 3px;word-break:normal;border-collapse:collapse;border-spacing:0;border-color:#DCDCDC;margin:0px auto;width:100%;}\n",
       ".tg td{font-family:\"Courier New\", Courier, monospace !important;font-weight:bold;color:#444;background-color:#F7FDFA;border-style:solid;border-width:1px;overflow:hidden;word-break:normal;border-color:#DCDCDC;}\n",
       ".tg th{font-family:\"Courier New\", Courier, monospace !important;font-weight:normal;color:#fff;background-color:#26ADE4;border-style:solid;border-width:1px;overflow:hidden;word-break:normal;border-color:#DCDCDC;}\n",
       ".tg .tg-left{font-family:\"Courier New\", Courier, monospace !important;font-weight:normal;text-align:left;}\n",
       ".tg .tg-center{font-family:\"Courier New\", Courier, monospace !important;font-weight:normal;text-align:center;}\n",
       ".tg .tg-right{font-family:\"Courier New\", Courier, monospace !important;font-weight:normal;text-align:right;}\n",
       "</style>\n",
       "<table class=\"tg\"><tr><th><b>  GP_regression.         </b></th><th><b>value</b></th><th><b>constraints</b></th><th><b>priors</b></th></tr>\n",
       "<tr><td class=tg-left>  rbf.variance           </td><td class=tg-right>  1.0</td><td class=tg-center>    +ve    </td><td class=tg-center>      </td></tr>\n",
       "<tr><td class=tg-left>  rbf.lengthscale        </td><td class=tg-right>  1.0</td><td class=tg-center>    +ve    </td><td class=tg-center>      </td></tr>\n",
       "<tr><td class=tg-left>  Gaussian_noise.variance</td><td class=tg-right>  1.0</td><td class=tg-center>    +ve    </td><td class=tg-center>      </td></tr>\n",
       "</table>"
      ],
      "text/plain": [
       "<GPy.models.gp_regression.GPRegression at 0x1b893a3e3d0>"
      ]
     },
     "execution_count": 11,
     "metadata": {},
     "output_type": "execute_result"
    }
   ],
   "source": [
    "mGP = GPy.models.GPRegression(XGP, yTrain[:,None], kGP)\n",
    "mGP "
   ]
  },
  {
   "cell_type": "code",
   "execution_count": 12,
   "id": "47a7c559",
   "metadata": {
    "scrolled": true
   },
   "outputs": [
    {
     "data": {
      "text/plain": [
       "array([[ 0.        ,  0.        ,  0.        ],\n",
       "       [ 0.20408163,  0.        ,  0.        ],\n",
       "       [ 0.40816327,  0.        ,  0.        ],\n",
       "       ...,\n",
       "       [ 9.59183673, 10.        , 10.        ],\n",
       "       [ 9.79591837, 10.        , 10.        ],\n",
       "       [10.        , 10.        , 10.        ]])"
      ]
     },
     "execution_count": 12,
     "metadata": {},
     "output_type": "execute_result"
    }
   ],
   "source": [
    "tt=np.linspace(m.boundary[0][0],m.boundary[1][0],m.resolution[0])\n",
    "xx=np.linspace(m.boundary[0][1],m.boundary[1][1],m.resolution[1])\n",
    "yy=np.linspace(m.boundary[0][2],m.boundary[1][2],m.resolution[2])\n",
    "coords=np.asarray(np.meshgrid(tt,xx,yy,indexing='ij'))\n",
    "m.coords.transpose().reshape(50*30*30,3)"
   ]
  },
  {
   "cell_type": "code",
   "execution_count": 13,
   "id": "cbd3411b",
   "metadata": {
    "scrolled": true
   },
   "outputs": [],
   "source": [
    "meanGP, Cov = mGP.predict_noiseless(m.coords.transpose().reshape(50*30*30,3), full_cov=True)\n",
    "meanGP=meanGP.reshape(30,30,50).transpose()"
   ]
  },
  {
   "cell_type": "code",
   "execution_count": 14,
   "id": "236eecf3",
   "metadata": {},
   "outputs": [
    {
     "data": {
      "image/png": "[encoded data removed]",
      "text/plain": [
       "<Figure size 1080x1080 with 4 Axes>"
      ]
     },
     "metadata": {
      "needs_background": "light"
     },
     "output_type": "display_data"
    }
   ],
   "source": [
    "a=np.floor(np.min((np.min(meanGP[[0,28,49]]))))\n",
    "b=np.ceil(np.max((np.max(meanGP[[0,28,49]]))))\n",
    "plt.rcParams[\"figure.figsize\"] = (15,15)\n",
    "fig = plt.figure()\n",
    "\n",
    "ploti = 0\n",
    "for title, data in zip(['Ground Truth Source'],[meanGP]):\n",
    "    for t in [0,25,49]:\n",
    "        ploti+=1\n",
    "        plt.subplot(1,3,ploti)\n",
    "        im1=plt.imshow(data[t], extent=[0,10,0,10],origin='lower') #fix t...\n",
    "        time = np.linspace(0,10,50)[t]\n",
    "        plt.xlabel(\"t=%d\" % time,fontsize=16)\n",
    "        plt.xticks(fontsize=16)\n",
    "        plt.yticks(fontsize=16)\n",
    "        plt.clim(a,b)\n",
    "        \n",
    "        \n",
    "        tick_font_size = 16\n",
    "        if ploti % 3 == 2: plt.title(title, fontsize=16, fontweight='bold')\n",
    "        #if ploti % 3 == 3:\n",
    "        #    plt.colorbar(im1,fraction=0.046, pad=0.04)\n",
    "\n",
    "fig.tight_layout(rect=[0.1, 0.2, 1, 1])\n",
    "\n",
    "cbar_ax = fig.add_axes([1, 0.475, 0.02, 0.25])\n",
    "cbar=fig.colorbar(im1, cax=cbar_ax,orientation='vertical')\n",
    "#cbar = plt.colorbar(im3,fraction=0.046)\n",
    "tick_font_size = 16\n",
    "cbar.ax.tick_params(labelsize = tick_font_size)\n",
    "plt.show()"
   ]
  },
  {
   "cell_type": "code",
   "execution_count": null,
   "id": "1f9fc094",
   "metadata": {},
   "outputs": [],
   "source": []
  }
 ],
 "metadata": {
  "kernelspec": {
   "display_name": "Python 3",
   "language": "python",
   "name": "python3"
  },
  "language_info": {
   "codemirror_mode": {
    "name": "ipython",
    "version": 3
   },
   "file_extension": ".py",
   "mimetype": "text/x-python",
   "name": "python",
   "nbconvert_exporter": "python",
   "pygments_lexer": "ipython3",
   "version": "3.8.8"
  }
 },
 "nbformat": 4,
 "nbformat_minor": 5
}
