{
 "cells": [
  {
   "cell_type": "code",
   "execution_count": 1,
   "id": "837f6f9a",
   "metadata": {},
   "outputs": [],
   "source": [
    "#numpy\n",
    "import numpy as np\n",
    "from numpy.random import multivariate_normal #For later example\n",
    "\n",
    "#advectionGP\n",
    "\n",
    "from advectionGP.models import AdjointAdvectionDiffusionModel as PDEModel\n",
    "\n",
    "from advectionGP.wind import WindSimple, WindFixU#Wind model\n",
    "\n",
    "\n",
    "from advectionGP.sensors import FixedSensorModel #Builds sensor arrays to generate data for foward model or to generate observations for comparison\n",
    "from advectionGP.kernels import EQ #Generates exponentiated quadratic kernel approximation\n",
    "from advectionGP.test import TestKernels #Unit test model\n",
    "\n",
    "\n",
    "#Plotting tools\n",
    "import matplotlib.pyplot as plt\n",
    "import numpy.random as rd\n",
    "rd.seed(123)"
   ]
  },
  {
   "cell_type": "code",
   "execution_count": 2,
   "id": "1ae763e0",
   "metadata": {},
   "outputs": [],
   "source": [
    "# generate sensor locations for training data with shape [total observations, 4], where each row has elements \n",
    "#[lower time location, upper time location, x location, y location]\n",
    "\n",
    "tlocL = np.linspace(1,9,5) # lower time\n",
    "xloc=np.linspace(1,9,4) # x locations\n",
    "yloc=np.linspace(1,9,4) # y locations\n",
    "sensN = len(xloc)*len(yloc) # total number of sensors \n",
    "obsN = len(tlocL) # total time points at which an observation is taken\n",
    "X= np.zeros((obsN*sensN,4)) # obsN*sensN is total observations over all sensors and all times\n",
    "# Build sensor locations\n",
    "X[:,0] = np.asarray(np.meshgrid(tlocL,xloc,yloc)).reshape(3,sensN*obsN)[0] #lower time\n",
    "X[:,2] = np.asarray(np.meshgrid(tlocL,xloc,yloc)).reshape(3,sensN*obsN)[1] # x location\n",
    "X[:,3] = np.asarray(np.meshgrid(tlocL,xloc,yloc)).reshape(3,sensN*obsN)[2] # ylocation\n",
    "X[:,1] = X[:,0]+0.1 # upper time\n",
    "\n",
    "XGP= np.zeros((sensN*obsN,3))\n",
    "XGP[:,0] = (X[:,0]+X[:,1])/2\n",
    "XGP[:,1] = X[:,2]\n",
    "XGP[:,2] = X[:,3] \n",
    "\n",
    "sensors = FixedSensorModel(X,0.1) # establish sensor model arguments are sensor locations and spatial averaging"
   ]
  },
  {
   "cell_type": "code",
   "execution_count": 3,
   "id": "d6cbb875",
   "metadata": {},
   "outputs": [
    {
     "name": "stdout",
     "output_type": "stream",
     "text": [
      "Computing Source from Phi...\n",
      "1999/2000 \r"
     ]
    }
   ],
   "source": [
    "k_0 = 0.01 #Diffusion\n",
    "R=0.1\n",
    "noiseSD = 0.05 #Observation noise\n",
    "N_feat=2000 # number of features used to approximate ground truth GP\n",
    "boundary = ([0,0,0],[10,10,10])# corners of the grid - in units of space\n",
    "k = EQ(2, 1.0) # generate EQ kernel arguments are lengthscale and variance\n",
    "res = [50,50,50] # grid size for time, x and y\n",
    "\n",
    "\n",
    "u1 = 0.04\n",
    "u2 = 0.04\n",
    "windmodel=WindSimple(u1,u2) # establish fixed wind model\n",
    "\n",
    "#wind=np.cos(np.linspace(0,6*np.pi,res[1]))*0.5\n",
    "#u=[]\n",
    "#u.append(np.ones(res)*wind) #x direction wind\n",
    "#u.append(np.ones(res)*0.0) # y direction wind\n",
    "#windmodel=WindFixU(u)\n",
    "\n",
    "m = PDEModel(resolution=res,boundary=boundary,N_feat=N_feat,noiseSD=noiseSD,kernel=k,sensormodel=sensors,windmodel=windmodel,k_0=k_0) #initiate PDE model to build concentration\n",
    "\n",
    "dt,dx,dy,dx2,dy2,Nt,Nx,Ny = m.getGridStepSize() # useful numbers!\n",
    "\n",
    "z=np.random.normal(0,1.0,N_feat) # Generate z to compute source\n",
    "\n",
    "sourceGT=(m.computeSourceFromPhi(z))# Compute source"
   ]
  },
  {
   "cell_type": "code",
   "execution_count": 4,
   "id": "20b3288b",
   "metadata": {},
   "outputs": [],
   "source": [
    "concTrain=m.computeConcentration(sourceGT) # Compute concentration - runs advection diffusion forward model\n",
    "yTrain= m.computeObservations(addNoise=True) # Compute observations with noise uses m.sensormodel for observation locations"
   ]
  },
  {
   "cell_type": "code",
   "execution_count": 5,
   "id": "8e295a70",
   "metadata": {},
   "outputs": [
    {
     "data": {
      "text/plain": [
       "<matplotlib.image.AxesImage at 0x2568c657ee0>"
      ]
     },
     "execution_count": 5,
     "metadata": {},
     "output_type": "execute_result"
    },
    {
     "data": {
      "image/png": "[encoded data removed]",
      "text/plain": [
       "<Figure size 432x288 with 1 Axes>"
      ]
     },
     "metadata": {
      "needs_background": "light"
     },
     "output_type": "display_data"
    }
   ],
   "source": [
    "plt.imshow(sourceGT[9])"
   ]
  },
  {
   "cell_type": "code",
   "execution_count": 6,
   "id": "3c89f274",
   "metadata": {},
   "outputs": [
    {
     "data": {
      "text/plain": [
       "<matplotlib.image.AxesImage at 0x2568cdc9eb0>"
      ]
     },
     "execution_count": 6,
     "metadata": {},
     "output_type": "execute_result"
    },
    {
     "data": {
      "image/png": "[encoded data removed]",
      "text/plain": [
       "<Figure size 432x288 with 1 Axes>"
      ]
     },
     "metadata": {
      "needs_background": "light"
     },
     "output_type": "display_data"
    }
   ],
   "source": [
    "plt.imshow(concTrain[9])"
   ]
  },
  {
   "cell_type": "code",
   "execution_count": null,
   "id": "6c0e73e6",
   "metadata": {},
   "outputs": [],
   "source": []
  },
  {
   "cell_type": "code",
   "execution_count": 7,
   "id": "0c7025ce",
   "metadata": {},
   "outputs": [
    {
     "data": {
      "text/plain": [
       "(80, 4)"
      ]
     },
     "execution_count": 7,
     "metadata": {},
     "output_type": "execute_result"
    }
   ],
   "source": [
    "X.shape"
   ]
  },
  {
   "cell_type": "code",
   "execution_count": 8,
   "id": "875f25df",
   "metadata": {},
   "outputs": [
    {
     "data": {
      "text/plain": [
       "(80,)"
      ]
     },
     "execution_count": 8,
     "metadata": {},
     "output_type": "execute_result"
    }
   ],
   "source": [
    "yTrain.shape"
   ]
  },
  {
   "cell_type": "code",
   "execution_count": 9,
   "id": "9f55ce58",
   "metadata": {},
   "outputs": [],
   "source": [
    "FullObs = np.hstack((X,yTrain[:,None]))"
   ]
  },
  {
   "cell_type": "code",
   "execution_count": 10,
   "id": "c9dfbe2c",
   "metadata": {},
   "outputs": [
    {
     "data": {
      "text/plain": [
       "array([[ 1.        ,  1.1       ,  1.        ,  1.        , -0.45518917],\n",
       "       [ 1.        ,  1.1       ,  1.        ,  3.66666667, -0.47945289],\n",
       "       [ 1.        ,  1.1       ,  1.        ,  6.33333333, -0.06131196],\n",
       "       [ 1.        ,  1.1       ,  1.        ,  9.        ,  0.85924033],\n",
       "       [ 3.        ,  3.1       ,  1.        ,  1.        , -1.09604039],\n",
       "       [ 3.        ,  3.1       ,  1.        ,  3.66666667, -2.63444225],\n",
       "       [ 3.        ,  3.1       ,  1.        ,  6.33333333,  0.11570613],\n",
       "       [ 3.        ,  3.1       ,  1.        ,  9.        ,  2.4849104 ],\n",
       "       [ 5.        ,  5.1       ,  1.        ,  1.        , -2.24974575],\n",
       "       [ 5.        ,  5.1       ,  1.        ,  3.66666667, -5.62662315],\n",
       "       [ 5.        ,  5.1       ,  1.        ,  6.33333333, -0.41446311],\n",
       "       [ 5.        ,  5.1       ,  1.        ,  9.        ,  5.31124747],\n",
       "       [ 7.        ,  7.1       ,  1.        ,  1.        , -3.41137977],\n",
       "       [ 7.        ,  7.1       ,  1.        ,  3.66666667, -6.82652857],\n",
       "       [ 7.        ,  7.1       ,  1.        ,  6.33333333,  0.58213795],\n",
       "       [ 7.        ,  7.1       ,  1.        ,  9.        ,  9.20981589],\n",
       "       [ 9.        ,  9.1       ,  1.        ,  1.        , -2.9672472 ],\n",
       "       [ 9.        ,  9.1       ,  1.        ,  3.66666667, -5.20099932],\n",
       "       [ 9.        ,  9.1       ,  1.        ,  6.33333333,  3.19858663],\n",
       "       [ 9.        ,  9.1       ,  1.        ,  9.        ,  9.90422858],\n",
       "       [ 1.        ,  1.1       ,  3.66666667,  1.        , -0.38591814],\n",
       "       [ 1.        ,  1.1       ,  3.66666667,  3.66666667,  0.14749925],\n",
       "       [ 1.        ,  1.1       ,  3.66666667,  6.33333333,  1.49631414],\n",
       "       [ 1.        ,  1.1       ,  3.66666667,  9.        ,  0.55440345],\n",
       "       [ 3.        ,  3.1       ,  3.66666667,  1.        , -2.18734119],\n",
       "       [ 3.        ,  3.1       ,  3.66666667,  3.66666667,  0.90109727],\n",
       "       [ 3.        ,  3.1       ,  3.66666667,  6.33333333,  5.05750486],\n",
       "       [ 3.        ,  3.1       ,  3.66666667,  9.        ,  1.61562394],\n",
       "       [ 5.        ,  5.1       ,  3.66666667,  1.        , -2.48852121],\n",
       "       [ 5.        ,  5.1       ,  3.66666667,  3.66666667,  1.36607471],\n",
       "       [ 5.        ,  5.1       ,  3.66666667,  6.33333333,  8.69914984],\n",
       "       [ 5.        ,  5.1       ,  3.66666667,  9.        ,  4.37168933],\n",
       "       [ 7.        ,  7.1       ,  3.66666667,  1.        , -1.37906561],\n",
       "       [ 7.        ,  7.1       ,  3.66666667,  3.66666667,  1.30004165],\n",
       "       [ 7.        ,  7.1       ,  3.66666667,  6.33333333, 10.46154457],\n",
       "       [ 7.        ,  7.1       ,  3.66666667,  9.        ,  6.10175327],\n",
       "       [ 9.        ,  9.1       ,  3.66666667,  1.        ,  0.29147261],\n",
       "       [ 9.        ,  9.1       ,  3.66666667,  3.66666667,  2.20759333],\n",
       "       [ 9.        ,  9.1       ,  3.66666667,  6.33333333, 10.25257466],\n",
       "       [ 9.        ,  9.1       ,  3.66666667,  9.        ,  4.61293966],\n",
       "       [ 1.        ,  1.1       ,  6.33333333,  1.        , -1.278027  ],\n",
       "       [ 1.        ,  1.1       ,  6.33333333,  3.66666667,  0.28725437],\n",
       "       [ 1.        ,  1.1       ,  6.33333333,  6.33333333,  1.45592926],\n",
       "       [ 1.        ,  1.1       ,  6.33333333,  9.        ,  0.69704767],\n",
       "       [ 3.        ,  3.1       ,  6.33333333,  1.        , -5.24220963],\n",
       "       [ 3.        ,  3.1       ,  6.33333333,  3.66666667,  1.32941102],\n",
       "       [ 3.        ,  3.1       ,  6.33333333,  6.33333333,  5.29355672],\n",
       "       [ 3.        ,  3.1       ,  6.33333333,  9.        ,  1.15033619],\n",
       "       [ 5.        ,  5.1       ,  6.33333333,  1.        , -7.52164302],\n",
       "       [ 5.        ,  5.1       ,  6.33333333,  3.66666667,  2.86724329],\n",
       "       [ 5.        ,  5.1       ,  6.33333333,  6.33333333, 11.0000838 ],\n",
       "       [ 5.        ,  5.1       ,  6.33333333,  9.        ,  2.43703201],\n",
       "       [ 7.        ,  7.1       ,  6.33333333,  1.        , -7.18413343],\n",
       "       [ 7.        ,  7.1       ,  6.33333333,  3.66666667,  1.50525172],\n",
       "       [ 7.        ,  7.1       ,  6.33333333,  6.33333333, 13.35191255],\n",
       "       [ 7.        ,  7.1       ,  6.33333333,  9.        ,  3.83165096],\n",
       "       [ 9.        ,  9.1       ,  6.33333333,  1.        , -5.65682386],\n",
       "       [ 9.        ,  9.1       ,  6.33333333,  3.66666667,  1.87075673],\n",
       "       [ 9.        ,  9.1       ,  6.33333333,  6.33333333, 13.05402034],\n",
       "       [ 9.        ,  9.1       ,  6.33333333,  9.        ,  2.677881  ],\n",
       "       [ 1.        ,  1.1       ,  9.        ,  1.        , -0.06444001],\n",
       "       [ 1.        ,  1.1       ,  9.        ,  3.66666667,  0.36733464],\n",
       "       [ 1.        ,  1.1       ,  9.        ,  6.33333333, -0.4994921 ],\n",
       "       [ 1.        ,  1.1       ,  9.        ,  9.        , -0.78482199],\n",
       "       [ 3.        ,  3.1       ,  9.        ,  1.        ,  0.15709087],\n",
       "       [ 3.        ,  3.1       ,  9.        ,  3.66666667,  0.02562225],\n",
       "       [ 3.        ,  3.1       ,  9.        ,  6.33333333, -0.91417472],\n",
       "       [ 3.        ,  3.1       ,  9.        ,  9.        , -2.62303236],\n",
       "       [ 5.        ,  5.1       ,  9.        ,  1.        , -0.04116798],\n",
       "       [ 5.        ,  5.1       ,  9.        ,  3.66666667, -0.9676104 ],\n",
       "       [ 5.        ,  5.1       ,  9.        ,  6.33333333,  0.65858064],\n",
       "       [ 5.        ,  5.1       ,  9.        ,  9.        , -4.55557933],\n",
       "       [ 7.        ,  7.1       ,  9.        ,  1.        , -1.04648685],\n",
       "       [ 7.        ,  7.1       ,  9.        ,  3.66666667, -3.00056635],\n",
       "       [ 7.        ,  7.1       ,  9.        ,  6.33333333,  3.3265934 ],\n",
       "       [ 7.        ,  7.1       ,  9.        ,  9.        , -3.56470975],\n",
       "       [ 9.        ,  9.1       ,  9.        ,  1.        , -2.11331534],\n",
       "       [ 9.        ,  9.1       ,  9.        ,  3.66666667, -3.63803694],\n",
       "       [ 9.        ,  9.1       ,  9.        ,  6.33333333,  4.02634747],\n",
       "       [ 9.        ,  9.1       ,  9.        ,  9.        , -2.40051645]])"
      ]
     },
     "execution_count": 10,
     "metadata": {},
     "output_type": "execute_result"
    }
   ],
   "source": [
    "FullObs"
   ]
  },
  {
   "cell_type": "code",
   "execution_count": 11,
   "id": "67238cfc",
   "metadata": {},
   "outputs": [
    {
     "name": "stdout",
     "output_type": "stream",
     "text": [
      "Calculating Adjoints...\n",
      "79/80 \n",
      "Calculating Phis...\n",
      "1999/2000 \n",
      "Computing Source from Phi...\n",
      "1999/2000 \r"
     ]
    }
   ],
   "source": [
    "N_feat =2000 #Number of features used to infer the source\n",
    "k1 = EQ(2, 1.0) \n",
    "k2 = EQ(2, 1.0) \n",
    "\n",
    "mPDE = PDEModel(resolution=res,boundary=boundary,N_feat=N_feat,noiseSD=noiseSD,kernel=k1,sensormodel=sensors,windmodel=windmodel,k_0=k_0) #Initiate new model for inference\n",
    "regressPDE = mPDE.computeModelRegressors() # Compute regressor matrix\n",
    "meanZPDE, covZPDE = mPDE.computeZDistribution(yTrain) # Infers z vector mean and covariance\n",
    "sourceInfer = mPDE.computeSourceFromPhi(meanZPDE) # Generates estimated source using inferred distributio\n",
    "concInfer = mPDE.computeConcentration(sourceInfer)\n",
    "yOut = mPDE.computeObservations()"
   ]
  },
  {
   "cell_type": "code",
   "execution_count": 12,
   "id": "a514a28d",
   "metadata": {},
   "outputs": [
    {
     "data": {
      "text/plain": [
       "<matplotlib.image.AxesImage at 0x2568ce33610>"
      ]
     },
     "execution_count": 12,
     "metadata": {},
     "output_type": "execute_result"
    },
    {
     "data": {
      "image/png": "[encoded data removed]",
      "text/plain": [
       "<Figure size 432x288 with 1 Axes>"
      ]
     },
     "metadata": {
      "needs_background": "light"
     },
     "output_type": "display_data"
    }
   ],
   "source": [
    "plt.imshow(sourceInfer[9])"
   ]
  },
  {
   "cell_type": "code",
   "execution_count": 13,
   "id": "221981d7",
   "metadata": {
    "scrolled": true
   },
   "outputs": [
    {
     "data": {
      "text/plain": [
       "<matplotlib.image.AxesImage at 0x256980d8760>"
      ]
     },
     "execution_count": 13,
     "metadata": {},
     "output_type": "execute_result"
    },
    {
     "data": {
      "image/png": "[encoded data removed]",
      "text/plain": [
       "<Figure size 432x288 with 1 Axes>"
      ]
     },
     "metadata": {
      "needs_background": "light"
     },
     "output_type": "display_data"
    }
   ],
   "source": [
    "plt.imshow(sourceGT[9])"
   ]
  },
  {
   "cell_type": "code",
   "execution_count": 14,
   "id": "b45b794c",
   "metadata": {},
   "outputs": [],
   "source": [
    "#plt.imshow(sourceFromCSV[9])"
   ]
  },
  {
   "cell_type": "code",
   "execution_count": 15,
   "id": "40c453f7",
   "metadata": {},
   "outputs": [
    {
     "data": {
      "text/plain": [
       "0.12184961279989552"
      ]
     },
     "execution_count": 15,
     "metadata": {},
     "output_type": "execute_result"
    }
   ],
   "source": [
    "np.mean((sourceGT-sourceInfer)**2)"
   ]
  },
  {
   "cell_type": "code",
   "execution_count": 16,
   "id": "a03cd405",
   "metadata": {},
   "outputs": [],
   "source": [
    "#import csv\n",
    "#np.savetxt(\"Observations16Sens5Times.csv\", FullObs, delimiter=\",\")\n",
    "#np.savetxt(\"GroundTruthSource16Sens5Times.csv\", np.reshape(sourceGT,(res[0],res[1]*res[2])), delimiter=\",\")\n",
    "#np.savetxt(\"GroundTruthConc16Sens5Times.csv\", np.reshape(concTrain,(res[0],res[1]*res[2])), delimiter=\",\")"
   ]
  },
  {
   "cell_type": "code",
   "execution_count": 17,
   "id": "a207252a",
   "metadata": {},
   "outputs": [],
   "source": [
    "sourceFromCSV=np.genfromtxt(\"GroundTruthSource16Sens5Times.csv\",delimiter=',')\n",
    "sourceFromCSV=np.reshape(sourceFromCSV,(50,50,50))"
   ]
  },
  {
   "cell_type": "markdown",
   "id": "95286306",
   "metadata": {},
   "source": [
    "# GP Comparison"
   ]
  },
  {
   "cell_type": "code",
   "execution_count": 18,
   "id": "ba349033",
   "metadata": {},
   "outputs": [],
   "source": [
    "import GPy"
   ]
  },
  {
   "cell_type": "code",
   "execution_count": 19,
   "id": "8272dd37",
   "metadata": {},
   "outputs": [],
   "source": [
    "sensWindX = np.ravel_multi_index(m.getGridCoord(XGP).transpose(), np.asarray(m.u[0]).shape)\n",
    "sensWindY = np.ravel_multi_index(m.getGridCoord(XGP).transpose(), np.asarray(m.u[1]).shape)\n",
    "xwind=np.asarray(m.u).take(sensWindX)\n",
    "ywind=np.asarray(m.u).take(sensWindY)\n",
    "\n",
    "XGPwind = np.c_[XGP,xwind,ywind]"
   ]
  },
  {
   "cell_type": "code",
   "execution_count": 20,
   "id": "72d9e62d",
   "metadata": {
    "scrolled": true
   },
   "outputs": [],
   "source": [
    "kGP = GPy.kern.RBF(3, name=\"rbf\")"
   ]
  },
  {
   "cell_type": "code",
   "execution_count": 21,
   "id": "721ae26d",
   "metadata": {},
   "outputs": [
    {
     "data": {
      "text/html": [
       "<style type=\"text/css\">\n",
       ".pd{\n",
       "    font-family: \"Courier New\", Courier, monospace !important;\n",
       "    width: 100%;\n",
       "    padding: 3px;\n",
       "}\n",
       "</style>\n",
       "\n",
       "<p class=pd>\n",
       "<b>Model</b>: GP regression<br>\n",
       "<b>Objective</b>: 458.1594403796495<br>\n",
       "<b>Number of Parameters</b>: 3<br>\n",
       "<b>Number of Optimization Parameters</b>: 3<br>\n",
       "<b>Updates</b>: True<br>\n",
       "</p>\n",
       "<style type=\"text/css\">\n",
       ".tg  {font-family:\"Courier New\", Courier, monospace !important;padding:2px 3px;word-break:normal;border-collapse:collapse;border-spacing:0;border-color:#DCDCDC;margin:0px auto;width:100%;}\n",
       ".tg td{font-family:\"Courier New\", Courier, monospace !important;font-weight:bold;color:#444;background-color:#F7FDFA;border-style:solid;border-width:1px;overflow:hidden;word-break:normal;border-color:#DCDCDC;}\n",
       ".tg th{font-family:\"Courier New\", Courier, monospace !important;font-weight:normal;color:#fff;background-color:#26ADE4;border-style:solid;border-width:1px;overflow:hidden;word-break:normal;border-color:#DCDCDC;}\n",
       ".tg .tg-left{font-family:\"Courier New\", Courier, monospace !important;font-weight:normal;text-align:left;}\n",
       ".tg .tg-center{font-family:\"Courier New\", Courier, monospace !important;font-weight:normal;text-align:center;}\n",
       ".tg .tg-right{font-family:\"Courier New\", Courier, monospace !important;font-weight:normal;text-align:right;}\n",
       "</style>\n",
       "<table class=\"tg\"><tr><th><b>  GP_regression.         </b></th><th><b>value</b></th><th><b>constraints</b></th><th><b>priors</b></th></tr>\n",
       "<tr><td class=tg-left>  rbf.variance           </td><td class=tg-right>  1.0</td><td class=tg-center>    +ve    </td><td class=tg-center>      </td></tr>\n",
       "<tr><td class=tg-left>  rbf.lengthscale        </td><td class=tg-right>  1.0</td><td class=tg-center>    +ve    </td><td class=tg-center>      </td></tr>\n",
       "<tr><td class=tg-left>  Gaussian_noise.variance</td><td class=tg-right>  1.0</td><td class=tg-center>    +ve    </td><td class=tg-center>      </td></tr>\n",
       "</table>"
      ],
      "text/plain": [
       "<GPy.models.gp_regression.GPRegression at 0x25698fd03a0>"
      ]
     },
     "execution_count": 21,
     "metadata": {},
     "output_type": "execute_result"
    }
   ],
   "source": [
    "mGP = GPy.models.GPRegression(XGP, yTrain[:,None], kGP)\n",
    "mGP "
   ]
  },
  {
   "cell_type": "code",
   "execution_count": 22,
   "id": "b876be00",
   "metadata": {},
   "outputs": [
    {
     "data": {
      "text/html": [
       "<style type=\"text/css\">\n",
       ".pd{\n",
       "    font-family: \"Courier New\", Courier, monospace !important;\n",
       "    width: 100%;\n",
       "    padding: 3px;\n",
       "}\n",
       "</style>\n",
       "\n",
       "<p class=pd>\n",
       "<b>Model</b>: GP regression<br>\n",
       "<b>Objective</b>: 147.77395143975576<br>\n",
       "<b>Number of Parameters</b>: 3<br>\n",
       "<b>Number of Optimization Parameters</b>: 3<br>\n",
       "<b>Updates</b>: True<br>\n",
       "</p>\n",
       "<style type=\"text/css\">\n",
       ".tg  {font-family:\"Courier New\", Courier, monospace !important;padding:2px 3px;word-break:normal;border-collapse:collapse;border-spacing:0;border-color:#DCDCDC;margin:0px auto;width:100%;}\n",
       ".tg td{font-family:\"Courier New\", Courier, monospace !important;font-weight:bold;color:#444;background-color:#F7FDFA;border-style:solid;border-width:1px;overflow:hidden;word-break:normal;border-color:#DCDCDC;}\n",
       ".tg th{font-family:\"Courier New\", Courier, monospace !important;font-weight:normal;color:#fff;background-color:#26ADE4;border-style:solid;border-width:1px;overflow:hidden;word-break:normal;border-color:#DCDCDC;}\n",
       ".tg .tg-left{font-family:\"Courier New\", Courier, monospace !important;font-weight:normal;text-align:left;}\n",
       ".tg .tg-center{font-family:\"Courier New\", Courier, monospace !important;font-weight:normal;text-align:center;}\n",
       ".tg .tg-right{font-family:\"Courier New\", Courier, monospace !important;font-weight:normal;text-align:right;}\n",
       "</style>\n",
       "<table class=\"tg\"><tr><th><b>  GP_regression.         </b></th><th><b>               value</b></th><th><b>constraints</b></th><th><b>priors</b></th></tr>\n",
       "<tr><td class=tg-left>  rbf.variance           </td><td class=tg-right>  30.281350165056473</td><td class=tg-center>    +ve    </td><td class=tg-center>      </td></tr>\n",
       "<tr><td class=tg-left>  rbf.lengthscale        </td><td class=tg-right>    3.11305306786612</td><td class=tg-center>    +ve    </td><td class=tg-center>      </td></tr>\n",
       "<tr><td class=tg-left>  Gaussian_noise.variance</td><td class=tg-right>0.016152414882027826</td><td class=tg-center>    +ve    </td><td class=tg-center>      </td></tr>\n",
       "</table>"
      ],
      "text/plain": [
       "<GPy.models.gp_regression.GPRegression at 0x25698fd03a0>"
      ]
     },
     "execution_count": 22,
     "metadata": {},
     "output_type": "execute_result"
    }
   ],
   "source": [
    "mGP.optimize()\n",
    "mGP"
   ]
  },
  {
   "cell_type": "code",
   "execution_count": 23,
   "id": "59b4a57f",
   "metadata": {},
   "outputs": [
    {
     "data": {
      "text/html": [
       "<style type=\"text/css\">\n",
       ".pd{\n",
       "    font-family: \"Courier New\", Courier, monospace !important;\n",
       "    width: 100%;\n",
       "    padding: 3px;\n",
       "}\n",
       "</style>\n",
       "\n",
       "<p class=pd>\n",
       "<b>Model</b>: GP regression<br>\n",
       "<b>Objective</b>: 458.1594403796495<br>\n",
       "<b>Number of Parameters</b>: 7<br>\n",
       "<b>Number of Optimization Parameters</b>: 7<br>\n",
       "<b>Updates</b>: True<br>\n",
       "</p>\n",
       "<style type=\"text/css\">\n",
       ".tg  {font-family:\"Courier New\", Courier, monospace !important;padding:2px 3px;word-break:normal;border-collapse:collapse;border-spacing:0;border-color:#DCDCDC;margin:0px auto;width:100%;}\n",
       ".tg td{font-family:\"Courier New\", Courier, monospace !important;font-weight:bold;color:#444;background-color:#F7FDFA;border-style:solid;border-width:1px;overflow:hidden;word-break:normal;border-color:#DCDCDC;}\n",
       ".tg th{font-family:\"Courier New\", Courier, monospace !important;font-weight:normal;color:#fff;background-color:#26ADE4;border-style:solid;border-width:1px;overflow:hidden;word-break:normal;border-color:#DCDCDC;}\n",
       ".tg .tg-left{font-family:\"Courier New\", Courier, monospace !important;font-weight:normal;text-align:left;}\n",
       ".tg .tg-center{font-family:\"Courier New\", Courier, monospace !important;font-weight:normal;text-align:center;}\n",
       ".tg .tg-right{font-family:\"Courier New\", Courier, monospace !important;font-weight:normal;text-align:right;}\n",
       "</style>\n",
       "<table class=\"tg\"><tr><th><b>  GP_regression.         </b></th><th><b>value</b></th><th><b>constraints</b></th><th><b>priors</b></th></tr>\n",
       "<tr><td class=tg-left>  rbf.variance           </td><td class=tg-right>  1.0</td><td class=tg-center>    +ve    </td><td class=tg-center>      </td></tr>\n",
       "<tr><td class=tg-left>  rbf.lengthscale        </td><td class=tg-right> (5,)</td><td class=tg-center>    +ve    </td><td class=tg-center>      </td></tr>\n",
       "<tr><td class=tg-left>  Gaussian_noise.variance</td><td class=tg-right>  1.0</td><td class=tg-center>    +ve    </td><td class=tg-center>      </td></tr>\n",
       "</table>"
      ],
      "text/plain": [
       "<GPy.models.gp_regression.GPRegression at 0x25698fe7640>"
      ]
     },
     "execution_count": 23,
     "metadata": {},
     "output_type": "execute_result"
    }
   ],
   "source": [
    "kGPwind = GPy.kern.RBF(5,ARD='true')\n",
    "mGPwind = GPy.models.GPRegression(XGPwind, yTrain[:,None], kGPwind)\n",
    "mGPwind "
   ]
  },
  {
   "cell_type": "code",
   "execution_count": 24,
   "id": "2919f370",
   "metadata": {
    "scrolled": true
   },
   "outputs": [
    {
     "data": {
      "text/html": [
       "<style type=\"text/css\">\n",
       ".pd{\n",
       "    font-family: \"Courier New\", Courier, monospace !important;\n",
       "    width: 100%;\n",
       "    padding: 3px;\n",
       "}\n",
       "</style>\n",
       "\n",
       "<p class=pd>\n",
       "<b>Model</b>: GP regression<br>\n",
       "<b>Objective</b>: 138.45020363538913<br>\n",
       "<b>Number of Parameters</b>: 7<br>\n",
       "<b>Number of Optimization Parameters</b>: 7<br>\n",
       "<b>Updates</b>: True<br>\n",
       "</p>\n",
       "<style type=\"text/css\">\n",
       ".tg  {font-family:\"Courier New\", Courier, monospace !important;padding:2px 3px;word-break:normal;border-collapse:collapse;border-spacing:0;border-color:#DCDCDC;margin:0px auto;width:100%;}\n",
       ".tg td{font-family:\"Courier New\", Courier, monospace !important;font-weight:bold;color:#444;background-color:#F7FDFA;border-style:solid;border-width:1px;overflow:hidden;word-break:normal;border-color:#DCDCDC;}\n",
       ".tg th{font-family:\"Courier New\", Courier, monospace !important;font-weight:normal;color:#fff;background-color:#26ADE4;border-style:solid;border-width:1px;overflow:hidden;word-break:normal;border-color:#DCDCDC;}\n",
       ".tg .tg-left{font-family:\"Courier New\", Courier, monospace !important;font-weight:normal;text-align:left;}\n",
       ".tg .tg-center{font-family:\"Courier New\", Courier, monospace !important;font-weight:normal;text-align:center;}\n",
       ".tg .tg-right{font-family:\"Courier New\", Courier, monospace !important;font-weight:normal;text-align:right;}\n",
       "</style>\n",
       "<table class=\"tg\"><tr><th><b>  GP_regression.         </b></th><th><b>              value</b></th><th><b>constraints</b></th><th><b>priors</b></th></tr>\n",
       "<tr><td class=tg-left>  rbf.variance           </td><td class=tg-right>  17.11180948465655</td><td class=tg-center>    +ve    </td><td class=tg-center>      </td></tr>\n",
       "<tr><td class=tg-left>  rbf.lengthscale        </td><td class=tg-right>               (5,)</td><td class=tg-center>    +ve    </td><td class=tg-center>      </td></tr>\n",
       "<tr><td class=tg-left>  Gaussian_noise.variance</td><td class=tg-right>0.06359972917424526</td><td class=tg-center>    +ve    </td><td class=tg-center>      </td></tr>\n",
       "</table>"
      ],
      "text/plain": [
       "<GPy.models.gp_regression.GPRegression at 0x25698fe7640>"
      ]
     },
     "execution_count": 24,
     "metadata": {},
     "output_type": "execute_result"
    }
   ],
   "source": [
    "mGPwind.optimize()\n",
    "mGPwind"
   ]
  },
  {
   "cell_type": "code",
   "execution_count": 25,
   "id": "63ca3d83",
   "metadata": {},
   "outputs": [],
   "source": [
    "meanGP, Cov = mGP.predict_noiseless(m.coords.transpose().reshape(50*50*50,3), full_cov=False)\n",
    "meanGP=meanGP.reshape(50,50,50).transpose()"
   ]
  },
  {
   "cell_type": "code",
   "execution_count": 26,
   "id": "5b345002",
   "metadata": {},
   "outputs": [
    {
     "data": {
      "text/plain": [
       "0.9062544543531403"
      ]
     },
     "execution_count": 26,
     "metadata": {},
     "output_type": "execute_result"
    }
   ],
   "source": [
    "np.mean((meanGP-concTrain)**2)"
   ]
  },
  {
   "cell_type": "code",
   "execution_count": 27,
   "id": "6a4b032c",
   "metadata": {},
   "outputs": [
    {
     "data": {
      "text/plain": [
       "0.7820886357164889"
      ]
     },
     "execution_count": 27,
     "metadata": {},
     "output_type": "execute_result"
    }
   ],
   "source": [
    "np.mean((concInfer-concTrain)**2)"
   ]
  },
  {
   "cell_type": "code",
   "execution_count": 28,
   "id": "5dab3ec7",
   "metadata": {},
   "outputs": [],
   "source": [
    "GPWindTest=np.c_[mPDE.coords.transpose().reshape(50*50*50,3),mPDE.u[0].flatten(),mPDE.u[1].flatten()]"
   ]
  },
  {
   "cell_type": "code",
   "execution_count": 29,
   "id": "05bf7fab",
   "metadata": {},
   "outputs": [],
   "source": [
    "meanGPWind, CovWind = mGPwind.predict_noiseless(GPWindTest, full_cov=False)\n",
    "meanGPWind=meanGPWind.reshape(50,50,50).transpose()"
   ]
  },
  {
   "cell_type": "code",
   "execution_count": 30,
   "id": "d63c8ce0",
   "metadata": {},
   "outputs": [
    {
     "data": {
      "text/plain": [
       "0.8112690072547711"
      ]
     },
     "execution_count": 30,
     "metadata": {},
     "output_type": "execute_result"
    }
   ],
   "source": [
    "np.mean((meanGPWind-concTrain)**2)"
   ]
  },
  {
   "cell_type": "code",
   "execution_count": 31,
   "id": "6b173469",
   "metadata": {},
   "outputs": [
    {
     "data": {
      "text/plain": [
       "<matplotlib.colorbar.Colorbar at 0x256991b9b50>"
      ]
     },
     "execution_count": 31,
     "metadata": {},
     "output_type": "execute_result"
    },
    {
     "data": {
      "image/png": "[encoded data removed]",
      "text/plain": [
       "<Figure size 432x288 with 2 Axes>"
      ]
     },
     "metadata": {
      "needs_background": "light"
     },
     "output_type": "display_data"
    }
   ],
   "source": [
    "plt.imshow(meanGPWind[10])\n",
    "plt.colorbar()"
   ]
  },
  {
   "cell_type": "code",
   "execution_count": 32,
   "id": "1db46a0b",
   "metadata": {},
   "outputs": [
    {
     "data": {
      "text/plain": [
       "<matplotlib.colorbar.Colorbar at 0x2569922f700>"
      ]
     },
     "execution_count": 32,
     "metadata": {},
     "output_type": "execute_result"
    },
    {
     "data": {
      "image/png": "[encoded data removed]",
      "text/plain": [
       "<Figure size 432x288 with 2 Axes>"
      ]
     },
     "metadata": {
      "needs_background": "light"
     },
     "output_type": "display_data"
    }
   ],
   "source": [
    "plt.imshow(meanGP[10])\n",
    "plt.colorbar()"
   ]
  },
  {
   "cell_type": "code",
   "execution_count": 33,
   "id": "6604c435",
   "metadata": {},
   "outputs": [
    {
     "data": {
      "text/plain": [
       "<matplotlib.colorbar.Colorbar at 0x256992b3490>"
      ]
     },
     "execution_count": 33,
     "metadata": {},
     "output_type": "execute_result"
    },
    {
     "data": {
      "image/png": "[encoded data removed]",
      "text/plain": [
       "<Figure size 432x288 with 2 Axes>"
      ]
     },
     "metadata": {
      "needs_background": "light"
     },
     "output_type": "display_data"
    }
   ],
   "source": [
    "plt.imshow(concTrain[10])\n",
    "plt.colorbar()"
   ]
  },
  {
   "cell_type": "code",
   "execution_count": 34,
   "id": "12c41995",
   "metadata": {},
   "outputs": [
    {
     "data": {
      "text/plain": [
       "<matplotlib.colorbar.Colorbar at 0x25699350310>"
      ]
     },
     "execution_count": 34,
     "metadata": {},
     "output_type": "execute_result"
    },
    {
     "data": {
      "image/png": "[encoded data removed]",
      "text/plain": [
       "<Figure size 432x288 with 2 Axes>"
      ]
     },
     "metadata": {
      "needs_background": "light"
     },
     "output_type": "display_data"
    }
   ],
   "source": [
    "plt.imshow(concInfer[10])\n",
    "plt.colorbar()"
   ]
  },
  {
   "cell_type": "code",
   "execution_count": 35,
   "id": "c04e1a28",
   "metadata": {},
   "outputs": [],
   "source": [
    "SourceCoords = np.c_[mPDE.coords.transpose().reshape(50*50*50,3),sourceGT.transpose().flatten()]"
   ]
  },
  {
   "cell_type": "code",
   "execution_count": 36,
   "id": "8484279d",
   "metadata": {
    "scrolled": true
   },
   "outputs": [],
   "source": [
    "ConcCoords = np.c_[mPDE.coords.transpose().reshape(50*50*50,3),concTrain.transpose().flatten()]"
   ]
  },
  {
   "cell_type": "code",
   "execution_count": 37,
   "id": "e98cbeb8",
   "metadata": {
    "scrolled": true
   },
   "outputs": [
    {
     "data": {
      "text/plain": [
       "array([[ 0.        ,  0.        ,  0.        ,  0.        ],\n",
       "       [ 0.20408163,  0.        ,  0.        , -0.10716847],\n",
       "       [ 0.40816327,  0.        ,  0.        , -0.21550928],\n",
       "       ...,\n",
       "       [ 9.59183673, 10.        , 10.        , -6.88313337],\n",
       "       [ 9.79591837, 10.        , 10.        , -7.07604471],\n",
       "       [10.        , 10.        , 10.        , -7.27421916]])"
      ]
     },
     "execution_count": 37,
     "metadata": {},
     "output_type": "execute_result"
    }
   ],
   "source": [
    "ConcCoords"
   ]
  },
  {
   "cell_type": "code",
   "execution_count": 38,
   "id": "8c0bf240",
   "metadata": {},
   "outputs": [
    {
     "data": {
      "text/plain": [
       "-7.076044708017068"
      ]
     },
     "execution_count": 38,
     "metadata": {},
     "output_type": "execute_result"
    }
   ],
   "source": [
    "concTrain[48,49,49]"
   ]
  },
  {
   "cell_type": "code",
   "execution_count": 39,
   "id": "d2cab9cc",
   "metadata": {},
   "outputs": [
    {
     "ename": "SyntaxError",
     "evalue": "invalid syntax (<ipython-input-39-0a633c000ff1>, line 1)",
     "output_type": "error",
     "traceback": [
      "\u001b[1;36m  File \u001b[1;32m\"<ipython-input-39-0a633c000ff1>\"\u001b[1;36m, line \u001b[1;32m1\u001b[0m\n\u001b[1;33m    exactData =\u001b[0m\n\u001b[1;37m                ^\u001b[0m\n\u001b[1;31mSyntaxError\u001b[0m\u001b[1;31m:\u001b[0m invalid syntax\n"
     ]
    }
   ],
   "source": [
    "exactData = "
   ]
  },
  {
   "cell_type": "code",
   "execution_count": null,
   "id": "8ea70ddf",
   "metadata": {},
   "outputs": [],
   "source": [
    "concTrain[m.getGridCoord(XGP)].shape"
   ]
  },
  {
   "cell_type": "code",
   "execution_count": 41,
   "id": "3dd359c6",
   "metadata": {},
   "outputs": [],
   "source": [
    "ravel = np.ravel_multi_index(m.getGridCoord(XGP).transpose(), np.asarray(concTrain).shape)\n",
    "\n",
    "Data=np.asarray(concTrain).take(ravel)\n",
    "noiseData = Data + np.random.normal(0,noiseSD,80)\n",
    "\n",
    "exactData =  np.c_[XGP,Data]\n",
    "noisyData = np.c_[XGP,noiseData]\n",
    "testData = np.c_[m.getGridCoord(XGP),Data]"
   ]
  },
  {
   "cell_type": "code",
   "execution_count": 42,
   "id": "7f716e13",
   "metadata": {},
   "outputs": [],
   "source": [
    "np.savetxt(\"exactObservationsPDEVar1\", exactData, delimiter=\",\")\n",
    "np.savetxt(\"noisyObservationsPDEVar1\", noisyData, delimiter=\",\")\n",
    "np.savetxt(\"GroundTruthSourceCoordsPDEVar1\", SourceCoords, delimiter=\",\")\n",
    "np.savetxt(\"GroundTruthConcCoordsPDEVar1\",ConcCoords, delimiter=\",\")"
   ]
  },
  {
   "cell_type": "code",
   "execution_count": 43,
   "id": "ff55358c",
   "metadata": {},
   "outputs": [
    {
     "data": {
      "text/plain": [
       "array([1.05     , 1.       , 9.       , 0.8324479])"
      ]
     },
     "execution_count": 43,
     "metadata": {},
     "output_type": "execute_result"
    }
   ],
   "source": [
    "exactData[3]"
   ]
  },
  {
   "cell_type": "code",
   "execution_count": 44,
   "id": "4299c4f4",
   "metadata": {},
   "outputs": [
    {
     "data": {
      "text/plain": [
       "array([1.05      , 1.        , 9.        , 0.81454585])"
      ]
     },
     "execution_count": 44,
     "metadata": {},
     "output_type": "execute_result"
    }
   ],
   "source": [
    "noisyData[3]"
   ]
  },
  {
   "cell_type": "code",
   "execution_count": 45,
   "id": "1f3caa5b",
   "metadata": {},
   "outputs": [
    {
     "data": {
      "text/plain": [
       "array([ 5.        ,  5.        ,  5.        , -0.44099686])"
      ]
     },
     "execution_count": 45,
     "metadata": {},
     "output_type": "execute_result"
    }
   ],
   "source": [
    "testData[0]"
   ]
  },
  {
   "cell_type": "code",
   "execution_count": 46,
   "id": "3e93cf66",
   "metadata": {},
   "outputs": [
    {
     "data": {
      "text/plain": [
       "-0.42932252598996834"
      ]
     },
     "execution_count": 46,
     "metadata": {},
     "output_type": "execute_result"
    }
   ],
   "source": [
    "concTrain[5,5,18]"
   ]
  },
  {
   "cell_type": "code",
   "execution_count": 47,
   "id": "81fe93f8",
   "metadata": {},
   "outputs": [
    {
     "data": {
      "text/plain": [
       "array([ 5.        ,  5.        , 18.        , -0.42932253])"
      ]
     },
     "execution_count": 47,
     "metadata": {},
     "output_type": "execute_result"
    }
   ],
   "source": [
    "testData[1]"
   ]
  },
  {
   "cell_type": "code",
   "execution_count": 48,
   "id": "32ff1763",
   "metadata": {},
   "outputs": [
    {
     "data": {
      "text/plain": [
       "array([ 5.,  5., 18.])"
      ]
     },
     "execution_count": 48,
     "metadata": {},
     "output_type": "execute_result"
    }
   ],
   "source": [
    "testData[1][0:3]"
   ]
  },
  {
   "cell_type": "code",
   "execution_count": null,
   "id": "5cc1a9d0",
   "metadata": {},
   "outputs": [],
   "source": []
  },
  {
   "cell_type": "code",
   "execution_count": null,
   "id": "6362049d",
   "metadata": {},
   "outputs": [],
   "source": []
  }
 ],
 "metadata": {
  "kernelspec": {
   "display_name": "Python 3",
   "language": "python",
   "name": "python3"
  },
  "language_info": {
   "codemirror_mode": {
    "name": "ipython",
    "version": 3
   },
   "file_extension": ".py",
   "mimetype": "text/x-python",
   "name": "python",
   "nbconvert_exporter": "python",
   "pygments_lexer": "ipython3",
   "version": "3.8.8"
  }
 },
 "nbformat": 4,
 "nbformat_minor": 5
}
