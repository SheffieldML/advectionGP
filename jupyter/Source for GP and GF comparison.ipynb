{
 "cells": [
  {
   "cell_type": "code",
   "execution_count": 1,
   "id": "837f6f9a",
   "metadata": {},
   "outputs": [],
   "source": [
    "#numpy\n",
    "import numpy as np\n",
    "from numpy.random import multivariate_normal #For later example\n",
    "\n",
    "#advectionGP\n",
    "\n",
    "from advectionGP.models import AdjointAdvectionDiffusionModel as PDEModel\n",
    "\n",
    "from advectionGP.wind import WindSimple, WindFixU#Wind model\n",
    "\n",
    "\n",
    "from advectionGP.sensors import FixedSensorModel #Builds sensor arrays to generate data for foward model or to generate observations for comparison\n",
    "from advectionGP.kernels import EQ #Generates exponentiated quadratic kernel approximation\n",
    "from advectionGP.test import TestKernels #Unit test model\n",
    "\n",
    "\n",
    "#Plotting tools\n",
    "import matplotlib.pyplot as plt\n",
    "import numpy.random as rd\n",
    "rd.seed(123)"
   ]
  },
  {
   "cell_type": "code",
   "execution_count": 2,
   "id": "1ae763e0",
   "metadata": {},
   "outputs": [],
   "source": [
    "# generate sensor locations for training data with shape [total observations, 4], where each row has elements \n",
    "#[lower time location, upper time location, x location, y location]\n",
    "\n",
    "tlocL = np.linspace(1,9,5) # lower time\n",
    "xloc=np.linspace(1,9,4) # x locations\n",
    "yloc=np.linspace(1,9,4) # y locations\n",
    "sensN = len(xloc)*len(yloc) # total number of sensors \n",
    "obsN = len(tlocL) # total time points at which an observation is taken\n",
    "X= np.zeros((obsN*sensN,4)) # obsN*sensN is total observations over all sensors and all times\n",
    "# Build sensor locations\n",
    "X[:,0] = np.asarray(np.meshgrid(tlocL,xloc,yloc)).reshape(3,sensN*obsN)[0] #lower time\n",
    "X[:,2] = np.asarray(np.meshgrid(tlocL,xloc,yloc)).reshape(3,sensN*obsN)[1] # x location\n",
    "X[:,3] = np.asarray(np.meshgrid(tlocL,xloc,yloc)).reshape(3,sensN*obsN)[2] # ylocation\n",
    "X[:,1] = X[:,0]+0.1 # upper time\n",
    "\n",
    "XGP= np.zeros((sensN*obsN,3))\n",
    "XGP[:,0] = (X[:,0]+X[:,1])/2\n",
    "XGP[:,1] = X[:,2]\n",
    "XGP[:,2] = X[:,3] \n",
    "\n",
    "sensors = FixedSensorModel(X,0.1) # establish sensor model arguments are sensor locations and spatial averaging"
   ]
  },
  {
   "cell_type": "code",
   "execution_count": 3,
   "id": "d6cbb875",
   "metadata": {},
   "outputs": [],
   "source": [
    "k_0 = 0.01 #Diffusion\n",
    "R=0.1\n",
    "noiseSD = 0.05 #Observation noise\n",
    "N_feat=2000 # number of features used to approximate ground truth GP\n",
    "boundary = ([0,0,0],[10,10,10])# corners of the grid - in units of space\n",
    "k = EQ(2, 2.0) # generate EQ kernel arguments are lengthscale and variance\n",
    "res = [50,50,50] # grid size for time, x and y\n",
    "\n",
    "\n",
    "u1 = 0.04\n",
    "u2 = 0.04\n",
    "windmodel=WindSimple(u1,u2) # establish fixed wind model\n",
    "\n",
    "#wind=np.cos(np.linspace(0,6*np.pi,res[1]))*0.5\n",
    "#u=[]\n",
    "#u.append(np.ones(res)*wind) #x direction wind\n",
    "#u.append(np.ones(res)*0.0) # y direction wind\n",
    "#windmodel=WindFixU(u)\n",
    "\n",
    "m = PDEModel(resolution=res,boundary=boundary,N_feat=N_feat,noiseSD=noiseSD,kernel=k,sensormodel=sensors,windmodel=windmodel,k_0=k_0) #initiate PDE model to build concentration\n",
    "\n",
    "dt,dx,dy,dx2,dy2,Nt,Nx,Ny = m.getGridStepSize() # useful numbers!\n",
    "\n",
    "z=np.random.normal(0,1.0,N_feat) # Generate z to compute source\n",
    "\n",
    "sourceGT=(m.computeSourceFromPhi(z))# Compute source"
   ]
  },
  {
   "cell_type": "code",
   "execution_count": 4,
   "id": "20b3288b",
   "metadata": {},
   "outputs": [],
   "source": [
    "concTrain=m.computeConcentration(sourceGT) # Compute concentration - runs advection diffusion forward model\n",
    "yTrain= m.computeObservations(addNoise=True) # Compute observations with noise uses m.sensormodel for observation locations"
   ]
  },
  {
   "cell_type": "code",
   "execution_count": 5,
   "id": "8e295a70",
   "metadata": {},
   "outputs": [
    {
     "data": {
      "text/plain": [
       "<matplotlib.image.AxesImage at 0x19ff4014ca0>"
      ]
     },
     "execution_count": 5,
     "metadata": {},
     "output_type": "execute_result"
    },
    {
     "data": {
      "image/png": "[encoded data removed]",
      "text/plain": [
       "<Figure size 432x288 with 1 Axes>"
      ]
     },
     "metadata": {
      "needs_background": "light"
     },
     "output_type": "display_data"
    }
   ],
   "source": [
    "plt.imshow(sourceGT[9])"
   ]
  },
  {
   "cell_type": "code",
   "execution_count": 6,
   "id": "3c89f274",
   "metadata": {},
   "outputs": [
    {
     "data": {
      "text/plain": [
       "<matplotlib.image.AxesImage at 0x19ff4785d30>"
      ]
     },
     "execution_count": 6,
     "metadata": {},
     "output_type": "execute_result"
    },
    {
     "data": {
      "image/png": "[encoded data removed]",
      "text/plain": [
       "<Figure size 432x288 with 1 Axes>"
      ]
     },
     "metadata": {
      "needs_background": "light"
     },
     "output_type": "display_data"
    }
   ],
   "source": [
    "plt.imshow(concTrain[9])"
   ]
  },
  {
   "cell_type": "code",
   "execution_count": null,
   "id": "6c0e73e6",
   "metadata": {},
   "outputs": [],
   "source": []
  },
  {
   "cell_type": "code",
   "execution_count": 7,
   "id": "0c7025ce",
   "metadata": {},
   "outputs": [
    {
     "data": {
      "text/plain": [
       "(80, 4)"
      ]
     },
     "execution_count": 7,
     "metadata": {},
     "output_type": "execute_result"
    }
   ],
   "source": [
    "X.shape"
   ]
  },
  {
   "cell_type": "code",
   "execution_count": 8,
   "id": "875f25df",
   "metadata": {},
   "outputs": [
    {
     "data": {
      "text/plain": [
       "(80,)"
      ]
     },
     "execution_count": 8,
     "metadata": {},
     "output_type": "execute_result"
    }
   ],
   "source": [
    "yTrain.shape"
   ]
  },
  {
   "cell_type": "code",
   "execution_count": 9,
   "id": "9f55ce58",
   "metadata": {},
   "outputs": [],
   "source": [
    "FullObs = np.hstack((X,yTrain[:,None]))"
   ]
  },
  {
   "cell_type": "code",
   "execution_count": 10,
   "id": "c9dfbe2c",
   "metadata": {},
   "outputs": [
    {
     "data": {
      "text/plain": [
       "array([[  1.        ,   1.1       ,   1.        ,   1.        ,\n",
       "         -0.63392359],\n",
       "       [  1.        ,   1.1       ,   1.        ,   3.66666667,\n",
       "         -0.66183892],\n",
       "       [  1.        ,   1.1       ,   1.        ,   6.33333333,\n",
       "         -0.08342062],\n",
       "       [  1.        ,   1.1       ,   1.        ,   9.        ,\n",
       "          1.21737623],\n",
       "       [  3.        ,   3.1       ,   1.        ,   1.        ,\n",
       "         -1.56960399],\n",
       "       [  3.        ,   3.1       ,   1.        ,   3.66666667,\n",
       "         -3.70723848],\n",
       "       [  3.        ,   3.1       ,   1.        ,   6.33333333,\n",
       "          0.15371943],\n",
       "       [  3.        ,   3.1       ,   1.        ,   9.        ,\n",
       "          3.53776995],\n",
       "       [  5.        ,   5.1       ,   1.        ,   1.        ,\n",
       "         -3.1254368 ],\n",
       "       [  5.        ,   5.1       ,   1.        ,   3.66666667,\n",
       "         -7.96598733],\n",
       "       [  5.        ,   5.1       ,   1.        ,   6.33333333,\n",
       "         -0.56483642],\n",
       "       [  5.        ,   5.1       ,   1.        ,   9.        ,\n",
       "          7.48671933],\n",
       "       [  7.        ,   7.1       ,   1.        ,   1.        ,\n",
       "         -4.80968116],\n",
       "       [  7.        ,   7.1       ,   1.        ,   3.66666667,\n",
       "         -9.64631945],\n",
       "       [  7.        ,   7.1       ,   1.        ,   6.33333333,\n",
       "          0.85448144],\n",
       "       [  7.        ,   7.1       ,   1.        ,   9.        ,\n",
       "         13.01111289],\n",
       "       [  9.        ,   9.1       ,   1.        ,   1.        ,\n",
       "         -4.2091432 ],\n",
       "       [  9.        ,   9.1       ,   1.        ,   3.66666667,\n",
       "         -7.36213276],\n",
       "       [  9.        ,   9.1       ,   1.        ,   6.33333333,\n",
       "          4.51007928],\n",
       "       [  9.        ,   9.1       ,   1.        ,   9.        ,\n",
       "         14.03337884],\n",
       "       [  1.        ,   1.1       ,   3.66666667,   1.        ,\n",
       "         -0.54958149],\n",
       "       [  1.        ,   1.1       ,   3.66666667,   3.66666667,\n",
       "          0.22636169],\n",
       "       [  1.        ,   1.1       ,   3.66666667,   6.33333333,\n",
       "          2.08954723],\n",
       "       [  1.        ,   1.1       ,   3.66666667,   9.        ,\n",
       "          0.79421793],\n",
       "       [  3.        ,   3.1       ,   3.66666667,   1.        ,\n",
       "         -3.10806865],\n",
       "       [  3.        ,   3.1       ,   3.66666667,   3.66666667,\n",
       "          1.26219636],\n",
       "       [  3.        ,   3.1       ,   3.66666667,   6.33333333,\n",
       "          7.18005239],\n",
       "       [  3.        ,   3.1       ,   3.66666667,   9.        ,\n",
       "          2.30748575],\n",
       "       [  5.        ,   5.1       ,   3.66666667,   1.        ,\n",
       "         -3.51924773],\n",
       "       [  5.        ,   5.1       ,   3.66666667,   3.66666667,\n",
       "          1.90795234],\n",
       "       [  5.        ,   5.1       ,   3.66666667,   6.33333333,\n",
       "         12.30164003],\n",
       "       [  5.        ,   5.1       ,   3.66666667,   9.        ,\n",
       "          6.16305919],\n",
       "       [  7.        ,   7.1       ,   3.66666667,   1.        ,\n",
       "         -1.9447743 ],\n",
       "       [  7.        ,   7.1       ,   3.66666667,   3.66666667,\n",
       "          1.84656247],\n",
       "       [  7.        ,   7.1       ,   3.66666667,   6.33333333,\n",
       "         14.77598703],\n",
       "       [  7.        ,   7.1       ,   3.66666667,   9.        ,\n",
       "          8.61394028],\n",
       "       [  9.        ,   9.1       ,   3.66666667,   1.        ,\n",
       "          0.43262005],\n",
       "       [  9.        ,   9.1       ,   3.66666667,   3.66666667,\n",
       "          3.10371874],\n",
       "       [  9.        ,   9.1       ,   3.66666667,   6.33333333,\n",
       "         14.48083577],\n",
       "       [  9.        ,   9.1       ,   3.66666667,   9.        ,\n",
       "          6.55184468],\n",
       "       [  1.        ,   1.1       ,   6.33333333,   1.        ,\n",
       "         -1.82081836],\n",
       "       [  1.        ,   1.1       ,   6.33333333,   3.66666667,\n",
       "          0.4078944 ],\n",
       "       [  1.        ,   1.1       ,   6.33333333,   6.33333333,\n",
       "          2.03253616],\n",
       "       [  1.        ,   1.1       ,   6.33333333,   9.        ,\n",
       "          0.93968289],\n",
       "       [  3.        ,   3.1       ,   6.33333333,   1.        ,\n",
       "         -7.43994445],\n",
       "       [  3.        ,   3.1       ,   6.33333333,   3.66666667,\n",
       "          1.90405638],\n",
       "       [  3.        ,   3.1       ,   6.33333333,   6.33333333,\n",
       "          7.5346811 ],\n",
       "       [  3.        ,   3.1       ,   6.33333333,   9.        ,\n",
       "          1.64124459],\n",
       "       [  5.        ,   5.1       ,   6.33333333,   1.        ,\n",
       "        -10.67006396],\n",
       "       [  5.        ,   5.1       ,   6.33333333,   3.66666667,\n",
       "          4.03835246],\n",
       "       [  5.        ,   5.1       ,   6.33333333,   6.33333333,\n",
       "         15.57683072],\n",
       "       [  5.        ,   5.1       ,   6.33333333,   9.        ,\n",
       "          3.44470649],\n",
       "       [  7.        ,   7.1       ,   6.33333333,   1.        ,\n",
       "        -10.17101542],\n",
       "       [  7.        ,   7.1       ,   6.33333333,   3.66666667,\n",
       "          2.13749431],\n",
       "       [  7.        ,   7.1       ,   6.33333333,   6.33333333,\n",
       "         18.87771347],\n",
       "       [  7.        ,   7.1       ,   6.33333333,   9.        ,\n",
       "          5.45229333],\n",
       "       [  9.        ,   9.1       ,   6.33333333,   1.        ,\n",
       "         -7.95688916],\n",
       "       [  9.        ,   9.1       ,   6.33333333,   3.66666667,\n",
       "          2.65079731],\n",
       "       [  9.        ,   9.1       ,   6.33333333,   6.33333333,\n",
       "         18.45113185],\n",
       "       [  9.        ,   9.1       ,   6.33333333,   9.        ,\n",
       "          3.80578868],\n",
       "       [  1.        ,   1.1       ,   9.        ,   1.        ,\n",
       "         -0.07834107],\n",
       "       [  1.        ,   1.1       ,   9.        ,   3.66666667,\n",
       "          0.49798185],\n",
       "       [  1.        ,   1.1       ,   9.        ,   6.33333333,\n",
       "         -0.68615676],\n",
       "       [  1.        ,   1.1       ,   9.        ,   9.        ,\n",
       "         -1.12875083],\n",
       "       [  3.        ,   3.1       ,   9.        ,   1.        ,\n",
       "          0.19888638],\n",
       "       [  3.        ,   3.1       ,   9.        ,   3.66666667,\n",
       "          0.04113419],\n",
       "       [  3.        ,   3.1       ,   9.        ,   6.33333333,\n",
       "         -1.28706355],\n",
       "       [  3.        ,   3.1       ,   9.        ,   9.        ,\n",
       "         -3.6806383 ],\n",
       "       [  5.        ,   5.1       ,   9.        ,   1.        ,\n",
       "         -0.07113846],\n",
       "       [  5.        ,   5.1       ,   9.        ,   3.66666667,\n",
       "         -1.35502288],\n",
       "       [  5.        ,   5.1       ,   9.        ,   6.33333333,\n",
       "          0.94408955],\n",
       "       [  5.        ,   5.1       ,   9.        ,   9.        ,\n",
       "         -6.41164076],\n",
       "       [  7.        ,   7.1       ,   9.        ,   1.        ,\n",
       "         -1.50506802],\n",
       "       [  7.        ,   7.1       ,   9.        ,   3.66666667,\n",
       "         -4.25372395],\n",
       "       [  7.        ,   7.1       ,   9.        ,   6.33333333,\n",
       "          4.70829846],\n",
       "       [  7.        ,   7.1       ,   9.        ,   9.        ,\n",
       "         -5.04867077],\n",
       "       [  9.        ,   9.1       ,   9.        ,   1.        ,\n",
       "         -2.97483161],\n",
       "       [  9.        ,   9.1       ,   9.        ,   3.66666667,\n",
       "         -5.16435462],\n",
       "       [  9.        ,   9.1       ,   9.        ,   6.33333333,\n",
       "          5.69848347],\n",
       "       [  9.        ,   9.1       ,   9.        ,   9.        ,\n",
       "         -3.38808404]])"
      ]
     },
     "execution_count": 10,
     "metadata": {},
     "output_type": "execute_result"
    }
   ],
   "source": [
    "FullObs"
   ]
  },
  {
   "cell_type": "code",
   "execution_count": 11,
   "id": "67238cfc",
   "metadata": {},
   "outputs": [
    {
     "name": "stdout",
     "output_type": "stream",
     "text": [
      "Calculating Adjoints...\n",
      "79/80 \n",
      "Calculating Phis...\n",
      "199/200 \n"
     ]
    }
   ],
   "source": [
    "N_feat =200 #Number of features used to infer the source\n",
    "k1 = EQ(2, 1.0) \n",
    "k2 = EQ(2, 1.0) \n",
    "\n",
    "mPDE = PDEModel(resolution=res,boundary=boundary,N_feat=N_feat,noiseSD=noiseSD,kernel=k1,sensormodel=sensors,windmodel=windmodel,k_0=k_0) #Initiate new model for inference\n",
    "regressPDE = mPDE.computeModelRegressors() # Compute regressor matrix\n",
    "meanZPDE, covZPDE = mPDE.computeZDistribution(yTrain) # Infers z vector mean and covariance\n",
    "sourceInfer = mPDE.computeSourceFromPhi(meanZPDE) # Generates estimated source using inferred distributio\n",
    "concInfer = mPDE.computeConcentration(sourceInfer)\n",
    "yOut = mPDE.computeObservations()"
   ]
  },
  {
   "cell_type": "code",
   "execution_count": 12,
   "id": "a514a28d",
   "metadata": {},
   "outputs": [
    {
     "data": {
      "text/plain": [
       "<matplotlib.image.AxesImage at 0x19ff47f4430>"
      ]
     },
     "execution_count": 12,
     "metadata": {},
     "output_type": "execute_result"
    },
    {
     "data": {
      "image/png": "[encoded data removed]",
      "text/plain": [
       "<Figure size 432x288 with 1 Axes>"
      ]
     },
     "metadata": {
      "needs_background": "light"
     },
     "output_type": "display_data"
    }
   ],
   "source": [
    "plt.imshow(sourceInfer[9])"
   ]
  },
  {
   "cell_type": "code",
   "execution_count": 13,
   "id": "221981d7",
   "metadata": {
    "scrolled": true
   },
   "outputs": [
    {
     "data": {
      "text/plain": [
       "<matplotlib.image.AxesImage at 0x19ffd1695b0>"
      ]
     },
     "execution_count": 13,
     "metadata": {},
     "output_type": "execute_result"
    },
    {
     "data": {
      "image/png": "[encoded data removed]",
      "text/plain": [
       "<Figure size 432x288 with 1 Axes>"
      ]
     },
     "metadata": {
      "needs_background": "light"
     },
     "output_type": "display_data"
    }
   ],
   "source": [
    "plt.imshow(sourceGT[9])"
   ]
  },
  {
   "cell_type": "code",
   "execution_count": 14,
   "id": "b45b794c",
   "metadata": {},
   "outputs": [],
   "source": [
    "#plt.imshow(sourceFromCSV[9])"
   ]
  },
  {
   "cell_type": "code",
   "execution_count": 15,
   "id": "40c453f7",
   "metadata": {},
   "outputs": [
    {
     "data": {
      "text/plain": [
       "0.48794744640045234"
      ]
     },
     "execution_count": 15,
     "metadata": {},
     "output_type": "execute_result"
    }
   ],
   "source": [
    "np.mean((sourceGT-sourceInfer)**2)"
   ]
  },
  {
   "cell_type": "code",
   "execution_count": 16,
   "id": "a03cd405",
   "metadata": {},
   "outputs": [],
   "source": [
    "#import csv\n",
    "#np.savetxt(\"Observations16Sens5Times.csv\", FullObs, delimiter=\",\")\n",
    "#np.savetxt(\"GroundTruthSource16Sens5Times.csv\", np.reshape(sourceGT,(res[0],res[1]*res[2])), delimiter=\",\")\n",
    "#np.savetxt(\"GroundTruthConc16Sens5Times.csv\", np.reshape(concTrain,(res[0],res[1]*res[2])), delimiter=\",\")"
   ]
  },
  {
   "cell_type": "code",
   "execution_count": 17,
   "id": "a207252a",
   "metadata": {},
   "outputs": [],
   "source": [
    "sourceFromCSV=np.genfromtxt(\"GroundTruthSource16Sens5Times.csv\",delimiter=',')\n",
    "sourceFromCSV=np.reshape(sourceFromCSV,(50,50,50))"
   ]
  },
  {
   "cell_type": "markdown",
   "id": "95286306",
   "metadata": {},
   "source": [
    "# GP Comparison"
   ]
  },
  {
   "cell_type": "code",
   "execution_count": 18,
   "id": "ba349033",
   "metadata": {},
   "outputs": [],
   "source": [
    "import GPy"
   ]
  },
  {
   "cell_type": "code",
   "execution_count": 19,
   "id": "8272dd37",
   "metadata": {},
   "outputs": [],
   "source": [
    "sensWindX = np.ravel_multi_index(m.getGridCoord(XGP).transpose(), np.asarray(m.u[0]).shape)\n",
    "sensWindY = np.ravel_multi_index(m.getGridCoord(XGP).transpose(), np.asarray(m.u[1]).shape)\n",
    "xwind=np.asarray(m.u).take(sensWindX)\n",
    "ywind=np.asarray(m.u).take(sensWindY)\n",
    "\n",
    "XGPwind = np.c_[XGP,xwind,ywind]"
   ]
  },
  {
   "cell_type": "code",
   "execution_count": 20,
   "id": "72d9e62d",
   "metadata": {
    "scrolled": true
   },
   "outputs": [],
   "source": [
    "kGP = GPy.kern.RBF(3, name=\"rbf\")"
   ]
  },
  {
   "cell_type": "code",
   "execution_count": 21,
   "id": "721ae26d",
   "metadata": {},
   "outputs": [
    {
     "data": {
      "text/html": [
       "<style type=\"text/css\">\n",
       ".pd{\n",
       "    font-family: \"Courier New\", Courier, monospace !important;\n",
       "    width: 100%;\n",
       "    padding: 3px;\n",
       "}\n",
       "</style>\n",
       "\n",
       "<p class=pd>\n",
       "<b>Model</b>: GP regression<br>\n",
       "<b>Objective</b>: 815.2890344689091<br>\n",
       "<b>Number of Parameters</b>: 3<br>\n",
       "<b>Number of Optimization Parameters</b>: 3<br>\n",
       "<b>Updates</b>: True<br>\n",
       "</p>\n",
       "<style type=\"text/css\">\n",
       ".tg  {font-family:\"Courier New\", Courier, monospace !important;padding:2px 3px;word-break:normal;border-collapse:collapse;border-spacing:0;border-color:#DCDCDC;margin:0px auto;width:100%;}\n",
       ".tg td{font-family:\"Courier New\", Courier, monospace !important;font-weight:bold;color:#444;background-color:#F7FDFA;border-style:solid;border-width:1px;overflow:hidden;word-break:normal;border-color:#DCDCDC;}\n",
       ".tg th{font-family:\"Courier New\", Courier, monospace !important;font-weight:normal;color:#fff;background-color:#26ADE4;border-style:solid;border-width:1px;overflow:hidden;word-break:normal;border-color:#DCDCDC;}\n",
       ".tg .tg-left{font-family:\"Courier New\", Courier, monospace !important;font-weight:normal;text-align:left;}\n",
       ".tg .tg-center{font-family:\"Courier New\", Courier, monospace !important;font-weight:normal;text-align:center;}\n",
       ".tg .tg-right{font-family:\"Courier New\", Courier, monospace !important;font-weight:normal;text-align:right;}\n",
       "</style>\n",
       "<table class=\"tg\"><tr><th><b>  GP_regression.         </b></th><th><b>value</b></th><th><b>constraints</b></th><th><b>priors</b></th></tr>\n",
       "<tr><td class=tg-left>  rbf.variance           </td><td class=tg-right>  1.0</td><td class=tg-center>    +ve    </td><td class=tg-center>      </td></tr>\n",
       "<tr><td class=tg-left>  rbf.lengthscale        </td><td class=tg-right>  1.0</td><td class=tg-center>    +ve    </td><td class=tg-center>      </td></tr>\n",
       "<tr><td class=tg-left>  Gaussian_noise.variance</td><td class=tg-right>  1.0</td><td class=tg-center>    +ve    </td><td class=tg-center>      </td></tr>\n",
       "</table>"
      ],
      "text/plain": [
       "<GPy.models.gp_regression.GPRegression at 0x19ffd198400>"
      ]
     },
     "execution_count": 21,
     "metadata": {},
     "output_type": "execute_result"
    }
   ],
   "source": [
    "mGP = GPy.models.GPRegression(XGP, yTrain[:,None], kGP)\n",
    "mGP "
   ]
  },
  {
   "cell_type": "code",
   "execution_count": 22,
   "id": "b876be00",
   "metadata": {},
   "outputs": [
    {
     "data": {
      "text/html": [
       "<style type=\"text/css\">\n",
       ".pd{\n",
       "    font-family: \"Courier New\", Courier, monospace !important;\n",
       "    width: 100%;\n",
       "    padding: 3px;\n",
       "}\n",
       "</style>\n",
       "\n",
       "<p class=pd>\n",
       "<b>Model</b>: GP regression<br>\n",
       "<b>Objective</b>: 176.7100076184373<br>\n",
       "<b>Number of Parameters</b>: 3<br>\n",
       "<b>Number of Optimization Parameters</b>: 3<br>\n",
       "<b>Updates</b>: True<br>\n",
       "</p>\n",
       "<style type=\"text/css\">\n",
       ".tg  {font-family:\"Courier New\", Courier, monospace !important;padding:2px 3px;word-break:normal;border-collapse:collapse;border-spacing:0;border-color:#DCDCDC;margin:0px auto;width:100%;}\n",
       ".tg td{font-family:\"Courier New\", Courier, monospace !important;font-weight:bold;color:#444;background-color:#F7FDFA;border-style:solid;border-width:1px;overflow:hidden;word-break:normal;border-color:#DCDCDC;}\n",
       ".tg th{font-family:\"Courier New\", Courier, monospace !important;font-weight:normal;color:#fff;background-color:#26ADE4;border-style:solid;border-width:1px;overflow:hidden;word-break:normal;border-color:#DCDCDC;}\n",
       ".tg .tg-left{font-family:\"Courier New\", Courier, monospace !important;font-weight:normal;text-align:left;}\n",
       ".tg .tg-center{font-family:\"Courier New\", Courier, monospace !important;font-weight:normal;text-align:center;}\n",
       ".tg .tg-right{font-family:\"Courier New\", Courier, monospace !important;font-weight:normal;text-align:right;}\n",
       "</style>\n",
       "<table class=\"tg\"><tr><th><b>  GP_regression.         </b></th><th><b>                 value</b></th><th><b>constraints</b></th><th><b>priors</b></th></tr>\n",
       "<tr><td class=tg-left>  rbf.variance           </td><td class=tg-right>     43.61904472553061</td><td class=tg-center>    +ve    </td><td class=tg-center>      </td></tr>\n",
       "<tr><td class=tg-left>  rbf.lengthscale        </td><td class=tg-right>    2.8441337887307214</td><td class=tg-center>    +ve    </td><td class=tg-center>      </td></tr>\n",
       "<tr><td class=tg-left>  Gaussian_noise.variance</td><td class=tg-right>3.3872738189781844e-06</td><td class=tg-center>    +ve    </td><td class=tg-center>      </td></tr>\n",
       "</table>"
      ],
      "text/plain": [
       "<GPy.models.gp_regression.GPRegression at 0x19ffd198400>"
      ]
     },
     "execution_count": 22,
     "metadata": {},
     "output_type": "execute_result"
    }
   ],
   "source": [
    "mGP.optimize()\n",
    "mGP"
   ]
  },
  {
   "cell_type": "code",
   "execution_count": 23,
   "id": "59b4a57f",
   "metadata": {},
   "outputs": [
    {
     "data": {
      "text/html": [
       "<style type=\"text/css\">\n",
       ".pd{\n",
       "    font-family: \"Courier New\", Courier, monospace !important;\n",
       "    width: 100%;\n",
       "    padding: 3px;\n",
       "}\n",
       "</style>\n",
       "\n",
       "<p class=pd>\n",
       "<b>Model</b>: GP regression<br>\n",
       "<b>Objective</b>: 815.2890344689091<br>\n",
       "<b>Number of Parameters</b>: 7<br>\n",
       "<b>Number of Optimization Parameters</b>: 7<br>\n",
       "<b>Updates</b>: True<br>\n",
       "</p>\n",
       "<style type=\"text/css\">\n",
       ".tg  {font-family:\"Courier New\", Courier, monospace !important;padding:2px 3px;word-break:normal;border-collapse:collapse;border-spacing:0;border-color:#DCDCDC;margin:0px auto;width:100%;}\n",
       ".tg td{font-family:\"Courier New\", Courier, monospace !important;font-weight:bold;color:#444;background-color:#F7FDFA;border-style:solid;border-width:1px;overflow:hidden;word-break:normal;border-color:#DCDCDC;}\n",
       ".tg th{font-family:\"Courier New\", Courier, monospace !important;font-weight:normal;color:#fff;background-color:#26ADE4;border-style:solid;border-width:1px;overflow:hidden;word-break:normal;border-color:#DCDCDC;}\n",
       ".tg .tg-left{font-family:\"Courier New\", Courier, monospace !important;font-weight:normal;text-align:left;}\n",
       ".tg .tg-center{font-family:\"Courier New\", Courier, monospace !important;font-weight:normal;text-align:center;}\n",
       ".tg .tg-right{font-family:\"Courier New\", Courier, monospace !important;font-weight:normal;text-align:right;}\n",
       "</style>\n",
       "<table class=\"tg\"><tr><th><b>  GP_regression.         </b></th><th><b>value</b></th><th><b>constraints</b></th><th><b>priors</b></th></tr>\n",
       "<tr><td class=tg-left>  rbf.variance           </td><td class=tg-right>  1.0</td><td class=tg-center>    +ve    </td><td class=tg-center>      </td></tr>\n",
       "<tr><td class=tg-left>  rbf.lengthscale        </td><td class=tg-right> (5,)</td><td class=tg-center>    +ve    </td><td class=tg-center>      </td></tr>\n",
       "<tr><td class=tg-left>  Gaussian_noise.variance</td><td class=tg-right>  1.0</td><td class=tg-center>    +ve    </td><td class=tg-center>      </td></tr>\n",
       "</table>"
      ],
      "text/plain": [
       "<GPy.models.gp_regression.GPRegression at 0x19ffe23a6d0>"
      ]
     },
     "execution_count": 23,
     "metadata": {},
     "output_type": "execute_result"
    }
   ],
   "source": [
    "kGPwind = GPy.kern.RBF(5,ARD='true')\n",
    "mGPwind = GPy.models.GPRegression(XGPwind, yTrain[:,None], kGPwind)\n",
    "mGPwind "
   ]
  },
  {
   "cell_type": "code",
   "execution_count": 24,
   "id": "2919f370",
   "metadata": {},
   "outputs": [
    {
     "data": {
      "text/html": [
       "<style type=\"text/css\">\n",
       ".pd{\n",
       "    font-family: \"Courier New\", Courier, monospace !important;\n",
       "    width: 100%;\n",
       "    padding: 3px;\n",
       "}\n",
       "</style>\n",
       "\n",
       "<p class=pd>\n",
       "<b>Model</b>: GP regression<br>\n",
       "<b>Objective</b>: 165.95549548090892<br>\n",
       "<b>Number of Parameters</b>: 7<br>\n",
       "<b>Number of Optimization Parameters</b>: 7<br>\n",
       "<b>Updates</b>: True<br>\n",
       "</p>\n",
       "<style type=\"text/css\">\n",
       ".tg  {font-family:\"Courier New\", Courier, monospace !important;padding:2px 3px;word-break:normal;border-collapse:collapse;border-spacing:0;border-color:#DCDCDC;margin:0px auto;width:100%;}\n",
       ".tg td{font-family:\"Courier New\", Courier, monospace !important;font-weight:bold;color:#444;background-color:#F7FDFA;border-style:solid;border-width:1px;overflow:hidden;word-break:normal;border-color:#DCDCDC;}\n",
       ".tg th{font-family:\"Courier New\", Courier, monospace !important;font-weight:normal;color:#fff;background-color:#26ADE4;border-style:solid;border-width:1px;overflow:hidden;word-break:normal;border-color:#DCDCDC;}\n",
       ".tg .tg-left{font-family:\"Courier New\", Courier, monospace !important;font-weight:normal;text-align:left;}\n",
       ".tg .tg-center{font-family:\"Courier New\", Courier, monospace !important;font-weight:normal;text-align:center;}\n",
       ".tg .tg-right{font-family:\"Courier New\", Courier, monospace !important;font-weight:normal;text-align:right;}\n",
       "</style>\n",
       "<table class=\"tg\"><tr><th><b>  GP_regression.         </b></th><th><b>              value</b></th><th><b>constraints</b></th><th><b>priors</b></th></tr>\n",
       "<tr><td class=tg-left>  rbf.variance           </td><td class=tg-right>  34.15393466240109</td><td class=tg-center>    +ve    </td><td class=tg-center>      </td></tr>\n",
       "<tr><td class=tg-left>  rbf.lengthscale        </td><td class=tg-right>               (5,)</td><td class=tg-center>    +ve    </td><td class=tg-center>      </td></tr>\n",
       "<tr><td class=tg-left>  Gaussian_noise.variance</td><td class=tg-right>0.12636616520126037</td><td class=tg-center>    +ve    </td><td class=tg-center>      </td></tr>\n",
       "</table>"
      ],
      "text/plain": [
       "<GPy.models.gp_regression.GPRegression at 0x19ffe23a6d0>"
      ]
     },
     "execution_count": 24,
     "metadata": {},
     "output_type": "execute_result"
    }
   ],
   "source": [
    "mGPwind.optimize()\n",
    "mGPwind"
   ]
  },
  {
   "cell_type": "code",
   "execution_count": 25,
   "id": "63ca3d83",
   "metadata": {},
   "outputs": [],
   "source": [
    "meanGP, Cov = mGP.predict_noiseless(m.coords.transpose().reshape(50*50*50,3), full_cov=False)\n",
    "meanGP=meanGP.reshape(50,50,50).transpose()"
   ]
  },
  {
   "cell_type": "code",
   "execution_count": 26,
   "id": "5b345002",
   "metadata": {},
   "outputs": [
    {
     "data": {
      "text/plain": [
       "1.6712601237493503"
      ]
     },
     "execution_count": 26,
     "metadata": {},
     "output_type": "execute_result"
    }
   ],
   "source": [
    "np.mean((meanGP-concTrain)**2)"
   ]
  },
  {
   "cell_type": "code",
   "execution_count": 27,
   "id": "6a4b032c",
   "metadata": {},
   "outputs": [
    {
     "data": {
      "text/plain": [
       "2.6454475005557367"
      ]
     },
     "execution_count": 27,
     "metadata": {},
     "output_type": "execute_result"
    }
   ],
   "source": [
    "np.mean((concInfer-concTrain)**2)"
   ]
  },
  {
   "cell_type": "code",
   "execution_count": 28,
   "id": "5dab3ec7",
   "metadata": {},
   "outputs": [],
   "source": [
    "GPWindTest=np.c_[mPDE.coords.transpose().reshape(50*50*50,3),mPDE.u[0].flatten(),mPDE.u[1].flatten()]"
   ]
  },
  {
   "cell_type": "code",
   "execution_count": 29,
   "id": "05bf7fab",
   "metadata": {},
   "outputs": [],
   "source": [
    "meanGPWind, CovWind = mGPwind.predict_noiseless(GPWindTest, full_cov=False)\n",
    "meanGPWind=meanGPWind.reshape(50,50,50).transpose()"
   ]
  },
  {
   "cell_type": "code",
   "execution_count": 30,
   "id": "d63c8ce0",
   "metadata": {},
   "outputs": [
    {
     "data": {
      "text/plain": [
       "1.6180190304109292"
      ]
     },
     "execution_count": 30,
     "metadata": {},
     "output_type": "execute_result"
    }
   ],
   "source": [
    "np.mean((meanGPWind-concTrain)**2)"
   ]
  },
  {
   "cell_type": "code",
   "execution_count": 31,
   "id": "6b173469",
   "metadata": {},
   "outputs": [
    {
     "data": {
      "text/plain": [
       "<matplotlib.colorbar.Colorbar at 0x19f8001c8e0>"
      ]
     },
     "execution_count": 31,
     "metadata": {},
     "output_type": "execute_result"
    },
    {
     "data": {
      "image/png": "[encoded data removed]",
      "text/plain": [
       "<Figure size 432x288 with 2 Axes>"
      ]
     },
     "metadata": {
      "needs_background": "light"
     },
     "output_type": "display_data"
    }
   ],
   "source": [
    "plt.imshow(meanGPWind[10])\n",
    "plt.colorbar()"
   ]
  },
  {
   "cell_type": "code",
   "execution_count": 32,
   "id": "1db46a0b",
   "metadata": {},
   "outputs": [
    {
     "data": {
      "text/plain": [
       "<matplotlib.colorbar.Colorbar at 0x19f8008ba00>"
      ]
     },
     "execution_count": 32,
     "metadata": {},
     "output_type": "execute_result"
    },
    {
     "data": {
      "image/png": "[encoded data removed]",
      "text/plain": [
       "<Figure size 432x288 with 2 Axes>"
      ]
     },
     "metadata": {
      "needs_background": "light"
     },
     "output_type": "display_data"
    }
   ],
   "source": [
    "plt.imshow(meanGP[10])\n",
    "plt.colorbar()"
   ]
  },
  {
   "cell_type": "code",
   "execution_count": 33,
   "id": "6604c435",
   "metadata": {},
   "outputs": [
    {
     "data": {
      "text/plain": [
       "<matplotlib.colorbar.Colorbar at 0x19f80103cd0>"
      ]
     },
     "execution_count": 33,
     "metadata": {},
     "output_type": "execute_result"
    },
    {
     "data": {
      "image/png": "[encoded data removed]",
      "text/plain": [
       "<Figure size 432x288 with 2 Axes>"
      ]
     },
     "metadata": {
      "needs_background": "light"
     },
     "output_type": "display_data"
    }
   ],
   "source": [
    "plt.imshow(concTrain[10])\n",
    "plt.colorbar()"
   ]
  },
  {
   "cell_type": "code",
   "execution_count": 34,
   "id": "12c41995",
   "metadata": {},
   "outputs": [
    {
     "data": {
      "text/plain": [
       "<matplotlib.colorbar.Colorbar at 0x19f801a4070>"
      ]
     },
     "execution_count": 34,
     "metadata": {},
     "output_type": "execute_result"
    },
    {
     "data": {
      "image/png": "[encoded data removed]",
      "text/plain": [
       "<Figure size 432x288 with 2 Axes>"
      ]
     },
     "metadata": {
      "needs_background": "light"
     },
     "output_type": "display_data"
    }
   ],
   "source": [
    "plt.imshow(concInfer[10])\n",
    "plt.colorbar()"
   ]
  },
  {
   "cell_type": "code",
   "execution_count": 35,
   "id": "c04e1a28",
   "metadata": {},
   "outputs": [],
   "source": [
    "SourceCoords = np.c_[mPDE.coords.transpose().reshape(50*50*50,3),sourceGT.transpose().flatten()]"
   ]
  },
  {
   "cell_type": "code",
   "execution_count": 36,
   "id": "8484279d",
   "metadata": {
    "scrolled": true
   },
   "outputs": [],
   "source": [
    "ConcCoords = np.c_[mPDE.coords.transpose().reshape(50*50*50,3),concTrain.transpose().flatten()]"
   ]
  },
  {
   "cell_type": "code",
   "execution_count": 37,
   "id": "e98cbeb8",
   "metadata": {
    "scrolled": true
   },
   "outputs": [
    {
     "data": {
      "text/plain": [
       "array([[  0.        ,   0.        ,   0.        ,   0.        ],\n",
       "       [  0.20408163,   0.        ,   0.        ,  -0.15155911],\n",
       "       [  0.40816327,   0.        ,   0.        ,  -0.30477614],\n",
       "       ...,\n",
       "       [  9.59183673,  10.        ,  10.        ,  -9.73422056],\n",
       "       [  9.79591837,  10.        ,  10.        , -10.00703839],\n",
       "       [ 10.        ,  10.        ,  10.        , -10.28729938]])"
      ]
     },
     "execution_count": 37,
     "metadata": {},
     "output_type": "execute_result"
    }
   ],
   "source": [
    "ConcCoords"
   ]
  },
  {
   "cell_type": "code",
   "execution_count": 38,
   "id": "8c0bf240",
   "metadata": {},
   "outputs": [
    {
     "data": {
      "text/plain": [
       "-10.007038394036103"
      ]
     },
     "execution_count": 38,
     "metadata": {},
     "output_type": "execute_result"
    }
   ],
   "source": [
    "concTrain[48,49,49]"
   ]
  },
  {
   "cell_type": "code",
   "execution_count": 39,
   "id": "d2cab9cc",
   "metadata": {},
   "outputs": [
    {
     "ename": "SyntaxError",
     "evalue": "invalid syntax (<ipython-input-39-0a633c000ff1>, line 1)",
     "output_type": "error",
     "traceback": [
      "\u001b[1;36m  File \u001b[1;32m\"<ipython-input-39-0a633c000ff1>\"\u001b[1;36m, line \u001b[1;32m1\u001b[0m\n\u001b[1;33m    exactData =\u001b[0m\n\u001b[1;37m                ^\u001b[0m\n\u001b[1;31mSyntaxError\u001b[0m\u001b[1;31m:\u001b[0m invalid syntax\n"
     ]
    }
   ],
   "source": [
    "exactData = "
   ]
  },
  {
   "cell_type": "code",
   "execution_count": null,
   "id": "8ea70ddf",
   "metadata": {},
   "outputs": [],
   "source": [
    "concTrain[m.getGridCoord(XGP)].shape"
   ]
  },
  {
   "cell_type": "code",
   "execution_count": null,
   "id": "3dd359c6",
   "metadata": {},
   "outputs": [],
   "source": [
    "ravel = np.ravel_multi_index(m.getGridCoord(XGP).transpose(), np.asarray(concTrain).shape)\n",
    "\n",
    "Data=np.asarray(concTrain).take(ravel)\n",
    "noiseData = Data + np.random.normal(0,noiseSD,80)\n",
    "\n",
    "exactData =  np.c_[XGP,Data]\n",
    "noisyData = np.c_[XGP,noiseData]\n",
    "testData = np.c_[m.getGridCoord(XGP),Data]"
   ]
  },
  {
   "cell_type": "code",
   "execution_count": null,
   "id": "7f716e13",
   "metadata": {},
   "outputs": [],
   "source": [
    "#np.savetxt(\"exactObservations\", exactData, delimiter=\",\")\n",
    "#np.savetxt(\"noisyObservations\", noisyData, delimiter=\",\")\n",
    "#np.savetxt(\"GroundTruthSourceCoords\", SourceCoords, delimiter=\",\")\n",
    "#np.savetxt(\"GroundTruthConcCoords\",ConcCoords, delimiter=\",\")"
   ]
  },
  {
   "cell_type": "code",
   "execution_count": null,
   "id": "ff55358c",
   "metadata": {},
   "outputs": [],
   "source": [
    "exactData[3]"
   ]
  },
  {
   "cell_type": "code",
   "execution_count": null,
   "id": "4299c4f4",
   "metadata": {},
   "outputs": [],
   "source": [
    "noisyData[3]"
   ]
  },
  {
   "cell_type": "code",
   "execution_count": null,
   "id": "1f3caa5b",
   "metadata": {},
   "outputs": [],
   "source": [
    "testData[0]"
   ]
  },
  {
   "cell_type": "code",
   "execution_count": null,
   "id": "3e93cf66",
   "metadata": {},
   "outputs": [],
   "source": [
    "concTrain[5,5,18]"
   ]
  },
  {
   "cell_type": "code",
   "execution_count": null,
   "id": "81fe93f8",
   "metadata": {},
   "outputs": [],
   "source": [
    "testData[1]"
   ]
  },
  {
   "cell_type": "code",
   "execution_count": null,
   "id": "32ff1763",
   "metadata": {},
   "outputs": [],
   "source": [
    "testData[1][0:3]"
   ]
  },
  {
   "cell_type": "code",
   "execution_count": null,
   "id": "5cc1a9d0",
   "metadata": {},
   "outputs": [],
   "source": []
  },
  {
   "cell_type": "code",
   "execution_count": null,
   "id": "6362049d",
   "metadata": {},
   "outputs": [],
   "source": []
  }
 ],
 "metadata": {
  "kernelspec": {
   "display_name": "Python 3",
   "language": "python",
   "name": "python3"
  },
  "language_info": {
   "codemirror_mode": {
    "name": "ipython",
    "version": 3
   },
   "file_extension": ".py",
   "mimetype": "text/x-python",
   "name": "python",
   "nbconvert_exporter": "python",
   "pygments_lexer": "ipython3",
   "version": "3.8.8"
  }
 },
 "nbformat": 4,
 "nbformat_minor": 5
}
