{
 "cells": [
  {
   "cell_type": "code",
   "execution_count": 70,
   "id": "38e8534e",
   "metadata": {},
   "outputs": [],
   "source": [
    "#numpy\n",
    "import numpy as np\n",
    "from numpy.random import multivariate_normal #For later example\n",
    "\n",
    "#advectionGP\n",
    "\n",
    "from advectionGP.models import AdjointAdvectionDiffusionModel as PDEModel\n",
    "\n",
    "from advectionGP.wind import WindSimple#Wind model\n",
    "\n",
    "\n",
    "from advectionGP.sensors import FixedSensorModel #Builds sensor arrays to generate data for foward model or to generate observations for comparison\n",
    "from advectionGP.kernels import EQ #Generates exponentiated quadratic kernel approximation\n",
    "from advectionGP.test import TestKernels #Unit test model\n",
    "\n",
    "\n",
    "#Plotting tools\n",
    "import matplotlib.pyplot as plt\n",
    "import numpy.random as rd\n",
    "rd.seed(123)"
   ]
  },
  {
   "cell_type": "code",
   "execution_count": 71,
   "id": "e248e90d",
   "metadata": {},
   "outputs": [],
   "source": [
    "# generate sensor locations for training data with shape [total observations, 4], where each row has elements \n",
    "#[lower time location, upper time location, x location, y location]\n",
    "\n",
    "tlocL = np.linspace(1,9,5) # lower time\n",
    "xloc=np.linspace(1,9,4) # x locations\n",
    "yloc=np.linspace(1,9,4) # y locations\n",
    "sensN = len(xloc)*len(yloc) # total number of sensors \n",
    "obsN = len(tlocL) # total time points at which an observation is taken\n",
    "X= np.zeros((obsN*sensN,4)) # obsN*sensN is total observations over all sensors and all times\n",
    "# Build sensor locations\n",
    "X[:,0] = np.asarray(np.meshgrid(tlocL,xloc,yloc)).reshape(3,sensN*obsN)[0] #lower time\n",
    "X[:,2] = np.asarray(np.meshgrid(tlocL,xloc,yloc)).reshape(3,sensN*obsN)[1] # x location\n",
    "X[:,3] = np.asarray(np.meshgrid(tlocL,xloc,yloc)).reshape(3,sensN*obsN)[2] # ylocation\n",
    "X[:,1] = X[:,0]+0.1 # upper time\n",
    "\n",
    "sensors = FixedSensorModel(X,0.1) # establish sensor model arguments are sensor locations and spatial averaging"
   ]
  },
  {
   "cell_type": "code",
   "execution_count": 72,
   "id": "a5d33d0b",
   "metadata": {},
   "outputs": [],
   "source": [
    "k_0 = 0.01 #Diffusion\n",
    "R=0.1\n",
    "noiseSD = 0.05 #Observation noise\n",
    "N_feat=2000 # number of features used to approximate ground truth GP\n",
    "boundary = ([0,0,0],[10,10,10])# corners of the grid - in units of space\n",
    "k = EQ(2, 2.0) # generate EQ kernel arguments are lengthscale and variance\n",
    "res = [50,50,50] # grid size for time, x and y\n",
    "\n",
    "\n",
    "u1 = 0.04\n",
    "u2 = 0.04\n",
    "windmodel=WindSimple(u1,u2) # establish fixed wind model\n",
    "\n",
    "m = PDEModel(resolution=res,boundary=boundary,N_feat=N_feat,noiseSD=noiseSD,kernel=k,sensormodel=sensors,windmodel=windmodel,k_0=k_0) #initiate PDE model to build concentration\n",
    "\n",
    "dt,dx,dy,dx2,dy2,Nt,Nx,Ny = m.getGridStepSize() # useful numbers!\n",
    "\n",
    "z=np.random.normal(0,1.0,N_feat) # Generate z to compute source\n",
    "\n",
    "sourceGT=(m.computeSourceFromPhi(z))# Compute source"
   ]
  },
  {
   "cell_type": "code",
   "execution_count": 73,
   "id": "3cf60a54",
   "metadata": {},
   "outputs": [],
   "source": [
    "concTrain=m.computeConcentration(sourceGT) # Compute concentration - runs advection diffusion forward model\n",
    "yTrain= m.computeObservations(addNoise=True) # Compute observations with noise uses m.sensormodel for observation locations"
   ]
  },
  {
   "cell_type": "code",
   "execution_count": 76,
   "id": "ec80626d",
   "metadata": {},
   "outputs": [
    {
     "data": {
      "text/plain": [
       "<matplotlib.image.AxesImage at 0x19b2f2e9c10>"
      ]
     },
     "execution_count": 76,
     "metadata": {},
     "output_type": "execute_result"
    },
    {
     "data": {
      "image/png": "[encoded data removed]",
      "text/plain": [
       "<Figure size 432x288 with 1 Axes>"
      ]
     },
     "metadata": {
      "needs_background": "light"
     },
     "output_type": "display_data"
    }
   ],
   "source": [
    "plt.imshow(sourceGT[9])"
   ]
  },
  {
   "cell_type": "code",
   "execution_count": 78,
   "id": "2b399bd8",
   "metadata": {},
   "outputs": [
    {
     "data": {
      "text/plain": [
       "<matplotlib.image.AxesImage at 0x19b2f396460>"
      ]
     },
     "execution_count": 78,
     "metadata": {},
     "output_type": "execute_result"
    },
    {
     "data": {
      "image/png": "[encoded data removed]",
      "text/plain": [
       "<Figure size 432x288 with 1 Axes>"
      ]
     },
     "metadata": {
      "needs_background": "light"
     },
     "output_type": "display_data"
    }
   ],
   "source": [
    "plt.imshow(concTrain[9])"
   ]
  },
  {
   "cell_type": "code",
   "execution_count": null,
   "id": "cfcdacc9",
   "metadata": {},
   "outputs": [],
   "source": []
  },
  {
   "cell_type": "code",
   "execution_count": 79,
   "id": "dc102de3",
   "metadata": {},
   "outputs": [
    {
     "data": {
      "text/plain": [
       "(80, 4)"
      ]
     },
     "execution_count": 79,
     "metadata": {},
     "output_type": "execute_result"
    }
   ],
   "source": [
    "X.shape"
   ]
  },
  {
   "cell_type": "code",
   "execution_count": 80,
   "id": "36da148b",
   "metadata": {},
   "outputs": [
    {
     "data": {
      "text/plain": [
       "(80,)"
      ]
     },
     "execution_count": 80,
     "metadata": {},
     "output_type": "execute_result"
    }
   ],
   "source": [
    "yTrain.shape"
   ]
  },
  {
   "cell_type": "code",
   "execution_count": 81,
   "id": "9a35faf6",
   "metadata": {},
   "outputs": [],
   "source": [
    "FullObs = np.hstack((X,yTrain[:,None]))"
   ]
  },
  {
   "cell_type": "code",
   "execution_count": 82,
   "id": "fce78469",
   "metadata": {},
   "outputs": [
    {
     "data": {
      "text/plain": [
       "array([[  1.        ,   1.1       ,   1.        ,   1.        ,\n",
       "         -0.63392359],\n",
       "       [  1.        ,   1.1       ,   1.        ,   3.66666667,\n",
       "         -0.66183892],\n",
       "       [  1.        ,   1.1       ,   1.        ,   6.33333333,\n",
       "         -0.08342062],\n",
       "       [  1.        ,   1.1       ,   1.        ,   9.        ,\n",
       "          1.21737623],\n",
       "       [  3.        ,   3.1       ,   1.        ,   1.        ,\n",
       "         -1.56960399],\n",
       "       [  3.        ,   3.1       ,   1.        ,   3.66666667,\n",
       "         -3.70723848],\n",
       "       [  3.        ,   3.1       ,   1.        ,   6.33333333,\n",
       "          0.15371943],\n",
       "       [  3.        ,   3.1       ,   1.        ,   9.        ,\n",
       "          3.53776995],\n",
       "       [  5.        ,   5.1       ,   1.        ,   1.        ,\n",
       "         -3.1254368 ],\n",
       "       [  5.        ,   5.1       ,   1.        ,   3.66666667,\n",
       "         -7.96598733],\n",
       "       [  5.        ,   5.1       ,   1.        ,   6.33333333,\n",
       "         -0.56483642],\n",
       "       [  5.        ,   5.1       ,   1.        ,   9.        ,\n",
       "          7.48671933],\n",
       "       [  7.        ,   7.1       ,   1.        ,   1.        ,\n",
       "         -4.80968116],\n",
       "       [  7.        ,   7.1       ,   1.        ,   3.66666667,\n",
       "         -9.64631945],\n",
       "       [  7.        ,   7.1       ,   1.        ,   6.33333333,\n",
       "          0.85448144],\n",
       "       [  7.        ,   7.1       ,   1.        ,   9.        ,\n",
       "         13.01111289],\n",
       "       [  9.        ,   9.1       ,   1.        ,   1.        ,\n",
       "         -4.2091432 ],\n",
       "       [  9.        ,   9.1       ,   1.        ,   3.66666667,\n",
       "         -7.36213276],\n",
       "       [  9.        ,   9.1       ,   1.        ,   6.33333333,\n",
       "          4.51007928],\n",
       "       [  9.        ,   9.1       ,   1.        ,   9.        ,\n",
       "         14.03337884],\n",
       "       [  1.        ,   1.1       ,   3.66666667,   1.        ,\n",
       "         -0.54958149],\n",
       "       [  1.        ,   1.1       ,   3.66666667,   3.66666667,\n",
       "          0.22636169],\n",
       "       [  1.        ,   1.1       ,   3.66666667,   6.33333333,\n",
       "          2.08954723],\n",
       "       [  1.        ,   1.1       ,   3.66666667,   9.        ,\n",
       "          0.79421793],\n",
       "       [  3.        ,   3.1       ,   3.66666667,   1.        ,\n",
       "         -3.10806865],\n",
       "       [  3.        ,   3.1       ,   3.66666667,   3.66666667,\n",
       "          1.26219636],\n",
       "       [  3.        ,   3.1       ,   3.66666667,   6.33333333,\n",
       "          7.18005239],\n",
       "       [  3.        ,   3.1       ,   3.66666667,   9.        ,\n",
       "          2.30748575],\n",
       "       [  5.        ,   5.1       ,   3.66666667,   1.        ,\n",
       "         -3.51924773],\n",
       "       [  5.        ,   5.1       ,   3.66666667,   3.66666667,\n",
       "          1.90795234],\n",
       "       [  5.        ,   5.1       ,   3.66666667,   6.33333333,\n",
       "         12.30164003],\n",
       "       [  5.        ,   5.1       ,   3.66666667,   9.        ,\n",
       "          6.16305919],\n",
       "       [  7.        ,   7.1       ,   3.66666667,   1.        ,\n",
       "         -1.9447743 ],\n",
       "       [  7.        ,   7.1       ,   3.66666667,   3.66666667,\n",
       "          1.84656247],\n",
       "       [  7.        ,   7.1       ,   3.66666667,   6.33333333,\n",
       "         14.77598703],\n",
       "       [  7.        ,   7.1       ,   3.66666667,   9.        ,\n",
       "          8.61394028],\n",
       "       [  9.        ,   9.1       ,   3.66666667,   1.        ,\n",
       "          0.43262005],\n",
       "       [  9.        ,   9.1       ,   3.66666667,   3.66666667,\n",
       "          3.10371874],\n",
       "       [  9.        ,   9.1       ,   3.66666667,   6.33333333,\n",
       "         14.48083577],\n",
       "       [  9.        ,   9.1       ,   3.66666667,   9.        ,\n",
       "          6.55184468],\n",
       "       [  1.        ,   1.1       ,   6.33333333,   1.        ,\n",
       "         -1.82081836],\n",
       "       [  1.        ,   1.1       ,   6.33333333,   3.66666667,\n",
       "          0.4078944 ],\n",
       "       [  1.        ,   1.1       ,   6.33333333,   6.33333333,\n",
       "          2.03253616],\n",
       "       [  1.        ,   1.1       ,   6.33333333,   9.        ,\n",
       "          0.93968289],\n",
       "       [  3.        ,   3.1       ,   6.33333333,   1.        ,\n",
       "         -7.43994445],\n",
       "       [  3.        ,   3.1       ,   6.33333333,   3.66666667,\n",
       "          1.90405638],\n",
       "       [  3.        ,   3.1       ,   6.33333333,   6.33333333,\n",
       "          7.5346811 ],\n",
       "       [  3.        ,   3.1       ,   6.33333333,   9.        ,\n",
       "          1.64124459],\n",
       "       [  5.        ,   5.1       ,   6.33333333,   1.        ,\n",
       "        -10.67006396],\n",
       "       [  5.        ,   5.1       ,   6.33333333,   3.66666667,\n",
       "          4.03835246],\n",
       "       [  5.        ,   5.1       ,   6.33333333,   6.33333333,\n",
       "         15.57683072],\n",
       "       [  5.        ,   5.1       ,   6.33333333,   9.        ,\n",
       "          3.44470649],\n",
       "       [  7.        ,   7.1       ,   6.33333333,   1.        ,\n",
       "        -10.17101542],\n",
       "       [  7.        ,   7.1       ,   6.33333333,   3.66666667,\n",
       "          2.13749431],\n",
       "       [  7.        ,   7.1       ,   6.33333333,   6.33333333,\n",
       "         18.87771347],\n",
       "       [  7.        ,   7.1       ,   6.33333333,   9.        ,\n",
       "          5.45229333],\n",
       "       [  9.        ,   9.1       ,   6.33333333,   1.        ,\n",
       "         -7.95688916],\n",
       "       [  9.        ,   9.1       ,   6.33333333,   3.66666667,\n",
       "          2.65079731],\n",
       "       [  9.        ,   9.1       ,   6.33333333,   6.33333333,\n",
       "         18.45113185],\n",
       "       [  9.        ,   9.1       ,   6.33333333,   9.        ,\n",
       "          3.80578868],\n",
       "       [  1.        ,   1.1       ,   9.        ,   1.        ,\n",
       "         -0.07834107],\n",
       "       [  1.        ,   1.1       ,   9.        ,   3.66666667,\n",
       "          0.49798185],\n",
       "       [  1.        ,   1.1       ,   9.        ,   6.33333333,\n",
       "         -0.68615676],\n",
       "       [  1.        ,   1.1       ,   9.        ,   9.        ,\n",
       "         -1.12875083],\n",
       "       [  3.        ,   3.1       ,   9.        ,   1.        ,\n",
       "          0.19888638],\n",
       "       [  3.        ,   3.1       ,   9.        ,   3.66666667,\n",
       "          0.04113419],\n",
       "       [  3.        ,   3.1       ,   9.        ,   6.33333333,\n",
       "         -1.28706355],\n",
       "       [  3.        ,   3.1       ,   9.        ,   9.        ,\n",
       "         -3.6806383 ],\n",
       "       [  5.        ,   5.1       ,   9.        ,   1.        ,\n",
       "         -0.07113846],\n",
       "       [  5.        ,   5.1       ,   9.        ,   3.66666667,\n",
       "         -1.35502288],\n",
       "       [  5.        ,   5.1       ,   9.        ,   6.33333333,\n",
       "          0.94408955],\n",
       "       [  5.        ,   5.1       ,   9.        ,   9.        ,\n",
       "         -6.41164076],\n",
       "       [  7.        ,   7.1       ,   9.        ,   1.        ,\n",
       "         -1.50506802],\n",
       "       [  7.        ,   7.1       ,   9.        ,   3.66666667,\n",
       "         -4.25372395],\n",
       "       [  7.        ,   7.1       ,   9.        ,   6.33333333,\n",
       "          4.70829846],\n",
       "       [  7.        ,   7.1       ,   9.        ,   9.        ,\n",
       "         -5.04867077],\n",
       "       [  9.        ,   9.1       ,   9.        ,   1.        ,\n",
       "         -2.97483161],\n",
       "       [  9.        ,   9.1       ,   9.        ,   3.66666667,\n",
       "         -5.16435462],\n",
       "       [  9.        ,   9.1       ,   9.        ,   6.33333333,\n",
       "          5.69848347],\n",
       "       [  9.        ,   9.1       ,   9.        ,   9.        ,\n",
       "         -3.38808404]])"
      ]
     },
     "execution_count": 82,
     "metadata": {},
     "output_type": "execute_result"
    }
   ],
   "source": [
    "FullObs"
   ]
  },
  {
   "cell_type": "code",
   "execution_count": 83,
   "id": "a575e366",
   "metadata": {},
   "outputs": [
    {
     "name": "stdout",
     "output_type": "stream",
     "text": [
      "Calculating Adjoints...\n",
      "79/80 \n",
      "Calculating Phis...\n",
      "1999/2000 \n"
     ]
    }
   ],
   "source": [
    "N_feat =2000 #Number of features used to infer the source\n",
    "k1 = EQ(2, 2.0) \n",
    "k2 = EQ(2, 2.0) \n",
    "\n",
    "mPDE = PDEModel(resolution=res,boundary=boundary,N_feat=N_feat,noiseSD=noiseSD,kernel=k1,sensormodel=sensors,windmodel=windmodel,k_0=k_0) #Initiate new model for inference\n",
    "regressPDE = mPDE.computeModelRegressors() # Compute regressor matrix\n",
    "meanZPDE, covZPDE = mPDE.computeZDistribution(yTrain) # Infers z vector mean and covariance\n",
    "sourceInfer = mPDE.computeSourceFromPhi(meanZPDE) # Generates estimated source using inferred distributio\n",
    "concInfer = mPDE.computeConcentration(sourceInfer)\n",
    "yOut = mPDE.computeObservations()"
   ]
  },
  {
   "cell_type": "code",
   "execution_count": 84,
   "id": "c7bc2987",
   "metadata": {},
   "outputs": [
    {
     "data": {
      "text/plain": [
       "<matplotlib.image.AxesImage at 0x19b2f3e4ee0>"
      ]
     },
     "execution_count": 84,
     "metadata": {},
     "output_type": "execute_result"
    },
    {
     "data": {
      "image/png": "[encoded data removed]",
      "text/plain": [
       "<Figure size 432x288 with 1 Axes>"
      ]
     },
     "metadata": {
      "needs_background": "light"
     },
     "output_type": "display_data"
    }
   ],
   "source": [
    "plt.imshow(sourceInfer[9])"
   ]
  },
  {
   "cell_type": "code",
   "execution_count": 85,
   "id": "ca002f12",
   "metadata": {
    "scrolled": true
   },
   "outputs": [
    {
     "data": {
      "text/plain": [
       "<matplotlib.image.AxesImage at 0x19b28f49c10>"
      ]
     },
     "execution_count": 85,
     "metadata": {},
     "output_type": "execute_result"
    },
    {
     "data": {
      "image/png": "[encoded data removed]",
      "text/plain": [
       "<Figure size 432x288 with 1 Axes>"
      ]
     },
     "metadata": {
      "needs_background": "light"
     },
     "output_type": "display_data"
    }
   ],
   "source": [
    "plt.imshow(sourceGT[9])"
   ]
  },
  {
   "cell_type": "code",
   "execution_count": 89,
   "id": "6acd0a4e",
   "metadata": {},
   "outputs": [
    {
     "data": {
      "text/plain": [
       "<matplotlib.image.AxesImage at 0x19b2f3c6460>"
      ]
     },
     "execution_count": 89,
     "metadata": {},
     "output_type": "execute_result"
    },
    {
     "data": {
      "image/png": "[encoded data removed]",
      "text/plain": [
       "<Figure size 432x288 with 1 Axes>"
      ]
     },
     "metadata": {
      "needs_background": "light"
     },
     "output_type": "display_data"
    }
   ],
   "source": [
    "plt.imshow(sourceFromCSV[9])"
   ]
  },
  {
   "cell_type": "code",
   "execution_count": 54,
   "id": "e1f8f33a",
   "metadata": {},
   "outputs": [
    {
     "data": {
      "text/plain": [
       "0.2696490765459571"
      ]
     },
     "execution_count": 54,
     "metadata": {},
     "output_type": "execute_result"
    }
   ],
   "source": [
    "np.mean((sourceGT-sourceInfer)**2)"
   ]
  },
  {
   "cell_type": "code",
   "execution_count": 86,
   "id": "365a3e04",
   "metadata": {},
   "outputs": [],
   "source": [
    "import csv\n",
    "np.savetxt(\"Observations16Sens5Times.csv\", FullObs, delimiter=\",\")\n",
    "np.savetxt(\"GroundTruthSource16Sens5Times.csv\", np.reshape(sourceGT,(res[0],res[1]*res[2])), delimiter=\",\")\n",
    "np.savetxt(\"GroundTruthConc16Sens5Times.csv\", np.reshape(concTrain,(res[0],res[1]*res[2])), delimiter=\",\")"
   ]
  },
  {
   "cell_type": "code",
   "execution_count": 88,
   "id": "68af1066",
   "metadata": {},
   "outputs": [],
   "source": [
    "sourceFromCSV=np.genfromtxt(\"GroundTruthSource16Sens5Times.csv\",delimiter=',')\n",
    "sourceFromCSV=np.reshape(sourceFromCSV,(50,50,50))"
   ]
  },
  {
   "cell_type": "code",
   "execution_count": null,
   "id": "0d3d23bf",
   "metadata": {},
   "outputs": [],
   "source": []
  }
 ],
 "metadata": {
  "kernelspec": {
   "display_name": "Python 3",
   "language": "python",
   "name": "python3"
  },
  "language_info": {
   "codemirror_mode": {
    "name": "ipython",
    "version": 3
   },
   "file_extension": ".py",
   "mimetype": "text/x-python",
   "name": "python",
   "nbconvert_exporter": "python",
   "pygments_lexer": "ipython3",
   "version": "3.8.8"
  }
 },
 "nbformat": 4,
 "nbformat_minor": 5
}
