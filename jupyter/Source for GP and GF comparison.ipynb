{
 "cells": [
  {
   "cell_type": "code",
   "execution_count": 99,
   "id": "837f6f9a",
   "metadata": {},
   "outputs": [],
   "source": [
    "#numpy\n",
    "import numpy as np\n",
    "from numpy.random import multivariate_normal #For later example\n",
    "\n",
    "#advectionGP\n",
    "\n",
    "from advectionGP.models.mesh_adr2d_model import AdjointAdvectionDiffusionReaction2DModel as PDEModel\n",
    "\n",
    "from advectionGP.wind import WindSimple#Wind model\n",
    "\n",
    "\n",
    "from advectionGP.sensors import FixedSensorModel #Builds sensor arrays to generate data for foward model or to generate observations for comparison\n",
    "from advectionGP.kernels import EQ #Generates exponentiated quadratic kernel approximation\n",
    "\n",
    "\n",
    "#Plotting tools\n",
    "import matplotlib.pyplot as plt\n",
    "import numpy.random as rd\n"
   ]
  },
  {
   "cell_type": "code",
   "execution_count": 100,
   "id": "1ae763e0",
   "metadata": {},
   "outputs": [],
   "source": [
    "# generate sensor locations for training data with shape [total observations, 4], where each row has elements \n",
    "#[lower time location, upper time location, x location, y location]\n",
    "\n",
    "tlocL = np.linspace(1,9,5) # lower time\n",
    "xloc=np.linspace(1,9,4) # x locations\n",
    "yloc=np.linspace(1,9,4) # y locations\n",
    "sensN = len(xloc)*len(yloc) # total number of sensors \n",
    "obsN = len(tlocL) # total time points at which an observation is taken\n",
    "X= np.zeros((obsN*sensN,4)) # obsN*sensN is total observations over all sensors and all times\n",
    "# Build sensor locations\n",
    "X[:,0] = np.asarray(np.meshgrid(tlocL,xloc,yloc)).reshape(3,sensN*obsN)[0] #lower time\n",
    "X[:,2] = np.asarray(np.meshgrid(tlocL,xloc,yloc)).reshape(3,sensN*obsN)[1] # x location\n",
    "X[:,3] = np.asarray(np.meshgrid(tlocL,xloc,yloc)).reshape(3,sensN*obsN)[2] # ylocation\n",
    "X[:,1] = X[:,0]+0.1 # upper time\n",
    "\n",
    "XGP= np.zeros((sensN*obsN,3))\n",
    "XGP[:,0] = (X[:,0]+X[:,1])/2\n",
    "XGP[:,1] = X[:,2]\n",
    "XGP[:,2] = X[:,3] \n",
    "\n",
    "sensors = FixedSensorModel(X,0.1) # establish sensor model arguments are sensor locations and spatial averaging"
   ]
  },
  {
   "cell_type": "code",
   "execution_count": 256,
   "id": "d6cbb875",
   "metadata": {},
   "outputs": [],
   "source": [
    "np.random.seed(124)\n",
    "k_0 = 1 #Diffusion\n",
    "R=0.1\n",
    "noiseSD = 0.05 #Observation noise\n",
    "N_feat=100 # number of features used to approximate ground truth GP\n",
    "boundary = ([0,0,0],[50,10,10])# corners of the grid - in units of space\n",
    "k = EQ(2, 1.0) # generate EQ kernel arguments are lengthscale and variance\n",
    "res = [5000,50,50] # grid size for time, x and y\n",
    "\n",
    "\n",
    "u1 = -0.5\n",
    "u2 = -0.5\n",
    "windmodel=WindSimple(u1,u2) # establish fixed wind model\n",
    "\n",
    "#wind=np.cos(np.linspace(0,6*np.pi,res[1]))*0.5\n",
    "#u=[]\n",
    "#u.append(np.ones(res)*wind) #x direction wind\n",
    "#u.append(np.ones(res)*0.0) # y direction wind\n",
    "#windmodel=WindFixU(u)\n",
    "\n",
    "m = PDEModel(resolution=res,boundary=boundary,N_feat=N_feat,noiseSD=noiseSD,kernel=k,sensormodel=sensors,windmodel=windmodel,k_0=k_0,R=0) #initiate PDE model to build concentration\n",
    "\n",
    "delta,Ns = m.getGridStepSize() # useful numbers!\n",
    "\n",
    "z=np.random.normal(0,1.0,N_feat) # Generate z to compute source\n",
    "\n",
    "sourceGT=(m.computeSourceFromPhi(z))# Compute source"
   ]
  },
  {
   "cell_type": "code",
   "execution_count": 257,
   "id": "20b3288b",
   "metadata": {},
   "outputs": [],
   "source": [
    "concTrain=m.computeResponse(sourceGT) # Compute concentration - runs advection diffusion forward model\n",
    "yTrainNoise= m.computeObservations(addNoise=True) # Compute observations with noise uses m.sensormodel for observation locations\n",
    "yTrain= m.computeObservations(addNoise=True) # Compute observations with noise uses m.sensormodel for observation locations"
   ]
  },
  {
   "cell_type": "code",
   "execution_count": 275,
   "id": "8e295a70",
   "metadata": {},
   "outputs": [
    {
     "data": {
      "text/plain": [
       "<matplotlib.colorbar.Colorbar at 0x21400c87100>"
      ]
     },
     "execution_count": 275,
     "metadata": {},
     "output_type": "execute_result"
    },
    {
     "data": {
      "image/png": "[encoded data removed]",
      "text/plain": [
       "<Figure size 432x288 with 2 Axes>"
      ]
     },
     "metadata": {
      "needs_background": "light"
     },
     "output_type": "display_data"
    }
   ],
   "source": [
    "plt.imshow(sourceGT[4999])\n",
    "plt.colorbar()"
   ]
  },
  {
   "cell_type": "code",
   "execution_count": 274,
   "id": "3c89f274",
   "metadata": {},
   "outputs": [
    {
     "data": {
      "text/plain": [
       "<matplotlib.colorbar.Colorbar at 0x21400be84c0>"
      ]
     },
     "execution_count": 274,
     "metadata": {},
     "output_type": "execute_result"
    },
    {
     "data": {
      "image/png": "[encoded data removed]",
      "text/plain": [
       "<Figure size 432x288 with 2 Axes>"
      ]
     },
     "metadata": {
      "needs_background": "light"
     },
     "output_type": "display_data"
    }
   ],
   "source": [
    "plt.imshow(concTrain[4999])\n",
    "plt.colorbar()"
   ]
  },
  {
   "cell_type": "code",
   "execution_count": null,
   "id": "6c0e73e6",
   "metadata": {},
   "outputs": [],
   "source": []
  },
  {
   "cell_type": "code",
   "execution_count": 260,
   "id": "0c7025ce",
   "metadata": {},
   "outputs": [
    {
     "data": {
      "text/plain": [
       "(80, 4)"
      ]
     },
     "execution_count": 260,
     "metadata": {},
     "output_type": "execute_result"
    }
   ],
   "source": [
    "X.shape"
   ]
  },
  {
   "cell_type": "code",
   "execution_count": 261,
   "id": "875f25df",
   "metadata": {},
   "outputs": [
    {
     "data": {
      "text/plain": [
       "(80,)"
      ]
     },
     "execution_count": 261,
     "metadata": {},
     "output_type": "execute_result"
    }
   ],
   "source": [
    "yTrain.shape"
   ]
  },
  {
   "cell_type": "code",
   "execution_count": 262,
   "id": "9f55ce58",
   "metadata": {},
   "outputs": [],
   "source": [
    "FullObs = np.hstack((X,yTrain[:,None]))\n",
    "FullObsNoise = np.hstack((X,yTrainNoise[:,None]))"
   ]
  },
  {
   "cell_type": "code",
   "execution_count": 263,
   "id": "c9dfbe2c",
   "metadata": {},
   "outputs": [
    {
     "data": {
      "text/plain": [
       "array([[ 1.00000000e+00,  1.10000000e+00,  1.00000000e+00,\n",
       "         1.00000000e+00, -2.95337148e-01],\n",
       "       [ 1.00000000e+00,  1.10000000e+00,  1.00000000e+00,\n",
       "         3.66666667e+00, -1.55303235e+00],\n",
       "       [ 1.00000000e+00,  1.10000000e+00,  1.00000000e+00,\n",
       "         6.33333333e+00, -6.76579074e-01],\n",
       "       [ 1.00000000e+00,  1.10000000e+00,  1.00000000e+00,\n",
       "         9.00000000e+00, -3.78253211e-03],\n",
       "       [ 3.00000000e+00,  3.10000000e+00,  1.00000000e+00,\n",
       "         1.00000000e+00, -6.58735867e-01],\n",
       "       [ 3.00000000e+00,  3.10000000e+00,  1.00000000e+00,\n",
       "         3.66666667e+00, -2.68667709e+00],\n",
       "       [ 3.00000000e+00,  3.10000000e+00,  1.00000000e+00,\n",
       "         6.33333333e+00,  4.28284694e-01],\n",
       "       [ 3.00000000e+00,  3.10000000e+00,  1.00000000e+00,\n",
       "         9.00000000e+00,  1.35903095e+00],\n",
       "       [ 5.00000000e+00,  5.10000000e+00,  1.00000000e+00,\n",
       "         1.00000000e+00,  2.48935195e-01],\n",
       "       [ 5.00000000e+00,  5.10000000e+00,  1.00000000e+00,\n",
       "         3.66666667e+00, -1.00212448e+00],\n",
       "       [ 5.00000000e+00,  5.10000000e+00,  1.00000000e+00,\n",
       "         6.33333333e+00,  2.76828186e+00],\n",
       "       [ 5.00000000e+00,  5.10000000e+00,  1.00000000e+00,\n",
       "         9.00000000e+00,  3.32731312e+00],\n",
       "       [ 7.00000000e+00,  7.10000000e+00,  1.00000000e+00,\n",
       "         1.00000000e+00,  1.12262192e+00],\n",
       "       [ 7.00000000e+00,  7.10000000e+00,  1.00000000e+00,\n",
       "         3.66666667e+00,  2.90419181e-01],\n",
       "       [ 7.00000000e+00,  7.10000000e+00,  1.00000000e+00,\n",
       "         6.33333333e+00,  3.25930299e+00],\n",
       "       [ 7.00000000e+00,  7.10000000e+00,  1.00000000e+00,\n",
       "         9.00000000e+00,  5.36581650e+00],\n",
       "       [ 9.00000000e+00,  9.10000000e+00,  1.00000000e+00,\n",
       "         1.00000000e+00,  4.34428513e-01],\n",
       "       [ 9.00000000e+00,  9.10000000e+00,  1.00000000e+00,\n",
       "         3.66666667e+00, -1.76477000e-01],\n",
       "       [ 9.00000000e+00,  9.10000000e+00,  1.00000000e+00,\n",
       "         6.33333333e+00,  1.05241937e+00],\n",
       "       [ 9.00000000e+00,  9.10000000e+00,  1.00000000e+00,\n",
       "         9.00000000e+00,  4.11613964e+00],\n",
       "       [ 1.00000000e+00,  1.10000000e+00,  3.66666667e+00,\n",
       "         1.00000000e+00,  6.85303239e-01],\n",
       "       [ 1.00000000e+00,  1.10000000e+00,  3.66666667e+00,\n",
       "         3.66666667e+00, -1.11869217e+00],\n",
       "       [ 1.00000000e+00,  1.10000000e+00,  3.66666667e+00,\n",
       "         6.33333333e+00,  2.83904680e-01],\n",
       "       [ 1.00000000e+00,  1.10000000e+00,  3.66666667e+00,\n",
       "         9.00000000e+00,  3.00557674e-01],\n",
       "       [ 3.00000000e+00,  3.10000000e+00,  3.66666667e+00,\n",
       "         1.00000000e+00,  8.66232884e-01],\n",
       "       [ 3.00000000e+00,  3.10000000e+00,  3.66666667e+00,\n",
       "         3.66666667e+00, -1.61775795e+00],\n",
       "       [ 3.00000000e+00,  3.10000000e+00,  3.66666667e+00,\n",
       "         6.33333333e+00,  2.11884285e+00],\n",
       "       [ 3.00000000e+00,  3.10000000e+00,  3.66666667e+00,\n",
       "         9.00000000e+00,  3.21139983e+00],\n",
       "       [ 5.00000000e+00,  5.10000000e+00,  3.66666667e+00,\n",
       "         1.00000000e+00,  1.30927992e+00],\n",
       "       [ 5.00000000e+00,  5.10000000e+00,  3.66666667e+00,\n",
       "         3.66666667e+00, -1.33743573e-01],\n",
       "       [ 5.00000000e+00,  5.10000000e+00,  3.66666667e+00,\n",
       "         6.33333333e+00,  2.86851674e+00],\n",
       "       [ 5.00000000e+00,  5.10000000e+00,  3.66666667e+00,\n",
       "         9.00000000e+00,  4.42074673e+00],\n",
       "       [ 7.00000000e+00,  7.10000000e+00,  3.66666667e+00,\n",
       "         1.00000000e+00,  1.06148458e+00],\n",
       "       [ 7.00000000e+00,  7.10000000e+00,  3.66666667e+00,\n",
       "         3.66666667e+00,  6.47622788e-01],\n",
       "       [ 7.00000000e+00,  7.10000000e+00,  3.66666667e+00,\n",
       "         6.33333333e+00,  1.73364834e+00],\n",
       "       [ 7.00000000e+00,  7.10000000e+00,  3.66666667e+00,\n",
       "         9.00000000e+00,  2.38972416e+00],\n",
       "       [ 9.00000000e+00,  9.10000000e+00,  3.66666667e+00,\n",
       "         1.00000000e+00, -3.44590038e-01],\n",
       "       [ 9.00000000e+00,  9.10000000e+00,  3.66666667e+00,\n",
       "         3.66666667e+00, -3.05886040e-01],\n",
       "       [ 9.00000000e+00,  9.10000000e+00,  3.66666667e+00,\n",
       "         6.33333333e+00, -5.79887976e-01],\n",
       "       [ 9.00000000e+00,  9.10000000e+00,  3.66666667e+00,\n",
       "         9.00000000e+00, -6.40886501e-01],\n",
       "       [ 1.00000000e+00,  1.10000000e+00,  6.33333333e+00,\n",
       "         1.00000000e+00,  3.06727506e-01],\n",
       "       [ 1.00000000e+00,  1.10000000e+00,  6.33333333e+00,\n",
       "         3.66666667e+00, -6.49786957e-01],\n",
       "       [ 1.00000000e+00,  1.10000000e+00,  6.33333333e+00,\n",
       "         6.33333333e+00,  7.32990747e-01],\n",
       "       [ 1.00000000e+00,  1.10000000e+00,  6.33333333e+00,\n",
       "         9.00000000e+00,  6.14678856e-01],\n",
       "       [ 3.00000000e+00,  3.10000000e+00,  6.33333333e+00,\n",
       "         1.00000000e+00, -3.63361418e-01],\n",
       "       [ 3.00000000e+00,  3.10000000e+00,  6.33333333e+00,\n",
       "         3.66666667e+00, -1.79602189e+00],\n",
       "       [ 3.00000000e+00,  3.10000000e+00,  6.33333333e+00,\n",
       "         6.33333333e+00,  9.66638931e-01],\n",
       "       [ 3.00000000e+00,  3.10000000e+00,  6.33333333e+00,\n",
       "         9.00000000e+00,  2.73015905e+00],\n",
       "       [ 5.00000000e+00,  5.10000000e+00,  6.33333333e+00,\n",
       "         1.00000000e+00, -3.04286892e-01],\n",
       "       [ 5.00000000e+00,  5.10000000e+00,  6.33333333e+00,\n",
       "         3.66666667e+00, -1.11667159e+00],\n",
       "       [ 5.00000000e+00,  5.10000000e+00,  6.33333333e+00,\n",
       "         6.33333333e+00,  4.43848234e-01],\n",
       "       [ 5.00000000e+00,  5.10000000e+00,  6.33333333e+00,\n",
       "         9.00000000e+00,  1.87077420e+00],\n",
       "       [ 7.00000000e+00,  7.10000000e+00,  6.33333333e+00,\n",
       "         1.00000000e+00,  2.07406852e-01],\n",
       "       [ 7.00000000e+00,  7.10000000e+00,  6.33333333e+00,\n",
       "         3.66666667e+00,  5.00254059e-01],\n",
       "       [ 7.00000000e+00,  7.10000000e+00,  6.33333333e+00,\n",
       "         6.33333333e+00,  1.01924330e-01],\n",
       "       [ 7.00000000e+00,  7.10000000e+00,  6.33333333e+00,\n",
       "         9.00000000e+00, -1.90812078e+00],\n",
       "       [ 9.00000000e+00,  9.10000000e+00,  6.33333333e+00,\n",
       "         1.00000000e+00,  2.90145018e-01],\n",
       "       [ 9.00000000e+00,  9.10000000e+00,  6.33333333e+00,\n",
       "         3.66666667e+00,  1.43249282e-01],\n",
       "       [ 9.00000000e+00,  9.10000000e+00,  6.33333333e+00,\n",
       "         6.33333333e+00, -6.49509484e-01],\n",
       "       [ 9.00000000e+00,  9.10000000e+00,  6.33333333e+00,\n",
       "         9.00000000e+00, -3.68915461e+00],\n",
       "       [ 1.00000000e+00,  1.10000000e+00,  9.00000000e+00,\n",
       "         1.00000000e+00, -1.26456996e-01],\n",
       "       [ 1.00000000e+00,  1.10000000e+00,  9.00000000e+00,\n",
       "         3.66666667e+00, -8.44707849e-01],\n",
       "       [ 1.00000000e+00,  1.10000000e+00,  9.00000000e+00,\n",
       "         6.33333333e+00, -3.59432399e-01],\n",
       "       [ 1.00000000e+00,  1.10000000e+00,  9.00000000e+00,\n",
       "         9.00000000e+00, -4.69340043e-02],\n",
       "       [ 3.00000000e+00,  3.10000000e+00,  9.00000000e+00,\n",
       "         1.00000000e+00, -1.33404085e+00],\n",
       "       [ 3.00000000e+00,  3.10000000e+00,  9.00000000e+00,\n",
       "         3.66666667e+00, -1.77374296e+00],\n",
       "       [ 3.00000000e+00,  3.10000000e+00,  9.00000000e+00,\n",
       "         6.33333333e+00, -1.49430690e+00],\n",
       "       [ 3.00000000e+00,  3.10000000e+00,  9.00000000e+00,\n",
       "         9.00000000e+00, -2.82162717e-01],\n",
       "       [ 5.00000000e+00,  5.10000000e+00,  9.00000000e+00,\n",
       "         1.00000000e+00, -1.79532985e+00],\n",
       "       [ 5.00000000e+00,  5.10000000e+00,  9.00000000e+00,\n",
       "         3.66666667e+00, -2.03471525e+00],\n",
       "       [ 5.00000000e+00,  5.10000000e+00,  9.00000000e+00,\n",
       "         6.33333333e+00, -1.85159857e+00],\n",
       "       [ 5.00000000e+00,  5.10000000e+00,  9.00000000e+00,\n",
       "         9.00000000e+00, -1.39165951e+00],\n",
       "       [ 7.00000000e+00,  7.10000000e+00,  9.00000000e+00,\n",
       "         1.00000000e+00, -7.99530595e-01],\n",
       "       [ 7.00000000e+00,  7.10000000e+00,  9.00000000e+00,\n",
       "         3.66666667e+00, -2.24287386e-01],\n",
       "       [ 7.00000000e+00,  7.10000000e+00,  9.00000000e+00,\n",
       "         6.33333333e+00, -6.49796128e-01],\n",
       "       [ 7.00000000e+00,  7.10000000e+00,  9.00000000e+00,\n",
       "         9.00000000e+00, -3.58988296e+00],\n",
       "       [ 9.00000000e+00,  9.10000000e+00,  9.00000000e+00,\n",
       "         1.00000000e+00,  5.95982204e-01],\n",
       "       [ 9.00000000e+00,  9.10000000e+00,  9.00000000e+00,\n",
       "         3.66666667e+00,  1.94290470e-01],\n",
       "       [ 9.00000000e+00,  9.10000000e+00,  9.00000000e+00,\n",
       "         6.33333333e+00, -3.10248734e-01],\n",
       "       [ 9.00000000e+00,  9.10000000e+00,  9.00000000e+00,\n",
       "         9.00000000e+00, -3.62652103e+00]])"
      ]
     },
     "execution_count": 263,
     "metadata": {},
     "output_type": "execute_result"
    }
   ],
   "source": [
    "FullObs"
   ]
  },
  {
   "cell_type": "code",
   "execution_count": 264,
   "id": "67238cfc",
   "metadata": {
    "scrolled": true
   },
   "outputs": [
    {
     "name": "stdout",
     "output_type": "stream",
     "text": [
      "\n",
      "\n",
      "Computing SS...\n",
      "Inverting SS...\n",
      "Computing meanZ\n",
      "Done\n"
     ]
    }
   ],
   "source": [
    "N_feat =1000 #Number of features used to infer the source\n",
    "k1 = EQ(2, 1.0) \n",
    "k2 = EQ(2, 1.0) \n",
    "\n",
    "mPDE = PDEModel(resolution=res,boundary=boundary,N_feat=N_feat,noiseSD=noiseSD,kernel=k1,sensormodel=sensors,windmodel=windmodel,k_0=k_0,R=0) #Initiate new model for inference\n",
    "regressPDE = mPDE.computeModelRegressors() # Compute regressor matrix\n",
    "meanZPDE, covZPDE = mPDE.computeZDistribution(yTrain) # Infers z vector mean and covariance\n",
    "sourceInfer = mPDE.computeSourceFromPhi(meanZPDE) # Generates estimated source using inferred distributio\n",
    "concInfer = mPDE.computeResponse(sourceInfer)\n",
    "yOut = mPDE.computeObservations()"
   ]
  },
  {
   "cell_type": "code",
   "execution_count": 265,
   "id": "a514a28d",
   "metadata": {},
   "outputs": [
    {
     "data": {
      "text/plain": [
       "<matplotlib.image.AxesImage at 0x214008f7400>"
      ]
     },
     "execution_count": 265,
     "metadata": {},
     "output_type": "execute_result"
    },
    {
     "data": {
      "image/png": "[encoded data removed]",
      "text/plain": [
       "<Figure size 432x288 with 1 Axes>"
      ]
     },
     "metadata": {
      "needs_background": "light"
     },
     "output_type": "display_data"
    }
   ],
   "source": [
    "plt.imshow(sourceInfer[9])"
   ]
  },
  {
   "cell_type": "code",
   "execution_count": 266,
   "id": "221981d7",
   "metadata": {
    "scrolled": false
   },
   "outputs": [
    {
     "data": {
      "text/plain": [
       "<matplotlib.image.AxesImage at 0x21400942ac0>"
      ]
     },
     "execution_count": 266,
     "metadata": {},
     "output_type": "execute_result"
    },
    {
     "data": {
      "image/png": "[encoded data removed]",
      "text/plain": [
       "<Figure size 432x288 with 1 Axes>"
      ]
     },
     "metadata": {
      "needs_background": "light"
     },
     "output_type": "display_data"
    }
   ],
   "source": [
    "plt.imshow(sourceGT[9])"
   ]
  },
  {
   "cell_type": "code",
   "execution_count": 273,
   "id": "f5945cab",
   "metadata": {},
   "outputs": [
    {
     "data": {
      "text/plain": [
       "<matplotlib.colorbar.Colorbar at 0x21400e48d00>"
      ]
     },
     "execution_count": 273,
     "metadata": {},
     "output_type": "execute_result"
    },
    {
     "data": {
      "image/png": "[encoded data removed]",
      "text/plain": [
       "<Figure size 432x288 with 2 Axes>"
      ]
     },
     "metadata": {
      "needs_background": "light"
     },
     "output_type": "display_data"
    }
   ],
   "source": [
    "plt.imshow(concTrain[99])\n",
    "plt.colorbar()"
   ]
  },
  {
   "cell_type": "code",
   "execution_count": 268,
   "id": "06409894",
   "metadata": {},
   "outputs": [
    {
     "data": {
      "text/plain": [
       "<matplotlib.colorbar.Colorbar at 0x21400a22100>"
      ]
     },
     "execution_count": 268,
     "metadata": {},
     "output_type": "execute_result"
    },
    {
     "data": {
      "image/png": "[encoded data removed]",
      "text/plain": [
       "<Figure size 432x288 with 2 Axes>"
      ]
     },
     "metadata": {
      "needs_background": "light"
     },
     "output_type": "display_data"
    }
   ],
   "source": [
    "plt.imshow(concTrain[49])\n",
    "plt.colorbar()"
   ]
  },
  {
   "cell_type": "code",
   "execution_count": 269,
   "id": "b45b794c",
   "metadata": {},
   "outputs": [],
   "source": [
    "#plt.imshow(sourceFromCSV[9])"
   ]
  },
  {
   "cell_type": "code",
   "execution_count": 270,
   "id": "40c453f7",
   "metadata": {},
   "outputs": [
    {
     "data": {
      "text/plain": [
       "2.1287797347891844"
      ]
     },
     "execution_count": 270,
     "metadata": {},
     "output_type": "execute_result"
    }
   ],
   "source": [
    "np.mean((sourceGT-sourceInfer)**2)\n"
   ]
  },
  {
   "cell_type": "code",
   "execution_count": 271,
   "id": "8495d678",
   "metadata": {},
   "outputs": [
    {
     "data": {
      "text/plain": [
       "82.28743928795141"
      ]
     },
     "execution_count": 271,
     "metadata": {},
     "output_type": "execute_result"
    }
   ],
   "source": [
    "np.mean((concTrain-concInfer)**2)"
   ]
  },
  {
   "cell_type": "code",
   "execution_count": 142,
   "id": "a03cd405",
   "metadata": {},
   "outputs": [],
   "source": [
    "import csv\n",
    "np.savetxt(\"Observations16Sens5Timesa1b05.csv\", FullObs, delimiter=\",\")\n",
    "np.savetxt(\"Observations16Sens5Timesa1b05Noise.csv\", FullObsNoise, delimiter=\",\")\n",
    "np.savetxt(\"GroundTruthSource16Sens5Timesa1b05.csv\", np.reshape(sourceGT,(res[0],res[1]*res[2])), delimiter=\",\")\n",
    "np.savetxt(\"GroundTruthConc16Sens5Timesa1b05.csv\", np.reshape(concTrain,(res[0],res[1]*res[2])), delimiter=\",\")"
   ]
  },
  {
   "cell_type": "code",
   "execution_count": 143,
   "id": "a207252a",
   "metadata": {},
   "outputs": [],
   "source": [
    "sourceFromCSV=np.genfromtxt(\"GroundTruthSource16Sens5Times.csv\",delimiter=',')\n",
    "sourceFromCSV=np.reshape(sourceFromCSV,(50,50,50))"
   ]
  },
  {
   "cell_type": "markdown",
   "id": "95286306",
   "metadata": {},
   "source": [
    "# GP Comparison"
   ]
  },
  {
   "cell_type": "code",
   "execution_count": 144,
   "id": "ba349033",
   "metadata": {},
   "outputs": [],
   "source": [
    "import GPy"
   ]
  },
  {
   "cell_type": "code",
   "execution_count": 145,
   "id": "8272dd37",
   "metadata": {},
   "outputs": [],
   "source": [
    "sensWindX = np.ravel_multi_index(m.getGridCoord(XGP).transpose(), np.asarray(m.u[0]).shape)\n",
    "sensWindY = np.ravel_multi_index(m.getGridCoord(XGP).transpose(), np.asarray(m.u[1]).shape)\n",
    "xwind=np.asarray(m.u).take(sensWindX)\n",
    "ywind=np.asarray(m.u).take(sensWindY)\n",
    "\n",
    "XGPwind = np.c_[XGP,xwind,ywind]"
   ]
  },
  {
   "cell_type": "code",
   "execution_count": 146,
   "id": "72d9e62d",
   "metadata": {
    "scrolled": true
   },
   "outputs": [],
   "source": [
    "kGP = GPy.kern.RBF(3, name=\"rbf\")"
   ]
  },
  {
   "cell_type": "code",
   "execution_count": 147,
   "id": "721ae26d",
   "metadata": {},
   "outputs": [
    {
     "data": {
      "text/html": [
       "<style type=\"text/css\">\n",
       ".pd{\n",
       "    font-family: \"Courier New\", Courier, monospace !important;\n",
       "    width: 100%;\n",
       "    padding: 3px;\n",
       "}\n",
       "</style>\n",
       "\n",
       "<p class=pd>\n",
       "<b>Model</b>: GP regression<br>\n",
       "<b>Objective</b>: 284.3196232418338<br>\n",
       "<b>Number of Parameters</b>: 3<br>\n",
       "<b>Number of Optimization Parameters</b>: 3<br>\n",
       "<b>Updates</b>: True<br>\n",
       "</p>\n",
       "<style type=\"text/css\">\n",
       ".tg  {font-family:\"Courier New\", Courier, monospace !important;padding:2px 3px;word-break:normal;border-collapse:collapse;border-spacing:0;border-color:#DCDCDC;margin:0px auto;width:100%;}\n",
       ".tg td{font-family:\"Courier New\", Courier, monospace !important;font-weight:bold;color:#444;background-color:#F7FDFA;border-style:solid;border-width:1px;overflow:hidden;word-break:normal;border-color:#DCDCDC;}\n",
       ".tg th{font-family:\"Courier New\", Courier, monospace !important;font-weight:normal;color:#fff;background-color:#26ADE4;border-style:solid;border-width:1px;overflow:hidden;word-break:normal;border-color:#DCDCDC;}\n",
       ".tg .tg-left{font-family:\"Courier New\", Courier, monospace !important;font-weight:normal;text-align:left;}\n",
       ".tg .tg-center{font-family:\"Courier New\", Courier, monospace !important;font-weight:normal;text-align:center;}\n",
       ".tg .tg-right{font-family:\"Courier New\", Courier, monospace !important;font-weight:normal;text-align:right;}\n",
       "</style>\n",
       "<table class=\"tg\"><tr><th><b>  GP_regression.         </b></th><th><b>value</b></th><th><b>constraints</b></th><th><b>priors</b></th></tr>\n",
       "<tr><td class=tg-left>  rbf.variance           </td><td class=tg-right>  1.0</td><td class=tg-center>    +ve    </td><td class=tg-center>      </td></tr>\n",
       "<tr><td class=tg-left>  rbf.lengthscale        </td><td class=tg-right>  1.0</td><td class=tg-center>    +ve    </td><td class=tg-center>      </td></tr>\n",
       "<tr><td class=tg-left>  Gaussian_noise.variance</td><td class=tg-right>  1.0</td><td class=tg-center>    +ve    </td><td class=tg-center>      </td></tr>\n",
       "</table>"
      ],
      "text/plain": [
       "<GPy.models.gp_regression.GPRegression at 0x2140bc0b850>"
      ]
     },
     "execution_count": 147,
     "metadata": {},
     "output_type": "execute_result"
    }
   ],
   "source": [
    "mGP = GPy.models.GPRegression(XGP, yTrain[:,None], kGP)\n",
    "mGP "
   ]
  },
  {
   "cell_type": "code",
   "execution_count": 148,
   "id": "b876be00",
   "metadata": {},
   "outputs": [
    {
     "data": {
      "text/html": [
       "<style type=\"text/css\">\n",
       ".pd{\n",
       "    font-family: \"Courier New\", Courier, monospace !important;\n",
       "    width: 100%;\n",
       "    padding: 3px;\n",
       "}\n",
       "</style>\n",
       "\n",
       "<p class=pd>\n",
       "<b>Model</b>: GP regression<br>\n",
       "<b>Objective</b>: 134.05751049056767<br>\n",
       "<b>Number of Parameters</b>: 3<br>\n",
       "<b>Number of Optimization Parameters</b>: 3<br>\n",
       "<b>Updates</b>: True<br>\n",
       "</p>\n",
       "<style type=\"text/css\">\n",
       ".tg  {font-family:\"Courier New\", Courier, monospace !important;padding:2px 3px;word-break:normal;border-collapse:collapse;border-spacing:0;border-color:#DCDCDC;margin:0px auto;width:100%;}\n",
       ".tg td{font-family:\"Courier New\", Courier, monospace !important;font-weight:bold;color:#444;background-color:#F7FDFA;border-style:solid;border-width:1px;overflow:hidden;word-break:normal;border-color:#DCDCDC;}\n",
       ".tg th{font-family:\"Courier New\", Courier, monospace !important;font-weight:normal;color:#fff;background-color:#26ADE4;border-style:solid;border-width:1px;overflow:hidden;word-break:normal;border-color:#DCDCDC;}\n",
       ".tg .tg-left{font-family:\"Courier New\", Courier, monospace !important;font-weight:normal;text-align:left;}\n",
       ".tg .tg-center{font-family:\"Courier New\", Courier, monospace !important;font-weight:normal;text-align:center;}\n",
       ".tg .tg-right{font-family:\"Courier New\", Courier, monospace !important;font-weight:normal;text-align:right;}\n",
       "</style>\n",
       "<table class=\"tg\"><tr><th><b>  GP_regression.         </b></th><th><b>                 value</b></th><th><b>constraints</b></th><th><b>priors</b></th></tr>\n",
       "<tr><td class=tg-left>  rbf.variance           </td><td class=tg-right>    18.282955100842628</td><td class=tg-center>    +ve    </td><td class=tg-center>      </td></tr>\n",
       "<tr><td class=tg-left>  rbf.lengthscale        </td><td class=tg-right>    2.9507174223976613</td><td class=tg-center>    +ve    </td><td class=tg-center>      </td></tr>\n",
       "<tr><td class=tg-left>  Gaussian_noise.variance</td><td class=tg-right>1.7592631718131264e-07</td><td class=tg-center>    +ve    </td><td class=tg-center>      </td></tr>\n",
       "</table>"
      ],
      "text/plain": [
       "<GPy.models.gp_regression.GPRegression at 0x2140bc0b850>"
      ]
     },
     "execution_count": 148,
     "metadata": {},
     "output_type": "execute_result"
    }
   ],
   "source": [
    "mGP.optimize()\n",
    "mGP"
   ]
  },
  {
   "cell_type": "code",
   "execution_count": 149,
   "id": "59b4a57f",
   "metadata": {},
   "outputs": [
    {
     "data": {
      "text/html": [
       "<style type=\"text/css\">\n",
       ".pd{\n",
       "    font-family: \"Courier New\", Courier, monospace !important;\n",
       "    width: 100%;\n",
       "    padding: 3px;\n",
       "}\n",
       "</style>\n",
       "\n",
       "<p class=pd>\n",
       "<b>Model</b>: GP regression<br>\n",
       "<b>Objective</b>: 284.3196232418338<br>\n",
       "<b>Number of Parameters</b>: 7<br>\n",
       "<b>Number of Optimization Parameters</b>: 7<br>\n",
       "<b>Updates</b>: True<br>\n",
       "</p>\n",
       "<style type=\"text/css\">\n",
       ".tg  {font-family:\"Courier New\", Courier, monospace !important;padding:2px 3px;word-break:normal;border-collapse:collapse;border-spacing:0;border-color:#DCDCDC;margin:0px auto;width:100%;}\n",
       ".tg td{font-family:\"Courier New\", Courier, monospace !important;font-weight:bold;color:#444;background-color:#F7FDFA;border-style:solid;border-width:1px;overflow:hidden;word-break:normal;border-color:#DCDCDC;}\n",
       ".tg th{font-family:\"Courier New\", Courier, monospace !important;font-weight:normal;color:#fff;background-color:#26ADE4;border-style:solid;border-width:1px;overflow:hidden;word-break:normal;border-color:#DCDCDC;}\n",
       ".tg .tg-left{font-family:\"Courier New\", Courier, monospace !important;font-weight:normal;text-align:left;}\n",
       ".tg .tg-center{font-family:\"Courier New\", Courier, monospace !important;font-weight:normal;text-align:center;}\n",
       ".tg .tg-right{font-family:\"Courier New\", Courier, monospace !important;font-weight:normal;text-align:right;}\n",
       "</style>\n",
       "<table class=\"tg\"><tr><th><b>  GP_regression.         </b></th><th><b>value</b></th><th><b>constraints</b></th><th><b>priors</b></th></tr>\n",
       "<tr><td class=tg-left>  rbf.variance           </td><td class=tg-right>  1.0</td><td class=tg-center>    +ve    </td><td class=tg-center>      </td></tr>\n",
       "<tr><td class=tg-left>  rbf.lengthscale        </td><td class=tg-right> (5,)</td><td class=tg-center>    +ve    </td><td class=tg-center>      </td></tr>\n",
       "<tr><td class=tg-left>  Gaussian_noise.variance</td><td class=tg-right>  1.0</td><td class=tg-center>    +ve    </td><td class=tg-center>      </td></tr>\n",
       "</table>"
      ],
      "text/plain": [
       "<GPy.models.gp_regression.GPRegression at 0x21404472df0>"
      ]
     },
     "execution_count": 149,
     "metadata": {},
     "output_type": "execute_result"
    }
   ],
   "source": [
    "kGPwind = GPy.kern.RBF(5,ARD='true')\n",
    "mGPwind = GPy.models.GPRegression(XGPwind, yTrain[:,None], kGPwind)\n",
    "mGPwind "
   ]
  },
  {
   "cell_type": "code",
   "execution_count": 150,
   "id": "2919f370",
   "metadata": {
    "scrolled": true
   },
   "outputs": [
    {
     "data": {
      "text/html": [
       "<style type=\"text/css\">\n",
       ".pd{\n",
       "    font-family: \"Courier New\", Courier, monospace !important;\n",
       "    width: 100%;\n",
       "    padding: 3px;\n",
       "}\n",
       "</style>\n",
       "\n",
       "<p class=pd>\n",
       "<b>Model</b>: GP regression<br>\n",
       "<b>Objective</b>: 114.10855156686195<br>\n",
       "<b>Number of Parameters</b>: 7<br>\n",
       "<b>Number of Optimization Parameters</b>: 7<br>\n",
       "<b>Updates</b>: True<br>\n",
       "</p>\n",
       "<style type=\"text/css\">\n",
       ".tg  {font-family:\"Courier New\", Courier, monospace !important;padding:2px 3px;word-break:normal;border-collapse:collapse;border-spacing:0;border-color:#DCDCDC;margin:0px auto;width:100%;}\n",
       ".tg td{font-family:\"Courier New\", Courier, monospace !important;font-weight:bold;color:#444;background-color:#F7FDFA;border-style:solid;border-width:1px;overflow:hidden;word-break:normal;border-color:#DCDCDC;}\n",
       ".tg th{font-family:\"Courier New\", Courier, monospace !important;font-weight:normal;color:#fff;background-color:#26ADE4;border-style:solid;border-width:1px;overflow:hidden;word-break:normal;border-color:#DCDCDC;}\n",
       ".tg .tg-left{font-family:\"Courier New\", Courier, monospace !important;font-weight:normal;text-align:left;}\n",
       ".tg .tg-center{font-family:\"Courier New\", Courier, monospace !important;font-weight:normal;text-align:center;}\n",
       ".tg .tg-right{font-family:\"Courier New\", Courier, monospace !important;font-weight:normal;text-align:right;}\n",
       "</style>\n",
       "<table class=\"tg\"><tr><th><b>  GP_regression.         </b></th><th><b>                 value</b></th><th><b>constraints</b></th><th><b>priors</b></th></tr>\n",
       "<tr><td class=tg-left>  rbf.variance           </td><td class=tg-right>    10.033508348581089</td><td class=tg-center>    +ve    </td><td class=tg-center>      </td></tr>\n",
       "<tr><td class=tg-left>  rbf.lengthscale        </td><td class=tg-right>                  (5,)</td><td class=tg-center>    +ve    </td><td class=tg-center>      </td></tr>\n",
       "<tr><td class=tg-left>  Gaussian_noise.variance</td><td class=tg-right>3.2465138987491824e-10</td><td class=tg-center>    +ve    </td><td class=tg-center>      </td></tr>\n",
       "</table>"
      ],
      "text/plain": [
       "<GPy.models.gp_regression.GPRegression at 0x21404472df0>"
      ]
     },
     "execution_count": 150,
     "metadata": {},
     "output_type": "execute_result"
    }
   ],
   "source": [
    "mGPwind.optimize()\n",
    "mGPwind"
   ]
  },
  {
   "cell_type": "code",
   "execution_count": 154,
   "id": "63ca3d83",
   "metadata": {},
   "outputs": [],
   "source": [
    "meanGP, Cov = mGP.predict_noiseless(m.coords.transpose().reshape(50*50*200,3), full_cov=False)\n",
    "meanGP=meanGP.reshape(50,50,200).T"
   ]
  },
  {
   "cell_type": "code",
   "execution_count": 155,
   "id": "a602172a",
   "metadata": {},
   "outputs": [
    {
     "data": {
      "text/plain": [
       "(200, 50, 50)"
      ]
     },
     "execution_count": 155,
     "metadata": {},
     "output_type": "execute_result"
    }
   ],
   "source": [
    "concTrain.shape"
   ]
  },
  {
   "cell_type": "code",
   "execution_count": 156,
   "id": "5b345002",
   "metadata": {
    "scrolled": true
   },
   "outputs": [
    {
     "data": {
      "text/plain": [
       "0.3179190802366853"
      ]
     },
     "execution_count": 156,
     "metadata": {},
     "output_type": "execute_result"
    }
   ],
   "source": [
    "np.mean((meanGP-concTrain)**2)"
   ]
  },
  {
   "cell_type": "code",
   "execution_count": 157,
   "id": "6a4b032c",
   "metadata": {},
   "outputs": [
    {
     "data": {
      "text/plain": [
       "1.4292835247864892"
      ]
     },
     "execution_count": 157,
     "metadata": {},
     "output_type": "execute_result"
    }
   ],
   "source": [
    "np.mean((concInfer-concTrain)**2)"
   ]
  },
  {
   "cell_type": "code",
   "execution_count": 68,
   "id": "5dab3ec7",
   "metadata": {},
   "outputs": [],
   "source": [
    "GPWindTest=np.c_[mPDE.coords.transpose().reshape(1000*50*50,3),mPDE.u[0].flatten(),mPDE.u[1].flatten()]"
   ]
  },
  {
   "cell_type": "code",
   "execution_count": 71,
   "id": "05bf7fab",
   "metadata": {},
   "outputs": [],
   "source": [
    "meanGPWind, CovWind = mGPwind.predict_noiseless(GPWindTest, full_cov=False)\n",
    "meanGPWind=meanGPWind.reshape(50,50,1000).T"
   ]
  },
  {
   "cell_type": "code",
   "execution_count": 72,
   "id": "d63c8ce0",
   "metadata": {},
   "outputs": [
    {
     "data": {
      "text/plain": [
       "0.03658151878964129"
      ]
     },
     "execution_count": 72,
     "metadata": {},
     "output_type": "execute_result"
    }
   ],
   "source": [
    "np.mean((meanGPWind-concTrain)**2)"
   ]
  },
  {
   "cell_type": "code",
   "execution_count": 73,
   "id": "6b173469",
   "metadata": {},
   "outputs": [
    {
     "data": {
      "text/plain": [
       "<matplotlib.colorbar.Colorbar at 0x2140db53d30>"
      ]
     },
     "execution_count": 73,
     "metadata": {},
     "output_type": "execute_result"
    },
    {
     "data": {
      "image/png": "[encoded data removed]",
      "text/plain": [
       "<Figure size 432x288 with 2 Axes>"
      ]
     },
     "metadata": {
      "needs_background": "light"
     },
     "output_type": "display_data"
    }
   ],
   "source": [
    "plt.imshow(meanGPWind[10])\n",
    "plt.colorbar()"
   ]
  },
  {
   "cell_type": "code",
   "execution_count": 74,
   "id": "1db46a0b",
   "metadata": {},
   "outputs": [
    {
     "data": {
      "text/plain": [
       "<matplotlib.colorbar.Colorbar at 0x2140a8e2130>"
      ]
     },
     "execution_count": 74,
     "metadata": {},
     "output_type": "execute_result"
    },
    {
     "data": {
      "image/png": "[encoded data removed]",
      "text/plain": [
       "<Figure size 432x288 with 2 Axes>"
      ]
     },
     "metadata": {
      "needs_background": "light"
     },
     "output_type": "display_data"
    }
   ],
   "source": [
    "plt.imshow(meanGP[10])\n",
    "plt.colorbar()"
   ]
  },
  {
   "cell_type": "code",
   "execution_count": 77,
   "id": "6604c435",
   "metadata": {},
   "outputs": [
    {
     "data": {
      "text/plain": [
       "<matplotlib.colorbar.Colorbar at 0x2140bacaac0>"
      ]
     },
     "execution_count": 77,
     "metadata": {},
     "output_type": "execute_result"
    },
    {
     "data": {
      "image/png": "[encoded data removed]",
      "text/plain": [
       "<Figure size 432x288 with 2 Axes>"
      ]
     },
     "metadata": {
      "needs_background": "light"
     },
     "output_type": "display_data"
    }
   ],
   "source": [
    "plt.imshow(concTrain[10])\n",
    "plt.colorbar()"
   ]
  },
  {
   "cell_type": "code",
   "execution_count": 78,
   "id": "12c41995",
   "metadata": {},
   "outputs": [
    {
     "data": {
      "text/plain": [
       "<matplotlib.colorbar.Colorbar at 0x2140bb67c10>"
      ]
     },
     "execution_count": 78,
     "metadata": {},
     "output_type": "execute_result"
    },
    {
     "data": {
      "image/png": "[encoded data removed]",
      "text/plain": [
       "<Figure size 432x288 with 2 Axes>"
      ]
     },
     "metadata": {
      "needs_background": "light"
     },
     "output_type": "display_data"
    }
   ],
   "source": [
    "plt.imshow(concInfer[10])\n",
    "plt.colorbar()"
   ]
  },
  {
   "cell_type": "code",
   "execution_count": null,
   "id": "c04e1a28",
   "metadata": {},
   "outputs": [],
   "source": [
    "SourceCoords = np.c_[m.coords.transpose().reshape(1000*50*50,3),sourceGT.transpose().flatten()]"
   ]
  },
  {
   "cell_type": "code",
   "execution_count": null,
   "id": "8484279d",
   "metadata": {
    "scrolled": true
   },
   "outputs": [],
   "source": [
    "ConcCoords = np.c_[m.coords.transpose().reshape(1000*50*50,3),concTrain.transpose().flatten()]"
   ]
  },
  {
   "cell_type": "code",
   "execution_count": null,
   "id": "e98cbeb8",
   "metadata": {
    "scrolled": true
   },
   "outputs": [],
   "source": [
    "ConcCoords"
   ]
  },
  {
   "cell_type": "code",
   "execution_count": null,
   "id": "8c0bf240",
   "metadata": {},
   "outputs": [],
   "source": [
    "concTrain[48,49,49]"
   ]
  },
  {
   "cell_type": "code",
   "execution_count": null,
   "id": "8ea70ddf",
   "metadata": {},
   "outputs": [],
   "source": [
    "concTrain[m.getGridCoord(XGP)].shape"
   ]
  },
  {
   "cell_type": "code",
   "execution_count": null,
   "id": "3dd359c6",
   "metadata": {},
   "outputs": [],
   "source": [
    "ravel = np.ravel_multi_index(m.getGridCoord(XGP).transpose(), np.asarray(concTrain).shape)\n",
    "\n",
    "Data=np.asarray(concTrain).take(ravel)\n",
    "noiseData = Data + np.random.normal(0,noiseSD,80)\n",
    "\n",
    "exactData =  np.c_[XGP,Data]\n",
    "noisyData = np.c_[XGP,noiseData]\n",
    "testData = np.c_[m.getGridCoord(XGP),Data]"
   ]
  },
  {
   "cell_type": "code",
   "execution_count": null,
   "id": "7f716e13",
   "metadata": {},
   "outputs": [],
   "source": [
    "np.savetxt(\"exactObservationsPDEa1b05\", exactData, delimiter=\",\")\n",
    "np.savetxt(\"noisyObservationsPDEa1b05\", noisyData, delimiter=\",\")\n",
    "np.savetxt(\"GroundTruthSourceCoordsPDEa1b05\", SourceCoords, delimiter=\",\")\n",
    "np.savetxt(\"GroundTruthConcCoordsPDEa1b05\",ConcCoords, delimiter=\",\")"
   ]
  },
  {
   "cell_type": "code",
   "execution_count": null,
   "id": "ff55358c",
   "metadata": {},
   "outputs": [],
   "source": [
    "exactData[3]"
   ]
  },
  {
   "cell_type": "code",
   "execution_count": null,
   "id": "4299c4f4",
   "metadata": {},
   "outputs": [],
   "source": [
    "noisyData[3]"
   ]
  },
  {
   "cell_type": "code",
   "execution_count": null,
   "id": "1f3caa5b",
   "metadata": {},
   "outputs": [],
   "source": [
    "testData[0]"
   ]
  },
  {
   "cell_type": "code",
   "execution_count": null,
   "id": "3e93cf66",
   "metadata": {},
   "outputs": [],
   "source": [
    "concTrain[5,5,18]"
   ]
  },
  {
   "cell_type": "code",
   "execution_count": null,
   "id": "81fe93f8",
   "metadata": {},
   "outputs": [],
   "source": [
    "testData[1]"
   ]
  },
  {
   "cell_type": "code",
   "execution_count": null,
   "id": "32ff1763",
   "metadata": {},
   "outputs": [],
   "source": [
    "testData[1][0:3]"
   ]
  },
  {
   "cell_type": "code",
   "execution_count": null,
   "id": "5cc1a9d0",
   "metadata": {},
   "outputs": [],
   "source": []
  },
  {
   "cell_type": "code",
   "execution_count": null,
   "id": "6362049d",
   "metadata": {},
   "outputs": [],
   "source": []
  }
 ],
 "metadata": {
  "kernelspec": {
   "display_name": "Python 3",
   "language": "python",
   "name": "python3"
  },
  "language_info": {
   "codemirror_mode": {
    "name": "ipython",
    "version": 3
   },
   "file_extension": ".py",
   "mimetype": "text/x-python",
   "name": "python",
   "nbconvert_exporter": "python",
   "pygments_lexer": "ipython3",
   "version": "3.8.8"
  }
 },
 "nbformat": 4,
 "nbformat_minor": 5
}
