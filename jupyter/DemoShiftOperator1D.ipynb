{
 "cells": [
  {
   "cell_type": "markdown",
   "id": "817cbce2",
   "metadata": {},
   "source": [
    "The AdjointSecondOrderODEModel seeks to infer the forcing functon of a linear second order differential equation of the form:\n",
    "\n",
    "\\begin{equation}\n",
    "-K_0\\frac{d^2x}{dt^2}+u\\frac{dx}{dt}+\\eta_0 x(t)=f(t)\n",
    "\\end{equation}\n",
    "with initial conditions:\n",
    "\n",
    "\\begin{equation}\n",
    "x(0)=0\n",
    "\\end{equation}\n",
    "and\n",
    "\\begin{equation}\n",
    "\\frac{dx(0)}{dt}=0\n",
    "\\end{equation}\n",
    "\n",
    "The forcing function, $f$ is approximated using Random Fourier Features so that\n",
    "\n",
    "\\begin{equation}\n",
    "f(t)\\sim \\sum_{i=1}^{M}\\phi_i(t)z_i\n",
    "\\end{equation}\n",
    "\n",
    "$f$ is then inferred using the adjoint method as in Gahungu et al. (2022)."
   ]
  },
  {
   "cell_type": "markdown",
   "id": "3dafafd2",
   "metadata": {},
   "source": [
    "# Import Modules"
   ]
  },
  {
   "cell_type": "code",
   "execution_count": 1,
   "id": "339426bc",
   "metadata": {},
   "outputs": [],
   "source": [
    "#numpy\n",
    "import numpy as np\n",
    "from numpy.random import multivariate_normal #For later example\n",
    "\n",
    "#advectionGP\n",
    "from advectionGP.models import AdjointShiftOperator1DModel as Model #Model module builds basic parts of the ODE problem, combines other classes into full model\n",
    "\n",
    "'''To use other models in the class, such as the Advection Diffusion Reaction model, \n",
    "replace \"AdjointSecondOrderODEModel\" in the line above with \"AdjointAdvectionDiffusionReaction\" model\n",
    "and adjust parameters as appropriate'''\n",
    "\n",
    "from advectionGP.sensors import FixedSensorModel #Builds sensor arrays to generate data for foward model or to generate observations for comparison\n",
    "from advectionGP.kernels import EQ #Generates exponentiated quadratic kernel approximation\n",
    "from advectionGP.test import TestKernels #Unit test model\n",
    "\n",
    "\n",
    "#Plotting tools\n",
    "import matplotlib.pyplot as plt"
   ]
  },
  {
   "cell_type": "markdown",
   "id": "1b76d2dc",
   "metadata": {},
   "source": [
    "# Establish Sensor Array"
   ]
  },
  {
   "cell_type": "markdown",
   "id": "ca854a15",
   "metadata": {},
   "source": [
    "Our sensor matrix, X, is an array that has an element for each observation, which consists of the start and end times of the observation period. "
   ]
  },
  {
   "cell_type": "code",
   "execution_count": 57,
   "id": "4592c66f",
   "metadata": {},
   "outputs": [],
   "source": [
    "avg=0.01 # time that an observation is taken for\n",
    "tlocL = np.linspace(1,9,10) # observation start times\n",
    "X= np.zeros((len(tlocL),2)) # initiate X\n",
    "# Build sensor locations\n",
    "X[:,0] = tlocL #lower time\n",
    "X[:,1] = X[:,0]+avg # upper time"
   ]
  },
  {
   "cell_type": "code",
   "execution_count": 58,
   "id": "a3152ee4",
   "metadata": {},
   "outputs": [
    {
     "data": {
      "image/png": "[encoded data removed]",
      "text/plain": [
       "<Figure size 360x360 with 1 Axes>"
      ]
     },
     "metadata": {
      "needs_background": "light"
     },
     "output_type": "display_data"
    }
   ],
   "source": [
    "plt.rcParams[\"figure.figsize\"] = (5,5)\n",
    "\n",
    "#plt.xlim(0,10)\n",
    "plt.title(\"Sensor Locations\",fontsize=24)\n",
    "plt.plot((X[:,1]-avg/2),np.zeros(len(X)),'xk',markersize=2,color='b');"
   ]
  },
  {
   "cell_type": "markdown",
   "id": "030a2f42",
   "metadata": {},
   "source": [
    "Using X with then initalise our sensor model, which is used to calculate filter functions."
   ]
  },
  {
   "cell_type": "code",
   "execution_count": 59,
   "id": "10993bc2",
   "metadata": {},
   "outputs": [],
   "source": [
    "sensors = FixedSensorModel(X,0) # establish sensor model arguments are sensor locations and spatial averaging (not applicable in 1D case so set to 0)"
   ]
  },
  {
   "cell_type": "markdown",
   "id": "dd6ac5e9",
   "metadata": {},
   "source": [
    "# Forward Model Example"
   ]
  },
  {
   "cell_type": "markdown",
   "id": "1f5d0737",
   "metadata": {},
   "source": [
    "Here we generate an artificial source and concentration field using the tools in advectionGP.models. The source is generated over a Nt=100 grid in time."
   ]
  },
  {
   "cell_type": "markdown",
   "id": "e3c63a13",
   "metadata": {},
   "source": [
    "### Establish forward model parameters"
   ]
  },
  {
   "cell_type": "code",
   "execution_count": 60,
   "id": "71f0f757",
   "metadata": {},
   "outputs": [],
   "source": [
    "k_0 = -0.5 #Diffusion coefficient\n",
    "u=1\n",
    "eta=5\n",
    "noiseSD = 0.05 #Observation noise\n",
    "N_feat=2000 # number of features used to approximate ground truth GP\n",
    "boundary = ([0],[10])# edges of the grid - in units of time\n",
    "kForward = EQ(0.6, 1.0) # generate EQ kernel arguments are lengthscale and variance\n",
    "res = [200] # grid size for time"
   ]
  },
  {
   "cell_type": "markdown",
   "id": "7ad73851",
   "metadata": {},
   "source": [
    "### Initialise model and calculate ground truth source, concentration and observations"
   ]
  },
  {
   "cell_type": "markdown",
   "id": "c053a954",
   "metadata": {},
   "source": [
    "Here we use a constant source at a fixed location, but include code (commented out) for a source term calculated by approximating a gaussian process with an EQ kernel. Any source of the right dimensions can be used to simulate the forward problem."
   ]
  },
  {
   "cell_type": "code",
   "execution_count": null,
   "id": "cd0f2f7d",
   "metadata": {},
   "outputs": [],
   "source": []
  },
  {
   "cell_type": "code",
   "execution_count": 61,
   "id": "4ab0f1ff",
   "metadata": {},
   "outputs": [],
   "source": [
    "a=100\n",
    "m = Model(resolution=res,boundary=boundary,N_feat=N_feat,noiseSD=noiseSD,kernel=kForward,sensormodel=sensors,a=a) #initiate PDE model to build concentration\n",
    "\n",
    "dt,dt2,Nt = m.getGridStepSize() # useful numbers!\n",
    "\n",
    "z=np.random.normal(0,1.0,N_feat) # Generate z to compute source\n",
    "sourceGT=m.computeSourceFromPhi(z,m.shiftCoords)# Compute ground truth source by approximating GP\n",
    "#sourceGT = np.ones(m.resolution)  # Example constant source\n",
    "#sourceGT=np.zeros(m.resolution)\n",
    "#sourceGT[10:50]=10\n",
    "#sourceGT[50:60]=10\n",
    "#sourceGT[80:90]=10\n",
    "#sourceGT[sourceGT<0]=0\n",
    "#concTrain=m.computeConcentration(sourceGT) # Compute concentration - runs ODE forward model\n",
    "#concTrain[concTrain<0]=0\n",
    "#m.concentration=concTrain\n",
    "\n",
    "#sourceGT=np.zeros(m.resolution+int(m.a/dt))\n",
    "#sourceGT[40:70]=10\n",
    "concTrain=m.computeConcentration(sourceGT)\n",
    "\n",
    "yTrain= m.computeObservations(addNoise='TRUE') # Compute observations with noise uses m.sensormodel for observation locations"
   ]
  },
  {
   "cell_type": "code",
   "execution_count": null,
   "id": "f875623e",
   "metadata": {},
   "outputs": [],
   "source": []
  },
  {
   "cell_type": "markdown",
   "id": "c3ad656b",
   "metadata": {},
   "source": [
    "# Inverse Problem Example"
   ]
  },
  {
   "cell_type": "code",
   "execution_count": 62,
   "id": "4d059abb",
   "metadata": {
    "scrolled": false
   },
   "outputs": [
    {
     "name": "stdout",
     "output_type": "stream",
     "text": [
      "Getting Grid Step Size\n",
      "Building X matrix\n",
      "Calculating Adjoints...\n",
      "9/10 \n",
      "Calculating Phis...\n",
      "999/1000 \n",
      "Calculating SS\n",
      "Inverting SS\n",
      "Computing meanZ\n",
      "Done\n"
     ]
    }
   ],
   "source": [
    "#%%timeit\n",
    "#boundary = ([0],[10])# edges of the grid - in units of time\n",
    "N_feat =1000 #Number of features used to infer the source\n",
    "kInverse = EQ(0.6, 1) # Initiate kernel for inverse problem\n",
    "mInfer = Model(resolution=res,boundary=boundary,N_feat=N_feat,noiseSD=noiseSD,kernel=kInverse,sensormodel=sensors,a=a) #Initiate new model for inference\n",
    "mInfer.computeModelRegressors() # Compute regressor matrix \n",
    "meanZ, covZ = mInfer.computeZDistribution(yTrain) # Infers z vector mean and covariance using regressor matrix\n",
    "sourceInfer = mInfer.computeSourceFromPhi(meanZ,mInfer.shiftCoords) # Generates estimated source using mean of the inferred distribution\n",
    "concInfer=mInfer.computeConcentration(sourceInfer) # Generates estimated concentration from inferred source\n"
   ]
  },
  {
   "cell_type": "code",
   "execution_count": 63,
   "id": "b0db9ceb",
   "metadata": {},
   "outputs": [
    {
     "data": {
      "text/plain": [
       "0.758080162952351"
      ]
     },
     "execution_count": 63,
     "metadata": {},
     "output_type": "execute_result"
    }
   ],
   "source": [
    "np.mean((sourceInfer-sourceGT)**2)#"
   ]
  },
  {
   "cell_type": "code",
   "execution_count": 64,
   "id": "832a9d0a",
   "metadata": {},
   "outputs": [
    {
     "data": {
      "text/plain": [
       "0.1259314682060039"
      ]
     },
     "execution_count": 64,
     "metadata": {},
     "output_type": "execute_result"
    }
   ],
   "source": [
    "np.mean((concTrain-concInfer)**2)"
   ]
  },
  {
   "cell_type": "code",
   "execution_count": 65,
   "id": "f6985cde",
   "metadata": {
    "scrolled": false
   },
   "outputs": [
    {
     "data": {
      "image/png": "[encoded data removed]",
      "text/plain": [
       "<Figure size 360x360 with 1 Axes>"
      ]
     },
     "metadata": {
      "needs_background": "light"
     },
     "output_type": "display_data"
    },
    {
     "data": {
      "image/png": "[encoded data removed]",
      "text/plain": [
       "<Figure size 360x360 with 1 Axes>"
      ]
     },
     "metadata": {
      "needs_background": "light"
     },
     "output_type": "display_data"
    }
   ],
   "source": [
    "source_samples = []\n",
    "conc_samples=[]    \n",
    "for z_samp in np.random.multivariate_normal(meanZ, covZ,10):\n",
    "    source_samples.append(mInfer.computeSourceFromPhi(z_samp,mInfer.shiftCoords))\n",
    "    conc_samples.append(mInfer.computeConcentration(mInfer.computeSourceFromPhi(z_samp,mInfer.shiftCoords)))\n",
    "source_samples=np.array(source_samples)\n",
    "conc_samples=np.array(conc_samples)\n",
    "\n",
    "source_lower_ci = np.percentile(source_samples,2.5,0)\n",
    "source_upper_ci = np.percentile(source_samples,97.5,0)\n",
    "source_mean = np.percentile(source_samples,50,0)\n",
    "\n",
    "conc_lower_ci = np.percentile(conc_samples,2.5,0)\n",
    "conc_upper_ci = np.percentile(conc_samples,97.5,0)\n",
    "conc_mean = np.percentile(conc_samples,50,0)\n",
    "\n",
    "xtest=np.arange(Nt+int(a/dt))\n",
    "xtest=mInfer.shiftCoords.flatten()\n",
    "#plt.figure(figsize=(15, 10))\n",
    "\n",
    "plt.plot(xtest,sourceInfer,'b-')\n",
    "plt.plot(xtest,sourceGT,'r--')\n",
    "\n",
    "#plt.plot(xtest,source_samples.T,'g-',alpha=0.3)\n",
    "#plt.fill_between(xtest,s_z_l,s_z_upper,alpha=0.5)\n",
    "plt.fill_between(xtest,source_lower_ci,source_upper_ci,alpha=0.5)\n",
    "plt.legend(labels=[\"estimated source term\",\"True source term\"])\n",
    "plt.title(\"Source function \")\n",
    "plt.xlabel(\"Input, t\")\n",
    "plt.ylabel(\"output, f(t)\")\n",
    "#plt.ylim([-5,5])\n",
    "plt.xlim([0,10])\n",
    "plt.savefig('NumberFeature%d.pdf' % N_feat)\n",
    "plt.show()\n",
    "\n",
    "#plt.figure(figsize=(15, 10))\n",
    "xtest=np.arange(Nt)\n",
    "xtest=mInfer.coords.flatten()\n",
    "plt.plot(xtest,concInfer,'b-')\n",
    "plt.plot(xtest,concTrain,'r--')\n",
    "\n",
    "#plt.plot(xtest,source_samples.T,'g-',alpha=0.3)\n",
    "#plt.fill_between(xtest,s_z_l,s_z_upper,alpha=0.5)\n",
    "plt.fill_between(xtest,conc_lower_ci,conc_upper_ci,alpha=0.5)\n",
    "plt.legend(labels=[\"estimated concentration\",\"True concentration\"])\n",
    "plt.title(\"Concentration\")\n",
    "plt.xlabel(\"Input, t\")\n",
    "plt.ylabel(\"output, f(t)\")\n",
    "#plt.ylim([-5,5])\n",
    "plt.xlim([0,10])\n",
    "plt.savefig('NumberFeature%d.pdf' % N_feat)\n",
    "plt.show()"
   ]
  },
  {
   "cell_type": "code",
   "execution_count": 55,
   "id": "a077bdba",
   "metadata": {
    "scrolled": true
   },
   "outputs": [
    {
     "data": {
      "text/plain": [
       "[<matplotlib.lines.Line2D at 0x1591eb490a0>]"
      ]
     },
     "execution_count": 55,
     "metadata": {},
     "output_type": "execute_result"
    },
    {
     "data": {
      "image/png": "[encoded data removed]",
      "text/plain": [
       "<Figure size 360x360 with 1 Axes>"
      ]
     },
     "metadata": {
      "needs_background": "light"
     },
     "output_type": "display_data"
    }
   ],
   "source": [
    "plt.plot(concTrain)"
   ]
  },
  {
   "cell_type": "code",
   "execution_count": 56,
   "id": "3b6a649b",
   "metadata": {
    "scrolled": true
   },
   "outputs": [
    {
     "data": {
      "text/plain": [
       "[<matplotlib.lines.Line2D at 0x15920c94340>]"
      ]
     },
     "execution_count": 56,
     "metadata": {},
     "output_type": "execute_result"
    },
    {
     "data": {
      "image/png": "[encoded data removed]",
      "text/plain": [
       "<Figure size 360x360 with 1 Axes>"
      ]
     },
     "metadata": {
      "needs_background": "light"
     },
     "output_type": "display_data"
    }
   ],
   "source": [
    "plt.plot(sourceGT)"
   ]
  },
  {
   "cell_type": "code",
   "execution_count": 18,
   "id": "f02b26d3",
   "metadata": {},
   "outputs": [
    {
     "data": {
      "text/plain": [
       "[<matplotlib.lines.Line2D at 0x1591edb8e20>]"
      ]
     },
     "execution_count": 18,
     "metadata": {},
     "output_type": "execute_result"
    },
    {
     "data": {
      "image/png": "[encoded data removed]",
      "text/plain": [
       "<Figure size 360x360 with 1 Axes>"
      ]
     },
     "metadata": {
      "needs_background": "light"
     },
     "output_type": "display_data"
    }
   ],
   "source": [
    "plt.plot(sourceInfer)"
   ]
  },
  {
   "cell_type": "code",
   "execution_count": 19,
   "id": "077d70c3",
   "metadata": {},
   "outputs": [
    {
     "data": {
      "text/plain": [
       "array([[0.        , 0.01      ],\n",
       "       [0.52105263, 0.53105263],\n",
       "       [1.04210526, 1.05210526],\n",
       "       [1.56315789, 1.57315789],\n",
       "       [2.08421053, 2.09421053],\n",
       "       [2.60526316, 2.61526316],\n",
       "       [3.12631579, 3.13631579],\n",
       "       [3.64736842, 3.65736842],\n",
       "       [4.16842105, 4.17842105],\n",
       "       [4.68947368, 4.69947368],\n",
       "       [5.21052632, 5.22052632],\n",
       "       [5.73157895, 5.74157895],\n",
       "       [6.25263158, 6.26263158],\n",
       "       [6.77368421, 6.78368421],\n",
       "       [7.29473684, 7.30473684],\n",
       "       [7.81578947, 7.82578947],\n",
       "       [8.33684211, 8.34684211],\n",
       "       [8.85789474, 8.86789474],\n",
       "       [9.37894737, 9.38894737],\n",
       "       [9.9       , 9.91      ]])"
      ]
     },
     "execution_count": 19,
     "metadata": {},
     "output_type": "execute_result"
    }
   ],
   "source": [
    "X"
   ]
  },
  {
   "cell_type": "code",
   "execution_count": 20,
   "id": "22109bc7",
   "metadata": {
    "scrolled": true
   },
   "outputs": [
    {
     "ename": "TypeError",
     "evalue": "__init__() got an unexpected keyword argument 'k_0'",
     "output_type": "error",
     "traceback": [
      "\u001b[1;31m---------------------------------------------------------------------------\u001b[0m",
      "\u001b[1;31mTypeError\u001b[0m                                 Traceback (most recent call last)",
      "\u001b[1;32m<ipython-input-20-3f8cdde2139e>\u001b[0m in \u001b[0;36m<module>\u001b[1;34m\u001b[0m\n\u001b[0;32m      2\u001b[0m \u001b[0mN_feat\u001b[0m \u001b[1;33m=\u001b[0m\u001b[1;36m10000\u001b[0m \u001b[1;31m#Number of features used to infer the source\u001b[0m\u001b[1;33m\u001b[0m\u001b[1;33m\u001b[0m\u001b[0m\n\u001b[0;32m      3\u001b[0m \u001b[0mkInverse\u001b[0m \u001b[1;33m=\u001b[0m \u001b[0mEQ\u001b[0m\u001b[1;33m(\u001b[0m\u001b[1;36m0.6\u001b[0m\u001b[1;33m,\u001b[0m \u001b[1;36m1\u001b[0m\u001b[1;33m)\u001b[0m \u001b[1;31m# Initiate kernel for inverse problem\u001b[0m\u001b[1;33m\u001b[0m\u001b[1;33m\u001b[0m\u001b[0m\n\u001b[1;32m----> 4\u001b[1;33m \u001b[0mmInfer\u001b[0m \u001b[1;33m=\u001b[0m \u001b[0mModel\u001b[0m\u001b[1;33m(\u001b[0m\u001b[0mresolution\u001b[0m\u001b[1;33m=\u001b[0m\u001b[0mres\u001b[0m\u001b[1;33m,\u001b[0m\u001b[0mboundary\u001b[0m\u001b[1;33m=\u001b[0m\u001b[0mboundary\u001b[0m\u001b[1;33m,\u001b[0m\u001b[0mN_feat\u001b[0m\u001b[1;33m=\u001b[0m\u001b[0mN_feat\u001b[0m\u001b[1;33m,\u001b[0m\u001b[0mnoiseSD\u001b[0m\u001b[1;33m=\u001b[0m\u001b[0mnoiseSD\u001b[0m\u001b[1;33m,\u001b[0m\u001b[0mkernel\u001b[0m\u001b[1;33m=\u001b[0m\u001b[0mkInverse\u001b[0m\u001b[1;33m,\u001b[0m\u001b[0msensormodel\u001b[0m\u001b[1;33m=\u001b[0m\u001b[0msensors\u001b[0m\u001b[1;33m,\u001b[0m\u001b[0mk_0\u001b[0m\u001b[1;33m=\u001b[0m\u001b[0mk_0\u001b[0m\u001b[1;33m,\u001b[0m\u001b[0mu\u001b[0m\u001b[1;33m=\u001b[0m\u001b[0mu\u001b[0m\u001b[1;33m,\u001b[0m\u001b[0meta\u001b[0m\u001b[1;33m=\u001b[0m\u001b[0meta\u001b[0m\u001b[1;33m)\u001b[0m \u001b[1;31m#Initiate new model for inference\u001b[0m\u001b[1;33m\u001b[0m\u001b[1;33m\u001b[0m\u001b[0m\n\u001b[0m\u001b[0;32m      5\u001b[0m \u001b[0mmInfer\u001b[0m\u001b[1;33m.\u001b[0m\u001b[0mcomputeModelRegressors\u001b[0m\u001b[1;33m(\u001b[0m\u001b[0mcompact\u001b[0m\u001b[1;33m=\u001b[0m\u001b[1;32mTrue\u001b[0m\u001b[1;33m)\u001b[0m \u001b[1;31m# Compute regressor matrix\u001b[0m\u001b[1;33m\u001b[0m\u001b[1;33m\u001b[0m\u001b[0m\n\u001b[0;32m      6\u001b[0m \u001b[0mmeanZ\u001b[0m\u001b[1;33m,\u001b[0m \u001b[0mcovZ\u001b[0m \u001b[1;33m=\u001b[0m \u001b[0mmInfer\u001b[0m\u001b[1;33m.\u001b[0m\u001b[0mcomputeZDistribution\u001b[0m\u001b[1;33m(\u001b[0m\u001b[0myTrain\u001b[0m\u001b[1;33m)\u001b[0m \u001b[1;31m# Infers z vector mean and covariance using regressor matrix\u001b[0m\u001b[1;33m\u001b[0m\u001b[1;33m\u001b[0m\u001b[0m\n",
      "\u001b[1;31mTypeError\u001b[0m: __init__() got an unexpected keyword argument 'k_0'"
     ]
    }
   ],
   "source": [
    "#%%timeit\n",
    "N_feat =10000 #Number of features used to infer the source\n",
    "kInverse = EQ(0.6, 1) # Initiate kernel for inverse problem\n",
    "mInfer = Model(resolution=res,boundary=boundary,N_feat=N_feat,noiseSD=noiseSD,kernel=kInverse,sensormodel=sensors,k_0=k_0,u=u,eta=eta) #Initiate new model for inference\n",
    "mInfer.computeModelRegressors(compact=True) # Compute regressor matrix \n",
    "meanZ, covZ = mInfer.computeZDistribution(yTrain) # Infers z vector mean and covariance using regressor matrix\n",
    "sourceInfer = mInfer.computeSourceFromPhi(meanZ,compact=True) # Generates estimated source using mean of the inferred distribution\n",
    "concInfer=mInfer.computeConcentration(sourceInfer) # Generates estimated concentration from inferred source\n"
   ]
  },
  {
   "cell_type": "code",
   "execution_count": null,
   "id": "80b0b730",
   "metadata": {},
   "outputs": [],
   "source": [
    "np.mean((sourceInfer-sourceGT)**2)"
   ]
  },
  {
   "cell_type": "code",
   "execution_count": null,
   "id": "7b75ff8e",
   "metadata": {},
   "outputs": [],
   "source": [
    "np.mean((concTrain-concInfer)**2)"
   ]
  },
  {
   "cell_type": "code",
   "execution_count": null,
   "id": "23d7c9cd",
   "metadata": {},
   "outputs": [],
   "source": [
    "source_samples = []\n",
    "conc_samples=[]    \n",
    "for z_samp in np.random.multivariate_normal(meanZ, covZ,200):\n",
    "    source_samples.append(mInfer.computeSourceFromPhi(z_samp,compact=True))\n",
    "    conc_samples.append(mInfer.computeConcentration(mInfer.computeSourceFromPhi(z_samp,compact=True)))\n",
    "source_samples=np.array(source_samples)\n",
    "conc_samples=np.array(conc_samples)\n",
    "\n",
    "source_lower_ci = np.percentile(source_samples,2.5,0)\n",
    "source_upper_ci = np.percentile(source_samples,97.5,0)\n",
    "source_mean = np.percentile(source_samples,50,0)\n",
    "\n",
    "conc_lower_ci = np.percentile(conc_samples,2.5,0)\n",
    "conc_upper_ci = np.percentile(conc_samples,97.5,0)\n",
    "conc_mean = np.percentile(conc_samples,50,0)\n",
    "\n",
    "xtest=np.arange(Nt)\n",
    "\n",
    "#plt.figure(figsize=(15, 10))\n",
    "\n",
    "plt.plot(xtest,sourceInfer,'b-')\n",
    "plt.plot(xtest,sourceGT,'r--')\n",
    "\n",
    "#plt.plot(xtest,source_samples.T,'g-',alpha=0.3)\n",
    "#plt.fill_between(xtest,s_z_l,s_z_upper,alpha=0.5)\n",
    "plt.fill_between(xtest,source_lower_ci,source_upper_ci,alpha=0.5)\n",
    "plt.legend(labels=[\"estimated source term\",\"True source term\"])\n",
    "plt.title(\"Source function \")\n",
    "plt.xlabel(\"Input, t\")\n",
    "plt.ylabel(\"output, f(t)\")\n",
    "#plt.ylim([-5,5])\n",
    "plt.savefig('NumberFeature%d.pdf' % N_feat)\n",
    "plt.show()\n",
    "\n",
    "#plt.figure(figsize=(15, 10))\n",
    "\n",
    "plt.plot(xtest,concInfer,'b-')\n",
    "plt.plot(xtest,concTrain,'r--')\n",
    "\n",
    "#plt.plot(xtest,source_samples.T,'g-',alpha=0.3)\n",
    "#plt.fill_between(xtest,s_z_l,s_z_upper,alpha=0.5)\n",
    "plt.fill_between(xtest,conc_lower_ci,conc_upper_ci,alpha=0.5)\n",
    "plt.legend(labels=[\"estimated concentration\",\"True concentration\"])\n",
    "plt.title(\"Concentration\")\n",
    "plt.xlabel(\"Input, t\")\n",
    "plt.ylabel(\"output, f(t)\")\n",
    "#plt.ylim([-5,5])\n",
    "plt.savefig('NumberFeature%d.pdf' % N_feat)\n",
    "plt.show()"
   ]
  },
  {
   "cell_type": "code",
   "execution_count": null,
   "id": "0c2c6bfd",
   "metadata": {},
   "outputs": [],
   "source": [
    "for h in m.kernel.getPhi1DCompact(m.mu,m.coords):\n",
    "    plt.plot(h)"
   ]
  },
  {
   "cell_type": "code",
   "execution_count": null,
   "id": "140a1e8f",
   "metadata": {},
   "outputs": [],
   "source": [
    "for h in m.sensormodel.getHs1D(m):\n",
    "    print(np.sum(h)*dt)"
   ]
  },
  {
   "cell_type": "code",
   "execution_count": null,
   "id": "51d7f5d6",
   "metadata": {},
   "outputs": [],
   "source": [
    "ls = np.linspace(0.1,1,10)\n",
    "sigma2s = np.linspace(1,10,9)\n",
    "mInfer.kernel.sigma2"
   ]
  },
  {
   "cell_type": "code",
   "execution_count": null,
   "id": "efebb3c7",
   "metadata": {},
   "outputs": [],
   "source": [
    "minArray = np.zeros((10,2))\n",
    "\n",
    "for l in range(10):\n",
    "\n",
    "    mInfer = Model(resolution=res,boundary=boundary,N_feat=N_feat,noiseSD=noiseSD,kernel=kInverse,sensormodel=sensors,k_0=k_0,u=u,eta=eta) #Initiate new model for inference\n",
    "    MSEsource = np.zeros((len(ls),len(sigma2s)))\n",
    "    reps=100\n",
    "\n",
    "    for i,length in enumerate(ls):\n",
    "        for j, var in enumerate(sigma2s):\n",
    "            mInfer.kernel.l2=np.array([length])\n",
    "            mInfer.kernel.sigma2=var\n",
    "            mInfer.computeModelRegressors() # Compute regressor matrix \n",
    "            meanZ, covZ = mInfer.computeZDistribution(yTrain) # Infers z vector mean and covariance using regressor matrix\n",
    "            for k in range(reps):\n",
    "                z = np.random.multivariate_normal(meanZ,covZ)\n",
    "                sourceInfer = mInfer.computeSourceFromPhi(z) # Generates estimated source using inferred distribution\n",
    "                MSEsource[i,j]=MSEsource[i,j]+(np.square(np.subtract(sourceGT,sourceInfer))).mean()\n",
    "    MSEsource = MSEsource/reps\n",
    "    minIndex=np.where(MSEsource==np.min(MSEsource))\n",
    "    minArray[l,:] = np.array((ls[minIndex[0]],sigma2s[minIndex[1]])).flatten()\n",
    "    "
   ]
  },
  {
   "cell_type": "code",
   "execution_count": null,
   "id": "88561f67",
   "metadata": {},
   "outputs": [],
   "source": [
    "plt.imshow(MSEsource[1::,:])\n",
    "plt.colorbar()"
   ]
  },
  {
   "cell_type": "code",
   "execution_count": null,
   "id": "b43c7210",
   "metadata": {
    "scrolled": true
   },
   "outputs": [],
   "source": [
    "minArray[l,:] = np.array((ls[minIndex[0]],sigma2s[minIndex[1]])).flatten()\n",
    "np.percentile(minArray,50,0)"
   ]
  },
  {
   "cell_type": "code",
   "execution_count": null,
   "id": "a6bd2258",
   "metadata": {},
   "outputs": [],
   "source": [
    "np.mean(minArray,0)"
   ]
  },
  {
   "cell_type": "code",
   "execution_count": null,
   "id": "fe06b574",
   "metadata": {},
   "outputs": [],
   "source": [
    "ls"
   ]
  },
  {
   "cell_type": "code",
   "execution_count": null,
   "id": "0ff5fa23",
   "metadata": {},
   "outputs": [],
   "source": [
    "minIndex=np.where(MSEsource==np.min(MSEsource))"
   ]
  },
  {
   "cell_type": "code",
   "execution_count": null,
   "id": "a1fb6e87",
   "metadata": {},
   "outputs": [],
   "source": [
    "print(ls[minIndex[0]],sigma2s[minIndex[1]])"
   ]
  },
  {
   "cell_type": "code",
   "execution_count": null,
   "id": "682bba7f",
   "metadata": {},
   "outputs": [],
   "source": [
    "np.linspace(1,5,9)"
   ]
  },
  {
   "cell_type": "code",
   "execution_count": null,
   "id": "fdc90b08",
   "metadata": {},
   "outputs": [],
   "source": [
    "k_0s = -np.linspace(0.1,1,10)\n",
    "etas = np.linspace(1,10,10)\n",
    "us = np.linspace(0.1,5,10)\n"
   ]
  },
  {
   "cell_type": "code",
   "execution_count": null,
   "id": "f5a742e5",
   "metadata": {},
   "outputs": [],
   "source": [
    "minArray = np.zeros((10,3))\n",
    "\n",
    "for l in range(10):\n",
    "\n",
    "   \n",
    "    MSEsource = np.zeros((len(k_0s),len(us),len(etas)))\n",
    "    reps=100\n",
    "    for k, k_0 in enumerate(k_0s):\n",
    "        for i,u in enumerate(us):\n",
    "            for j, eta in enumerate(etas):\n",
    "                mInfer = Model(resolution=res,boundary=boundary,N_feat=N_feat,noiseSD=noiseSD,kernel=kInverse,sensormodel=sensors,k_0=k_0,u=u,eta=eta) #Initiate new model for inference\n",
    "                mInfer.computeModelRegressors() # Compute regressor matrix \n",
    "                meanZ, covZ = mInfer.computeZDistribution(yTrain) # Infers z vector mean and covariance using regressor matrix\n",
    "                for m in range(reps):\n",
    "                    z = np.random.multivariate_normal(meanZ,covZ)\n",
    "                    sourceInfer = mInfer.computeSourceFromPhi(z) # Generates estimated source using inferred distribution\n",
    "                    MSEsource[k,i,j]=MSEsource[k,i,j]+(np.square(np.subtract(sourceGT,sourceInfer))).mean()\n",
    "                print(k,i,j)\n",
    "    MSEsource = MSEsource/reps\n",
    "    minIndex=np.where(MSEsource==np.min(MSEsource))\n",
    "    minArray[l,:] = np.array((k_0s[minIndex[0]],us[minIndex[1]],etas[minIndex[2]])).flatten()"
   ]
  },
  {
   "cell_type": "code",
   "execution_count": null,
   "id": "098332b8",
   "metadata": {},
   "outputs": [],
   "source": [
    "k_0s"
   ]
  },
  {
   "cell_type": "code",
   "execution_count": null,
   "id": "bfaa299e",
   "metadata": {},
   "outputs": [],
   "source": [
    "minIndex"
   ]
  },
  {
   "cell_type": "code",
   "execution_count": null,
   "id": "04fdc9f0",
   "metadata": {},
   "outputs": [],
   "source": [
    "MSEsource"
   ]
  },
  {
   "cell_type": "code",
   "execution_count": null,
   "id": "fa055679",
   "metadata": {},
   "outputs": [],
   "source": [
    "minArray"
   ]
  },
  {
   "cell_type": "code",
   "execution_count": null,
   "id": "900a03be",
   "metadata": {},
   "outputs": [],
   "source": [
    "np.mean(minArray,0)"
   ]
  },
  {
   "cell_type": "code",
   "execution_count": null,
   "id": "6a4054d6",
   "metadata": {},
   "outputs": [],
   "source": [
    "import GPyOpt\n",
    "from GPyOpt.methods import BayesianOptimization\n",
    "reps=100\n",
    "var=noiseSD**2\n",
    "m1 = Model(resolution=res,boundary=boundary,N_feat=N_feat,noiseSD=noiseSD,kernel=kInverse,sensormodel=sensors,k_0=k_0,u=u,eta=eta) #Initiate new model for inference\n",
    "def obj_funcAllParams(x):\n",
    "    x1 = x[:, 0]\n",
    "    x2 = x[:, 1]\n",
    "    x3 = x[:, 2]\n",
    "    x4 = x[:, 3]\n",
    "    x5 = x[:, 4]\n",
    "    llObs = 0\n",
    "    m1.kernel.l2=x1\n",
    "    m1.kernel.sigma2=x2\n",
    "    m1.k_0=-x3\n",
    "    m1.u=x4\n",
    "    m1.eta=x5\n",
    "    X1 = m1.computeModelRegressors() # Compute regressor matrix\n",
    "    meanZ, covZ = m1.computeZDistribution(yTrain) # Infers z vector mean and covariance\n",
    "    for j in range(reps):\n",
    "        z = np.random.multivariate_normal(meanZ,covZ)\n",
    "        source = m1.computeSourceFromPhi(z) # Generates estimated source using inferred distribution\n",
    "        conc=m1.computeConcentration(source) # Compute test concentration\n",
    "        yInfer= m1.computeObservations() # Compute observations with noise\n",
    "        llObs += -0.5*np.sum((np.square(np.subtract(yTrain,yInfer))/var)+0.5*np.log(var))\n",
    "\n",
    "    llObs = llObs/reps\n",
    "    return(-llObs)\n",
    "\n",
    "def obj_funcKeyParams(x):\n",
    "    x3 = x[:, 0]\n",
    "    x4 = x[:, 1]\n",
    "    x5 = x[:, 2]\n",
    "    llObs = 0\n",
    "    m1.k_0=-x3\n",
    "    m1.u=x4\n",
    "    m1.eta=x5\n",
    "    X1 = m1.computeModelRegressors() # Compute regressor matrix\n",
    "    meanZ, covZ = m1.computeZDistribution(yTrain) # Infers z vector mean and covariance\n",
    "    for j in range(reps):\n",
    "        z = np.random.multivariate_normal(meanZ,covZ)\n",
    "        source = m1.computeSourceFromPhi(z) # Generates estimated source using inferred distribution\n",
    "        conc=m1.computeConcentration(source) # Compute test concentration\n",
    "        yInfer= m1.computeObservations() # Compute observations with noise\n",
    "        llObs += -0.5*np.sum((np.square(np.subtract(yTrain,yInfer))/var)+0.5*np.log(var))\n",
    "\n",
    "    llObs = llObs/reps\n",
    "    return(-llObs)\n",
    "\n",
    "def obj_funcKernelParams(x):\n",
    "    x1 = x[:, 0]\n",
    "    x2 = x[:, 1]\n",
    "    llObs = 0\n",
    "    m1.kernel.l2=x1\n",
    "    m1.kernel.sigma2=x2\n",
    "    X1 = m1.computeModelRegressors() # Compute regressor matrix\n",
    "    meanZ, covZ = m1.computeZDistribution(yTrain) # Infers z vector mean and covariance\n",
    "    for j in range(reps):\n",
    "        z = np.random.multivariate_normal(meanZ,covZ)\n",
    "        source = m1.computeSourceFromPhi(z) # Generates estimated source using inferred distribution\n",
    "        conc=m1.computeConcentration(source) # Compute test concentration\n",
    "        yInfer= m1.computeObservations() # Compute observations with noise\n",
    "        llObs += -0.5*np.sum((np.square(np.subtract(yTrain,yInfer))/var)+0.5*np.log(var))\n",
    "\n",
    "    llObs = llObs/reps\n",
    "    return(-llObs)\n"
   ]
  },
  {
   "cell_type": "code",
   "execution_count": null,
   "id": "1ef393d9",
   "metadata": {},
   "outputs": [],
   "source": [
    "boundsAll = [{'name': 'var_1', 'type': 'continuous', 'domain': (0.1,1)},\n",
    "            {'name': 'var_2', 'type': 'continuous', 'domain': (0.1,10)},\n",
    "            {'name': 'var_3', 'type': 'continuous', 'domain': (0.1,10)},\n",
    "            {'name': 'var_4', 'type': 'continuous', 'domain': (0.1,10)},\n",
    "            {'name': 'var_5', 'type': 'continuous', 'domain': (0.1,10)}]\n",
    "\n",
    "boundsKey = [{'name': 'var_3', 'type': 'continuous', 'domain': (0.1,10)},\n",
    "            {'name': 'var_4', 'type': 'continuous', 'domain': (0.1,10)},\n",
    "            {'name': 'var_5', 'type': 'continuous', 'domain': (0.1,10)}]\n",
    "\n",
    "boundsKernel = [{'name': 'var_1', 'type': 'continuous', 'domain': (0.1,1)},\n",
    "            {'name': 'var_2', 'type': 'continuous', 'domain': (0.1,1)},]\n",
    "\n",
    "\n",
    "constraintsAll = [{'name': 'constr_1', 'constraint': '(x[:,3]**2)-4*x[:,2]*x[:,4]'}]\n",
    "constraintsKey = [{'name': 'constr_1', 'constraint': '(x[:,1]**2)-4*x[:,0]*x[:,2]'}]\n",
    "maxiter = 100\n",
    "\n",
    "\n",
    "\n",
    "\n"
   ]
  },
  {
   "cell_type": "code",
   "execution_count": null,
   "id": "adf59dc1",
   "metadata": {},
   "outputs": [],
   "source": [
    "#Determine the subset where we are allowed to sample\n",
    "feasible_region = GPyOpt.Design_space(space = boundsAll, constraints = constraintsAll) \n",
    "initial_design = GPyOpt.experiment_design.initial_design('random', feasible_region, 10)\n",
    "\n",
    "#CHOOSE the objective\n",
    "objective = GPyOpt.core.task.SingleObjective(obj_funcAllParams)\n",
    "\n",
    "# CHOOSE the model type\n",
    "model = GPyOpt.models.GPModel(exact_feval=True,optimize_restarts=10,verbose=False)\n",
    "\n",
    "#CHOOSE the acquisition optimizer\n",
    "aquisition_optimizer = GPyOpt.optimization.AcquisitionOptimizer(feasible_region)\n",
    "\n",
    "#CHOOSE the type of acquisition\n",
    "acquisition = GPyOpt.acquisitions.AcquisitionEI(model, feasible_region, optimizer=aquisition_optimizer)\n",
    "\n",
    "#CHOOSE a collection method\n",
    "evaluator = GPyOpt.core.evaluators.Sequential(acquisition)"
   ]
  },
  {
   "cell_type": "code",
   "execution_count": null,
   "id": "50ff8fb6",
   "metadata": {},
   "outputs": [],
   "source": [
    "# Now create BO object\n",
    "bo = GPyOpt.methods.ModularBayesianOptimization(model, feasible_region, objective, acquisition, evaluator, initial_design)"
   ]
  },
  {
   "cell_type": "code",
   "execution_count": null,
   "id": "40e91bd8",
   "metadata": {},
   "outputs": [],
   "source": [
    "# --- Stop conditions\n",
    "max_time  = None \n",
    "max_iter  = 300\n",
    "tolerance = 1e-8     # distance between two consecutive observations \n",
    "                     # if we're sampling a region in such fine detail then it is likely that we've found the true min.\n",
    "\n",
    "# Run the optimization                                                  \n",
    "bo.run_optimization(max_iter = max_iter, max_time = max_time, eps = tolerance, verbosity=False) \n",
    "bo.plot_convergence()"
   ]
  },
  {
   "cell_type": "code",
   "execution_count": null,
   "id": "85476ca0",
   "metadata": {},
   "outputs": [],
   "source": [
    "print(bo.x_opt)\n",
    "print(bo.fx_opt)"
   ]
  },
  {
   "cell_type": "code",
   "execution_count": null,
   "id": "ff407d42",
   "metadata": {},
   "outputs": [],
   "source": [
    "m1 = Model(resolution=res,boundary=boundary,N_feat=N_feat,noiseSD=noiseSD,kernel=kInverse,sensormodel=sensors,k_0=k_0,u=u,eta=eta) #Initiate new model for inference\n",
    "\n",
    "#Determine the subset where we are allowed to sample\n",
    "feasible_region = GPyOpt.Design_space(space = boundsKey, constraints = constraintsKey) \n",
    "initial_design = GPyOpt.experiment_design.initial_design('random', feasible_region, 10)\n",
    "\n",
    "#CHOOSE the objective\n",
    "objective = GPyOpt.core.task.SingleObjective(obj_funcKeyParams)\n",
    "\n",
    "# CHOOSE the model type\n",
    "model = GPyOpt.models.GPModel(exact_feval=True,optimize_restarts=10,verbose=False)\n",
    "\n",
    "#CHOOSE the acquisition optimizer\n",
    "aquisition_optimizer = GPyOpt.optimization.AcquisitionOptimizer(feasible_region)\n",
    "\n",
    "#CHOOSE the type of acquisition\n",
    "acquisition = GPyOpt.acquisitions.AcquisitionEI(model, feasible_region, optimizer=aquisition_optimizer)\n",
    "\n",
    "#CHOOSE a collection method\n",
    "evaluator = GPyOpt.core.evaluators.Sequential(acquisition)\n",
    "\n",
    "bo = GPyOpt.methods.ModularBayesianOptimization(model, feasible_region, objective, acquisition, evaluator, initial_design)"
   ]
  },
  {
   "cell_type": "code",
   "execution_count": null,
   "id": "13a939ae",
   "metadata": {
    "scrolled": true
   },
   "outputs": [],
   "source": [
    "# --- Stop conditions\n",
    "max_time  = None \n",
    "max_iter  = 100\n",
    "tolerance = 1e-8     # distance between two consecutive observations \n",
    "                     # if we're sampling a region in such fine detail then it is likely that we've found the true min.\n",
    "\n",
    "# Run the optimization                                                  \n",
    "bo.run_optimization(max_iter = max_iter, max_time = max_time, eps = tolerance, verbosity=False) \n",
    "bo.plot_convergence()"
   ]
  },
  {
   "cell_type": "code",
   "execution_count": null,
   "id": "bc7078b8",
   "metadata": {},
   "outputs": [],
   "source": [
    "print(bo.x_opt)\n",
    "print(bo.fx_opt)"
   ]
  },
  {
   "cell_type": "code",
   "execution_count": null,
   "id": "bf256abf",
   "metadata": {},
   "outputs": [],
   "source": [
    "m1 = Model(resolution=res,boundary=boundary,N_feat=N_feat,noiseSD=noiseSD,kernel=kInverse,sensormodel=sensors,k_0=k_0,u=u,eta=eta) #Initiate new model for inference\n",
    "\n",
    "#Determine the subset where we are allowed to sample\n",
    "feasible_region = GPyOpt.Design_space(space = boundsKernel) \n",
    "initial_design = GPyOpt.experiment_design.initial_design('random', feasible_region, 10)\n",
    "\n",
    "#CHOOSE the objective\n",
    "objective = GPyOpt.core.task.SingleObjective(obj_funcKernelParams)\n",
    "\n",
    "# CHOOSE the model type\n",
    "model = GPyOpt.models.GPModel(exact_feval=True,optimize_restarts=10,verbose=False)\n",
    "\n",
    "#CHOOSE the acquisition optimizer\n",
    "aquisition_optimizer = GPyOpt.optimization.AcquisitionOptimizer(feasible_region)\n",
    "\n",
    "#CHOOSE the type of acquisition\n",
    "acquisition = GPyOpt.acquisitions.AcquisitionEI(model, feasible_region, optimizer=aquisition_optimizer)\n",
    "\n",
    "#CHOOSE a collection method\n",
    "evaluator = GPyOpt.core.evaluators.Sequential(acquisition)\n",
    "\n",
    "# --- Stop conditions\n",
    "max_time  = None \n",
    "max_iter  = 100\n",
    "tolerance = 1e-8     # distance between two consecutive observations \n",
    "                     # if we're sampling a region in such fine detail then it is likely that we've found the true min.\n",
    "bo = GPyOpt.methods.ModularBayesianOptimization(model, feasible_region, objective, acquisition, evaluator, initial_design)\n",
    "# Run the optimization                                                  \n",
    "bo.run_optimization(max_iter = max_iter, max_time = max_time, eps = tolerance, verbosity=False) \n",
    "bo.plot_convergence()"
   ]
  },
  {
   "cell_type": "code",
   "execution_count": null,
   "id": "67fee355",
   "metadata": {},
   "outputs": [],
   "source": [
    "print(bo.x_opt)\n",
    "print(bo.fx_opt)"
   ]
  },
  {
   "cell_type": "code",
   "execution_count": null,
   "id": "db4ca29f",
   "metadata": {},
   "outputs": [],
   "source": [
    "mus = np.random.uniform(mInfer.coords[9],mInfer.coords[-1],100)\n",
    "mus\n"
   ]
  },
  {
   "cell_type": "code",
   "execution_count": null,
   "id": "6b060376",
   "metadata": {},
   "outputs": [],
   "source": [
    "def getPhi1DCompact(mu,self,coords):\n",
    "    \"\"\"\n",
    "    Generates a (N_feat,Nt) matrix of basis vectors using features from generateFeatures \n",
    "    Arguments:\n",
    "        coords: map of all (t) points in the grid\n",
    "    \"\"\"\n",
    "    \n",
    "\n",
    "    #We assume that we are using the e^-(1/2 * x^2/l^2) definition of the EQ kernel,\n",
    "    #(in Mauricio's definition he doesn't use the 1/2 factor - but that's less standard).\n",
    "    #c=np.sqrt(2.0)/(self.l2)\n",
    "    c=1/self.l2[0]\n",
    "    for mus in mu:\n",
    "        phi=(1/np.sqrt(2*self.sigma2*np.pi))*np.exp(-(1/(2*self.sigma2))*(2*(mus-np.array(coords))**2))\n",
    "        yield phi"
   ]
  },
  {
   "cell_type": "code",
   "execution_count": null,
   "id": "92efe8cb",
   "metadata": {},
   "outputs": [],
   "source": [
    "for phi in getPhi1DCompact(mus,mInfer.kernel,mInfer.coords):\n",
    "    plt.plot(phi)"
   ]
  },
  {
   "cell_type": "code",
   "execution_count": null,
   "id": "f0f0faa9",
   "metadata": {},
   "outputs": [],
   "source": []
  },
  {
   "cell_type": "code",
   "execution_count": null,
   "id": "da6f1e04",
   "metadata": {},
   "outputs": [],
   "source": []
  }
 ],
 "metadata": {
  "kernelspec": {
   "display_name": "Python 3",
   "language": "python",
   "name": "python3"
  },
  "language_info": {
   "codemirror_mode": {
    "name": "ipython",
    "version": 3
   },
   "file_extension": ".py",
   "mimetype": "text/x-python",
   "name": "python",
   "nbconvert_exporter": "python",
   "pygments_lexer": "ipython3",
   "version": "3.8.8"
  }
 },
 "nbformat": 4,
 "nbformat_minor": 5
}
